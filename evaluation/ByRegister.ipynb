{
 "cells": [
  {
   "cell_type": "code",
   "execution_count": 25,
   "metadata": {},
   "outputs": [
    {
     "name": "stdout",
     "output_type": "stream",
     "text": [
      "\n",
      "\u001b[1m[\u001b[0m\u001b[34;49mnotice\u001b[0m\u001b[1;39;49m]\u001b[0m\u001b[39;49m A new release of pip available: \u001b[0m\u001b[31;49m22.3.1\u001b[0m\u001b[39;49m -> \u001b[0m\u001b[32;49m25.2\u001b[0m\n",
      "\u001b[1m[\u001b[0m\u001b[34;49mnotice\u001b[0m\u001b[1;39;49m]\u001b[0m\u001b[39;49m To update, run: \u001b[0m\u001b[32;49mpip install --upgrade pip\u001b[0m\n",
      "\n",
      "\u001b[1m[\u001b[0m\u001b[34;49mnotice\u001b[0m\u001b[1;39;49m]\u001b[0m\u001b[39;49m A new release of pip available: \u001b[0m\u001b[31;49m22.3.1\u001b[0m\u001b[39;49m -> \u001b[0m\u001b[32;49m25.2\u001b[0m\n",
      "\u001b[1m[\u001b[0m\u001b[34;49mnotice\u001b[0m\u001b[1;39;49m]\u001b[0m\u001b[39;49m To update, run: \u001b[0m\u001b[32;49mpip install --upgrade pip\u001b[0m\n",
      "\n",
      "\u001b[1m[\u001b[0m\u001b[34;49mnotice\u001b[0m\u001b[1;39;49m]\u001b[0m\u001b[39;49m A new release of pip available: \u001b[0m\u001b[31;49m22.3.1\u001b[0m\u001b[39;49m -> \u001b[0m\u001b[32;49m25.2\u001b[0m\n",
      "\u001b[1m[\u001b[0m\u001b[34;49mnotice\u001b[0m\u001b[1;39;49m]\u001b[0m\u001b[39;49m To update, run: \u001b[0m\u001b[32;49mpip install --upgrade pip\u001b[0m\n"
     ]
    }
   ],
   "source": [
    "! pip -q install pandas plotly\n",
    "! pip -q install nbformat\n",
    "! pip -q install kaleido==0.2.1"
   ]
  },
  {
   "cell_type": "code",
   "execution_count": 26,
   "metadata": {},
   "outputs": [],
   "source": [
    "import pandas as pd\n",
    "import plotly.express as px\n",
    "import kaleido\n",
    "import plotly.graph_objects as go\n",
    "import plotly.colors as pc\n",
    "import glob\n",
    "import json\n",
    "from plotly.subplots import make_subplots\n",
    "import math\n",
    "import os\n",
    "import numpy as np\n",
    "import plotly.io as pio\n",
    "pio.kaleido.scope.mathjax = None"
   ]
  },
  {
   "cell_type": "code",
   "execution_count": 27,
   "metadata": {},
   "outputs": [
    {
     "name": "stdout",
     "output_type": "stream",
     "text": [
      "/bin/bash: plotly_get_chrome: command not found\n"
     ]
    }
   ],
   "source": [
    "! plotly_get_chrome"
   ]
  },
  {
   "cell_type": "markdown",
   "metadata": {},
   "source": [
    "# Reading the results"
   ]
  },
  {
   "cell_type": "code",
   "execution_count": 28,
   "metadata": {},
   "outputs": [],
   "source": [
    "result_files = glob.glob(\"eval_results/fineweb/*/*_iter_*/*.json\")\n",
    "#baseline_hptl2_dedup = glob.glob(\"/scratch/project_462000353/pyysalos/second-hplt-eval/eval_results/results/hplt_v2_dedup_iter_00*/*.json\")\n",
    "#baseline_fineweb = glob.glob(\"/scratch/project_462000353/pyysalos/second-hplt-eval/eval_results/results/fineweb_iter_00*/*.json\")\n",
    "\n",
    "tasks = {\"custom|arc:easy|0\":\"arc_easy\",\n",
    "         \"custom|arc:challenge|0\":\"arc_challenge\",\n",
    "         \"custom|hellaswag|0\":\"hellaswag\",\n",
    "         \"custom|commonsense_qa|0\": \"commonsense_qa\",\n",
    "         \"custom|openbookqa|0\": \"openbookqa\",\n",
    "         \"custom|piqa|0\": \"piqa\",\n",
    "         \"custom|siqa|0\": \"siqa\",\n",
    "         \"custom|mmlu:_average|0\": \"mmlu\",\n",
    "         \"custom|winogrande|0\": \"winogrande\",\n",
    "}\n",
    "\n"
   ]
  },
  {
   "cell_type": "code",
   "execution_count": 29,
   "metadata": {},
   "outputs": [],
   "source": [
    "def extract_results(result_files, recalc_mean=False):\n",
    "    data = []\n",
    "    for f in result_files:\n",
    "        splitted = f.split(\"/\")\n",
    "        #print(splitted)\n",
    "        register = splitted[-3] #splitted[-2].split(\"_iter_\")[0]\n",
    "        step = splitted[-2].split(\"_\")[-1] #splitted[-2].replace(f'{register}_iter_', \"\")\n",
    "        step=int(step)\n",
    "        #print(register)\n",
    "        #print(step)\n",
    "        with open(f, 'r') as result:\n",
    "            j = json.load(result)\n",
    "            results = {\"step\":int(step)}\n",
    "            if step > 50000:\n",
    "                continue\n",
    "            results_all = j[\"results\"][\"all\"]\n",
    "            results = {**results, **results_all}\n",
    "            for task, task_name in tasks.items():\n",
    "                r = {k+f\"_{task_name}\":v for k,v in j[\"results\"][task].items()}\n",
    "                results = {**results, **r}\n",
    "            #print(results)\n",
    "            df = pd.DataFrame.from_dict({register:{\"step\":int(step), **results}})\n",
    "            data.append(df.T)\n",
    "            #print(register, j[\"results\"][\"all\"])\n",
    "            #data[register] = {step: j[\"results\"][\"all\"]}\n",
    "\n",
    "    df = pd.concat(data)\n",
    "    df = df.reset_index()\n",
    "    df = df.rename(columns={\"index\":\"register\"})\n",
    "    # problem: step does not go to correct place on the plot\n",
    "    # sort it as numerical, then make it categorical so plotting works\n",
    "    # ordered=True does nothing here because plotly does not respect it; only sorting works\n",
    "    df=df.sort_values(\"step\")\n",
    "    df[\"tokens\"] = df[\"step\"]*2.1e6\n",
    "    #df[\"step\"] = pd.Categorical(df['step'], categories=sorted(df['step'].astype(int).unique()), ordered=True)\n",
    "    df[\"step\"]= df['step'].apply(lambda x: str(round(x)))\n",
    "    #df[\"tokens\"]= df['tokens'].apply(lambda x: millify(x))\n",
    "    if recalc_mean:\n",
    "        df[\"acc_norm_original\"] = df[\"acc_norm\"]\n",
    "        #df[\"acc_norm\"] = df[[\"acc_norm_hellaswag\", \"acc_norm_openbookqa\", \"acc_norm_piqa\", \"acc_norm_arc_easy\"]].mean(axis=1)\n",
    "        df[\"acc_norm\"] = df[[f\"acc_norm_{taskname}\" for taskname in tasks.values()]].mean(axis=1)\n",
    "        df[\"stderr_norm\"] = df[[f\"acc_norm_stderr_{taskname}\" for taskname in tasks.values()]].apply(lambda x: x**2).sum(axis=1)\n",
    "        df[\"stderr_norm\"] = df[\"stderr_norm\"].apply(lambda x: math.sqrt(x))\n",
    "    return df\n",
    "\n",
    "df1 = extract_results(result_files, recalc_mean=True)"
   ]
  },
  {
   "cell_type": "code",
   "execution_count": 30,
   "metadata": {},
   "outputs": [
    {
     "data": {
      "text/html": [
       "<div>\n",
       "<style scoped>\n",
       "    .dataframe tbody tr th:only-of-type {\n",
       "        vertical-align: middle;\n",
       "    }\n",
       "\n",
       "    .dataframe tbody tr th {\n",
       "        vertical-align: top;\n",
       "    }\n",
       "\n",
       "    .dataframe thead th {\n",
       "        text-align: right;\n",
       "    }\n",
       "</style>\n",
       "<table border=\"1\" class=\"dataframe\">\n",
       "  <thead>\n",
       "    <tr style=\"text-align: right;\">\n",
       "      <th></th>\n",
       "      <th>index</th>\n",
       "      <th>register</th>\n",
       "      <th>acc</th>\n",
       "      <th>acc_arc_challenge</th>\n",
       "      <th>acc_arc_easy</th>\n",
       "      <th>acc_commonsense_qa</th>\n",
       "      <th>acc_hellaswag</th>\n",
       "      <th>acc_mmlu</th>\n",
       "      <th>acc_norm</th>\n",
       "      <th>acc_norm_arc_challenge</th>\n",
       "      <th>...</th>\n",
       "      <th>acc_stderr_mmlu</th>\n",
       "      <th>acc_stderr_openbookqa</th>\n",
       "      <th>acc_stderr_piqa</th>\n",
       "      <th>acc_stderr_siqa</th>\n",
       "      <th>acc_stderr_winogrande</th>\n",
       "      <th>acc_winogrande</th>\n",
       "      <th>step</th>\n",
       "      <th>tokens</th>\n",
       "      <th>acc_norm_original</th>\n",
       "      <th>stderr_norm</th>\n",
       "    </tr>\n",
       "  </thead>\n",
       "  <tbody>\n",
       "    <tr>\n",
       "      <th>0</th>\n",
       "      <td>279</td>\n",
       "      <td>HI</td>\n",
       "      <td>0.245950</td>\n",
       "      <td>0.171</td>\n",
       "      <td>0.307</td>\n",
       "      <td>0.252</td>\n",
       "      <td>0.296</td>\n",
       "      <td>0.233294</td>\n",
       "      <td>0.351006</td>\n",
       "      <td>0.222</td>\n",
       "      <td>...</td>\n",
       "      <td>0.031361</td>\n",
       "      <td>0.016158</td>\n",
       "      <td>0.015071</td>\n",
       "      <td>0.015196</td>\n",
       "      <td>0.015819</td>\n",
       "      <td>0.496</td>\n",
       "      <td>1000</td>\n",
       "      <td>2.100000e+09</td>\n",
       "      <td>0.264036</td>\n",
       "      <td>0.054150</td>\n",
       "    </tr>\n",
       "    <tr>\n",
       "      <th>1</th>\n",
       "      <td>265</td>\n",
       "      <td>HI</td>\n",
       "      <td>0.252454</td>\n",
       "      <td>0.182</td>\n",
       "      <td>0.369</td>\n",
       "      <td>0.265</td>\n",
       "      <td>0.347</td>\n",
       "      <td>0.236395</td>\n",
       "      <td>0.377155</td>\n",
       "      <td>0.208</td>\n",
       "      <td>...</td>\n",
       "      <td>0.031445</td>\n",
       "      <td>0.016244</td>\n",
       "      <td>0.014633</td>\n",
       "      <td>0.015460</td>\n",
       "      <td>0.015787</td>\n",
       "      <td>0.532</td>\n",
       "      <td>2000</td>\n",
       "      <td>4.200000e+09</td>\n",
       "      <td>0.273118</td>\n",
       "      <td>0.054744</td>\n",
       "    </tr>\n",
       "    <tr>\n",
       "      <th>2</th>\n",
       "      <td>259</td>\n",
       "      <td>HI</td>\n",
       "      <td>0.257911</td>\n",
       "      <td>0.194</td>\n",
       "      <td>0.378</td>\n",
       "      <td>0.306</td>\n",
       "      <td>0.380</td>\n",
       "      <td>0.241425</td>\n",
       "      <td>0.388144</td>\n",
       "      <td>0.235</td>\n",
       "      <td>...</td>\n",
       "      <td>0.031593</td>\n",
       "      <td>0.016244</td>\n",
       "      <td>0.014356</td>\n",
       "      <td>0.015275</td>\n",
       "      <td>0.015817</td>\n",
       "      <td>0.509</td>\n",
       "      <td>3000</td>\n",
       "      <td>6.300000e+09</td>\n",
       "      <td>0.274549</td>\n",
       "      <td>0.054673</td>\n",
       "    </tr>\n",
       "    <tr>\n",
       "      <th>3</th>\n",
       "      <td>281</td>\n",
       "      <td>HI</td>\n",
       "      <td>0.258030</td>\n",
       "      <td>0.177</td>\n",
       "      <td>0.399</td>\n",
       "      <td>0.294</td>\n",
       "      <td>0.380</td>\n",
       "      <td>0.240596</td>\n",
       "      <td>0.400953</td>\n",
       "      <td>0.220</td>\n",
       "      <td>...</td>\n",
       "      <td>0.031554</td>\n",
       "      <td>0.016894</td>\n",
       "      <td>0.014013</td>\n",
       "      <td>0.015333</td>\n",
       "      <td>0.015796</td>\n",
       "      <td>0.527</td>\n",
       "      <td>4000</td>\n",
       "      <td>8.400000e+09</td>\n",
       "      <td>0.277428</td>\n",
       "      <td>0.055073</td>\n",
       "    </tr>\n",
       "    <tr>\n",
       "      <th>4</th>\n",
       "      <td>272</td>\n",
       "      <td>HI</td>\n",
       "      <td>0.260565</td>\n",
       "      <td>0.199</td>\n",
       "      <td>0.407</td>\n",
       "      <td>0.301</td>\n",
       "      <td>0.397</td>\n",
       "      <td>0.242293</td>\n",
       "      <td>0.406407</td>\n",
       "      <td>0.242</td>\n",
       "      <td>...</td>\n",
       "      <td>0.031707</td>\n",
       "      <td>0.016328</td>\n",
       "      <td>0.013825</td>\n",
       "      <td>0.015325</td>\n",
       "      <td>0.015755</td>\n",
       "      <td>0.545</td>\n",
       "      <td>5000</td>\n",
       "      <td>1.050000e+10</td>\n",
       "      <td>0.276535</td>\n",
       "      <td>0.054875</td>\n",
       "    </tr>\n",
       "    <tr>\n",
       "      <th>...</th>\n",
       "      <td>...</td>\n",
       "      <td>...</td>\n",
       "      <td>...</td>\n",
       "      <td>...</td>\n",
       "      <td>...</td>\n",
       "      <td>...</td>\n",
       "      <td>...</td>\n",
       "      <td>...</td>\n",
       "      <td>...</td>\n",
       "      <td>...</td>\n",
       "      <td>...</td>\n",
       "      <td>...</td>\n",
       "      <td>...</td>\n",
       "      <td>...</td>\n",
       "      <td>...</td>\n",
       "      <td>...</td>\n",
       "      <td>...</td>\n",
       "      <td>...</td>\n",
       "      <td>...</td>\n",
       "      <td>...</td>\n",
       "      <td>...</td>\n",
       "    </tr>\n",
       "    <tr>\n",
       "      <th>949</th>\n",
       "      <td>140</td>\n",
       "      <td>ne</td>\n",
       "      <td>0.284349</td>\n",
       "      <td>0.233</td>\n",
       "      <td>0.482</td>\n",
       "      <td>0.340</td>\n",
       "      <td>0.374</td>\n",
       "      <td>0.267398</td>\n",
       "      <td>0.411706</td>\n",
       "      <td>0.267</td>\n",
       "      <td>...</td>\n",
       "      <td>0.032736</td>\n",
       "      <td>0.018170</td>\n",
       "      <td>0.015130</td>\n",
       "      <td>0.015453</td>\n",
       "      <td>0.015685</td>\n",
       "      <td>0.565</td>\n",
       "      <td>46000</td>\n",
       "      <td>9.660000e+10</td>\n",
       "      <td>0.301991</td>\n",
       "      <td>0.056417</td>\n",
       "    </tr>\n",
       "    <tr>\n",
       "      <th>950</th>\n",
       "      <td>102</td>\n",
       "      <td>ne</td>\n",
       "      <td>0.283513</td>\n",
       "      <td>0.243</td>\n",
       "      <td>0.496</td>\n",
       "      <td>0.332</td>\n",
       "      <td>0.380</td>\n",
       "      <td>0.266409</td>\n",
       "      <td>0.414428</td>\n",
       "      <td>0.265</td>\n",
       "      <td>...</td>\n",
       "      <td>0.032717</td>\n",
       "      <td>0.017491</td>\n",
       "      <td>0.015241</td>\n",
       "      <td>0.015512</td>\n",
       "      <td>0.015672</td>\n",
       "      <td>0.568</td>\n",
       "      <td>47000</td>\n",
       "      <td>9.870000e+10</td>\n",
       "      <td>0.303657</td>\n",
       "      <td>0.056491</td>\n",
       "    </tr>\n",
       "    <tr>\n",
       "      <th>951</th>\n",
       "      <td>115</td>\n",
       "      <td>ne</td>\n",
       "      <td>0.287017</td>\n",
       "      <td>0.235</td>\n",
       "      <td>0.480</td>\n",
       "      <td>0.331</td>\n",
       "      <td>0.379</td>\n",
       "      <td>0.270230</td>\n",
       "      <td>0.414604</td>\n",
       "      <td>0.270</td>\n",
       "      <td>...</td>\n",
       "      <td>0.032892</td>\n",
       "      <td>0.018039</td>\n",
       "      <td>0.015081</td>\n",
       "      <td>0.015473</td>\n",
       "      <td>0.015631</td>\n",
       "      <td>0.577</td>\n",
       "      <td>48000</td>\n",
       "      <td>1.008000e+11</td>\n",
       "      <td>0.303319</td>\n",
       "      <td>0.056481</td>\n",
       "    </tr>\n",
       "    <tr>\n",
       "      <th>952</th>\n",
       "      <td>124</td>\n",
       "      <td>ne</td>\n",
       "      <td>0.284679</td>\n",
       "      <td>0.241</td>\n",
       "      <td>0.482</td>\n",
       "      <td>0.335</td>\n",
       "      <td>0.382</td>\n",
       "      <td>0.267915</td>\n",
       "      <td>0.416693</td>\n",
       "      <td>0.269</td>\n",
       "      <td>...</td>\n",
       "      <td>0.032804</td>\n",
       "      <td>0.017771</td>\n",
       "      <td>0.015177</td>\n",
       "      <td>0.015453</td>\n",
       "      <td>0.015693</td>\n",
       "      <td>0.563</td>\n",
       "      <td>49000</td>\n",
       "      <td>1.029000e+11</td>\n",
       "      <td>0.303435</td>\n",
       "      <td>0.056557</td>\n",
       "    </tr>\n",
       "    <tr>\n",
       "      <th>953</th>\n",
       "      <td>127</td>\n",
       "      <td>ne</td>\n",
       "      <td>0.284346</td>\n",
       "      <td>0.236</td>\n",
       "      <td>0.485</td>\n",
       "      <td>0.331</td>\n",
       "      <td>0.372</td>\n",
       "      <td>0.267851</td>\n",
       "      <td>0.417933</td>\n",
       "      <td>0.280</td>\n",
       "      <td>...</td>\n",
       "      <td>0.032775</td>\n",
       "      <td>0.017771</td>\n",
       "      <td>0.015120</td>\n",
       "      <td>0.015460</td>\n",
       "      <td>0.015727</td>\n",
       "      <td>0.554</td>\n",
       "      <td>50000</td>\n",
       "      <td>1.050000e+11</td>\n",
       "      <td>0.304612</td>\n",
       "      <td>0.056620</td>\n",
       "    </tr>\n",
       "  </tbody>\n",
       "</table>\n",
       "<p>954 rows × 46 columns</p>\n",
       "</div>"
      ],
      "text/plain": [
       "     index register       acc  acc_arc_challenge  acc_arc_easy  \\\n",
       "0      279       HI  0.245950              0.171         0.307   \n",
       "1      265       HI  0.252454              0.182         0.369   \n",
       "2      259       HI  0.257911              0.194         0.378   \n",
       "3      281       HI  0.258030              0.177         0.399   \n",
       "4      272       HI  0.260565              0.199         0.407   \n",
       "..     ...      ...       ...                ...           ...   \n",
       "949    140       ne  0.284349              0.233         0.482   \n",
       "950    102       ne  0.283513              0.243         0.496   \n",
       "951    115       ne  0.287017              0.235         0.480   \n",
       "952    124       ne  0.284679              0.241         0.482   \n",
       "953    127       ne  0.284346              0.236         0.485   \n",
       "\n",
       "     acc_commonsense_qa  acc_hellaswag  acc_mmlu  acc_norm  \\\n",
       "0                 0.252          0.296  0.233294  0.351006   \n",
       "1                 0.265          0.347  0.236395  0.377155   \n",
       "2                 0.306          0.380  0.241425  0.388144   \n",
       "3                 0.294          0.380  0.240596  0.400953   \n",
       "4                 0.301          0.397  0.242293  0.406407   \n",
       "..                  ...            ...       ...       ...   \n",
       "949               0.340          0.374  0.267398  0.411706   \n",
       "950               0.332          0.380  0.266409  0.414428   \n",
       "951               0.331          0.379  0.270230  0.414604   \n",
       "952               0.335          0.382  0.267915  0.416693   \n",
       "953               0.331          0.372  0.267851  0.417933   \n",
       "\n",
       "     acc_norm_arc_challenge  ...  acc_stderr_mmlu  acc_stderr_openbookqa  \\\n",
       "0                     0.222  ...         0.031361               0.016158   \n",
       "1                     0.208  ...         0.031445               0.016244   \n",
       "2                     0.235  ...         0.031593               0.016244   \n",
       "3                     0.220  ...         0.031554               0.016894   \n",
       "4                     0.242  ...         0.031707               0.016328   \n",
       "..                      ...  ...              ...                    ...   \n",
       "949                   0.267  ...         0.032736               0.018170   \n",
       "950                   0.265  ...         0.032717               0.017491   \n",
       "951                   0.270  ...         0.032892               0.018039   \n",
       "952                   0.269  ...         0.032804               0.017771   \n",
       "953                   0.280  ...         0.032775               0.017771   \n",
       "\n",
       "     acc_stderr_piqa  acc_stderr_siqa  acc_stderr_winogrande  acc_winogrande  \\\n",
       "0           0.015071         0.015196               0.015819           0.496   \n",
       "1           0.014633         0.015460               0.015787           0.532   \n",
       "2           0.014356         0.015275               0.015817           0.509   \n",
       "3           0.014013         0.015333               0.015796           0.527   \n",
       "4           0.013825         0.015325               0.015755           0.545   \n",
       "..               ...              ...                    ...             ...   \n",
       "949         0.015130         0.015453               0.015685           0.565   \n",
       "950         0.015241         0.015512               0.015672           0.568   \n",
       "951         0.015081         0.015473               0.015631           0.577   \n",
       "952         0.015177         0.015453               0.015693           0.563   \n",
       "953         0.015120         0.015460               0.015727           0.554   \n",
       "\n",
       "      step        tokens  acc_norm_original  stderr_norm  \n",
       "0     1000  2.100000e+09           0.264036     0.054150  \n",
       "1     2000  4.200000e+09           0.273118     0.054744  \n",
       "2     3000  6.300000e+09           0.274549     0.054673  \n",
       "3     4000  8.400000e+09           0.277428     0.055073  \n",
       "4     5000  1.050000e+10           0.276535     0.054875  \n",
       "..     ...           ...                ...          ...  \n",
       "949  46000  9.660000e+10           0.301991     0.056417  \n",
       "950  47000  9.870000e+10           0.303657     0.056491  \n",
       "951  48000  1.008000e+11           0.303319     0.056481  \n",
       "952  49000  1.029000e+11           0.303435     0.056557  \n",
       "953  50000  1.050000e+11           0.304612     0.056620  \n",
       "\n",
       "[954 rows x 46 columns]"
      ]
     },
     "metadata": {},
     "output_type": "display_data"
    },
    {
     "name": "stdout",
     "output_type": "stream",
     "text": [
      "Index(['index', 'register', 'acc', 'acc_arc_challenge', 'acc_arc_easy',\n",
      "       'acc_commonsense_qa', 'acc_hellaswag', 'acc_mmlu', 'acc_norm',\n",
      "       'acc_norm_arc_challenge', 'acc_norm_arc_easy',\n",
      "       'acc_norm_commonsense_qa', 'acc_norm_hellaswag', 'acc_norm_mmlu',\n",
      "       'acc_norm_openbookqa', 'acc_norm_piqa', 'acc_norm_siqa',\n",
      "       'acc_norm_stderr', 'acc_norm_stderr_arc_challenge',\n",
      "       'acc_norm_stderr_arc_easy', 'acc_norm_stderr_commonsense_qa',\n",
      "       'acc_norm_stderr_hellaswag', 'acc_norm_stderr_mmlu',\n",
      "       'acc_norm_stderr_openbookqa', 'acc_norm_stderr_piqa',\n",
      "       'acc_norm_stderr_siqa', 'acc_norm_stderr_winogrande',\n",
      "       'acc_norm_winogrande', 'acc_openbookqa', 'acc_piqa', 'acc_siqa',\n",
      "       'acc_stderr', 'acc_stderr_arc_challenge', 'acc_stderr_arc_easy',\n",
      "       'acc_stderr_commonsense_qa', 'acc_stderr_hellaswag', 'acc_stderr_mmlu',\n",
      "       'acc_stderr_openbookqa', 'acc_stderr_piqa', 'acc_stderr_siqa',\n",
      "       'acc_stderr_winogrande', 'acc_winogrande', 'step', 'tokens',\n",
      "       'acc_norm_original', 'stderr_norm'],\n",
      "      dtype='object')\n"
     ]
    },
    {
     "data": {
      "text/html": [
       "<div>\n",
       "<style scoped>\n",
       "    .dataframe tbody tr th:only-of-type {\n",
       "        vertical-align: middle;\n",
       "    }\n",
       "\n",
       "    .dataframe tbody tr th {\n",
       "        vertical-align: top;\n",
       "    }\n",
       "\n",
       "    .dataframe thead th {\n",
       "        text-align: right;\n",
       "    }\n",
       "</style>\n",
       "<table border=\"1\" class=\"dataframe\">\n",
       "  <thead>\n",
       "    <tr style=\"text-align: right;\">\n",
       "      <th></th>\n",
       "      <th>index</th>\n",
       "      <th>register</th>\n",
       "      <th>acc</th>\n",
       "      <th>acc_arc_challenge</th>\n",
       "      <th>acc_arc_easy</th>\n",
       "      <th>acc_commonsense_qa</th>\n",
       "      <th>acc_hellaswag</th>\n",
       "      <th>acc_mmlu</th>\n",
       "      <th>acc_norm</th>\n",
       "      <th>acc_norm_arc_challenge</th>\n",
       "      <th>...</th>\n",
       "      <th>acc_stderr_mmlu</th>\n",
       "      <th>acc_stderr_openbookqa</th>\n",
       "      <th>acc_stderr_piqa</th>\n",
       "      <th>acc_stderr_siqa</th>\n",
       "      <th>acc_stderr_winogrande</th>\n",
       "      <th>acc_winogrande</th>\n",
       "      <th>step</th>\n",
       "      <th>tokens</th>\n",
       "      <th>acc_norm_original</th>\n",
       "      <th>stderr_norm</th>\n",
       "    </tr>\n",
       "  </thead>\n",
       "  <tbody>\n",
       "    <tr>\n",
       "      <th>405</th>\n",
       "      <td>604</td>\n",
       "      <td>IN</td>\n",
       "      <td>0.255274</td>\n",
       "      <td>0.161</td>\n",
       "      <td>0.377</td>\n",
       "      <td>0.231</td>\n",
       "      <td>0.281</td>\n",
       "      <td>0.244611</td>\n",
       "      <td>0.344821</td>\n",
       "      <td>0.209</td>\n",
       "      <td>...</td>\n",
       "      <td>0.031830</td>\n",
       "      <td>0.015807</td>\n",
       "      <td>0.015654</td>\n",
       "      <td>0.015091</td>\n",
       "      <td>0.015787</td>\n",
       "      <td>0.532</td>\n",
       "      <td>1000</td>\n",
       "      <td>2.100000e+09</td>\n",
       "      <td>0.270357</td>\n",
       "      <td>0.054767</td>\n",
       "    </tr>\n",
       "    <tr>\n",
       "      <th>406</th>\n",
       "      <td>619</td>\n",
       "      <td>IN</td>\n",
       "      <td>0.268975</td>\n",
       "      <td>0.196</td>\n",
       "      <td>0.437</td>\n",
       "      <td>0.269</td>\n",
       "      <td>0.305</td>\n",
       "      <td>0.257200</td>\n",
       "      <td>0.367394</td>\n",
       "      <td>0.238</td>\n",
       "      <td>...</td>\n",
       "      <td>0.032384</td>\n",
       "      <td>0.015717</td>\n",
       "      <td>0.015600</td>\n",
       "      <td>0.015309</td>\n",
       "      <td>0.015812</td>\n",
       "      <td>0.515</td>\n",
       "      <td>2000</td>\n",
       "      <td>4.200000e+09</td>\n",
       "      <td>0.284817</td>\n",
       "      <td>0.055535</td>\n",
       "    </tr>\n",
       "    <tr>\n",
       "      <th>407</th>\n",
       "      <td>600</td>\n",
       "      <td>IN</td>\n",
       "      <td>0.275709</td>\n",
       "      <td>0.204</td>\n",
       "      <td>0.479</td>\n",
       "      <td>0.283</td>\n",
       "      <td>0.324</td>\n",
       "      <td>0.263703</td>\n",
       "      <td>0.379695</td>\n",
       "      <td>0.257</td>\n",
       "      <td>...</td>\n",
       "      <td>0.032648</td>\n",
       "      <td>0.015440</td>\n",
       "      <td>0.015561</td>\n",
       "      <td>0.015101</td>\n",
       "      <td>0.015805</td>\n",
       "      <td>0.521</td>\n",
       "      <td>3000</td>\n",
       "      <td>6.300000e+09</td>\n",
       "      <td>0.292302</td>\n",
       "      <td>0.055902</td>\n",
       "    </tr>\n",
       "    <tr>\n",
       "      <th>408</th>\n",
       "      <td>621</td>\n",
       "      <td>IN</td>\n",
       "      <td>0.278320</td>\n",
       "      <td>0.210</td>\n",
       "      <td>0.476</td>\n",
       "      <td>0.284</td>\n",
       "      <td>0.331</td>\n",
       "      <td>0.265593</td>\n",
       "      <td>0.388786</td>\n",
       "      <td>0.253</td>\n",
       "      <td>...</td>\n",
       "      <td>0.032748</td>\n",
       "      <td>0.016072</td>\n",
       "      <td>0.015480</td>\n",
       "      <td>0.015232</td>\n",
       "      <td>0.015789</td>\n",
       "      <td>0.531</td>\n",
       "      <td>4000</td>\n",
       "      <td>8.400000e+09</td>\n",
       "      <td>0.296850</td>\n",
       "      <td>0.056130</td>\n",
       "    </tr>\n",
       "    <tr>\n",
       "      <th>409</th>\n",
       "      <td>620</td>\n",
       "      <td>IN</td>\n",
       "      <td>0.278320</td>\n",
       "      <td>0.210</td>\n",
       "      <td>0.476</td>\n",
       "      <td>0.284</td>\n",
       "      <td>0.331</td>\n",
       "      <td>0.265593</td>\n",
       "      <td>0.388786</td>\n",
       "      <td>0.253</td>\n",
       "      <td>...</td>\n",
       "      <td>0.032748</td>\n",
       "      <td>0.016072</td>\n",
       "      <td>0.015480</td>\n",
       "      <td>0.015232</td>\n",
       "      <td>0.015789</td>\n",
       "      <td>0.531</td>\n",
       "      <td>4000</td>\n",
       "      <td>8.400000e+09</td>\n",
       "      <td>0.296850</td>\n",
       "      <td>0.056130</td>\n",
       "    </tr>\n",
       "    <tr>\n",
       "      <th>410</th>\n",
       "      <td>631</td>\n",
       "      <td>IN</td>\n",
       "      <td>0.279271</td>\n",
       "      <td>0.219</td>\n",
       "      <td>0.492</td>\n",
       "      <td>0.309</td>\n",
       "      <td>0.340</td>\n",
       "      <td>0.265011</td>\n",
       "      <td>0.398560</td>\n",
       "      <td>0.251</td>\n",
       "      <td>...</td>\n",
       "      <td>0.032551</td>\n",
       "      <td>0.016328</td>\n",
       "      <td>0.015365</td>\n",
       "      <td>0.015275</td>\n",
       "      <td>0.015769</td>\n",
       "      <td>0.540</td>\n",
       "      <td>5000</td>\n",
       "      <td>1.050000e+10</td>\n",
       "      <td>0.301617</td>\n",
       "      <td>0.056313</td>\n",
       "    </tr>\n",
       "    <tr>\n",
       "      <th>411</th>\n",
       "      <td>599</td>\n",
       "      <td>IN</td>\n",
       "      <td>0.288370</td>\n",
       "      <td>0.233</td>\n",
       "      <td>0.521</td>\n",
       "      <td>0.309</td>\n",
       "      <td>0.342</td>\n",
       "      <td>0.274299</td>\n",
       "      <td>0.401605</td>\n",
       "      <td>0.253</td>\n",
       "      <td>...</td>\n",
       "      <td>0.033144</td>\n",
       "      <td>0.016816</td>\n",
       "      <td>0.015325</td>\n",
       "      <td>0.015325</td>\n",
       "      <td>0.015783</td>\n",
       "      <td>0.534</td>\n",
       "      <td>6000</td>\n",
       "      <td>1.260000e+10</td>\n",
       "      <td>0.306699</td>\n",
       "      <td>0.056503</td>\n",
       "    </tr>\n",
       "    <tr>\n",
       "      <th>412</th>\n",
       "      <td>630</td>\n",
       "      <td>IN</td>\n",
       "      <td>0.291216</td>\n",
       "      <td>0.243</td>\n",
       "      <td>0.516</td>\n",
       "      <td>0.323</td>\n",
       "      <td>0.343</td>\n",
       "      <td>0.277896</td>\n",
       "      <td>0.407192</td>\n",
       "      <td>0.257</td>\n",
       "      <td>...</td>\n",
       "      <td>0.033080</td>\n",
       "      <td>0.016657</td>\n",
       "      <td>0.015325</td>\n",
       "      <td>0.015196</td>\n",
       "      <td>0.015814</td>\n",
       "      <td>0.513</td>\n",
       "      <td>7000</td>\n",
       "      <td>1.470000e+10</td>\n",
       "      <td>0.309437</td>\n",
       "      <td>0.056540</td>\n",
       "    </tr>\n",
       "    <tr>\n",
       "      <th>413</th>\n",
       "      <td>632</td>\n",
       "      <td>IN</td>\n",
       "      <td>0.292845</td>\n",
       "      <td>0.239</td>\n",
       "      <td>0.544</td>\n",
       "      <td>0.332</td>\n",
       "      <td>0.345</td>\n",
       "      <td>0.278368</td>\n",
       "      <td>0.410241</td>\n",
       "      <td>0.275</td>\n",
       "      <td>...</td>\n",
       "      <td>0.033142</td>\n",
       "      <td>0.016737</td>\n",
       "      <td>0.015258</td>\n",
       "      <td>0.015388</td>\n",
       "      <td>0.015801</td>\n",
       "      <td>0.524</td>\n",
       "      <td>8000</td>\n",
       "      <td>1.680000e+10</td>\n",
       "      <td>0.311963</td>\n",
       "      <td>0.056580</td>\n",
       "    </tr>\n",
       "    <tr>\n",
       "      <th>414</th>\n",
       "      <td>625</td>\n",
       "      <td>IN</td>\n",
       "      <td>0.291391</td>\n",
       "      <td>0.234</td>\n",
       "      <td>0.547</td>\n",
       "      <td>0.339</td>\n",
       "      <td>0.364</td>\n",
       "      <td>0.276621</td>\n",
       "      <td>0.413378</td>\n",
       "      <td>0.263</td>\n",
       "      <td>...</td>\n",
       "      <td>0.033058</td>\n",
       "      <td>0.016412</td>\n",
       "      <td>0.015300</td>\n",
       "      <td>0.015317</td>\n",
       "      <td>0.015796</td>\n",
       "      <td>0.527</td>\n",
       "      <td>9000</td>\n",
       "      <td>1.890000e+10</td>\n",
       "      <td>0.316048</td>\n",
       "      <td>0.056750</td>\n",
       "    </tr>\n",
       "    <tr>\n",
       "      <th>415</th>\n",
       "      <td>643</td>\n",
       "      <td>IN</td>\n",
       "      <td>0.294290</td>\n",
       "      <td>0.234</td>\n",
       "      <td>0.568</td>\n",
       "      <td>0.332</td>\n",
       "      <td>0.360</td>\n",
       "      <td>0.279366</td>\n",
       "      <td>0.417831</td>\n",
       "      <td>0.273</td>\n",
       "      <td>...</td>\n",
       "      <td>0.033165</td>\n",
       "      <td>0.016576</td>\n",
       "      <td>0.015159</td>\n",
       "      <td>0.015417</td>\n",
       "      <td>0.015811</td>\n",
       "      <td>0.516</td>\n",
       "      <td>10000</td>\n",
       "      <td>2.100000e+10</td>\n",
       "      <td>0.315006</td>\n",
       "      <td>0.056725</td>\n",
       "    </tr>\n",
       "    <tr>\n",
       "      <th>416</th>\n",
       "      <td>622</td>\n",
       "      <td>IN</td>\n",
       "      <td>0.298723</td>\n",
       "      <td>0.251</td>\n",
       "      <td>0.558</td>\n",
       "      <td>0.334</td>\n",
       "      <td>0.369</td>\n",
       "      <td>0.283736</td>\n",
       "      <td>0.419630</td>\n",
       "      <td>0.271</td>\n",
       "      <td>...</td>\n",
       "      <td>0.033332</td>\n",
       "      <td>0.016576</td>\n",
       "      <td>0.015040</td>\n",
       "      <td>0.015395</td>\n",
       "      <td>0.015794</td>\n",
       "      <td>0.528</td>\n",
       "      <td>11000</td>\n",
       "      <td>2.310000e+10</td>\n",
       "      <td>0.318003</td>\n",
       "      <td>0.056744</td>\n",
       "    </tr>\n",
       "    <tr>\n",
       "      <th>417</th>\n",
       "      <td>645</td>\n",
       "      <td>IN</td>\n",
       "      <td>0.298301</td>\n",
       "      <td>0.260</td>\n",
       "      <td>0.558</td>\n",
       "      <td>0.334</td>\n",
       "      <td>0.370</td>\n",
       "      <td>0.282325</td>\n",
       "      <td>0.424243</td>\n",
       "      <td>0.282</td>\n",
       "      <td>...</td>\n",
       "      <td>0.033236</td>\n",
       "      <td>0.017491</td>\n",
       "      <td>0.014877</td>\n",
       "      <td>0.015473</td>\n",
       "      <td>0.015805</td>\n",
       "      <td>0.521</td>\n",
       "      <td>12000</td>\n",
       "      <td>2.520000e+10</td>\n",
       "      <td>0.318227</td>\n",
       "      <td>0.056770</td>\n",
       "    </tr>\n",
       "    <tr>\n",
       "      <th>418</th>\n",
       "      <td>628</td>\n",
       "      <td>IN</td>\n",
       "      <td>0.296155</td>\n",
       "      <td>0.266</td>\n",
       "      <td>0.547</td>\n",
       "      <td>0.334</td>\n",
       "      <td>0.361</td>\n",
       "      <td>0.280861</td>\n",
       "      <td>0.423063</td>\n",
       "      <td>0.290</td>\n",
       "      <td>...</td>\n",
       "      <td>0.033220</td>\n",
       "      <td>0.017124</td>\n",
       "      <td>0.015071</td>\n",
       "      <td>0.015395</td>\n",
       "      <td>0.015809</td>\n",
       "      <td>0.518</td>\n",
       "      <td>13000</td>\n",
       "      <td>2.730000e+10</td>\n",
       "      <td>0.319254</td>\n",
       "      <td>0.056962</td>\n",
       "    </tr>\n",
       "    <tr>\n",
       "      <th>419</th>\n",
       "      <td>648</td>\n",
       "      <td>IN</td>\n",
       "      <td>0.302134</td>\n",
       "      <td>0.271</td>\n",
       "      <td>0.558</td>\n",
       "      <td>0.350</td>\n",
       "      <td>0.369</td>\n",
       "      <td>0.286556</td>\n",
       "      <td>0.424617</td>\n",
       "      <td>0.274</td>\n",
       "      <td>...</td>\n",
       "      <td>0.033480</td>\n",
       "      <td>0.017632</td>\n",
       "      <td>0.015009</td>\n",
       "      <td>0.015388</td>\n",
       "      <td>0.015803</td>\n",
       "      <td>0.523</td>\n",
       "      <td>14000</td>\n",
       "      <td>2.940000e+10</td>\n",
       "      <td>0.320314</td>\n",
       "      <td>0.056711</td>\n",
       "    </tr>\n",
       "    <tr>\n",
       "      <th>420</th>\n",
       "      <td>634</td>\n",
       "      <td>IN</td>\n",
       "      <td>0.302542</td>\n",
       "      <td>0.270</td>\n",
       "      <td>0.587</td>\n",
       "      <td>0.345</td>\n",
       "      <td>0.381</td>\n",
       "      <td>0.286425</td>\n",
       "      <td>0.431411</td>\n",
       "      <td>0.297</td>\n",
       "      <td>...</td>\n",
       "      <td>0.033394</td>\n",
       "      <td>0.017562</td>\n",
       "      <td>0.015050</td>\n",
       "      <td>0.015388</td>\n",
       "      <td>0.015794</td>\n",
       "      <td>0.528</td>\n",
       "      <td>15000</td>\n",
       "      <td>3.150000e+10</td>\n",
       "      <td>0.323109</td>\n",
       "      <td>0.057019</td>\n",
       "    </tr>\n",
       "    <tr>\n",
       "      <th>421</th>\n",
       "      <td>612</td>\n",
       "      <td>IN</td>\n",
       "      <td>0.302984</td>\n",
       "      <td>0.260</td>\n",
       "      <td>0.557</td>\n",
       "      <td>0.342</td>\n",
       "      <td>0.375</td>\n",
       "      <td>0.287070</td>\n",
       "      <td>0.427732</td>\n",
       "      <td>0.281</td>\n",
       "      <td>...</td>\n",
       "      <td>0.033436</td>\n",
       "      <td>0.018039</td>\n",
       "      <td>0.015009</td>\n",
       "      <td>0.015519</td>\n",
       "      <td>0.015787</td>\n",
       "      <td>0.532</td>\n",
       "      <td>16000</td>\n",
       "      <td>3.360000e+10</td>\n",
       "      <td>0.324222</td>\n",
       "      <td>0.056923</td>\n",
       "    </tr>\n",
       "    <tr>\n",
       "      <th>422</th>\n",
       "      <td>633</td>\n",
       "      <td>IN</td>\n",
       "      <td>0.307190</td>\n",
       "      <td>0.269</td>\n",
       "      <td>0.579</td>\n",
       "      <td>0.348</td>\n",
       "      <td>0.374</td>\n",
       "      <td>0.291498</td>\n",
       "      <td>0.432438</td>\n",
       "      <td>0.286</td>\n",
       "      <td>...</td>\n",
       "      <td>0.033615</td>\n",
       "      <td>0.017199</td>\n",
       "      <td>0.014819</td>\n",
       "      <td>0.015506</td>\n",
       "      <td>0.015798</td>\n",
       "      <td>0.526</td>\n",
       "      <td>17000</td>\n",
       "      <td>3.570000e+10</td>\n",
       "      <td>0.327761</td>\n",
       "      <td>0.056948</td>\n",
       "    </tr>\n",
       "    <tr>\n",
       "      <th>423</th>\n",
       "      <td>602</td>\n",
       "      <td>IN</td>\n",
       "      <td>0.306653</td>\n",
       "      <td>0.277</td>\n",
       "      <td>0.574</td>\n",
       "      <td>0.356</td>\n",
       "      <td>0.375</td>\n",
       "      <td>0.291376</td>\n",
       "      <td>0.432471</td>\n",
       "      <td>0.298</td>\n",
       "      <td>...</td>\n",
       "      <td>0.033536</td>\n",
       "      <td>0.017491</td>\n",
       "      <td>0.015101</td>\n",
       "      <td>0.015388</td>\n",
       "      <td>0.015805</td>\n",
       "      <td>0.521</td>\n",
       "      <td>18000</td>\n",
       "      <td>3.780000e+10</td>\n",
       "      <td>0.328026</td>\n",
       "      <td>0.057213</td>\n",
       "    </tr>\n",
       "    <tr>\n",
       "      <th>424</th>\n",
       "      <td>641</td>\n",
       "      <td>IN</td>\n",
       "      <td>0.311798</td>\n",
       "      <td>0.269</td>\n",
       "      <td>0.571</td>\n",
       "      <td>0.356</td>\n",
       "      <td>0.374</td>\n",
       "      <td>0.297051</td>\n",
       "      <td>0.430260</td>\n",
       "      <td>0.294</td>\n",
       "      <td>...</td>\n",
       "      <td>0.033811</td>\n",
       "      <td>0.017273</td>\n",
       "      <td>0.014998</td>\n",
       "      <td>0.015425</td>\n",
       "      <td>0.015780</td>\n",
       "      <td>0.535</td>\n",
       "      <td>19000</td>\n",
       "      <td>3.990000e+10</td>\n",
       "      <td>0.332117</td>\n",
       "      <td>0.057266</td>\n",
       "    </tr>\n",
       "    <tr>\n",
       "      <th>425</th>\n",
       "      <td>638</td>\n",
       "      <td>IN</td>\n",
       "      <td>0.303247</td>\n",
       "      <td>0.269</td>\n",
       "      <td>0.571</td>\n",
       "      <td>0.364</td>\n",
       "      <td>0.377</td>\n",
       "      <td>0.287527</td>\n",
       "      <td>0.430629</td>\n",
       "      <td>0.293</td>\n",
       "      <td>...</td>\n",
       "      <td>0.033441</td>\n",
       "      <td>0.017124</td>\n",
       "      <td>0.015071</td>\n",
       "      <td>0.015432</td>\n",
       "      <td>0.015805</td>\n",
       "      <td>0.521</td>\n",
       "      <td>20000</td>\n",
       "      <td>4.200000e+10</td>\n",
       "      <td>0.331582</td>\n",
       "      <td>0.057169</td>\n",
       "    </tr>\n",
       "    <tr>\n",
       "      <th>426</th>\n",
       "      <td>624</td>\n",
       "      <td>IN</td>\n",
       "      <td>0.311884</td>\n",
       "      <td>0.297</td>\n",
       "      <td>0.578</td>\n",
       "      <td>0.354</td>\n",
       "      <td>0.381</td>\n",
       "      <td>0.296447</td>\n",
       "      <td>0.434635</td>\n",
       "      <td>0.294</td>\n",
       "      <td>...</td>\n",
       "      <td>0.033748</td>\n",
       "      <td>0.017346</td>\n",
       "      <td>0.015040</td>\n",
       "      <td>0.015395</td>\n",
       "      <td>0.015766</td>\n",
       "      <td>0.541</td>\n",
       "      <td>21000</td>\n",
       "      <td>4.410000e+10</td>\n",
       "      <td>0.331317</td>\n",
       "      <td>0.057117</td>\n",
       "    </tr>\n",
       "    <tr>\n",
       "      <th>427</th>\n",
       "      <td>606</td>\n",
       "      <td>IN</td>\n",
       "      <td>0.311779</td>\n",
       "      <td>0.267</td>\n",
       "      <td>0.583</td>\n",
       "      <td>0.354</td>\n",
       "      <td>0.372</td>\n",
       "      <td>0.297169</td>\n",
       "      <td>0.435196</td>\n",
       "      <td>0.300</td>\n",
       "      <td>...</td>\n",
       "      <td>0.033763</td>\n",
       "      <td>0.017048</td>\n",
       "      <td>0.015040</td>\n",
       "      <td>0.015432</td>\n",
       "      <td>0.015791</td>\n",
       "      <td>0.530</td>\n",
       "      <td>22000</td>\n",
       "      <td>4.620000e+10</td>\n",
       "      <td>0.330579</td>\n",
       "      <td>0.057125</td>\n",
       "    </tr>\n",
       "    <tr>\n",
       "      <th>428</th>\n",
       "      <td>609</td>\n",
       "      <td>IN</td>\n",
       "      <td>0.313001</td>\n",
       "      <td>0.271</td>\n",
       "      <td>0.568</td>\n",
       "      <td>0.347</td>\n",
       "      <td>0.383</td>\n",
       "      <td>0.298264</td>\n",
       "      <td>0.433738</td>\n",
       "      <td>0.293</td>\n",
       "      <td>...</td>\n",
       "      <td>0.033846</td>\n",
       "      <td>0.017771</td>\n",
       "      <td>0.015030</td>\n",
       "      <td>0.015493</td>\n",
       "      <td>0.015801</td>\n",
       "      <td>0.524</td>\n",
       "      <td>23000</td>\n",
       "      <td>4.830000e+10</td>\n",
       "      <td>0.331993</td>\n",
       "      <td>0.057220</td>\n",
       "    </tr>\n",
       "    <tr>\n",
       "      <th>429</th>\n",
       "      <td>615</td>\n",
       "      <td>IN</td>\n",
       "      <td>0.310441</td>\n",
       "      <td>0.300</td>\n",
       "      <td>0.583</td>\n",
       "      <td>0.358</td>\n",
       "      <td>0.383</td>\n",
       "      <td>0.293836</td>\n",
       "      <td>0.441484</td>\n",
       "      <td>0.312</td>\n",
       "      <td>...</td>\n",
       "      <td>0.033656</td>\n",
       "      <td>0.018170</td>\n",
       "      <td>0.014998</td>\n",
       "      <td>0.015500</td>\n",
       "      <td>0.015771</td>\n",
       "      <td>0.539</td>\n",
       "      <td>24000</td>\n",
       "      <td>5.040000e+10</td>\n",
       "      <td>0.331957</td>\n",
       "      <td>0.057162</td>\n",
       "    </tr>\n",
       "    <tr>\n",
       "      <th>430</th>\n",
       "      <td>636</td>\n",
       "      <td>IN</td>\n",
       "      <td>0.311593</td>\n",
       "      <td>0.276</td>\n",
       "      <td>0.569</td>\n",
       "      <td>0.358</td>\n",
       "      <td>0.382</td>\n",
       "      <td>0.296202</td>\n",
       "      <td>0.434821</td>\n",
       "      <td>0.297</td>\n",
       "      <td>...</td>\n",
       "      <td>0.033793</td>\n",
       "      <td>0.017632</td>\n",
       "      <td>0.014842</td>\n",
       "      <td>0.015403</td>\n",
       "      <td>0.015783</td>\n",
       "      <td>0.534</td>\n",
       "      <td>25000</td>\n",
       "      <td>5.250000e+10</td>\n",
       "      <td>0.335372</td>\n",
       "      <td>0.057288</td>\n",
       "    </tr>\n",
       "    <tr>\n",
       "      <th>431</th>\n",
       "      <td>617</td>\n",
       "      <td>IN</td>\n",
       "      <td>0.315602</td>\n",
       "      <td>0.292</td>\n",
       "      <td>0.598</td>\n",
       "      <td>0.363</td>\n",
       "      <td>0.388</td>\n",
       "      <td>0.299967</td>\n",
       "      <td>0.439453</td>\n",
       "      <td>0.310</td>\n",
       "      <td>...</td>\n",
       "      <td>0.033884</td>\n",
       "      <td>0.017839</td>\n",
       "      <td>0.014933</td>\n",
       "      <td>0.015417</td>\n",
       "      <td>0.015801</td>\n",
       "      <td>0.524</td>\n",
       "      <td>26000</td>\n",
       "      <td>5.460000e+10</td>\n",
       "      <td>0.336605</td>\n",
       "      <td>0.057254</td>\n",
       "    </tr>\n",
       "    <tr>\n",
       "      <th>432</th>\n",
       "      <td>646</td>\n",
       "      <td>IN</td>\n",
       "      <td>0.315964</td>\n",
       "      <td>0.295</td>\n",
       "      <td>0.597</td>\n",
       "      <td>0.362</td>\n",
       "      <td>0.385</td>\n",
       "      <td>0.299994</td>\n",
       "      <td>0.444244</td>\n",
       "      <td>0.314</td>\n",
       "      <td>...</td>\n",
       "      <td>0.033800</td>\n",
       "      <td>0.017702</td>\n",
       "      <td>0.014722</td>\n",
       "      <td>0.015473</td>\n",
       "      <td>0.015798</td>\n",
       "      <td>0.526</td>\n",
       "      <td>27000</td>\n",
       "      <td>5.670000e+10</td>\n",
       "      <td>0.339099</td>\n",
       "      <td>0.057349</td>\n",
       "    </tr>\n",
       "    <tr>\n",
       "      <th>433</th>\n",
       "      <td>601</td>\n",
       "      <td>IN</td>\n",
       "      <td>0.311891</td>\n",
       "      <td>0.286</td>\n",
       "      <td>0.589</td>\n",
       "      <td>0.362</td>\n",
       "      <td>0.389</td>\n",
       "      <td>0.295998</td>\n",
       "      <td>0.435690</td>\n",
       "      <td>0.310</td>\n",
       "      <td>...</td>\n",
       "      <td>0.033674</td>\n",
       "      <td>0.017906</td>\n",
       "      <td>0.015030</td>\n",
       "      <td>0.015395</td>\n",
       "      <td>0.015783</td>\n",
       "      <td>0.534</td>\n",
       "      <td>28000</td>\n",
       "      <td>5.880000e+10</td>\n",
       "      <td>0.335338</td>\n",
       "      <td>0.057175</td>\n",
       "    </tr>\n",
       "    <tr>\n",
       "      <th>434</th>\n",
       "      <td>613</td>\n",
       "      <td>IN</td>\n",
       "      <td>0.311926</td>\n",
       "      <td>0.260</td>\n",
       "      <td>0.565</td>\n",
       "      <td>0.332</td>\n",
       "      <td>0.386</td>\n",
       "      <td>0.297161</td>\n",
       "      <td>0.432963</td>\n",
       "      <td>0.294</td>\n",
       "      <td>...</td>\n",
       "      <td>0.033739</td>\n",
       "      <td>0.017346</td>\n",
       "      <td>0.014854</td>\n",
       "      <td>0.015439</td>\n",
       "      <td>0.015749</td>\n",
       "      <td>0.547</td>\n",
       "      <td>29000</td>\n",
       "      <td>6.090000e+10</td>\n",
       "      <td>0.331905</td>\n",
       "      <td>0.057103</td>\n",
       "    </tr>\n",
       "    <tr>\n",
       "      <th>435</th>\n",
       "      <td>629</td>\n",
       "      <td>IN</td>\n",
       "      <td>0.313593</td>\n",
       "      <td>0.290</td>\n",
       "      <td>0.598</td>\n",
       "      <td>0.364</td>\n",
       "      <td>0.390</td>\n",
       "      <td>0.297167</td>\n",
       "      <td>0.439701</td>\n",
       "      <td>0.317</td>\n",
       "      <td>...</td>\n",
       "      <td>0.033649</td>\n",
       "      <td>0.017906</td>\n",
       "      <td>0.014771</td>\n",
       "      <td>0.015467</td>\n",
       "      <td>0.015793</td>\n",
       "      <td>0.529</td>\n",
       "      <td>30000</td>\n",
       "      <td>6.300000e+10</td>\n",
       "      <td>0.337699</td>\n",
       "      <td>0.057313</td>\n",
       "    </tr>\n",
       "    <tr>\n",
       "      <th>436</th>\n",
       "      <td>610</td>\n",
       "      <td>IN</td>\n",
       "      <td>0.314741</td>\n",
       "      <td>0.286</td>\n",
       "      <td>0.603</td>\n",
       "      <td>0.350</td>\n",
       "      <td>0.390</td>\n",
       "      <td>0.298722</td>\n",
       "      <td>0.438204</td>\n",
       "      <td>0.314</td>\n",
       "      <td>...</td>\n",
       "      <td>0.033767</td>\n",
       "      <td>0.017839</td>\n",
       "      <td>0.014831</td>\n",
       "      <td>0.015453</td>\n",
       "      <td>0.015776</td>\n",
       "      <td>0.537</td>\n",
       "      <td>31000</td>\n",
       "      <td>6.510000e+10</td>\n",
       "      <td>0.335366</td>\n",
       "      <td>0.057217</td>\n",
       "    </tr>\n",
       "    <tr>\n",
       "      <th>437</th>\n",
       "      <td>637</td>\n",
       "      <td>IN</td>\n",
       "      <td>0.319058</td>\n",
       "      <td>0.286</td>\n",
       "      <td>0.625</td>\n",
       "      <td>0.380</td>\n",
       "      <td>0.383</td>\n",
       "      <td>0.302768</td>\n",
       "      <td>0.444928</td>\n",
       "      <td>0.312</td>\n",
       "      <td>...</td>\n",
       "      <td>0.033893</td>\n",
       "      <td>0.017702</td>\n",
       "      <td>0.014722</td>\n",
       "      <td>0.015446</td>\n",
       "      <td>0.015774</td>\n",
       "      <td>0.538</td>\n",
       "      <td>32000</td>\n",
       "      <td>6.720000e+10</td>\n",
       "      <td>0.338464</td>\n",
       "      <td>0.057261</td>\n",
       "    </tr>\n",
       "    <tr>\n",
       "      <th>438</th>\n",
       "      <td>616</td>\n",
       "      <td>IN</td>\n",
       "      <td>0.311668</td>\n",
       "      <td>0.298</td>\n",
       "      <td>0.613</td>\n",
       "      <td>0.351</td>\n",
       "      <td>0.391</td>\n",
       "      <td>0.295095</td>\n",
       "      <td>0.446731</td>\n",
       "      <td>0.315</td>\n",
       "      <td>...</td>\n",
       "      <td>0.033629</td>\n",
       "      <td>0.017419</td>\n",
       "      <td>0.014671</td>\n",
       "      <td>0.015380</td>\n",
       "      <td>0.015793</td>\n",
       "      <td>0.529</td>\n",
       "      <td>33000</td>\n",
       "      <td>6.930000e+10</td>\n",
       "      <td>0.336322</td>\n",
       "      <td>0.057228</td>\n",
       "    </tr>\n",
       "    <tr>\n",
       "      <th>439</th>\n",
       "      <td>614</td>\n",
       "      <td>IN</td>\n",
       "      <td>0.313479</td>\n",
       "      <td>0.281</td>\n",
       "      <td>0.586</td>\n",
       "      <td>0.352</td>\n",
       "      <td>0.393</td>\n",
       "      <td>0.297862</td>\n",
       "      <td>0.436647</td>\n",
       "      <td>0.310</td>\n",
       "      <td>...</td>\n",
       "      <td>0.033760</td>\n",
       "      <td>0.017419</td>\n",
       "      <td>0.014697</td>\n",
       "      <td>0.015446</td>\n",
       "      <td>0.015803</td>\n",
       "      <td>0.523</td>\n",
       "      <td>34000</td>\n",
       "      <td>7.140000e+10</td>\n",
       "      <td>0.334274</td>\n",
       "      <td>0.057030</td>\n",
       "    </tr>\n",
       "    <tr>\n",
       "      <th>440</th>\n",
       "      <td>644</td>\n",
       "      <td>IN</td>\n",
       "      <td>0.321200</td>\n",
       "      <td>0.298</td>\n",
       "      <td>0.604</td>\n",
       "      <td>0.348</td>\n",
       "      <td>0.392</td>\n",
       "      <td>0.305649</td>\n",
       "      <td>0.446400</td>\n",
       "      <td>0.299</td>\n",
       "      <td>...</td>\n",
       "      <td>0.034016</td>\n",
       "      <td>0.017839</td>\n",
       "      <td>0.014684</td>\n",
       "      <td>0.015403</td>\n",
       "      <td>0.015758</td>\n",
       "      <td>0.544</td>\n",
       "      <td>35000</td>\n",
       "      <td>7.350000e+10</td>\n",
       "      <td>0.342328</td>\n",
       "      <td>0.057454</td>\n",
       "    </tr>\n",
       "    <tr>\n",
       "      <th>441</th>\n",
       "      <td>642</td>\n",
       "      <td>IN</td>\n",
       "      <td>0.317631</td>\n",
       "      <td>0.296</td>\n",
       "      <td>0.593</td>\n",
       "      <td>0.354</td>\n",
       "      <td>0.388</td>\n",
       "      <td>0.302474</td>\n",
       "      <td>0.443165</td>\n",
       "      <td>0.315</td>\n",
       "      <td>...</td>\n",
       "      <td>0.033981</td>\n",
       "      <td>0.017562</td>\n",
       "      <td>0.014831</td>\n",
       "      <td>0.015380</td>\n",
       "      <td>0.015796</td>\n",
       "      <td>0.527</td>\n",
       "      <td>36000</td>\n",
       "      <td>7.560000e+10</td>\n",
       "      <td>0.339198</td>\n",
       "      <td>0.057363</td>\n",
       "    </tr>\n",
       "    <tr>\n",
       "      <th>442</th>\n",
       "      <td>626</td>\n",
       "      <td>IN</td>\n",
       "      <td>0.315211</td>\n",
       "      <td>0.284</td>\n",
       "      <td>0.604</td>\n",
       "      <td>0.356</td>\n",
       "      <td>0.388</td>\n",
       "      <td>0.299522</td>\n",
       "      <td>0.441687</td>\n",
       "      <td>0.306</td>\n",
       "      <td>...</td>\n",
       "      <td>0.033843</td>\n",
       "      <td>0.017702</td>\n",
       "      <td>0.014977</td>\n",
       "      <td>0.015487</td>\n",
       "      <td>0.015789</td>\n",
       "      <td>0.531</td>\n",
       "      <td>37000</td>\n",
       "      <td>7.770000e+10</td>\n",
       "      <td>0.336145</td>\n",
       "      <td>0.057152</td>\n",
       "    </tr>\n",
       "    <tr>\n",
       "      <th>443</th>\n",
       "      <td>639</td>\n",
       "      <td>IN</td>\n",
       "      <td>0.321289</td>\n",
       "      <td>0.295</td>\n",
       "      <td>0.616</td>\n",
       "      <td>0.368</td>\n",
       "      <td>0.394</td>\n",
       "      <td>0.305575</td>\n",
       "      <td>0.445204</td>\n",
       "      <td>0.307</td>\n",
       "      <td>...</td>\n",
       "      <td>0.034035</td>\n",
       "      <td>0.017771</td>\n",
       "      <td>0.014831</td>\n",
       "      <td>0.015425</td>\n",
       "      <td>0.015783</td>\n",
       "      <td>0.534</td>\n",
       "      <td>38000</td>\n",
       "      <td>7.980000e+10</td>\n",
       "      <td>0.342362</td>\n",
       "      <td>0.057334</td>\n",
       "    </tr>\n",
       "    <tr>\n",
       "      <th>444</th>\n",
       "      <td>607</td>\n",
       "      <td>IN</td>\n",
       "      <td>0.319324</td>\n",
       "      <td>0.298</td>\n",
       "      <td>0.600</td>\n",
       "      <td>0.359</td>\n",
       "      <td>0.392</td>\n",
       "      <td>0.303440</td>\n",
       "      <td>0.446431</td>\n",
       "      <td>0.310</td>\n",
       "      <td>...</td>\n",
       "      <td>0.033906</td>\n",
       "      <td>0.017973</td>\n",
       "      <td>0.014831</td>\n",
       "      <td>0.015480</td>\n",
       "      <td>0.015774</td>\n",
       "      <td>0.538</td>\n",
       "      <td>39000</td>\n",
       "      <td>8.190000e+10</td>\n",
       "      <td>0.341713</td>\n",
       "      <td>0.057375</td>\n",
       "    </tr>\n",
       "    <tr>\n",
       "      <th>445</th>\n",
       "      <td>627</td>\n",
       "      <td>IN</td>\n",
       "      <td>0.316549</td>\n",
       "      <td>0.295</td>\n",
       "      <td>0.605</td>\n",
       "      <td>0.357</td>\n",
       "      <td>0.395</td>\n",
       "      <td>0.300503</td>\n",
       "      <td>0.446392</td>\n",
       "      <td>0.317</td>\n",
       "      <td>...</td>\n",
       "      <td>0.033864</td>\n",
       "      <td>0.017562</td>\n",
       "      <td>0.014842</td>\n",
       "      <td>0.015460</td>\n",
       "      <td>0.015774</td>\n",
       "      <td>0.538</td>\n",
       "      <td>40000</td>\n",
       "      <td>8.400000e+10</td>\n",
       "      <td>0.337097</td>\n",
       "      <td>0.057336</td>\n",
       "    </tr>\n",
       "    <tr>\n",
       "      <th>446</th>\n",
       "      <td>598</td>\n",
       "      <td>IN</td>\n",
       "      <td>0.316531</td>\n",
       "      <td>0.285</td>\n",
       "      <td>0.588</td>\n",
       "      <td>0.362</td>\n",
       "      <td>0.384</td>\n",
       "      <td>0.300798</td>\n",
       "      <td>0.445646</td>\n",
       "      <td>0.305</td>\n",
       "      <td>...</td>\n",
       "      <td>0.033834</td>\n",
       "      <td>0.017702</td>\n",
       "      <td>0.014759</td>\n",
       "      <td>0.015487</td>\n",
       "      <td>0.015774</td>\n",
       "      <td>0.538</td>\n",
       "      <td>41000</td>\n",
       "      <td>8.610000e+10</td>\n",
       "      <td>0.340685</td>\n",
       "      <td>0.057278</td>\n",
       "    </tr>\n",
       "    <tr>\n",
       "      <th>447</th>\n",
       "      <td>608</td>\n",
       "      <td>IN</td>\n",
       "      <td>0.315023</td>\n",
       "      <td>0.283</td>\n",
       "      <td>0.600</td>\n",
       "      <td>0.352</td>\n",
       "      <td>0.390</td>\n",
       "      <td>0.299289</td>\n",
       "      <td>0.440327</td>\n",
       "      <td>0.312</td>\n",
       "      <td>...</td>\n",
       "      <td>0.033814</td>\n",
       "      <td>0.017771</td>\n",
       "      <td>0.014819</td>\n",
       "      <td>0.015380</td>\n",
       "      <td>0.015774</td>\n",
       "      <td>0.538</td>\n",
       "      <td>42000</td>\n",
       "      <td>8.820000e+10</td>\n",
       "      <td>0.336614</td>\n",
       "      <td>0.057298</td>\n",
       "    </tr>\n",
       "    <tr>\n",
       "      <th>448</th>\n",
       "      <td>635</td>\n",
       "      <td>IN</td>\n",
       "      <td>0.314933</td>\n",
       "      <td>0.290</td>\n",
       "      <td>0.615</td>\n",
       "      <td>0.360</td>\n",
       "      <td>0.398</td>\n",
       "      <td>0.298625</td>\n",
       "      <td>0.442212</td>\n",
       "      <td>0.310</td>\n",
       "      <td>...</td>\n",
       "      <td>0.033756</td>\n",
       "      <td>0.017199</td>\n",
       "      <td>0.014783</td>\n",
       "      <td>0.015380</td>\n",
       "      <td>0.015755</td>\n",
       "      <td>0.545</td>\n",
       "      <td>43000</td>\n",
       "      <td>9.030000e+10</td>\n",
       "      <td>0.336845</td>\n",
       "      <td>0.057335</td>\n",
       "    </tr>\n",
       "    <tr>\n",
       "      <th>449</th>\n",
       "      <td>603</td>\n",
       "      <td>IN</td>\n",
       "      <td>0.319079</td>\n",
       "      <td>0.290</td>\n",
       "      <td>0.609</td>\n",
       "      <td>0.357</td>\n",
       "      <td>0.380</td>\n",
       "      <td>0.303827</td>\n",
       "      <td>0.440198</td>\n",
       "      <td>0.301</td>\n",
       "      <td>...</td>\n",
       "      <td>0.033912</td>\n",
       "      <td>0.017839</td>\n",
       "      <td>0.014922</td>\n",
       "      <td>0.015403</td>\n",
       "      <td>0.015778</td>\n",
       "      <td>0.536</td>\n",
       "      <td>44000</td>\n",
       "      <td>9.240000e+10</td>\n",
       "      <td>0.333867</td>\n",
       "      <td>0.057133</td>\n",
       "    </tr>\n",
       "    <tr>\n",
       "      <th>450</th>\n",
       "      <td>611</td>\n",
       "      <td>IN</td>\n",
       "      <td>0.313040</td>\n",
       "      <td>0.269</td>\n",
       "      <td>0.600</td>\n",
       "      <td>0.357</td>\n",
       "      <td>0.382</td>\n",
       "      <td>0.297045</td>\n",
       "      <td>0.436101</td>\n",
       "      <td>0.289</td>\n",
       "      <td>...</td>\n",
       "      <td>0.033718</td>\n",
       "      <td>0.018234</td>\n",
       "      <td>0.014922</td>\n",
       "      <td>0.015446</td>\n",
       "      <td>0.015769</td>\n",
       "      <td>0.540</td>\n",
       "      <td>45000</td>\n",
       "      <td>9.450000e+10</td>\n",
       "      <td>0.332548</td>\n",
       "      <td>0.057202</td>\n",
       "    </tr>\n",
       "    <tr>\n",
       "      <th>451</th>\n",
       "      <td>605</td>\n",
       "      <td>IN</td>\n",
       "      <td>0.313582</td>\n",
       "      <td>0.276</td>\n",
       "      <td>0.609</td>\n",
       "      <td>0.344</td>\n",
       "      <td>0.389</td>\n",
       "      <td>0.298049</td>\n",
       "      <td>0.444009</td>\n",
       "      <td>0.293</td>\n",
       "      <td>...</td>\n",
       "      <td>0.033811</td>\n",
       "      <td>0.017419</td>\n",
       "      <td>0.014911</td>\n",
       "      <td>0.015432</td>\n",
       "      <td>0.015785</td>\n",
       "      <td>0.533</td>\n",
       "      <td>46000</td>\n",
       "      <td>9.660000e+10</td>\n",
       "      <td>0.336380</td>\n",
       "      <td>0.057116</td>\n",
       "    </tr>\n",
       "    <tr>\n",
       "      <th>452</th>\n",
       "      <td>618</td>\n",
       "      <td>IN</td>\n",
       "      <td>0.316552</td>\n",
       "      <td>0.287</td>\n",
       "      <td>0.601</td>\n",
       "      <td>0.362</td>\n",
       "      <td>0.381</td>\n",
       "      <td>0.301788</td>\n",
       "      <td>0.440931</td>\n",
       "      <td>0.314</td>\n",
       "      <td>...</td>\n",
       "      <td>0.033910</td>\n",
       "      <td>0.017124</td>\n",
       "      <td>0.014977</td>\n",
       "      <td>0.015309</td>\n",
       "      <td>0.015791</td>\n",
       "      <td>0.530</td>\n",
       "      <td>47000</td>\n",
       "      <td>9.870000e+10</td>\n",
       "      <td>0.339652</td>\n",
       "      <td>0.057274</td>\n",
       "    </tr>\n",
       "    <tr>\n",
       "      <th>453</th>\n",
       "      <td>623</td>\n",
       "      <td>IN</td>\n",
       "      <td>0.311745</td>\n",
       "      <td>0.268</td>\n",
       "      <td>0.598</td>\n",
       "      <td>0.342</td>\n",
       "      <td>0.383</td>\n",
       "      <td>0.297482</td>\n",
       "      <td>0.432950</td>\n",
       "      <td>0.293</td>\n",
       "      <td>...</td>\n",
       "      <td>0.033738</td>\n",
       "      <td>0.016328</td>\n",
       "      <td>0.015110</td>\n",
       "      <td>0.015349</td>\n",
       "      <td>0.015789</td>\n",
       "      <td>0.531</td>\n",
       "      <td>48000</td>\n",
       "      <td>1.008000e+11</td>\n",
       "      <td>0.333527</td>\n",
       "      <td>0.057170</td>\n",
       "    </tr>\n",
       "    <tr>\n",
       "      <th>454</th>\n",
       "      <td>647</td>\n",
       "      <td>IN</td>\n",
       "      <td>0.311451</td>\n",
       "      <td>0.273</td>\n",
       "      <td>0.606</td>\n",
       "      <td>0.344</td>\n",
       "      <td>0.385</td>\n",
       "      <td>0.295918</td>\n",
       "      <td>0.442985</td>\n",
       "      <td>0.309</td>\n",
       "      <td>...</td>\n",
       "      <td>0.033656</td>\n",
       "      <td>0.017273</td>\n",
       "      <td>0.014922</td>\n",
       "      <td>0.015357</td>\n",
       "      <td>0.015766</td>\n",
       "      <td>0.541</td>\n",
       "      <td>49000</td>\n",
       "      <td>1.029000e+11</td>\n",
       "      <td>0.335192</td>\n",
       "      <td>0.057118</td>\n",
       "    </tr>\n",
       "    <tr>\n",
       "      <th>455</th>\n",
       "      <td>640</td>\n",
       "      <td>IN</td>\n",
       "      <td>0.315498</td>\n",
       "      <td>0.271</td>\n",
       "      <td>0.609</td>\n",
       "      <td>0.347</td>\n",
       "      <td>0.389</td>\n",
       "      <td>0.299971</td>\n",
       "      <td>0.437347</td>\n",
       "      <td>0.313</td>\n",
       "      <td>...</td>\n",
       "      <td>0.033773</td>\n",
       "      <td>0.017839</td>\n",
       "      <td>0.014771</td>\n",
       "      <td>0.015317</td>\n",
       "      <td>0.015766</td>\n",
       "      <td>0.541</td>\n",
       "      <td>50000</td>\n",
       "      <td>1.050000e+11</td>\n",
       "      <td>0.333771</td>\n",
       "      <td>0.057205</td>\n",
       "    </tr>\n",
       "  </tbody>\n",
       "</table>\n",
       "<p>51 rows × 46 columns</p>\n",
       "</div>"
      ],
      "text/plain": [
       "     index register       acc  acc_arc_challenge  acc_arc_easy  \\\n",
       "405    604       IN  0.255274              0.161         0.377   \n",
       "406    619       IN  0.268975              0.196         0.437   \n",
       "407    600       IN  0.275709              0.204         0.479   \n",
       "408    621       IN  0.278320              0.210         0.476   \n",
       "409    620       IN  0.278320              0.210         0.476   \n",
       "410    631       IN  0.279271              0.219         0.492   \n",
       "411    599       IN  0.288370              0.233         0.521   \n",
       "412    630       IN  0.291216              0.243         0.516   \n",
       "413    632       IN  0.292845              0.239         0.544   \n",
       "414    625       IN  0.291391              0.234         0.547   \n",
       "415    643       IN  0.294290              0.234         0.568   \n",
       "416    622       IN  0.298723              0.251         0.558   \n",
       "417    645       IN  0.298301              0.260         0.558   \n",
       "418    628       IN  0.296155              0.266         0.547   \n",
       "419    648       IN  0.302134              0.271         0.558   \n",
       "420    634       IN  0.302542              0.270         0.587   \n",
       "421    612       IN  0.302984              0.260         0.557   \n",
       "422    633       IN  0.307190              0.269         0.579   \n",
       "423    602       IN  0.306653              0.277         0.574   \n",
       "424    641       IN  0.311798              0.269         0.571   \n",
       "425    638       IN  0.303247              0.269         0.571   \n",
       "426    624       IN  0.311884              0.297         0.578   \n",
       "427    606       IN  0.311779              0.267         0.583   \n",
       "428    609       IN  0.313001              0.271         0.568   \n",
       "429    615       IN  0.310441              0.300         0.583   \n",
       "430    636       IN  0.311593              0.276         0.569   \n",
       "431    617       IN  0.315602              0.292         0.598   \n",
       "432    646       IN  0.315964              0.295         0.597   \n",
       "433    601       IN  0.311891              0.286         0.589   \n",
       "434    613       IN  0.311926              0.260         0.565   \n",
       "435    629       IN  0.313593              0.290         0.598   \n",
       "436    610       IN  0.314741              0.286         0.603   \n",
       "437    637       IN  0.319058              0.286         0.625   \n",
       "438    616       IN  0.311668              0.298         0.613   \n",
       "439    614       IN  0.313479              0.281         0.586   \n",
       "440    644       IN  0.321200              0.298         0.604   \n",
       "441    642       IN  0.317631              0.296         0.593   \n",
       "442    626       IN  0.315211              0.284         0.604   \n",
       "443    639       IN  0.321289              0.295         0.616   \n",
       "444    607       IN  0.319324              0.298         0.600   \n",
       "445    627       IN  0.316549              0.295         0.605   \n",
       "446    598       IN  0.316531              0.285         0.588   \n",
       "447    608       IN  0.315023              0.283         0.600   \n",
       "448    635       IN  0.314933              0.290         0.615   \n",
       "449    603       IN  0.319079              0.290         0.609   \n",
       "450    611       IN  0.313040              0.269         0.600   \n",
       "451    605       IN  0.313582              0.276         0.609   \n",
       "452    618       IN  0.316552              0.287         0.601   \n",
       "453    623       IN  0.311745              0.268         0.598   \n",
       "454    647       IN  0.311451              0.273         0.606   \n",
       "455    640       IN  0.315498              0.271         0.609   \n",
       "\n",
       "     acc_commonsense_qa  acc_hellaswag  acc_mmlu  acc_norm  \\\n",
       "405               0.231          0.281  0.244611  0.344821   \n",
       "406               0.269          0.305  0.257200  0.367394   \n",
       "407               0.283          0.324  0.263703  0.379695   \n",
       "408               0.284          0.331  0.265593  0.388786   \n",
       "409               0.284          0.331  0.265593  0.388786   \n",
       "410               0.309          0.340  0.265011  0.398560   \n",
       "411               0.309          0.342  0.274299  0.401605   \n",
       "412               0.323          0.343  0.277896  0.407192   \n",
       "413               0.332          0.345  0.278368  0.410241   \n",
       "414               0.339          0.364  0.276621  0.413378   \n",
       "415               0.332          0.360  0.279366  0.417831   \n",
       "416               0.334          0.369  0.283736  0.419630   \n",
       "417               0.334          0.370  0.282325  0.424243   \n",
       "418               0.334          0.361  0.280861  0.423063   \n",
       "419               0.350          0.369  0.286556  0.424617   \n",
       "420               0.345          0.381  0.286425  0.431411   \n",
       "421               0.342          0.375  0.287070  0.427732   \n",
       "422               0.348          0.374  0.291498  0.432438   \n",
       "423               0.356          0.375  0.291376  0.432471   \n",
       "424               0.356          0.374  0.297051  0.430260   \n",
       "425               0.364          0.377  0.287527  0.430629   \n",
       "426               0.354          0.381  0.296447  0.434635   \n",
       "427               0.354          0.372  0.297169  0.435196   \n",
       "428               0.347          0.383  0.298264  0.433738   \n",
       "429               0.358          0.383  0.293836  0.441484   \n",
       "430               0.358          0.382  0.296202  0.434821   \n",
       "431               0.363          0.388  0.299967  0.439453   \n",
       "432               0.362          0.385  0.299994  0.444244   \n",
       "433               0.362          0.389  0.295998  0.435690   \n",
       "434               0.332          0.386  0.297161  0.432963   \n",
       "435               0.364          0.390  0.297167  0.439701   \n",
       "436               0.350          0.390  0.298722  0.438204   \n",
       "437               0.380          0.383  0.302768  0.444928   \n",
       "438               0.351          0.391  0.295095  0.446731   \n",
       "439               0.352          0.393  0.297862  0.436647   \n",
       "440               0.348          0.392  0.305649  0.446400   \n",
       "441               0.354          0.388  0.302474  0.443165   \n",
       "442               0.356          0.388  0.299522  0.441687   \n",
       "443               0.368          0.394  0.305575  0.445204   \n",
       "444               0.359          0.392  0.303440  0.446431   \n",
       "445               0.357          0.395  0.300503  0.446392   \n",
       "446               0.362          0.384  0.300798  0.445646   \n",
       "447               0.352          0.390  0.299289  0.440327   \n",
       "448               0.360          0.398  0.298625  0.442212   \n",
       "449               0.357          0.380  0.303827  0.440198   \n",
       "450               0.357          0.382  0.297045  0.436101   \n",
       "451               0.344          0.389  0.298049  0.444009   \n",
       "452               0.362          0.381  0.301788  0.440931   \n",
       "453               0.342          0.383  0.297482  0.432950   \n",
       "454               0.344          0.385  0.295918  0.442985   \n",
       "455               0.347          0.389  0.299971  0.437347   \n",
       "\n",
       "     acc_norm_arc_challenge  ...  acc_stderr_mmlu  acc_stderr_openbookqa  \\\n",
       "405                   0.209  ...         0.031830               0.015807   \n",
       "406                   0.238  ...         0.032384               0.015717   \n",
       "407                   0.257  ...         0.032648               0.015440   \n",
       "408                   0.253  ...         0.032748               0.016072   \n",
       "409                   0.253  ...         0.032748               0.016072   \n",
       "410                   0.251  ...         0.032551               0.016328   \n",
       "411                   0.253  ...         0.033144               0.016816   \n",
       "412                   0.257  ...         0.033080               0.016657   \n",
       "413                   0.275  ...         0.033142               0.016737   \n",
       "414                   0.263  ...         0.033058               0.016412   \n",
       "415                   0.273  ...         0.033165               0.016576   \n",
       "416                   0.271  ...         0.033332               0.016576   \n",
       "417                   0.282  ...         0.033236               0.017491   \n",
       "418                   0.290  ...         0.033220               0.017124   \n",
       "419                   0.274  ...         0.033480               0.017632   \n",
       "420                   0.297  ...         0.033394               0.017562   \n",
       "421                   0.281  ...         0.033436               0.018039   \n",
       "422                   0.286  ...         0.033615               0.017199   \n",
       "423                   0.298  ...         0.033536               0.017491   \n",
       "424                   0.294  ...         0.033811               0.017273   \n",
       "425                   0.293  ...         0.033441               0.017124   \n",
       "426                   0.294  ...         0.033748               0.017346   \n",
       "427                   0.300  ...         0.033763               0.017048   \n",
       "428                   0.293  ...         0.033846               0.017771   \n",
       "429                   0.312  ...         0.033656               0.018170   \n",
       "430                   0.297  ...         0.033793               0.017632   \n",
       "431                   0.310  ...         0.033884               0.017839   \n",
       "432                   0.314  ...         0.033800               0.017702   \n",
       "433                   0.310  ...         0.033674               0.017906   \n",
       "434                   0.294  ...         0.033739               0.017346   \n",
       "435                   0.317  ...         0.033649               0.017906   \n",
       "436                   0.314  ...         0.033767               0.017839   \n",
       "437                   0.312  ...         0.033893               0.017702   \n",
       "438                   0.315  ...         0.033629               0.017419   \n",
       "439                   0.310  ...         0.033760               0.017419   \n",
       "440                   0.299  ...         0.034016               0.017839   \n",
       "441                   0.315  ...         0.033981               0.017562   \n",
       "442                   0.306  ...         0.033843               0.017702   \n",
       "443                   0.307  ...         0.034035               0.017771   \n",
       "444                   0.310  ...         0.033906               0.017973   \n",
       "445                   0.317  ...         0.033864               0.017562   \n",
       "446                   0.305  ...         0.033834               0.017702   \n",
       "447                   0.312  ...         0.033814               0.017771   \n",
       "448                   0.310  ...         0.033756               0.017199   \n",
       "449                   0.301  ...         0.033912               0.017839   \n",
       "450                   0.289  ...         0.033718               0.018234   \n",
       "451                   0.293  ...         0.033811               0.017419   \n",
       "452                   0.314  ...         0.033910               0.017124   \n",
       "453                   0.293  ...         0.033738               0.016328   \n",
       "454                   0.309  ...         0.033656               0.017273   \n",
       "455                   0.313  ...         0.033773               0.017839   \n",
       "\n",
       "     acc_stderr_piqa  acc_stderr_siqa  acc_stderr_winogrande  acc_winogrande  \\\n",
       "405         0.015654         0.015091               0.015787           0.532   \n",
       "406         0.015600         0.015309               0.015812           0.515   \n",
       "407         0.015561         0.015101               0.015805           0.521   \n",
       "408         0.015480         0.015232               0.015789           0.531   \n",
       "409         0.015480         0.015232               0.015789           0.531   \n",
       "410         0.015365         0.015275               0.015769           0.540   \n",
       "411         0.015325         0.015325               0.015783           0.534   \n",
       "412         0.015325         0.015196               0.015814           0.513   \n",
       "413         0.015258         0.015388               0.015801           0.524   \n",
       "414         0.015300         0.015317               0.015796           0.527   \n",
       "415         0.015159         0.015417               0.015811           0.516   \n",
       "416         0.015040         0.015395               0.015794           0.528   \n",
       "417         0.014877         0.015473               0.015805           0.521   \n",
       "418         0.015071         0.015395               0.015809           0.518   \n",
       "419         0.015009         0.015388               0.015803           0.523   \n",
       "420         0.015050         0.015388               0.015794           0.528   \n",
       "421         0.015009         0.015519               0.015787           0.532   \n",
       "422         0.014819         0.015506               0.015798           0.526   \n",
       "423         0.015101         0.015388               0.015805           0.521   \n",
       "424         0.014998         0.015425               0.015780           0.535   \n",
       "425         0.015071         0.015432               0.015805           0.521   \n",
       "426         0.015040         0.015395               0.015766           0.541   \n",
       "427         0.015040         0.015432               0.015791           0.530   \n",
       "428         0.015030         0.015493               0.015801           0.524   \n",
       "429         0.014998         0.015500               0.015771           0.539   \n",
       "430         0.014842         0.015403               0.015783           0.534   \n",
       "431         0.014933         0.015417               0.015801           0.524   \n",
       "432         0.014722         0.015473               0.015798           0.526   \n",
       "433         0.015030         0.015395               0.015783           0.534   \n",
       "434         0.014854         0.015439               0.015749           0.547   \n",
       "435         0.014771         0.015467               0.015793           0.529   \n",
       "436         0.014831         0.015453               0.015776           0.537   \n",
       "437         0.014722         0.015446               0.015774           0.538   \n",
       "438         0.014671         0.015380               0.015793           0.529   \n",
       "439         0.014697         0.015446               0.015803           0.523   \n",
       "440         0.014684         0.015403               0.015758           0.544   \n",
       "441         0.014831         0.015380               0.015796           0.527   \n",
       "442         0.014977         0.015487               0.015789           0.531   \n",
       "443         0.014831         0.015425               0.015783           0.534   \n",
       "444         0.014831         0.015480               0.015774           0.538   \n",
       "445         0.014842         0.015460               0.015774           0.538   \n",
       "446         0.014759         0.015487               0.015774           0.538   \n",
       "447         0.014819         0.015380               0.015774           0.538   \n",
       "448         0.014783         0.015380               0.015755           0.545   \n",
       "449         0.014922         0.015403               0.015778           0.536   \n",
       "450         0.014922         0.015446               0.015769           0.540   \n",
       "451         0.014911         0.015432               0.015785           0.533   \n",
       "452         0.014977         0.015309               0.015791           0.530   \n",
       "453         0.015110         0.015349               0.015789           0.531   \n",
       "454         0.014922         0.015357               0.015766           0.541   \n",
       "455         0.014771         0.015317               0.015766           0.541   \n",
       "\n",
       "      step        tokens  acc_norm_original  stderr_norm  \n",
       "405   1000  2.100000e+09           0.270357     0.054767  \n",
       "406   2000  4.200000e+09           0.284817     0.055535  \n",
       "407   3000  6.300000e+09           0.292302     0.055902  \n",
       "408   4000  8.400000e+09           0.296850     0.056130  \n",
       "409   4000  8.400000e+09           0.296850     0.056130  \n",
       "410   5000  1.050000e+10           0.301617     0.056313  \n",
       "411   6000  1.260000e+10           0.306699     0.056503  \n",
       "412   7000  1.470000e+10           0.309437     0.056540  \n",
       "413   8000  1.680000e+10           0.311963     0.056580  \n",
       "414   9000  1.890000e+10           0.316048     0.056750  \n",
       "415  10000  2.100000e+10           0.315006     0.056725  \n",
       "416  11000  2.310000e+10           0.318003     0.056744  \n",
       "417  12000  2.520000e+10           0.318227     0.056770  \n",
       "418  13000  2.730000e+10           0.319254     0.056962  \n",
       "419  14000  2.940000e+10           0.320314     0.056711  \n",
       "420  15000  3.150000e+10           0.323109     0.057019  \n",
       "421  16000  3.360000e+10           0.324222     0.056923  \n",
       "422  17000  3.570000e+10           0.327761     0.056948  \n",
       "423  18000  3.780000e+10           0.328026     0.057213  \n",
       "424  19000  3.990000e+10           0.332117     0.057266  \n",
       "425  20000  4.200000e+10           0.331582     0.057169  \n",
       "426  21000  4.410000e+10           0.331317     0.057117  \n",
       "427  22000  4.620000e+10           0.330579     0.057125  \n",
       "428  23000  4.830000e+10           0.331993     0.057220  \n",
       "429  24000  5.040000e+10           0.331957     0.057162  \n",
       "430  25000  5.250000e+10           0.335372     0.057288  \n",
       "431  26000  5.460000e+10           0.336605     0.057254  \n",
       "432  27000  5.670000e+10           0.339099     0.057349  \n",
       "433  28000  5.880000e+10           0.335338     0.057175  \n",
       "434  29000  6.090000e+10           0.331905     0.057103  \n",
       "435  30000  6.300000e+10           0.337699     0.057313  \n",
       "436  31000  6.510000e+10           0.335366     0.057217  \n",
       "437  32000  6.720000e+10           0.338464     0.057261  \n",
       "438  33000  6.930000e+10           0.336322     0.057228  \n",
       "439  34000  7.140000e+10           0.334274     0.057030  \n",
       "440  35000  7.350000e+10           0.342328     0.057454  \n",
       "441  36000  7.560000e+10           0.339198     0.057363  \n",
       "442  37000  7.770000e+10           0.336145     0.057152  \n",
       "443  38000  7.980000e+10           0.342362     0.057334  \n",
       "444  39000  8.190000e+10           0.341713     0.057375  \n",
       "445  40000  8.400000e+10           0.337097     0.057336  \n",
       "446  41000  8.610000e+10           0.340685     0.057278  \n",
       "447  42000  8.820000e+10           0.336614     0.057298  \n",
       "448  43000  9.030000e+10           0.336845     0.057335  \n",
       "449  44000  9.240000e+10           0.333867     0.057133  \n",
       "450  45000  9.450000e+10           0.332548     0.057202  \n",
       "451  46000  9.660000e+10           0.336380     0.057116  \n",
       "452  47000  9.870000e+10           0.339652     0.057274  \n",
       "453  48000  1.008000e+11           0.333527     0.057170  \n",
       "454  49000  1.029000e+11           0.335192     0.057118  \n",
       "455  50000  1.050000e+11           0.333771     0.057205  \n",
       "\n",
       "[51 rows x 46 columns]"
      ]
     },
     "metadata": {},
     "output_type": "display_data"
    }
   ],
   "source": [
    "df = df1.sort_values([\"register\", \"tokens\"]).reset_index()\n",
    "display(df)\n",
    "print(df.columns)\n",
    "\n",
    "display(df[df.register==\"IN\"])\n"
   ]
  },
  {
   "cell_type": "markdown",
   "metadata": {},
   "source": [
    "## Rolling average to make the line plots more readable"
   ]
  },
  {
   "cell_type": "code",
   "execution_count": 31,
   "metadata": {},
   "outputs": [
    {
     "name": "stdout",
     "output_type": "stream",
     "text": [
      "['HI' 'HI-IN' 'HI-IN_HI_dtp' 'HI-IN_HI_dtp_NA_OP' 'HI-IN_HI_dtp_NA_OP_ID'\n",
      " 'HI-IN_HI_dtp_NA_OP_ID_SP' 'HI-IN_HI_dtp_OP' 'ID' 'IN' 'IP' 'LY' 'MT'\n",
      " 'NA' 'OP' 'SP' 'dtp' 'fineweb' 'hplt-v2-dedup' 'ne']\n"
     ]
    },
    {
     "name": "stderr",
     "output_type": "stream",
     "text": [
      "/tmp/ipykernel_193016/984316175.py:8: FutureWarning:\n",
      "\n",
      "Dropping of nuisance columns in rolling operations is deprecated; in a future version this will raise TypeError. Select only valid columns before calling the operation. Dropped columns were Index(['register'], dtype='object')\n",
      "\n",
      "/tmp/ipykernel_193016/984316175.py:8: FutureWarning:\n",
      "\n",
      "Dropping of nuisance columns in rolling operations is deprecated; in a future version this will raise TypeError. Select only valid columns before calling the operation. Dropped columns were Index(['register'], dtype='object')\n",
      "\n",
      "/tmp/ipykernel_193016/984316175.py:8: FutureWarning:\n",
      "\n",
      "Dropping of nuisance columns in rolling operations is deprecated; in a future version this will raise TypeError. Select only valid columns before calling the operation. Dropped columns were Index(['register'], dtype='object')\n",
      "\n",
      "/tmp/ipykernel_193016/984316175.py:8: FutureWarning:\n",
      "\n",
      "Dropping of nuisance columns in rolling operations is deprecated; in a future version this will raise TypeError. Select only valid columns before calling the operation. Dropped columns were Index(['register'], dtype='object')\n",
      "\n",
      "/tmp/ipykernel_193016/984316175.py:8: FutureWarning:\n",
      "\n",
      "Dropping of nuisance columns in rolling operations is deprecated; in a future version this will raise TypeError. Select only valid columns before calling the operation. Dropped columns were Index(['register'], dtype='object')\n",
      "\n",
      "/tmp/ipykernel_193016/984316175.py:8: FutureWarning:\n",
      "\n",
      "Dropping of nuisance columns in rolling operations is deprecated; in a future version this will raise TypeError. Select only valid columns before calling the operation. Dropped columns were Index(['register'], dtype='object')\n",
      "\n",
      "/tmp/ipykernel_193016/984316175.py:8: FutureWarning:\n",
      "\n",
      "Dropping of nuisance columns in rolling operations is deprecated; in a future version this will raise TypeError. Select only valid columns before calling the operation. Dropped columns were Index(['register'], dtype='object')\n",
      "\n",
      "/tmp/ipykernel_193016/984316175.py:8: FutureWarning:\n",
      "\n",
      "Dropping of nuisance columns in rolling operations is deprecated; in a future version this will raise TypeError. Select only valid columns before calling the operation. Dropped columns were Index(['register'], dtype='object')\n",
      "\n",
      "/tmp/ipykernel_193016/984316175.py:8: FutureWarning:\n",
      "\n",
      "Dropping of nuisance columns in rolling operations is deprecated; in a future version this will raise TypeError. Select only valid columns before calling the operation. Dropped columns were Index(['register'], dtype='object')\n",
      "\n",
      "/tmp/ipykernel_193016/984316175.py:8: FutureWarning:\n",
      "\n",
      "Dropping of nuisance columns in rolling operations is deprecated; in a future version this will raise TypeError. Select only valid columns before calling the operation. Dropped columns were Index(['register'], dtype='object')\n",
      "\n",
      "/tmp/ipykernel_193016/984316175.py:8: FutureWarning:\n",
      "\n",
      "Dropping of nuisance columns in rolling operations is deprecated; in a future version this will raise TypeError. Select only valid columns before calling the operation. Dropped columns were Index(['register'], dtype='object')\n",
      "\n",
      "/tmp/ipykernel_193016/984316175.py:8: FutureWarning:\n",
      "\n",
      "Dropping of nuisance columns in rolling operations is deprecated; in a future version this will raise TypeError. Select only valid columns before calling the operation. Dropped columns were Index(['register'], dtype='object')\n",
      "\n",
      "/tmp/ipykernel_193016/984316175.py:8: FutureWarning:\n",
      "\n",
      "Dropping of nuisance columns in rolling operations is deprecated; in a future version this will raise TypeError. Select only valid columns before calling the operation. Dropped columns were Index(['register'], dtype='object')\n",
      "\n",
      "/tmp/ipykernel_193016/984316175.py:8: FutureWarning:\n",
      "\n",
      "Dropping of nuisance columns in rolling operations is deprecated; in a future version this will raise TypeError. Select only valid columns before calling the operation. Dropped columns were Index(['register'], dtype='object')\n",
      "\n",
      "/tmp/ipykernel_193016/984316175.py:8: FutureWarning:\n",
      "\n",
      "Dropping of nuisance columns in rolling operations is deprecated; in a future version this will raise TypeError. Select only valid columns before calling the operation. Dropped columns were Index(['register'], dtype='object')\n",
      "\n",
      "/tmp/ipykernel_193016/984316175.py:8: FutureWarning:\n",
      "\n",
      "Dropping of nuisance columns in rolling operations is deprecated; in a future version this will raise TypeError. Select only valid columns before calling the operation. Dropped columns were Index(['register'], dtype='object')\n",
      "\n",
      "/tmp/ipykernel_193016/984316175.py:8: FutureWarning:\n",
      "\n",
      "Dropping of nuisance columns in rolling operations is deprecated; in a future version this will raise TypeError. Select only valid columns before calling the operation. Dropped columns were Index(['register'], dtype='object')\n",
      "\n",
      "/tmp/ipykernel_193016/984316175.py:8: FutureWarning:\n",
      "\n",
      "Dropping of nuisance columns in rolling operations is deprecated; in a future version this will raise TypeError. Select only valid columns before calling the operation. Dropped columns were Index(['register'], dtype='object')\n",
      "\n",
      "/tmp/ipykernel_193016/984316175.py:8: FutureWarning:\n",
      "\n",
      "Dropping of nuisance columns in rolling operations is deprecated; in a future version this will raise TypeError. Select only valid columns before calling the operation. Dropped columns were Index(['register'], dtype='object')\n",
      "\n"
     ]
    },
    {
     "data": {
      "text/html": [
       "<div>\n",
       "<style scoped>\n",
       "    .dataframe tbody tr th:only-of-type {\n",
       "        vertical-align: middle;\n",
       "    }\n",
       "\n",
       "    .dataframe tbody tr th {\n",
       "        vertical-align: top;\n",
       "    }\n",
       "\n",
       "    .dataframe thead th {\n",
       "        text-align: right;\n",
       "    }\n",
       "</style>\n",
       "<table border=\"1\" class=\"dataframe\">\n",
       "  <thead>\n",
       "    <tr style=\"text-align: right;\">\n",
       "      <th></th>\n",
       "      <th>index</th>\n",
       "      <th>acc</th>\n",
       "      <th>acc_arc_challenge</th>\n",
       "      <th>acc_arc_easy</th>\n",
       "      <th>acc_commonsense_qa</th>\n",
       "      <th>acc_hellaswag</th>\n",
       "      <th>acc_mmlu</th>\n",
       "      <th>acc_norm</th>\n",
       "      <th>acc_norm_arc_challenge</th>\n",
       "      <th>acc_norm_arc_easy</th>\n",
       "      <th>...</th>\n",
       "      <th>acc_stderr_openbookqa</th>\n",
       "      <th>acc_stderr_piqa</th>\n",
       "      <th>acc_stderr_siqa</th>\n",
       "      <th>acc_stderr_winogrande</th>\n",
       "      <th>acc_winogrande</th>\n",
       "      <th>step</th>\n",
       "      <th>tokens</th>\n",
       "      <th>acc_norm_original</th>\n",
       "      <th>stderr_norm</th>\n",
       "      <th>register</th>\n",
       "    </tr>\n",
       "  </thead>\n",
       "  <tbody>\n",
       "    <tr>\n",
       "      <th>1</th>\n",
       "      <td>267.666667</td>\n",
       "      <td>0.252105</td>\n",
       "      <td>0.182333</td>\n",
       "      <td>0.351333</td>\n",
       "      <td>0.274333</td>\n",
       "      <td>0.341000</td>\n",
       "      <td>0.237038</td>\n",
       "      <td>0.372102</td>\n",
       "      <td>0.221667</td>\n",
       "      <td>0.352333</td>\n",
       "      <td>...</td>\n",
       "      <td>0.016215</td>\n",
       "      <td>0.014687</td>\n",
       "      <td>0.015310</td>\n",
       "      <td>0.015807</td>\n",
       "      <td>0.512333</td>\n",
       "      <td>2000.0</td>\n",
       "      <td>4.200000e+09</td>\n",
       "      <td>0.270567</td>\n",
       "      <td>0.054522</td>\n",
       "      <td>HI</td>\n",
       "    </tr>\n",
       "    <tr>\n",
       "      <th>2</th>\n",
       "      <td>268.333333</td>\n",
       "      <td>0.256132</td>\n",
       "      <td>0.184333</td>\n",
       "      <td>0.382000</td>\n",
       "      <td>0.288333</td>\n",
       "      <td>0.369000</td>\n",
       "      <td>0.239472</td>\n",
       "      <td>0.388751</td>\n",
       "      <td>0.221000</td>\n",
       "      <td>0.381667</td>\n",
       "      <td>...</td>\n",
       "      <td>0.016460</td>\n",
       "      <td>0.014334</td>\n",
       "      <td>0.015356</td>\n",
       "      <td>0.015800</td>\n",
       "      <td>0.522667</td>\n",
       "      <td>3000.0</td>\n",
       "      <td>6.300000e+09</td>\n",
       "      <td>0.275032</td>\n",
       "      <td>0.054830</td>\n",
       "      <td>HI</td>\n",
       "    </tr>\n",
       "    <tr>\n",
       "      <th>3</th>\n",
       "      <td>270.666667</td>\n",
       "      <td>0.258835</td>\n",
       "      <td>0.190000</td>\n",
       "      <td>0.394667</td>\n",
       "      <td>0.300333</td>\n",
       "      <td>0.385667</td>\n",
       "      <td>0.241438</td>\n",
       "      <td>0.398501</td>\n",
       "      <td>0.232333</td>\n",
       "      <td>0.396667</td>\n",
       "      <td>...</td>\n",
       "      <td>0.016489</td>\n",
       "      <td>0.014065</td>\n",
       "      <td>0.015311</td>\n",
       "      <td>0.015789</td>\n",
       "      <td>0.527000</td>\n",
       "      <td>4000.0</td>\n",
       "      <td>8.400000e+09</td>\n",
       "      <td>0.276171</td>\n",
       "      <td>0.054873</td>\n",
       "      <td>HI</td>\n",
       "    </tr>\n",
       "    <tr>\n",
       "      <th>4</th>\n",
       "      <td>278.333333</td>\n",
       "      <td>0.260395</td>\n",
       "      <td>0.190000</td>\n",
       "      <td>0.406333</td>\n",
       "      <td>0.303000</td>\n",
       "      <td>0.395667</td>\n",
       "      <td>0.242415</td>\n",
       "      <td>0.405845</td>\n",
       "      <td>0.234333</td>\n",
       "      <td>0.403667</td>\n",
       "      <td>...</td>\n",
       "      <td>0.016626</td>\n",
       "      <td>0.013951</td>\n",
       "      <td>0.015338</td>\n",
       "      <td>0.015780</td>\n",
       "      <td>0.534333</td>\n",
       "      <td>5000.0</td>\n",
       "      <td>1.050000e+10</td>\n",
       "      <td>0.277846</td>\n",
       "      <td>0.055017</td>\n",
       "      <td>HI</td>\n",
       "    </tr>\n",
       "    <tr>\n",
       "      <th>5</th>\n",
       "      <td>272.000000</td>\n",
       "      <td>0.261869</td>\n",
       "      <td>0.201667</td>\n",
       "      <td>0.415667</td>\n",
       "      <td>0.314667</td>\n",
       "      <td>0.407667</td>\n",
       "      <td>0.243178</td>\n",
       "      <td>0.408728</td>\n",
       "      <td>0.240333</td>\n",
       "      <td>0.408000</td>\n",
       "      <td>...</td>\n",
       "      <td>0.016652</td>\n",
       "      <td>0.013905</td>\n",
       "      <td>0.015385</td>\n",
       "      <td>0.015783</td>\n",
       "      <td>0.532333</td>\n",
       "      <td>6000.0</td>\n",
       "      <td>1.260000e+10</td>\n",
       "      <td>0.278198</td>\n",
       "      <td>0.054976</td>\n",
       "      <td>HI</td>\n",
       "    </tr>\n",
       "    <tr>\n",
       "      <th>...</th>\n",
       "      <td>...</td>\n",
       "      <td>...</td>\n",
       "      <td>...</td>\n",
       "      <td>...</td>\n",
       "      <td>...</td>\n",
       "      <td>...</td>\n",
       "      <td>...</td>\n",
       "      <td>...</td>\n",
       "      <td>...</td>\n",
       "      <td>...</td>\n",
       "      <td>...</td>\n",
       "      <td>...</td>\n",
       "      <td>...</td>\n",
       "      <td>...</td>\n",
       "      <td>...</td>\n",
       "      <td>...</td>\n",
       "      <td>...</td>\n",
       "      <td>...</td>\n",
       "      <td>...</td>\n",
       "      <td>...</td>\n",
       "      <td>...</td>\n",
       "    </tr>\n",
       "    <tr>\n",
       "      <th>948</th>\n",
       "      <td>138.000000</td>\n",
       "      <td>0.284413</td>\n",
       "      <td>0.234000</td>\n",
       "      <td>0.490000</td>\n",
       "      <td>0.342667</td>\n",
       "      <td>0.371667</td>\n",
       "      <td>0.267593</td>\n",
       "      <td>0.413454</td>\n",
       "      <td>0.262667</td>\n",
       "      <td>0.478000</td>\n",
       "      <td>...</td>\n",
       "      <td>0.017391</td>\n",
       "      <td>0.015183</td>\n",
       "      <td>0.015488</td>\n",
       "      <td>0.015657</td>\n",
       "      <td>0.571000</td>\n",
       "      <td>45000.0</td>\n",
       "      <td>9.450000e+10</td>\n",
       "      <td>0.301135</td>\n",
       "      <td>0.056397</td>\n",
       "      <td>ne</td>\n",
       "    </tr>\n",
       "    <tr>\n",
       "      <th>949</th>\n",
       "      <td>128.333333</td>\n",
       "      <td>0.283880</td>\n",
       "      <td>0.236333</td>\n",
       "      <td>0.487667</td>\n",
       "      <td>0.340667</td>\n",
       "      <td>0.375667</td>\n",
       "      <td>0.266997</td>\n",
       "      <td>0.414122</td>\n",
       "      <td>0.264667</td>\n",
       "      <td>0.473667</td>\n",
       "      <td>...</td>\n",
       "      <td>0.017439</td>\n",
       "      <td>0.015189</td>\n",
       "      <td>0.015497</td>\n",
       "      <td>0.015679</td>\n",
       "      <td>0.566333</td>\n",
       "      <td>46000.0</td>\n",
       "      <td>9.660000e+10</td>\n",
       "      <td>0.301816</td>\n",
       "      <td>0.056448</td>\n",
       "      <td>ne</td>\n",
       "    </tr>\n",
       "    <tr>\n",
       "      <th>950</th>\n",
       "      <td>119.000000</td>\n",
       "      <td>0.284960</td>\n",
       "      <td>0.237000</td>\n",
       "      <td>0.486000</td>\n",
       "      <td>0.334333</td>\n",
       "      <td>0.377667</td>\n",
       "      <td>0.268013</td>\n",
       "      <td>0.413579</td>\n",
       "      <td>0.267333</td>\n",
       "      <td>0.470667</td>\n",
       "      <td>...</td>\n",
       "      <td>0.017900</td>\n",
       "      <td>0.015150</td>\n",
       "      <td>0.015480</td>\n",
       "      <td>0.015663</td>\n",
       "      <td>0.570000</td>\n",
       "      <td>47000.0</td>\n",
       "      <td>9.870000e+10</td>\n",
       "      <td>0.302989</td>\n",
       "      <td>0.056463</td>\n",
       "      <td>ne</td>\n",
       "    </tr>\n",
       "    <tr>\n",
       "      <th>951</th>\n",
       "      <td>113.666667</td>\n",
       "      <td>0.285070</td>\n",
       "      <td>0.239667</td>\n",
       "      <td>0.486000</td>\n",
       "      <td>0.332667</td>\n",
       "      <td>0.380333</td>\n",
       "      <td>0.268185</td>\n",
       "      <td>0.415242</td>\n",
       "      <td>0.268000</td>\n",
       "      <td>0.471333</td>\n",
       "      <td>...</td>\n",
       "      <td>0.017767</td>\n",
       "      <td>0.015166</td>\n",
       "      <td>0.015480</td>\n",
       "      <td>0.015665</td>\n",
       "      <td>0.569333</td>\n",
       "      <td>48000.0</td>\n",
       "      <td>1.008000e+11</td>\n",
       "      <td>0.303470</td>\n",
       "      <td>0.056510</td>\n",
       "      <td>ne</td>\n",
       "    </tr>\n",
       "    <tr>\n",
       "      <th>952</th>\n",
       "      <td>122.000000</td>\n",
       "      <td>0.285348</td>\n",
       "      <td>0.237333</td>\n",
       "      <td>0.482333</td>\n",
       "      <td>0.332333</td>\n",
       "      <td>0.377667</td>\n",
       "      <td>0.268665</td>\n",
       "      <td>0.416410</td>\n",
       "      <td>0.273000</td>\n",
       "      <td>0.470333</td>\n",
       "      <td>...</td>\n",
       "      <td>0.017860</td>\n",
       "      <td>0.015126</td>\n",
       "      <td>0.015462</td>\n",
       "      <td>0.015684</td>\n",
       "      <td>0.564667</td>\n",
       "      <td>49000.0</td>\n",
       "      <td>1.029000e+11</td>\n",
       "      <td>0.303789</td>\n",
       "      <td>0.056553</td>\n",
       "      <td>ne</td>\n",
       "    </tr>\n",
       "  </tbody>\n",
       "</table>\n",
       "<p>916 rows × 46 columns</p>\n",
       "</div>"
      ],
      "text/plain": [
       "          index       acc  acc_arc_challenge  acc_arc_easy  \\\n",
       "1    267.666667  0.252105           0.182333      0.351333   \n",
       "2    268.333333  0.256132           0.184333      0.382000   \n",
       "3    270.666667  0.258835           0.190000      0.394667   \n",
       "4    278.333333  0.260395           0.190000      0.406333   \n",
       "5    272.000000  0.261869           0.201667      0.415667   \n",
       "..          ...       ...                ...           ...   \n",
       "948  138.000000  0.284413           0.234000      0.490000   \n",
       "949  128.333333  0.283880           0.236333      0.487667   \n",
       "950  119.000000  0.284960           0.237000      0.486000   \n",
       "951  113.666667  0.285070           0.239667      0.486000   \n",
       "952  122.000000  0.285348           0.237333      0.482333   \n",
       "\n",
       "     acc_commonsense_qa  acc_hellaswag  acc_mmlu  acc_norm  \\\n",
       "1              0.274333       0.341000  0.237038  0.372102   \n",
       "2              0.288333       0.369000  0.239472  0.388751   \n",
       "3              0.300333       0.385667  0.241438  0.398501   \n",
       "4              0.303000       0.395667  0.242415  0.405845   \n",
       "5              0.314667       0.407667  0.243178  0.408728   \n",
       "..                  ...            ...       ...       ...   \n",
       "948            0.342667       0.371667  0.267593  0.413454   \n",
       "949            0.340667       0.375667  0.266997  0.414122   \n",
       "950            0.334333       0.377667  0.268013  0.413579   \n",
       "951            0.332667       0.380333  0.268185  0.415242   \n",
       "952            0.332333       0.377667  0.268665  0.416410   \n",
       "\n",
       "     acc_norm_arc_challenge  acc_norm_arc_easy  ...  acc_stderr_openbookqa  \\\n",
       "1                  0.221667           0.352333  ...               0.016215   \n",
       "2                  0.221000           0.381667  ...               0.016460   \n",
       "3                  0.232333           0.396667  ...               0.016489   \n",
       "4                  0.234333           0.403667  ...               0.016626   \n",
       "5                  0.240333           0.408000  ...               0.016652   \n",
       "..                      ...                ...  ...                    ...   \n",
       "948                0.262667           0.478000  ...               0.017391   \n",
       "949                0.264667           0.473667  ...               0.017439   \n",
       "950                0.267333           0.470667  ...               0.017900   \n",
       "951                0.268000           0.471333  ...               0.017767   \n",
       "952                0.273000           0.470333  ...               0.017860   \n",
       "\n",
       "     acc_stderr_piqa  acc_stderr_siqa  acc_stderr_winogrande  acc_winogrande  \\\n",
       "1           0.014687         0.015310               0.015807        0.512333   \n",
       "2           0.014334         0.015356               0.015800        0.522667   \n",
       "3           0.014065         0.015311               0.015789        0.527000   \n",
       "4           0.013951         0.015338               0.015780        0.534333   \n",
       "5           0.013905         0.015385               0.015783        0.532333   \n",
       "..               ...              ...                    ...             ...   \n",
       "948         0.015183         0.015488               0.015657        0.571000   \n",
       "949         0.015189         0.015497               0.015679        0.566333   \n",
       "950         0.015150         0.015480               0.015663        0.570000   \n",
       "951         0.015166         0.015480               0.015665        0.569333   \n",
       "952         0.015126         0.015462               0.015684        0.564667   \n",
       "\n",
       "        step        tokens  acc_norm_original  stderr_norm  register  \n",
       "1     2000.0  4.200000e+09           0.270567     0.054522        HI  \n",
       "2     3000.0  6.300000e+09           0.275032     0.054830        HI  \n",
       "3     4000.0  8.400000e+09           0.276171     0.054873        HI  \n",
       "4     5000.0  1.050000e+10           0.277846     0.055017        HI  \n",
       "5     6000.0  1.260000e+10           0.278198     0.054976        HI  \n",
       "..       ...           ...                ...          ...       ...  \n",
       "948  45000.0  9.450000e+10           0.301135     0.056397        ne  \n",
       "949  46000.0  9.660000e+10           0.301816     0.056448        ne  \n",
       "950  47000.0  9.870000e+10           0.302989     0.056463        ne  \n",
       "951  48000.0  1.008000e+11           0.303470     0.056510        ne  \n",
       "952  49000.0  1.029000e+11           0.303789     0.056553        ne  \n",
       "\n",
       "[916 rows x 46 columns]"
      ]
     },
     "metadata": {},
     "output_type": "display_data"
    }
   ],
   "source": [
    "# rolling average over how many steps?\n",
    "\n",
    "unique_registers = np.unique(df[\"register\"])\n",
    "print(unique_registers)\n",
    "n = 3\n",
    "\n",
    "def rolling_average(df, register, n=5):\n",
    "    df_p = df[df.register==register].rolling(n, center=True, axis=0).mean()\n",
    "    return df_p\n",
    "\n",
    "\n",
    "dfs_rolled = []\n",
    "for register in unique_registers:\n",
    "    #print(register)\n",
    "    p = rolling_average(df, register, n=n)\n",
    "    p[\"register\"]=register\n",
    "    dfs_rolled.append(p)\n",
    "\n",
    "df_rolled = pd.concat(dfs_rolled, axis=0).dropna()\n",
    "\n",
    "display(df_rolled)\n",
    "#display(df_rolled[df_rolled.register==\"HI-IN\"])\n",
    "\n",
    "\n"
   ]
  },
  {
   "cell_type": "markdown",
   "metadata": {},
   "source": [
    "# Actual final plotting\n",
    "\n",
    "Here I chose the colormaps, put dashed lines for epoch limits, etc. Using the rolled average as before since rugged lines are hard to follow by eye.\n"
   ]
  },
  {
   "cell_type": "code",
   "execution_count": 32,
   "metadata": {},
   "outputs": [],
   "source": [
    "# constants and helpers\n",
    "\n",
    "organized_registers=['HI-IN_HI_dtp','HI-IN_HI_dtp_OP','HI-IN_HI_dtp_NA_OP','HI-IN_HI_dtp_NA_OP_ID','HI-IN_HI_dtp_NA_OP_ID_SP','fineweb','HI-IN','hplt-v2-dedup','dtp','HI','OP','NA','IN','ID','SP','ne','IP','MT','LY']\n",
    "organized_registers2=['HI-IN_HI_dtp_OP','HI-IN_HI_dtp_NA_OP','HI-IN_HI_dtp','HI-IN_HI_dtp_NA_OP_ID','HI-IN_HI_dtp_NA_OP_ID_SP','fineweb','HI-IN','hplt-v2-dedup','dtp','HI','OP','NA','IN','ID','SP','ne','IP','MT','LY']\n",
    "vanilla_registers=['HI-IN','dtp','HI','OP','IN','NA','ID','SP','IP','ne','MT','LY']\n",
    "baselines=[\"fineweb\", \"hplt-v2-dedup\"]\n",
    "combinations = ['HI-IN_HI_dtp','HI-IN_HI_dtp_OP','HI-IN_HI_dtp_NA_OP','HI-IN_HI_dtp_NA_OP_ID','HI-IN_HI_dtp_NA_OP_ID_SP']\n",
    "\n",
    "\n",
    "register_name_map_old = {'HI-IN_HI_dtp_OP': \"HI-IN-HI-dtp-OP\",\n",
    "                     'HI-IN_HI_dtp_NA_OP': \"HI-IN-HI-dtp-OP-NA\",\n",
    "                     'HI-IN_HI_dtp': \"HI-IN-HI-dtp\",\n",
    "                     'HI-IN_HI_dtp_NA_OP_ID':\"HI-IN-HI-dtp-OP-NA-ID\",\n",
    "                     'HI-IN_HI_dtp_NA_OP_ID_SP': \"HI-IN-HI-dtp-OP-NA-ID-SP\",\n",
    "                     'hplt-v2-dedup': \"All Registers (full HPLT v2)\",#\"HPLT v2\",\n",
    "                     'fineweb': \"FineWeb\",\n",
    "                     'HI-IN': \"Instructive-Informational\",\n",
    "                     'HI': \"How-to-Instructions\",\n",
    "                     'ID': \"Interactive Discussion\",\n",
    "                     'IN': \"Informational Description\",\n",
    "                     \"IP\": \"Informational Persuasion\",\n",
    "                     \"LY\": \"Lyrical\",\n",
    "                     \"MT\": \"Machine Translation\",\n",
    "                     \"NA\": \"Narrative\",\n",
    "                     \"OP\": \"Opinion\",\n",
    "                     \"SP\": \"Spoken\",\n",
    "                     \"ne\": \"News\",\n",
    "                     \"dtp\": \"Description\"}\n",
    "register_name_map = {'HI-IN_HI_dtp_OP': \"HI-IN-HI-dtp-OP\",\n",
    "                     'HI-IN_HI_dtp_NA_OP': \"HI-IN-HI-dtp-OP-NA\",\n",
    "                     'HI-IN_HI_dtp': \"HI-IN-HI-dtp\",\n",
    "                     'HI-IN_HI_dtp_NA_OP_ID':\"HI-IN-HI-dtp-OP-NA-ID\",\n",
    "                     'HI-IN_HI_dtp_NA_OP_ID_SP': \"HI-IN-HI-dtp-OP-NA-ID-SP\",\n",
    "                     'hplt-v2-dedup': \"All Registers (full HPLT v2)\",#\"HPLT v2\",\n",
    "                     'fineweb': \"FineWeb\",\n",
    "                     'HI-IN': \"Instructive-Informational (HI-IN)\",\n",
    "                     'HI': \"How-to-Instructions (HI)\",\n",
    "                     'ID': \"Interactive Discussion (ID)\",\n",
    "                     'IN': \"Informational Description (IN)\",\n",
    "                     \"IP\": \"Informational Persuasion (IP)\",\n",
    "                     \"LY\": \"Lyrical (LY)\",\n",
    "                     \"MT\": \"Machine Translation (MT)\",\n",
    "                     \"NA\": \"Narrative (NA)\",\n",
    "                     \"OP\": \"Opinion (OP)\",\n",
    "                     \"SP\": \"Spoken (SP)\",\n",
    "                     \"ne\": \"News (ne)\",\n",
    "                     \"dtp\": \"Description (dtp)\"}\n",
    "\n",
    "benchmark_name_map = {'acc_norm_arc_easy':\"ARC Easy\",\n",
    "                  'acc_norm_arc_challenge':\"ARC Challenge\",\n",
    "                  'acc_norm_hellaswag': \"Hellaswag\",\n",
    "                  'acc_norm_mmlu': \"MMLU\",\n",
    "                  'acc_norm_siqa': \"SIQA\",\n",
    "                  'acc_norm_piqa': \"PIQA\",\n",
    "                  'acc_norm_winogrande': \"WinoGrande\",\n",
    "                  'acc_norm_commonsense_qa': \"CommonsenseQA\",\n",
    "                  'acc_norm_openbookqa': \"OpenbookQA\"}\n",
    "\n",
    "random_baselines={'acc_norm_arc_easy':1/4.0,\n",
    "                  'acc_norm_arc_challenge':1/4.0,\n",
    "                  'acc_norm_hellaswag': 1/4.0,\n",
    "                  'acc_norm_mmlu': 1/4.0,\n",
    "                  'acc_norm_siqa': 1/3.0,\n",
    "                  'acc_norm_piqa': 1/2.0,\n",
    "                  'acc_norm_winogrande': 1/2.0,\n",
    "                  'acc_norm_commonsense_qa': 1/5.0,\n",
    "                  'acc_norm_openbookqa': 1/4.0\n",
    "}\n",
    "\n",
    "def create_colormap(baseline_cmap_name=\"Turbo\"):\n",
    "\n",
    "\n",
    "    c_map={}\n",
    "    angles = np.linspace(0, 1, len(benchmark_name_map.keys())+1)# +1 because the map is cyclic\n",
    "    color_scale = px.colors.sample_colorscale(baseline_cmap_name, angles)\n",
    "\n",
    "    for i, bench in enumerate(benchmark_name_map.keys()):\n",
    "        c_map[bench] = color_scale[i].replace(\"rgb\", \"rgba\").replace(\")\", \", 1)\")\n",
    "    return c_map\n",
    "\n",
    "def change_opacity(c_map, label, focus):\n",
    "    if label in focus:\n",
    "        return c_map[label]\n",
    "    else:\n",
    "        return c_map[label].replace(\", 1)\", \", 0.7)\")"
   ]
  },
  {
   "cell_type": "markdown",
   "metadata": {},
   "source": [
    "## Line plots, separated register"
   ]
  },
  {
   "cell_type": "code",
   "execution_count": 33,
   "metadata": {},
   "outputs": [
    {
     "data": {
      "application/vnd.plotly.v1+json": {
       "config": {
        "plotlyServerURL": "https://plot.ly"
       },
       "data": [
        {
         "legendgroup": "acc_norm_arc_easy",
         "line": {
          "color": "rgba(48, 18, 59, 1)",
          "dash": "solid",
          "width": 1.5
         },
         "mode": "lines",
         "name": "ARC Easy",
         "showlegend": true,
         "type": "scatter",
         "x": {
          "bdata": "AAAAQN1K70EAAADwJXj3QQAAAEDdSv9BAAAASMqOA0IAAADwJXgHQgAAAJiBYQtCAAAAQN1KD0IAAAB0HJoRQgAAAEjKjhNCAAAAHHiDFUIAAADwJXgXQgAAAMTTbBlCAAAAmIFhG0IAAABsL1YdQgAAAEDdSh9CAAAAisWfIEIAAAB0HJohQgAAAF5zlCJCAAAASMqOI0IAAAAyIYkkQgAAABx4gyVCAAAABs99JkIAAADwJXgnQgAAANp8cihCAAAAxNNsKUIAAACuKmcqQgAAAJiBYStCAAAAgthbLEIAAABsL1YtQgAAAFaGUC5CAAAAQN1KL0IAAAAVmiIwQgAAAIrFnzBCAAAA//AcMUIAAAB0HJoxQgAAAOlHFzJCAAAAXnOUMkIAAADTnhEzQgAAAEjKjjNCAAAAvfULNEIAAAAyIYk0QgAAAKdMBjVCAAAAHHiDNUIAAACRowA2QgAAAAbPfTZCAAAAe/r6NkIAAADwJXg3QgAAAGVR9TdC",
          "dtype": "f8"
         },
         "xaxis": "x",
         "y": {
          "bdata": "K84+fIZd2T9TcfbhM+zaP39qvHSTGNw/xCCwcmiR3T/zRP0boYzeP126SQwCK98/dUzwYJ6o3z9iV4Dcay7gP7Y6JngwT+A/NaXi7MNn4D956SYxCKzgPxM8mCfq3+A/P8OuALnX4D+IiIiIiIjgP5TR27JWx+A/A5020GkD4T84Qhm9LWvhP7nXXEiaUuE/c2iR7Xw/4T/Jdr6fGi/hPyvOPnyGXeE/GQRWDi2y4T8JZfS2rNXhPwll9Las1eE/GQRWDi2y4T/9G6GM3pbhP0SLbOf7qeE/jCW/WPKL4T+amZmZmZnhP+Mz7AqQe+E/NxeSplSc4T9GtvP91HjhP8UgsHJokeE/w/UoXI/C4T+VQ4ts5/vhP/eaC0lTKuI/eTBP1L8R4j/3mgtJUyriP8HKoUW28+E/QWDl0CLb4T99hl0Bcq/hPwll9Las1eE/o7dlrY4J4j/OPnyGXQHiP6O3Za2OCeI/Wx0TPJgn4j89CtejcD3iP2u8dJMYBOI/",
          "dtype": "f8"
         },
         "yaxis": "y"
        },
        {
         "legendgroup": "acc_norm_arc_challenge",
         "line": {
          "color": "rgba(68, 96, 208, 1)",
          "dash": "solid",
          "width": 1.5
         },
         "mode": "lines",
         "name": "ARC Challenge",
         "showlegend": true,
         "type": "scatter",
         "x": {
          "bdata": "AAAAQN1K70EAAADwJXj3QQAAAEDdSv9BAAAASMqOA0IAAADwJXgHQgAAAJiBYQtCAAAAQN1KD0IAAAB0HJoRQgAAAEjKjhNCAAAAHHiDFUIAAADwJXgXQgAAAMTTbBlCAAAAmIFhG0IAAABsL1YdQgAAAEDdSh9CAAAAisWfIEIAAAB0HJohQgAAAF5zlCJCAAAASMqOI0IAAAAyIYkkQgAAABx4gyVCAAAABs99JkIAAADwJXgnQgAAANp8cihCAAAAxNNsKUIAAACuKmcqQgAAAJiBYStCAAAAgthbLEIAAABsL1YtQgAAAFaGUC5CAAAAQN1KL0IAAAAVmiIwQgAAAIrFnzBCAAAA//AcMUIAAAB0HJoxQgAAAOlHFzJCAAAAXnOUMkIAAADTnhEzQgAAAEjKjjNCAAAAvfULNEIAAAAyIYk0QgAAAKdMBjVCAAAAHHiDNUIAAACRowA2QgAAAAbPfTZCAAAAe/r6NkIAAADwJXg3QgAAAGVR9TdC",
          "dtype": "f8"
         },
         "xaxis": "x",
         "y": {
          "bdata": "gU4b6LSBzj8dEzyYJ+rPPzWl4uzDZ9A/qMZLN4lB0D/8qfHSTWLQP91rLiRNqdA/ERERERER0T/wp8ZLN4nRP2PJL5b8YtE/fIZdAXKv0T8JZfS2rNXRP0Fg5dAi29E/l24Sg8DK0T8LkHvNhaTRP+xRuB6F69E/lBgEVg4t0j/l0CLb+X7SP8i95kLSlNI/zBP1b4Qy0j/OPnyGXQHSP7ErQO41F9I/ALnXXEia0j9UnH34DLvSPwC511xImtI/V8cED+aJ0j/K6G1Zq2PSP8WSXyz5xdI/i2zn+6nx0j/BPFH/RijTP/xiyS+W/NI/VJx9+Ay70j85tMh2vp/SP+Olm8QgsNI/jZduEoPA0j+nVJx9+AzTP25Zq2OCB9M/UEZvy1od0z+lKRVnHz7TP6P+jVBGb9M/TfBgnqh/0z/8YskvlvzSP8aSXyz5xdI/qH8jlNHb0j8YS36x5BfTP/fhM+wKkNM/2/l+arx00z+8u7u7u7vTP/kMuwLkXtM/",
          "dtype": "f8"
         },
         "yaxis": "y"
        },
        {
         "legendgroup": "acc_norm_hellaswag",
         "line": {
          "color": "rgba(54, 167, 248, 1)",
          "dash": "solid",
          "width": 1.5
         },
         "mode": "lines",
         "name": "Hellaswag",
         "showlegend": true,
         "type": "scatter",
         "x": {
          "bdata": "AAAAQN1K70EAAADwJXj3QQAAAEDdSv9BAAAASMqOA0IAAADwJXgHQgAAAJiBYQtCAAAAQN1KD0IAAAB0HJoRQgAAAEjKjhNCAAAAHHiDFUIAAADwJXgXQgAAAMTTbBlCAAAAmIFhG0IAAABsL1YdQgAAAEDdSh9CAAAAisWfIEIAAAB0HJohQgAAAF5zlCJCAAAASMqOI0IAAAAyIYkkQgAAABx4gyVCAAAABs99JkIAAADwJXgnQgAAANp8cihCAAAAxNNsKUIAAACuKmcqQgAAAJiBYStCAAAAgthbLEIAAABsL1YtQgAAAFaGUC5CAAAAQN1KL0IAAAAVmiIwQgAAAIrFnzBCAAAA//AcMUIAAAB0HJoxQgAAAOlHFzJCAAAAXnOUMkIAAADTnhEzQgAAAEjKjjNCAAAAvfULNEIAAAAyIYk0QgAAAKdMBjVCAAAAHHiDNUIAAACRowA2QgAAAAbPfTZCAAAAe/r6NkIAAADwJXg3QgAAAGVR9TdC",
          "dtype": "f8"
         },
         "xaxis": "x",
         "y": {
          "bdata": "tMh2vp8a1z+R7Xw/NV7aPwjzRP0bodw/v58aL90k3j+0yHa+nxrfP8cED+aJ+t8/fT81XrpJ4D9QjZduEoPgP8GDeaL+jeA/3WsuJE2p4D/bQKcNdNrgPwFyr7mQNOE/qTj78Bl24T83F5KmVJzhPxkEVg4tsuE/fYZdAXKv4T/QaQOdNtDhPwll9Las1eE/JE2pOPvw4T8VrkfhehTiP0t+seQXS+I/yehtWatj4j+8dJMYBFbiPwQP5on6N+I/hHmi/o1Q4j+s1THBg3niPxBYObTIduI/rdUxwYN54j/J6G1Zq2PiPwPkXnMhaeI/WPKLJb9Y4j902kCnDXTiP+Olm8QgsOI/q6qqqqqq4j+cNtBpA53iPzm0yHa+n+I/YhBYObTI4j/DZ9gVIPfiPyfq3whl9OI/DAIrhxbZ4j9iEFg5tMjiP5sLSVMqzuI/xZJfLPnF4j9/I5TR27LiP3GvuZA0peI/jZduEoPA4j+bC0lTKs7iP6h/I5TR2+I/",
          "dtype": "f8"
         },
         "yaxis": "y"
        },
        {
         "legendgroup": "acc_norm_mmlu",
         "line": {
          "color": "rgba(33, 226, 181, 1)",
          "dash": "solid",
          "width": 1.5
         },
         "mode": "lines",
         "name": "MMLU",
         "showlegend": true,
         "type": "scatter",
         "x": {
          "bdata": "AAAAQN1K70EAAADwJXj3QQAAAEDdSv9BAAAASMqOA0IAAADwJXgHQgAAAJiBYQtCAAAAQN1KD0IAAAB0HJoRQgAAAEjKjhNCAAAAHHiDFUIAAADwJXgXQgAAAMTTbBlCAAAAmIFhG0IAAABsL1YdQgAAAEDdSh9CAAAAisWfIEIAAAB0HJohQgAAAF5zlCJCAAAASMqOI0IAAAAyIYkkQgAAABx4gyVCAAAABs99JkIAAADwJXgnQgAAANp8cihCAAAAxNNsKUIAAACuKmcqQgAAAJiBYStCAAAAgthbLEIAAABsL1YtQgAAAFaGUC5CAAAAQN1KL0IAAAAVmiIwQgAAAIrFnzBCAAAA//AcMUIAAAB0HJoxQgAAAOlHFzJCAAAAXnOUMkIAAADTnhEzQgAAAEjKjjNCAAAAvfULNEIAAAAyIYk0QgAAAKdMBjVCAAAAHHiDNUIAAACRowA2QgAAAAbPfTZCAAAAe/r6NkIAAADwJXg3QgAAAGVR9TdC",
          "dtype": "f8"
         },
         "xaxis": "x",
         "y": {
          "bdata": "1XmU+1mK0D8VWAyC5+vQPzdv/YyMDNE/fd7WbK9E0T+URn+h4FvRP0w8fLAWkNE/ns3jkJOQ0T9v7/64ApvRPwp1tgStqNE//9gVq1630T+vreyGX9TRP4fcbMoD4tE/WzQaEUMi0j9pozf1/yHSP+1Zi4/UGNI/quAVLWjt0T88sQ9OoPbRP3kKE1/6DtI/5x2wK/co0j+78Pu7o0PSP8EfM3Y7Y9I/PGpWLjZh0j8jWDYMIk7SP5+9Ck3iPNI/xEjCiQ1P0j8hxq39bXrSP230+Ourg9I/+DE/6v6K0j9gT+5zuGfSPyw6bIJ3bdI//RuMA3tT0j+vZMpNknPSP2ATakNMbdI/K+NEMnaW0j8Ffh4jc4vSPxftz3aJltI/XA92g4tv0j+8tPfqdIfSP/fk3kAXi9I/TPKAtECp0j/D0eLmHI7SP6BUkhwDltI/tcRjr+ye0j8QfMREBK/SP2TnIux9s9I/hV9noRSv0j/f/tDh96zSPzf52dKuodI/",
          "dtype": "f8"
         },
         "yaxis": "y"
        },
        {
         "legendgroup": "acc_norm_siqa",
         "line": {
          "color": "rgba(112, 252, 97, 1)",
          "dash": "solid",
          "width": 1.5
         },
         "mode": "lines",
         "name": "SIQA",
         "showlegend": true,
         "type": "scatter",
         "x": {
          "bdata": "AAAAQN1K70EAAADwJXj3QQAAAEDdSv9BAAAASMqOA0IAAADwJXgHQgAAAJiBYQtCAAAAQN1KD0IAAAB0HJoRQgAAAEjKjhNCAAAAHHiDFUIAAADwJXgXQgAAAMTTbBlCAAAAmIFhG0IAAABsL1YdQgAAAEDdSh9CAAAAisWfIEIAAAB0HJohQgAAAF5zlCJCAAAASMqOI0IAAAAyIYkkQgAAABx4gyVCAAAABs99JkIAAADwJXgnQgAAANp8cihCAAAAxNNsKUIAAACuKmcqQgAAAJiBYStCAAAAgthbLEIAAABsL1YtQgAAAFaGUC5CAAAAQN1KL0IAAAAVmiIwQgAAAIrFnzBCAAAA//AcMUIAAAB0HJoxQgAAAOlHFzJCAAAAXnOUMkIAAADTnhEzQgAAAEjKjjNCAAAAvfULNEIAAAAyIYk0QgAAAKdMBjVCAAAAHHiDNUIAAACRowA2QgAAAAbPfTZCAAAAe/r6NkIAAADwJXg3QgAAAGVR9TdC",
          "dtype": "f8"
         },
         "xaxis": "x",
         "y": {
          "bdata": "hTJ6W9bq2D8t+cWSXyzZPw27AuRec9k/1b8Ryuht2T/wp8ZLN4nZP5zEILByaNk/RIts5/up2T99hl0Bcq/ZP+18PzVeutk/RIts5/up2T9Ei2zn+6nZP/Cnxks3idk/m5mZmZmZ2T8oo7dlrY7ZPyd4ME/Uv9k/QWDl0CLb2T9BYOXQItvZP7WBThvotNk/05SKsw+f2T8NuwLkXnPZP5mZmZmZmdk/1L8Ryuht2T/vfD81XrrZP+98PzVeutk/J3gwT9S/2T/wp8ZLN4nZP0W28/3UeNk/nMQgsHJo2T+1gU4b6LTZP2PJL5b8Ytk/f7HkF0t+2T9FtvP91HjZP0Fg5dAi29k/CWX0tqzV2T98hl0Bcq/ZP7es1THBg9k/fIZdAXKv2T+bmZmZmZnZP7is1THBg9k/Y8kvlvxi2T8rzj58hl3ZP7is1THBg9k/YZ6ofyOU2T/wp8ZLN4nZP9OUirMPn9k/uKzVMcGD2T8neDBP1L/ZPyRNqTj78Nk/",
          "dtype": "f8"
         },
         "yaxis": "y"
        },
        {
         "legendgroup": "acc_norm_piqa",
         "line": {
          "color": "rgba(199, 236, 54, 1)",
          "dash": "solid",
          "width": 1.5
         },
         "mode": "lines",
         "name": "PIQA",
         "showlegend": true,
         "type": "scatter",
         "x": {
          "bdata": "AAAAQN1K70EAAADwJXj3QQAAAEDdSv9BAAAASMqOA0IAAADwJXgHQgAAAJiBYQtCAAAAQN1KD0IAAAB0HJoRQgAAAEjKjhNCAAAAHHiDFUIAAADwJXgXQgAAAMTTbBlCAAAAmIFhG0IAAABsL1YdQgAAAEDdSh9CAAAAisWfIEIAAAB0HJohQgAAAF5zlCJCAAAASMqOI0IAAAAyIYkkQgAAABx4gyVCAAAABs99JkIAAADwJXgnQgAAANp8cihCAAAAxNNsKUIAAACuKmcqQgAAAJiBYStCAAAAgthbLEIAAABsL1YtQgAAAFaGUC5CAAAAQN1KL0IAAAAVmiIwQgAAAIrFnzBCAAAA//AcMUIAAAB0HJoxQgAAAOlHFzJCAAAAXnOUMkIAAADTnhEzQgAAAEjKjjNCAAAAvfULNEIAAAAyIYk0QgAAAKdMBjVCAAAAHHiDNUIAAACRowA2QgAAAAbPfTZCAAAAe/r6NkIAAADwJXg3QgAAAGVR9TdC",
          "dtype": "f8"
         },
         "xaxis": "x",
         "y": {
          "bdata": "jCW/WPKL5T8QWDm0yHbmP21Zq2OCB+c/FSD3mgtJ5z/b+X5qvHTnPxHK6G1Zq+c/WDm0yHa+5z90IWlKxdnnP1cOLbKd7+c/RERERERE6D+oxks3iUHoP/yp8dJNYug/qMZLN4lB6D+YJ+rfCGXoP22g0wY6beg/iIiIiIiI6D9QjZduEoPoPycxCKwcWug/pZvEILBy6D8nMQisHFroP1CNl24Sg+g/mCfq3whl6D9dAXKvuZDoP8GDeaL+jeg/+35qvHST6D8I80T9G6HoP7HkF0t+seg/ME/UvxHK6D+wuZA0peLoPyGwcmiR7eg/20CnDXTa6D/4U+Olm8ToP6NFtvP91Og/k6ZUnH346D8hsHJoke3oP/UoXI/C9eg/y6FFtvP96D8P5on6N0LpP5B7zYWkKek/rY4JHswT6T8UPJgn6t/oP83MzMzMzOg/P8OuALnX6D94vp8aL93oP8uhRbbz/eg/oBov3SQG6T9LDAIrhxbpP5B7zYWkKek/",
          "dtype": "f8"
         },
         "yaxis": "y"
        },
        {
         "legendgroup": "acc_norm_winogrande",
         "line": {
          "color": "rgba(247, 184, 54, 1)",
          "dash": "solid",
          "width": 1.5
         },
         "mode": "lines",
         "name": "WinoGrande",
         "showlegend": true,
         "type": "scatter",
         "x": {
          "bdata": "AAAAQN1K70EAAADwJXj3QQAAAEDdSv9BAAAASMqOA0IAAADwJXgHQgAAAJiBYQtCAAAAQN1KD0IAAAB0HJoRQgAAAEjKjhNCAAAAHHiDFUIAAADwJXgXQgAAAMTTbBlCAAAAmIFhG0IAAABsL1YdQgAAAEDdSh9CAAAAisWfIEIAAAB0HJohQgAAAF5zlCJCAAAASMqOI0IAAAAyIYkkQgAAABx4gyVCAAAABs99JkIAAADwJXgnQgAAANp8cihCAAAAxNNsKUIAAACuKmcqQgAAAJiBYStCAAAAgthbLEIAAABsL1YtQgAAAFaGUC5CAAAAQN1KL0IAAAAVmiIwQgAAAIrFnzBCAAAA//AcMUIAAAB0HJoxQgAAAOlHFzJCAAAAXnOUMkIAAADTnhEzQgAAAEjKjjNCAAAAvfULNEIAAAAyIYk0QgAAAKdMBjVCAAAAHHiDNUIAAACRowA2QgAAAAbPfTZCAAAAe/r6NkIAAADwJXg3QgAAAGVR9TdC",
          "dtype": "f8"
         },
         "xaxis": "x",
         "y": {
          "bdata": "IWlKxdmH3z+sHFpkO9/fPylcj8L1KOA/N9BpA5024D/day4kTangPy8kTak4++A/c2iR7Xw/4T+gGi/dJAbhP5OmVJx9+OA/20CnDXTa4D/bQKcNdNrgP/hT46WbxOA/698IZfS24D/LoUW28/3gP1iA3GsuJOE/1+qY4ME84T8EnTbQaQPhP5OmVJx9+OA/oBov3SQG4T/X6pjgwTzhP1VVVVVVVeE/uddcSJpS4T+B3GsuJE3hP1iA3GsuJOE/vALkXnMh4T8t+cWSXyzhP1VVVVVVVeE/nMQgsHJo4T+511xImlLhPw27AuRec+E/qTj78Bl24T9UKs4+fIbhPw27AuRec+E/Rrbz/dR44T+cxCCwcmjhP3Noke18P+E/AXKvuZA04T9WVVVVVVXhP/PSTWIQWOE/VVVVVVVV4T/y0k1iEFjhP8UgsHJokeE/C5B7zYWk4T/VvxHK6G3hP1VVVVVVVeE/x0s3iUFg4T9xPQrXo3DhP9S/EcrobeE/",
          "dtype": "f8"
         },
         "yaxis": "y"
        },
        {
         "legendgroup": "acc_norm_commonsense_qa",
         "line": {
          "color": "rgba(244, 105, 24, 1)",
          "dash": "solid",
          "width": 1.5
         },
         "mode": "lines",
         "name": "CommonsenseQA",
         "showlegend": true,
         "type": "scatter",
         "x": {
          "bdata": "AAAAQN1K70EAAADwJXj3QQAAAEDdSv9BAAAASMqOA0IAAADwJXgHQgAAAJiBYQtCAAAAQN1KD0IAAAB0HJoRQgAAAEjKjhNCAAAAHHiDFUIAAADwJXgXQgAAAMTTbBlCAAAAmIFhG0IAAABsL1YdQgAAAEDdSh9CAAAAisWfIEIAAAB0HJohQgAAAF5zlCJCAAAASMqOI0IAAAAyIYkkQgAAABx4gyVCAAAABs99JkIAAADwJXgnQgAAANp8cihCAAAAxNNsKUIAAACuKmcqQgAAAJiBYStCAAAAgthbLEIAAABsL1YtQgAAAFaGUC5CAAAAQN1KL0IAAAAVmiIwQgAAAIrFnzBCAAAA//AcMUIAAAB0HJoxQgAAAOlHFzJCAAAAXnOUMkIAAADTnhEzQgAAAEjKjjNCAAAAvfULNEIAAAAyIYk0QgAAAKdMBjVCAAAAHHiDNUIAAACRowA2QgAAAAbPfTZCAAAAe/r6NkIAAADwJXg3QgAAAGVR9TdC",
          "dtype": "f8"
         },
         "xaxis": "x",
         "y": {
          "bdata": "CWX0tqzV0T8g95oLSVPSP/xiyS+W/NI/+jdCGb0t0z/0tqzVMcHTP0dvy1odE9Q/tA+fYVeA1D97FK5H4XrUP5tScfbhM9Q/DnTaQKcN1D+1OiZ4ME/UPyUGgZVDi9Q/dZMYBFYO1T+sY4IH80TVP6k4+/AZdtU/x0s3iUFg1T/HSzeJQWDVPxkEVg4tstU/3d3d3d3d1T+L+jdCGb3VPzUXkqZUnNU/AEcoo7dl1T/FILByaJHVP28Sg8DKodU/w/UoXI/C1T83F5KmVJzVP+AIZfS2rNU/xSCwcmiR1T+l4uzDZ9jVP28Sg8DKodU/4zPsCpB71T9YgNxrLiTVPx1aZDvfT9U/NReSplSc1T/f3d3d3d3VPxfZzvdT49U/NxeSplSc1T9vEoPAyqHVP2u8dJMYBNY/EFg5tMh21j+fYVeA3GvWPxSuR+F6FNY/h6QpFWcf1j9oke18PzXWP4jPsCtA7tU/GARWDi2y1T+oDXTaQKfVPxSuR+F6FNY/",
          "dtype": "f8"
         },
         "yaxis": "y"
        },
        {
         "legendgroup": "acc_norm_openbookqa",
         "line": {
          "color": "rgba(199, 42, 4, 1)",
          "dash": "solid",
          "width": 1.5
         },
         "mode": "lines",
         "name": "OpenbookQA",
         "showlegend": true,
         "type": "scatter",
         "x": {
          "bdata": "AAAAQN1K70EAAADwJXj3QQAAAEDdSv9BAAAASMqOA0IAAADwJXgHQgAAAJiBYQtCAAAAQN1KD0IAAAB0HJoRQgAAAEjKjhNCAAAAHHiDFUIAAADwJXgXQgAAAMTTbBlCAAAAmIFhG0IAAABsL1YdQgAAAEDdSh9CAAAAisWfIEIAAAB0HJohQgAAAF5zlCJCAAAASMqOI0IAAAAyIYkkQgAAABx4gyVCAAAABs99JkIAAADwJXgnQgAAANp8cihCAAAAxNNsKUIAAACuKmcqQgAAAJiBYStCAAAAgthbLEIAAABsL1YtQgAAAFaGUC5CAAAAQN1KL0IAAAAVmiIwQgAAAIrFnzBCAAAA//AcMUIAAAB0HJoxQgAAAOlHFzJCAAAAXnOUMkIAAADTnhEzQgAAAEjKjjNCAAAAvfULNEIAAAAyIYk0QgAAAKdMBjVCAAAAHHiDNUIAAACRowA2QgAAAAbPfTZCAAAAe/r6NkIAAADwJXg3QgAAAGVR9TdC",
          "dtype": "f8"
         },
         "xaxis": "x",
         "y": {
          "bdata": "K84+fIZd0T+XbhKDwMrRPwC511xImtI/46WbxCCw0j/4DLsC5F7TP9ejcD0K19M/XQFyr7mQ1D9dAXKvuZDUP5TR27JWx9Q/CR7ME/Vv1D/sCpB7zYXUP8/3U+Olm9Q/rY4JHswT1T+tjgkezBPVP1mrY4IH89Q/Watjggfz1D84Qhm9LWvVP28Sg8DKodU/Gy/dJAaB1T+Qe82FpCnVP+RecyFpStU/jCW/WPKL1T/cslbHBA/WP2dmZmZmZtY/SFMqzj581j/1b4QyelvWPzCW/GLJL9Y/MJb8Yskv1j9nZmZmZmbWP02pOPvwGdY/u0kMAiuH1j9nZmZmZmbWP7Xz/dR46dY/8Bl2Bci91j+AI5TR27LWP4R5ov6NUNY/oYzelrU61j9nZmZmZmbWP4N5ov6NUNY/SVMqzj581j8wlvxiyS/WP02pOPvwGdY/F9nO91Pj1T9R/0Yoo7fVP2u8dJMYBNY/+cWSXyz51T/5xZJfLPnVP7+fGi/dJNY/",
          "dtype": "f8"
         },
         "yaxis": "y"
        },
        {
         "legendgroup": "acc_norm_arc_easy",
         "line": {
          "color": "rgba(48, 18, 59, 1)",
          "dash": "solid",
          "width": 1.5
         },
         "mode": "lines",
         "name": "ARC Easy",
         "showlegend": false,
         "type": "scatter",
         "x": {
          "bdata": "AAAAQN1K70EAAADwJXj3QQAAAEDdSv9BAAAASMqOA0IAAADwJXgHQgAAAJiBYQtCAAAAQN1KD0IAAAB0HJoRQgAAAEjKjhNCAAAAHHiDFUIAAADwJXgXQgAAAMTTbBlCAAAAmIFhG0IAAABsL1YdQgAAAEDdSh9CAAAAisWfIEIAAAB0HJohQgAAAF5zlCJCAAAASMqOI0IAAAAyIYkkQgAAABx4gyVCAAAABs99JkIAAADwJXgnQgAAANp8cihCAAAAxNNsKUIAAACuKmcqQgAAAJiBYStCAAAAgthbLEIAAABsL1YtQgAAAFaGUC5CAAAAQN1KL0IAAAAVmiIwQgAAAIrFnzBCAAAA//AcMUIAAAB0HJoxQgAAAOlHFzJCAAAAXnOUMkIAAADTnhEzQgAAAEjKjjNCAAAAvfULNEIAAAAyIYk0QgAAAKdMBjVCAAAAHHiDNUIAAACRowA2QgAAAAbPfTZCAAAAe/r6NkIAAADwJXg3QgAAAGVR9TdC",
          "dtype": "f8"
         },
         "xaxis": "x2",
         "y": {
          "bdata": "/WLJL5b82j/LoUW28/3cP02pOPvwGd4/mwtJUyrO3j/NhaQpFWffP1UOLbKd798/m1Jx9uEz4D8zelvW6pjgPyPb+X5qvOA/SwwCK4cW4T8t+cWSXyzhP4wlv1jyi+E/jCW/WPKL4T99hl0Bcq/hP2GeqH8jlOE/Uf9GKKO34T9R/0Yoo7fhPyRNqTj78OE/PzVeukkM4j+hjN6WtTriP4N5ov6NUOI/AuRecyFp4j9/I5TR27LiP6uqqqqqquI/u0kMAiuH4j+fYVeA3GviP3TaQKcNdOI/gCOU0duy4j9UnH34DLviP4ts5/up8eI/tMh2vp8a4z9g5dAi2/niPzVeukkMAuM/GXYFyL3m4j81XrpJDALjP2+EMnpb1uI//41QRm/L4j+28/3UeOniP99PjZduEuM/65jgwTxR4z+j/o1QRm/jP1yPwvUoXOM/TxvotIFO4z/fT42XbhLjP4ts5/up8eI/0wY6baDT4j9whDJ6W9biP+3DZ9gVIOM/",
          "dtype": "f8"
         },
         "yaxis": "y2"
        },
        {
         "legendgroup": "acc_norm_arc_challenge",
         "line": {
          "color": "rgba(68, 96, 208, 1)",
          "dash": "solid",
          "width": 1.5
         },
         "mode": "lines",
         "name": "ARC Challenge",
         "showlegend": false,
         "type": "scatter",
         "x": {
          "bdata": "AAAAQN1K70EAAADwJXj3QQAAAEDdSv9BAAAASMqOA0IAAADwJXgHQgAAAJiBYQtCAAAAQN1KD0IAAAB0HJoRQgAAAEjKjhNCAAAAHHiDFUIAAADwJXgXQgAAAMTTbBlCAAAAmIFhG0IAAABsL1YdQgAAAEDdSh9CAAAAisWfIEIAAAB0HJohQgAAAF5zlCJCAAAASMqOI0IAAAAyIYkkQgAAABx4gyVCAAAABs99JkIAAADwJXgnQgAAANp8cihCAAAAxNNsKUIAAACuKmcqQgAAAJiBYStCAAAAgthbLEIAAABsL1YtQgAAAFaGUC5CAAAAQN1KL0IAAAAVmiIwQgAAAIrFnzBCAAAA//AcMUIAAAB0HJoxQgAAAOlHFzJCAAAAXnOUMkIAAADTnhEzQgAAAEjKjjNCAAAAvfULNEIAAAAyIYk0QgAAAKdMBjVCAAAAHHiDNUIAAACRowA2QgAAAAbPfTZCAAAAe/r6NkIAAADwJXg3QgAAAGVR9TdC",
          "dtype": "f8"
         },
         "xaxis": "x2",
         "y": {
          "bdata": "ffgMuwLkzj+wcmiR7XzPP+HBPFH/RtA/Gb0ta3VM0D8VZx8+w67QP53vp8ZLN9E/0GkDnTbQ0T+YbhKDwMrRP/Cnxks3idE/Q4ts5/up0T9fcyFpSsXRP7ErQO41F9I/Wx0TPJgn0j/J6G1Zq2PSPwQP5on6N9I/A+RecyFp0j89CtejcD3SPx3ME/VvhNI/sStA7jUX0j9bHRM8mCfSP0Jg5dAi29E/y+htWatj0j8g95oLSVPSP3KvuZA0pdI/y+htWatj0j/IveZC0pTSP1ScffgMu9I/i2zn+6nx0j/EZ9gVIPfSP3CEMnpb1tI/qH8jlNHb0j+LbOf7qfHSP6h/I5TR29I/xGfYFSD30j9tWatjggfTPxLK6G1Zq9M/o/6NUEZv0z++5kLSlIrTPxUg95oLSdM/o/6NUEZv0z+j/o1QRm/TP25Zq2OCB9M/NV66SQwC0z/Fkl8s+cXSPzEIrBxaZNM/2/l+arx00z/ZzvdT46XTP8ARyuhtWdM/",
          "dtype": "f8"
         },
         "yaxis": "y2"
        },
        {
         "legendgroup": "acc_norm_hellaswag",
         "line": {
          "color": "rgba(54, 167, 248, 1)",
          "dash": "solid",
          "width": 1.5
         },
         "mode": "lines",
         "name": "Hellaswag",
         "showlegend": false,
         "type": "scatter",
         "x": {
          "bdata": "AAAAQN1K70EAAADwJXj3QQAAAEDdSv9BAAAASMqOA0IAAADwJXgHQgAAAJiBYQtCAAAAQN1KD0IAAAB0HJoRQgAAAEjKjhNCAAAAHHiDFUIAAADwJXgXQgAAAMTTbBlCAAAAmIFhG0IAAABsL1YdQgAAAEDdSh9CAAAAisWfIEIAAAB0HJohQgAAAF5zlCJCAAAASMqOI0IAAAAyIYkkQgAAABx4gyVCAAAABs99JkIAAADwJXgnQgAAANp8cihCAAAAxNNsKUIAAACuKmcqQgAAAJiBYStCAAAAgthbLEIAAABsL1YtQgAAAFaGUC5CAAAAQN1KL0IAAAAVmiIwQgAAAIrFnzBCAAAA//AcMUIAAAB0HJoxQgAAAOlHFzJCAAAAXnOUMkIAAADTnhEzQgAAAEjKjjNCAAAAvfULNEIAAAAyIYk0QgAAAKdMBjVCAAAAHHiDNUIAAACRowA2QgAAAAbPfTZCAAAAe/r6NkIAAADwJXg3QgAAAGVR9TdC",
          "dtype": "f8"
         },
         "xaxis": "x2",
         "y": {
          "bdata": "7jUXkqZU1D8zwYN5ov7VP3VM8GCeqNc/M3pb1uqY2D+1gU4b6LTZP5VDi2zn+9k/yL3mQtKU2j84iUFg5dDaPzEIrBxaZNs/vLu7u7u72z9Hb8taHRPcPycxCKwcWtw/seQXS36x3D+V/GLJL5bcP10Bcq+5kNw/sLmQNKXi3D9VVVVVVVXdPxgEVg4tst0/GQRWDi2y3T807AqQe83dP4v6N0IZvd0/xSCwcmiR3T+pOPvwGXbdP4wlv1jyi90/Gy/dJAaB3T81F5KmVJzdP8P1KFyPwt0/vZ8aL90k3j8wlvxiyS/ePxBYObTIdt4/1THBg3mi3j/R27JWxwTfPwnXo3A9Ct8/1AY6baDT3j9D0pSKsw/fPyjq3whl9N4/CKwcWmQ73z9g5dAi2/neP126SQwCK98/CKwcWmQ73z95ov6NUEbfP7TIdr6fGt8/eaL+jVBG3z/NhaQpFWffP7ByaJHtfN8/BFYOLbKd3z91TPBgnqjfP3QhaUrF2d8/",
          "dtype": "f8"
         },
         "yaxis": "y2"
        },
        {
         "legendgroup": "acc_norm_mmlu",
         "line": {
          "color": "rgba(33, 226, 181, 1)",
          "dash": "solid",
          "width": 1.5
         },
         "mode": "lines",
         "name": "MMLU",
         "showlegend": false,
         "type": "scatter",
         "x": {
          "bdata": "AAAAQN1K70EAAADwJXj3QQAAAEDdSv9BAAAASMqOA0IAAADwJXgHQgAAAJiBYQtCAAAAQN1KD0IAAAB0HJoRQgAAAEjKjhNCAAAAHHiDFUIAAADwJXgXQgAAAMTTbBlCAAAAmIFhG0IAAABsL1YdQgAAAEDdSh9CAAAAisWfIEIAAAB0HJohQgAAAF5zlCJCAAAASMqOI0IAAAAyIYkkQgAAABx4gyVCAAAABs99JkIAAADwJXgnQgAAANp8cihCAAAAxNNsKUIAAACuKmcqQgAAAJiBYStCAAAAgthbLEIAAABsL1YtQgAAAFaGUC5CAAAAQN1KL0IAAAAVmiIwQgAAAIrFnzBCAAAA//AcMUIAAAB0HJoxQgAAAOlHFzJCAAAAXnOUMkIAAADTnhEzQgAAAEjKjjNCAAAAvfULNEIAAAAyIYk0QgAAAKdMBjVCAAAAHHiDNUIAAACRowA2QgAAAAbPfTZCAAAAe/r6NkIAAADwJXg3QgAAAGVR9TdC",
          "dtype": "f8"
         },
         "xaxis": "x2",
         "y": {
          "bdata": "1CDNQPEF0T8ZQ6vKwH3RP/60bZgow9E/sW7/3BT90T9ck9FxKCPSP9Wna4g2QtI/WwC+LDVw0j8hNihqKZfSP6vQgBgRrtI/gbgGysWi0j/t82Gir83SP1sC/SdG69I/v09XL2rz0j9V5K+7lN7SPzhlzTcv49I/J5KDqqb+0j+rqKVsEhXTP8L/Ap+SNdM/7HB8L8JB0z+QK8YunFDTP6WzxWr4UtM/iPKQiP5l0z87eP83R3TTPx1Rmk3ZbNM//78GxMBY0z+VWLsD9VHTP3h0+cdNW9M/UtrGa0WB0z9VO0gph6PTP44cTj++ytM/hapAr0DR0z9tsS1xkdHTPzvSR1AtztM/4Zsjj8TV0z894CStvbzTPxgKHTmsp9M/JHZ8sjaf0z9DuA5GYq/TP/wVS68pzNM/Yf6sH/rK0z84klSzBs3TP24Fq1AVttM/j6wQnRLM0z/yHmUdb8TTP0U34+m00dM/rVNcFHXM0z8kn7g5Is7TPxjzIIVg0NM/",
          "dtype": "f8"
         },
         "yaxis": "y2"
        },
        {
         "legendgroup": "acc_norm_siqa",
         "line": {
          "color": "rgba(112, 252, 97, 1)",
          "dash": "solid",
          "width": 1.5
         },
         "mode": "lines",
         "name": "SIQA",
         "showlegend": false,
         "type": "scatter",
         "x": {
          "bdata": "AAAAQN1K70EAAADwJXj3QQAAAEDdSv9BAAAASMqOA0IAAADwJXgHQgAAAJiBYQtCAAAAQN1KD0IAAAB0HJoRQgAAAEjKjhNCAAAAHHiDFUIAAADwJXgXQgAAAMTTbBlCAAAAmIFhG0IAAABsL1YdQgAAAEDdSh9CAAAAisWfIEIAAAB0HJohQgAAAF5zlCJCAAAASMqOI0IAAAAyIYkkQgAAABx4gyVCAAAABs99JkIAAADwJXgnQgAAANp8cihCAAAAxNNsKUIAAACuKmcqQgAAAJiBYStCAAAAgthbLEIAAABsL1YtQgAAAFaGUC5CAAAAQN1KL0IAAAAVmiIwQgAAAIrFnzBCAAAA//AcMUIAAAB0HJoxQgAAAOlHFzJCAAAAXnOUMkIAAADTnhEzQgAAAEjKjjNCAAAAvfULNEIAAAAyIYk0QgAAAKdMBjVCAAAAHHiDNUIAAACRowA2QgAAAAbPfTZCAAAAe/r6NkIAAADwJXg3QgAAAGVR9TdC",
          "dtype": "f8"
         },
         "xaxis": "x2",
         "y": {
          "bdata": "uwLkXnMh2T9FtvP91HjZPyvOPnyGXdk/ZfS2rNUx2T9l9Las1THZP3+x5BdLftk/e1vW6pjg2T8IOm2g0wbaPyV4ME/Uv9k/Rbbz/dR42T8NuwLkXnPZP2GeqH8jlNk/DbsC5F5z2T/0/dR46SbZP7nXXEiaUtk/K84+fIZd2T/TlIqzD5/ZP5qZmZmZmdk/tYFOG+i02T+bmZmZmZnZP3+x5BdLftk/89JNYhBY2T9/seQXS37ZP2PJL5b8Ytk/mZmZmZmZ2T+511xImlLZP2PJL5b8Ytk/aB8+w64A2T+8AuRecyHZP2TJL5b8Ytk/8KfGSzeJ2T/x0k1iEFjZPy8kTak4+9g/Zx8+w64A2T+DB/NE/RvZP0jhehSuR9k/gdxrLiRN2T9kyS+W/GLZP7nXXEiaUtk/oBov3SQG2T+DB/NE/RvZPxEREREREdk/uwLkXnMh2T9MN4lBYOXYP70ta3VM8Ng/2RUg95oL2T/UvxHK6G3ZPwuQe82FpNk/",
          "dtype": "f8"
         },
         "yaxis": "y2"
        },
        {
         "legendgroup": "acc_norm_piqa",
         "line": {
          "color": "rgba(199, 236, 54, 1)",
          "dash": "solid",
          "width": 1.5
         },
         "mode": "lines",
         "name": "PIQA",
         "showlegend": false,
         "type": "scatter",
         "x": {
          "bdata": "AAAAQN1K70EAAADwJXj3QQAAAEDdSv9BAAAASMqOA0IAAADwJXgHQgAAAJiBYQtCAAAAQN1KD0IAAAB0HJoRQgAAAEjKjhNCAAAAHHiDFUIAAADwJXgXQgAAAMTTbBlCAAAAmIFhG0IAAABsL1YdQgAAAEDdSh9CAAAAisWfIEIAAAB0HJohQgAAAF5zlCJCAAAASMqOI0IAAAAyIYkkQgAAABx4gyVCAAAABs99JkIAAADwJXgnQgAAANp8cihCAAAAxNNsKUIAAACuKmcqQgAAAJiBYStCAAAAgthbLEIAAABsL1YtQgAAAFaGUC5CAAAAQN1KL0IAAAAVmiIwQgAAAIrFnzBCAAAA//AcMUIAAAB0HJoxQgAAAOlHFzJCAAAAXnOUMkIAAADTnhEzQgAAAEjKjjNCAAAAvfULNEIAAAAyIYk0QgAAAKdMBjVCAAAAHHiDNUIAAACRowA2QgAAAAbPfTZCAAAAe/r6NkIAAADwJXg3QgAAAGVR9TdC",
          "dtype": "f8"
         },
         "xaxis": "x2",
         "y": {
          "bdata": "I5TR27JW4z9kggfzRP3jPwkezBP1b+Q/698IZfS25D+SplScffjkP9kVIPeaC+U/EOaJ+jdC5T84Qhm9LWvlP5uZmZmZmeU/peLsw2fY5T8zwYN5ov7lPzHBg3mi/uU/QDVeukkM5j/5xZJfLPnlP9uHz7ArQOY/E4PAyqFF5j8g95oLSVPmPzCW/GLJL+Y/FK5H4XoU5j+FpCkVZx/mP5MYBFYOLeY/WPKLJb9Y5j/YXEiaUnHmP9hcSJpSceY/dNpApw105j9kO99PjZfmPytA7jUXkuY/SFMqzj585j8wlvxiyS/mP6GM3pa1OuY/n2FXgNxr5j+rqqqqqqrmP7gehetRuOY/ZDvfT42X5j8dzBP1b4TmP7tJDAIrh+Y/K0DuNReS5j+cNtBpA53mP3OvuZA0peY/q6qqqqqq5j+rqqqqqqrmP6uqqqqqquY/xZJfLPnF5j+bC0lTKs7mP/EZdgXIveY/ZDvfT42X5j/zRP0boYzmP3GvuZA0peY/",
          "dtype": "f8"
         },
         "yaxis": "y2"
        },
        {
         "legendgroup": "acc_norm_winogrande",
         "line": {
          "color": "rgba(247, 184, 54, 1)",
          "dash": "solid",
          "width": 1.5
         },
         "mode": "lines",
         "name": "WinoGrande",
         "showlegend": false,
         "type": "scatter",
         "x": {
          "bdata": "AAAAQN1K70EAAADwJXj3QQAAAEDdSv9BAAAASMqOA0IAAADwJXgHQgAAAJiBYQtCAAAAQN1KD0IAAAB0HJoRQgAAAEjKjhNCAAAAHHiDFUIAAADwJXgXQgAAAMTTbBlCAAAAmIFhG0IAAABsL1YdQgAAAEDdSh9CAAAAisWfIEIAAAB0HJohQgAAAF5zlCJCAAAASMqOI0IAAAAyIYkkQgAAABx4gyVCAAAABs99JkIAAADwJXgnQgAAANp8cihCAAAAxNNsKUIAAACuKmcqQgAAAJiBYStCAAAAgthbLEIAAABsL1YtQgAAAFaGUC5CAAAAQN1KL0IAAAAVmiIwQgAAAIrFnzBCAAAA//AcMUIAAAB0HJoxQgAAAOlHFzJCAAAAXnOUMkIAAADTnhEzQgAAAEjKjjNCAAAAvfULNEIAAAAyIYk0QgAAAKdMBjVCAAAAHHiDNUIAAACRowA2QgAAAAbPfTZCAAAAe/r6NkIAAADwJXg3QgAAAGVR9TdC",
          "dtype": "f8"
         },
         "xaxis": "x2",
         "y": {
          "bdata": "OfvwGXYF4D9Hb8taHRPgP5tScfbhM+A/uGWtjgke4D8NdNpApw3gPzsmeDBP1N8/DXTaQKcN4D8MSVMqzj7gP6abxCCwcuA/w64Auddc4D8ZvS1rdUzgP30/NV66SeA/eekmMQis4D9MN4lBYOXgP6AaL90kBuE/P8OuALnX4D9pSsXZh8/gPz/DrgC51+A/20CnDXTa4D+9LWt1TPDgPz/DrgC51+A/eekmMQis4D/6fmq8dJPgP7LkF0t+seA/IbByaJHt4D/2KFyPwvXgP/YoXI/C9eA/y6FFtvP94D/nifo3QhnhP1iA3GsuJOE/BJ020GkD4T/bQKcNdNrgPwSdNtBpA+E/c2iR7Xw/4T/HSzeJQWDhP7sC5F5zIeE/SgwCK4cW4T8fhetRuB7hPy35xZJfLOE/kHvNhaQp4T+Qe82FpCnhP8l2vp8aL+E/1+qY4ME84T8P5on6N0LhP5zEILByaOE/1+qY4ME84T+7AuRecyHhP3WTGARWDuE/",
          "dtype": "f8"
         },
         "yaxis": "y2"
        },
        {
         "legendgroup": "acc_norm_commonsense_qa",
         "line": {
          "color": "rgba(244, 105, 24, 1)",
          "dash": "solid",
          "width": 1.5
         },
         "mode": "lines",
         "name": "CommonsenseQA",
         "showlegend": false,
         "type": "scatter",
         "x": {
          "bdata": "AAAAQN1K70EAAADwJXj3QQAAAEDdSv9BAAAASMqOA0IAAADwJXgHQgAAAJiBYQtCAAAAQN1KD0IAAAB0HJoRQgAAAEjKjhNCAAAAHHiDFUIAAADwJXgXQgAAAMTTbBlCAAAAmIFhG0IAAABsL1YdQgAAAEDdSh9CAAAAisWfIEIAAAB0HJohQgAAAF5zlCJCAAAASMqOI0IAAAAyIYkkQgAAABx4gyVCAAAABs99JkIAAADwJXgnQgAAANp8cihCAAAAxNNsKUIAAACuKmcqQgAAAJiBYStCAAAAgthbLEIAAABsL1YtQgAAAFaGUC5CAAAAQN1KL0IAAAAVmiIwQgAAAIrFnzBCAAAA//AcMUIAAAB0HJoxQgAAAOlHFzJCAAAAXnOUMkIAAADTnhEzQgAAAEjKjjNCAAAAvfULNEIAAAAyIYk0QgAAAKdMBjVCAAAAHHiDNUIAAACRowA2QgAAAAbPfTZCAAAAe/r6NkIAAADwJXg3QgAAAGVR9TdC",
          "dtype": "f8"
         },
         "xaxis": "x2",
         "y": {
          "bdata": "f7HkF0t+0T+UGARWDi3SPwG511xImtI/i2zn+6nx0j/4DLsC5F7TPzEIrBxaZNM/9bas1THB0z+8u7u7u7vTP7U6JngwT9Q/7AqQe82F1D8/w64AudfUP10Bcq+5kNQ/z/dT46Wb1D/r3whl9LbUP5KmVJx9+NQ/k6ZUnH341D+ujgkezBPVPx+F61G4HtU/AXKvuZA01T/Jdr6fGi/VP62OCR7ME9U/6LSBThvo1D8j2/l+arzUP5TR27JWx9Q/Watjggfz1D8/w64AudfUP+m0gU4b6NQ/6LSBThvo1D8DnTbQaQPVP+eJ+jdCGdU/PsOuALnX1D9c1uqY4MHUP+rfCGX0ttQ/dZMYBFYO1T/lXnMhaUrVP6k4+/AZdtU/cD0K16Nw1T/kXnMhaUrVP62OCR7ME9U/WIDcay4k1T8dWmQ730/VP/0boYzeltU/OEIZvS1r1T8ARyijt2XVP49QRm/LWtU/OEIZvS1r1T+NUEZvy1rVP62OCR7ME9U/",
          "dtype": "f8"
         },
         "yaxis": "y2"
        },
        {
         "legendgroup": "acc_norm_openbookqa",
         "line": {
          "color": "rgba(199, 42, 4, 1)",
          "dash": "solid",
          "width": 1.5
         },
         "mode": "lines",
         "name": "OpenbookQA",
         "showlegend": false,
         "type": "scatter",
         "x": {
          "bdata": "AAAAQN1K70EAAADwJXj3QQAAAEDdSv9BAAAASMqOA0IAAADwJXgHQgAAAJiBYQtCAAAAQN1KD0IAAAB0HJoRQgAAAEjKjhNCAAAAHHiDFUIAAADwJXgXQgAAAMTTbBlCAAAAmIFhG0IAAABsL1YdQgAAAEDdSh9CAAAAisWfIEIAAAB0HJohQgAAAF5zlCJCAAAASMqOI0IAAAAyIYkkQgAAABx4gyVCAAAABs99JkIAAADwJXgnQgAAANp8cihCAAAAxNNsKUIAAACuKmcqQgAAAJiBYStCAAAAgthbLEIAAABsL1YtQgAAAFaGUC5CAAAAQN1KL0IAAAAVmiIwQgAAAIrFnzBCAAAA//AcMUIAAAB0HJoxQgAAAOlHFzJCAAAAXnOUMkIAAADTnhEzQgAAAEjKjjNCAAAAvfULNEIAAAAyIYk0QgAAAKdMBjVCAAAAHHiDNUIAAACRowA2QgAAAAbPfTZCAAAAe/r6NkIAAADwJXg3QgAAAGVR9TdC",
          "dtype": "f8"
         },
         "xaxis": "x2",
         "y": {
          "bdata": "K84+fIZd0T+TGARWDi3SPxl2Bci95tI/9Las1THB0z8nMQisHFrUP10Bcq+5kNQ/tTomeDBP1D8NdNpApw3UP39qvHSTGNQ/exSuR+F61D+U0duyVsfUP3e+nxov3dQ/PJgn6t8I1T9VVVVVVVXVP/0boYzeltU//RuhjN6W1T/gCGX0tqzVP4wlv1jyi9U/jCW/WPKL1T/HSzeJQWDVPxsv3SQGgdU/qTj78Bl21T/9G6GM3pbVP4wlv1jyi9U/Gy/dJAaB1T/9G6GM3pbVP1VVVVVVVdU/NOwKkHvN1T807AqQe83VP9yyVscED9Y/U/9GKKO31T9vEoPAyqHVPzTsCpB7zdU/iM+wK0Du1T/D9Shcj8LVP8P1KFyPwtU/iM+wK0Du1T8wlvxiyS/WP7+fGi/dJNY/iM+wK0Du1T9rvHSTGATWP4jPsCtA7tU/hHmi/o1Q1j/YXEiaUnHWP/AZdgXIvdY/2FxImlJx1j+gjN6WtTrWP/EZdgXIvdY/",
          "dtype": "f8"
         },
         "yaxis": "y2"
        },
        {
         "legendgroup": "acc_norm_arc_easy",
         "line": {
          "color": "rgba(48, 18, 59, 1)",
          "dash": "solid",
          "width": 1.5
         },
         "mode": "lines",
         "name": "ARC Easy",
         "showlegend": false,
         "type": "scatter",
         "x": {
          "bdata": "AAAAQN1K70EAAADwJXj3QQAAAEDdSv9BAAAASMqOA0IAAADwJXgHQgAAAJiBYQtCAAAAQN1KD0IAAAB0HJoRQgAAAEjKjhNCAAAAHHiDFUIAAADwJXgXQgAAAMTTbBlCAAAAmIFhG0IAAABsL1YdQgAAAEDdSh9CAAAAisWfIEIAAAB0HJohQgAAAF5zlCJCAAAASMqOI0IAAAAyIYkkQgAAABx4gyVCAAAABs99JkIAAADwJXgnQgAAANp8cihCAAAAxNNsKUIAAACuKmcqQgAAAJiBYStCAAAAgthbLEIAAABsL1YtQgAAAFaGUC5CAAAAQN1KL0IAAAAVmiIwQgAAAIrFnzBCAAAA//AcMUIAAAB0HJoxQgAAAOlHFzJCAAAAXnOUMkIAAADTnhEzQgAAAEjKjjNCAAAAvfULNEIAAAAyIYk0QgAAAKdMBjVCAAAAHHiDNUIAAACRowA2QgAAAAbPfTZCAAAAe/r6NkIAAADwJXg3QgAAAGVR9TdC",
          "dtype": "f8"
         },
         "xaxis": "x3",
         "y": {
          "bdata": "80T9G6GM1j9toNMGOm3YP2TJL5b8Ytk/CWX0tqzV2T/rJjEIrBzaP+f7qfHSTdo/bVmrY4IH2z+j/o1QRm/bP9ejcD0K19s/oNMGOm2g2z+j/o1QRm/bP2kDnTbQads/FPVvhDJ62z+fqH8jlNHbPxCfYVeA3Ns/0SLb+X5q3D9A7jUXkqbcPwXIveZC0tw/y6FFtvP93D9A7jUXkqbcP5OmVJx9+Nw/exSuR+F63D/NzMzMzMzcPz/DrgC519w/IbByaJHt3D/LoUW28/3cPwjzRP0bodw/P8OuALnX3D91kxgEVg7dP+RecyFpSt0/VVVVVVVV3T8dWmQ730/dP8P1KFyPwt0/bef7qfHS3T+Iz7ArQO7dP2zn+6nx0t0/wMqhRbbz3T/AyqFFtvPdP/zwGXYFyN0/bOf7qfHS3T+MJb9Y8ovdP1Qqzj58ht0/OEIZvS1r3T9VVVVVVVXdP4wlv1jyi90/+/AZdgXI3T/d3d3d3d3dP9uyVscED94/",
          "dtype": "f8"
         },
         "yaxis": "y3"
        },
        {
         "legendgroup": "acc_norm_arc_challenge",
         "line": {
          "color": "rgba(68, 96, 208, 1)",
          "dash": "solid",
          "width": 1.5
         },
         "mode": "lines",
         "name": "ARC Challenge",
         "showlegend": false,
         "type": "scatter",
         "x": {
          "bdata": "AAAAQN1K70EAAADwJXj3QQAAAEDdSv9BAAAASMqOA0IAAADwJXgHQgAAAJiBYQtCAAAAQN1KD0IAAAB0HJoRQgAAAEjKjhNCAAAAHHiDFUIAAADwJXgXQgAAAMTTbBlCAAAAmIFhG0IAAABsL1YdQgAAAEDdSh9CAAAAisWfIEIAAAB0HJohQgAAAF5zlCJCAAAASMqOI0IAAAAyIYkkQgAAABx4gyVCAAAABs99JkIAAADwJXgnQgAAANp8cihCAAAAxNNsKUIAAACuKmcqQgAAAJiBYStCAAAAgthbLEIAAABsL1YtQgAAAFaGUC5CAAAAQN1KL0IAAAAVmiIwQgAAAIrFnzBCAAAA//AcMUIAAAB0HJoxQgAAAOlHFzJCAAAAXnOUMkIAAADTnhEzQgAAAEjKjjNCAAAAvfULNEIAAAAyIYk0QgAAAKdMBjVCAAAAHHiDNUIAAACRowA2QgAAAAbPfTZCAAAAe/r6NkIAAADwJXg3QgAAAGVR9TdC",
          "dtype": "f8"
         },
         "xaxis": "x3",
         "y": {
          "bdata": "YCz5xZJfzD99PzVeuknMP4n6N0IZvc0/McGDeaL+zT8pFWcfPsPOP9uHz7ArQM4/8O7u7u7uzj8lv1jyiyXPP5NfLPnFks8/l7U6Jngwzz+wcmiR7XzPP3VM8GCeqM8/jd6WtTom0D+Lsw+fYVfQP91rLiRNqdA/iYiIiIiI0D9rdUzwYJ7QP2t1TPBgntA/3WsuJE2p0D+iRbbz/dTQP05iEFg5tNA/MU/UvxHK0D/flrU6JnjQP91rLiRNqdA/TmIQWDm00D8vJE2pOPvQP70ta3VM8NA/LfnFkl8s0T9nHz7DrgDRP/hT46WbxNA/UrgehetR0D+Lsw+fYVfQP4mIiIiIiNA/v1jyiyW/0D/bQKcNdNrQP4ddAXKvudA/+n5qvHST0D8XkqZUnH3QP/hT46WbxNA/v1jyiyW/0D+HXQFyr7nQPzN6W9bqmNA/EzyYJ+rf0D8TPJgn6t/QPw/mifo3QtE/t6zVMcGD0T+VQ4ts5/vRP3gwT9S/EdI/",
          "dtype": "f8"
         },
         "yaxis": "y3"
        },
        {
         "legendgroup": "acc_norm_hellaswag",
         "line": {
          "color": "rgba(54, 167, 248, 1)",
          "dash": "solid",
          "width": 1.5
         },
         "mode": "lines",
         "name": "Hellaswag",
         "showlegend": false,
         "type": "scatter",
         "x": {
          "bdata": "AAAAQN1K70EAAADwJXj3QQAAAEDdSv9BAAAASMqOA0IAAADwJXgHQgAAAJiBYQtCAAAAQN1KD0IAAAB0HJoRQgAAAEjKjhNCAAAAHHiDFUIAAADwJXgXQgAAAMTTbBlCAAAAmIFhG0IAAABsL1YdQgAAAEDdSh9CAAAAisWfIEIAAAB0HJohQgAAAF5zlCJCAAAASMqOI0IAAAAyIYkkQgAAABx4gyVCAAAABs99JkIAAADwJXgnQgAAANp8cihCAAAAxNNsKUIAAACuKmcqQgAAAJiBYStCAAAAgthbLEIAAABsL1YtQgAAAFaGUC5CAAAAQN1KL0IAAAAVmiIwQgAAAIrFnzBCAAAA//AcMUIAAAB0HJoxQgAAAOlHFzJCAAAAXnOUMkIAAADTnhEzQgAAAEjKjjNCAAAAvfULNEIAAAAyIYk0QgAAAKdMBjVCAAAAHHiDNUIAAACRowA2QgAAAAbPfTZCAAAAe/r6NkIAAADwJXg3QgAAAGVR9TdC",
          "dtype": "f8"
         },
         "xaxis": "x3",
         "y": {
          "bdata": "N9BpA5022D/ZzvdT46XbP0/UvxHK6N0/l7U6Jngw3z8pXI/C9SjgP8GDeaL+jeA/y6FFtvP94D+cxCCwcmjhP5zEILByaOE/1b8Ryuht4T9xPQrXo3DhP0Fg5dAi2+E/wMqhRbbz4T/rUbgehevhP6Xi7MNn2OE/wMqhRbbz4T+FpCkVZx/iPz0K16NwPeI/rwC511xI4j8Tg8DKoUXiP+f7qfHSTeI/yehtWatj4j+PwvUoXI/iP5020GkDneI/ca+5kDSl4j/VMcGDeaLiP3GvuZA0peI/K0DuNReS4j+rqqqqqqriP+F6FK5H4eI/CtejcD0K4z9D0pSKsw/jPyfq3whl9OI/xGfYFSD34j/R27JWxwTjP21Zq2OCB+M/p1ScffgM4z/R27JWxwTjPzMzMzMzM+M/TxvotIFO4z8/fIZdAXLjP82FpCkVZ+M/JJTR27JW4z+zne+nxkvjP8ARyuhtWeM/d3d3d3d34z+95kLSlIrjP4XrUbgeheM/",
          "dtype": "f8"
         },
         "yaxis": "y3"
        },
        {
         "legendgroup": "acc_norm_mmlu",
         "line": {
          "color": "rgba(33, 226, 181, 1)",
          "dash": "solid",
          "width": 1.5
         },
         "mode": "lines",
         "name": "MMLU",
         "showlegend": false,
         "type": "scatter",
         "x": {
          "bdata": "AAAAQN1K70EAAADwJXj3QQAAAEDdSv9BAAAASMqOA0IAAADwJXgHQgAAAJiBYQtCAAAAQN1KD0IAAAB0HJoRQgAAAEjKjhNCAAAAHHiDFUIAAADwJXgXQgAAAMTTbBlCAAAAmIFhG0IAAABsL1YdQgAAAEDdSh9CAAAAisWfIEIAAAB0HJohQgAAAF5zlCJCAAAASMqOI0IAAAAyIYkkQgAAABx4gyVCAAAABs99JkIAAADwJXgnQgAAANp8cihCAAAAxNNsKUIAAACuKmcqQgAAAJiBYStCAAAAgthbLEIAAABsL1YtQgAAAFaGUC5CAAAAQN1KL0IAAAAVmiIwQgAAAIrFnzBCAAAA//AcMUIAAAB0HJoxQgAAAOlHFzJCAAAAXnOUMkIAAADTnhEzQgAAAEjKjjNCAAAAvfULNEIAAAAyIYk0QgAAAKdMBjVCAAAAHHiDNUIAAACRowA2QgAAAAbPfTZCAAAAe/r6NkIAAADwJXg3QgAAAGVR9TdC",
          "dtype": "f8"
         },
         "xaxis": "x3",
         "y": {
          "bdata": "88sopJ9F0D9E35cbrm7QP0GXet+qatA//D7p7S530D9yqvuxS3bQP4xXG8z0odA/qQc3/6aY0D9RNN+yQanQPw33AfQjqdA/M9hYsLO60D/cYtWnjr7QP8hksylOw9A/J4GaFQ3z0D9V+gWux+XQPwfZZR7L7tA/RH8ehtvY0D+TypqkrPjQP0eQLyEE6dA/sLnCgVno0D+zfwAkrdvQP+/Nisuh5tA/wGE/P83t0D83zEL0WQHRP2eLTQfv+9A/7IFBEtD+0D9ZivoingXRP23w49eoFdE/V9y3DccM0T/fhQ6/gxvRP6vnxCwHF9E/RM0A+Gwg0T9RJwXCiArRP7ForIuTKtE/wR25g3Qt0T8YOJlt/DvRP39N4CFFI9E/qYzgx6so0T+nF1mVHSnRP9xx53LgJ9E/44vRIEYt0T/xwaZn1TfRP0lWBCxNS9E/m5sQab5D0T8VusIgPUvRP/U+36LDRtE/GRrswhxE0T+rN0+a/zHRP9lUB6WaMNE/",
          "dtype": "f8"
         },
         "yaxis": "y3"
        },
        {
         "legendgroup": "acc_norm_siqa",
         "line": {
          "color": "rgba(112, 252, 97, 1)",
          "dash": "solid",
          "width": 1.5
         },
         "mode": "lines",
         "name": "SIQA",
         "showlegend": false,
         "type": "scatter",
         "x": {
          "bdata": "AAAAQN1K70EAAADwJXj3QQAAAEDdSv9BAAAASMqOA0IAAADwJXgHQgAAAJiBYQtCAAAAQN1KD0IAAAB0HJoRQgAAAEjKjhNCAAAAHHiDFUIAAADwJXgXQgAAAMTTbBlCAAAAmIFhG0IAAABsL1YdQgAAAEDdSh9CAAAAisWfIEIAAAB0HJohQgAAAF5zlCJCAAAASMqOI0IAAAAyIYkkQgAAABx4gyVCAAAABs99JkIAAADwJXgnQgAAANp8cihCAAAAxNNsKUIAAACuKmcqQgAAAJiBYStCAAAAgthbLEIAAABsL1YtQgAAAFaGUC5CAAAAQN1KL0IAAAAVmiIwQgAAAIrFnzBCAAAA//AcMUIAAAB0HJoxQgAAAOlHFzJCAAAAXnOUMkIAAADTnhEzQgAAAEjKjjNCAAAAvfULNEIAAAAyIYk0QgAAAKdMBjVCAAAAHHiDNUIAAACRowA2QgAAAAbPfTZCAAAAe/r6NkIAAADwJXg3QgAAAGVR9TdC",
          "dtype": "f8"
         },
         "xaxis": "x3",
         "y": {
          "bdata": "ZfS2rNUx2T/0/dR46SbZP9fqmODBPNk/f7HkF0t+2T9jyS+W/GLZP9OUirMPn9k/mZmZmZmZ2T+wK0DuNRfaP0Fg5dAi29k/e1vW6pjg2T+bmZmZmZnZP7WBThvotNk/1b8Ryuht2T+4rNUxwYPZP2PJL5b8Ytk/tYFOG+i02T+bmZmZmZnZP5zEILByaNk/ERERERER2T/X6pjgwTzZPy35xZJfLNk/LfnFkl8s2T/bQKcNdNrYP4MH80T9G9k/EOaJ+jdC2T9/seQXS37ZP9OUirMPn9k/KKO3Za2O2T8LkHvNhaTZP/Cnxks3idk/mG4Sg8DK2T9gcyFpSsXZP7NWxwQP5tk/QDVeukkM2j9bHRM8mCfaP+tRuB6F69k/QWDl0CLb2T97W9bqmODZP80+fIZdAdo/tYFOG+i02T+A3GsuJE3ZPyijt2Wtjtk/tYFOG+i02T94ME/UvxHaP3tb1uqY4Nk/61G4HoXr2T9DYOXQItvZP9BpA5020Nk/",
          "dtype": "f8"
         },
         "yaxis": "y3"
        },
        {
         "legendgroup": "acc_norm_piqa",
         "line": {
          "color": "rgba(199, 236, 54, 1)",
          "dash": "solid",
          "width": 1.5
         },
         "mode": "lines",
         "name": "PIQA",
         "showlegend": false,
         "type": "scatter",
         "x": {
          "bdata": "AAAAQN1K70EAAADwJXj3QQAAAEDdSv9BAAAASMqOA0IAAADwJXgHQgAAAJiBYQtCAAAAQN1KD0IAAAB0HJoRQgAAAEjKjhNCAAAAHHiDFUIAAADwJXgXQgAAAMTTbBlCAAAAmIFhG0IAAABsL1YdQgAAAEDdSh9CAAAAisWfIEIAAAB0HJohQgAAAF5zlCJCAAAASMqOI0IAAAAyIYkkQgAAABx4gyVCAAAABs99JkIAAADwJXgnQgAAANp8cihCAAAAxNNsKUIAAACuKmcqQgAAAJiBYStCAAAAgthbLEIAAABsL1YtQgAAAFaGUC5CAAAAQN1KL0IAAAAVmiIwQgAAAIrFnzBCAAAA//AcMUIAAAB0HJoxQgAAAOlHFzJCAAAAXnOUMkIAAADTnhEzQgAAAEjKjjNCAAAAvfULNEIAAAAyIYk0QgAAAKdMBjVCAAAAHHiDNUIAAACRowA2QgAAAAbPfTZCAAAAe/r6NkIAAADwJXg3QgAAAGVR9TdC",
          "dtype": "f8"
         },
         "xaxis": "x3",
         "y": {
          "bdata": "Ryijt2Wt5j+TXyz5xZLnPzfQaQOdNug/iIiIiIiI6D8I80T9G6HoP3jpJjEIrOg/wFjyiyW/6D+wuZA0peLoP2gfPsOuAOk/IIXrUbge6T/0/dR46SbpP53vp8ZLN+k/VVVVVVVV6T/HSzeJQWDpP2PJL5b8Yuk/q2OCB/NE6T+511xImlLpP1VVVVVVVek/OEIZvS1r6T8rzj58hl3pP49QRm/LWuk/HVpkO99P6T/UvxHK6G3pP1Qqzj58huk/xSCwcmiR6T/wp8ZLN4npPw27AuRec+k/f7HkF0t+6T84Qhm9LWvpP2PJL5b8Yuk/x0s3iUFg6T8NuwLkXnPpP/0boYzeluk/jCW/WPKL6T9hnqh/I5TpP4wlv1jyi+k//RuhjN6W6T9hnqh/I5TpP+Mz7AqQe+k/Gy/dJAaB6T9/seQXS37pP7is1THBg+k/8KfGSzeJ6T9UKs4+fIbpP0SLbOf7qek/GARWDi2y6T99hl0Bcq/pP0W28/3UeOk/",
          "dtype": "f8"
         },
         "yaxis": "y3"
        },
        {
         "legendgroup": "acc_norm_winogrande",
         "line": {
          "color": "rgba(247, 184, 54, 1)",
          "dash": "solid",
          "width": 1.5
         },
         "mode": "lines",
         "name": "WinoGrande",
         "showlegend": false,
         "type": "scatter",
         "x": {
          "bdata": "AAAAQN1K70EAAADwJXj3QQAAAEDdSv9BAAAASMqOA0IAAADwJXgHQgAAAJiBYQtCAAAAQN1KD0IAAAB0HJoRQgAAAEjKjhNCAAAAHHiDFUIAAADwJXgXQgAAAMTTbBlCAAAAmIFhG0IAAABsL1YdQgAAAEDdSh9CAAAAisWfIEIAAAB0HJohQgAAAF5zlCJCAAAASMqOI0IAAAAyIYkkQgAAABx4gyVCAAAABs99JkIAAADwJXgnQgAAANp8cihCAAAAxNNsKUIAAACuKmcqQgAAAJiBYStCAAAAgthbLEIAAABsL1YtQgAAAFaGUC5CAAAAQN1KL0IAAAAVmiIwQgAAAIrFnzBCAAAA//AcMUIAAAB0HJoxQgAAAOlHFzJCAAAAXnOUMkIAAADTnhEzQgAAAEjKjjNCAAAAvfULNEIAAAAyIYk0QgAAAKdMBjVCAAAAHHiDNUIAAACRowA2QgAAAAbPfTZCAAAAe/r6NkIAAADwJXg3QgAAAGVR9TdC",
          "dtype": "f8"
         },
         "xaxis": "x3",
         "y": {
          "bdata": "y1odEzyY3z9U46WbxCDgP8XZh8+wK+A/fT81XrpJ4D/8qfHSTWLgP0MZvS1rdeA/3WsuJE2p4D+x5BdLfrHgP4ddAXKvueA/a3VM8GCe4D+V0duyVsfgP79Y8oslv+A/vS1rdUzw4D+HXQFyr7ngP79Y8oslv+A/a3VM8GCe4D+iRbbz/dTgP5OmVJx9+OA/ERERERER4T+tjgkezBPhP+aJ+jdCGeE/ERERERER4T+511xImlLhP6xjggfzROE/K84+fIZd4T/Jdr6fGi/hP+eJ+jdCGeE/oBov3SQG4T9MN4lBYOXgP70ta3VM8OA/hTJ6W9bq4D8hsHJoke3gP0oMAiuHFuE/LfnFkl8s4T+sY4IH80ThPwFyr7mQNOE/gwfzRP0b4T/Jdr6fGi/hP+eJ+jdCGeE/uwLkXnMh4T9l9Las1THhP49QRm/LWuE/cT0K16Nw4T+PUEZvy1rhP2X0tqzVMeE/yXa+nxov4T9l9Las1THhPzttoNMGOuE/",
          "dtype": "f8"
         },
         "yaxis": "y3"
        },
        {
         "legendgroup": "acc_norm_commonsense_qa",
         "line": {
          "color": "rgba(244, 105, 24, 1)",
          "dash": "solid",
          "width": 1.5
         },
         "mode": "lines",
         "name": "CommonsenseQA",
         "showlegend": false,
         "type": "scatter",
         "x": {
          "bdata": "AAAAQN1K70EAAADwJXj3QQAAAEDdSv9BAAAASMqOA0IAAADwJXgHQgAAAJiBYQtCAAAAQN1KD0IAAAB0HJoRQgAAAEjKjhNCAAAAHHiDFUIAAADwJXgXQgAAAMTTbBlCAAAAmIFhG0IAAABsL1YdQgAAAEDdSh9CAAAAisWfIEIAAAB0HJohQgAAAF5zlCJCAAAASMqOI0IAAAAyIYkkQgAAABx4gyVCAAAABs99JkIAAADwJXgnQgAAANp8cihCAAAAxNNsKUIAAACuKmcqQgAAAJiBYStCAAAAgthbLEIAAABsL1YtQgAAAFaGUC5CAAAAQN1KL0IAAAAVmiIwQgAAAIrFnzBCAAAA//AcMUIAAAB0HJoxQgAAAOlHFzJCAAAAXnOUMkIAAADTnhEzQgAAAEjKjjNCAAAAvfULNEIAAAAyIYk0QgAAAKdMBjVCAAAAHHiDNUIAAACRowA2QgAAAAbPfTZCAAAAe/r6NkIAAADwJXg3QgAAAGVR9TdC",
          "dtype": "f8"
         },
         "xaxis": "x3",
         "y": {
          "bdata": "JE2pOPvw0T//jVBGb8vSPxUg95oLSdM/K4cW2c730z/VeOkmMQjUP0MZvS1rddQ/XgFyr7mQ1D8FyL3mQtLUP5OmVJx9+NQ/P8OuALnX1D956SYxCKzUP3sUrkfhetQ/Watjggfz1D8EnTbQaQPVPx+F61G4HtU/Watjggfz1D+rY4IH80TVP49QRm/LWtU/5F5zIWlK1T+PUEZvy1rVPzhCGb0ta9U/OEIZvS1r1T8bL90kBoHVP93d3d3d3dU/2YfPsCtA1j+jt2WtjgnWP4v6N0IZvdU/VCrOPnyG1T/jM+wKkHvVP3A9CtejcNU/HVpkO99P1T88mCfq3wjVP5TR27JWx9Q/6bSBThvo1D84Qhm9LWvVP+Mz7AqQe9U/HVpkO99P1T+Re82FpCnVP+RecyFpStU/AEcoo7dl1T/HSzeJQWDVP/0boYzeltU/4Ahl9Las1T/FILByaJHVP6k4+/AZdtU/cD0K16Nw1T9vEoPAyqHVP4wlv1jyi9U/",
          "dtype": "f8"
         },
         "yaxis": "y3"
        },
        {
         "legendgroup": "acc_norm_openbookqa",
         "line": {
          "color": "rgba(199, 42, 4, 1)",
          "dash": "solid",
          "width": 1.5
         },
         "mode": "lines",
         "name": "OpenbookQA",
         "showlegend": false,
         "type": "scatter",
         "x": {
          "bdata": "AAAAQN1K70EAAADwJXj3QQAAAEDdSv9BAAAASMqOA0IAAADwJXgHQgAAAJiBYQtCAAAAQN1KD0IAAAB0HJoRQgAAAEjKjhNCAAAAHHiDFUIAAADwJXgXQgAAAMTTbBlCAAAAmIFhG0IAAABsL1YdQgAAAEDdSh9CAAAAisWfIEIAAAB0HJohQgAAAF5zlCJCAAAASMqOI0IAAAAyIYkkQgAAABx4gyVCAAAABs99JkIAAADwJXgnQgAAANp8cihCAAAAxNNsKUIAAACuKmcqQgAAAJiBYStCAAAAgthbLEIAAABsL1YtQgAAAFaGUC5CAAAAQN1KL0IAAAAVmiIwQgAAAIrFnzBCAAAA//AcMUIAAAB0HJoxQgAAAOlHFzJCAAAAXnOUMkIAAADTnhEzQgAAAEjKjjNCAAAAvfULNEIAAAAyIYk0QgAAAKdMBjVCAAAAHHiDNUIAAACRowA2QgAAAAbPfTZCAAAAe/r6NkIAAADwJXg3QgAAAGVR9TdC",
          "dtype": "f8"
         },
         "xaxis": "x3",
         "y": {
          "bdata": "oBov3SQG0T/rUbgehevRP0SLbOf7qdE/lBgEVg4t0j+1gU4b6LTRP+xRuB6F69E/dgXIveZC0j8dzBP1b4TSPxUg95oLSdM/2/l+arx00z+DwMqhRbbTPxUg95oLSdM//GLJL5b80j+kKRVnHz7TP73mQtKUitM/16NwPQrX0z+5kDSl4uzTP/S2rNUxwdM/uZA0peLs0z9hV4Dcay7UP0RERERERNQ/001iEFg51D/0tqzVMcHTPy/dJAaBldM/Za2OCR7M0z9M8GCeqH/TP9v5fmq8dNM/TPBgnqh/0z9hV4Dcay7UPwXIveZC0tQ/QO41F5Km1D8JHswT9W/UPwkezBP1b9Q/XQFyr7mQ1D8nMQisHFrUP5x9+Ay7AtQ/8GCeqH8j1D97FK5H4XrUP8/3U+Olm9Q/tTomeDBP1D8NdNpApw3UP7mQNKXi7NM/DXTaQKcN1D9ERERERETUP+wKkHvNhdQ/I9v5fmq81D+tjgkezBPVP62OCR7ME9U/",
          "dtype": "f8"
         },
         "yaxis": "y3"
        },
        {
         "legendgroup": "acc_norm_arc_easy",
         "line": {
          "color": "rgba(48, 18, 59, 1)",
          "dash": "solid",
          "width": 1.5
         },
         "mode": "lines",
         "name": "ARC Easy",
         "showlegend": false,
         "type": "scatter",
         "x": {
          "bdata": "AAAAQN1K70EAAADwJXj3QQAAAEDdSv9BAAAASMqOA0IAAADwJXgHQgAAAJiBYQtCAAAAQN1KD0IAAAB0HJoRQgAAAEjKjhNCAAAAHHiDFUIAAADwJXgXQgAAAMTTbBlCAAAAmIFhG0IAAABsL1YdQgAAAEDdSh9CAAAAisWfIEIAAAB0HJohQgAAAF5zlCJCAAAASMqOI0IAAAAyIYkkQgAAABx4gyVCAAAABs99JkIAAADwJXgnQgAAANp8cihCAAAAxNNsKUIAAACuKmcqQgAAAJiBYStCAAAAgthbLEIAAABsL1YtQgAAAFaGUC5CAAAAQN1KL0IAAAAVmiIwQgAAAIrFnzBCAAAA//AcMUIAAAB0HJoxQgAAAOlHFzJCAAAAXnOUMkIAAADTnhEzQgAAAEjKjjNCAAAAvfULNEIAAAAyIYk0QgAAAKdMBjVCAAAAHHiDNUIAAACRowA2QgAAAAbPfTZCAAAAe/r6NkIAAADwJXg3QgAAAGVR9TdC",
          "dtype": "f8"
         },
         "xaxis": "x4",
         "y": {
          "bdata": "OfvwGXYF2D99hl0Bcq/ZP7ErQO41F9o/O99PjZdu2j/Fkl8s+cXaP6P+jVBGb9s/S8XZh8+w2z+cffgMuwLcP9NNYhBYOdw/z/dT46Wb3D956SYxCKzcP10Bcq+5kNw/tA+fYVeA3D8I80T9G6HcP+eJ+jdCGd0/AXKvuZA03T9zaJHtfD/dPzhCGb0ta90/bef7qfHS3T9rvHSTGATeP02pOPvwGd4/SFMqzj583j8pFWcfPsPeP/AZdgXIvd4/EFg5tMh23j+bC0lTKs7eP2Dl0CLb+d4/XbpJDAIr3z+Y4ME8Uf/ePyjq3whl9N4/mwtJUyrO3j8QWDm0yHbePw0tsp3vp94/K0DuNReS3j/TBjptoNPeP/AZdgXIvd4/ffgMuwLk3j8MAiuHFtneP0coo7dlrd4/vHSTGARW3j9nZmZmZmbePw8tsp3vp94/7MNn2BUg3z8FgZVDi2zfPz98hl0Bct8/Jb9Y8osl3z9HKKO3Za3eP+zDZ9gVIN8/",
          "dtype": "f8"
         },
         "yaxis": "y4"
        },
        {
         "legendgroup": "acc_norm_arc_challenge",
         "line": {
          "color": "rgba(68, 96, 208, 1)",
          "dash": "solid",
          "width": 1.5
         },
         "mode": "lines",
         "name": "ARC Challenge",
         "showlegend": false,
         "type": "scatter",
         "x": {
          "bdata": "AAAAQN1K70EAAADwJXj3QQAAAEDdSv9BAAAASMqOA0IAAADwJXgHQgAAAJiBYQtCAAAAQN1KD0IAAAB0HJoRQgAAAEjKjhNCAAAAHHiDFUIAAADwJXgXQgAAAMTTbBlCAAAAmIFhG0IAAABsL1YdQgAAAEDdSh9CAAAAisWfIEIAAAB0HJohQgAAAF5zlCJCAAAASMqOI0IAAAAyIYkkQgAAABx4gyVCAAAABs99JkIAAADwJXgnQgAAANp8cihCAAAAxNNsKUIAAACuKmcqQgAAAJiBYStCAAAAgthbLEIAAABsL1YtQgAAAFaGUC5CAAAAQN1KL0IAAAAVmiIwQgAAAIrFnzBCAAAA//AcMUIAAAB0HJoxQgAAAOlHFzJCAAAAXnOUMkIAAADTnhEzQgAAAEjKjjNCAAAAvfULNEIAAAAyIYk0QgAAAKdMBjVCAAAAHHiDNUIAAACRowA2QgAAAAbPfTZCAAAAe/r6NkIAAADwJXg3QgAAAGVR9TdC",
          "dtype": "f8"
         },
         "xaxis": "x4",
         "y": {
          "bdata": "YCz5xZJfzD8lBoGVQ4vMPwjzRP0bocw/dZMYBFYOzT+FpCkVZx/OP9PbslbHBM8/k18s+cWSzz8QWDm0yHbOP4FOG+i0gc4/80T9G6GMzj95ov6NUEbPPyW/WPKLJc8/l7U6Jngwzz9D0pSKsw/PP7ByaJHtfM8/AAAAAAAA0D/8qfHSTWLQP22g0wY6bdA/N9BpA5020D/+1HjpJjHQPxm9LWt1TNA/+FPjpZvE0D+HXQFyr7nQPzWl4uzDZ9A/G+i0gU4b0D8ZvS1rdUzQPzN6W9bqmNA/TmIQWDm00D/DrgC511zQP43elrU6JtA/50LSlIqzzz85+/AZdgXQP/7UeOkmMdA/UI2XbhKD0D+HXQFyr7nQP4ddAXKvudA/h10Bcq+50D9toNMGOm3QP22g0wY6bdA/ppvEILBy0D/6fmq8dJPQP/hT46WbxNA/aUrF2YfP0D/0/dR46SbRP57vp8ZLN9E/nu+nxks30T/2KFyPwvXQP0oMAiuHFtE/",
          "dtype": "f8"
         },
         "yaxis": "y4"
        },
        {
         "legendgroup": "acc_norm_hellaswag",
         "line": {
          "color": "rgba(54, 167, 248, 1)",
          "dash": "solid",
          "width": 1.5
         },
         "mode": "lines",
         "name": "Hellaswag",
         "showlegend": false,
         "type": "scatter",
         "x": {
          "bdata": "AAAAQN1K70EAAADwJXj3QQAAAEDdSv9BAAAASMqOA0IAAADwJXgHQgAAAJiBYQtCAAAAQN1KD0IAAAB0HJoRQgAAAEjKjhNCAAAAHHiDFUIAAADwJXgXQgAAAMTTbBlCAAAAmIFhG0IAAABsL1YdQgAAAEDdSh9CAAAAisWfIEIAAAB0HJohQgAAAF5zlCJCAAAASMqOI0IAAAAyIYkkQgAAABx4gyVCAAAABs99JkIAAADwJXgnQgAAANp8cihCAAAAxNNsKUIAAACuKmcqQgAAAJiBYStCAAAAgthbLEIAAABsL1YtQgAAAFaGUC5CAAAAQN1KL0IAAAAVmiIwQgAAAIrFnzBCAAAA//AcMUIAAAB0HJoxQgAAAOlHFzJCAAAAXnOUMkIAAADTnhEzQgAAAEjKjjNCAAAAvfULNEIAAAAyIYk0QgAAAKdMBjVCAAAAHHiDNUIAAACRowA2QgAAAAbPfTZCAAAAe/r6NkIAAADwJXg3QgAAAGVR9TdC",
          "dtype": "f8"
         },
         "xaxis": "x4",
         "y": {
          "bdata": "B/NE/Ruh1D8NLbKd76fWP1TjpZvEINg/8dJNYhBY2T+vALnXXEjaP73mQtKUits/Y1eA3Gsu3D8EnTbQaQPdP5B7zYWkKd0/i/o3Qhm93T8Tg8DKoUXePwwCK4cW2d4/Jb9Y8osl3z8FgZVDi2zfP8kvlvxiyd8/nH34DLsC4D8NdNpApw3gP9V46SYxCOA/jd6WtTom4D//1HjpJjHgPycxCKwcWuA/fT81XrpJ4D9ERERERETgP4uzD59hV+A/tA+fYVeA4D8VZx8+w67gP79Y8oslv+A/EzyYJ+rf4D+FMnpb1urgP2cfPsOuAOE/dZMYBFYO4T9l9Las1THhP+eJ+jdCGeE/dZMYBFYO4T9nHz7DrgDhP9kVIPeaC+E/54n6N0IZ4T8RERERERHhP62OCR7ME+E/ro4JHswT4T8t+cWSXyzhP2X0tqzVMeE/uwLkXnMh4T9KDAIrhxbhP62OCR7ME+E/WIDcay4k4T/Jdr6fGi/hPx1aZDvfT+E/",
          "dtype": "f8"
         },
         "yaxis": "y4"
        },
        {
         "legendgroup": "acc_norm_mmlu",
         "line": {
          "color": "rgba(33, 226, 181, 1)",
          "dash": "solid",
          "width": 1.5
         },
         "mode": "lines",
         "name": "MMLU",
         "showlegend": false,
         "type": "scatter",
         "x": {
          "bdata": "AAAAQN1K70EAAADwJXj3QQAAAEDdSv9BAAAASMqOA0IAAADwJXgHQgAAAJiBYQtCAAAAQN1KD0IAAAB0HJoRQgAAAEjKjhNCAAAAHHiDFUIAAADwJXgXQgAAAMTTbBlCAAAAmIFhG0IAAABsL1YdQgAAAEDdSh9CAAAAisWfIEIAAAB0HJohQgAAAF5zlCJCAAAASMqOI0IAAAAyIYkkQgAAABx4gyVCAAAABs99JkIAAADwJXgnQgAAANp8cihCAAAAxNNsKUIAAACuKmcqQgAAAJiBYStCAAAAgthbLEIAAABsL1YtQgAAAFaGUC5CAAAAQN1KL0IAAAAVmiIwQgAAAIrFnzBCAAAA//AcMUIAAAB0HJoxQgAAAOlHFzJCAAAAXnOUMkIAAADTnhEzQgAAAEjKjjNCAAAAvfULNEIAAAAyIYk0QgAAAKdMBjVCAAAAHHiDNUIAAACRowA2QgAAAAbPfTZCAAAAe/r6NkIAAADwJXg3QgAAAGVR9TdC",
          "dtype": "f8"
         },
         "xaxis": "x4",
         "y": {
          "bdata": "55Bn4Yhw0D+PjE9ryOPQPzkIrIAEFdE/t2xReYo70T95+Pbkr1DRP6O9a6rCeNE/wKX2CJqt0T9/jLUcGtXRP/ntexOwBNI/ezX9UhoN0j/JBAgFNhrSP5T/Bno9KNI/d9N6mUxE0j8YSl52TFzSPztoTx/VWNI/n4jmG4pd0j/RYRzIVlXSP8u+bqlDd9I/UiveuHif0j8pOBtMjqXSPwX9GOCdm9I/WB3tb4qE0j930qz7daDSP7lekrICndI/HwEzJ+Ci0j9LEuk1Y7XSPwjrJtp5rtI/h6U5+r+30j842K71MqbSPwF0rhc9xtI/blOSe+i70j+w8OI7n7HSP8DD1XpXq9I/N/5LmpC90j+fR1Fuu87SP5LksdJ42NI/lbpOBeLG0j9au08QRsbSP6B1TUGoutI/HwJ3Rr+80j+1MArilMXSP5lgpGYLz9I/l8qpxHTb0j8LVDlUNNXSPxMa8dsI39I/f0Zu6GzW0j+9quUJA8LSP1U8cp8FztI/",
          "dtype": "f8"
         },
         "yaxis": "y4"
        },
        {
         "legendgroup": "acc_norm_siqa",
         "line": {
          "color": "rgba(112, 252, 97, 1)",
          "dash": "solid",
          "width": 1.5
         },
         "mode": "lines",
         "name": "SIQA",
         "showlegend": false,
         "type": "scatter",
         "x": {
          "bdata": "AAAAQN1K70EAAADwJXj3QQAAAEDdSv9BAAAASMqOA0IAAADwJXgHQgAAAJiBYQtCAAAAQN1KD0IAAAB0HJoRQgAAAEjKjhNCAAAAHHiDFUIAAADwJXgXQgAAAMTTbBlCAAAAmIFhG0IAAABsL1YdQgAAAEDdSh9CAAAAisWfIEIAAAB0HJohQgAAAF5zlCJCAAAASMqOI0IAAAAyIYkkQgAAABx4gyVCAAAABs99JkIAAADwJXgnQgAAANp8cihCAAAAxNNsKUIAAACuKmcqQgAAAJiBYStCAAAAgthbLEIAAABsL1YtQgAAAFaGUC5CAAAAQN1KL0IAAAAVmiIwQgAAAIrFnzBCAAAA//AcMUIAAAB0HJoxQgAAAOlHFzJCAAAAXnOUMkIAAADTnhEzQgAAAEjKjjNCAAAAvfULNEIAAAAyIYk0QgAAAKdMBjVCAAAAHHiDNUIAAACRowA2QgAAAAbPfTZCAAAAe/r6NkIAAADwJXg3QgAAAGVR9TdC",
          "dtype": "f8"
         },
         "xaxis": "x4",
         "y": {
          "bdata": "1+qY4ME82T9jyS+W/GLZP2X0tqzVMdk/nMQgsHJo2T9fcyFpSsXZPwll9Las1dk/fIZdAXKv2T99hl0Bcq/ZP3yGXQFyr9k/e1vW6pjg2T/TlIqzD5/ZP11ImlJx9tk/QWDl0CLb2T97W9bqmODZP5huEoPAytk/XUiaUnH22T8HOm2g0wbaP11ImlJx9tk/X3MhaUrF2T+1gU4b6LTZP2GeqH8jlNk/YZ6ofyOU2T9/seQXS37ZP2GeqH8jlNk/JE2pOPvw2T8jIiIiIiLaP+kmMQisHNo/Wx0TPJgn2j8FD+aJ+jfaPwPkXnMhado/BQ/mifo32j91Bci95kLaP1jyiyW/WNo/yehtWatj2j+vALnXXEjaPyMiIiIiIto/WPKLJb9Y2j9zr7mQNKXaP+F6FK5H4do/N4lBYOXQ2j83iUFg5dDaPxuhjN6Wtdo/jZduEoPA2j84iUFg5dDaP4ts5/up8do//41QRm/L2j9XxwQP5onaP1jyiyW/WNo/",
          "dtype": "f8"
         },
         "yaxis": "y4"
        },
        {
         "legendgroup": "acc_norm_piqa",
         "line": {
          "color": "rgba(199, 236, 54, 1)",
          "dash": "solid",
          "width": 1.5
         },
         "mode": "lines",
         "name": "PIQA",
         "showlegend": false,
         "type": "scatter",
         "x": {
          "bdata": "AAAAQN1K70EAAADwJXj3QQAAAEDdSv9BAAAASMqOA0IAAADwJXgHQgAAAJiBYQtCAAAAQN1KD0IAAAB0HJoRQgAAAEjKjhNCAAAAHHiDFUIAAADwJXgXQgAAAMTTbBlCAAAAmIFhG0IAAABsL1YdQgAAAEDdSh9CAAAAisWfIEIAAAB0HJohQgAAAF5zlCJCAAAASMqOI0IAAAAyIYkkQgAAABx4gyVCAAAABs99JkIAAADwJXgnQgAAANp8cihCAAAAxNNsKUIAAACuKmcqQgAAAJiBYStCAAAAgthbLEIAAABsL1YtQgAAAFaGUC5CAAAAQN1KL0IAAAAVmiIwQgAAAIrFnzBCAAAA//AcMUIAAAB0HJoxQgAAAOlHFzJCAAAAXnOUMkIAAADTnhEzQgAAAEjKjjNCAAAAvfULNEIAAAAyIYk0QgAAAKdMBjVCAAAAHHiDNUIAAACRowA2QgAAAAbPfTZCAAAAe/r6NkIAAADwJXg3QgAAAGVR9TdC",
          "dtype": "f8"
         },
         "xaxis": "x4",
         "y": {
          "bdata": "d3d3d3d34z/wYJ6ofyPkP1zW6pjgweQ/hTJ6W9bq5D9wPQrXo3DlP+AIZfS2rOU/s1bHBA/m5T8JZfS2rNXlPyRNqTj78OU/o7dlrY4J5j9oke18PzXmP1sdEzyYJ+Y/Tak4+/AZ5j/cslbHBA/mP5MYBFYOLeY/vHSTGARW5j8ta3VM8GDmP/VvhDJ6W+Y/hHmi/o1Q5j9z2kCnDXTmP3GvuZA0peY/qH8jlNHb5j8pFWcfPsPmPw8tsp3vp+Y/V8cED+aJ5j+7SQwCK4fmP+XQItv5fuY/ZDvfT42X5j85tMh2vp/mPxyhjN6WteY/OLTIdr6f5j8AuddcSJrmPwC511xImuY/ca+5kDSl5j+dNtBpA53mP6uqqqqqquY/ALnXXEia5j+4HoXrUbjmP9QGOm2g0+Y/GXYFyL3m5j8ZdgXIvebmP1ScffgMu+Y/VJx9+Ay75j/IveZC0pTmP0coo7dlreY/qH8jlNHb5j8L16NwPQrnP7TIdr6fGuc/",
          "dtype": "f8"
         },
         "yaxis": "y4"
        },
        {
         "legendgroup": "acc_norm_winogrande",
         "line": {
          "color": "rgba(247, 184, 54, 1)",
          "dash": "solid",
          "width": 1.5
         },
         "mode": "lines",
         "name": "WinoGrande",
         "showlegend": false,
         "type": "scatter",
         "x": {
          "bdata": "AAAAQN1K70EAAADwJXj3QQAAAEDdSv9BAAAASMqOA0IAAADwJXgHQgAAAJiBYQtCAAAAQN1KD0IAAAB0HJoRQgAAAEjKjhNCAAAAHHiDFUIAAADwJXgXQgAAAMTTbBlCAAAAmIFhG0IAAABsL1YdQgAAAEDdSh9CAAAAisWfIEIAAAB0HJohQgAAAF5zlCJCAAAASMqOI0IAAAAyIYkkQgAAABx4gyVCAAAABs99JkIAAADwJXgnQgAAANp8cihCAAAAxNNsKUIAAACuKmcqQgAAAJiBYStCAAAAgthbLEIAAABsL1YtQgAAAFaGUC5CAAAAQN1KL0IAAAAVmiIwQgAAAIrFnzBCAAAA//AcMUIAAAB0HJoxQgAAAOlHFzJCAAAAXnOUMkIAAADTnhEzQgAAAEjKjjNCAAAAvfULNEIAAAAyIYk0QgAAAKdMBjVCAAAAHHiDNUIAAACRowA2QgAAAAbPfTZCAAAAe/r6NkIAAADwJXg3QgAAAGVR9TdC",
          "dtype": "f8"
         },
         "xaxis": "x4",
         "y": {
          "bdata": "8GCeqH8j4D9hV4Dcay7gPycxCKwcWuA/mSfq3whl4D+YJ+rfCGXgP5f8YskvluA/a3VM8GCe4D+wuZA0peLgP3e+nxov3eA/ZfS2rNUx4T8vJE2pOPvgP5OmVJx9+OA/TmIQWDm04D8TPJgn6t/gP0w3iUFg5eA/Zx8+w64A4T8hsHJoke3gPxEREREREeE/SgwCK4cW4T/X6pjgwTzhP8l2vp8aL+E/LfnFkl8s4T+Re82FpCnhP1iA3GsuJOE/c2iR7Xw/4T+PUEZvy1rhPw27AuRec+E/Gy/dJAaB4T/HSzeJQWDhP7nXXEiaUuE/kHvNhaQp4T+e76fGSzfhP5zEILByaOE/05SKsw+f4T+1gU4b6LThP6gNdNpAp+E/4zPsCpB74T/VvxHK6G3hP7nXXEiaUuE/Y8kvlvxi4T9xPQrXo3DhP28Sg8DKoeE/Uf9GKKO34T9S/0Yoo7fhP32GXQFyr+E/tYFOG+i04T9R/0Yoo7fhPwuQe82FpOE/",
          "dtype": "f8"
         },
         "yaxis": "y4"
        },
        {
         "legendgroup": "acc_norm_commonsense_qa",
         "line": {
          "color": "rgba(244, 105, 24, 1)",
          "dash": "solid",
          "width": 1.5
         },
         "mode": "lines",
         "name": "CommonsenseQA",
         "showlegend": false,
         "type": "scatter",
         "x": {
          "bdata": "AAAAQN1K70EAAADwJXj3QQAAAEDdSv9BAAAASMqOA0IAAADwJXgHQgAAAJiBYQtCAAAAQN1KD0IAAAB0HJoRQgAAAEjKjhNCAAAAHHiDFUIAAADwJXgXQgAAAMTTbBlCAAAAmIFhG0IAAABsL1YdQgAAAEDdSh9CAAAAisWfIEIAAAB0HJohQgAAAF5zlCJCAAAASMqOI0IAAAAyIYkkQgAAABx4gyVCAAAABs99JkIAAADwJXgnQgAAANp8cihCAAAAxNNsKUIAAACuKmcqQgAAAJiBYStCAAAAgthbLEIAAABsL1YtQgAAAFaGUC5CAAAAQN1KL0IAAAAVmiIwQgAAAIrFnzBCAAAA//AcMUIAAAB0HJoxQgAAAOlHFzJCAAAAXnOUMkIAAADTnhEzQgAAAEjKjjNCAAAAvfULNEIAAAAyIYk0QgAAAKdMBjVCAAAAHHiDNUIAAACRowA2QgAAAAbPfTZCAAAAe/r6NkIAAADwJXg3QgAAAGVR9TdC",
          "dtype": "f8"
         },
         "xaxis": "x4",
         "y": {
          "bdata": "O99PjZdu0j/0tqzVMcHTPwkezBP1b9Q/kHvNhaQp1T9vEoPAyqHVPxfZzvdT49U/3d3d3d3d1T9rvHSTGATWPxODwMqhRdY/gU4b6LSB1j9F/RuhjN7WP4AjlNHbstY/1THBg3mi1j8rQO41F5LWP5jgwTxR/9Y/e82FpCkV1z8IrBxaZDvXP7Od76fGS9c/lYqzD59h1z8FgZVDi2zXP+htWatjgtc/OyZ4ME/U1z8DK4cW2c7XP3MhaUrF2dc/HRM8mCfq1z8dEzyYJ+rXP5A0peLsw9c/rUfhehSu1z8gPsOuALnXP3VM8GCeqNc/y1odEzyY1z/LWh0TPJjXP8kvlvxiydc/WDm0yHa+1z8DK4cW2c7XPx0TPJgn6tc/AAAAAAAA2D+N3pa1OibYP48JHswT9dc/AAAAAAAA2D8DK4cW2c7XP+dC0pSKs9c/BFYOLbKd1z+tR+F6FK7XPxvotIFOG9g/qMZLN4lB2D81peLsw2fYP/3UeOkmMdg/",
          "dtype": "f8"
         },
         "yaxis": "y4"
        },
        {
         "legendgroup": "acc_norm_openbookqa",
         "line": {
          "color": "rgba(199, 42, 4, 1)",
          "dash": "solid",
          "width": 1.5
         },
         "mode": "lines",
         "name": "OpenbookQA",
         "showlegend": false,
         "type": "scatter",
         "x": {
          "bdata": "AAAAQN1K70EAAADwJXj3QQAAAEDdSv9BAAAASMqOA0IAAADwJXgHQgAAAJiBYQtCAAAAQN1KD0IAAAB0HJoRQgAAAEjKjhNCAAAAHHiDFUIAAADwJXgXQgAAAMTTbBlCAAAAmIFhG0IAAABsL1YdQgAAAEDdSh9CAAAAisWfIEIAAAB0HJohQgAAAF5zlCJCAAAASMqOI0IAAAAyIYkkQgAAABx4gyVCAAAABs99JkIAAADwJXgnQgAAANp8cihCAAAAxNNsKUIAAACuKmcqQgAAAJiBYStCAAAAgthbLEIAAABsL1YtQgAAAFaGUC5CAAAAQN1KL0IAAAAVmiIwQgAAAIrFnzBCAAAA//AcMUIAAAB0HJoxQgAAAOlHFzJCAAAAXnOUMkIAAADTnhEzQgAAAEjKjjNCAAAAvfULNEIAAAAyIYk0QgAAAKdMBjVCAAAAHHiDNUIAAACRowA2QgAAAAbPfTZCAAAAe/r6NkIAAADwJXg3QgAAAGVR9TdC",
          "dtype": "f8"
         },
         "xaxis": "x4",
         "y": {
          "bdata": "RIts5/up0T8iIiIiIiLSP+Olm8QgsNI/30+Nl24S0z/BPFH/RijTP73mQtKUitM/K4cW2c730z8NdNpApw3UP9NNYhBYOdQ/f2q8dJMY1D+YJ+rfCGXUP5x9+Ay7AtQ/oNMGOm2g0z/4DLsC5F7TP2kDnTbQadM/16NwPQrX0z8JHswT9W/UP1mrY4IH89Q/H4XrUbge1T/kXnMhaUrVP6k4+/AZdtU/Uf9GKKO31T9vEoPAyqHVP8P1KFyPwtU/4Ahl9Las1T84Qhm9LWvVP/0boYzeltU/NOwKkHvN1T+DeaL+jVDWP02pOPvwGdY/FdnO91Pj1T/HSzeJQWDVP1VVVVVVVdU/AXKvuZA01T/gCGX0tqzVP1VVVVVVVdU/OEIZvS1r1T8fhetRuB7VPwFyr7mQNNU/VVVVVVVV1T8bL90kBoHVP4jPsCtA7tU/peLsw2fY1T9rvHSTGATWP1H/Riijt9U/w/UoXI/C1T/lXnMhaUrVP3Noke18P9U/",
          "dtype": "f8"
         },
         "yaxis": "y4"
        },
        {
         "legendgroup": "acc_norm_arc_easy",
         "line": {
          "color": "rgba(48, 18, 59, 1)",
          "dash": "solid",
          "width": 1.5
         },
         "mode": "lines",
         "name": "ARC Easy",
         "showlegend": false,
         "type": "scatter",
         "x": {
          "bdata": "AAAAQN1K70EAAADwJXj3QQAAANBKr/xBAAAA2DfzAEIAAABIyo4DQgAAAPAleAdCAAAAmIFhC0IAAABA3UoPQgAAAHQcmhFCAAAASMqOE0IAAAAceIMVQgAAAPAleBdCAAAAxNNsGUIAAACYgWEbQgAAAGwvVh1CAAAAQN1KH0IAAACKxZ8gQgAAAHQcmiFCAAAAXnOUIkIAAABIyo4jQgAAADIhiSRCAAAAHHiDJUIAAAAGz30mQgAAAPAleCdCAAAA2nxyKEIAAADE02wpQgAAAK4qZypCAAAAmIFhK0IAAACC2FssQgAAAGwvVi1CAAAAVoZQLkIAAABA3UovQgAAABWaIjBCAAAAisWfMEIAAAD/8BwxQgAAAHQcmjFCAAAA6UcXMkIAAABec5QyQgAAANOeETNCAAAASMqOM0IAAAC99Qs0QgAAADIhiTRCAAAAp0wGNUIAAAAceIM1QgAAAJGjADZCAAAABs99NkIAAAB7+vo2QgAAAPAleDdCAAAAZVH1N0I=",
          "dtype": "f8"
         },
         "xaxis": "x5",
         "y": {
          "bdata": "bVmrY4IH2z88mCfq3wjdP8P1KFyPwt0/EFg5tMh23j8o6t8IZfTeP9V46SYxCOA/VOOlm8Qg4D9toNMGOm3gPxeSplScfeA/P8OuALnX4D+7AuRecyHhP7nXXEiaUuE/qTj78Bl24T9xPQrXo3DhPwBHKKO3ZeE/8KfGSzeJ4T98hl0Bcq/hP3yGXQFyr+E/x0s3iUFg4T9kyS+W/GLhP9OUirMPn+E/Uf9GKKO34T9dSJpScfbhP8DKoUW28+E/PQrXo3A94j/1b4QyelviP8vobVmrY+I/Tak4+/AZ4j/d3d3d3d3hPyEiIiIiIuI/DS2yne+n4j/EZ9gVIPfiP4AjlNHbsuI/Lmt1TPBg4j/Zh8+wK0DiP0lTKs4+fOI/mwtJUyrO4j9g5dAi2/niP6dUnH34DOM/xGfYFSD34j9UnH34DLviPzm0yHa+n+I/cq+5kDSl4j8rQO41F5LiP9UxwYN5ouI/EFg5tMh24j/3mgtJUyriP3YFyL3mQuI/5/up8dJN4j8=",
          "dtype": "f8"
         },
         "yaxis": "y5"
        },
        {
         "legendgroup": "acc_norm_arc_challenge",
         "line": {
          "color": "rgba(68, 96, 208, 1)",
          "dash": "solid",
          "width": 1.5
         },
         "mode": "lines",
         "name": "ARC Challenge",
         "showlegend": false,
         "type": "scatter",
         "x": {
          "bdata": "AAAAQN1K70EAAADwJXj3QQAAANBKr/xBAAAA2DfzAEIAAABIyo4DQgAAAPAleAdCAAAAmIFhC0IAAABA3UoPQgAAAHQcmhFCAAAASMqOE0IAAAAceIMVQgAAAPAleBdCAAAAxNNsGUIAAACYgWEbQgAAAGwvVh1CAAAAQN1KH0IAAACKxZ8gQgAAAHQcmiFCAAAAXnOUIkIAAABIyo4jQgAAADIhiSRCAAAAHHiDJUIAAAAGz30mQgAAAPAleCdCAAAA2nxyKEIAAADE02wpQgAAAK4qZypCAAAAmIFhK0IAAACC2FssQgAAAGwvVi1CAAAAVoZQLkIAAABA3UovQgAAABWaIjBCAAAAisWfMEIAAAD/8BwxQgAAAHQcmjFCAAAA6UcXMkIAAABec5QyQgAAANOeETNCAAAASMqOM0IAAAC99Qs0QgAAADIhiTRCAAAAp0wGNUIAAAAceIM1QgAAAJGjADZCAAAABs99NkIAAAB7+vo2QgAAAPAleDdCAAAAZVH1N0I=",
          "dtype": "f8"
         },
         "xaxis": "x5",
         "y": {
          "bdata": "o7dlrY4Jzj8dEzyYJ+rPP+HBPFH/RtA/jd6WtTom0D+N3pa1OibQP2/LWh0TPNA/v1jyiyW/0D/2KFyPwvXQP4Hcay4kTdE/nu+nxks30T/TlIqzD5/RP5VDi2zn+9E/PzVeukkM0j+R7Xw/NV7SP5QYBFYOLdI/O99PjZdu0j902kCnDXTSP1WcffgMu9I/4XoUrkfh0j/+jVBGb8vSP1Nx9uEz7NI/U3H24TPs0j9PG+i0gU7TP6QpFWcfPtM/aNgVIPea0z/ZzvdT46XTP7mQNKXi7NM/L90kBoGV0z/ZzvdT46XTP7u7u7u7u9M/uGWtjgke1D9Hb8taHRPUP2SCB/NE/dM/g8DKoUW20z+DwMqhRbbTP6DTBjptoNM/Za2OCR7M0z9LxdmHz7DTP7mQNKXi7NM/SZpScfbh0z+5kDSl4uzTPy2yne+nxtM/S8XZh8+w0z8zMzMzMzPTP3CEMnpb1tI/UUZvy1od0z8zMzMzMzPTP77mQtKUitM/hetRuB6F0z8=",
          "dtype": "f8"
         },
         "yaxis": "y5"
        },
        {
         "legendgroup": "acc_norm_hellaswag",
         "line": {
          "color": "rgba(54, 167, 248, 1)",
          "dash": "solid",
          "width": 1.5
         },
         "mode": "lines",
         "name": "Hellaswag",
         "showlegend": false,
         "type": "scatter",
         "x": {
          "bdata": "AAAAQN1K70EAAADwJXj3QQAAANBKr/xBAAAA2DfzAEIAAABIyo4DQgAAAPAleAdCAAAAmIFhC0IAAABA3UoPQgAAAHQcmhFCAAAASMqOE0IAAAAceIMVQgAAAPAleBdCAAAAxNNsGUIAAACYgWEbQgAAAGwvVh1CAAAAQN1KH0IAAACKxZ8gQgAAAHQcmiFCAAAAXnOUIkIAAABIyo4jQgAAADIhiSRCAAAAHHiDJUIAAAAGz30mQgAAAPAleCdCAAAA2nxyKEIAAADE02wpQgAAAK4qZypCAAAAmIFhK0IAAACC2FssQgAAAGwvVi1CAAAAVoZQLkIAAABA3UovQgAAABWaIjBCAAAAisWfMEIAAAD/8BwxQgAAAHQcmjFCAAAA6UcXMkIAAABec5QyQgAAANOeETNCAAAASMqOM0IAAAC99Qs0QgAAADIhiTRCAAAAp0wGNUIAAAAceIM1QgAAAJGjADZCAAAABs99NkIAAAB7+vo2QgAAAPAleDdCAAAAZVH1N0I=",
          "dtype": "f8"
         },
         "xaxis": "x5",
         "y": {
          "bdata": "1XjpJjEI1D8YBFYOLbLVPw8tsp3vp9Y/IWlKxdmH1z9U46WbxCDYP6AaL90kBtk/Q4ts5/up2T/o+6nx0k3aP3CEMnpb1to/UEZvy1od2z9rA5020GnbP2jYFSD3mts/RURERERE3D8/w64AudfcP62OCR7ME90/6LSBThvo3D/otIFOG+jcPwSdNtBpA90/qTj78Bl23T+rY4IH80TdP28Sg8DKod0/cT0K16Nw3T/d3d3d3d3dP6gNdNpAp90/McGDeaL+3T9oke18PzXePy1rdUzwYN4/vHSTGARW3j8wlvxiyS/eP9mHz7ArQN4/vHSTGARW3j+BThvotIHeP7gehetRuN4/u0kMAiuH3j8QWDm0yHbeP9dcSJpScd4/DS2yne+n3j9lZmZmZmbePy1rdUzwYN4/hHmi/o1Q3j/1b4QyelvePy1rdUzwYN4/hHmi/o1Q3j/1b4QyelvePy1rdUzwYN4/nDbQaQOd3j9HKKO3Za3ePytA7jUXkt4/hHmi/o1Q3j8=",
          "dtype": "f8"
         },
         "yaxis": "y5"
        },
        {
         "legendgroup": "acc_norm_mmlu",
         "line": {
          "color": "rgba(33, 226, 181, 1)",
          "dash": "solid",
          "width": 1.5
         },
         "mode": "lines",
         "name": "MMLU",
         "showlegend": false,
         "type": "scatter",
         "x": {
          "bdata": "AAAAQN1K70EAAADwJXj3QQAAANBKr/xBAAAA2DfzAEIAAABIyo4DQgAAAPAleAdCAAAAmIFhC0IAAABA3UoPQgAAAHQcmhFCAAAASMqOE0IAAAAceIMVQgAAAPAleBdCAAAAxNNsGUIAAACYgWEbQgAAAGwvVh1CAAAAQN1KH0IAAACKxZ8gQgAAAHQcmiFCAAAAXnOUIkIAAABIyo4jQgAAADIhiSRCAAAAHHiDJUIAAAAGz30mQgAAAPAleCdCAAAA2nxyKEIAAADE02wpQgAAAK4qZypCAAAAmIFhK0IAAACC2FssQgAAAGwvVi1CAAAAVoZQLkIAAABA3UovQgAAABWaIjBCAAAAisWfMEIAAAD/8BwxQgAAAHQcmjFCAAAA6UcXMkIAAABec5QyQgAAANOeETNCAAAASMqOM0IAAAC99Qs0QgAAADIhiTRCAAAAp0wGNUIAAAAceIM1QgAAAJGjADZCAAAABs99NkIAAAB7+vo2QgAAAPAleDdCAAAAZVH1N0I=",
          "dtype": "f8"
         },
         "xaxis": "x5",
         "y": {
          "bdata": "ZRaOqs490T/90V28KL/RPyka4Imp+NE/0Tj4rycj0j/h6TQDVlbSP9kMojL4ldI/iI0qHEzN0j+L3n0wOv7SP/lG+08wGNM/sqxZAzw20z+dZdEHgzrTP1XovfrYUNM/OQw2Mh9b0z+ZLIQBxnPTP6sj1R4sj9M/xbr8r4S30z8jZVHlwdXTPy8Y/OiUBdQ/I2FK22If1D/MaP4zWjLUP1m7ZHtFJNQ/WVFmpiUk1D/8MDOxMCLUP8P7wSfnQNQ/6MRTgyBZ1D8UlHFK+oPUPwW8tRMAg9Q/Sdz0Vedq1D8hpHc8BWbUP1mVdBz+Y9Q/YXA6uRCD1D9tzLWRKXTUPyUur2ybbtQ/SJfhlc+F1D9NIZKELJvUP+zTtOGaotQ/rSiQat+j1D+9mQSz8rDUP7+JjmnastQ/PdDpstSn1D+NYOqI3YzUP7Nsjd/vjtQ/xy0rIYBo1D+xMT4JcFLUP/8bttjqTdQ/zmSNXvJx1D99oHr86XrUP4jbfV5IdNQ/pLrQFCVS1D8=",
          "dtype": "f8"
         },
         "yaxis": "y5"
        },
        {
         "legendgroup": "acc_norm_siqa",
         "line": {
          "color": "rgba(112, 252, 97, 1)",
          "dash": "solid",
          "width": 1.5
         },
         "mode": "lines",
         "name": "SIQA",
         "showlegend": false,
         "type": "scatter",
         "x": {
          "bdata": "AAAAQN1K70EAAADwJXj3QQAAANBKr/xBAAAA2DfzAEIAAABIyo4DQgAAAPAleAdCAAAAmIFhC0IAAABA3UoPQgAAAHQcmhFCAAAASMqOE0IAAAAceIMVQgAAAPAleBdCAAAAxNNsGUIAAACYgWEbQgAAAGwvVh1CAAAAQN1KH0IAAACKxZ8gQgAAAHQcmiFCAAAAXnOUIkIAAABIyo4jQgAAADIhiSRCAAAAHHiDJUIAAAAGz30mQgAAAPAleCdCAAAA2nxyKEIAAADE02wpQgAAAK4qZypCAAAAmIFhK0IAAACC2FssQgAAAGwvVi1CAAAAVoZQLkIAAABA3UovQgAAABWaIjBCAAAAisWfMEIAAAD/8BwxQgAAAHQcmjFCAAAA6UcXMkIAAABec5QyQgAAANOeETNCAAAASMqOM0IAAAC99Qs0QgAAADIhiTRCAAAAp0wGNUIAAAAceIM1QgAAAJGjADZCAAAABs99NkIAAAB7+vo2QgAAAPAleDdCAAAAZVH1N0I=",
          "dtype": "f8"
         },
         "xaxis": "x5",
         "y": {
          "bdata": "a3VM8GCe2D/YFSD3mgvZPxEREREREdk/hTJ6W9bq2D/YFSD3mgvZP0sMAiuHFtk/gNxrLiRN2T9I4XoUrkfZP5zEILByaNk/1b8Ryuht2T8LkHvNhaTZP7is1THBg9k/C5B7zYWk2T/wp8ZLN4nZP0Fg5dAi29k/XUiaUnH22T+VQ4ts5/vZP3tb1uqY4Nk/mG4Sg8DK2T94ME/UvxHaP5VDi2zn+9k/lUOLbOf72T+ZmZmZmZnZP0SLbOf7qdk/8KfGSzeJ2T/TlIqzD5/ZPyijt2Wtjtk/uKzVMcGD2T/TlIqzD5/ZP9OUirMPn9k/X3MhaUrF2T8MkHvNhaTZPyvOPnyGXdk/ZMkvlvxi2T/x0k1iEFjZP+98PzVeutk/Rbbz/dR42T8po7dlrY7ZP9OUirMPn9k/mG4Sg8DK2T8LkHvNhaTZP/Cnxks3idk/K84+fIZd2T+511xImlLZP5zEILByaNk/uKzVMcGD2T8oo7dlrY7ZP/Cnxks3idk/K84+fIZd2T8=",
          "dtype": "f8"
         },
         "yaxis": "y5"
        },
        {
         "legendgroup": "acc_norm_piqa",
         "line": {
          "color": "rgba(199, 236, 54, 1)",
          "dash": "solid",
          "width": 1.5
         },
         "mode": "lines",
         "name": "PIQA",
         "showlegend": false,
         "type": "scatter",
         "x": {
          "bdata": "AAAAQN1K70EAAADwJXj3QQAAANBKr/xBAAAA2DfzAEIAAABIyo4DQgAAAPAleAdCAAAAmIFhC0IAAABA3UoPQgAAAHQcmhFCAAAASMqOE0IAAAAceIMVQgAAAPAleBdCAAAAxNNsGUIAAACYgWEbQgAAAGwvVh1CAAAAQN1KH0IAAACKxZ8gQgAAAHQcmiFCAAAAXnOUIkIAAABIyo4jQgAAADIhiSRCAAAAHHiDJUIAAAAGz30mQgAAAPAleCdCAAAA2nxyKEIAAADE02wpQgAAAK4qZypCAAAAmIFhK0IAAACC2FssQgAAAGwvVi1CAAAAVoZQLkIAAABA3UovQgAAABWaIjBCAAAAisWfMEIAAAD/8BwxQgAAAHQcmjFCAAAA6UcXMkIAAABec5QyQgAAANOeETNCAAAASMqOM0IAAAC99Qs0QgAAADIhiTRCAAAAp0wGNUIAAAAceIM1QgAAAJGjADZCAAAABs99NkIAAAB7+vo2QgAAAPAleDdCAAAAZVH1N0I=",
          "dtype": "f8"
         },
         "xaxis": "x5",
         "y": {
          "bdata": "Rf0boYze4j8EVg4tsp3jP7mQNKXi7OM/qMZLN4lB5D9SuB6F61HkP10Bcq+5kOQ/6LSBThvo5D8fhetRuB7lP3Noke18P+U/5F5zIWlK5T+rOPvwGXblP7is1THBg+U/m5mZmZmZ5T99hl0Bcq/lP2BzIWlKxeU/393d3d3d5T+YbhKDwMrlP4v6N0IZveU/RIts5/up5T8LkHvNhaTlP0SLbOf7qeU/4Ahl9Las5T+l4uzDZ9jlPxfZzvdT4+U/peLsw2fY5T9R/0Yoo7flP/zwGXYFyOU/iM+wK0Du5T9ANV66SQzmP3lb1uqY4OU/NOwKkHvN5T/d3d3d3d3lP/eaC0lTKuY/Z2ZmZmZm5j9LfrHkF0vmP4WkKRVnH+Y/F9nO91Pj5T97W9bqmODlP6Xi7MNn2OU/a7x0kxgE5j9rvHSTGATmP11ImlJx9uU/J3gwT9S/5T8neDBP1L/lP0A1XrpJDOY/kxgEVg4t5j/pJjEIrBzmP4jPsCtA7uU/NOwKkHvN5T8=",
          "dtype": "f8"
         },
         "yaxis": "y5"
        },
        {
         "legendgroup": "acc_norm_winogrande",
         "line": {
          "color": "rgba(247, 184, 54, 1)",
          "dash": "solid",
          "width": 1.5
         },
         "mode": "lines",
         "name": "WinoGrande",
         "showlegend": false,
         "type": "scatter",
         "x": {
          "bdata": "AAAAQN1K70EAAADwJXj3QQAAANBKr/xBAAAA2DfzAEIAAABIyo4DQgAAAPAleAdCAAAAmIFhC0IAAABA3UoPQgAAAHQcmhFCAAAASMqOE0IAAAAceIMVQgAAAPAleBdCAAAAxNNsGUIAAACYgWEbQgAAAGwvVh1CAAAAQN1KH0IAAACKxZ8gQgAAAHQcmiFCAAAAXnOUIkIAAABIyo4jQgAAADIhiSRCAAAAHHiDJUIAAAAGz30mQgAAAPAleCdCAAAA2nxyKEIAAADE02wpQgAAAK4qZypCAAAAmIFhK0IAAACC2FssQgAAAGwvVi1CAAAAVoZQLkIAAABA3UovQgAAABWaIjBCAAAAisWfMEIAAAD/8BwxQgAAAHQcmjFCAAAA6UcXMkIAAABec5QyQgAAANOeETNCAAAASMqOM0IAAAC99Qs0QgAAADIhiTRCAAAAp0wGNUIAAAAceIM1QgAAAJGjADZCAAAABs99NkIAAAB7+vo2QgAAAPAleDdCAAAAZVH1N0I=",
          "dtype": "f8"
         },
         "xaxis": "x5",
         "y": {
          "bdata": "R2/LWh0T4D/wYJ6ofyPgPycxCKwcWuA/z/dT46Wb4D8j2/l+arzgP09iEFg5tOA/M3pb1uqY4D/6fmq8dJPgP8BY8oslv+A/seQXS36x4D/4U+Olm8TgP5b8YskvluA/3GsuJE2p4D8I80T9G6HgP9tApw102uA/sLmQNKXi4D9c1uqY4MHgP/p+arx0k+A/F5KmVJx94D/day4kTangP9tApw102uA/vS1rdUzw4D8hsHJoke3gP83MzMzMzOA/TDeJQWDl4D/otIFOG+jgPzBP1L8RyuA/FWcfPsOu4D9toNMGOm3gPwjzRP0boeA/TmIQWDm04D+FMnpb1urgP2lKxdmHz+A/MU/UvxHK4D/4U+Olm8TgP0w3iUFg5eA/6LSBThvo4D+gGi/dJAbhP62OCR7ME+E/ro4JHswT4T/2KFyPwvXgP0w3iUFg5eA/TDeJQWDl4D+U0duyVsfgP2lKxdmHz+A/FWcfPsOu4D/NzMzMzMzgP6NFtvP91OA/EzyYJ+rf4D8=",
          "dtype": "f8"
         },
         "yaxis": "y5"
        },
        {
         "legendgroup": "acc_norm_commonsense_qa",
         "line": {
          "color": "rgba(244, 105, 24, 1)",
          "dash": "solid",
          "width": 1.5
         },
         "mode": "lines",
         "name": "CommonsenseQA",
         "showlegend": false,
         "type": "scatter",
         "x": {
          "bdata": "AAAAQN1K70EAAADwJXj3QQAAANBKr/xBAAAA2DfzAEIAAABIyo4DQgAAAPAleAdCAAAAmIFhC0IAAABA3UoPQgAAAHQcmhFCAAAASMqOE0IAAAAceIMVQgAAAPAleBdCAAAAxNNsGUIAAACYgWEbQgAAAGwvVh1CAAAAQN1KH0IAAACKxZ8gQgAAAHQcmiFCAAAAXnOUIkIAAABIyo4jQgAAADIhiSRCAAAAHHiDJUIAAAAGz30mQgAAAPAleCdCAAAA2nxyKEIAAADE02wpQgAAAK4qZypCAAAAmIFhK0IAAACC2FssQgAAAGwvVi1CAAAAVoZQLkIAAABA3UovQgAAABWaIjBCAAAAisWfMEIAAAD/8BwxQgAAAHQcmjFCAAAA6UcXMkIAAABec5QyQgAAANOeETNCAAAASMqOM0IAAAC99Qs0QgAAADIhiTRCAAAAp0wGNUIAAAAceIM1QgAAAJGjADZCAAAABs99NkIAAAB7+vo2QgAAAPAleDdCAAAAZVH1N0I=",
          "dtype": "f8"
         },
         "xaxis": "x5",
         "y": {
          "bdata": "D+aJ+jdC0T+R7Xw/NV7SP+F6FK5H4dI/TxvotIFO0z+DwMqhRbbTP9NNYhBYOdQ/tTomeDBP1D8nMQisHFrUPycxCKwcWtQ/54n6N0IZ1T/mifo3QhnVPx+F61G4HtU/zczMzMzM1D91kxgEVg7VP1VVVVVVVdU/cT0K16Nw1T9wEoPAyqHVP4v6N0IZvdU/NOwKkHvN1T8VrkfhehTWP4WkKRVnH9Y/oYzelrU61j9NqTj78BnWP7+fGi/dJNY/EYPAyqFF1j9oke18PzXWP9mHz7ArQNY/F9nO91Pj1T+Iz7ArQO7VP28Sg8DKodU/v58aL90k1j9LfrHkF0vWPyxA7jUXktY/YxBYObTI1j/VMcGDeaLWP/AZdgXIvdY/ZWZmZmZm1j+dNtBpA53WP7tJDAIrh9Y/ZDvfT42X1j9LfrHkF0vWP2iR7Xw/NdY/a7x0kxgE1j/d3d3d3d3VP0/UvxHK6NU/F9nO91Pj1T/gCGX0tqzVPzcXkqZUnNU/VVVVVVVV1T8=",
          "dtype": "f8"
         },
         "yaxis": "y5"
        },
        {
         "legendgroup": "acc_norm_openbookqa",
         "line": {
          "color": "rgba(199, 42, 4, 1)",
          "dash": "solid",
          "width": 1.5
         },
         "mode": "lines",
         "name": "OpenbookQA",
         "showlegend": false,
         "type": "scatter",
         "x": {
          "bdata": "AAAAQN1K70EAAADwJXj3QQAAANBKr/xBAAAA2DfzAEIAAABIyo4DQgAAAPAleAdCAAAAmIFhC0IAAABA3UoPQgAAAHQcmhFCAAAASMqOE0IAAAAceIMVQgAAAPAleBdCAAAAxNNsGUIAAACYgWEbQgAAAGwvVh1CAAAAQN1KH0IAAACKxZ8gQgAAAHQcmiFCAAAAXnOUIkIAAABIyo4jQgAAADIhiSRCAAAAHHiDJUIAAAAGz30mQgAAAPAleCdCAAAA2nxyKEIAAADE02wpQgAAAK4qZypCAAAAmIFhK0IAAACC2FssQgAAAGwvVi1CAAAAVoZQLkIAAABA3UovQgAAABWaIjBCAAAAisWfMEIAAAD/8BwxQgAAAHQcmjFCAAAA6UcXMkIAAABec5QyQgAAANOeETNCAAAASMqOM0IAAAC99Qs0QgAAADIhiTRCAAAAp0wGNUIAAAAceIM1QgAAAJGjADZCAAAABs99NkIAAAB7+vo2QgAAAPAleDdCAAAAZVH1N0I=",
          "dtype": "f8"
         },
         "xaxis": "x5",
         "y": {
          "bdata": "j8L1KFyP0j9UnH34DLvSP21Zq2OCB9M/L90kBoGV0z/Xo3A9CtfTPw102kCnDdQ/K4cW2c730z9hV4Dcay7UP5gn6t8IZdQ/CR7ME/Vv1D/sCpB7zYXUP3e+nxov3dQ/QO41F5Km1D8FyL3mQtLUPwkezBP1b9Q/Watjggfz1D/otIFOG+jUP+RecyFpStU/AXKvuZA01T9Zq2OCB/PUP8/3U+Olm9Q/6LSBThvo1D8fhetRuB7VP+RecyFpStU/6LSBThvo1D/LoUW28/3UP5TR27JWx9Q/6LSBThvo1D8j2/l+arzUP5TR27JWx9Q/lNHbslbH1D93vp8aL93UP8/3U+Olm9Q/c2iR7Xw/1T9zaJHtfD/VPzhCGb0ta9U/AXKvuZA01T/kXnMhaUrVPzTsCpB7zdU/cBKDwMqh1T9vEoPAyqHVP/0boYzeltU//RuhjN6W1T8X2c73U+PVP+AIZfS2rNU/OEIZvS1r1T/kXnMhaUrVP62OCR7ME9U/VVVVVVVV1T8=",
          "dtype": "f8"
         },
         "yaxis": "y5"
        },
        {
         "legendgroup": "acc_norm_arc_easy",
         "line": {
          "color": "rgba(48, 18, 59, 1)",
          "dash": "solid",
          "width": 1.5
         },
         "mode": "lines",
         "name": "ARC Easy",
         "showlegend": false,
         "type": "scatter",
         "x": {
          "bdata": "AAAAQN1K70EAAADwJXj3QQAAAEDdSv9BAAAASMqOA0IAAADwJXgHQgAAAJiBYQtCAAAAQN1KD0IAAAB0HJoRQgAAAEjKjhNCAAAAHHiDFUIAAADwJXgXQgAAAMTTbBlCAAAAmIFhG0IAAABsL1YdQgAAAEDdSh9CAAAAisWfIEIAAAB0HJohQgAAAF5zlCJCAAAASMqOI0IAAAAyIYkkQgAAABx4gyVCAAAABs99JkIAAADwJXgnQgAAANp8cihCAAAAxNNsKUIAAACuKmcqQgAAAJiBYStCAAAAgthbLEIAAABsL1YtQgAAAFaGUC5CAAAAQN1KL0IAAAAVmiIwQgAAAIrFnzBCAAAA//AcMUIAAAB0HJoxQgAAAOlHFzJCAAAAXnOUMkIAAADTnhEzQgAAAEjKjjNCAAAAvfULNEIAAAAyIYk0QgAAAKdMBjVCAAAAHHiDNUIAAACRowA2QgAAAAbPfTZCAAAAe/r6NkIAAADwJXg3QgAAAGVR9TdC",
          "dtype": "f8"
         },
         "xaxis": "x6",
         "y": {
          "bdata": "v58aL90k1j9ZZDvfT43XP4zelrU6Jtg/oUW28/3U2D8oo7dlrY7ZPwG511xImto//WLJL5b82j+nVJx9+AzbPxyhjN6Wtdo//41QRm/L2j9UnH34DLvaP6dUnH34DNs/FSD3mgtJ2z9o2BUg95rbP7hlrY4JHtw/DElTKs4+3D+zD59hV4DcP2As+cWSX9w/CPNE/Ruh3D9DGb0ta3XcP7HkF0t+sdw/tA+fYVeA3D/r3whl9LbcPwjzRP0bodw/d76fGi/d3D+U0duyVsfcP3npJjEIrNw/tA+fYVeA3D/QItv5fmrcPwxJUyrOPtw/m1Jx9uEz3D+5kDSl4uzbPxCfYVeA3Ns/R2/LWh0T3D/tCpB7zYXcPwSdNtBpA90/k6ZUnH343D/r3whl9LbcP1vW6pjgwdw/l/xiyS+W3D9YgNxrLiTdPx+F61G4Ht0/xSCwcmiR3T8ARyijt2XdP3E9CtejcN0/F9nO91Pj3T807AqQe83dP4v6N0IZvd0/",
          "dtype": "f8"
         },
         "yaxis": "y6"
        },
        {
         "legendgroup": "acc_norm_arc_challenge",
         "line": {
          "color": "rgba(68, 96, 208, 1)",
          "dash": "solid",
          "width": 1.5
         },
         "mode": "lines",
         "name": "ARC Challenge",
         "showlegend": false,
         "type": "scatter",
         "x": {
          "bdata": "AAAAQN1K70EAAADwJXj3QQAAAEDdSv9BAAAASMqOA0IAAADwJXgHQgAAAJiBYQtCAAAAQN1KD0IAAAB0HJoRQgAAAEjKjhNCAAAAHHiDFUIAAADwJXgXQgAAAMTTbBlCAAAAmIFhG0IAAABsL1YdQgAAAEDdSh9CAAAAisWfIEIAAAB0HJohQgAAAF5zlCJCAAAASMqOI0IAAAAyIYkkQgAAABx4gyVCAAAABs99JkIAAADwJXgnQgAAANp8cihCAAAAxNNsKUIAAACuKmcqQgAAAJiBYStCAAAAgthbLEIAAABsL1YtQgAAAFaGUC5CAAAAQN1KL0IAAAAVmiIwQgAAAIrFnzBCAAAA//AcMUIAAAB0HJoxQgAAAOlHFzJCAAAAXnOUMkIAAADTnhEzQgAAAEjKjjNCAAAAvfULNEIAAAAyIYk0QgAAAKdMBjVCAAAAHHiDNUIAAACRowA2QgAAAAbPfTZCAAAAe/r6NkIAAADwJXg3QgAAAGVR9TdC",
          "dtype": "f8"
         },
         "xaxis": "x6",
         "y": {
          "bdata": "EJ9hV4Dcyz9YgNxrLiTNP/eaC0lTKs4/24fPsCtAzj+9dJMYBFbOP2U730+Nl84/CKwcWmQ7zz95ov6NUEbPP3mi/o1QRs8/uB6F61G4zj/NhaQpFWfPP7ByaJHtfM8/HRM8mCfqzz91TPBgnqjPP+dC0pSKs88/qvHSTWIQ0D/F2YfPsCvQP8XZh8+wK9A/AAAAAAAA0D8EVg4tsp3PPyFpSsXZh88/zYWkKRVnzz+wcmiR7XzPP8kvlvxiyc8/qvHSTWIQ0D/nQtKUirPPP7ByaJHtfM8/50LSlIqzzz85+/AZdgXQPxvotIFOG9A/dUzwYJ6ozz8haUrF2YfPPz98hl0Bcs8/OyZ4ME/Uzz91TPBgnqjPPwAAAAAAANA/HRM8mCfqzz/j7MNn2BXQP6rx0k1iENA/G+i0gU4b0D830GkDnTbQP8XZh8+wK9A/jd6WtTom0D9U46WbxCDQP/7UeOkmMdA/UrgehetR0D8ZvS1rdUzQP3H24TPsCtA/",
          "dtype": "f8"
         },
         "yaxis": "y6"
        },
        {
         "legendgroup": "acc_norm_hellaswag",
         "line": {
          "color": "rgba(54, 167, 248, 1)",
          "dash": "solid",
          "width": 1.5
         },
         "mode": "lines",
         "name": "Hellaswag",
         "showlegend": false,
         "type": "scatter",
         "x": {
          "bdata": "AAAAQN1K70EAAADwJXj3QQAAAEDdSv9BAAAASMqOA0IAAADwJXgHQgAAAJiBYQtCAAAAQN1KD0IAAAB0HJoRQgAAAEjKjhNCAAAAHHiDFUIAAADwJXgXQgAAAMTTbBlCAAAAmIFhG0IAAABsL1YdQgAAAEDdSh9CAAAAisWfIEIAAAB0HJohQgAAAF5zlCJCAAAASMqOI0IAAAAyIYkkQgAAABx4gyVCAAAABs99JkIAAADwJXgnQgAAANp8cihCAAAAxNNsKUIAAACuKmcqQgAAAJiBYStCAAAAgthbLEIAAABsL1YtQgAAAFaGUC5CAAAAQN1KL0IAAAAVmiIwQgAAAIrFnzBCAAAA//AcMUIAAAB0HJoxQgAAAOlHFzJCAAAAXnOUMkIAAADTnhEzQgAAAEjKjjNCAAAAvfULNEIAAAAyIYk0QgAAAKdMBjVCAAAAHHiDNUIAAACRowA2QgAAAAbPfTZCAAAAe/r6NkIAAADwJXg3QgAAAGVR9TdC",
          "dtype": "f8"
         },
         "xaxis": "x6",
         "y": {
          "bdata": "vLu7u7u70z8YBFYOLbLVP+3DZ9gVINc/w64Auddc2D9I4XoUrkfZP8wT9W+EMto/xGfYFSD32j+DwMqhRbbbP10Bcq+5kNw/6LSBThvo3D9zaJHtfD/dP+Mz7AqQe90/McGDeaL+3T/AyqFFtvPdP2iR7Xw/Nd4/vXSTGARW3j9g5dAi2/neP9HbslbHBN8/IWlKxdmH3z+VirMPn2HfP3VM8GCeqN8/y1odEzyY3z+cffgMuwLgPw102kCnDeA/YVeA3Gsu4D+bUnH24TPgP1TjpZvEIOA/4+zDZ9gV4D+aUnH24TPgPyUGgZVDi+A/wYN5ov6N4D+kcD0K16PgP7LkF0t+seA/3WsuJE2p4D+kcD0K16PgPxVnHz7DruA/LyRNqTj74D9YgNxrLiThP62OCR7ME+E/BJ020GkD4T+9LWt1TPDgP2cfPsOuAOE/rY4JHswT4T+Qe82FpCnhPx+F61G4HuE/9P3UeOkm4T9l9Las1THhP49QRm/LWuE/",
          "dtype": "f8"
         },
         "yaxis": "y6"
        },
        {
         "legendgroup": "acc_norm_mmlu",
         "line": {
          "color": "rgba(33, 226, 181, 1)",
          "dash": "solid",
          "width": 1.5
         },
         "mode": "lines",
         "name": "MMLU",
         "showlegend": false,
         "type": "scatter",
         "x": {
          "bdata": "AAAAQN1K70EAAADwJXj3QQAAAEDdSv9BAAAASMqOA0IAAADwJXgHQgAAAJiBYQtCAAAAQN1KD0IAAAB0HJoRQgAAAEjKjhNCAAAAHHiDFUIAAADwJXgXQgAAAMTTbBlCAAAAmIFhG0IAAABsL1YdQgAAAEDdSh9CAAAAisWfIEIAAAB0HJohQgAAAF5zlCJCAAAASMqOI0IAAAAyIYkkQgAAABx4gyVCAAAABs99JkIAAADwJXgnQgAAANp8cihCAAAAxNNsKUIAAACuKmcqQgAAAJiBYStCAAAAgthbLEIAAABsL1YtQgAAAFaGUC5CAAAAQN1KL0IAAAAVmiIwQgAAAIrFnzBCAAAA//AcMUIAAAB0HJoxQgAAAOlHFzJCAAAAXnOUMkIAAADTnhEzQgAAAEjKjjNCAAAAvfULNEIAAAAyIYk0QgAAAKdMBjVCAAAAHHiDNUIAAACRowA2QgAAAAbPfTZCAAAAe/r6NkIAAADwJXg3QgAAAGVR9TdC",
          "dtype": "f8"
         },
         "xaxis": "x6",
         "y": {
          "bdata": "yagoDqhr0D/CItyXP5fQP5uRL1JyqNA/S+mY2pKZ0D8D8b5iWIfQP22ePfgxd9A/4l3Jaf6H0D+EHdQgK6rQPxujQ9YVwtA/SpQj4hHO0D9egsbA5s3QP/staUbfy9A/yZV9sE3Y0D/4yHR8udbQP+z9ArLO4NA/MdV5nSro0D9XmYgePgfRP4/QDmnHFtE/C8eCEUAt0T+s8VARTTLRPzMYnxtoK9E/BPYmlx4X0T+VMcyOfCHRP+QbVlT/MtE/88EugGNN0T/4GOE6qkPRP5PJ//LXTdE/McGC7dcz0T88dHE4uCfRPxuWpMx1LdE/3EmTe9Ii0T8lpLkaGzHRP3T5143wLNE/0FG7Q7Q/0T8rXukAmV/RP+vGC+g0dtE//KLdAvN+0T8JfhyzgXPRP/P+TOIIUNE/d05C0HBM0T/zmPNMkkzRP4s3i2fGX9E/bfsgFsBg0T+QitDwDUvRPysZrZ7yRtE/MFb2I49X0T9by340A3HRP8Xiz4HMg9E/",
          "dtype": "f8"
         },
         "yaxis": "y6"
        },
        {
         "legendgroup": "acc_norm_siqa",
         "line": {
          "color": "rgba(112, 252, 97, 1)",
          "dash": "solid",
          "width": 1.5
         },
         "mode": "lines",
         "name": "SIQA",
         "showlegend": false,
         "type": "scatter",
         "x": {
          "bdata": "AAAAQN1K70EAAADwJXj3QQAAAEDdSv9BAAAASMqOA0IAAADwJXgHQgAAAJiBYQtCAAAAQN1KD0IAAAB0HJoRQgAAAEjKjhNCAAAAHHiDFUIAAADwJXgXQgAAAMTTbBlCAAAAmIFhG0IAAABsL1YdQgAAAEDdSh9CAAAAisWfIEIAAAB0HJohQgAAAF5zlCJCAAAASMqOI0IAAAAyIYkkQgAAABx4gyVCAAAABs99JkIAAADwJXgnQgAAANp8cihCAAAAxNNsKUIAAACuKmcqQgAAAJiBYStCAAAAgthbLEIAAABsL1YtQgAAAFaGUC5CAAAAQN1KL0IAAAAVmiIwQgAAAIrFnzBCAAAA//AcMUIAAAB0HJoxQgAAAOlHFzJCAAAAXnOUMkIAAADTnhEzQgAAAEjKjjNCAAAAvfULNEIAAAAyIYk0QgAAAKdMBjVCAAAAHHiDNUIAAACRowA2QgAAAAbPfTZCAAAAe/r6NkIAAADwJXg3QgAAAGVR9TdC",
          "dtype": "f8"
         },
         "xaxis": "x6",
         "y": {
          "bdata": "gNxrLiRN2T9FtvP91HjZP53vp8ZLN9k/nMQgsHJo2T8Q5on6N0LZP0jhehSuR9k/LfnFkl8s2T8Q5on6N0LZPyvOPnyGXdk/o0W28/3U2D/1KFyPwvXYP0sMAiuHFtk/7Xw/NV662T8kTak4+/DZP88+fIZdAdo/JE2pOPvw2T8po7dlrY7ZP7nXXEiaUtk/ZMkvlvxi2T98hl0Bcq/ZPwc6baDTBto/kxgEVg4t2j8FD+aJ+jfaP8wT9W+EMto/dNpApw102j+rqqqqqqraP1fHBA/mido/6SYxCKwc2j+zVscED+bZP7ArQO41F9o/IPeaC0lT2j/ME/VvhDLaP5MYBFYOLdo/XUiaUnH22T91Bci95kLaP5HtfD81Xto/A+RecyFp2j8ED+aJ+jfaPyRNqTj78Nk/rwC511xI2j8AuddcSJraPziJQWDl0No/IPeaC0lT2j9bHRM8mCfaPyMiIiIiIto/yehtWatj2j902kCnDXTaP3GvuZA0pdo/",
          "dtype": "f8"
         },
         "yaxis": "y6"
        },
        {
         "legendgroup": "acc_norm_piqa",
         "line": {
          "color": "rgba(199, 236, 54, 1)",
          "dash": "solid",
          "width": 1.5
         },
         "mode": "lines",
         "name": "PIQA",
         "showlegend": false,
         "type": "scatter",
         "x": {
          "bdata": "AAAAQN1K70EAAADwJXj3QQAAAEDdSv9BAAAASMqOA0IAAADwJXgHQgAAAJiBYQtCAAAAQN1KD0IAAAB0HJoRQgAAAEjKjhNCAAAAHHiDFUIAAADwJXgXQgAAAMTTbBlCAAAAmIFhG0IAAABsL1YdQgAAAEDdSh9CAAAAisWfIEIAAAB0HJohQgAAAF5zlCJCAAAASMqOI0IAAAAyIYkkQgAAABx4gyVCAAAABs99JkIAAADwJXgnQgAAANp8cihCAAAAxNNsKUIAAACuKmcqQgAAAJiBYStCAAAAgthbLEIAAABsL1YtQgAAAFaGUC5CAAAAQN1KL0IAAAAVmiIwQgAAAIrFnzBCAAAA//AcMUIAAAB0HJoxQgAAAOlHFzJCAAAAXnOUMkIAAADTnhEzQgAAAEjKjjNCAAAAvfULNEIAAAAyIYk0QgAAAKdMBjVCAAAAHHiDNUIAAACRowA2QgAAAAbPfTZCAAAAe/r6NkIAAADwJXg3QgAAAGVR9TdC",
          "dtype": "f8"
         },
         "xaxis": "x6",
         "y": {
          "bdata": "4cE8Uf9G5D8t+cWSXyzlPzUXkqZUnOU/bef7qfHS5T/PPnyGXQHmP0A1XrpJDOY/sStA7jUX5j9NqTj78BnmP1sdEzyYJ+Y/yehtWatj5j+PwvUoXI/mP2MQWDm0yOY/Rf0boYze5j8bdgXIvebmP8Rn2BUg9+Y/0duyVscE5z9D0pSKsw/nP6UpFWcfPuc/0LArQO415z+kKRVnHz7nP+3DZ9gVIOc/XbpJDAIr5z+kKRVnHz7nPzMzMzMzM+c/Jb9Y8osl5z+XtTomeDDnP1yPwvUoXOc/zYWkKRVn5z9cj8L1KFznP6QpFWcfPuc/CKwcWmQ75z/NhaQpFWfnPwWBlUOLbOc/y1odEzyY5z+wcmiR7XznPwRWDi2ynec/L90kBoGV5z+F61G4HoXnP73mQtKUiuc/hetRuB6F5z/ZzvdT46XnP69H4XoUruc/rUfhehSu5z/0tqzVMcHnP7u7u7u7u+c/OyZ4ME/U5z+RNKXi7MPnPwMrhxbZzuc/",
          "dtype": "f8"
         },
         "yaxis": "y6"
        },
        {
         "legendgroup": "acc_norm_winogrande",
         "line": {
          "color": "rgba(247, 184, 54, 1)",
          "dash": "solid",
          "width": 1.5
         },
         "mode": "lines",
         "name": "WinoGrande",
         "showlegend": false,
         "type": "scatter",
         "x": {
          "bdata": "AAAAQN1K70EAAADwJXj3QQAAAEDdSv9BAAAASMqOA0IAAADwJXgHQgAAAJiBYQtCAAAAQN1KD0IAAAB0HJoRQgAAAEjKjhNCAAAAHHiDFUIAAADwJXgXQgAAAMTTbBlCAAAAmIFhG0IAAABsL1YdQgAAAEDdSh9CAAAAisWfIEIAAAB0HJohQgAAAF5zlCJCAAAASMqOI0IAAAAyIYkkQgAAABx4gyVCAAAABs99JkIAAADwJXgnQgAAANp8cihCAAAAxNNsKUIAAACuKmcqQgAAAJiBYStCAAAAgthbLEIAAABsL1YtQgAAAFaGUC5CAAAAQN1KL0IAAAAVmiIwQgAAAIrFnzBCAAAA//AcMUIAAAB0HJoxQgAAAOlHFzJCAAAAXnOUMkIAAADTnhEzQgAAAEjKjjNCAAAAvfULNEIAAAAyIYk0QgAAAKdMBjVCAAAAHHiDNUIAAACRowA2QgAAAAbPfTZCAAAAe/r6NkIAAADwJXg3QgAAAGVR9TdC",
          "dtype": "f8"
         },
         "xaxis": "x6",
         "y": {
          "bdata": "yAQP5on63z/gwTxR/0bgP91rLiRNqeA/exSuR+F64D+HXQFyr7ngP10Bcq+5kOA/Bci95kLS4D+wuZA0peLgP/t+arx0k+A/bHVM8GCe4D/P91PjpZvgP7HkF0t+seA/TWIQWDm04D9c1uqY4MHgP7sC5F5zIeE/ZfS2rNUx4T/kXnMhaUrhP7sC5F5zIeE/5V5zIWlK4T/kXnMhaUrhP6xjggfzROE/1+qY4ME84T+pOPvwGXbhP0e28/3UeOE/uddcSJpS4T89mCfq3wjhPx1aZDvfT+E/Rrbz/dR44T9/seQXS37hP49QRm/LWuE/rGOCB/NE4T9xPQrXo3DhP4wlv1jyi+E/f7HkF0t+4T/iM+wKkHvhP9W/EcrobeE/uKzVMcGD4T/TlIqzD5/hP97d3d3d3eE/UNS/Ecro4T+YbhKDwMrhP2GeqH8jlOE/xSCwcmiR4T9Ei2zn+6nhPyd4ME/Uv+E/e1vW6pjg4T9R/0Yoo7fhP5huEoPAyuE/",
          "dtype": "f8"
         },
         "yaxis": "y6"
        },
        {
         "legendgroup": "acc_norm_commonsense_qa",
         "line": {
          "color": "rgba(244, 105, 24, 1)",
          "dash": "solid",
          "width": 1.5
         },
         "mode": "lines",
         "name": "CommonsenseQA",
         "showlegend": false,
         "type": "scatter",
         "x": {
          "bdata": "AAAAQN1K70EAAADwJXj3QQAAAEDdSv9BAAAASMqOA0IAAADwJXgHQgAAAJiBYQtCAAAAQN1KD0IAAAB0HJoRQgAAAEjKjhNCAAAAHHiDFUIAAADwJXgXQgAAAMTTbBlCAAAAmIFhG0IAAABsL1YdQgAAAEDdSh9CAAAAisWfIEIAAAB0HJohQgAAAF5zlCJCAAAASMqOI0IAAAAyIYkkQgAAABx4gyVCAAAABs99JkIAAADwJXgnQgAAANp8cihCAAAAxNNsKUIAAACuKmcqQgAAAJiBYStCAAAAgthbLEIAAABsL1YtQgAAAFaGUC5CAAAAQN1KL0IAAAAVmiIwQgAAAIrFnzBCAAAA//AcMUIAAAB0HJoxQgAAAOlHFzJCAAAAXnOUMkIAAADTnhEzQgAAAEjKjjNCAAAAvfULNEIAAAAyIYk0QgAAAKdMBjVCAAAAHHiDNUIAAACRowA2QgAAAAbPfTZCAAAAe/r6NkIAAADwJXg3QgAAAGVR9TdC",
          "dtype": "f8"
         },
         "xaxis": "x6",
         "y": {
          "bdata": "iUFg5dAi0z8MSVMqzj7UP0VERERERNQ/QO41F5Km1D+U0duyVsfUPwFyr7mQNNU//RuhjN6W1T+Iz7ArQO7VPzTsCpB7zdU/NOwKkHvN1T/AyqFFtvPVPytA7jUXktY/Dy2yne+n1j8o6t8IZfTWP5sLSVMqztY/DAIrhxbZ1j/wGXYFyL3WP9QGOm2g09Y/YOXQItv51j/tw2fYFSDXP7TIdr6fGtc/7MNn2BUg1z+XtTomeDDXPz98hl0Bctc/sHJoke181z+xne+nxkvXPwnXo3A9Ctc/7+7u7u7u1j9F/RuhjN7WP0PSlIqzD9c/QacNdNpA1z9cj8L1KFzXP3mi/o1QRtc/J+rfCGX01j+bC0lTKs7WP2MQWDm0yNY/mwtJUyrO1j/v7u7u7u7WP2Dl0CLb+dY/Jb9Y8osl1z+xne+nxkvXPwisHFpkO9c/7+7u7u7u1j8MAiuHFtnWP0PSlIqzD9c/B4GVQ4ts1z8klNHbslbXPz98hl0Bctc/",
          "dtype": "f8"
         },
         "yaxis": "y6"
        },
        {
         "legendgroup": "acc_norm_openbookqa",
         "line": {
          "color": "rgba(199, 42, 4, 1)",
          "dash": "solid",
          "width": 1.5
         },
         "mode": "lines",
         "name": "OpenbookQA",
         "showlegend": false,
         "type": "scatter",
         "x": {
          "bdata": "AAAAQN1K70EAAADwJXj3QQAAAEDdSv9BAAAASMqOA0IAAADwJXgHQgAAAJiBYQtCAAAAQN1KD0IAAAB0HJoRQgAAAEjKjhNCAAAAHHiDFUIAAADwJXgXQgAAAMTTbBlCAAAAmIFhG0IAAABsL1YdQgAAAEDdSh9CAAAAisWfIEIAAAB0HJohQgAAAF5zlCJCAAAASMqOI0IAAAAyIYkkQgAAABx4gyVCAAAABs99JkIAAADwJXgnQgAAANp8cihCAAAAxNNsKUIAAACuKmcqQgAAAJiBYStCAAAAgthbLEIAAABsL1YtQgAAAFaGUC5CAAAAQN1KL0IAAAAVmiIwQgAAAIrFnzBCAAAA//AcMUIAAAB0HJoxQgAAAOlHFzJCAAAAXnOUMkIAAADTnhEzQgAAAEjKjjNCAAAAvfULNEIAAAAyIYk0QgAAAKdMBjVCAAAAHHiDNUIAAACRowA2QgAAAAbPfTZCAAAAe/r6NkIAAADwJXg3QgAAAGVR9TdC",
          "dtype": "f8"
         },
         "xaxis": "x6",
         "y": {
          "bdata": "vS1rdUzw0D/wp8ZLN4nRP0OLbOf7qdE/zj58hl0B0j8830+Nl27SP63VMcGDedI/VJx9+Ay70j83iUFg5dDSP4ts5/up8dI/hxbZzvdT0z9pA5020GnTP73mQtKUitM/veZC0pSK0z8zMzMzMzPTP4PAyqFFttM/K4cW2c730z9dAXKvuZDUP8/3U+Olm9Q/6LSBThvo1D/LoUW28/3UP+i0gU4b6NQ/mCfq3whl1D+YJ+rfCGXUP5gn6t8IZdQ/exSuR+F61D+1OiZ4ME/UP2FXgNxrLtQ/001iEFg51D/wYJ6ofyPUP7U6JngwT9Q/seQXS36x1D+x5BdLfrHUP3e+nxov3dQ/seQXS36x1D/otIFOG+jUPwXIveZC0tQ/kHvNhaQp1T/9G6GM3pbVP28Sg8DKodU/x0s3iUFg1T8fhetRuB7VP28Sg8DKodU/+cWSXyz51T/0b4QyelvWP9yyVscED9Y/a7x0kxgE1j+MJb9Y8ovVP6Xi7MNn2NU/",
          "dtype": "f8"
         },
         "yaxis": "y6"
        },
        {
         "legendgroup": "acc_norm_arc_easy",
         "line": {
          "color": "rgba(48, 18, 59, 1)",
          "dash": "solid",
          "width": 1.5
         },
         "mode": "lines",
         "name": "ARC Easy",
         "showlegend": false,
         "type": "scatter",
         "x": {
          "bdata": "AAAAQN1K70EAAADwJXj3QQAAAEDdSv9BAAAASMqOA0IAAADwJXgHQgAAAJiBYQtCAAAAQN1KD0IAAAB0HJoRQgAAAEjKjhNCAAAAHHiDFUIAAADwJXgXQgAAAMTTbBlCAAAAmIFhG0IAAABsL1YdQgAAAEDdSh9CAAAAisWfIEIAAAB0HJohQgAAAF5zlCJCAAAASMqOI0IAAAAyIYkkQgAAABx4gyVCAAAABs99JkIAAADwJXgnQgAAANp8cihCAAAAxNNsKUIAAACuKmcqQgAAAJiBYStCAAAAgthbLEIAAABsL1YtQgAAAFaGUC5CAAAAQN1KL0IAAAAVmiIwQgAAAIrFnzBCAAAA//AcMUIAAAB0HJoxQgAAAOlHFzJCAAAAXnOUMkIAAADTnhEzQgAAAEjKjjNCAAAAvfULNEIAAAAyIYk0QgAAAKdMBjVCAAAAHHiDNUIAAACRowA2QgAAAAbPfTZCAAAAe/r6NkIAAADwJXg3QgAAAGVR9TdC",
          "dtype": "f8"
         },
         "xaxis": "x7",
         "y": {
          "bdata": "r0fhehSu1z8Q5on6N0LZP3gwT9S/Edo//GLJL5b82j/4DLsC5F7bP9NNYhBYOdw/CR7ME/Vv3D+wuZA0peLcP1mrY4IH89w/rY4JHswT3T/Jdr6fGi/dPwSdNtBpA90/P8OuALnX3D9dAXKvuZDcP3npJjEIrNw/seQXS36x3D+tjgkezBPdPzyYJ+rfCN0/Gy/dJAaB3T9UKs4+fIbdP/0boYzelt0/peLsw2fY3T8wlvxiyS/eP0lTKs4+fN4/nTbQaQOd3j+DeaL+jVDeP4FOG+i0gd4/9W+EMnpb3j/tw2fYFSDfP9CwK0DuNd8/meDBPFH/3j9kO99PjZfeP2iR7Xw/Nd4/uB6F61G43j/wGXYFyL3eP5sLSVMqzt4/80T9G6GM3j/wGXYFyL3eP9HbslbHBN8/eaL+jVBG3z/tw2fYFSDfP1yPwvUoXN8/lYqzD59h3z+TXyz5xZLfP7Od76fGS98/YOXQItv53j8IrBxaZDvfPyA+w64Aud8/",
          "dtype": "f8"
         },
         "yaxis": "y7"
        },
        {
         "legendgroup": "acc_norm_arc_challenge",
         "line": {
          "color": "rgba(68, 96, 208, 1)",
          "dash": "solid",
          "width": 1.5
         },
         "mode": "lines",
         "name": "ARC Challenge",
         "showlegend": false,
         "type": "scatter",
         "x": {
          "bdata": "AAAAQN1K70EAAADwJXj3QQAAAEDdSv9BAAAASMqOA0IAAADwJXgHQgAAAJiBYQtCAAAAQN1KD0IAAAB0HJoRQgAAAEjKjhNCAAAAHHiDFUIAAADwJXgXQgAAAMTTbBlCAAAAmIFhG0IAAABsL1YdQgAAAEDdSh9CAAAAisWfIEIAAAB0HJohQgAAAF5zlCJCAAAASMqOI0IAAAAyIYkkQgAAABx4gyVCAAAABs99JkIAAADwJXgnQgAAANp8cihCAAAAxNNsKUIAAACuKmcqQgAAAJiBYStCAAAAgthbLEIAAABsL1YtQgAAAFaGUC5CAAAAQN1KL0IAAAAVmiIwQgAAAIrFnzBCAAAA//AcMUIAAAB0HJoxQgAAAOlHFzJCAAAAXnOUMkIAAADTnhEzQgAAAEjKjjNCAAAAvfULNEIAAAAyIYk0QgAAAKdMBjVCAAAAHHiDNUIAAACRowA2QgAAAAbPfTZCAAAAe/r6NkIAAADwJXg3QgAAAGVR9TdC",
          "dtype": "f8"
         },
         "xaxis": "x7",
         "y": {
          "bdata": "tA+fYVeAzD/nifo3QhnNP4NOG+i0gc4/Q9KUirMPzz8lv1jyiyXPP/Du7u7u7s4/XY/C9Shczz9g5dAi2/nOPyW/WPKLJc8/Q9KUirMPzz8NAiuHFtnOP0TSlIqzD88/PCZ4ME/Uzz//1HjpJjHQP+Psw2fYFdA/HxM8mCfqzz+Lsw+fYVfQP1O4HoXrUdA/jd6WtTom0D93TPBgnqjPPzfQaQOdNtA//9R46SYx0D9TuB6F61HQP1k5tMh2vs8/PCZ4ME/Uzz/LL5b8YsnPP43elrU6JtA/N9BpA5020D+r8dJNYhDQP+Psw2fYFdA/qcZLN4lB0D9uoNMGOm3QP6NFtvP91NA/FDyYJ+rf0D9oHz7DrgDRP91rLiRNqdA/M3pb1uqY0D9TuB6F61HQPxzotIFOG9A/6ELSlIqzzz8BAAAAAADQP6nGSzeJQdA/35a1OiZ40D+nm8QgsHLQP/2p8dJNYtA/i7MPn2FX0D9uoNMGOm3QPzN6W9bqmNA/",
          "dtype": "f8"
         },
         "yaxis": "y7"
        },
        {
         "legendgroup": "acc_norm_hellaswag",
         "line": {
          "color": "rgba(54, 167, 248, 1)",
          "dash": "solid",
          "width": 1.5
         },
         "mode": "lines",
         "name": "Hellaswag",
         "showlegend": false,
         "type": "scatter",
         "x": {
          "bdata": "AAAAQN1K70EAAADwJXj3QQAAAEDdSv9BAAAASMqOA0IAAADwJXgHQgAAAJiBYQtCAAAAQN1KD0IAAAB0HJoRQgAAAEjKjhNCAAAAHHiDFUIAAADwJXgXQgAAAMTTbBlCAAAAmIFhG0IAAABsL1YdQgAAAEDdSh9CAAAAisWfIEIAAAB0HJohQgAAAF5zlCJCAAAASMqOI0IAAAAyIYkkQgAAABx4gyVCAAAABs99JkIAAADwJXgnQgAAANp8cihCAAAAxNNsKUIAAACuKmcqQgAAAJiBYStCAAAAgthbLEIAAABsL1YtQgAAAFaGUC5CAAAAQN1KL0IAAAAVmiIwQgAAAIrFnzBCAAAA//AcMUIAAAB0HJoxQgAAAOlHFzJCAAAAXnOUMkIAAADTnhEzQgAAAEjKjjNCAAAAvfULNEIAAAAyIYk0QgAAAKdMBjVCAAAAHHiDNUIAAACRowA2QgAAAAbPfTZCAAAAe/r6NkIAAADwJXg3QgAAAGVR9TdC",
          "dtype": "f8"
         },
         "xaxis": "x7",
         "y": {
          "bdata": "30+Nl24S0z8hsHJoke3UPxWuR+F6FNY/65jgwTxR1z/j7MNn2BXYPxEREREREdk/EOaJ+jdC2T+1gU4b6LTZP+18PzVeutk/ObTIdr6f2j8YS36x5BfbP0iaUnH24ds/EcrobVmr2z8tsp3vp8bbPw102kCnDdw/I9v5fmq83D91kxgEVg7dP62OCR7ME90/Watjggfz3D9Zq2OCB/PcP8l2vp8aL90//RuhjN6W3T/AyqFFtvPdP2iR7Xw/Nd4/vHSTGARW3j+BThvotIHePw0tsp3vp94/gCOU0duy3j+AI5TR27LePyxA7jUXkt4/1THBg3mi3j9kO99PjZfeP59hV4Dca94/2YfPsCtA3j+5SQwCK4feP7gehetRuN4/tMh2vp8a3z/tw2fYFSDfP82FpCkVZ98/k18s+cWS3z/LWh0TPJjfPx8+w64Aud8/XI/C9Shc3z+zne+nxkvfP3mi/o1QRt8/P3yGXQFy3z+QNKXi7MPfP8kvlvxiyd8/",
          "dtype": "f8"
         },
         "yaxis": "y7"
        },
        {
         "legendgroup": "acc_norm_mmlu",
         "line": {
          "color": "rgba(33, 226, 181, 1)",
          "dash": "solid",
          "width": 1.5
         },
         "mode": "lines",
         "name": "MMLU",
         "showlegend": false,
         "type": "scatter",
         "x": {
          "bdata": "AAAAQN1K70EAAADwJXj3QQAAAEDdSv9BAAAASMqOA0IAAADwJXgHQgAAAJiBYQtCAAAAQN1KD0IAAAB0HJoRQgAAAEjKjhNCAAAAHHiDFUIAAADwJXgXQgAAAMTTbBlCAAAAmIFhG0IAAABsL1YdQgAAAEDdSh9CAAAAisWfIEIAAAB0HJohQgAAAF5zlCJCAAAASMqOI0IAAAAyIYkkQgAAABx4gyVCAAAABs99JkIAAADwJXgnQgAAANp8cihCAAAAxNNsKUIAAACuKmcqQgAAAJiBYStCAAAAgthbLEIAAABsL1YtQgAAAFaGUC5CAAAAQN1KL0IAAAAVmiIwQgAAAIrFnzBCAAAA//AcMUIAAAB0HJoxQgAAAOlHFzJCAAAAXnOUMkIAAADTnhEzQgAAAEjKjjNCAAAAvfULNEIAAAAyIYk0QgAAAKdMBjVCAAAAHHiDNUIAAACRowA2QgAAAAbPfTZCAAAAe/r6NkIAAADwJXg3QgAAAGVR9TdC",
          "dtype": "f8"
         },
         "xaxis": "x7",
         "y": {
          "bdata": "aE0TcfM70D/I+CnxJEDQP6BC7dlST9A/NreECNJ50D+OBLHA1JLQP2X41fQTotA/M+S65dSC0D8lGII2RarQP+W7JoVortA/YGbdrwD10D8HyglobdDQP5nL7bBw29A/8epMNfjQ0D/lUS7VkvTQP89zGqOg9tA/gNNVizQE0T81kA9S1wfRPyFHvBkkDNE/PsJc2Zj40D9La/OzJSnRPwcCn0N2TNE/L+VDOBaD0T8CMvKAY3jRP8Gd6l/rdNE/j0GdW+ll0T/5cxdCNoDRP0NhM5H7htE/LbZ7XrCC0T8dWPV+LnXRP3Z3T3qWadE/4EcCbWh60T938OABmXfRP5PZwamskNE/fQPkZQic0T9EH7lpRrDRP182i8kXpNE/mAP9pcub0T9taU32BF3RP6VQHdDxWtE/l79B6RRe0T84cyiAZ4fRP4BQUqCmotE/paody7+t0T8vLN4fKK3RP/QXbwVqrNE/eJPqOA2b0T8Zbeh7Vs3RP4vAhUOwytE/",
          "dtype": "f8"
         },
         "yaxis": "y7"
        },
        {
         "legendgroup": "acc_norm_siqa",
         "line": {
          "color": "rgba(112, 252, 97, 1)",
          "dash": "solid",
          "width": 1.5
         },
         "mode": "lines",
         "name": "SIQA",
         "showlegend": false,
         "type": "scatter",
         "x": {
          "bdata": "AAAAQN1K70EAAADwJXj3QQAAAEDdSv9BAAAASMqOA0IAAADwJXgHQgAAAJiBYQtCAAAAQN1KD0IAAAB0HJoRQgAAAEjKjhNCAAAAHHiDFUIAAADwJXgXQgAAAMTTbBlCAAAAmIFhG0IAAABsL1YdQgAAAEDdSh9CAAAAisWfIEIAAAB0HJohQgAAAF5zlCJCAAAASMqOI0IAAAAyIYkkQgAAABx4gyVCAAAABs99JkIAAADwJXgnQgAAANp8cihCAAAAxNNsKUIAAACuKmcqQgAAAJiBYStCAAAAgthbLEIAAABsL1YtQgAAAFaGUC5CAAAAQN1KL0IAAAAVmiIwQgAAAIrFnzBCAAAA//AcMUIAAAB0HJoxQgAAAOlHFzJCAAAAXnOUMkIAAADTnhEzQgAAAEjKjjNCAAAAvfULNEIAAAAyIYk0QgAAAKdMBjVCAAAAHHiDNUIAAACRowA2QgAAAAbPfTZCAAAAe/r6NkIAAADwJXg3QgAAAGVR9TdC",
          "dtype": "f8"
         },
         "xaxis": "x7",
         "y": {
          "bdata": "oBov3SQG2T+4rNUxwYPZP2GeqH8jlNk/mG4Sg8DK2T9ANV66SQzaP88+fIZdAdo/s1bHBA/m2T+bmZmZmZnZP5mZmZmZmdk/YZ6ofyOU2T/tfD81XrrZP7WBThvotNk/tYFOG+i02T9Ei2zn+6nZP32GXQFyr9k/KaO3Za2O2T9/seQXS37ZP0jhehSuR9k/8dJNYhBY2T/0/dR46SbZP53vp8ZLN9k/gwfzRP0b2T8Q5on6N0LZP4MH80T9G9k/1+qY4ME82T8s+cWSXyzZP5/vp8ZLN9k/vALkXnMh2T8t+cWSXyzZP/T91HjpJtk/D+aJ+jdC2T8P5on6N0LZPw27AuRec9k/R7bz/dR42T+cxCCwcmjZPw/mifo3Qtk/gwfzRP0b2T9l9Las1THZP4Hcay4kTdk/1L8Ryuht2T/tfD81XrrZP3yGXQFyr9k/KKO3Za2O2T+cxCCwcmjZP0W28/3UeNk/KKO3Za2O2T8LkHvNhaTZP7es1THBg9k/",
          "dtype": "f8"
         },
         "yaxis": "y7"
        },
        {
         "legendgroup": "acc_norm_piqa",
         "line": {
          "color": "rgba(199, 236, 54, 1)",
          "dash": "solid",
          "width": 1.5
         },
         "mode": "lines",
         "name": "PIQA",
         "showlegend": false,
         "type": "scatter",
         "x": {
          "bdata": "AAAAQN1K70EAAADwJXj3QQAAAEDdSv9BAAAASMqOA0IAAADwJXgHQgAAAJiBYQtCAAAAQN1KD0IAAAB0HJoRQgAAAEjKjhNCAAAAHHiDFUIAAADwJXgXQgAAAMTTbBlCAAAAmIFhG0IAAABsL1YdQgAAAEDdSh9CAAAAisWfIEIAAAB0HJohQgAAAF5zlCJCAAAASMqOI0IAAAAyIYkkQgAAABx4gyVCAAAABs99JkIAAADwJXgnQgAAANp8cihCAAAAxNNsKUIAAACuKmcqQgAAAJiBYStCAAAAgthbLEIAAABsL1YtQgAAAFaGUC5CAAAAQN1KL0IAAAAVmiIwQgAAAIrFnzBCAAAA//AcMUIAAAB0HJoxQgAAAOlHFzJCAAAAXnOUMkIAAADTnhEzQgAAAEjKjjNCAAAAvfULNEIAAAAyIYk0QgAAAKdMBjVCAAAAHHiDNUIAAACRowA2QgAAAAbPfTZCAAAAe/r6NkIAAADwJXg3QgAAAGVR9TdC",
          "dtype": "f8"
         },
         "xaxis": "x7",
         "y": {
          "bdata": "ZIIH80T94z/day4kTankPyGwcmiR7eQ/y6FFtvP95D+Qe82FpCnlP4Hcay4kTeU/8KfGSzeJ5T9vEoPAyqHlP32GXQFyr+U/UNS/Ecro5T/AyqFFtvPlP6O3Za2OCeY/3LJWxwQP5j8VrkfhehTmP7ErQO41F+Y/3LJWxwQP5j+hjN6WtTrmP4R5ov6NUOY/dQXIveZC5j8FD+aJ+jfmP7+fGi/dJOY/zBP1b4Qy5j9NqTj78BnmP9mHz7ArQOY/n2FXgNxr5j8730+Nl27mP/VvhDJ6W+Y/Wx0TPJgn5j8g95oLSVPmP+XQItv5fuY/uB6F61G45j9VnH34DLvmPziJQWDl0OY/VJx9+Ay75j9jEFg5tMjmP/NE/RuhjOY/j8L1KFyP5j+s1THBg3nmP7gehetRuOY/xZJfLPnF5j8ZdgXIvebmP1Nx9uEz7OY/KOrfCGX05j97zYWkKRXnP/s3Qhm9Lec/MzMzMzMz5z+JQWDl0CLnP3vNhaQpFec/",
          "dtype": "f8"
         },
         "yaxis": "y7"
        },
        {
         "legendgroup": "acc_norm_winogrande",
         "line": {
          "color": "rgba(247, 184, 54, 1)",
          "dash": "solid",
          "width": 1.5
         },
         "mode": "lines",
         "name": "WinoGrande",
         "showlegend": false,
         "type": "scatter",
         "x": {
          "bdata": "AAAAQN1K70EAAADwJXj3QQAAAEDdSv9BAAAASMqOA0IAAADwJXgHQgAAAJiBYQtCAAAAQN1KD0IAAAB0HJoRQgAAAEjKjhNCAAAAHHiDFUIAAADwJXgXQgAAAMTTbBlCAAAAmIFhG0IAAABsL1YdQgAAAEDdSh9CAAAAisWfIEIAAAB0HJohQgAAAF5zlCJCAAAASMqOI0IAAAAyIYkkQgAAABx4gyVCAAAABs99JkIAAADwJXgnQgAAANp8cihCAAAAxNNsKUIAAACuKmcqQgAAAJiBYStCAAAAgthbLEIAAABsL1YtQgAAAFaGUC5CAAAAQN1KL0IAAAAVmiIwQgAAAIrFnzBCAAAA//AcMUIAAAB0HJoxQgAAAOlHFzJCAAAAXnOUMkIAAADTnhEzQgAAAEjKjjNCAAAAvfULNEIAAAAyIYk0QgAAAKdMBjVCAAAAHHiDNUIAAACRowA2QgAAAAbPfTZCAAAAe/r6NkIAAADwJXg3QgAAAGVR9TdC",
          "dtype": "f8"
         },
         "xaxis": "x7",
         "y": {
          "bdata": "/tR46SYx4D97FK5H4XrgP1CNl24Sg+A/a3VM8GCe4D8lBoGVQ4vgP0IZvS1rdeA/7zUXkqZU4D8KHswT9W/gP7HkF0t+seA/aUrF2YfP4D/P91PjpZvgPwkezBP1b+A/0SLb+X5q4D8zelvW6pjgP0DuNReSpuA/+FPjpZvE4D8j2/l+arzgP6FFtvP91OA/Bci95kLS4D/NzMzMzMzgP09iEFg5tOA/FWcfPsOu4D+/WPKLJb/gPxM8mCfq3+A/9Shcj8L14D91kxgEVg7hP66OCR7ME+E/oBov3SQG4T91kxgEVg7hPwSdNtBpA+E/A5020GkD4T8hsHJoke3gPyGwcmiR7eA/hTJ6W9bq4D8/w64AudfgPzFP1L8RyuA/sLmQNKXi4D+9LWt1TPDgP4UyelvW6uA/CPNE/Ruh4D9PYhBYObTgP05iEFg5tOA/EzyYJ+rf4D/4U+Olm8TgPzFP1L8RyuA/h10Bcq+54D8/w64AudfgP8uhRbbz/eA/",
          "dtype": "f8"
         },
         "yaxis": "y7"
        },
        {
         "legendgroup": "acc_norm_commonsense_qa",
         "line": {
          "color": "rgba(244, 105, 24, 1)",
          "dash": "solid",
          "width": 1.5
         },
         "mode": "lines",
         "name": "CommonsenseQA",
         "showlegend": false,
         "type": "scatter",
         "x": {
          "bdata": "AAAAQN1K70EAAADwJXj3QQAAAEDdSv9BAAAASMqOA0IAAADwJXgHQgAAAJiBYQtCAAAAQN1KD0IAAAB0HJoRQgAAAEjKjhNCAAAAHHiDFUIAAADwJXgXQgAAAMTTbBlCAAAAmIFhG0IAAABsL1YdQgAAAEDdSh9CAAAAisWfIEIAAAB0HJohQgAAAF5zlCJCAAAASMqOI0IAAAAyIYkkQgAAABx4gyVCAAAABs99JkIAAADwJXgnQgAAANp8cihCAAAAxNNsKUIAAACuKmcqQgAAAJiBYStCAAAAgthbLEIAAABsL1YtQgAAAFaGUC5CAAAAQN1KL0IAAAAVmiIwQgAAAIrFnzBCAAAA//AcMUIAAAB0HJoxQgAAAOlHFzJCAAAAXnOUMkIAAADTnhEzQgAAAEjKjjNCAAAAvfULNEIAAAAyIYk0QgAAAKdMBjVCAAAAHHiDNUIAAACRowA2QgAAAAbPfTZCAAAAe/r6NkIAAADwJXg3QgAAAGVR9TdC",
          "dtype": "f8"
         },
         "xaxis": "x7",
         "y": {
          "bdata": "QWDl0CLb0T8YS36x5BfTP4XrUbgehdM/Rm/LWh0T1D8JHswT9W/UP1zW6pjgwdQ/0SLb+X5q1D9gLPnFkl/UP8/3U+Olm9Q/I9v5fmq81D956SYxCKzUPyPb+X5qvNQ/dZMYBFYO1T8fhetRuB7VP1iA3GsuJNU/54n6N0IZ1T/FILByaJHVPxsv3SQGgdU/4zPsCpB71T8dWmQ730/VP4n6N0IZvdU/+/AZdgXI1T/9G6GM3pbVPx1aZDvfT9U/UyrOPnyG1T//Riijt2XVP4wlv1jyi9U/j1BGb8ta1T9s5/up8dLVPzUXkqZUnNU//RuhjN6W1T8bL90kBoHVP1Qqzj58htU/T9S/Ecro1T8X2c73U+PVPxfZzvdT49U/bxKDwMqh1T9Q1L8RyujVP0t+seQXS9Y/LWt1TPBg1j+/nxov3STWPxSuR+F6FNY/vHSTGARW1j/YXEiaUnHWP2Q730+Nl9Y/gU4b6LSB1j+fYVeA3GvWP7x0kxgEVtY/",
          "dtype": "f8"
         },
         "yaxis": "y7"
        },
        {
         "legendgroup": "acc_norm_openbookqa",
         "line": {
          "color": "rgba(199, 42, 4, 1)",
          "dash": "solid",
          "width": 1.5
         },
         "mode": "lines",
         "name": "OpenbookQA",
         "showlegend": false,
         "type": "scatter",
         "x": {
          "bdata": "AAAAQN1K70EAAADwJXj3QQAAAEDdSv9BAAAASMqOA0IAAADwJXgHQgAAAJiBYQtCAAAAQN1KD0IAAAB0HJoRQgAAAEjKjhNCAAAAHHiDFUIAAADwJXgXQgAAAMTTbBlCAAAAmIFhG0IAAABsL1YdQgAAAEDdSh9CAAAAisWfIEIAAAB0HJohQgAAAF5zlCJCAAAASMqOI0IAAAAyIYkkQgAAABx4gyVCAAAABs99JkIAAADwJXgnQgAAANp8cihCAAAAxNNsKUIAAACuKmcqQgAAAJiBYStCAAAAgthbLEIAAABsL1YtQgAAAFaGUC5CAAAAQN1KL0IAAAAVmiIwQgAAAIrFnzBCAAAA//AcMUIAAAB0HJoxQgAAAOlHFzJCAAAAXnOUMkIAAADTnhEzQgAAAEjKjjNCAAAAvfULNEIAAAAyIYk0QgAAAKdMBjVCAAAAHHiDNUIAAACRowA2QgAAAAbPfTZCAAAAe/r6NkIAAADwJXg3QgAAAGVR9TdC",
          "dtype": "f8"
         },
         "xaxis": "x7",
         "y": {
          "bdata": "Q9KUirMPzz/Bg3mi/o3QP3+x5BdLftE/XUiaUnH20T97W9bqmODRPyd4ME/Uv9E/05SKsw+f0T+cxCCwcmjRP5zEILByaNE/0pSKsw+f0T8NuwLkXnPRP9OUirMPn9E/YZ6ofyOU0T8ED+aJ+jfSP3UFyL3mQtI/elvW6pjg0T+xK0DuNRfSP11ImlJx9tE/xpJfLPnF0j9VnH34DLvSP99PjZduEtM/46WbxCCw0j+s1THBg3nSPwQP5on6N9I/rNUxwYN50j9xr7mQNKXSP6zVMcGDedI/IiIiIiIi0j/L6G1Zq2PSP6UpFWcfPtM/oNMGOm2g0z9pA5020GnTP4cW2c73U9M/+Ay7AuRe0z8v3SQGgZXTPy/dJAaBldM/FSD3mgtJ0z8VIPeaC0nTP1BGb8taHdM/SJpScfbh0z+95kLSlIrTP2kDnTbQadM/30+Nl24S0z8RyuhtWavTP5x9+Ay7AtQ/YVeA3Gsu1D9/arx0kxjUP0RERERERNQ/",
          "dtype": "f8"
         },
         "yaxis": "y7"
        },
        {
         "legendgroup": "acc_norm_arc_easy",
         "line": {
          "color": "rgba(48, 18, 59, 1)",
          "dash": "solid",
          "width": 1.5
         },
         "mode": "lines",
         "name": "ARC Easy",
         "showlegend": false,
         "type": "scatter",
         "x": {
          "bdata": "AAAAQN1K70EAAADwJXj3QQAAAEDdSv9BAAAASMqOA0IAAADwJXgHQgAAAJiBYQtCAAAAQN1KD0IAAAB0HJoRQgAAAEjKjhNCAAAAHHiDFUIAAADwJXgXQgAAAMTTbBlCAAAAmIFhG0IAAABsL1YdQgAAAEDdSh9CAAAAisWfIEIAAAB0HJohQgAAAF5zlCJCAAAASMqOI0IAAAAyIYkkQgAAABx4gyVCAAAABs99JkIAAADwJXgnQgAAANp8cihCAAAAxNNsKUIAAACuKmcqQgAAAJiBYStCAAAAgthbLEIAAABsL1YtQgAAAFaGUC5CAAAAQN1KL0IAAAAVmiIwQgAAAIrFnzBCAAAA//AcMUIAAAB0HJoxQgAAAOlHFzJCAAAAXnOUMkIAAADTnhEzQgAAAEjKjjNCAAAAvfULNEIAAACAk9w0QgAAAEMxrTVCAAAABs99NkIAAAB7+vo2QgAAAPAleDdCAAAAZVH1N0I=",
          "dtype": "f8"
         },
         "xaxis": "x8",
         "y": {
          "bdata": "cMtaHRM82D9FtvP91HjZPyijt2Wtjtk/e1vW6pjg2T89CtejcD3aP/+NUEZvy9o/iBbZzvdT2z8xCKwcWmTbP/gMuwLkXts/wBHK6G1Z2z+AlUOLbOfbPwjzRP0bodw/P8OuALnX3D/r3whl9LbcP+wKkHvNhdw/CR7ME/Vv3D97FK5H4XrcP0MZvS1rddw/001iEFg53D9/arx0kxjcP5x9+Ay7Atw/JzEIrBxa3D+zD59hV4DcP7U6JngwT9w/tTomeDBP3D9gLPnFkl/cP5XR27JWx9w/Bci95kLS3D8FyL3mQtLcP1zW6pjgwdw/z/dT46Wb3D/r3whl9LbcP1zW6pjgwdw/zczMzMzM3D956SYxCKzcP5gn6t8IZdw/fT81XrpJ3D/P91PjpZvcP5OmVJx9+Nw/HVpkO99P3T8bL90kBoHdPzUXkqZUnN0/w/UoXI/C3T9R/0Yoo7fdP6gNdNpAp90/bxKDwMqh3T8=",
          "dtype": "f8"
         },
         "yaxis": "y8"
        },
        {
         "legendgroup": "acc_norm_arc_challenge",
         "line": {
          "color": "rgba(68, 96, 208, 1)",
          "dash": "solid",
          "width": 1.5
         },
         "mode": "lines",
         "name": "ARC Challenge",
         "showlegend": false,
         "type": "scatter",
         "x": {
          "bdata": "AAAAQN1K70EAAADwJXj3QQAAAEDdSv9BAAAASMqOA0IAAADwJXgHQgAAAJiBYQtCAAAAQN1KD0IAAAB0HJoRQgAAAEjKjhNCAAAAHHiDFUIAAADwJXgXQgAAAMTTbBlCAAAAmIFhG0IAAABsL1YdQgAAAEDdSh9CAAAAisWfIEIAAAB0HJohQgAAAF5zlCJCAAAASMqOI0IAAAAyIYkkQgAAABx4gyVCAAAABs99JkIAAADwJXgnQgAAANp8cihCAAAAxNNsKUIAAACuKmcqQgAAAJiBYStCAAAAgthbLEIAAABsL1YtQgAAAFaGUC5CAAAAQN1KL0IAAAAVmiIwQgAAAIrFnzBCAAAA//AcMUIAAAB0HJoxQgAAAOlHFzJCAAAAXnOUMkIAAADTnhEzQgAAAEjKjjNCAAAAvfULNEIAAACAk9w0QgAAAEMxrTVCAAAABs99NkIAAAB7+vo2QgAAAPAleDdCAAAAZVH1N0I=",
          "dtype": "f8"
         },
         "xaxis": "x8",
         "y": {
          "bdata": "DElTKs4+zD9Q1L8RyujNP7gehetRuM4/kAkezBP1zz8c6LSBThvQP8SuALnXXNA/3WsuJE2p0D8zelvW6pjQPxQ8mCfq39A/aUrF2YfP0D9oHz7DrgDRP0sMAiuHFtE/n++nxks30T8po7dlrY7RP32GXQFyr9E/1b8Ryuht0T/0/dR46SbRPy35xZJfLNE/K84+fIZd0T9HtvP91HjRP7nXXEiaUtE/1b8Ryuht0T/0/dR46SbRP9fqmODBPNE/DbsC5F5z0T9Ei2zn+6nRP/Cnxks3idE/EOaJ+jdC0T9m9Las1THRP2b0tqzVMdE/1b8Ryuht0T/wp8ZLN4nRP0WLbOf7qdE/Yp6ofyOU0T9jyS+W/GLRP/LSTWIQWNE/SgwCK4cW0T9jyS+W/GLRP2PJL5b8YtE/KaO3Za2O0T8po7dlrY7RP32GXQFyr9E/C5B7zYWk0T9/seQXS37RP2b0tqzVMdE/gdxrLiRN0T8=",
          "dtype": "f8"
         },
         "yaxis": "y8"
        },
        {
         "legendgroup": "acc_norm_hellaswag",
         "line": {
          "color": "rgba(54, 167, 248, 1)",
          "dash": "solid",
          "width": 1.5
         },
         "mode": "lines",
         "name": "Hellaswag",
         "showlegend": false,
         "type": "scatter",
         "x": {
          "bdata": "AAAAQN1K70EAAADwJXj3QQAAAEDdSv9BAAAASMqOA0IAAADwJXgHQgAAAJiBYQtCAAAAQN1KD0IAAAB0HJoRQgAAAEjKjhNCAAAAHHiDFUIAAADwJXgXQgAAAMTTbBlCAAAAmIFhG0IAAABsL1YdQgAAAEDdSh9CAAAAisWfIEIAAAB0HJohQgAAAF5zlCJCAAAASMqOI0IAAAAyIYkkQgAAABx4gyVCAAAABs99JkIAAADwJXgnQgAAANp8cihCAAAAxNNsKUIAAACuKmcqQgAAAJiBYStCAAAAgthbLEIAAABsL1YtQgAAAFaGUC5CAAAAQN1KL0IAAAAVmiIwQgAAAIrFnzBCAAAA//AcMUIAAAB0HJoxQgAAAOlHFzJCAAAAXnOUMkIAAADTnhEzQgAAAEjKjjNCAAAAvfULNEIAAACAk9w0QgAAAEMxrTVCAAAABs99NkIAAAB7+vo2QgAAAPAleDdCAAAAZVH1N0I=",
          "dtype": "f8"
         },
         "xaxis": "x8",
         "y": {
          "bdata": "7zUXkqZU1D+FpCkVZx/WP9HbslbHBNc/OPvwGXYF2D/bQKcNdNrYPwg6baDTBto/x5JfLPnF2j8xCKwcWmTbP4GVQ4ts59s/m1Jx9uEz3D99PzVeukncP2NXgNxrLtw/7zUXkqZU3D9A7jUXkqbcPwXIveZC0tw/sLmQNKXi3D8EnTbQaQPdP1iA3GsuJN0/xSCwcmiR3T/78Bl2BcjdP9yyVscED94/M8GDeaL+3T8xwYN5ov7dP8P1KFyPwt0/i/o3Qhm93T/hM+wKkHvdP8UgsHJokd0/qTj78Bl23T+l4uzDZ9jdPxfZzvdT490/wMqhRbbz3T817AqQe83dP6Xi7MNn2N0/bef7qfHS3T/AyqFFtvPdP2iR7Xw/Nd4/LWt1TPBg3j8QWDm0yHbeP7tJDAIrh94/n2FXgNxr3j9LfrHkF0veP4N5ov6NUN4/K0DuNReS3j9F/RuhjN7eP7Xz/dR46d4/e82FpCkV3z8=",
          "dtype": "f8"
         },
         "yaxis": "y8"
        },
        {
         "legendgroup": "acc_norm_mmlu",
         "line": {
          "color": "rgba(33, 226, 181, 1)",
          "dash": "solid",
          "width": 1.5
         },
         "mode": "lines",
         "name": "MMLU",
         "showlegend": false,
         "type": "scatter",
         "x": {
          "bdata": "AAAAQN1K70EAAADwJXj3QQAAAEDdSv9BAAAASMqOA0IAAADwJXgHQgAAAJiBYQtCAAAAQN1KD0IAAAB0HJoRQgAAAEjKjhNCAAAAHHiDFUIAAADwJXgXQgAAAMTTbBlCAAAAmIFhG0IAAABsL1YdQgAAAEDdSh9CAAAAisWfIEIAAAB0HJohQgAAAF5zlCJCAAAASMqOI0IAAAAyIYkkQgAAABx4gyVCAAAABs99JkIAAADwJXgnQgAAANp8cihCAAAAxNNsKUIAAACuKmcqQgAAAJiBYStCAAAAgthbLEIAAABsL1YtQgAAAFaGUC5CAAAAQN1KL0IAAAAVmiIwQgAAAIrFnzBCAAAA//AcMUIAAAB0HJoxQgAAAOlHFzJCAAAAXnOUMkIAAADTnhEzQgAAAEjKjjNCAAAAvfULNEIAAACAk9w0QgAAAEMxrTVCAAAABs99NkIAAAB7+vo2QgAAAPAleDdCAAAAZVH1N0I=",
          "dtype": "f8"
         },
         "xaxis": "x8",
         "y": {
          "bdata": "NQ51MDx20D/hGHCa2J7QP/mUZ9gg3NA/yWROWrcS0T9H9okydkrRPxo3tckibtE/+W23S7WB0T/pl7n7GXTRP7EinG8zitE/lad74uOL0T8+LzWyEqrRP6ZtVZUmp9E/GVRxP3270T+5wdpGcbvRPxcM63bCwNE/XaNynxrM0T8FSa8EzOvRP+aSeFT359E/6zHbA2j80T98vxfwwBTSP/WzbSEZIdI/DN3ADuUs0j8/WuDxdBjSP7eVB66ML9I/W6DcYYYj0j/N9/BueSjSP6CJMOkFJ9I/30XgRf0i0j+p9QiEsRLSP+0v9nx6/tE/MRGophTz0T8NryiExgXSP4suWmD6INI/cwrrzlUe0j/Lm+cSRxvSP/OPNX8IBdI/pTstpS0Q0j+nEfYbnR3SP9/GiU5wGtI/kYDphMck0j9AycEwWyPSP1N7uiNHLdI/0bdRks8v0j9NkfL8gCjSP3XC2qrZHNI/UxNJs80f0j8=",
          "dtype": "f8"
         },
         "yaxis": "y8"
        },
        {
         "legendgroup": "acc_norm_siqa",
         "line": {
          "color": "rgba(112, 252, 97, 1)",
          "dash": "solid",
          "width": 1.5
         },
         "mode": "lines",
         "name": "SIQA",
         "showlegend": false,
         "type": "scatter",
         "x": {
          "bdata": "AAAAQN1K70EAAADwJXj3QQAAAEDdSv9BAAAASMqOA0IAAADwJXgHQgAAAJiBYQtCAAAAQN1KD0IAAAB0HJoRQgAAAEjKjhNCAAAAHHiDFUIAAADwJXgXQgAAAMTTbBlCAAAAmIFhG0IAAABsL1YdQgAAAEDdSh9CAAAAisWfIEIAAAB0HJohQgAAAF5zlCJCAAAASMqOI0IAAAAyIYkkQgAAABx4gyVCAAAABs99JkIAAADwJXgnQgAAANp8cihCAAAAxNNsKUIAAACuKmcqQgAAAJiBYStCAAAAgthbLEIAAABsL1YtQgAAAFaGUC5CAAAAQN1KL0IAAAAVmiIwQgAAAIrFnzBCAAAA//AcMUIAAAB0HJoxQgAAAOlHFzJCAAAAXnOUMkIAAADTnhEzQgAAAEjKjjNCAAAAvfULNEIAAACAk9w0QgAAAEMxrTVCAAAABs99NkIAAAB7+vo2QgAAAPAleDdCAAAAZVH1N0I=",
          "dtype": "f8"
         },
         "xaxis": "x8",
         "y": {
          "bdata": "8KfGSzeJ2T/VvxHK6G3ZP3yGXQFyr9k/7Xw/NV662T+VQ4ts5/vZP3yGXQFyr9k/t6zVMcGD2T/TlIqzD5/ZP9W/Ecrobdk/fYZdAXKv2T9Ei2zn+6nZPyd4ME/Uv9k/7FG4HoXr2T9fcyFpSsXZP19zIWlKxdk/mZmZmZmZ2T8IZfS2rNXZPyMiIiIiIto/BzptoNMG2j+zVscED+bZP5uZmZmZmdk/J3gwT9S/2T+YbhKDwMrZP11ImlJx9tk/6SYxCKwc2j+xK0DuNRfaP5MYBFYOLdo/6Pup8dJN2j8D5F5zIWnaP5HtfD81Xto/zBP1b4Qy2j89CtejcD3aP3UFyL3mQto/dNpApw102j8D5F5zIWnaPyD3mgtJU9o/JE2pOPvw2T/vfD81XrrZP11ImlJx9tk/XUiaUnH22T9dSJpScfbZP+18PzVeutk/s1bHBA/m2T9ANV66SQzaP3gwT9S/Edo/e1vW6pjg2T8=",
          "dtype": "f8"
         },
         "yaxis": "y8"
        },
        {
         "legendgroup": "acc_norm_piqa",
         "line": {
          "color": "rgba(199, 236, 54, 1)",
          "dash": "solid",
          "width": 1.5
         },
         "mode": "lines",
         "name": "PIQA",
         "showlegend": false,
         "type": "scatter",
         "x": {
          "bdata": "AAAAQN1K70EAAADwJXj3QQAAAEDdSv9BAAAASMqOA0IAAADwJXgHQgAAAJiBYQtCAAAAQN1KD0IAAAB0HJoRQgAAAEjKjhNCAAAAHHiDFUIAAADwJXgXQgAAAMTTbBlCAAAAmIFhG0IAAABsL1YdQgAAAEDdSh9CAAAAisWfIEIAAAB0HJohQgAAAF5zlCJCAAAASMqOI0IAAAAyIYkkQgAAABx4gyVCAAAABs99JkIAAADwJXgnQgAAANp8cihCAAAAxNNsKUIAAACuKmcqQgAAAJiBYStCAAAAgthbLEIAAABsL1YtQgAAAFaGUC5CAAAAQN1KL0IAAAAVmiIwQgAAAIrFnzBCAAAA//AcMUIAAAB0HJoxQgAAAOlHFzJCAAAAXnOUMkIAAADTnhEzQgAAAEjKjjNCAAAAvfULNEIAAACAk9w0QgAAAEMxrTVCAAAABs99NkIAAAB7+vo2QgAAAPAleDdCAAAAZVH1N0I=",
          "dtype": "f8"
         },
         "xaxis": "x8",
         "y": {
          "bdata": "xpJfLPnF4j+F61G4HoXjP+dC0pSKs+M/OfvwGXYF5D9ERERERETkP91rLiRNqeQ/+FPjpZvE5D88mCfq3wjlPxEREREREeU/LyRNqTj75D8xT9S/EcrkP6JFtvP91OQ/54n6N0IZ5T/0/dR46SblPxEREREREeU/ERERERER5T8EnTbQaQPlP+eJ+jdCGeU/y6FFtvP95D87baDTBjrlP4Hcay4kTeU/Y8kvlvxi5T9zaJHtfD/lPw/mifo3QuU/rGOCB/NE5T/HSzeJQWDlP41QRm/LWuU/D+aJ+jdC5T+Qe82FpCnlP4MH80T9G+U/yXa+nxov5T/lXnMhaUrlP6k4+/AZduU//RuhjN6W5T9FtvP91HjlP5zEILByaOU/q2OCB/NE5T/X6pjgwTzlP2X0tqzVMeU/AEcoo7dl5T+pOPvwGXblP3A9CtejcOU/HVpkO99P5T/EILByaJHlP4v6N0IZveU/NOwKkHvN5T8=",
          "dtype": "f8"
         },
         "yaxis": "y8"
        },
        {
         "legendgroup": "acc_norm_winogrande",
         "line": {
          "color": "rgba(247, 184, 54, 1)",
          "dash": "solid",
          "width": 1.5
         },
         "mode": "lines",
         "name": "WinoGrande",
         "showlegend": false,
         "type": "scatter",
         "x": {
          "bdata": "AAAAQN1K70EAAADwJXj3QQAAAEDdSv9BAAAASMqOA0IAAADwJXgHQgAAAJiBYQtCAAAAQN1KD0IAAAB0HJoRQgAAAEjKjhNCAAAAHHiDFUIAAADwJXgXQgAAAMTTbBlCAAAAmIFhG0IAAABsL1YdQgAAAEDdSh9CAAAAisWfIEIAAAB0HJohQgAAAF5zlCJCAAAASMqOI0IAAAAyIYkkQgAAABx4gyVCAAAABs99JkIAAADwJXgnQgAAANp8cihCAAAAxNNsKUIAAACuKmcqQgAAAJiBYStCAAAAgthbLEIAAABsL1YtQgAAAFaGUC5CAAAAQN1KL0IAAAAVmiIwQgAAAIrFnzBCAAAA//AcMUIAAAB0HJoxQgAAAOlHFzJCAAAAXnOUMkIAAADTnhEzQgAAAEjKjjNCAAAAvfULNEIAAACAk9w0QgAAAEMxrTVCAAAABs99NkIAAAB7+vo2QgAAAPAleDdCAAAAZVH1N0I=",
          "dtype": "f8"
         },
         "xaxis": "x8",
         "y": {
          "bdata": "P3yGXQFy3z+TXyz5xZLfP8gED+aJ+t8/G+i0gU4b4D+q8dJNYhDgP1TjpZvEIOA/b8taHRM84D8ZvS1rdUzgPzWl4uzDZ+A/F5KmVJx94D81peLsw2fgP+Psw2fYFeA/VOOlm8Qg4D/DrgC511zgP05iEFg5tOA/seQXS36x4D8j2/l+arzgP1zW6pjgweA/20CnDXTa4D9pSsXZh8/gP1vW6pjgweA/FWcfPsOu4D956SYxCKzgP4ddAXKvueA/6bSBThvo4D+FMnpb1urgPxM8mCfq3+A/XNbqmODB4D+iRbbz/dTgPz/DrgC51+A/ME/UvxHK4D956SYxCKzgPzN6W9bqmOA/ldHbslbH4D8xT9S/EcrgPxQ8mCfq3+A/aUrF2YfP4D/bQKcNdNrgPwXIveZC0uA/lNHbslbH4D9b1uqY4MHgPyPb+X5qvOA/wFjyiyW/4D+FMnpb1urgP4MH80T9G+E/q2OCB/NE4T8=",
          "dtype": "f8"
         },
         "yaxis": "y8"
        },
        {
         "legendgroup": "acc_norm_commonsense_qa",
         "line": {
          "color": "rgba(244, 105, 24, 1)",
          "dash": "solid",
          "width": 1.5
         },
         "mode": "lines",
         "name": "CommonsenseQA",
         "showlegend": false,
         "type": "scatter",
         "x": {
          "bdata": "AAAAQN1K70EAAADwJXj3QQAAAEDdSv9BAAAASMqOA0IAAADwJXgHQgAAAJiBYQtCAAAAQN1KD0IAAAB0HJoRQgAAAEjKjhNCAAAAHHiDFUIAAADwJXgXQgAAAMTTbBlCAAAAmIFhG0IAAABsL1YdQgAAAEDdSh9CAAAAisWfIEIAAAB0HJohQgAAAF5zlCJCAAAASMqOI0IAAAAyIYkkQgAAABx4gyVCAAAABs99JkIAAADwJXgnQgAAANp8cihCAAAAxNNsKUIAAACuKmcqQgAAAJiBYStCAAAAgthbLEIAAABsL1YtQgAAAFaGUC5CAAAAQN1KL0IAAAAVmiIwQgAAAIrFnzBCAAAA//AcMUIAAAB0HJoxQgAAAOlHFzJCAAAAXnOUMkIAAADTnhEzQgAAAEjKjjNCAAAAvfULNEIAAACAk9w0QgAAAEMxrTVCAAAABs99NkIAAAB7+vo2QgAAAPAleDdCAAAAZVH1N0I=",
          "dtype": "f8"
         },
         "xaxis": "x8",
         "y": {
          "bdata": "QWDl0CLb0T+Nl24Sg8DSP/fhM+wKkNM/K4cW2c730z956SYxCKzUP7C5kDSl4tQ/dZMYBFYO1T+Qe82FpCnVP4wlv1jyi9U/qA102kCn1T/gCGX0tqzVP6Xi7MNn2NU/F9nO91Pj1T8UrkfhehTWP2u8dJMYBNY/McGDeaL+1T+l4uzDZ9jVP23n+6nx0tU/o7dlrY4J1j/3mgtJUyrWPxODwMqhRdY/T9S/Ecro1T/5xZJfLPnVP4R5ov6NUNY/1AY6baDT1j/xGXYFyL3WP4FOG+i0gdY/EFg5tMh21j+bC0lTKs7WP334DLsC5NY/e82FpCkV1z/rmODBPFHXPyOU0duyVtc/0LArQO411z+Y4ME8Uf/WPyjq3whl9NY/KOrfCGX01j8MAiuHFtnWP9MGOm2g09Y/KOrfCGX01j/QsCtA7jXXP+uY4ME8Udc/mODBPFH/1j/v7u7u7u7WP5sLSVMqztY/tMh2vp8a1z8=",
          "dtype": "f8"
         },
         "yaxis": "y8"
        },
        {
         "legendgroup": "acc_norm_openbookqa",
         "line": {
          "color": "rgba(199, 42, 4, 1)",
          "dash": "solid",
          "width": 1.5
         },
         "mode": "lines",
         "name": "OpenbookQA",
         "showlegend": false,
         "type": "scatter",
         "x": {
          "bdata": "AAAAQN1K70EAAADwJXj3QQAAAEDdSv9BAAAASMqOA0IAAADwJXgHQgAAAJiBYQtCAAAAQN1KD0IAAAB0HJoRQgAAAEjKjhNCAAAAHHiDFUIAAADwJXgXQgAAAMTTbBlCAAAAmIFhG0IAAABsL1YdQgAAAEDdSh9CAAAAisWfIEIAAAB0HJohQgAAAF5zlCJCAAAASMqOI0IAAAAyIYkkQgAAABx4gyVCAAAABs99JkIAAADwJXgnQgAAANp8cihCAAAAxNNsKUIAAACuKmcqQgAAAJiBYStCAAAAgthbLEIAAABsL1YtQgAAAFaGUC5CAAAAQN1KL0IAAAAVmiIwQgAAAIrFnzBCAAAA//AcMUIAAAB0HJoxQgAAAOlHFzJCAAAAXnOUMkIAAADTnhEzQgAAAEjKjjNCAAAAvfULNEIAAACAk9w0QgAAAEMxrTVCAAAABs99NkIAAAB7+vo2QgAAAPAleDdCAAAAZVH1N0I=",
          "dtype": "f8"
         },
         "xaxis": "x8",
         "y": {
          "bdata": "dgXIveZC0j+LbOf7qfHSP21Zq2OCB9M/30+Nl24S0z+g0wY6baDTP4PAyqFFttM/001iEFg51D+DwMqhRbbTPxHK6G1Zq9M/g8DKoUW20z9/arx0kxjUP9NNYhBYOdQ/16NwPQrX0z+HFtnO91PTP73mQtKUitM/9Las1THB0z+YJ+rfCGXUP/Bgnqh/I9Q/RERERERE1D8rhxbZzvfTP/Bgnqh/I9Q/Za2OCR7M0z9/arx0kxjUP6DTBjptoNM/16NwPQrX0z/0tqzVMcHTP5gn6t8IZdQ/I9v5fmq81D/otIFOG+jUP7HkF0t+sdQ/exSuR+F61D9ERERERETUP3sUrkfhetQ/7AqQe82F1D8j2/l+arzUP3sUrkfhetQ/QO41F5Km1D/sCpB7zYXUP8/3U+Olm9Q/f2q8dJMY1D9ERERERETUP0iaUnH24dM/YVeA3Gsu1D/0tqzVMcHTPyuHFtnO99M/16NwPQrX0z8=",
          "dtype": "f8"
         },
         "yaxis": "y8"
        },
        {
         "legendgroup": "acc_norm_arc_easy",
         "line": {
          "color": "rgba(48, 18, 59, 1)",
          "dash": "solid",
          "width": 1.5
         },
         "mode": "lines",
         "name": "ARC Easy",
         "showlegend": false,
         "type": "scatter",
         "x": {
          "bdata": "AAAAQN1K70EAAADwJXj3QQAAAEDdSv9BAAAASMqOA0IAAADwJXgHQgAAAJiBYQtCAAAAQN1KD0IAAAB0HJoRQgAAAEjKjhNCAAAAHHiDFUIAAADwJXgXQgAAAMTTbBlCAAAAmIFhG0IAAABsL1YdQgAAAEDdSh9CAAAAisWfIEIAAAB0HJohQgAAAF5zlCJCAAAASMqOI0IAAAAyIYkkQgAAABx4gyVCAAAABs99JkIAAADwJXgnQgAAANp8cihCAAAAxNNsKUIAAACuKmcqQgAAAJiBYStCAAAAgthbLEIAAABsL1YtQgAAAFaGUC5CAAAAQN1KL0IAAAAVmiIwQgAAAIrFnzBCAAAA//AcMUIAAAB0HJoxQgAAAOlHFzJCAAAAXnOUMkIAAADTnhEzQgAAAEjKjjNCAAAAvfULNEIAAAAyIYk0QgAAAKdMBjVCAAAAHHiDNUIAAACRowA2QgAAAAbPfTZCAAAAe/r6NkIAAADwJXg3QgAAAGVR9TdC",
          "dtype": "f8"
         },
         "xaxis": "x9",
         "y": {
          "bdata": "xSCwcmiR1T+gYVeA3GvWP7Od76fGS9c/y1odEzyY1z/JL5b8YsnXP+UXS36x5Nc/4ME8Uf9G2D/4U+Olm8TYP4ddAXKvudg/wYN5ov6N2D9toNMGOm3YP/yp8dJNYtg/35a1OiZ42D+lm8QgsHLYP6RwPQrXo9g/h10Bcq+52D+HXQFyr7nYP0sMAiuHFtk/ZfS2rNUx2T9jyS+W/GLZP2gfPsOuANk/aUrF2YfP2D+IiIiIiIjYP2t1TPBgntg/ERERERER2T9jyS+W/GLZPyijt2Wtjtk/LfnFkl8s2T+511xImlLZP70ta3VM8Ng/9Shcj8L12D9l9Las1THZP3yGXQFyr9k/s1bHBA/m2T/x0k1iEFjZP/UoXI/C9dg/aB8+w64A2T8RERERERHZP7nXXEiaUtk/uddcSJpS2T+bmZmZmZnZP0Ng5dAi29k/PzVeukkM2j+XbhKDwMrZP3+x5BdLftk/uddcSJpS2T+ZmZmZmZnZPwuQe82FpNk/",
          "dtype": "f8"
         },
         "yaxis": "y9"
        },
        {
         "legendgroup": "acc_norm_arc_challenge",
         "line": {
          "color": "rgba(68, 96, 208, 1)",
          "dash": "solid",
          "width": 1.5
         },
         "mode": "lines",
         "name": "ARC Challenge",
         "showlegend": false,
         "type": "scatter",
         "x": {
          "bdata": "AAAAQN1K70EAAADwJXj3QQAAAEDdSv9BAAAASMqOA0IAAADwJXgHQgAAAJiBYQtCAAAAQN1KD0IAAAB0HJoRQgAAAEjKjhNCAAAAHHiDFUIAAADwJXgXQgAAAMTTbBlCAAAAmIFhG0IAAABsL1YdQgAAAEDdSh9CAAAAisWfIEIAAAB0HJohQgAAAF5zlCJCAAAASMqOI0IAAAAyIYkkQgAAABx4gyVCAAAABs99JkIAAADwJXgnQgAAANp8cihCAAAAxNNsKUIAAACuKmcqQgAAAJiBYStCAAAAgthbLEIAAABsL1YtQgAAAFaGUC5CAAAAQN1KL0IAAAAVmiIwQgAAAIrFnzBCAAAA//AcMUIAAAB0HJoxQgAAAOlHFzJCAAAAXnOUMkIAAADTnhEzQgAAAEjKjjNCAAAAvfULNEIAAAAyIYk0QgAAAKdMBjVCAAAAHHiDNUIAAACRowA2QgAAAAbPfTZCAAAAe/r6NkIAAADwJXg3QgAAAGVR9TdC",
          "dtype": "f8"
         },
         "xaxis": "x9",
         "y": {
          "bdata": "vLu7u7u7yz8pXI/C9SjMP+vfCGX0tsw/54n6N0IZzT87baDTBjrNPzcXkqZUnM0/Fa5H4XoUzj9Q1L8RyujNP9mHz7ArQM4/3d3d3d3dzT8YBFYOLbLNPwSdNtBpA80/54n6N0IZzT9wPQrXo3DNPzttoNMGOs0/698IZfS2zD956SYxCKzMPx1aZDvfT80/+/AZdgXIzT8VrkfhehTOP/zwGXYFyM0/+JoLSVMqzj+oDXTaQKfNP8DKoUW2880/WIDcay4kzT8YBFYOLbLNPzcXkqZUnM0/GQRWDi2yzT/78Bl2BcjNPzPBg3mi/s0/gU4b6LSBzj9s5/up8dLNPxgEVg4tss0/jVBGb8tazT/f3d3d3d3NPzPBg3mi/s0/NReSplSczT9t5/up8dLNP/vwGXYFyM0/vHSTGARWzj9oke18PzXOPzPBg3mi/s0//PAZdgXIzT/f3d3d3d3NPxgEVg4tss0/GQRWDi2yzT/FILByaJHNP1DUvxHK6M0/",
          "dtype": "f8"
         },
         "yaxis": "y9"
        },
        {
         "legendgroup": "acc_norm_hellaswag",
         "line": {
          "color": "rgba(54, 167, 248, 1)",
          "dash": "solid",
          "width": 1.5
         },
         "mode": "lines",
         "name": "Hellaswag",
         "showlegend": false,
         "type": "scatter",
         "x": {
          "bdata": "AAAAQN1K70EAAADwJXj3QQAAAEDdSv9BAAAASMqOA0IAAADwJXgHQgAAAJiBYQtCAAAAQN1KD0IAAAB0HJoRQgAAAEjKjhNCAAAAHHiDFUIAAADwJXgXQgAAAMTTbBlCAAAAmIFhG0IAAABsL1YdQgAAAEDdSh9CAAAAisWfIEIAAAB0HJohQgAAAF5zlCJCAAAASMqOI0IAAAAyIYkkQgAAABx4gyVCAAAABs99JkIAAADwJXgnQgAAANp8cihCAAAAxNNsKUIAAACuKmcqQgAAAJiBYStCAAAAgthbLEIAAABsL1YtQgAAAFaGUC5CAAAAQN1KL0IAAAAVmiIwQgAAAIrFnzBCAAAA//AcMUIAAAB0HJoxQgAAAOlHFzJCAAAAXnOUMkIAAADTnhEzQgAAAEjKjjNCAAAAvfULNEIAAAAyIYk0QgAAAKdMBjVCAAAAHHiDNUIAAACRowA2QgAAAAbPfTZCAAAAe/r6NkIAAADwJXg3QgAAAGVR9TdC",
          "dtype": "f8"
         },
         "xaxis": "x9",
         "y": {
          "bdata": "veZC0pSK0z9DGb0ta3XUPwFyr7mQNNU/4Ahl9Las1T9rvHSTGATWP9mHz7ArQNY/gCOU0duy1j9cj8L1KFzXP7ByaJHtfNc/PFH/Riij1z9YObTIdr7XPzj78Bl2Bdg/OfvwGXYF2D9x9uEz7ArYPxzotIFOG9g/4ME8Uf9G2D+Lsw+fYVfYPxVnHz7Drtg/aUrF2YfP2D8RERERERHZP/HSTWIQWNk/KKO3Za2O2T/UvxHK6G3ZP0sMAiuHFtk/+FPjpZvE2D9oHz7DrgDZP/UoXI/C9dg/89JNYhBY2T+7AuRecyHZP/Cnxks3idk/8KfGSzeJ2T/QaQOdNtDZP2GeqH8jlNk/tYFOG+i02T8MkHvNhaTZP3yGXQFyr9k/mZmZmZmZ2T8NuwLkXnPZP9OUirMPn9k/7Xw/NV662T94ME/UvxHaP9BpA5020Nk/tYFOG+i02T/TlIqzD5/ZP80+fIZdAdo/PQrXo3A92j+R7Xw/NV7aP3UFyL3mQto/",
          "dtype": "f8"
         },
         "yaxis": "y9"
        },
        {
         "legendgroup": "acc_norm_mmlu",
         "line": {
          "color": "rgba(33, 226, 181, 1)",
          "dash": "solid",
          "width": 1.5
         },
         "mode": "lines",
         "name": "MMLU",
         "showlegend": false,
         "type": "scatter",
         "x": {
          "bdata": "AAAAQN1K70EAAADwJXj3QQAAAEDdSv9BAAAASMqOA0IAAADwJXgHQgAAAJiBYQtCAAAAQN1KD0IAAAB0HJoRQgAAAEjKjhNCAAAAHHiDFUIAAADwJXgXQgAAAMTTbBlCAAAAmIFhG0IAAABsL1YdQgAAAEDdSh9CAAAAisWfIEIAAAB0HJohQgAAAF5zlCJCAAAASMqOI0IAAAAyIYkkQgAAABx4gyVCAAAABs99JkIAAADwJXgnQgAAANp8cihCAAAAxNNsKUIAAACuKmcqQgAAAJiBYStCAAAAgthbLEIAAABsL1YtQgAAAFaGUC5CAAAAQN1KL0IAAAAVmiIwQgAAAIrFnzBCAAAA//AcMUIAAAB0HJoxQgAAAOlHFzJCAAAAXnOUMkIAAADTnhEzQgAAAEjKjjNCAAAAvfULNEIAAAAyIYk0QgAAAKdMBjVCAAAAHHiDNUIAAACRowA2QgAAAAbPfTZCAAAAe/r6NkIAAADwJXg3QgAAAGVR9TdC",
          "dtype": "f8"
         },
         "xaxis": "x9",
         "y": {
          "bdata": "X8TGouUY0D9D/aI2FjXQP60ZK4hlVtA/jRQOm5te0D9VdwLHSGDQPxbP/MwqbtA/hT35k8ty0D/I64HAtYPQP7eGLkzeiNA/ISp/qkeQ0D8kzZ7/45TQPxdbqqdIhdA/99xmkPmG0D/GmV/8UpvQPw1vV9zlpdA/VEom2ti00D/2JJEhxKHQPxHnRLV6ntA/3xpme8qG0D8BNJhtZJXQP7n6ufQNk9A/TR7iBWOS0D8b7sT6qozQP3NhkF59ktA/fyrvSPSc0D9D5aVCHorQP70kJehcldA/DdtDavaH0D+1Ya5Wv6HQPzOZRec0rtA/U7XK7Im/0D+bRCBALbPQP5+cQtQEodA/UfRkD1qa0D9XzkLLkZrQPzgqt7tAnNA/VaF2t26Z0D/Np7H7ypDQP+qhm8chgtA/6ekibmmG0D8nmfUZuIjQP18fO8cIhtA/e2lav9SL0D8g6t3rgZ7QP7/OEwYgqtA/sut4mwiV0D+E170ghYjQPwfGKrMcgtA/",
          "dtype": "f8"
         },
         "yaxis": "y9"
        },
        {
         "legendgroup": "acc_norm_siqa",
         "line": {
          "color": "rgba(112, 252, 97, 1)",
          "dash": "solid",
          "width": 1.5
         },
         "mode": "lines",
         "name": "SIQA",
         "showlegend": false,
         "type": "scatter",
         "x": {
          "bdata": "AAAAQN1K70EAAADwJXj3QQAAAEDdSv9BAAAASMqOA0IAAADwJXgHQgAAAJiBYQtCAAAAQN1KD0IAAAB0HJoRQgAAAEjKjhNCAAAAHHiDFUIAAADwJXgXQgAAAMTTbBlCAAAAmIFhG0IAAABsL1YdQgAAAEDdSh9CAAAAisWfIEIAAAB0HJohQgAAAF5zlCJCAAAASMqOI0IAAAAyIYkkQgAAABx4gyVCAAAABs99JkIAAADwJXgnQgAAANp8cihCAAAAxNNsKUIAAACuKmcqQgAAAJiBYStCAAAAgthbLEIAAABsL1YtQgAAAFaGUC5CAAAAQN1KL0IAAAAVmiIwQgAAAIrFnzBCAAAA//AcMUIAAAB0HJoxQgAAAOlHFzJCAAAAXnOUMkIAAADTnhEzQgAAAEjKjjNCAAAAvfULNEIAAAAyIYk0QgAAAKdMBjVCAAAAHHiDNUIAAACRowA2QgAAAAbPfTZCAAAAe/r6NkIAAADwJXg3QgAAAGVR9TdC",
          "dtype": "f8"
         },
         "xaxis": "x9",
         "y": {
          "bdata": "ERERERER2T9l9Las1THZP4Dcay4kTdk/gNxrLiRN2T+gGi/dJAbZP0w3iUFg5dg/U7gehetR2D/day4kTanYP91rLiRNqdg/2BUg95oL2T+7AuRecyHZP53vp8ZLN9k/SOF6FK5H2T+d76fGSzfZP2X0tqzVMdk/ne+nxks32T+gGi/dJAbZPyvOPnyGXdk/uddcSJpS2T/UvxHK6G3ZP7wC5F5zIdk/ERERERER2T9I4XoUrkfZP5zEILByaNk/m5mZmZmZ2T9/seQXS37ZP5zEILByaNk/nMQgsHJo2T+bmZmZmZnZPyijt2Wtjtk/f7HkF0t+2T+511xImlLZP4MH80T9G9k/ZfS2rNUx2T8RERERERHZP7nXXEiaUtk/ZfS2rNUx2T+cxCCwcmjZP32GXQFyr9k/fIZdAXKv2T9FtvP91HjZP4MH80T9G9k/LfnFkl8s2T9I4XoUrkfZP2PJL5b8Ytk/Rbbz/dR42T9/seQXS37ZP32GXQFyr9k/",
          "dtype": "f8"
         },
         "yaxis": "y9"
        },
        {
         "legendgroup": "acc_norm_piqa",
         "line": {
          "color": "rgba(199, 236, 54, 1)",
          "dash": "solid",
          "width": 1.5
         },
         "mode": "lines",
         "name": "PIQA",
         "showlegend": false,
         "type": "scatter",
         "x": {
          "bdata": "AAAAQN1K70EAAADwJXj3QQAAAEDdSv9BAAAASMqOA0IAAADwJXgHQgAAAJiBYQtCAAAAQN1KD0IAAAB0HJoRQgAAAEjKjhNCAAAAHHiDFUIAAADwJXgXQgAAAMTTbBlCAAAAmIFhG0IAAABsL1YdQgAAAEDdSh9CAAAAisWfIEIAAAB0HJohQgAAAF5zlCJCAAAASMqOI0IAAAAyIYkkQgAAABx4gyVCAAAABs99JkIAAADwJXgnQgAAANp8cihCAAAAxNNsKUIAAACuKmcqQgAAAJiBYStCAAAAgthbLEIAAABsL1YtQgAAAFaGUC5CAAAAQN1KL0IAAAAVmiIwQgAAAIrFnzBCAAAA//AcMUIAAAB0HJoxQgAAAOlHFzJCAAAAXnOUMkIAAADTnhEzQgAAAEjKjjNCAAAAvfULNEIAAAAyIYk0QgAAAKdMBjVCAAAAHHiDNUIAAACRowA2QgAAAAbPfTZCAAAAe/r6NkIAAADwJXg3QgAAAGVR9TdC",
          "dtype": "f8"
         },
         "xaxis": "x9",
         "y": {
          "bdata": "P3yGXQFy4z9kggfzRP3jP9+WtTomeOQ/QO41F5Km5D8UPJgn6t/kP0w3iUFg5eQ/2BUg95oL5T/nifo3QhnlPw/mifo3QuU/HVpkO99P5T9UKs4+fIblP2GeqH8jlOU/Y8kvlvxi5T+rY4IH80TlP62OCR7ME+U/O22g0wY65T/X6pjgwTzlP9W/EcrobeU/NReSplSc5T8LkHvNhaTlP9OUirMPn+U//RuhjN6W5T8LkHvNhaTlP5uZmZmZmeU/YZ6ofyOU5T/TlIqzD5/lP4v6N0IZveU/mG4Sg8DK5T/sUbgehevlP0Fg5dAi2+U/mG4Sg8DK5T/TlIqzD5/lP2BzIWlKxeU/QWDl0CLb5T94ME/UvxHmP3gwT9S/EeY/v58aL90k5j/pJjEIrBzmP80+fIZdAeY/61G4HoXr5T+l4uzDZ9jlPzPBg3mi/uU/o7dlrY4J5j9MqTj78BnmP4WkKRVnH+Y/FK5H4XoU5j+9nxov3STmP0A1XrpJDOY/",
          "dtype": "f8"
         },
         "yaxis": "y9"
        },
        {
         "legendgroup": "acc_norm_winogrande",
         "line": {
          "color": "rgba(247, 184, 54, 1)",
          "dash": "solid",
          "width": 1.5
         },
         "mode": "lines",
         "name": "WinoGrande",
         "showlegend": false,
         "type": "scatter",
         "x": {
          "bdata": "AAAAQN1K70EAAADwJXj3QQAAAEDdSv9BAAAASMqOA0IAAADwJXgHQgAAAJiBYQtCAAAAQN1KD0IAAAB0HJoRQgAAAEjKjhNCAAAAHHiDFUIAAADwJXgXQgAAAMTTbBlCAAAAmIFhG0IAAABsL1YdQgAAAEDdSh9CAAAAisWfIEIAAAB0HJohQgAAAF5zlCJCAAAASMqOI0IAAAAyIYkkQgAAABx4gyVCAAAABs99JkIAAADwJXgnQgAAANp8cihCAAAAxNNsKUIAAACuKmcqQgAAAJiBYStCAAAAgthbLEIAAABsL1YtQgAAAFaGUC5CAAAAQN1KL0IAAAAVmiIwQgAAAIrFnzBCAAAA//AcMUIAAAB0HJoxQgAAAOlHFzJCAAAAXnOUMkIAAADTnhEzQgAAAEjKjjNCAAAAvfULNEIAAAAyIYk0QgAAAKdMBjVCAAAAHHiDNUIAAACRowA2QgAAAAbPfTZCAAAAe/r6NkIAAADwJXg3QgAAAGVR9TdC",
          "dtype": "f8"
         },
         "xaxis": "x9",
         "y": {
          "bdata": "4cE8Uf9G4D9toNMGOm3gPzWl4uzDZ+A/Gb0ta3VM4D9FRERERETgPycxCKwcWuA/wYN5ov6N4D+JiIiIiIjgP8/3U+Olm+A/a3VM8GCe4D/Bg3mi/o3gP9+WtTomeOA/w64Auddc4D+0D59hV4DgP0MZvS1rdeA/exSuR+F64D97FK5H4XrgP8GDeaL+jeA/UI2XbhKD4D97FK5H4XrgP22g0wY6beA/UI2XbhKD4D9QjZduEoPgP6ebxCCwcuA/tA+fYVeA4D9B7jUXkqbgP83MzMzMzOA/20CnDXTa4D9MN4lBYOXgP8uhRbbz/eA/IbByaJHt4D8FyL3mQtLgP83MzMzMzOA/suQXS36x4D8j2/l+arzgP7HkF0t+seA/lNHbslbH4D+U0duyVsfgP3npJjEIrOA/eekmMQis4D9sdUzwYJ7gP70ta3VM8OA/9ihcj8L14D9MN4lBYOXgP7HkF0t+seA/seQXS36x4D+9LWt1TPDgPx+F61G4HuE/",
          "dtype": "f8"
         },
         "yaxis": "y9"
        },
        {
         "legendgroup": "acc_norm_commonsense_qa",
         "line": {
          "color": "rgba(244, 105, 24, 1)",
          "dash": "solid",
          "width": 1.5
         },
         "mode": "lines",
         "name": "CommonsenseQA",
         "showlegend": false,
         "type": "scatter",
         "x": {
          "bdata": "AAAAQN1K70EAAADwJXj3QQAAAEDdSv9BAAAASMqOA0IAAADwJXgHQgAAAJiBYQtCAAAAQN1KD0IAAAB0HJoRQgAAAEjKjhNCAAAAHHiDFUIAAADwJXgXQgAAAMTTbBlCAAAAmIFhG0IAAABsL1YdQgAAAEDdSh9CAAAAisWfIEIAAAB0HJohQgAAAF5zlCJCAAAASMqOI0IAAAAyIYkkQgAAABx4gyVCAAAABs99JkIAAADwJXgnQgAAANp8cihCAAAAxNNsKUIAAACuKmcqQgAAAJiBYStCAAAAgthbLEIAAABsL1YtQgAAAFaGUC5CAAAAQN1KL0IAAAAVmiIwQgAAAIrFnzBCAAAA//AcMUIAAAB0HJoxQgAAAOlHFzJCAAAAXnOUMkIAAADTnhEzQgAAAEjKjjNCAAAAvfULNEIAAAAyIYk0QgAAAKdMBjVCAAAAHHiDNUIAAACRowA2QgAAAAbPfTZCAAAAe/r6NkIAAADwJXg3QgAAAGVR9TdC",
          "dtype": "f8"
         },
         "xaxis": "x9",
         "y": {
          "bdata": "9ihcj8L10D/ufD81XrrRP0Fg5dAi29E/5/up8dJN0j9XxwQP5onSP6uqqqqqqtI/WfKLJb9Y0j+R7Xw/NV7SP3YFyL3mQtI/rNUxwYN50j/l0CLb+X7SP42XbhKDwNI/G6GM3pa10j+PwvUoXI/SP4/C9Shcj9I/j8L1KFyP0j8ZdgXIvebSP90kBoGVQ9M/oNMGOm2g0z8U9W+EMnrTP6dUnH34DNM/iUFg5dAi0z+JQWDl0CLTP3CEMnpb1tI/V8cED+aJ0j8D5F5zIWnSP99PjZduEtM/TfBgnqh/0z9LxdmHz7DTP4cW2c73U9M/4XoUrkfh0j9ScfbhM+zSP1BGb8taHdM/ov6NUEZv0z/AEcrobVnTP1BGb8taHdM/p1ScffgM0z+mVJx9+AzTP4lBYOXQItM/GXYFyL3m0j/BPFH/RijTP4cW2c73U9M/9+Ez7AqQ0z9M8GCeqH/TP9v5fmq8dNM/Z9gVIPea0z/4DLsC5F7TP/kMuwLkXtM/",
          "dtype": "f8"
         },
         "yaxis": "y9"
        },
        {
         "legendgroup": "acc_norm_openbookqa",
         "line": {
          "color": "rgba(199, 42, 4, 1)",
          "dash": "solid",
          "width": 1.5
         },
         "mode": "lines",
         "name": "OpenbookQA",
         "showlegend": false,
         "type": "scatter",
         "x": {
          "bdata": "AAAAQN1K70EAAADwJXj3QQAAAEDdSv9BAAAASMqOA0IAAADwJXgHQgAAAJiBYQtCAAAAQN1KD0IAAAB0HJoRQgAAAEjKjhNCAAAAHHiDFUIAAADwJXgXQgAAAMTTbBlCAAAAmIFhG0IAAABsL1YdQgAAAEDdSh9CAAAAisWfIEIAAAB0HJohQgAAAF5zlCJCAAAASMqOI0IAAAAyIYkkQgAAABx4gyVCAAAABs99JkIAAADwJXgnQgAAANp8cihCAAAAxNNsKUIAAACuKmcqQgAAAJiBYStCAAAAgthbLEIAAABsL1YtQgAAAFaGUC5CAAAAQN1KL0IAAAAVmiIwQgAAAIrFnzBCAAAA//AcMUIAAAB0HJoxQgAAAOlHFzJCAAAAXnOUMkIAAADTnhEzQgAAAEjKjjNCAAAAvfULNEIAAAAyIYk0QgAAAKdMBjVCAAAAHHiDNUIAAACRowA2QgAAAAbPfTZCAAAAe/r6NkIAAADwJXg3QgAAAGVR9TdC",
          "dtype": "f8"
         },
         "xaxis": "x9",
         "y": {
          "bdata": "VOOlm8Qg0D9U46WbxCDQPxVnHz7DrtA/9P3UeOkm0T9dSJpScfbRP3tb1uqY4NE/mG4Sg8DK0T96W9bqmODRP2GeqH8jlNE/mG4Sg8DK0T8rzj58hl3RP7WBThvotNE/e1vW6pjg0T8iIiIiIiLSP8nobVmrY9I/yehtWatj0j/n+6nx0k3SP1jyiyW/WNI/IiIiIiIi0j/L6G1Zq2PSP5MYBFYOLdI/O99PjZdu0j+s1THBg3nSP1ScffgMu9I/qH8jlNHb0j9Z8oslv1jSP+j7qfHSTdI/WfKLJb9Y0j+LbOf7qfHSP8E8Uf9GKNM/UEZvy1od0z/Fkl8s+cXSP4/C9Shcj9I/yehtWatj0j/J6G1Zq2PSPz81XrpJDNI/WfKLJb9Y0j+t1THBg3nSPzeJQWDl0NI/GXYFyL3m0j8ZdgXIvebSP6h/I5TR29I/5/up8dJN0j8730+Nl27SPx/ME/VvhNI/i2zn+6nx0j/8YskvlvzSP1BGb8taHdM/",
          "dtype": "f8"
         },
         "yaxis": "y9"
        },
        {
         "legendgroup": "acc_norm_arc_easy",
         "line": {
          "color": "rgba(48, 18, 59, 1)",
          "dash": "solid",
          "width": 1.5
         },
         "mode": "lines",
         "name": "ARC Easy",
         "showlegend": false,
         "type": "scatter",
         "x": {
          "bdata": "AAAAQN1K70EAAADwJXj3QQAAAEDdSv9BAAAASMqOA0IAAADwJXgHQgAAAJiBYQtCAAAAQN1KD0IAAAB0HJoRQgAAAEjKjhNCAAAAHHiDFUIAAADwJXgXQgAAAMTTbBlCAAAAmIFhG0IAAABsL1YdQgAAAEDdSh9CAAAAisWfIEIAAAB0HJohQgAAAF5zlCJCAAAASMqOI0IAAAAyIYkkQgAAABx4gyVCAAAABs99JkIAAADwJXgnQgAAANp8cihCAAAAxNNsKUIAAACuKmcqQgAAAJiBYStCAAAAgthbLEIAAABsL1YtQgAAAFaGUC5CAAAAQN1KL0IAAAAVmiIwQgAAAIrFnzBCAAAA//AcMUIAAAB0HJoxQgAAAOlHFzJCAAAAXnOUMkIAAADTnhEzQgAAAEjKjjNCAAAAvfULNEIAAAAyIYk0QgAAAKdMBjVCAAAAHHiDNUIAAACRowA2QgAAAAbPfTZCAAAAe/r6NkIAAADwJXg3QgAAAGVR9TdC",
          "dtype": "f8"
         },
         "xaxis": "x10",
         "y": {
          "bdata": "eHd3d3d31z/UvxHK6G3ZP7ArQO41F9o/5/up8dJN2j8dzBP1b4TaP90kBoGVQ9s/Za2OCR7M2z/VeOkmMQjcP39qvHSTGNw/KVyPwvUo3D+V/GLJL5bcPyPb+X5qvNw/5Yn6N0IZ3T/LoUW28/3cP8uhRbbz/dw/BJ020GkD3T89mCfq3wjdP1mrY4IH89w/ILByaJHt3D8I80T9G6HcP7C5kDSl4tw/I9v5fmq83D+wuZA0peLcPyUGgZVDi9w/A5020GkD3T9R/0Yoo7fdP6O3Za2OCd4/+JoLSVMq3j9P1L8RyujdP2u8dJMYBN4//RuhjN6W3T9R/0Yoo7fdP02pOPvwGd4/9W+EMnpb3j/YXEiaUnHeP2iR7Xw/Nd4/S36x5BdL3j/78Bl2BcjdP/0boYzelt0/OEIZvS1r3T/9G6GM3pbdPzCW/GLJL94/u0kMAiuH3j9kO99PjZfeP4R5ov6NUN4/haQpFWcf3j/3mgtJUyreP02pOPvwGd4/",
          "dtype": "f8"
         },
         "yaxis": "y10"
        },
        {
         "legendgroup": "acc_norm_arc_challenge",
         "line": {
          "color": "rgba(68, 96, 208, 1)",
          "dash": "solid",
          "width": 1.5
         },
         "mode": "lines",
         "name": "ARC Challenge",
         "showlegend": false,
         "type": "scatter",
         "x": {
          "bdata": "AAAAQN1K70EAAADwJXj3QQAAAEDdSv9BAAAASMqOA0IAAADwJXgHQgAAAJiBYQtCAAAAQN1KD0IAAAB0HJoRQgAAAEjKjhNCAAAAHHiDFUIAAADwJXgXQgAAAMTTbBlCAAAAmIFhG0IAAABsL1YdQgAAAEDdSh9CAAAAisWfIEIAAAB0HJohQgAAAF5zlCJCAAAASMqOI0IAAAAyIYkkQgAAABx4gyVCAAAABs99JkIAAADwJXgnQgAAANp8cihCAAAAxNNsKUIAAACuKmcqQgAAAJiBYStCAAAAgthbLEIAAABsL1YtQgAAAFaGUC5CAAAAQN1KL0IAAAAVmiIwQgAAAIrFnzBCAAAA//AcMUIAAAB0HJoxQgAAAOlHFzJCAAAAXnOUMkIAAADTnhEzQgAAAEjKjjNCAAAAvfULNEIAAAAyIYk0QgAAAKdMBjVCAAAAHHiDNUIAAACRowA2QgAAAAbPfTZCAAAAe/r6NkIAAADwJXg3QgAAAGVR9TdC",
          "dtype": "f8"
         },
         "xaxis": "x10",
         "y": {
          "bdata": "84slv1jyyz/nifo3QhnNPy1rdUzwYM4/CKwcWmQ7zz9YObTIdr7PP1yPwvUoXM8/gU4b6LSBzj9cj8L1KFzPP48JHswT9c8/w64Auddc0D8dEzyYJ+rPP6wcWmQ7388/k18s+cWSzz85+/AZdgXQPz98hl0Bcs8/WDm0yHa+zz+sHFpkO9/PPxvotIFOG9A/w64Auddc0D8zelvW6pjQP4ddAXKvudA/35a1OiZ40D8EVg4tsp3PPwAAAAAAANA/ppvEILBy0D9nHz7DrgDRP/YoXI/C9dA/wYN5ov6N0D9toNMGOm3QP+HBPFH/RtA/a3VM8GCe0D8VZx8+w67QPy8kTak4+9A/h10Bcq+50D+HXQFyr7nQP/hT46WbxNA/Zx8+w64A0T/ZFSD3mgvRP9tApw102tA/UI2XbhKD0D9toNMGOm3QP9+WtTomeNA/FWcfPsOu0D9pSsXZh8/QP70ta3VM8NA/gwfzRP0b0T/0/dR46SbRP0a28/3UeNE/",
          "dtype": "f8"
         },
         "yaxis": "y10"
        },
        {
         "legendgroup": "acc_norm_hellaswag",
         "line": {
          "color": "rgba(54, 167, 248, 1)",
          "dash": "solid",
          "width": 1.5
         },
         "mode": "lines",
         "name": "Hellaswag",
         "showlegend": false,
         "type": "scatter",
         "x": {
          "bdata": "AAAAQN1K70EAAADwJXj3QQAAAEDdSv9BAAAASMqOA0IAAADwJXgHQgAAAJiBYQtCAAAAQN1KD0IAAAB0HJoRQgAAAEjKjhNCAAAAHHiDFUIAAADwJXgXQgAAAMTTbBlCAAAAmIFhG0IAAABsL1YdQgAAAEDdSh9CAAAAisWfIEIAAAB0HJohQgAAAF5zlCJCAAAASMqOI0IAAAAyIYkkQgAAABx4gyVCAAAABs99JkIAAADwJXgnQgAAANp8cihCAAAAxNNsKUIAAACuKmcqQgAAAJiBYStCAAAAgthbLEIAAABsL1YtQgAAAFaGUC5CAAAAQN1KL0IAAAAVmiIwQgAAAIrFnzBCAAAA//AcMUIAAAB0HJoxQgAAAOlHFzJCAAAAXnOUMkIAAADTnhEzQgAAAEjKjjNCAAAAvfULNEIAAAAyIYk0QgAAAKdMBjVCAAAAHHiDNUIAAACRowA2QgAAAAbPfTZCAAAAe/r6NkIAAADwJXg3QgAAAGVR9TdC",
          "dtype": "f8"
         },
         "xaxis": "x10",
         "y": {
          "bdata": "q6qqqqqq0j+cffgMuwLUPx+F61G4HtU/McGDeaL+1T9F/RuhjN7WP3mi/o1QRtc/OyZ4ME/U1z87JngwT9TXP1O4HoXrUdg/iYiIiIiI2D8zelvW6pjYP/yp8dJNYtg/ME/UvxHK2D9l9Las1THZPw27AuRec9k/uKzVMcGD2T/UvxHK6G3ZP7WBThvotNk/QWDl0CLb2T+TGARWDi3aP+kmMQisHNo/WfKLJb9Y2j/l0CLb+X7aP8Rn2BUg99o/N4lBYOXQ2j+ofyOU0dvaP/2NUEZvy9o/qH8jlNHb2j9sLiRNqTjbP6QpFWcfPts/wBHK6G1Z2z8VIPeaC0nbP6P+jVBGb9s/n6h/I5TR2z9lrY4JHszbP4GVQ4ts59s/n6h/I5TR2z9hV4Dcay7cP7MPn2FXgNw/698IZfS23D/LoUW28/3cPzyYJ+rfCN0/dZMYBFYO3T9c1uqY4MHcP+vfCGX0ttw/QO41F5Km3D/NzMzMzMzcP+eJ+jdCGd0/",
          "dtype": "f8"
         },
         "yaxis": "y10"
        },
        {
         "legendgroup": "acc_norm_mmlu",
         "line": {
          "color": "rgba(33, 226, 181, 1)",
          "dash": "solid",
          "width": 1.5
         },
         "mode": "lines",
         "name": "MMLU",
         "showlegend": false,
         "type": "scatter",
         "x": {
          "bdata": "AAAAQN1K70EAAADwJXj3QQAAAEDdSv9BAAAASMqOA0IAAADwJXgHQgAAAJiBYQtCAAAAQN1KD0IAAAB0HJoRQgAAAEjKjhNCAAAAHHiDFUIAAADwJXgXQgAAAMTTbBlCAAAAmIFhG0IAAABsL1YdQgAAAEDdSh9CAAAAisWfIEIAAAB0HJohQgAAAF5zlCJCAAAASMqOI0IAAAAyIYkkQgAAABx4gyVCAAAABs99JkIAAADwJXgnQgAAANp8cihCAAAAxNNsKUIAAACuKmcqQgAAAJiBYStCAAAAgthbLEIAAABsL1YtQgAAAFaGUC5CAAAAQN1KL0IAAAAVmiIwQgAAAIrFnzBCAAAA//AcMUIAAAB0HJoxQgAAAOlHFzJCAAAAXnOUMkIAAADTnhEzQgAAAEjKjjNCAAAAvfULNEIAAAAyIYk0QgAAAKdMBjVCAAAAHHiDNUIAAACRowA2QgAAAAbPfTZCAAAAe/r6NkIAAADwJXg3QgAAAGVR9TdC",
          "dtype": "f8"
         },
         "xaxis": "x10",
         "y": {
          "bdata": "XBJtxbcq0D9FlvqSYXrQP6ihaZ/Ws9A/3Jw9Z+Ha0D/tVA6jHQTRPw0D/272KtE/6S1wNnxE0T+MOIdYYF/RP21sKspfadE/VwO3ZKNo0T8BB9sXJXbRP9Qo+1QCndE/V/vT8wux0T/PcwohedPRP+RbbfcqydE/4N8DXnvo0T/meULRbNPRP6F/fVzl29E/3bUQir/K0T8zvpoD6cHRP4JIfiQZutE/h+lVReq90T8gZXn47NbRP2htRJp57tE/2mMHtGv00T9sVuGIpO3RPy/FRDR9/dE/72HvLV4T0j8I3fdi3w7SP1fpKScw/dE/gKV1NJvz0T8rBkNneBDSP9QdFp10HtI/Q8YRCz8R0j/93ISJtuHRPymHgQqj3tE/8K8gNvLp0T8XsnnfJQ/SP3EmcsqDA9I/LJRPhYUS0j8MySmY8xHSP81wy/PPJdI/SxK7JUYP0j9ctjXXCx7SP3wV0P86KdI/AUCcavhA0j+jj20xwEXSP89oUBC5SNI/",
          "dtype": "f8"
         },
         "yaxis": "y10"
        },
        {
         "legendgroup": "acc_norm_siqa",
         "line": {
          "color": "rgba(112, 252, 97, 1)",
          "dash": "solid",
          "width": 1.5
         },
         "mode": "lines",
         "name": "SIQA",
         "showlegend": false,
         "type": "scatter",
         "x": {
          "bdata": "AAAAQN1K70EAAADwJXj3QQAAAEDdSv9BAAAASMqOA0IAAADwJXgHQgAAAJiBYQtCAAAAQN1KD0IAAAB0HJoRQgAAAEjKjhNCAAAAHHiDFUIAAADwJXgXQgAAAMTTbBlCAAAAmIFhG0IAAABsL1YdQgAAAEDdSh9CAAAAisWfIEIAAAB0HJohQgAAAF5zlCJCAAAASMqOI0IAAAAyIYkkQgAAABx4gyVCAAAABs99JkIAAADwJXgnQgAAANp8cihCAAAAxNNsKUIAAACuKmcqQgAAAJiBYStCAAAAgthbLEIAAABsL1YtQgAAAFaGUC5CAAAAQN1KL0IAAAAVmiIwQgAAAIrFnzBCAAAA//AcMUIAAAB0HJoxQgAAAOlHFzJCAAAAXnOUMkIAAADTnhEzQgAAAEjKjjNCAAAAvfULNEIAAAAyIYk0QgAAAKdMBjVCAAAAHHiDNUIAAACRowA2QgAAAAbPfTZCAAAAe/r6NkIAAADwJXg3QgAAAGVR9TdC",
          "dtype": "f8"
         },
         "xaxis": "x10",
         "y": {
          "bdata": "8KfGSzeJ2T/pJjEIrBzaP11ImlJx9tk/XUiaUnH22T8oo7dlrY7ZP0e28/3UeNk/uddcSJpS2T9gcyFpSsXZP7NWxwQP5tk/QDVeukkM2j97W9bqmODZP5VDi2zn+9k/s1bHBA/m2T+ZmZmZmZnZPw27AuRec9k/RIts5/up2T9DYOXQItvZP+kmMQisHNo/XUiaUnH22T/pJjEIrBzaPyVNqTj78Nk/CWX0tqzV2T/QaQOdNtDZPwuQe82FpNk/RIts5/up2T9hnqh/I5TZP2GeqH8jlNk/DbsC5F5z2T8Q5on6N0LZPyvOPnyGXdk/KKO3Za2O2T9/seQXS37ZPw27AuRec9k/uddcSJpS2T+A3GsuJE3ZP9fqmODBPNk/ZfS2rNUx2T/X6pjgwTzZPyvOPnyGXdk/8KfGSzeJ2T+bmZmZmZnZP2GeqH8jlNk/DJB7zYWk2T9hnqh/I5TZP0SLbOf7qdk/05SKsw+f2T98hl0Bcq/ZP/Cnxks3idk/",
          "dtype": "f8"
         },
         "yaxis": "y10"
        },
        {
         "legendgroup": "acc_norm_piqa",
         "line": {
          "color": "rgba(199, 236, 54, 1)",
          "dash": "solid",
          "width": 1.5
         },
         "mode": "lines",
         "name": "PIQA",
         "showlegend": false,
         "type": "scatter",
         "x": {
          "bdata": "AAAAQN1K70EAAADwJXj3QQAAAEDdSv9BAAAASMqOA0IAAADwJXgHQgAAAJiBYQtCAAAAQN1KD0IAAAB0HJoRQgAAAEjKjhNCAAAAHHiDFUIAAADwJXgXQgAAAMTTbBlCAAAAmIFhG0IAAABsL1YdQgAAAEDdSh9CAAAAisWfIEIAAAB0HJohQgAAAF5zlCJCAAAASMqOI0IAAAAyIYkkQgAAABx4gyVCAAAABs99JkIAAADwJXgnQgAAANp8cihCAAAAxNNsKUIAAACuKmcqQgAAAJiBYStCAAAAgthbLEIAAABsL1YtQgAAAFaGUC5CAAAAQN1KL0IAAAAVmiIwQgAAAIrFnzBCAAAA//AcMUIAAAB0HJoxQgAAAOlHFzJCAAAAXnOUMkIAAADTnhEzQgAAAEjKjjNCAAAAvfULNEIAAAAyIYk0QgAAAKdMBjVCAAAAHHiDNUIAAACRowA2QgAAAAbPfTZCAAAAe/r6NkIAAADwJXg3QgAAAGVR9TdC",
          "dtype": "f8"
         },
         "xaxis": "x10",
         "y": {
          "bdata": "9W+EMnpb4j+Z4ME8Uf/iP+uY4ME8UeM/W2Q730+N4z9zIWlKxdnjPxCfYVeA3OM/8GCeqH8j5D8pXI/C9SjkP+81F5KmVOQ/7zUXkqZU5D/ErgC511zkP1K4HoXrUeQ/Gb0ta3VM5D/TTWIQWDnkPxm9LWt1TOQ/mCfq3whl5D/8qfHSTWLkPxeSplScfeQ/0SLb+X5q5D8zelvW6pjkP7QPn2FXgOQ/CPNE/Ruh5D+0D59hV4DkP8/3U+Olm+Q/CPNE/Ruh5D+y5BdLfrHkP6RwPQrXo+Q/seQXS36x5D/r3whl9LbkP7C5kDSl4uQ/Bci95kLS5D8EnTbQaQPlP+i0gU4b6OQ/d76fGi/d5D8TPJgn6t/kP/YoXI/C9eQ/2RUg95oL5T/LoUW28/3kP+i0gU4b6OQ/P8OuALnX5D+hRbbz/dTkPxM8mCfq3+Q/6LSBThvo5D8EnTbQaQPlPz2YJ+rfCOU/54n6N0IZ5T/2KFyPwvXkP/YoXI/C9eQ/",
          "dtype": "f8"
         },
         "yaxis": "y10"
        },
        {
         "legendgroup": "acc_norm_winogrande",
         "line": {
          "color": "rgba(247, 184, 54, 1)",
          "dash": "solid",
          "width": 1.5
         },
         "mode": "lines",
         "name": "WinoGrande",
         "showlegend": false,
         "type": "scatter",
         "x": {
          "bdata": "AAAAQN1K70EAAADwJXj3QQAAAEDdSv9BAAAASMqOA0IAAADwJXgHQgAAAJiBYQtCAAAAQN1KD0IAAAB0HJoRQgAAAEjKjhNCAAAAHHiDFUIAAADwJXgXQgAAAMTTbBlCAAAAmIFhG0IAAABsL1YdQgAAAEDdSh9CAAAAisWfIEIAAAB0HJohQgAAAF5zlCJCAAAASMqOI0IAAAAyIYkkQgAAABx4gyVCAAAABs99JkIAAADwJXgnQgAAANp8cihCAAAAxNNsKUIAAACuKmcqQgAAAJiBYStCAAAAgthbLEIAAABsL1YtQgAAAFaGUC5CAAAAQN1KL0IAAAAVmiIwQgAAAIrFnzBCAAAA//AcMUIAAAB0HJoxQgAAAOlHFzJCAAAAXnOUMkIAAADTnhEzQgAAAEjKjjNCAAAAvfULNEIAAAAyIYk0QgAAAKdMBjVCAAAAHHiDNUIAAACRowA2QgAAAAbPfTZCAAAAe/r6NkIAAADwJXg3QgAAAGVR9TdC",
          "dtype": "f8"
         },
         "xaxis": "x10",
         "y": {
          "bdata": "8GCeqH8j4D/gwTxR/0bgPzWl4uzDZ+A/UI2XbhKD4D8j2/l+arzgPzFP1L8RyuA/h10Bcq+54D9c1uqY4MHgP5TR27JWx+A/o0W28/3U4D+y5BdLfrHgP6RwPQrXo+A/T2IQWDm04D93vp8aL93gPzyYJ+rfCOE/rY4JHswT4T/LoUW28/3gP6AaL90kBuE/BJ020GkD4T88mCfq3wjhP2lKxdmHz+A/20CnDXTa4D+vuZA0peLgPy35xZJfLOE/O22g0wY64T9YgNxrLiThP/YoXI/C9eA/IbByaJHt4D+Qe82FpCnhP8dLN4lBYOE/89JNYhBY4T9zaJHtfD/hP3Noke18P+E/x0s3iUFg4T//Riijt2XhP/T91HjpJuE/oBov3SQG4T+DB/NE/RvhP7nXXEiaUuE/SOF6FK5H4T8t+cWSXyzhP2X0tqzVMeE/cT0K16Nw4T9GtvP91HjhP/Cnxks3ieE/uKzVMcGD4T+K+jdCGb3hP1H/Riijt+E/",
          "dtype": "f8"
         },
         "yaxis": "y10"
        },
        {
         "legendgroup": "acc_norm_commonsense_qa",
         "line": {
          "color": "rgba(244, 105, 24, 1)",
          "dash": "solid",
          "width": 1.5
         },
         "mode": "lines",
         "name": "CommonsenseQA",
         "showlegend": false,
         "type": "scatter",
         "x": {
          "bdata": "AAAAQN1K70EAAADwJXj3QQAAAEDdSv9BAAAASMqOA0IAAADwJXgHQgAAAJiBYQtCAAAAQN1KD0IAAAB0HJoRQgAAAEjKjhNCAAAAHHiDFUIAAADwJXgXQgAAAMTTbBlCAAAAmIFhG0IAAABsL1YdQgAAAEDdSh9CAAAAisWfIEIAAAB0HJohQgAAAF5zlCJCAAAASMqOI0IAAAAyIYkkQgAAABx4gyVCAAAABs99JkIAAADwJXgnQgAAANp8cihCAAAAxNNsKUIAAACuKmcqQgAAAJiBYStCAAAAgthbLEIAAABsL1YtQgAAAFaGUC5CAAAAQN1KL0IAAAAVmiIwQgAAAIrFnzBCAAAA//AcMUIAAAB0HJoxQgAAAOlHFzJCAAAAXnOUMkIAAADTnhEzQgAAAEjKjjNCAAAAvfULNEIAAAAyIYk0QgAAAKdMBjVCAAAAHHiDNUIAAACRowA2QgAAAAbPfTZCAAAAe/r6NkIAAADwJXg3QgAAAGVR9TdC",
          "dtype": "f8"
         },
         "xaxis": "x10",
         "y": {
          "bdata": "8KfGSzeJ0T/ME/VvhDLSPwC511xImtI/4XoUrkfh0j8zMzMzMzPTPxP1b4QyetM/LbKd76fG0z/yiyW/WPLTP/S2rNUxwdM/oNMGOm2g0z/b+X5qvHTTP6DTBjptoNM/vLu7u7u70z/wYJ6ofyPUP0MZvS1rddQ/CPNE/Ruh1D/vNReSplTUP30/NV66SdQ/Qxm9LWt11D+V0duyVsfUP0DuNReSptQ/YCz5xZJf1D/RItv5fmrUP0HuNReSptQ/CPNE/Ruh1D+zD59hV4DUPwkezBP1b9Q/suQXS36x1D8hsHJoke3UPx+F61G4HtU/j1BGb8ta1T91kxgEVg7VPwFyr7mQNNU/5F5zIWlK1T/9G6GM3pbVP8hLN4lBYNU/H4XrUbge1T/Jdr6fGi/VPzttoNMGOtU/x0s3iUFg1T9Zq2OCB/PUP7C5kDSl4tQ/5on6N0IZ1T/Jdr6fGi/VPwFyr7mQNNU/sLmQNKXi1D9XgNxrLiTVP49QRm/LWtU/",
          "dtype": "f8"
         },
         "yaxis": "y10"
        },
        {
         "legendgroup": "acc_norm_openbookqa",
         "line": {
          "color": "rgba(199, 42, 4, 1)",
          "dash": "solid",
          "width": 1.5
         },
         "mode": "lines",
         "name": "OpenbookQA",
         "showlegend": false,
         "type": "scatter",
         "x": {
          "bdata": "AAAAQN1K70EAAADwJXj3QQAAAEDdSv9BAAAASMqOA0IAAADwJXgHQgAAAJiBYQtCAAAAQN1KD0IAAAB0HJoRQgAAAEjKjhNCAAAAHHiDFUIAAADwJXgXQgAAAMTTbBlCAAAAmIFhG0IAAABsL1YdQgAAAEDdSh9CAAAAisWfIEIAAAB0HJohQgAAAF5zlCJCAAAASMqOI0IAAAAyIYkkQgAAABx4gyVCAAAABs99JkIAAADwJXgnQgAAANp8cihCAAAAxNNsKUIAAACuKmcqQgAAAJiBYStCAAAAgthbLEIAAABsL1YtQgAAAFaGUC5CAAAAQN1KL0IAAAAVmiIwQgAAAIrFnzBCAAAA//AcMUIAAAB0HJoxQgAAAOlHFzJCAAAAXnOUMkIAAADTnhEzQgAAAEjKjjNCAAAAvfULNEIAAAAyIYk0QgAAAKdMBjVCAAAAHHiDNUIAAACRowA2QgAAAAbPfTZCAAAAe/r6NkIAAADwJXg3QgAAAGVR9TdC",
          "dtype": "f8"
         },
         "xaxis": "x10",
         "y": {
          "bdata": "4+zDZ9gV0D/Bg3mi/o3QP2lKxdmHz9A/J3gwT9S/0T8JZfS2rNXRPwQP5on6N9I/PzVeukkM0j92Bci95kLSP+j7qfHSTdI/VZx9+Ay70j/8YskvlvzSP6QpFWcfPtM/veZC0pSK0z8VIPeaC0nTP/gMuwLkXtM/30+Nl24S0z+HFtnO91PTP2kDnTbQadM/f2q8dJMY1D9/arx0kxjUP2FXgNxrLtQ/oNMGOm2g0z9pA5020GnTPxUg95oLSdM/pCkVZx8+0z+g0wY6baDTP7mQNKXi7NM/nH34DLsC1D8NdNpApw3UP/Bgnqh/I9Q/YVeA3Gsu1D+cffgMuwLUP2WtjgkezNM/YVeA3Gsu1D97FK5H4XrUPycxCKwcWtQ/8GCeqH8j1D9hV4Dcay7UP5x9+Ay7AtQ/uZA0peLs0z+HFtnO91PTP2kDnTbQadM/L90kBoGV0z/wYJ6ofyPUP5gn6t8IZdQ/JzEIrBxa1D9dAXKvuZDUP0DuNReSptQ/",
          "dtype": "f8"
         },
         "yaxis": "y10"
        },
        {
         "legendgroup": "acc_norm_arc_easy",
         "line": {
          "color": "rgba(48, 18, 59, 1)",
          "dash": "solid",
          "width": 1.5
         },
         "mode": "lines",
         "name": "ARC Easy",
         "showlegend": false,
         "type": "scatter",
         "x": {
          "bdata": "AAAAQN1K70EAAADwJXj3QQAAAEDdSv9BAAAASMqOA0IAAADwJXgHQgAAAJiBYQtCAAAAQN1KD0IAAAB0HJoRQgAAAEjKjhNCAAAAHHiDFUIAAADwJXgXQgAAAMTTbBlCAAAAmIFhG0IAAABsL1YdQgAAAEDdSh9CAAAAisWfIEIAAAB0HJohQgAAAF5zlCJCAAAASMqOI0IAAAAyIYkkQgAAABx4gyVCAAAABs99JkIAAADwJXgnQgAAANp8cihCAAAAxNNsKUIAAACuKmcqQgAAAJiBYStCAAAAgthbLEIAAABsL1YtQgAAAFaGUC5CAAAAQN1KL0IAAAAVmiIwQgAAAIrFnzBCAAAA//AcMUIAAAB0HJoxQgAAAOlHFzJCAAAAXnOUMkIAAADTnhEzQgAAAEjKjjNCAAAAvfULNEIAAAAyIYk0QgAAAKdMBjVCAAAAHHiDNUIAAACRowA2QgAAAAbPfTZCAAAAe/r6NkIAAADwJXg3QgAAAGVR9TdC",
          "dtype": "f8"
         },
         "xaxis": "x11",
         "y": {
          "bdata": "xCCwcmiR1T9D0pSKsw/XPx0TPJgn6tc/vS1rdUzw2D9MN4lBYOXYP01iEFg5tNg/M3pb1uqY2D8RERERERHZPy35xZJfLNk/nMQgsHJo2T9/seQXS37ZP0Fg5dAi29k/7FG4HoXr2T94ME/UvxHaP11ImlJx9tk/sCtA7jUX2j+YbhKDwMrZPwc6baDTBto/eDBP1L8R2j+vALnXXEjaP8wT9W+EMto/eDBP1L8R2j+zVscED+bZP+tRuB6F69k/QWDl0CLb2T9BYOXQItvZP0Ng5dAi29k/IPeaC0lT2j81XrpJDALbPzMzMzMzM9s/i2zn+6nx2j83iUFg5dDaP/xiyS+W/No/FSD3mgtJ2z/7N0IZvS3bP6dUnH34DNs/p1ScffgM2z+kKRVnHz7bPzVeukkMAts/qH8jlNHb2j9VnH34DLvaPzm0yHa+n9o/IyIiIiIi2j8D5F5zIWnaP/+NUEZvy9o//GLJL5b82j9whDJ6W9baPxhLfrHkF9s/",
          "dtype": "f8"
         },
         "yaxis": "y11"
        },
        {
         "legendgroup": "acc_norm_arc_challenge",
         "line": {
          "color": "rgba(68, 96, 208, 1)",
          "dash": "solid",
          "width": 1.5
         },
         "mode": "lines",
         "name": "ARC Challenge",
         "showlegend": false,
         "type": "scatter",
         "x": {
          "bdata": "AAAAQN1K70EAAADwJXj3QQAAAEDdSv9BAAAASMqOA0IAAADwJXgHQgAAAJiBYQtCAAAAQN1KD0IAAAB0HJoRQgAAAEjKjhNCAAAAHHiDFUIAAADwJXgXQgAAAMTTbBlCAAAAmIFhG0IAAABsL1YdQgAAAEDdSh9CAAAAisWfIEIAAAB0HJohQgAAAF5zlCJCAAAASMqOI0IAAAAyIYkkQgAAABx4gyVCAAAABs99JkIAAADwJXgnQgAAANp8cihCAAAAxNNsKUIAAACuKmcqQgAAAJiBYStCAAAAgthbLEIAAABsL1YtQgAAAFaGUC5CAAAAQN1KL0IAAAAVmiIwQgAAAIrFnzBCAAAA//AcMUIAAAB0HJoxQgAAAOlHFzJCAAAAXnOUMkIAAADTnhEzQgAAAEjKjjNCAAAAvfULNEIAAAAyIYk0QgAAAKdMBjVCAAAAHHiDNUIAAACRowA2QgAAAAbPfTZCAAAAe/r6NkIAAADwJXg3QgAAAGVR9TdC",
          "dtype": "f8"
         },
         "xaxis": "x11",
         "y": {
          "bdata": "l/xiyS+WzD9gLPnFkl/MPy2yne+nxss/n6h/I5TRyz8Qn2FXgNzLP2SCB/NE/cs/S8XZh8+wyz/ziyW/WPLLP5tScfbhM8w/JQaBlUOLzD9DGb0ta3XMP5f8Yskvlsw/CPNE/RuhzD/r3whl9LbMP5f8Yskvlsw/zczMzMzMzD/jM+wKkHvNP1DUvxHK6M0/M8GDeaL+zT+PUEZvy1rNP49QRm/LWs0/BJ020GkDzT+X/GLJL5bMP9Ei2/l+asw/l/xiyS+WzD+wuZA0peLMP+eJ+jdCGc0/yXa+nxovzT9YgNxrLiTNP+Mz7AqQe80/cT0K16NwzT8YBFYOLbLNP8l2vp8aL80/P8OuALnXzD/NzMzMzMzMP5OmVJx9+Mw/IbByaJHtzD+bUnH24TPMP2SCB/NE/cs/7zUXkqZUzD9TKs4+fIbNP1DUvxHK6M0/bef7qfHSzT87baDTBjrNPwBHKKO3Zc0/xSCwcmiRzT9Q1L8RyujNP8UgsHJokc0/",
          "dtype": "f8"
         },
         "yaxis": "y11"
        },
        {
         "legendgroup": "acc_norm_hellaswag",
         "line": {
          "color": "rgba(54, 167, 248, 1)",
          "dash": "solid",
          "width": 1.5
         },
         "mode": "lines",
         "name": "Hellaswag",
         "showlegend": false,
         "type": "scatter",
         "x": {
          "bdata": "AAAAQN1K70EAAADwJXj3QQAAAEDdSv9BAAAASMqOA0IAAADwJXgHQgAAAJiBYQtCAAAAQN1KD0IAAAB0HJoRQgAAAEjKjhNCAAAAHHiDFUIAAADwJXgXQgAAAMTTbBlCAAAAmIFhG0IAAABsL1YdQgAAAEDdSh9CAAAAisWfIEIAAAB0HJohQgAAAF5zlCJCAAAASMqOI0IAAAAyIYkkQgAAABx4gyVCAAAABs99JkIAAADwJXgnQgAAANp8cihCAAAAxNNsKUIAAACuKmcqQgAAAJiBYStCAAAAgthbLEIAAABsL1YtQgAAAFaGUC5CAAAAQN1KL0IAAAAVmiIwQgAAAIrFnzBCAAAA//AcMUIAAAB0HJoxQgAAAOlHFzJCAAAAXnOUMkIAAADTnhEzQgAAAEjKjjNCAAAAvfULNEIAAAAyIYk0QgAAAKdMBjVCAAAAHHiDNUIAAACRowA2QgAAAAbPfTZCAAAAe/r6NkIAAADwJXg3QgAAAGVR9TdC",
          "dtype": "f8"
         },
         "xaxis": "x11",
         "y": {
          "bdata": "lUOLbOf70T/hehSuR+HSP/s3Qhm9LdM/2c73U+Ol0z8Qn2FXgNzTP9NNYhBYOdQ/DElTKs4+1D/TTWIQWDnUP7dlrY4JHtQ/0SLb+X5q1D97FK5H4XrUP0DuNReSptQ/JQaBlUOL1D9A7jUXkqbUP+vfCGX0ttQ/6LSBThvo1D/LoUW28/3UP5B7zYWkKdU/AXKvuZA01T8fhetRuB7VP62OCR7ME9U/O22g0wY61T9zaJHtfD/VP62OCR7ME9U/ldHbslbH1D/NzMzMzMzUP8l2vp8aL9U/cT0K16Nw1T+pOPvwGXbVP5B7zYWkKdU/AnKvuZA01T/Jdr6fGi/VPzhCGb0ta9U/VCrOPnyG1T+L+jdCGb3VP+Mz7AqQe9U/cD0K16Nw1T+sY4IH80TVP3E9CtejcNU/xSCwcmiR1T/D9Shcj8LVP4v6N0IZvdU/NOwKkHvN1T8zwYN5ov7VP/eaC0lTKtY/F9nO91Pj1T807AqQe83VP93d3d3d3dU/",
          "dtype": "f8"
         },
         "yaxis": "y11"
        },
        {
         "legendgroup": "acc_norm_mmlu",
         "line": {
          "color": "rgba(33, 226, 181, 1)",
          "dash": "solid",
          "width": 1.5
         },
         "mode": "lines",
         "name": "MMLU",
         "showlegend": false,
         "type": "scatter",
         "x": {
          "bdata": "AAAAQN1K70EAAADwJXj3QQAAAEDdSv9BAAAASMqOA0IAAADwJXgHQgAAAJiBYQtCAAAAQN1KD0IAAAB0HJoRQgAAAEjKjhNCAAAAHHiDFUIAAADwJXgXQgAAAMTTbBlCAAAAmIFhG0IAAABsL1YdQgAAAEDdSh9CAAAAisWfIEIAAAB0HJohQgAAAF5zlCJCAAAASMqOI0IAAAAyIYkkQgAAABx4gyVCAAAABs99JkIAAADwJXgnQgAAANp8cihCAAAAxNNsKUIAAACuKmcqQgAAAJiBYStCAAAAgthbLEIAAABsL1YtQgAAAFaGUC5CAAAAQN1KL0IAAAAVmiIwQgAAAIrFnzBCAAAA//AcMUIAAAB0HJoxQgAAAOlHFzJCAAAAXnOUMkIAAADTnhEzQgAAAEjKjjNCAAAAvfULNEIAAAAyIYk0QgAAAKdMBjVCAAAAHHiDNUIAAACRowA2QgAAAAbPfTZCAAAAe/r6NkIAAADwJXg3QgAAAGVR9TdC",
          "dtype": "f8"
         },
         "xaxis": "x11",
         "y": {
          "bdata": "J/KUUcgl0D/rTxeryzDQP6yShCPgTdA/hWkFXfBl0D9EJXK6H3XQP6i2ttXCfdA/oRu+O3KY0D87umqUn6nQP6MpapEJvNA/PX5T/m610D/vp6gRTa7QP6jYORigpNA/IZWTnuON0D/B3Tf5kpLQP0sUSZSepNA/9271j5zA0D97xvoad8bQP9uBYRZ3vdA/7l/cEh2o0D8LrvJ7Y5/QPwN/AbvEj9A/oEVdZS2S0D+N5VVAHpvQPzhzO83wntA/aswdtS6f0D8fDAiQQaTQPyGH2cuuotA/NSAp4Eyp0D88OLoEEbHQP3/vo98gw9A/XXi4bW7W0D9VmQXz79LQP5oFSdGK0tA/O5HrS6bR0D+wAt5NGt/QP1OSHevI19A/PehMBsLG0D8xFM4SWcrQP9Hgtwubx9A/fxaP6hHe0D/azd//9cvQPyg1EGJF29A/fe0jaBnV0D+v83ud4NjQP4UO/o7c1dA/03CJs0na0D8411ile+bQP7NgwNkr9dA/",
          "dtype": "f8"
         },
         "yaxis": "y11"
        },
        {
         "legendgroup": "acc_norm_siqa",
         "line": {
          "color": "rgba(112, 252, 97, 1)",
          "dash": "solid",
          "width": 1.5
         },
         "mode": "lines",
         "name": "SIQA",
         "showlegend": false,
         "type": "scatter",
         "x": {
          "bdata": "AAAAQN1K70EAAADwJXj3QQAAAEDdSv9BAAAASMqOA0IAAADwJXgHQgAAAJiBYQtCAAAAQN1KD0IAAAB0HJoRQgAAAEjKjhNCAAAAHHiDFUIAAADwJXgXQgAAAMTTbBlCAAAAmIFhG0IAAABsL1YdQgAAAEDdSh9CAAAAisWfIEIAAAB0HJohQgAAAF5zlCJCAAAASMqOI0IAAAAyIYkkQgAAABx4gyVCAAAABs99JkIAAADwJXgnQgAAANp8cihCAAAAxNNsKUIAAACuKmcqQgAAAJiBYStCAAAAgthbLEIAAABsL1YtQgAAAFaGUC5CAAAAQN1KL0IAAAAVmiIwQgAAAIrFnzBCAAAA//AcMUIAAAB0HJoxQgAAAOlHFzJCAAAAXnOUMkIAAADTnhEzQgAAAEjKjjNCAAAAvfULNEIAAAAyIYk0QgAAAKdMBjVCAAAAHHiDNUIAAACRowA2QgAAAAbPfTZCAAAAe/r6NkIAAADwJXg3QgAAAGVR9TdC",
          "dtype": "f8"
         },
         "xaxis": "x11",
         "y": {
          "bdata": "/dR46SYx2D9wy1odEzzYP1O4HoXrUdg/i7MPn2FX2D/91HjpJjHYP48JHswT9dc/cfbhM+wK2D/91HjpJjHYP1O4HoXrUdg/U7gehetR2D81peLsw2fYP6WbxCCwctg/pHA9Ctej2D/day4kTanYP8BY8oslv9g/35a1OiZ42D/Bg3mi/o3YP8GDeaL+jdg/TWIQWDm02D8zelvW6pjYP/t+arx0k9g/a3VM8GCe2D+kcD0K16PYP1CNl24Sg9g/pHA9Ctej2D+kcD0K16PYP9tApw102tg/3WsuJE2p2D+kcD0K16PYP2t1TPBgntg/TWIQWDm02D9NYhBYObTYPzN6W9bqmNg/iIiIiIiI2D/flrU6JnjYPxiSplScfdg/qMZLN4lB2D/91HjpJjHYPxvotIFOG9g/w64Auddc2D/7fmq8dJPYP2t1TPBgntg/GJKmVJx92D+Lsw+fYVfYP+DBPFH/Rtg/i7MPn2FX2D+HXQFyr7nYPzBP1L8Rytg/",
          "dtype": "f8"
         },
         "yaxis": "y11"
        },
        {
         "legendgroup": "acc_norm_piqa",
         "line": {
          "color": "rgba(199, 236, 54, 1)",
          "dash": "solid",
          "width": 1.5
         },
         "mode": "lines",
         "name": "PIQA",
         "showlegend": false,
         "type": "scatter",
         "x": {
          "bdata": "AAAAQN1K70EAAADwJXj3QQAAAEDdSv9BAAAASMqOA0IAAADwJXgHQgAAAJiBYQtCAAAAQN1KD0IAAAB0HJoRQgAAAEjKjhNCAAAAHHiDFUIAAADwJXgXQgAAAMTTbBlCAAAAmIFhG0IAAABsL1YdQgAAAEDdSh9CAAAAisWfIEIAAAB0HJohQgAAAF5zlCJCAAAASMqOI0IAAAAyIYkkQgAAABx4gyVCAAAABs99JkIAAADwJXgnQgAAANp8cihCAAAAxNNsKUIAAACuKmcqQgAAAJiBYStCAAAAgthbLEIAAABsL1YtQgAAAFaGUC5CAAAAQN1KL0IAAAAVmiIwQgAAAIrFnzBCAAAA//AcMUIAAAB0HJoxQgAAAOlHFzJCAAAAXnOUMkIAAADTnhEzQgAAAEjKjjNCAAAAvfULNEIAAAAyIYk0QgAAAKdMBjVCAAAAHHiDNUIAAACRowA2QgAAAAbPfTZCAAAAe/r6NkIAAADwJXg3QgAAAGVR9TdC",
          "dtype": "f8"
         },
         "xaxis": "x11",
         "y": {
          "bdata": "U3H24TPs4j9ZZDvfT43jP5+ofyOU0eM/uZA0peLs4z9x9uEz7ArkPwAAAAAAAOQ/4+zDZ9gV5D9Hb8taHRPkP+Psw2fYFeQ/xdmHz7Ar5D9hV4Dcay7kP7U6JngwT+Q/fT81XrpJ5D/RItv5fmrkP7U6JngwT+Q/qMZLN4lB5D/8qfHSTWLkP7QPn2FXgOQ/JQaBlUOL5D8lBoGVQ4vkP8GDeaL+jeQ/seQXS36x5D/Bg3mi/o3kP8/3U+Olm+Q/XQFyr7mQ5D/q3whl9LbkP/l+arx0k+Q/pHA9Ctej5D/P91PjpZvkPyPb+X5qvOQ/+35qvHST5D+W/GLJL5bkP/p+arx0k+Q/XgFyr7mQ5D9dAXKvuZDkP1CNl24Sg+Q/XQFyr7mQ5D8XkqZUnH3kPzN6W9bqmOQ/a3VM8GCe5D8j2/l+arzkP0DuNReSpuQ/M3pb1uqY5D8zelvW6pjkP3npJjEIrOQ/suQXS36x5D+X/GLJL5bkP0DuNReSpuQ/",
          "dtype": "f8"
         },
         "yaxis": "y11"
        },
        {
         "legendgroup": "acc_norm_winogrande",
         "line": {
          "color": "rgba(247, 184, 54, 1)",
          "dash": "solid",
          "width": 1.5
         },
         "mode": "lines",
         "name": "WinoGrande",
         "showlegend": false,
         "type": "scatter",
         "x": {
          "bdata": "AAAAQN1K70EAAADwJXj3QQAAAEDdSv9BAAAASMqOA0IAAADwJXgHQgAAAJiBYQtCAAAAQN1KD0IAAAB0HJoRQgAAAEjKjhNCAAAAHHiDFUIAAADwJXgXQgAAAMTTbBlCAAAAmIFhG0IAAABsL1YdQgAAAEDdSh9CAAAAisWfIEIAAAB0HJohQgAAAF5zlCJCAAAASMqOI0IAAAAyIYkkQgAAABx4gyVCAAAABs99JkIAAADwJXgnQgAAANp8cihCAAAAxNNsKUIAAACuKmcqQgAAAJiBYStCAAAAgthbLEIAAABsL1YtQgAAAFaGUC5CAAAAQN1KL0IAAAAVmiIwQgAAAIrFnzBCAAAA//AcMUIAAAB0HJoxQgAAAOlHFzJCAAAAXnOUMkIAAADTnhEzQgAAAEjKjjNCAAAAvfULNEIAAAAyIYk0QgAAAKdMBjVCAAAAHHiDNUIAAACRowA2QgAAAAbPfTZCAAAAe/r6NkIAAADwJXg3QgAAAGVR9TdC",
          "dtype": "f8"
         },
         "xaxis": "x11",
         "y": {
          "bdata": "uGWtjgke4D89Uf9GKKPfP1UOLbKd798/1XjpJjEI4D8nMQisHFrgP22g0wY6beA/NaXi7MNn4D81peLsw2fgP+DBPFH/RuA/qMZLN4lB4D9hV4Dcay7gP6ebxCCwcuA/7AqQe82F4D8zelvW6pjgP4iIiIiIiOA/a3VM8GCe4D8I80T9G6HgP14Bcq+5kOA/CR7ME/Vv4D8YkqZUnH3gP0MZvS1rdeA/JQaBlUOL4D9toNMGOm3gP/l+arx0k+A/QO41F5Km4D+HXQFyr7ngPzN6W9bqmOA/exSuR+F64D/7fmq8dJPgPzN6W9bqmOA/l/xiyS+W4D+IiIiIiIjgP5gn6t8IZeA/mCfq3whl4D+Lsw+fYVfgPxeSplScfeA/l/xiyS+W4D/tCpB7zYXgP10Bcq+5kOA/l/xiyS+W4D/4U+Olm8TgP5XR27JWx+A/20CnDXTa4D8j2/l+arzgPyPb+X5qvOA/z/dT46Wb4D9pSsXZh8/gP9tApw102uA/",
          "dtype": "f8"
         },
         "yaxis": "y11"
        },
        {
         "legendgroup": "acc_norm_commonsense_qa",
         "line": {
          "color": "rgba(244, 105, 24, 1)",
          "dash": "solid",
          "width": 1.5
         },
         "mode": "lines",
         "name": "CommonsenseQA",
         "showlegend": false,
         "type": "scatter",
         "x": {
          "bdata": "AAAAQN1K70EAAADwJXj3QQAAAEDdSv9BAAAASMqOA0IAAADwJXgHQgAAAJiBYQtCAAAAQN1KD0IAAAB0HJoRQgAAAEjKjhNCAAAAHHiDFUIAAADwJXgXQgAAAMTTbBlCAAAAmIFhG0IAAABsL1YdQgAAAEDdSh9CAAAAisWfIEIAAAB0HJohQgAAAF5zlCJCAAAASMqOI0IAAAAyIYkkQgAAABx4gyVCAAAABs99JkIAAADwJXgnQgAAANp8cihCAAAAxNNsKUIAAACuKmcqQgAAAJiBYStCAAAAgthbLEIAAABsL1YtQgAAAFaGUC5CAAAAQN1KL0IAAAAVmiIwQgAAAIrFnzBCAAAA//AcMUIAAAB0HJoxQgAAAOlHFzJCAAAAXnOUMkIAAADTnhEzQgAAAEjKjjNCAAAAvfULNEIAAAAyIYk0QgAAAKdMBjVCAAAAHHiDNUIAAACRowA2QgAAAAbPfTZCAAAAe/r6NkIAAADwJXg3QgAAAGVR9TdC",
          "dtype": "f8"
         },
         "xaxis": "x11",
         "y": {
          "bdata": "xdmHz7Ar0D/8qfHSTWLQPxeSplScfdA/+FPjpZvE0D+7AuRecyHRP0jhehSuR9E/gdxrLiRN0T+511xImlLRPw27AuRec9E/D+aJ+jdC0T+e76fGSzfRP57vp8ZLN9E/uddcSJpS0T+511xImlLRPyijt2WtjtE/mG4Sg8DK0T8neDBP1L/RPw27AuRec9E/K84+fIZd0T+3rNUxwYPRP7is1THBg9E/05SKsw+f0T+bmZmZmZnRP5mZmZmZmdE/m5mZmZmZ0T8JZfS2rNXRP+kmMQisHNI/6SYxCKwc0j+xK0DuNRfSP9FpA5020NE/RIts5/up0T8neDBP1L/RP84+fIZdAdI/BzptoNMG0j94ME/UvxHSP+kmMQisHNI/rwC511xI0j92Bci95kLSP3gwT9S/EdI/BzptoNMG0j+zVscED+bRPz81XrpJDNI/Wx0TPJgn0j+TGARWDi3SPyIiIiIiItI/e1vW6pjg0T9Ei2zn+6nRP7es1THBg9E/",
          "dtype": "f8"
         },
         "yaxis": "y11"
        },
        {
         "legendgroup": "acc_norm_openbookqa",
         "line": {
          "color": "rgba(199, 42, 4, 1)",
          "dash": "solid",
          "width": 1.5
         },
         "mode": "lines",
         "name": "OpenbookQA",
         "showlegend": false,
         "type": "scatter",
         "x": {
          "bdata": "AAAAQN1K70EAAADwJXj3QQAAAEDdSv9BAAAASMqOA0IAAADwJXgHQgAAAJiBYQtCAAAAQN1KD0IAAAB0HJoRQgAAAEjKjhNCAAAAHHiDFUIAAADwJXgXQgAAAMTTbBlCAAAAmIFhG0IAAABsL1YdQgAAAEDdSh9CAAAAisWfIEIAAAB0HJohQgAAAF5zlCJCAAAASMqOI0IAAAAyIYkkQgAAABx4gyVCAAAABs99JkIAAADwJXgnQgAAANp8cihCAAAAxNNsKUIAAACuKmcqQgAAAJiBYStCAAAAgthbLEIAAABsL1YtQgAAAFaGUC5CAAAAQN1KL0IAAAAVmiIwQgAAAIrFnzBCAAAA//AcMUIAAAB0HJoxQgAAAOlHFzJCAAAAXnOUMkIAAADTnhEzQgAAAEjKjjNCAAAAvfULNEIAAAAyIYk0QgAAAKdMBjVCAAAAHHiDNUIAAACRowA2QgAAAAbPfTZCAAAAe/r6NkIAAADwJXg3QgAAAGVR9TdC",
          "dtype": "f8"
         },
         "xaxis": "x11",
         "y": {
          "bdata": "HRM8mCfqzz8AAAAAAADQP/yp8dJNYtA/ERERERER0T9Ei2zn+6nRP9OUirMPn9E/K84+fIZd0T/vp8ZLN4nRP3+x5BdLftE/DbsC5F5z0T8vJE2pOPvQP2X0tqzVMdE/aUrF2YfP0D/bQKcNdNrQP4ddAXKvudA/M3pb1uqY0D8ZvS1rdUzQPx0TPJgn6s8/Gb0ta3VM0D9QjZduEoPQP70ta3VM8NA/ERERERER0T8rzj58hl3RP/Cnxks3idE/1+qY4ME80T+DB/NE/RvRP0w3iUFg5dA/LyRNqTj70D/0/dR46SbRPy8kTak4+9A/nMQgsHJo0T9I4XoUrkfRP9fqmODBPNE/ZfS2rNUx0T/0/dR46SbRP5zEILByaNE/gwfzRP0b0T9l9Las1THRP6AaL90kBtE/oBov3SQG0T+DB/NE/RvRP70ta3VM8NA/gwfzRP0b0T/4U+Olm8TQPy8kTak4+9A/+FPjpZvE0D+9LWt1TPDQP/hT46WbxNA/",
          "dtype": "f8"
         },
         "yaxis": "y11"
        },
        {
         "legendgroup": "acc_norm_arc_easy",
         "line": {
          "color": "rgba(48, 18, 59, 1)",
          "dash": "solid",
          "width": 1.5
         },
         "mode": "lines",
         "name": "ARC Easy",
         "showlegend": false,
         "type": "scatter",
         "x": {
          "bdata": "AAAAQN1K70EAAADwJXj3QQAAAEDdSv9BAAAASMqOA0IAAADwJXgHQgAAAJiBYQtCAAAAQN1KD0IAAAB0HJoRQgAAAEjKjhNCAAAAHHiDFUIAAADwJXgXQgAAAMTTbBlCAAAAmIFhG0IAAABsL1YdQgAAAEDdSh9CAAAAisWfIEIAAAB0HJohQgAAAF5zlCJCAAAASMqOI0IAAAAyIYkkQgAAABx4gyVCAAAABs99JkIAAADwJXgnQgAAANp8cihCAAAAxNNsKUIAAACuKmcqQgAAAJiBYStCAAAAgthbLEIAAABsL1YtQgAAAFaGUC5CAAAAQN1KL0IAAAAVmiIwQgAAAIrFnzBCAAAA//AcMUIAAAB0HJoxQgAAAOlHFzJCAAAAXnOUMkIAAADTnhEzQgAAAEjKjjNCAAAAvfULNEIAAAAyIYk0QgAAAKdMBjVCAAAAHHiDNUIAAACRowA2QgAAAAbPfTZCAAAAe/r6NkIAAADwJXg3QgAAAGVR9TdC",
          "dtype": "f8"
         },
         "xaxis": "x12",
         "y": {
          "bdata": "lNHbslbH1D+l4uzDZ9jVPyxA7jUXktY/0duyVscE1z91TPBgnqjXP1TjpZvEINg/M3pb1uqY2D84+/AZdgXYPzxR/0Yoo9c/JJTR27JW1z/nQtKUirPXP82FpCkVZ9c/sZ3vp8ZL1z8klNHbslbXP5NfLPnFktc/ID7DrgC51z/HBA/mifrXP6jGSzeJQdg/xdmHz7Ar2D//1HjpJjHYP8SuALnXXNg/pHA9Ctej2D8ZvS1rdUzYPyOU0duyVtc/tMh2vp8a1z8IrBxaZDvXPwAAAAAAANg/pZvEILBy2D9toNMGOm3YPxiSplScfdg/Gb0ta3VM2D8AAAAAAADYPzsmeDBP1Nc/VQ4tsp3v1z/7fmq8dJPYPzN6W9bqmNg/baDTBjpt2D/IBA/mifrXPzfQaQOdNtg//Knx0k1i2D9rdUzwYJ7YP/3UeOkmMdg/yAQP5on61z+oxks3iUHYP1O4HoXrUdg/AAAAAAAA2D/JL5b8YsnXPzfQaQOdNtg/",
          "dtype": "f8"
         },
         "yaxis": "y12"
        },
        {
         "legendgroup": "acc_norm_arc_challenge",
         "line": {
          "color": "rgba(68, 96, 208, 1)",
          "dash": "solid",
          "width": 1.5
         },
         "mode": "lines",
         "name": "ARC Challenge",
         "showlegend": false,
         "type": "scatter",
         "x": {
          "bdata": "AAAAQN1K70EAAADwJXj3QQAAAEDdSv9BAAAASMqOA0IAAADwJXgHQgAAAJiBYQtCAAAAQN1KD0IAAAB0HJoRQgAAAEjKjhNCAAAAHHiDFUIAAADwJXgXQgAAAMTTbBlCAAAAmIFhG0IAAABsL1YdQgAAAEDdSh9CAAAAisWfIEIAAAB0HJohQgAAAF5zlCJCAAAASMqOI0IAAAAyIYkkQgAAABx4gyVCAAAABs99JkIAAADwJXgnQgAAANp8cihCAAAAxNNsKUIAAACuKmcqQgAAAJiBYStCAAAAgthbLEIAAABsL1YtQgAAAFaGUC5CAAAAQN1KL0IAAAAVmiIwQgAAAIrFnzBCAAAA//AcMUIAAAB0HJoxQgAAAOlHFzJCAAAAXnOUMkIAAADTnhEzQgAAAEjKjjNCAAAAvfULNEIAAAAyIYk0QgAAAKdMBjVCAAAAHHiDNUIAAACRowA2QgAAAAbPfTZCAAAAe/r6NkIAAADwJXg3QgAAAGVR9TdC",
          "dtype": "f8"
         },
         "xaxis": "x12",
         "y": {
          "bdata": "54n6N0IZzT8hsHJoke3MPwjzRP0bocw/tA+fYVeAzD/Idr6fGi/NP4v6N0IZvc0/2YfPsCtAzj+FpCkVZx/OP3A9CtejcM0/GARWDi2yzT+L+jdCGb3NP5sLSVMqzs4/LWt1TPBgzj9LfrHkF0vOP9/d3d3d3c0/M8GDeaL+zT8zwYN5ov7NP8HKoUW2880/qA102kCnzT/78Bl2BcjNP5OmVJx9+Mw/m1Jx9uEzzD+JQWDl0CLLP5+ofyOU0cs/1XjpJjEIzD8MSVMqzj7MP4GVQ4ts58s/1XjpJjEIzD+bUnH24TPMP1zW6pjgwcw/l/xiyS+WzD8I80T9G6HMPwjzRP0bocw/BJ020GkDzT8zwYN5ov7NPwBHKKO3Zc0/AEcoo7dlzT9DGb0ta3XMP3npJjEIrMw/sLmQNKXizD8hsHJoke3MP49QRm/LWs0/NxeSplSczT8zwYN5ov7NP4WkKRVnH84/bef7qfHSzT+NUEZvy1rNP8l2vp8aL80/",
          "dtype": "f8"
         },
         "yaxis": "y12"
        },
        {
         "legendgroup": "acc_norm_hellaswag",
         "line": {
          "color": "rgba(54, 167, 248, 1)",
          "dash": "solid",
          "width": 1.5
         },
         "mode": "lines",
         "name": "Hellaswag",
         "showlegend": false,
         "type": "scatter",
         "x": {
          "bdata": "AAAAQN1K70EAAADwJXj3QQAAAEDdSv9BAAAASMqOA0IAAADwJXgHQgAAAJiBYQtCAAAAQN1KD0IAAAB0HJoRQgAAAEjKjhNCAAAAHHiDFUIAAADwJXgXQgAAAMTTbBlCAAAAmIFhG0IAAABsL1YdQgAAAEDdSh9CAAAAisWfIEIAAAB0HJohQgAAAF5zlCJCAAAASMqOI0IAAAAyIYkkQgAAABx4gyVCAAAABs99JkIAAADwJXgnQgAAANp8cihCAAAAxNNsKUIAAACuKmcqQgAAAJiBYStCAAAAgthbLEIAAABsL1YtQgAAAFaGUC5CAAAAQN1KL0IAAAAVmiIwQgAAAIrFnzBCAAAA//AcMUIAAAB0HJoxQgAAAOlHFzJCAAAAXnOUMkIAAADTnhEzQgAAAEjKjjNCAAAAvfULNEIAAAAyIYk0QgAAAKdMBjVCAAAAHHiDNUIAAACRowA2QgAAAAbPfTZCAAAAe/r6NkIAAADwJXg3QgAAAGVR9TdC",
          "dtype": "f8"
         },
         "xaxis": "x12",
         "y": {
          "bdata": "t6zVMcGD0T/TlIqzD5/RP/Cnxks3idE/05SKsw+f0T9fcyFpSsXRPwll9Las1dE/zz58hl0B0j/pJjEIrBzSP8wT9W+EMtI/zBP1b4Qy0j8g95oLSVPSP+f7qfHSTdI/rwC511xI0j8iIiIiIiLSP+XQItv5ftI/HcwT9W+E0j/jpZvEILDSP6qqqqqqqtI/ALnXXEia0j8ezBP1b4TSP3UFyL3mQtI/5/up8dJN0j/J6G1Zq2PSP3TaQKcNdNI/rNUxwYN50j9Z8oslv1jSPx3ME/VvhNI/yL3mQtKU0j85tMh2vp/SPzm0yHa+n9I/xZJfLPnF0j9VnH34DLvSP8WSXyz5xdI/AbnXXEia0j9UnH34DLvSPwC511xImtI/4XoUrkfh0j+pfyOU0dvSP42XbhKDwNI/j8L1KFyP0j8D5F5zIWnSP8i95kLSlNI/yehtWatj0j9XxwQP5onSP5HtfD81XtI/WPKLJb9Y0j+TGARWDi3SP+f7qfHSTdI/",
          "dtype": "f8"
         },
         "yaxis": "y12"
        },
        {
         "legendgroup": "acc_norm_mmlu",
         "line": {
          "color": "rgba(33, 226, 181, 1)",
          "dash": "solid",
          "width": 1.5
         },
         "mode": "lines",
         "name": "MMLU",
         "showlegend": false,
         "type": "scatter",
         "x": {
          "bdata": "AAAAQN1K70EAAADwJXj3QQAAAEDdSv9BAAAASMqOA0IAAADwJXgHQgAAAJiBYQtCAAAAQN1KD0IAAAB0HJoRQgAAAEjKjhNCAAAAHHiDFUIAAADwJXgXQgAAAMTTbBlCAAAAmIFhG0IAAABsL1YdQgAAAEDdSh9CAAAAisWfIEIAAAB0HJohQgAAAF5zlCJCAAAASMqOI0IAAAAyIYkkQgAAABx4gyVCAAAABs99JkIAAADwJXgnQgAAANp8cihCAAAAxNNsKUIAAACuKmcqQgAAAJiBYStCAAAAgthbLEIAAABsL1YtQgAAAFaGUC5CAAAAQN1KL0IAAAAVmiIwQgAAAIrFnzBCAAAA//AcMUIAAAB0HJoxQgAAAOlHFzJCAAAAXnOUMkIAAADTnhEzQgAAAEjKjjNCAAAAvfULNEIAAAAyIYk0QgAAAKdMBjVCAAAAHHiDNUIAAACRowA2QgAAAAbPfTZCAAAAe/r6NkIAAADwJXg3QgAAAGVR9TdC",
          "dtype": "f8"
         },
         "xaxis": "x12",
         "y": {
          "bdata": "GoWSMIIT0D/JxvLs+hTQP+fnCN9iK9A/yVtrJc8l0D+XtSHLHyjQPyH4OFmTMdA/1dO3x5I20D9avVZVn0HQP2O0oO/pOdA/LS38XC1N0D9FiAkK71LQPwXbZ8ITZ9A/YPhD0l5k0D8sUZ61XGvQP92BxsoQUNA/rc/n2apg0D8v6DsnSVzQP8nCMKaxZtA/Ozd10/tL0D8HkDcXk1XQP1vgGeZ1VtA/PR3wV5lk0D+h+SqAv2fQP+vThi/xdNA/ffqYz0B20D/FuivLFmbQP1MFbaumXNA/BxgpKcZo0D+VeqAKfnDQP7vyr38Kb9A/J91btW1u0D+G/QPjQIPQP1RYLXU3jNA/o6ubBVqi0D+TVbHSwYXQP+CqOjZwZdA/y3ZfLq1Q0D8n5zIbtVvQP5uD1apoctA/T/HLOg9r0D8n5RwuFmDQP/kVnK44WNA/kUgTnVBF0D8AJL0ZBU3QP2xfsv9dTtA/1kd8Ggtg0D/ITsR/glbQP4mWrGltaNA/",
          "dtype": "f8"
         },
         "yaxis": "y12"
        },
        {
         "legendgroup": "acc_norm_siqa",
         "line": {
          "color": "rgba(112, 252, 97, 1)",
          "dash": "solid",
          "width": 1.5
         },
         "mode": "lines",
         "name": "SIQA",
         "showlegend": false,
         "type": "scatter",
         "x": {
          "bdata": "AAAAQN1K70EAAADwJXj3QQAAAEDdSv9BAAAASMqOA0IAAADwJXgHQgAAAJiBYQtCAAAAQN1KD0IAAAB0HJoRQgAAAEjKjhNCAAAAHHiDFUIAAADwJXgXQgAAAMTTbBlCAAAAmIFhG0IAAABsL1YdQgAAAEDdSh9CAAAAisWfIEIAAAB0HJohQgAAAF5zlCJCAAAASMqOI0IAAAAyIYkkQgAAABx4gyVCAAAABs99JkIAAADwJXgnQgAAANp8cihCAAAAxNNsKUIAAACuKmcqQgAAAJiBYStCAAAAgthbLEIAAABsL1YtQgAAAFaGUC5CAAAAQN1KL0IAAAAVmiIwQgAAAIrFnzBCAAAA//AcMUIAAAB0HJoxQgAAAOlHFzJCAAAAXnOUMkIAAADTnhEzQgAAAEjKjjNCAAAAvfULNEIAAAAyIYk0QgAAAKdMBjVCAAAAHHiDNUIAAACRowA2QgAAAAbPfTZCAAAAe/r6NkIAAADwJXg3QgAAAGVR9TdC",
          "dtype": "f8"
         },
         "xaxis": "x12",
         "y": {
          "bdata": "dUzwYJ6o1z+r8dJNYhDYP8OuALnXXNg/3WsuJE2p2D+HXQFyr7nYP8OuALnXXNg/w64Auddc2D/91HjpJjHYP1TjpZvEINg/4+zDZ9gV2D+sHFpkO9/XP6wcWmQ739c/VQ4tsp3v1z+oxks3iUHYP4uzD59hV9g/4+zDZ9gV2D8dEzyYJ+rXP8gED+aJ+tc/4+zDZ9gV2D9U46WbxCDYP+UXS36x5Nc/rBxaZDvf1z87JngwT9TXP6jGSzeJQdg//Knx0k1i2D+Lsw+fYVfYP1TjpZvEINg/xdmHz7Ar2D/DrgC511zYP4iIiIiIiNg/35a1OiZ42D9QjZduEoPYPxVnHz7Drtg/EzyYJ+rf2D/1KFyPwvXYP6RwPQrXo9g/U7gehetR2D/F2YfPsCvYPwAAAAAAANg/OPvwGXYF2D8dEzyYJ+rXPxm9LWt1TNg/w64Auddc2D/gwTxR/0bYP+Psw2fYFdg/cMtaHRM82D830GkDnTbYPzWl4uzDZ9g/",
          "dtype": "f8"
         },
         "yaxis": "y12"
        },
        {
         "legendgroup": "acc_norm_piqa",
         "line": {
          "color": "rgba(199, 236, 54, 1)",
          "dash": "solid",
          "width": 1.5
         },
         "mode": "lines",
         "name": "PIQA",
         "showlegend": false,
         "type": "scatter",
         "x": {
          "bdata": "AAAAQN1K70EAAADwJXj3QQAAAEDdSv9BAAAASMqOA0IAAADwJXgHQgAAAJiBYQtCAAAAQN1KD0IAAAB0HJoRQgAAAEjKjhNCAAAAHHiDFUIAAADwJXgXQgAAAMTTbBlCAAAAmIFhG0IAAABsL1YdQgAAAEDdSh9CAAAAisWfIEIAAAB0HJohQgAAAF5zlCJCAAAASMqOI0IAAAAyIYkkQgAAABx4gyVCAAAABs99JkIAAADwJXgnQgAAANp8cihCAAAAxNNsKUIAAACuKmcqQgAAAJiBYStCAAAAgthbLEIAAABsL1YtQgAAAFaGUC5CAAAAQN1KL0IAAAAVmiIwQgAAAIrFnzBCAAAA//AcMUIAAAB0HJoxQgAAAOlHFzJCAAAAXnOUMkIAAADTnhEzQgAAAEjKjjNCAAAAvfULNEIAAAAyIYk0QgAAAKdMBjVCAAAAHHiDNUIAAACRowA2QgAAAAbPfTZCAAAAe/r6NkIAAADwJXg3QgAAAGVR9TdC",
          "dtype": "f8"
         },
         "xaxis": "x12",
         "y": {
          "bdata": "mZmZmZmZ4T8xwYN5ov7hPzCW/GLJL+I/gU4b6LSB4j9JUyrOPnziP4/C9Shcj+I/WPKLJb9Y4j8g95oLSVPiP4WkKRVnH+I/WfKLJb9Y4j/J6G1Zq2PiP0lTKs4+fOI/ALnXXEia4j+Nl24Sg8DiP38jlNHbsuI/ObTIdr6f4j+EeaL+jVDiP6GM3pa1OuI/MsGDeaL+4T8vlvxiyS/iP6GM3pa1OuI/WPKLJb9Y4j91Bci95kLiP68AuddcSOI/ke18PzVe4j9xr7mQNKXiPwwCK4cW2eI/tvP91Hjp4j+4HoXrUbjiP0coo7dlreI/Di2yne+n4j8AuddcSJriP42XbhKDwOI/7+7u7u7u4j8zMzMzMzPjP/xiyS+W/OI/cIQyelvW4j9kO99PjZfiP6uqqqqqquI/mwtJUyrO4j/hehSuR+HiPwwCK4cW2eI/j8L1KFyP4j9XxwQP5oniP63VMcGDeeI/V8cED+aJ4j/l0CLb+X7iP8i95kLSlOI/",
          "dtype": "f8"
         },
         "yaxis": "y12"
        },
        {
         "legendgroup": "acc_norm_winogrande",
         "line": {
          "color": "rgba(247, 184, 54, 1)",
          "dash": "solid",
          "width": 1.5
         },
         "mode": "lines",
         "name": "WinoGrande",
         "showlegend": false,
         "type": "scatter",
         "x": {
          "bdata": "AAAAQN1K70EAAADwJXj3QQAAAEDdSv9BAAAASMqOA0IAAADwJXgHQgAAAJiBYQtCAAAAQN1KD0IAAAB0HJoRQgAAAEjKjhNCAAAAHHiDFUIAAADwJXgXQgAAAMTTbBlCAAAAmIFhG0IAAABsL1YdQgAAAEDdSh9CAAAAisWfIEIAAAB0HJohQgAAAF5zlCJCAAAASMqOI0IAAAAyIYkkQgAAABx4gyVCAAAABs99JkIAAADwJXgnQgAAANp8cihCAAAAxNNsKUIAAACuKmcqQgAAAJiBYStCAAAAgthbLEIAAABsL1YtQgAAAFaGUC5CAAAAQN1KL0IAAAAVmiIwQgAAAIrFnzBCAAAA//AcMUIAAAB0HJoxQgAAAOlHFzJCAAAAXnOUMkIAAADTnhEzQgAAAEjKjjNCAAAAvfULNEIAAAAyIYk0QgAAAKdMBjVCAAAAHHiDNUIAAACRowA2QgAAAAbPfTZCAAAAe/r6NkIAAADwJXg3QgAAAGVR9TdC",
          "dtype": "f8"
         },
         "xaxis": "x12",
         "y": {
          "bdata": "6G1Zq2OC3z9x9uEz7ArgP9Ei2/l+auA/exSuR+F64D+JiIiIiIjgP4mIiIiIiOA/tA+fYVeA4D9dAXKvuZDgP0DuNReSpuA/MU/UvxHK4D8UPJgn6t/gP+m0gU4b6OA/TDeJQWDl4D9c1uqY4MHgPwjzRP0boeA/+35qvHST4D9rdUzwYJ7gP09iEFg5tOA/6bSBThvo4D+gGi/dJAbhPwOdNtBpA+E/d76fGi/d4D+U0duyVsfgP1zW6pjgweA/I9v5fmq84D93vp8aL93gP5KmVJx9+OA/2RUg95oL4T93vp8aL93gP9tApw102uA/20CnDXTa4D+V0duyVsfgP3npJjEIrOA/pHA9Ctej4D8TPJgn6t/gP0w3iUFg5eA/MU/UvxHK4D9rdUzwYJ7gP+rfCGX0tuA/I9v5fmq84D8xT9S/EcrgP79Y8oslv+A/XNbqmODB4D8j2/l+arzgP79Y8oslv+A/pHA9Ctej4D9NYhBYObTgP/p+arx0k+A/",
          "dtype": "f8"
         },
         "yaxis": "y12"
        },
        {
         "legendgroup": "acc_norm_commonsense_qa",
         "line": {
          "color": "rgba(244, 105, 24, 1)",
          "dash": "solid",
          "width": 1.5
         },
         "mode": "lines",
         "name": "CommonsenseQA",
         "showlegend": false,
         "type": "scatter",
         "x": {
          "bdata": "AAAAQN1K70EAAADwJXj3QQAAAEDdSv9BAAAASMqOA0IAAADwJXgHQgAAAJiBYQtCAAAAQN1KD0IAAAB0HJoRQgAAAEjKjhNCAAAAHHiDFUIAAADwJXgXQgAAAMTTbBlCAAAAmIFhG0IAAABsL1YdQgAAAEDdSh9CAAAAisWfIEIAAAB0HJohQgAAAF5zlCJCAAAASMqOI0IAAAAyIYkkQgAAABx4gyVCAAAABs99JkIAAADwJXgnQgAAANp8cihCAAAAxNNsKUIAAACuKmcqQgAAAJiBYStCAAAAgthbLEIAAABsL1YtQgAAAFaGUC5CAAAAQN1KL0IAAAAVmiIwQgAAAIrFnzBCAAAA//AcMUIAAAB0HJoxQgAAAOlHFzJCAAAAXnOUMkIAAADTnhEzQgAAAEjKjjNCAAAAvfULNEIAAAAyIYk0QgAAAKdMBjVCAAAAHHiDNUIAAACRowA2QgAAAAbPfTZCAAAAe/r6NkIAAADwJXg3QgAAAGVR9TdC",
          "dtype": "f8"
         },
         "xaxis": "x12",
         "y": {
          "bdata": "xdmHz7Ar0D+FMnpb1urQP/LSTWIQWNE/tYFOG+i00T8LkHvNhaTRP3tb1uqY4NE/7FG4HoXr0T+TGARWDi3SP3tb1uqY4NE/elvW6pjg0T8neDBP1L/RPwc6baDTBtI/PzVeukkM0j/ME/VvhDLSP1sdEzyYJ9I/rwC511xI0j8f95oLSVPSP8i95kLSlNI/ALnXXEia0j+Nl24Sg8DSPzm0yHa+n9I//41QRm/L0j83iUFg5dDSP21Zq2OCB9M/N4lBYOXQ0j/Fkl8s+cXSPzvfT42XbtI/dNpApw100j8C5F5zIWnSP6zVMcGDedI/VscED+aJ0j8dzBP1b4TSP3GvuZA0pdI/HKGM3pa10j81XrpJDALTP+F6FK5H4dI//GLJL5b80j/EZ9gVIPfSP4cW2c73U9M/UEZvy1od0z8zMzMzMzPTP6h/I5TR29I/cIQyelvW0j9XxwQP5onSP+Olm8QgsNI/U3H24TPs0j8XS36x5BfTP6QpFWcfPtM/",
          "dtype": "f8"
         },
         "yaxis": "y12"
        },
        {
         "legendgroup": "acc_norm_openbookqa",
         "line": {
          "color": "rgba(199, 42, 4, 1)",
          "dash": "solid",
          "width": 1.5
         },
         "mode": "lines",
         "name": "OpenbookQA",
         "showlegend": false,
         "type": "scatter",
         "x": {
          "bdata": "AAAAQN1K70EAAADwJXj3QQAAAEDdSv9BAAAASMqOA0IAAADwJXgHQgAAAJiBYQtCAAAAQN1KD0IAAAB0HJoRQgAAAEjKjhNCAAAAHHiDFUIAAADwJXgXQgAAAMTTbBlCAAAAmIFhG0IAAABsL1YdQgAAAEDdSh9CAAAAisWfIEIAAAB0HJohQgAAAF5zlCJCAAAASMqOI0IAAAAyIYkkQgAAABx4gyVCAAAABs99JkIAAADwJXgnQgAAANp8cihCAAAAxNNsKUIAAACuKmcqQgAAAJiBYStCAAAAgthbLEIAAABsL1YtQgAAAFaGUC5CAAAAQN1KL0IAAAAVmiIwQgAAAIrFnzBCAAAA//AcMUIAAAB0HJoxQgAAAOlHFzJCAAAAXnOUMkIAAADTnhEzQgAAAEjKjjNCAAAAvfULNEIAAAAyIYk0QgAAAKdMBjVCAAAAHHiDNUIAAACRowA2QgAAAAbPfTZCAAAAe/r6NkIAAADwJXg3QgAAAGVR9TdC",
          "dtype": "f8"
         },
         "xaxis": "x12",
         "y": {
          "bdata": "Jb9Y8oslzz9x9uEz7ArQP+Psw2fYFdA/baDTBjpt0D/flrU6JnjQP9+WtTomeNA/i7MPn2FX0D/flrU6JnjQP9+WtTomeNA/baDTBjpt0D+HXQFyr7nQP70ta3VM8NA/9P3UeOkm0T/bQKcNdNrQPzfQaQOdNtA/dUzwYJ6ozz+bC0lTKs7OP5NfLPnFks8/OyZ4ME/Uzz8ZvS1rdUzQP4uzD59hV9A/i7MPn2FX0D8VZx8+w67QPzN6W9bqmNA/FWcfPsOu0D+kcD0K16PQP1CNl24Sg9A/xdmHz7Ar0D87JngwT9TPP/yp8dJNYtA/gwfzRP0b0T9l9Las1THRP4MH80T9G9E/baDTBjpt0D8ZvS1rdUzQP6RwPQrXo9A/oBov3SQG0T+cxCCwcmjRP2lKxdmHz9A/baDTBjpt0D8AAAAAAADQP+Psw2fYFdA/i7MPn2FX0D+Lsw+fYVfQP22g0wY6bdA/HRM8mCfqzz87JngwT9TPPzsmeDBP1M8/",
          "dtype": "f8"
         },
         "yaxis": "y12"
        }
       ],
       "layout": {
        "annotations": [
         {
          "font": {
           "size": 20
          },
          "showarrow": false,
          "text": "Instructive-Informational (HI-IN)",
          "x": 0.14444444444444446,
          "xanchor": "center",
          "xref": "paper",
          "y": 1,
          "yanchor": "bottom",
          "yref": "paper"
         },
         {
          "font": {
           "size": 20
          },
          "showarrow": false,
          "text": "Description (dtp)",
          "x": 0.5,
          "xanchor": "center",
          "xref": "paper",
          "y": 1,
          "yanchor": "bottom",
          "yref": "paper"
         },
         {
          "font": {
           "size": 20
          },
          "showarrow": false,
          "text": "How-to-Instructions (HI)",
          "x": 0.8555555555555556,
          "xanchor": "center",
          "xref": "paper",
          "y": 1,
          "yanchor": "bottom",
          "yref": "paper"
         },
         {
          "font": {
           "size": 20
          },
          "showarrow": false,
          "text": "Opinion (OP)",
          "x": 0.14444444444444446,
          "xanchor": "center",
          "xref": "paper",
          "y": 0.7375,
          "yanchor": "bottom",
          "yref": "paper"
         },
         {
          "font": {
           "size": 20
          },
          "showarrow": false,
          "text": "Informational Description (IN)",
          "x": 0.5,
          "xanchor": "center",
          "xref": "paper",
          "y": 0.7375,
          "yanchor": "bottom",
          "yref": "paper"
         },
         {
          "font": {
           "size": 20
          },
          "showarrow": false,
          "text": "Narrative (NA)",
          "x": 0.8555555555555556,
          "xanchor": "center",
          "xref": "paper",
          "y": 0.7375,
          "yanchor": "bottom",
          "yref": "paper"
         },
         {
          "font": {
           "size": 20
          },
          "showarrow": false,
          "text": "Interactive Discussion (ID)",
          "x": 0.14444444444444446,
          "xanchor": "center",
          "xref": "paper",
          "y": 0.475,
          "yanchor": "bottom",
          "yref": "paper"
         },
         {
          "font": {
           "size": 20
          },
          "showarrow": false,
          "text": "Spoken (SP)",
          "x": 0.5,
          "xanchor": "center",
          "xref": "paper",
          "y": 0.475,
          "yanchor": "bottom",
          "yref": "paper"
         },
         {
          "font": {
           "size": 20
          },
          "showarrow": false,
          "text": "Informational Persuasion (IP)",
          "x": 0.8555555555555556,
          "xanchor": "center",
          "xref": "paper",
          "y": 0.475,
          "yanchor": "bottom",
          "yref": "paper"
         },
         {
          "font": {
           "size": 20
          },
          "showarrow": false,
          "text": "News (ne)",
          "x": 0.14444444444444446,
          "xanchor": "center",
          "xref": "paper",
          "y": 0.2125,
          "yanchor": "bottom",
          "yref": "paper"
         },
         {
          "font": {
           "size": 20
          },
          "showarrow": false,
          "text": "Machine Translation (MT)",
          "x": 0.5,
          "xanchor": "center",
          "xref": "paper",
          "y": 0.2125,
          "yanchor": "bottom",
          "yref": "paper"
         },
         {
          "font": {
           "size": 20
          },
          "showarrow": false,
          "text": "Lyrical (LY)",
          "x": 0.8555555555555556,
          "xanchor": "center",
          "xref": "paper",
          "y": 0.2125,
          "yanchor": "bottom",
          "yref": "paper"
         }
        ],
        "font": {
         "family": "Computer Modern",
         "size": 16
        },
        "height": 1300,
        "legend": {
         "font": {
          "size": 20
         },
         "tracegroupgap": 15
        },
        "margin": {
         "b": 20,
         "l": 50,
         "r": 50,
         "t": 20
        },
        "showlegend": true,
        "template": {
         "data": {
          "scatter": [
           {
            "type": "scatter"
           }
          ]
         }
        },
        "title": {
         "font": {
          "size": 20
         },
         "text": ""
        },
        "width": 900,
        "xaxis": {
         "anchor": "y",
         "domain": [
          0,
          0.2888888888888889
         ]
        },
        "xaxis10": {
         "anchor": "y10",
         "domain": [
          0,
          0.2888888888888889
         ]
        },
        "xaxis11": {
         "anchor": "y11",
         "domain": [
          0.35555555555555557,
          0.6444444444444445
         ]
        },
        "xaxis12": {
         "anchor": "y12",
         "domain": [
          0.7111111111111111,
          1
         ]
        },
        "xaxis2": {
         "anchor": "y2",
         "domain": [
          0.35555555555555557,
          0.6444444444444445
         ]
        },
        "xaxis3": {
         "anchor": "y3",
         "domain": [
          0.7111111111111111,
          1
         ]
        },
        "xaxis4": {
         "anchor": "y4",
         "domain": [
          0,
          0.2888888888888889
         ]
        },
        "xaxis5": {
         "anchor": "y5",
         "domain": [
          0.35555555555555557,
          0.6444444444444445
         ]
        },
        "xaxis6": {
         "anchor": "y6",
         "domain": [
          0.7111111111111111,
          1
         ]
        },
        "xaxis7": {
         "anchor": "y7",
         "domain": [
          0,
          0.2888888888888889
         ]
        },
        "xaxis8": {
         "anchor": "y8",
         "domain": [
          0.35555555555555557,
          0.6444444444444445
         ]
        },
        "xaxis9": {
         "anchor": "y9",
         "domain": [
          0.7111111111111111,
          1
         ]
        },
        "yaxis": {
         "anchor": "x",
         "domain": [
          0.7875,
          1
         ]
        },
        "yaxis10": {
         "anchor": "x10",
         "domain": [
          0,
          0.2125
         ]
        },
        "yaxis11": {
         "anchor": "x11",
         "domain": [
          0,
          0.2125
         ]
        },
        "yaxis12": {
         "anchor": "x12",
         "domain": [
          0,
          0.2125
         ]
        },
        "yaxis2": {
         "anchor": "x2",
         "domain": [
          0.7875,
          1
         ]
        },
        "yaxis3": {
         "anchor": "x3",
         "domain": [
          0.7875,
          1
         ]
        },
        "yaxis4": {
         "anchor": "x4",
         "domain": [
          0.525,
          0.7375
         ]
        },
        "yaxis5": {
         "anchor": "x5",
         "domain": [
          0.525,
          0.7375
         ]
        },
        "yaxis6": {
         "anchor": "x6",
         "domain": [
          0.525,
          0.7375
         ]
        },
        "yaxis7": {
         "anchor": "x7",
         "domain": [
          0.2625,
          0.475
         ]
        },
        "yaxis8": {
         "anchor": "x8",
         "domain": [
          0.2625,
          0.475
         ]
        },
        "yaxis9": {
         "anchor": "x9",
         "domain": [
          0.2625,
          0.475
         ]
        }
       }
      }
     },
     "metadata": {},
     "output_type": "display_data"
    }
   ],
   "source": [
    "\n",
    "\n",
    "def plot_per_register(df, figname=\"plot\"):\n",
    "    global benchmark_name_map\n",
    "    global register_name_map\n",
    "    global vanilla_registers\n",
    "    fig = make_subplots(\n",
    "        rows=4, cols=3, \n",
    "        subplot_titles=[register_name_map[v] for v in vanilla_registers],\n",
    "        vertical_spacing=0.05,  # Adjust space between subplots\n",
    "        #horizontal_spacing=0.08\n",
    "    )\n",
    "    c_map = create_colormap()\n",
    "    benchmarks = benchmark_name_map.keys()\n",
    "    # Loop over each accuracy metric and add traces to the subplots\n",
    "    for i, register in enumerate(vanilla_registers):\n",
    "        # these are for baseline presentations\n",
    "        add_baseline_rectangle=False\n",
    "        x0, y0, x1, y1 = (0,1,0,1)\n",
    "\n",
    "        col = int(i%3)+1\n",
    "        row = int(i/3) + 1  \n",
    "        label_data = df[df.register == register] \n",
    "        #print(f\"{register} on row {row} column {col}\")\n",
    "        #continue\n",
    "        for bm in benchmarks:\n",
    "            dash_type = \"solid\" #if register in combinations else \"solid\"\n",
    "            fig.add_trace(\n",
    "                go.Scatter(\n",
    "                    x=label_data['tokens'], \n",
    "                    y=label_data[bm], \n",
    "                    mode='lines', \n",
    "                    showlegend=True if row==1 and col==1 else False,\n",
    "                    name=f'{benchmark_name_map.get(bm, bm)}', \n",
    "                    legendgroup=f'{bm}',\n",
    "                    line=dict(color=c_map[bm], width=1.5, dash=dash_type)\n",
    "                ),\n",
    "                row=row, col=col\n",
    "            )\n",
    "            if label_data.min(axis=0)[bm] < random_baselines[bm]: #results are worse than baseline\n",
    "                add_baseline_rectangle = True \n",
    "                x0 = label_data['tokens'].iloc[0] # these are static\n",
    "                x1 = label_data['tokens'].iloc[-1] # does not matter if they are changed multiple times :)\n",
    "                y0 = label_data.min(axis=0)[bm] if label_data.min(axis=0)[bm] < y0 else y0\n",
    "                y1 = random_baselines[bm] # this is also static\n",
    "                #print(f\"Adding baseline thingy on {label} and {accuracy_col}, {label_data.min(axis=0)[accuracy_col]} < {random_baselines[accuracy_col]}\")\n",
    "                \n",
    "        if False: #add_baseline_rectangle:\n",
    "            fig.add_shape(\n",
    "                type=\"rect\",\n",
    "                x0=x0, \n",
    "                x1=x1,\n",
    "                y0=y0,\n",
    "                y1=y1,\n",
    "                fillcolor=\"gray\",\n",
    "                line_color=\"gray\",\n",
    "                opacity=0.2,\n",
    "                row=row, col=col\n",
    "                )\n",
    "                \n",
    "                \n",
    "\n",
    "    # Update layout for better appearance\n",
    "    fig.update_layout(\n",
    "        title=\"\",#\"Accuracy Metrics by Task and Register\",\n",
    "        height=1300,  # Adjust the height of the plot\n",
    "        width=900,\n",
    "        font=dict(family=\"Computer Modern\", size=16),\n",
    "        legend_font_size=20,\n",
    "        title_font_size=20,\n",
    "        #title_font_size=40,\n",
    "        showlegend=True,  # Show legend\n",
    "        template=\"none\",\n",
    "        legend_tracegroupgap=15,\n",
    "        margin=dict(l=50, r=50, t=20, b=20)\n",
    "    )\n",
    "    fig.update_annotations(font_size=20) #subplot titles are annotations\n",
    "    #fig.write_image(f\"sampolle/{figname}.png\", scale=3)\n",
    "\n",
    "\n",
    "    # Show the plot\n",
    "    fig.show()\n",
    "\n",
    "plot_per_register(df_rolled, figname=\"per_register\")"
   ]
  },
  {
   "cell_type": "code",
   "execution_count": 34,
   "metadata": {},
   "outputs": [
    {
     "name": "stdout",
     "output_type": "stream",
     "text": [
      "{'acc_norm_arc_easy': 0.4825817610062893, 'acc_norm_arc_challenge': 0.2630649895178197, 'acc_norm_hellaswag': 0.47973899371069173, 'acc_norm_mmlu': 0.28192972592565735, 'acc_norm_siqa': 0.39956498951781977, 'acc_norm_piqa': 0.7112389937106918, 'acc_norm_winogrande': 0.5314046121593292, 'acc_norm_commonsense_qa': 0.3332410901467506, 'acc_norm_openbookqa': 0.3152327044025158}\n"
     ]
    },
    {
     "name": "stderr",
     "output_type": "stream",
     "text": [
      "/tmp/ipykernel_193016/3144913799.py:3: FutureWarning:\n",
      "\n",
      "The default value of numeric_only in DataFrame.mean is deprecated. In a future version, it will default to False. In addition, specifying 'numeric_only=None' is deprecated. Select only valid columns or specify the value of numeric_only to silence this warning.\n",
      "\n"
     ]
    }
   ],
   "source": [
    "means_per_task = df[df.step == \"50000\"]\n",
    "means_per_task = means_per_task[means_per_task.register.isin(vanilla_registers)]\n",
    "means = df.mean(axis=0)\n",
    "#display(means_per_task)\n",
    "\n",
    "means_per_task = {k: means[k] for k in benchmark_name_map.keys()}\n",
    "print(means_per_task)"
   ]
  },
  {
   "cell_type": "code",
   "execution_count": 35,
   "metadata": {},
   "outputs": [
    {
     "data": {
      "application/vnd.plotly.v1+json": {
       "config": {
        "plotlyServerURL": "https://plot.ly"
       },
       "data": [
        {
         "legendgroup": "acc_norm_arc_easy",
         "line": {
          "color": "rgba(48, 18, 59, 1)",
          "dash": "solid",
          "width": 1.5
         },
         "mode": "lines",
         "name": "ARC Easy",
         "showlegend": true,
         "type": "scatter",
         "x": {
          "bdata": "AAAAQN1K70EAAADwJXj3QQAAAEDdSv9BAAAASMqOA0IAAADwJXgHQgAAAJiBYQtCAAAAQN1KD0IAAAB0HJoRQgAAAEjKjhNCAAAAHHiDFUIAAADwJXgXQgAAAMTTbBlCAAAAmIFhG0IAAABsL1YdQgAAAEDdSh9CAAAAisWfIEIAAAB0HJohQgAAAF5zlCJCAAAASMqOI0IAAAAyIYkkQgAAABx4gyVCAAAABs99JkIAAADwJXgnQgAAANp8cihCAAAAxNNsKUIAAACuKmcqQgAAAJiBYStCAAAAgthbLEIAAABsL1YtQgAAAFaGUC5CAAAAQN1KL0IAAAAVmiIwQgAAAIrFnzBCAAAA//AcMUIAAAB0HJoxQgAAAOlHFzJCAAAAXnOUMkIAAADTnhEzQgAAAEjKjjNCAAAAvfULNEIAAAAyIYk0QgAAAKdMBjVCAAAAHHiDNUIAAACRowA2QgAAAAbPfTZCAAAAe/r6NkIAAADwJXg3QgAAAGVR9TdC",
          "dtype": "f8"
         },
         "xaxis": "x",
         "y": {
          "bdata": "+M8vgGAUtr+whqLSVbOvv1C9cjxZUKa/UBaqmWITlb+ATV8TYH91vwANvv/bGHI/gEmxlPi/iD+wyV7LkaOXPzA0G0AlvJs/EISo15POnj9IhhgwjqujP+ivLZet6aY/qCKWKJtmpj84dzKmk3OhP/gHZ0t2YKU/6L4TIaghqT84Ej7v5p2vP0hqd6OvFK4/6HXA9tnirD9IW5EZtdyrP2jRluFyw64/JBiFAe4Gsj+kH3hG6yKzP6QfeEbrIrM/JBiFAe4Gsj9E193zeSyxP3xROcpkxbE/vCPOVBjVsD8sxKFbUkKxP3SWNuYFUrA/FLFlwypYsT+MqXJ+LTywP4T9VSTJALE/dKUccACKsj8EFC/zwFS0PxTPMdcfyLU/JHtOMYQDtT8UzzHXH8i1P2RN47s3E7Q/ZPn/FZxOsz9EK8GZFfGxP6QfeEbrIrM/dLQC+vrBtD/M7bbCcYC0P3S0Avr6wbQ/NOJtb0eytT9ESY2tCmG2P7TaeipKlrQ/",
          "dtype": "f8"
         },
         "yaxis": "y"
        },
        {
         "legendgroup": "acc_norm_arc_challenge",
         "line": {
          "color": "rgba(68, 96, 208, 1)",
          "dash": "dot",
          "width": 1.5
         },
         "mode": "lines",
         "name": "ARC Challenge",
         "showlegend": true,
         "type": "scatter",
         "x": {
          "bdata": "AAAAQN1K70EAAADwJXj3QQAAAEDdSv9BAAAASMqOA0IAAADwJXgHQgAAAJiBYQtCAAAAQN1KD0IAAAB0HJoRQgAAAEjKjhNCAAAAHHiDFUIAAADwJXgXQgAAAMTTbBlCAAAAmIFhG0IAAABsL1YdQgAAAEDdSh9CAAAAisWfIEIAAAB0HJohQgAAAF5zlCJCAAAASMqOI0IAAAAyIYkkQgAAABx4gyVCAAAABs99JkIAAADwJXgnQgAAANp8cihCAAAAxNNsKUIAAACuKmcqQgAAAJiBYStCAAAAgthbLEIAAABsL1YtQgAAAFaGUC5CAAAAQN1KL0IAAAAVmiIwQgAAAIrFnzBCAAAA//AcMUIAAAB0HJoxQgAAAOlHFzJCAAAAXnOUMkIAAADTnhEzQgAAAEjKjjNCAAAAvfULNEIAAAAyIYk0QgAAAKdMBjVCAAAAHHiDNUIAAACRowA2QgAAAAbPfTZCAAAAe/r6NkIAAADwJXg3QgAAAGVR9TdC",
          "dtype": "f8"
         },
         "xaxis": "x",
         "y": {
          "bdata": "CAH0WUFTmb9QuNuxVx+MvwCHkDKnknu/IBUkTKqQgr9AVc+uLfB8vwC6Pb+yYGa/AOAUskOBbT/gEzhDGGWGP0BCXJDBnYE/YOUT9m4siz8At++oxfOPPwCPh3NEUZA/wOiwLD+Wjj9AF9V56M6JP7CptlBpV5E/MBRzxfxvlT9AmV4XtY6aP3BnnZM77Js/sMeCZF7HlT/Qd/XM77SSPwBGNEl2EpQ/8BqtMp1DnD8wUAvt5k+eP/AarTKdQ5w/YAB+VXg9mz+QFxD8zNmYP0C3Kiuq/p4/0CnUkdvcoD+AqyKtw5GiP1jd4zA9NKE/MFAL7eZPnj+AzrzR/pqcPyDp664joZ0/wAMbjEinnj+wanufT7ehP+iQ88+ei6E/+PcSDmI6oj+gEkLrhkCjP5C6CDe+yaQ/4EegpdBMpT9Y3eMwPTShP1C3Kiuq/p4/uMK0UxguoD84Hos+sQ6iPzDVNxTjz6U/UJSQBm/1pD9Yo3aQaS2nP0AtccirRqQ/",
          "dtype": "f8"
         },
         "yaxis": "y"
        },
        {
         "legendgroup": "acc_norm_hellaswag",
         "line": {
          "color": "rgba(54, 167, 248, 1)",
          "dash": "solid",
          "width": 1.5
         },
         "mode": "lines",
         "name": "Hellaswag",
         "showlegend": true,
         "type": "scatter",
         "x": {
          "bdata": "AAAAQN1K70EAAADwJXj3QQAAAEDdSv9BAAAASMqOA0IAAADwJXgHQgAAAJiBYQtCAAAAQN1KD0IAAAB0HJoRQgAAAEjKjhNCAAAAHHiDFUIAAADwJXgXQgAAAMTTbBlCAAAAmIFhG0IAAABsL1YdQgAAAEDdSh9CAAAAisWfIEIAAAB0HJohQgAAAF5zlCJCAAAASMqOI0IAAAAyIYkkQgAAABx4gyVCAAAABs99JkIAAADwJXgnQgAAANp8cihCAAAAxNNsKUIAAACuKmcqQgAAAJiBYStCAAAAgthbLEIAAABsL1YtQgAAAFaGUC5CAAAAQN1KL0IAAAAVmiIwQgAAAIrFnzBCAAAA//AcMUIAAAB0HJoxQgAAAOlHFzJCAAAAXnOUMkIAAADTnhEzQgAAAEjKjjNCAAAAvfULNEIAAAAyIYk0QgAAAKdMBjVCAAAAHHiDNUIAAACRowA2QgAAAAbPfTZCAAAAe/r6NkIAAADwJXg3QgAAAGVR9TdC",
          "dtype": "f8"
         },
         "xaxis": "x",
         "y": {
          "bdata": "sFO/vq1lvr88wKa6V1exv8BUDYd5l6C/ILx/4b/lgb8AxQoUJKV5P3Byhn7rZ5Q/oBU+5Jj2nT8A6EN4zZCiPxBPY7aQP6M/0NCx0Xj0pD+wID9p5waoPxAzwimyqK0/yE4/z6LgsD84Q/Z7eBKyP0iqFbo7wbI/aL1RUmOrsj8A2IAviLGzP8ixCP843bM/oPKvDK23tD8o+qJRqtO1P9h78WySiLc/yM/UEi5NuD9gLwEM9N+3P6ABlpan77Y/oFV5PEO0tz/gNvRQ8fu4PwBKMOkY5rg/6Db0UPH7uD/Iz9QSLk24P5ipXOLeeLg/QBzFc8z1tz8gXWyBQNC4P5i4QmzZsLo/2N66nCiFuj9gPueV7he6P0grq/3GLbo/kAwmEnV1uz+Yxyj20+i8P7jaZI770rw/4Jm9gIf4uz+QDCYSdXW7P1jmreElobs/qB9iqpxfuz94pQbUsca6PwgFM813Wbo/6EXa2uszuz9Y5q3hJaG7P8CGgehfDrw/",
          "dtype": "f8"
         },
         "yaxis": "y"
        },
        {
         "legendgroup": "acc_norm_mmlu",
         "line": {
          "color": "rgba(33, 226, 181, 1)",
          "dash": "solid",
          "width": 1.5
         },
         "mode": "lines",
         "name": "MMLU",
         "showlegend": true,
         "type": "scatter",
         "x": {
          "bdata": "AAAAQN1K70EAAADwJXj3QQAAAEDdSv9BAAAASMqOA0IAAADwJXgHQgAAAJiBYQtCAAAAQN1KD0IAAAB0HJoRQgAAAEjKjhNCAAAAHHiDFUIAAADwJXgXQgAAAMTTbBlCAAAAmIFhG0IAAABsL1YdQgAAAEDdSh9CAAAAisWfIEIAAAB0HJohQgAAAF5zlCJCAAAASMqOI0IAAAAyIYkkQgAAABx4gyVCAAAABs99JkIAAADwJXgnQgAAANp8cihCAAAAxNNsKUIAAACuKmcqQgAAAJiBYStCAAAAgthbLEIAAABsL1YtQgAAAFaGUC5CAAAAQN1KL0IAAAAVmiIwQgAAAIrFnzBCAAAA//AcMUIAAAB0HJoxQgAAAOlHFzJCAAAAXnOUMkIAAADTnhEzQgAAAEjKjjNCAAAAvfULNEIAAAAyIYk0QgAAAKdMBjVCAAAAHHiDNUIAAACRowA2QgAAAAbPfTZCAAAAe/r6NkIAAADwJXg3QgAAAGVR9TdC",
          "dtype": "f8"
         },
         "xaxis": "x",
         "y": {
          "bdata": "0Do06Y8MmL/QVraBt/ORv2DJSaXN0o+/oOAbqnHOiL/A3Q4VS+iFv4BN4GoSw36/APn7UNqjfr/AhDNKEAh8vwAeUlx9nXi/wCB5xBPxdL+A6YeduWFrv4B9cN2Xj2S/ANl28hYgVz8A5+UP+9xWPwDWOMcqY0s/ANjcEc26Xb8ARgwYrIJUvwC4Z1onuy4/AGVgiDHUXT+AnBnqYEBsP8CP2AIfBnY/gC6rC82EdT9AqKaDxL9wP4AOgHGp32g/gNCi5qP6cD/AJ4LhwNJ7P8C6TXQ8In4/gB3dBfz2fz+Ad6RxXiV3P4AqHxEilXg/wJ4XWQIWcj9Ay6no1Bt6P4B3lVBSing/ILWkA2dqgT9gENgeBQqAP6DyBZXPbIE/gHaUUyIaeT+Azv0zfBR/P0Ddya0R/X8/QJkmS7fDgz8giGKXPV+AP8DjUk0EXIE/YOaApzZ5gj/A0ZdTKXyEP0A8ZT9eC4U/YED05zR+hD+gKyj1nDqEP6B2RxZ70YI/",
          "dtype": "f8"
         },
         "yaxis": "y"
        },
        {
         "legendgroup": "acc_norm_siqa",
         "line": {
          "color": "rgba(112, 252, 97, 1)",
          "dash": "dot",
          "width": 1.5
         },
         "mode": "lines",
         "name": "SIQA",
         "showlegend": true,
         "type": "scatter",
         "x": {
          "bdata": "AAAAQN1K70EAAADwJXj3QQAAAEDdSv9BAAAASMqOA0IAAADwJXgHQgAAAJiBYQtCAAAAQN1KD0IAAAB0HJoRQgAAAEjKjhNCAAAAHHiDFUIAAADwJXgXQgAAAMTTbBlCAAAAmIFhG0IAAABsL1YdQgAAAEDdSh9CAAAAisWfIEIAAAB0HJohQgAAAF5zlCJCAAAASMqOI0IAAAAyIYkkQgAAABx4gyVCAAAABs99JkIAAADwJXgnQgAAANp8cihCAAAAxNNsKUIAAACuKmcqQgAAAJiBYStCAAAAgthbLEIAAABsL1YtQgAAAFaGUC5CAAAAQN1KL0IAAAAVmiIwQgAAAIrFnzBCAAAA//AcMUIAAAB0HJoxQgAAAOlHFzJCAAAAXnOUMkIAAADTnhEzQgAAAEjKjjNCAAAAvfULNEIAAAAyIYk0QgAAAKdMBjVCAAAAHHiDNUIAAACRowA2QgAAAAbPfTZCAAAAe/r6NkIAAADwJXg3QgAAAGVR9TdC",
          "dtype": "f8"
         },
         "xaxis": "x",
         "y": {
          "bdata": "AP6RpVX0hL8AUjJ4XYZ5vwBoB6QkGl+/AFCBSh9IYr8ACjXAeYNCv4Ds/kIsA2W/AM/Ixd6CVz8ACMS2+PhcPwA8XUyW8mM/AM/Ixd6CVz8Az8jF3oJXPwAKNcB5g0K/AJhcy0OCPD8AaPp4F10uvwDZ2kSjrWY/AHOnD3Iqcj8Ac6cPcipyPwCg31OJN2E/ALykx1UtST8AaAekJBpfvwCQXMtDgjw/gFCBSh9IYr8APV1MlvJjPwA9XUyW8mM/ANnaRKOtZj8ACjXAeYNCvwAwDLMKpFm/gOz+QiwDZb8AoN9TiTdhPwCJfDs5vme/APYQwvAtVL8AMAyzCqRZvwBzpw9yKnI/AKVok+vMcD8AB8S2+PhcPwB8K6Ktb02/AAfEtvj4XD8AmFzLQ4I8PwB6K6Ktb02/AIl8Ozm+Z78AJfozRnlqvwB6K6Ktb02/AMC+HXCnGj8ACjXAeYNCvwC8pMdVLUk/AHoroq1vTb8A2dpEo61mP8CrogCMoHc/",
          "dtype": "f8"
         },
         "yaxis": "y"
        },
        {
         "legendgroup": "acc_norm_piqa",
         "line": {
          "color": "rgba(199, 236, 54, 1)",
          "dash": "solid",
          "width": 1.5
         },
         "mode": "lines",
         "name": "PIQA",
         "showlegend": true,
         "type": "scatter",
         "x": {
          "bdata": "AAAAQN1K70EAAADwJXj3QQAAAEDdSv9BAAAASMqOA0IAAADwJXgHQgAAAJiBYQtCAAAAQN1KD0IAAAB0HJoRQgAAAEjKjhNCAAAAHHiDFUIAAADwJXgXQgAAAMTTbBlCAAAAmIFhG0IAAABsL1YdQgAAAEDdSh9CAAAAisWfIEIAAAB0HJohQgAAAF5zlCJCAAAASMqOI0IAAAAyIYkkQgAAABx4gyVCAAAABs99JkIAAADwJXgnQgAAANp8cihCAAAAxNNsKUIAAACuKmcqQgAAAJiBYStCAAAAgthbLEIAAABsL1YtQgAAAFaGUC5CAAAAQN1KL0IAAAAVmiIwQgAAAIrFnzBCAAAA//AcMUIAAAB0HJoxQgAAAOlHFzJCAAAAXnOUMkIAAADTnhEzQgAAAEjKjjNCAAAAvfULNEIAAAAyIYk0QgAAAKdMBjVCAAAAHHiDNUIAAACRowA2QgAAAAbPfTZCAAAAe/r6NkIAAADwJXg3QgAAAGVR9TdC",
          "dtype": "f8"
         },
         "xaxis": "x",
         "y": {
          "bdata": "AN5O515oo78A166+5OuCv0CA0R2HQoE/IJVheGrSkD/gzVxphEiWP6DUltYkHJ0/gL0EMNB/nz+A4FAz0HShP7Cuj69W0qI/gA0D0b8cqD/AM3sBD/GnPwBp2btY/ak/wDN7AQ/xpz/AQmGLCSmqPxDQ+PkbrKo/wFFHFQRhrD9Anjd2ogmsP7DbQU1Geqk/kIMImX0Dqz+w20FNRnqpP0CeN3aiCaw/wEJhiwkpqj8Q396DFuSsP1AFV7RluKw/8LhmU8cPrT/A+Q1hO+qtP1AUPT5g8K4/IN4Bxcs8sD8gMuVqZwGxP6jl9AnJWLE/eGuZM96/sD9gBHr1GhGwP7iREWQtlLA/OJkEqSqwsT+o5fQJyVixP0isQEFSmrE/+HKMeNvbsT8Yla6a/f2zPyBBy/RhObM/CNqrtp6Ksj9ARSEDj+uwPwjLxSykUrA/mH7VywWqsD9gWF2bttWwP/hyjHjb27E/oDnYr2Qdsj/4xm8ed6CyPyBBy/RhObM/",
          "dtype": "f8"
         },
         "yaxis": "y"
        },
        {
         "legendgroup": "acc_norm_winogrande",
         "line": {
          "color": "rgba(247, 184, 54, 1)",
          "dash": "solid",
          "width": 1.5
         },
         "mode": "lines",
         "name": "WinoGrande",
         "showlegend": true,
         "type": "scatter",
         "x": {
          "bdata": "AAAAQN1K70EAAADwJXj3QQAAAEDdSv9BAAAASMqOA0IAAADwJXgHQgAAAJiBYQtCAAAAQN1KD0IAAAB0HJoRQgAAAEjKjhNCAAAAHHiDFUIAAADwJXgXQgAAAMTTbBlCAAAAmIFhG0IAAABsL1YdQgAAAEDdSh9CAAAAisWfIEIAAAB0HJohQgAAAF5zlCJCAAAASMqOI0IAAAAyIYkkQgAAABx4gyVCAAAABs99JkIAAADwJXgnQgAAANp8cihCAAAAxNNsKUIAAACuKmcqQgAAAJiBYStCAAAAgthbLEIAAABsL1YtQgAAAFaGUC5CAAAAQN1KL0IAAAAVmiIwQgAAAIrFnzBCAAAA//AcMUIAAAB0HJoxQgAAAOlHFzJCAAAAXnOUMkIAAADTnhEzQgAAAEjKjjNCAAAAvfULNEIAAAAyIYk0QgAAAKdMBjVCAAAAHHiDNUIAAACRowA2QgAAAAbPfTZCAAAAe/r6NkIAAADwJXg3QgAAAGVR9TdC",
          "dtype": "f8"
         },
         "xaxis": "x",
         "y": {
          "bdata": "uKsCwnXVo79gD4XJaBqhv2BkwIbPCZu/oOJxa+dUmb/A27ylxv2FvwB07OBVLki/gJMEZlccfz8AUO2meYJDPwByceFEjVG/gDgPjxhoc7+AOA+PGGhzvwCqBXFMVH6/QNgfb/aTgr8ACOz9Q4Q6vwCGkIsWdXE/gMXF6dC+fT8AwO2JiywxPwByceFEjVG/AFDtpnmCQz+AxcXp0L59P0CC/aNFBIU/QBveZYJVhD9ATZ/p+/eCPwCGkIsWdXE/ALhRD5AXcD+A8EwAqo11P0CC/aNFBIU/AFTZVpzLiT9AG95lglWEP0DwVk+phow/QFd2jWw1jT8AYRkBAKeQP0DwVk+phow/gL6Vyy/kjT8AVNlWnMuJP4CTBGZXHH8/gFoJdT2meT+Agv2jRQSFP8DpHOIIs4U/QIL9o0UEhT+A6RziCLOFPyAvWH2GBJI/4BfG1jFolD9AIhjTIimLP0CC/aNFBIU/wB57nFK/hz9AiTcR5teLPwAiGNMiKYs/",
          "dtype": "f8"
         },
         "yaxis": "y"
        },
        {
         "legendgroup": "acc_norm_commonsense_qa",
         "line": {
          "color": "rgba(244, 105, 24, 1)",
          "dash": "dot",
          "width": 1.5
         },
         "mode": "lines",
         "name": "CommonsenseQA",
         "showlegend": true,
         "type": "scatter",
         "x": {
          "bdata": "AAAAQN1K70EAAADwJXj3QQAAAEDdSv9BAAAASMqOA0IAAADwJXgHQgAAAJiBYQtCAAAAQN1KD0IAAAB0HJoRQgAAAEjKjhNCAAAAHHiDFUIAAADwJXgXQgAAAMTTbBlCAAAAmIFhG0IAAABsL1YdQgAAAEDdSh9CAAAAisWfIEIAAAB0HJohQgAAAF5zlCJCAAAASMqOI0IAAAAyIYkkQgAAABx4gyVCAAAABs99JkIAAADwJXgnQgAAANp8cihCAAAAxNNsKUIAAACuKmcqQgAAAJiBYStCAAAAgthbLEIAAABsL1YtQgAAAFaGUC5CAAAAQN1KL0IAAAAVmiIwQgAAAIrFnzBCAAAA//AcMUIAAAB0HJoxQgAAAOlHFzJCAAAAXnOUMkIAAADTnhEzQgAAAEjKjjNCAAAAvfULNEIAAAAyIYk0QgAAAKdMBjVCAAAAHHiDNUIAAACRowA2QgAAAAbPfTZCAAAAe/r6NkIAAADwJXg3QgAAAGVR9TdC",
          "dtype": "f8"
         },
         "xaxis": "x",
         "y": {
          "bdata": "MAwXyC3xq794e+IiSwSov5gcbwHiuaK/qHSotaowob+w+aikCSqZv4B0vVJRC5S/YNsGy2Fvir+AQiYJJR6Lv0A/X5gH/5G/ECjN8bJilL+gvRB9H0qQv0ANyE7bEYm/gMas9xpfcb8AxsXp0L5NvwAN+YHAI2E/AHAKgDLeSD8AcAqAMt5IP4Bir5enlnc/wOnSvG1BgT8A/yyQtFF6P4AptKaNIHI/AHEAMTPlUT8AG21cActuPwD48iIUfnM/AM1rDDuvez8AKrSmjSByP0CUcBshOXY/ABttXAHLbj/AgrN+qpKAPwD48iIUfnM/AKp2es3eYz+AG2MNAtJnvwCQY5ekmS+/gCm0po0gcj8A6tK8bUGBPwBR8vow8IE/ACq0po0gcj8A+PIiFH5zP4C7rm/ECIY/EBghRGQvkj8AsQEGoYCRP6DwDCoOFYg/AL9LppRyiT8gW8meoS2MPyAfMXe3TYM/QGKvl6eWdz9AxjGfmtt0P6DwDCoOFYg/",
          "dtype": "f8"
         },
         "yaxis": "y"
        },
        {
         "legendgroup": "acc_norm_openbookqa",
         "line": {
          "color": "rgba(199, 42, 4, 1)",
          "dash": "solid",
          "width": 1.5
         },
         "mode": "lines",
         "name": "OpenbookQA",
         "showlegend": true,
         "type": "scatter",
         "x": {
          "bdata": "AAAAQN1K70EAAADwJXj3QQAAAEDdSv9BAAAASMqOA0IAAADwJXgHQgAAAJiBYQtCAAAAQN1KD0IAAAB0HJoRQgAAAEjKjhNCAAAAHHiDFUIAAADwJXgXQgAAAMTTbBlCAAAAmIFhG0IAAABsL1YdQgAAAEDdSh9CAAAAisWfIEIAAAB0HJohQgAAAF5zlCJCAAAASMqOI0IAAAAyIYkkQgAAABx4gyVCAAAABs99JkIAAADwJXgnQgAAANp8cihCAAAAxNNsKUIAAACuKmcqQgAAAJiBYStCAAAAgthbLEIAAABsL1YtQgAAAFaGUC5CAAAAQN1KL0IAAAAVmiIwQgAAAIrFnzBCAAAA//AcMUIAAAB0HJoxQgAAAOlHFzJCAAAAXnOUMkIAAADTnhEzQgAAAEjKjjNCAAAAvfULNEIAAAAyIYk0QgAAAKdMBjVCAAAAHHiDNUIAAACRowA2QgAAAAbPfTZCAAAAe/r6NkIAAADwJXg3QgAAAGVR9TdC",
          "dtype": "f8"
         },
         "xaxis": "x",
         "y": {
          "bdata": "ID0ddvp5pr/AOYA/KhCjv/DMq+LWJ5m/wP5sZlDKl7/gGu0IObyJvwB+dGTjbnW/gOPiG/n8eD+A4+Ib+fx4P6B4K/scUoM/gA5qMtLLcD9AR2Uj7EF2PwCAYBQGuHs/wBvjYMrgjD/AG+NgyuCMP0CxJuw2yIg/QLEm7DbIiD+Qxmwhf+aTPwDKCVhPUJc/wJSrnQVElT8guGBZ15uPP1CRDmc12pE/0PvK28jylT/Q0EPF7yOeP8CEH9sEzaE/yOs+Gch7oj8w0Q88o3WhPwgD0b8cGKA/CAPRvxwYoD/AhB/bBM2hP+A3YwOz0p4/YJ9OuCnToj/AhB/bBM2hPzDv20+Y5aU/CCGd0xGIpD+IbY00sDCkP6gdAJ1BHqE/kLbgXn5voD/AhB/bBM2hP6AdAJ1BHqE/0Os+Gch7oj8IA9G/HBigP+A3YwOz0p4/gDTGzOJomz8gmEjU1a2YP8BpJIcsdZ0/oAIFSWnGnD+gAgVJacacPwCfgkF2gZ8/",
          "dtype": "f8"
         },
         "yaxis": "y"
        },
        {
         "legendgroup": "acc_norm_arc_easy",
         "line": {
          "color": "rgba(48, 18, 59, 1)",
          "dash": "solid",
          "width": 1.5
         },
         "mode": "lines",
         "name": "ARC Easy",
         "showlegend": false,
         "type": "scatter",
         "x": {
          "bdata": "AAAAQN1K70EAAADwJXj3QQAAAEDdSv9BAAAASMqOA0IAAADwJXgHQgAAAJiBYQtCAAAAQN1KD0IAAAB0HJoRQgAAAEjKjhNCAAAAHHiDFUIAAADwJXgXQgAAAMTTbBlCAAAAmIFhG0IAAABsL1YdQgAAAEDdSh9CAAAAisWfIEIAAAB0HJohQgAAAF5zlCJCAAAASMqOI0IAAAAyIYkkQgAAABx4gyVCAAAABs99JkIAAADwJXgnQgAAANp8cihCAAAAxNNsKUIAAACuKmcqQgAAAJiBYStCAAAAgthbLEIAAABsL1YtQgAAAFaGUC5CAAAAQN1KL0IAAAAVmiIwQgAAAIrFnzBCAAAA//AcMUIAAAB0HJoxQgAAAOlHFzJCAAAAXnOUMkIAAADTnhEzQgAAAEjKjjNCAAAAvfULNEIAAAAyIYk0QgAAAKdMBjVCAAAAHHiDNUIAAACRowA2QgAAAAbPfTZCAAAAe/r6NkIAAADwJXg3QgAAAGVR9TdC",
          "dtype": "f8"
         },
         "xaxis": "x2",
         "y": {
          "bdata": "YPkKZEMwr7/gBVJgrkqev4AbQyK0FYm/AI62AUl0VL+AdDir0Y6AP8DCJF7xz5A/0DB+CVVSmD/okWGDuHmiP+igRw2zsaQ/aLPKzX1Tqj+IgQlKBLGrP7wjzlQY1bA/vCPOVBjVsD9EK8GZFfGxP2TqGYyhFrE/5PEM0Z4ysj/k8QzRnjKyP3xgH1Rf/bM/VKHGYdPXtD9kXMlFMku2P3TD6IP1+bY/bBfMKZG+tz9UE3YbZAy6P7RMKuTayrk/NEU3n92uuD9UBJCRadS3P/zK28jyFbg/XBN2G2QMuj/82cFS7U26P7RbEG7VArw//DyLgoNKvT9cIlylXkS8PwTpp9znhbw/JKgAz3Oruz8E6afc54W8P9QaaWBhKLs/VGdZwf/Quj8MlcQ2TMG7P1R2P0v6CL0/tL7ZnWv/vj907EQTuO+/Pzxy6TzNVr8/1NEVNpPpvj9Udj9L+gi9P7RbEG7VArw/9C2l+IgSuz/cGmlgYSi7P8QWE1I0dr0/",
          "dtype": "f8"
         },
         "yaxis": "y2"
        },
        {
         "legendgroup": "acc_norm_arc_challenge",
         "line": {
          "color": "rgba(68, 96, 208, 1)",
          "dash": "dot",
          "width": 1.5
         },
         "mode": "lines",
         "name": "ARC Challenge",
         "showlegend": false,
         "type": "scatter",
         "x": {
          "bdata": "AAAAQN1K70EAAADwJXj3QQAAAEDdSv9BAAAASMqOA0IAAADwJXgHQgAAAJiBYQtCAAAAQN1KD0IAAAB0HJoRQgAAAEjKjhNCAAAAHHiDFUIAAADwJXgXQgAAAMTTbBlCAAAAmIFhG0IAAABsL1YdQgAAAEDdSh9CAAAAisWfIEIAAAB0HJohQgAAAF5zlCJCAAAASMqOI0IAAAAyIYkkQgAAABx4gyVCAAAABs99JkIAAADwJXgnQgAAANp8cihCAAAAxNNsKUIAAACuKmcqQgAAAJiBYStCAAAAgthbLEIAAABsL1YtQgAAAFaGUC5CAAAAQN1KL0IAAAAVmiIwQgAAAIrFnzBCAAAA//AcMUIAAAB0HJoxQgAAAOlHFzJCAAAAXnOUMkIAAADTnhEzQgAAAEjKjjNCAAAAvfULNEIAAAAyIYk0QgAAAKdMBjVCAAAAHHiDNUIAAACRowA2QgAAAAbPfTZCAAAAe/r6NkIAAADwJXg3QgAAAGVR9TdC",
          "dtype": "f8"
         },
         "xaxis": "x2",
         "y": {
          "bdata": "KLFmwtJAlr+Q34oPfHmRvwCuBA7n4YG/AEflzyMzgb8AHsDGpaVjvwATwj5PT3g/4E/QagJFjz/g6LAsP5aOP+ATOEMYZYY/QH70t6t9ij/AgZHue+eNPwBGNEl2EpQ/oGBjJpsYlT+AFxD8zNmYPzB7kgPAHpY/IMsfmy4xmT/ALqKiIXaWP8BMbrYW5po/AEY0SXYSlD+gYGMmmxiVPxCPh3NEUZA/oBcQ/MzZmD/w/OAeqNOXPxCCzHBg8pw/oBcQ/MzZmD9wZ52TO+ybPzBQC+3mT54/0CnUkdvcoD+YA1xhjAihP/joLIRnAqA/uMK0UxguoD/QKdSR29ygP7jCtFMYLqA/mANcYYwIoT/gkPPPnouhPwgW3yFXqqY/kLoIN77JpD9o+69EMqSlPyDGUYrol6M/kLoIN77JpD+Qugg3vsmkP+iQ88+ei6E/ILdrAO5foT9Atyorqv6ePwAH+ZdccqQ/UJSQBm/1pD9APFdSpn6mP3hT6fj6GqQ/",
          "dtype": "f8"
         },
         "yaxis": "y2"
        },
        {
         "legendgroup": "acc_norm_hellaswag",
         "line": {
          "color": "rgba(54, 167, 248, 1)",
          "dash": "solid",
          "width": 1.5
         },
         "mode": "lines",
         "name": "Hellaswag",
         "showlegend": false,
         "type": "scatter",
         "x": {
          "bdata": "AAAAQN1K70EAAADwJXj3QQAAAEDdSv9BAAAASMqOA0IAAADwJXgHQgAAAJiBYQtCAAAAQN1KD0IAAAB0HJoRQgAAAEjKjhNCAAAAHHiDFUIAAADwJXgXQgAAAMTTbBlCAAAAmIFhG0IAAABsL1YdQgAAAEDdSh9CAAAAisWfIEIAAAB0HJohQgAAAF5zlCJCAAAASMqOI0IAAAAyIYkkQgAAABx4gyVCAAAABs99JkIAAADwJXgnQgAAANp8cihCAAAAxNNsKUIAAACuKmcqQgAAAJiBYStCAAAAgthbLEIAAABsL1YtQgAAAFaGUC5CAAAAQN1KL0IAAAAVmiIwQgAAAIrFnzBCAAAA//AcMUIAAAB0HJoxQgAAAOlHFzJCAAAAXnOUMkIAAADTnhEzQgAAAEjKjjNCAAAAvfULNEIAAAAyIYk0QgAAAKdMBjVCAAAAHHiDNUIAAACRowA2QgAAAAbPfTZCAAAAe/r6NkIAAADwJXg3QgAAAGVR9TdC",
          "dtype": "f8"
         },
         "xaxis": "x2",
         "y": {
          "bdata": "ZM8eOMm+xL/auEVp0WrBv6xE2TSzLby/tI0sX4FsuL+sb2BLjPyzvyxobQaP4LK/YH//rON8sL9AoyhvLhmvv3ir1IuIfaq/IA9Xk3vCp7/Ictmabgelv8hj8xB0z6K/eMd1GGcUoL9YCB0m2+6gvxjipPWLGqG/AD9emV8Wnb+whBSNXeuVv4CYCf3hHZC/cJgJ/eEdkL+ALXbD89GMv6Bi1H093o6/sM1ntysqkr9wT7bSE9+Tv0CBd1aNgZK/UOiWlFAwk7+wZkh5aHuRv6D7tD96L46/YLx/4b/lgb8A7kBlOYiAvwDIovY8oW6/AMtrZaqRUb9AjA8jCi90P0BaTp+QjHU/ADRpEz+VXz/AKI0bF+p2PwAiU652FnA/AM3BfiXrgD8A8JEq/XNxP0Avx4i3vX0/AM3BfiXrgD8gmwD7q0iCPwDFChQkpXk/IJsA+6tIgj+gBb1vP2GGPwCiOmhMHIk/gAz33N80jT+g2jVZZpKOP0A9KMShW5I/",
          "dtype": "f8"
         },
         "yaxis": "y2"
        },
        {
         "legendgroup": "acc_norm_mmlu",
         "line": {
          "color": "rgba(33, 226, 181, 1)",
          "dash": "solid",
          "width": 1.5
         },
         "mode": "lines",
         "name": "MMLU",
         "showlegend": false,
         "type": "scatter",
         "x": {
          "bdata": "AAAAQN1K70EAAADwJXj3QQAAAEDdSv9BAAAASMqOA0IAAADwJXgHQgAAAJiBYQtCAAAAQN1KD0IAAAB0HJoRQgAAAEjKjhNCAAAAHHiDFUIAAADwJXgXQgAAAMTTbBlCAAAAmIFhG0IAAABsL1YdQgAAAEDdSh9CAAAAisWfIEIAAAB0HJohQgAAAF5zlCJCAAAASMqOI0IAAAAyIYkkQgAAABx4gyVCAAAABs99JkIAAADwJXgnQgAAANp8cihCAAAAxNNsKUIAAACuKmcqQgAAAJiBYStCAAAAgthbLEIAAABsL1YtQgAAAFaGUC5CAAAAQN1KL0IAAAAVmiIwQgAAAIrFnzBCAAAA//AcMUIAAAB0HJoxQgAAAOlHFzJCAAAAXnOUMkIAAADTnhEzQgAAAEjKjjNCAAAAvfULNEIAAAAyIYk0QgAAAKdMBjVCAAAAHHiDNUIAAACRowA2QgAAAAbPfTZCAAAAe/r6NkIAAADwJXg3QgAAAGVR9TdC",
          "dtype": "f8"
         },
         "xaxis": "x2",
         "y": {
          "bdata": "4MqplRtTkL8gTY/vRayBvwAhgm6Y/nG/AKKdUDocTL8A2tWpdwVYP4Ap9SHHiWs/QLaQpYxEeT/gEw8AzoCBPyBlIsvDXYQ/4F/f+1n0gj9gzUYHlVGIPyCbqLplBIw/oEfypeYIjT9g2gQxOG6KP8D2tLSHAYs/oJR6C3Zwjj+Qst4n956QPwAktE36ppI/oDZLVfNpkz/g4OZJk1eUPzBi3wlXfZQ/YFCT5ritlT+Qq3vdQ5KWP7A5KTdlG5Y/0CfwndzZlD8wsTmZIG2UP2BvG92sApU/AM3xGSdilz8w3QfyQoaZP8DwZVK0+Zs/MNCOUdthnD+wPl9w52acP5BLAWKlMJw/8OW9TxmqnD+wK9IvqxmbP2DJVO+TyJk/IIpLhTtBmT8QrG++9EOaP6CHNVJrEJw/8A1UWHL9mz9gS82SOx6cP8B+NGglr5o/0PCOLvoOnD8AF9YzwpSbPzCct/seaZw/sGJJoyEVnD8gGg758y+cP2BZk6/YU5w/",
          "dtype": "f8"
         },
         "yaxis": "y2"
        },
        {
         "legendgroup": "acc_norm_siqa",
         "line": {
          "color": "rgba(112, 252, 97, 1)",
          "dash": "dot",
          "width": 1.5
         },
         "mode": "lines",
         "name": "SIQA",
         "showlegend": false,
         "type": "scatter",
         "x": {
          "bdata": "AAAAQN1K70EAAADwJXj3QQAAAEDdSv9BAAAASMqOA0IAAADwJXgHQgAAAJiBYQtCAAAAQN1KD0IAAAB0HJoRQgAAAEjKjhNCAAAAHHiDFUIAAADwJXgXQgAAAMTTbBlCAAAAmIFhG0IAAABsL1YdQgAAAEDdSh9CAAAAisWfIEIAAAB0HJohQgAAAF5zlCJCAAAASMqOI0IAAAAyIYkkQgAAABx4gyVCAAAABs99JkIAAADwJXgnQgAAANp8cihCAAAAxNNsKUIAAACuKmcqQgAAAJiBYStCAAAAgthbLEIAAABsL1YtQgAAAFaGUC5CAAAAQN1KL0IAAAAVmiIwQgAAAIrFnzBCAAAA//AcMUIAAAB0HJoxQgAAAOlHFzJCAAAAXnOUMkIAAADTnhEzQgAAAEjKjjNCAAAAvfULNEIAAAAyIYk0QgAAAKdMBjVCAAAAHHiDNUIAAACRowA2QgAAAAbPfTZCAAAAe/r6NkIAAADwJXg3QgAAAGVR9TdC",
          "dtype": "f8"
         },
         "xaxis": "x2",
         "y": {
          "bdata": "gO6vcGpBfL8AMAyzCqRZvwAl+jNGeWq/AITz+9YoeL8AhPP71ih4vwD2EMLwLVS/gEHmi/iHcz/A5J3xpRZ9PwDY2kSjrWY/ADAMswqkWb8AaAekJBpfvwDAvh1wpxo/AGgHpCQaX79AIHH04+N6vwBe9SRg72+/ACX6M0Z5ar8AvKTHVS1JPwCUXMtDgjw/AKDfU4k3YT8AmFzLQ4I8PwD2EMLwLVS/AMF3LFM0bb8A9hDC8C1UvwCJfDs5vme/AJBcy0OCPD8AXvUkYO9vvwCJfDs5vme/oGEUrUg5gr9A7q9wakF8v4CIfDs5vme/AAo1wHmDQr8AwncsUzRtv8DIM+sL6IK/wGEUrUg5gr+AvO7s8J59v0BL+Aq9snK/AH25jjZVcb+AiHw7Ob5nvwBe9SRg72+/oPr0boWKgb+AvO7s8J59v4AstvL+LIC/gO6vcGpBfL8gZbHjGKOFvwCXcmeSRYS/gJPVMMLbgL+AUIFKH0hivwCWzdTEDFI/",
          "dtype": "f8"
         },
         "yaxis": "y2"
        },
        {
         "legendgroup": "acc_norm_piqa",
         "line": {
          "color": "rgba(199, 236, 54, 1)",
          "dash": "solid",
          "width": 1.5
         },
         "mode": "lines",
         "name": "PIQA",
         "showlegend": false,
         "type": "scatter",
         "x": {
          "bdata": "AAAAQN1K70EAAADwJXj3QQAAAEDdSv9BAAAASMqOA0IAAADwJXgHQgAAAJiBYQtCAAAAQN1KD0IAAAB0HJoRQgAAAEjKjhNCAAAAHHiDFUIAAADwJXgXQgAAAMTTbBlCAAAAmIFhG0IAAABsL1YdQgAAAEDdSh9CAAAAisWfIEIAAAB0HJohQgAAAF5zlCJCAAAASMqOI0IAAAAyIYkkQgAAABx4gyVCAAAABs99JkIAAADwJXgnQgAAANp8cihCAAAAxNNsKUIAAACuKmcqQgAAAJiBYStCAAAAgthbLEIAAABsL1YtQgAAAFaGUC5CAAAAQN1KL0IAAAAVmiIwQgAAAIrFnzBCAAAA//AcMUIAAAB0HJoxQgAAAOlHFzJCAAAAXnOUMkIAAADTnhEzQgAAAEjKjjNCAAAAvfULNEIAAAAyIYk0QgAAAKdMBjVCAAAAHHiDNUIAAACRowA2QgAAAAbPfTZCAAAAe/r6NkIAAADwJXg3QgAAAGVR9TdC",
          "dtype": "f8"
         },
         "xaxis": "x2",
         "y": {
          "bdata": "SPoTWyteu79AiGShmim2vxirP5sZlLK/CJxZER9csL+gzfatqp+svzDZPwHVbau/wNWiygQEqL9AE62hqHSlvxCdp9nqjaK/4BjmaBBCnb8gRwq2uXqYv2BHCra5epi/gMW7mtHFlr9grin0fCmZvyBykcySSZC/QBbkHJ81j78AE0fmzsuLv4Cn74bcVZK/AKuMvay/lb/g3E1BJmKUvyBb/yU+rZK/AEUIakhuir8Ape06a0mEvwCl7TprSYS/AD7O/Keag78ABGyqe3V1v4Cg6aKIMHi/AAlwQl6Ogb+Ap++G3FWSv2DZsApW+JC/QHMst/Gmhb8AwWiJnM1nvwBo6V23TFS/AARsqnt1db+ApyMQKQR/v4DY5JOipn2/gKDpoogweL8AaO6xbrpyvwD5Y3q2Q22/AMFoiZzNZ78AwWiJnM1nvwDBaImczWe/AMj6WykHPD8AXvApGGRXPwDs5fcGwUK/AARsqnt1db+APGeblet6vwD7Y3q2Q22/",
          "dtype": "f8"
         },
         "yaxis": "y2"
        },
        {
         "legendgroup": "acc_norm_winogrande",
         "line": {
          "color": "rgba(247, 184, 54, 1)",
          "dash": "solid",
          "width": 1.5
         },
         "mode": "lines",
         "name": "WinoGrande",
         "showlegend": false,
         "type": "scatter",
         "x": {
          "bdata": "AAAAQN1K70EAAADwJXj3QQAAAEDdSv9BAAAASMqOA0IAAADwJXgHQgAAAJiBYQtCAAAAQN1KD0IAAAB0HJoRQgAAAEjKjhNCAAAAHHiDFUIAAADwJXgXQgAAAMTTbBlCAAAAmIFhG0IAAABsL1YdQgAAAEDdSh9CAAAAisWfIEIAAAB0HJohQgAAAF5zlCJCAAAASMqOI0IAAAAyIYkkQgAAABx4gyVCAAAABs99JkIAAADwJXgnQgAAANp8cihCAAAAxNNsKUIAAACuKmcqQgAAAJiBYStCAAAAgthbLEIAAABsL1YtQgAAAFaGUC5CAAAAQN1KL0IAAAAVmiIwQgAAAIrFnzBCAAAA//AcMUIAAAB0HJoxQgAAAOlHFzJCAAAAXnOUMkIAAADTnhEzQgAAAEjKjjNCAAAAvfULNEIAAAAyIYk0QgAAAKdMBjVCAAAAHHiDNUIAAACRowA2QgAAAAbPfTZCAAAAe/r6NkIAAADwJXg3QgAAAGVR9TdC",
          "dtype": "f8"
         },
         "xaxis": "x2",
         "y": {
          "bdata": "YIKMmsR5n7+gAD5/3MSdvyCWgQpJrJm/gDL/AlZnnL/gZ129n3Oev+jClGjKcaG/4GddvZ9znr8AyEKOwk6Yv8B0GMCD0pG/IBGWuJCNlL9gRvRy2pmWv+D5AxI88Za/wHSdZwNPhb8AACg8/eNrvwBQ7aZ5gkM/gAZOC5/FdL+AcQqAMt54v4AGTgufxXS/gDgPjxhoc78AjzFayfdgv4AGTgufxXS/wHSdZwNPhb+AFLiW4HOLv4CmXut88YO/ACuvUtayY78ArGzSXgNXvwCsbNJeA1e/AAjs/UOEOr8Amyo1+f1nPwCGkIsWdXE/AMDtiYssMT+AOA+PGGhzvwDA7YmLLDE/gJMEZlccfz/AHnucUr+HP4C3UQ+QF3A/AP6sPOxCZT8A0yUmE3RtP4DwTACqjXU/ACIOhCMwdD8AIg6EIzB0P4C+i3ww63Y/gMXF6dC+fT/AsCHx7jyAPwBU2Vacy4k/gMXF6dC+fT+At1EPkBdwPwBSaKaKI1o/",
          "dtype": "f8"
         },
         "yaxis": "y2"
        },
        {
         "legendgroup": "acc_norm_commonsense_qa",
         "line": {
          "color": "rgba(244, 105, 24, 1)",
          "dash": "dot",
          "width": 1.5
         },
         "mode": "lines",
         "name": "CommonsenseQA",
         "showlegend": false,
         "type": "scatter",
         "x": {
          "bdata": "AAAAQN1K70EAAADwJXj3QQAAAEDdSv9BAAAASMqOA0IAAADwJXgHQgAAAJiBYQtCAAAAQN1KD0IAAAB0HJoRQgAAAEjKjhNCAAAAHHiDFUIAAADwJXgXQgAAAMTTbBlCAAAAmIFhG0IAAABsL1YdQgAAAEDdSh9CAAAAisWfIEIAAAB0HJohQgAAAF5zlCJCAAAASMqOI0IAAAAyIYkkQgAAABx4gyVCAAAABs99JkIAAADwJXgnQgAAANp8cihCAAAAxNNsKUIAAACuKmcqQgAAAJiBYStCAAAAgthbLEIAAABsL1YtQgAAAFaGUC5CAAAAQN1KL0IAAAAVmiIwQgAAAIrFnzBCAAAA//AcMUIAAAB0HJoxQgAAAOlHFzJCAAAAXnOUMkIAAADTnhEzQgAAAEjKjjNCAAAAvfULNEIAAAAyIYk0QgAAAKdMBjVCAAAAHHiDNUIAAACRowA2QgAAAAbPfTZCAAAAe/r6NkIAAADwJXg3QgAAAGVR9TdC",
          "dtype": "f8"
         },
         "xaxis": "x2",
         "y": {
          "bdata": "gKiUwDqsrr/Yb5nPIDapv3Bs/JhQzKW/INB+oEMRo79wmcPT5k6fv+DlszSF956/oPmopAkqmb8wrbhDa4GZv6C9EH0fSpC/YHTnjJ7Aib8A1CDSWwZ/v0CmqBAYY4i/ANhplJEFh7+A1MxdwZuDv0D/p+g01Xa/AP+n6DTVdr9A+G17lAFwvwC44AUPjWq/AI7UR7ZBX78A42cc6Ftiv4D4bXuUAXC/wGlkXcjter+Aba0f/uyCv2CfbqN3j4G/gM3mZLsyeL8A1CDSWwZ/v4BpZF3I7Xq/wGlkXcjter8AYyrwJxp0vwBUXv4bSG2/QNQg0lsGf79gBo7hOj6Cv6DUzF3Bm4O/gMas9xpfcb8AVM8HndJCvwAN+YHAI2E/AOH2EmfRXD8AVs8HndJCv4D4bXuUAXC/gBtjDQLSZ78AkGOXpJkvv4BbdSoHw3A/AKn7IU1bVz8AcQAxM+VRPwAAKDz94zs/AKn7IU1bVz8A+Cc8/eM7P4D4bXuUAXC/",
          "dtype": "f8"
         },
         "yaxis": "y2"
        },
        {
         "legendgroup": "acc_norm_openbookqa",
         "line": {
          "color": "rgba(199, 42, 4, 1)",
          "dash": "solid",
          "width": 1.5
         },
         "mode": "lines",
         "name": "OpenbookQA",
         "showlegend": false,
         "type": "scatter",
         "x": {
          "bdata": "AAAAQN1K70EAAADwJXj3QQAAAEDdSv9BAAAASMqOA0IAAADwJXgHQgAAAJiBYQtCAAAAQN1KD0IAAAB0HJoRQgAAAEjKjhNCAAAAHHiDFUIAAADwJXgXQgAAAMTTbBlCAAAAmIFhG0IAAABsL1YdQgAAAEDdSh9CAAAAisWfIEIAAAB0HJohQgAAAF5zlCJCAAAASMqOI0IAAAAyIYkkQgAAABx4gyVCAAAABs99JkIAAADwJXgnQgAAANp8cihCAAAAxNNsKUIAAACuKmcqQgAAAJiBYStCAAAAgthbLEIAAABsL1YtQgAAAFaGUC5CAAAAQN1KL0IAAAAVmiIwQgAAAIrFnzBCAAAA//AcMUIAAAB0HJoxQgAAAOlHFzJCAAAAXnOUMkIAAADTnhEzQgAAAEjKjjNCAAAAvfULNEIAAAAyIYk0QgAAAKdMBjVCAAAAHHiDNUIAAACRowA2QgAAAAbPfTZCAAAAe/r6NkIAAADwJXg3QgAAAGVR9TdC",
          "dtype": "f8"
         },
         "xaxis": "x2",
         "y": {
          "bdata": "ID0ddvp5pr/A0+VPd/ufv2D7zy+AYJS/wLZvVf3ker8ArN2CcKtmP4Dj4hv5/Hg/AHPikVY1YT8AwgEoih5fvwBQC0ZWMlS/AKvnKt+Gcz+geCv7HFKDPwAVqfMpDYY/oE2k5EODiz9g+C2l+IiSP+Bi6hmMoZY/4GLqGYyhlj8QMSmWEv+XP9D7ytvI8pU/0PvK28jylT+AX03juzeTP8CUq50FRJU/oC2MX0KVlD/gYuoZjKGWP9D7ytvI8pU/wJSrnQVElT/gYuoZjKGWP2D4LaX4iJI/UGaHUFwLmj9QZodQXAuaP9DQQ8XvI54/QJhI1NWtmD8AyglYT1CXP1Bmh1BcC5o/kJvlCqYXnD9A/2cSmVyZP0D/ZxKZXJk/kJvlCqYXnD8IA9G/HBigPwCfgkF2gZ8/kJvlCqYXnD/AaSSHLHWdP5Cb5QqmF5w/qB0AnUEeoT9IOC96ZiSiPwghndMRiKQ/SDgvemYkoj+ItuBefm+gPxAhndMRiKQ/",
          "dtype": "f8"
         },
         "yaxis": "y2"
        },
        {
         "legendgroup": "acc_norm_arc_easy",
         "line": {
          "color": "rgba(48, 18, 59, 1)",
          "dash": "solid",
          "width": 1.5
         },
         "mode": "lines",
         "name": "ARC Easy",
         "showlegend": false,
         "type": "scatter",
         "x": {
          "bdata": "AAAAQN1K70EAAADwJXj3QQAAAEDdSv9BAAAASMqOA0IAAADwJXgHQgAAAJiBYQtCAAAAQN1KD0IAAAB0HJoRQgAAAEjKjhNCAAAAHHiDFUIAAADwJXgXQgAAAMTTbBlCAAAAmIFhG0IAAABsL1YdQgAAAEDdSh9CAAAAisWfIEIAAAB0HJohQgAAAF5zlCJCAAAASMqOI0IAAAAyIYkkQgAAABx4gyVCAAAABs99JkIAAADwJXgnQgAAANp8cihCAAAAxNNsKUIAAACuKmcqQgAAAJiBYStCAAAAgthbLEIAAABsL1YtQgAAAFaGUC5CAAAAQN1KL0IAAAAVmiIwQgAAAIrFnzBCAAAA//AcMUIAAAB0HJoxQgAAAOlHFzJCAAAAXnOUMkIAAADTnhEzQgAAAEjKjjNCAAAAvfULNEIAAAAyIYk0QgAAAKdMBjVCAAAAHHiDNUIAAACRowA2QgAAAAbPfTZCAAAAe/r6NkIAAADwJXg3QgAAAGVR9TdC",
          "dtype": "f8"
         },
         "xaxis": "x3",
         "y": {
          "bdata": "bPqaAPurwL/whtxVktW5vxTjaxiI/rW/gHRZlccztL/4bGZQyhezvwgZg6ouU7K/4EX7xOHYrr8wHOZdwpqrv5Dy0PaiXKi/SHQfEosRqr8wHOZdwpqrvwD2bS1zxqu/qGjWvmBDq79QzFjGU4iov8gYSSfyMKi/wPp8E/3Ao79In6YoZOChvyDRZ6zdgqC/4AVSYK5Knr9In6YoZOChv2C5Yf8Pop6/cG3lpOo9o7/gqu97jq6gv1D339wsV6C/gCCBPdNQn7/gBVJgrkqevwh5LvgUDKK/UPff3CxXoL9A6yKDiUSdv1A0dq1Xg5m/QM1Wb5TUmL/AgGYO9iuZv2DGHAL0AJK/wKvtJM/6kL8gVD4TzouOv9Cr7STP+pC/IO0e1Qrdjb8g7R7VCt2Nv9ASDWOSqZG/0KvtJM/6kL/Qybk4xGqVv1B9ydclwpW/EP8X8w13l79AzVZvlNSYv9DJuTjEapW/4BINY5Kpkb/ARM7mC0yQv8DpgZ46c4q/",
          "dtype": "f8"
         },
         "yaxis": "y3"
        },
        {
         "legendgroup": "acc_norm_arc_challenge",
         "line": {
          "color": "rgba(68, 96, 208, 1)",
          "dash": "dot",
          "width": 1.5
         },
         "mode": "lines",
         "name": "ARC Challenge",
         "showlegend": false,
         "type": "scatter",
         "x": {
          "bdata": "AAAAQN1K70EAAADwJXj3QQAAAEDdSv9BAAAASMqOA0IAAADwJXgHQgAAAJiBYQtCAAAAQN1KD0IAAAB0HJoRQgAAAEjKjhNCAAAAHHiDFUIAAADwJXgXQgAAAMTTbBlCAAAAmIFhG0IAAABsL1YdQgAAAEDdSh9CAAAAisWfIEIAAAB0HJohQgAAAF5zlCJCAAAASMqOI0IAAAAyIYkkQgAAABx4gyVCAAAABs99JkIAAADwJXgnQgAAANp8cihCAAAAxNNsKUIAAACuKmcqQgAAAJiBYStCAAAAgthbLEIAAABsL1YtQgAAAFaGUC5CAAAAQN1KL0IAAAAVmiIwQgAAAIrFnzBCAAAA//AcMUIAAAB0HJoxQgAAAOlHFzJCAAAAXnOUMkIAAADTnhEzQgAAAEjKjjNCAAAAvfULNEIAAAAyIYk0QgAAAKdMBjVCAAAAHHiDNUIAAACRowA2QgAAAAbPfTZCAAAAe/r6NkIAAADwJXg3QgAAAGVR9TdC",
          "dtype": "f8"
         },
         "xaxis": "x3",
         "y": {
          "bdata": "CImCNSkypb+UPJLUiomlv8igDokeeJ+/iGuwztRrnb/Iy5Wf90aXvzg2UhSLX5u/kP1WI3Hplb/oewgIiTSUv3h4a9G4ypC/WMj4aCfdk7+Q34oPfHmRv2gRTJP1G5C/gBjBgnr6hb+A8UynOqt/vwC6Pb+yYGa/ALIXSYBhc78A8ziwzNZrvwDzOLDM1mu/ALo9v7JgZr8A8BpqXwkRv4CBQs6Y6mC/AEAwsZP5R7+AHNS9E3p3vwC6Pb+yYGa/gIFCzpjqYL8Abx7QD5ViPwBsRr7rPVo/AHdERkKUdT8AC5zIHFBlPwBZk8njclG/4N/FkWCEgL+A8UynOqt/vwCyF0mAYXO/AJKOuv3oVr8AKGbpD5YxPwDKiasXX1y/wBWaUHOmcL+ATpVBjRx2vwBZk8njclG/AJKOuv3oVr8AyomrF19cvwCPtqjZkW6/AISp1ju3Qz8AhKnWO7dDP4CvPzdcCns/wKwYBVW2hT9AxOUtjl2SP3CSJKoUu5M/",
          "dtype": "f8"
         },
         "yaxis": "y3"
        },
        {
         "legendgroup": "acc_norm_hellaswag",
         "line": {
          "color": "rgba(54, 167, 248, 1)",
          "dash": "solid",
          "width": 1.5
         },
         "mode": "lines",
         "name": "Hellaswag",
         "showlegend": false,
         "type": "scatter",
         "x": {
          "bdata": "AAAAQN1K70EAAADwJXj3QQAAAEDdSv9BAAAASMqOA0IAAADwJXgHQgAAAJiBYQtCAAAAQN1KD0IAAAB0HJoRQgAAAEjKjhNCAAAAHHiDFUIAAADwJXgXQgAAAMTTbBlCAAAAmIFhG0IAAABsL1YdQgAAAEDdSh9CAAAAisWfIEIAAAB0HJohQgAAAF5zlCJCAAAASMqOI0IAAAAyIYkkQgAAABx4gyVCAAAABs99JkIAAADwJXgnQgAAANp8cihCAAAAxNNsKUIAAACuKmcqQgAAAJiBYStCAAAAgthbLEIAAABsL1YtQgAAAFaGUC5CAAAAQN1KL0IAAAAVmiIwQgAAAIrFnzBCAAAA//AcMUIAAAB0HJoxQgAAAOlHFzJCAAAAXnOUMkIAAADTnhEzQgAAAEjKjjNCAAAAvfULNEIAAAAyIYk0QgAAAKdMBjVCAAAAHHiDNUIAAACRowA2QgAAAAbPfTZCAAAAe/r6NkIAAADwJXg3QgAAAGVR9TdC",
          "dtype": "f8"
         },
         "xaxis": "x3",
         "y": {
          "bdata": "pDXzqrj1ub84dnbRPnGovyAq2YwjaIm/wP0FBT4bfz8gq4FvBd6ZPxBPY7aQP6M/sC8l8+E+qj9grmvIaHOwP2Cua8hoc7A/KIjzlxmfsD8Idbf/8bSwP4iLkM7pCLQ/gN9zdIXNtD/YGCg9/Iu0P6iezGYR87M/gN9zdIXNtD+orbLwCyu2P2jbHWZYG7c/+I4tBbpytz8Yommd4Vy3P7hotdRqnrc/yM/UEi5NuD/4nROPtKq5P2g+55XuF7o/CAUzzXdZuj8oGG9ln0O6PwgFM813Wbo/2IrX9ozAuT/Y3rqcKIW6P4hgCbgQOrw/0EGEzL6BvT+YGwycb629P7jaZI770rw/oMco9tPovD8IaPz8DVa9P+hUwGTma70/uC5INJeXvT8IaPz8DVa9Pxgj/+Bsyb4/+GOm7uCjvz+8tcwZ71/AP/TbREo+NMA/oCryJWrlvz8Yd+KGCI6/P4AXto1C+78/nKKQgcd1wD+0X77sPMLAP9Ry+oRkrMA/",
          "dtype": "f8"
         },
         "yaxis": "y3"
        },
        {
         "legendgroup": "acc_norm_mmlu",
         "line": {
          "color": "rgba(33, 226, 181, 1)",
          "dash": "solid",
          "width": 1.5
         },
         "mode": "lines",
         "name": "MMLU",
         "showlegend": false,
         "type": "scatter",
         "x": {
          "bdata": "AAAAQN1K70EAAADwJXj3QQAAAEDdSv9BAAAASMqOA0IAAADwJXgHQgAAAJiBYQtCAAAAQN1KD0IAAAB0HJoRQgAAAEjKjhNCAAAAHHiDFUIAAADwJXgXQgAAAMTTbBlCAAAAmIFhG0IAAABsL1YdQgAAAEDdSh9CAAAAisWfIEIAAAB0HJohQgAAAF5zlCJCAAAASMqOI0IAAAAyIYkkQgAAABx4gyVCAAAABs99JkIAAADwJXgnQgAAANp8cihCAAAAxNNsKUIAAACuKmcqQgAAAJiBYStCAAAAgthbLEIAAABsL1YtQgAAAFaGUC5CAAAAQN1KL0IAAAAVmiIwQgAAAIrFnzBCAAAA//AcMUIAAAB0HJoxQgAAAOlHFzJCAAAAXnOUMkIAAADTnhEzQgAAAEjKjjNCAAAAvfULNEIAAAAyIYk0QgAAAKdMBjVCAAAAHHiDNUIAAACRowA2QgAAAAbPfTZCAAAAe/r6NkIAAADwJXg3QgAAAGVR9TdC",
          "dtype": "f8"
         },
         "xaxis": "x3",
         "y": {
          "bdata": "8BjvXzVYnL/g4/3oTceZvxBk0qqBB5q/YOjnw0A/mb8AMcGCdE2Zv2BfxuDikpa/kF0Lr78nl78Qk4h0FB6Wv1BnXGLwH5a/8FTunPQGlb9gqiUlRcmUv6CLRQdNfZS/sMXTSF6Bkb/QMhzCtFWSv7BHHrx9xZG/4OOTQHckk7/wLs9YZSeRv7DTgo/tIZK/ID1Qhpcskr/w3HNiXfeSvzD5zukSSJK/ILyFrlvVkb+wFE9ekJyQv7Ahoy0/85C/YLljfi7FkL+QMtNyTViQv6CieUhEr46/YCX8jX3Lj79g9CZj5/ONv+C6Wqx5g46/wAfeRMBWjb8QYymCowmQvyCaas/tEYy/IPjTzc61i79ArdCR0eSJv2AA7gi7+4y/IBvmSOZOjL9gu9SZrECMv8B0CehQaIy/4DPGKpu7i78gch9QsmmKvyDnbMS5+oe/4DzkIpLsiL+gbaAsu/yHv6DRD+nqi4i/IG1058bgiL/guhD7aySLvyAVDaQKUYu/",
          "dtype": "f8"
         },
         "yaxis": "y3"
        },
        {
         "legendgroup": "acc_norm_siqa",
         "line": {
          "color": "rgba(112, 252, 97, 1)",
          "dash": "dot",
          "width": 1.5
         },
         "mode": "lines",
         "name": "SIQA",
         "showlegend": false,
         "type": "scatter",
         "x": {
          "bdata": "AAAAQN1K70EAAADwJXj3QQAAAEDdSv9BAAAASMqOA0IAAADwJXgHQgAAAJiBYQtCAAAAQN1KD0IAAAB0HJoRQgAAAEjKjhNCAAAAHHiDFUIAAADwJXgXQgAAAMTTbBlCAAAAmIFhG0IAAABsL1YdQgAAAEDdSh9CAAAAisWfIEIAAAB0HJohQgAAAF5zlCJCAAAASMqOI0IAAAAyIYkkQgAAABx4gyVCAAAABs99JkIAAADwJXgnQgAAANp8cihCAAAAxNNsKUIAAACuKmcqQgAAAJiBYStCAAAAgthbLEIAAABsL1YtQgAAAFaGUC5CAAAAQN1KL0IAAAAVmiIwQgAAAIrFnzBCAAAA//AcMUIAAAB0HJoxQgAAAOlHFzJCAAAAXnOUMkIAAADTnhEzQgAAAEjKjjNCAAAAvfULNEIAAAAyIYk0QgAAAKdMBjVCAAAAHHiDNUIAAACRowA2QgAAAAbPfTZCAAAAe/r6NkIAAADwJXg3QgAAAGVR9TdC",
          "dtype": "f8"
         },
         "xaxis": "x3",
         "y": {
          "bdata": "AITz+9YoeL9AIHH04+N6v4DndQPKbXW/APYQwvAtVL8AiXw7Ob5nvwC8pMdVLUk/AJBcy0OCPD9gJy2znJeAPwBzpw9yKnI/gEHmi/iHcz8AmFzLQ4I8PwCg31OJN2E/AFCBSh9IYr8AeiuirW9NvwCJfDs5vme/AKDfU4k3YT8AmFzLQ4I8P4Ds/kIsA2W/gCy28v4sgL+A53UDym11vwBSMnhdhnm/AFIyeF2Geb9AM/BfnwCHv4C87uzwnn2/QBk3h0MQdL8A9hDC8C1UvwC8pMdVLUk/AGj6eBddLr8Als3UxAxSPwAKNcB5g0K/gBHWNb0jbD+AdVg9sGhpP4APJQh/5XQ/wLLcbSx0fj/AXItt5qOCP4DdY4QFQ3Y/AHOnD3Iqcj+AQeaL+IdzPwAWX3UfuXs/AKDfU4k3YT9AfbmONlVxvwBo+ngXXS6/AKDfU4k3YT/AgBvqstF/P4BB5ov4h3M/gN1jhAVDdj+Ac6cPcipyP4CtUy7K3m4/",
          "dtype": "f8"
         },
         "yaxis": "y3"
        },
        {
         "legendgroup": "acc_norm_piqa",
         "line": {
          "color": "rgba(199, 236, 54, 1)",
          "dash": "solid",
          "width": 1.5
         },
         "mode": "lines",
         "name": "PIQA",
         "showlegend": false,
         "type": "scatter",
         "x": {
          "bdata": "AAAAQN1K70EAAADwJXj3QQAAAEDdSv9BAAAASMqOA0IAAADwJXgHQgAAAJiBYQtCAAAAQN1KD0IAAAB0HJoRQgAAAEjKjhNCAAAAHHiDFUIAAADwJXgXQgAAAMTTbBlCAAAAmIFhG0IAAABsL1YdQgAAAEDdSh9CAAAAisWfIEIAAAB0HJohQgAAAF5zlCJCAAAASMqOI0IAAAAyIYkkQgAAABx4gyVCAAAABs99JkIAAADwJXgnQgAAANp8cihCAAAAxNNsKUIAAACuKmcqQgAAAJiBYStCAAAAgthbLEIAAABsL1YtQgAAAFaGUC5CAAAAQN1KL0IAAAAVmiIwQgAAAIrFnzBCAAAA//AcMUIAAAB0HJoxQgAAAOlHFzJCAAAAXnOUMkIAAADTnhEzQgAAAEjKjjNCAAAAvfULNEIAAAAyIYk0QgAAAKdMBjVCAAAAHHiDNUIAAACRowA2QgAAAAbPfTZCAAAAe/r6NkIAAADwJXg3QgAAAGVR9TdC",
          "dtype": "f8"
         },
         "xaxis": "x3",
         "y": {
          "bdata": "ACXrkI8SZb/ghAk/tgmaP7DMW8NLQqc/wFFHFQRhrD/A+Q1hO+qtP8BgLZ/+mK4/QFXkS9TKrz8gMuVqZwGxP+BfUOCz8bE/oI27VQDisj9AVAeNiSOzP4jhnvubprM/SA8KceiWtD/YwhkQSu60P7iv3XciBLU/+IFyAtYTtD9oIkYJEIG0P0gPCnHolrQ/YHYpr6tFtT/41VWocdi0PxjpkUCZwrQ/iDWCoTdrtD9AY+0WhFu1P0C30LwfILY/yGrgW4F3tj8gpJQk+DW2Pwg9deY0h7U/mPCEhZbetT9gdimvq0W1P7iv3XciBLU/2MIZEErutD8IPXXmNIe1P4hEaCsyo7Y/AJFYjNBLtj+oV6TDWY22PwCRWIzQS7Y/iERoKzKjtj+oV6TDWY22P7gDwR2+yLU/eN1I7W70tT+Y8ISFlt61P2DKDFVHCrY/IKSUJPg1tj9At9C8HyC2P8C+wwEdPLc/YIUPOaZ9tz+ImEvRzWe3P8gW/bXlsrU/",
          "dtype": "f8"
         },
         "yaxis": "y3"
        },
        {
         "legendgroup": "acc_norm_winogrande",
         "line": {
          "color": "rgba(247, 184, 54, 1)",
          "dash": "solid",
          "width": 1.5
         },
         "mode": "lines",
         "name": "WinoGrande",
         "showlegend": false,
         "type": "scatter",
         "x": {
          "bdata": "AAAAQN1K70EAAADwJXj3QQAAAEDdSv9BAAAASMqOA0IAAADwJXgHQgAAAJiBYQtCAAAAQN1KD0IAAAB0HJoRQgAAAEjKjhNCAAAAHHiDFUIAAADwJXgXQgAAAMTTbBlCAAAAmIFhG0IAAABsL1YdQgAAAEDdSh9CAAAAisWfIEIAAAB0HJohQgAAAF5zlCJCAAAASMqOI0IAAAAyIYkkQgAAABx4gyVCAAAABs99JkIAAADwJXgnQgAAANp8cihCAAAAxNNsKUIAAACuKmcqQgAAAJiBYStCAAAAgthbLEIAAABsL1YtQgAAAFaGUC5CAAAAQN1KL0IAAAAVmiIwQgAAAIrFnzBCAAAA//AcMUIAAAB0HJoxQgAAAOlHFzJCAAAAXnOUMkIAAADTnhEzQgAAAEjKjjNCAAAAvfULNEIAAAAyIYk0QgAAAKdMBjVCAAAAHHiDNUIAAACRowA2QgAAAAbPfTZCAAAAe/r6NkIAAADwJXg3QgAAAGVR9TdC",
          "dtype": "f8"
         },
         "xaxis": "x3",
         "y": {
          "bdata": "aB5rU2NSo78Af+9j9A+cv+CwsOdtspq/4PkDEjzxlr8AqnZ6zd6TvyDBCCEie5G/wNu8pcb9hb/Apl7rfPGDv0BxADEz5YG/QHg6ntO4iL+A28b0xfZ8v0CjwbSsh4C/AI8xWsn3YL9AcQAxM+WBv0CjwbSsh4C/QHg6ntO4iL8A1YyHJSN2vwByceFEjVG/AIpjl6SZXz8AYS9E34diPwCaKjX5/Wc/AIpjl6SZXz9AG95lglWEPwAYQS+y64A/wLdbXo8Qhz+Avot8MOt2PwCbKjX5/Wc/AFDtpnmCQz8AACg8/eNrvwCPMVrJ92C/AMcsS+NtZr8AK69S1rJjvwD+rDzsQmU/gPBMAKqNdT8AGEEvsuuAP4BaCXU9pnk/ADeoLQa5aj+Avot8MOt2PwCbKjX5/Wc/gLdRD5AXcD+AjMr4tkh4P8BQPCDMYYY/QIk3EebXiz/AUDwgzGGGP4CMyvi2SHg/gL6LfDDrdj+AjMr4tkh4P4D3hm1KYXw/",
          "dtype": "f8"
         },
         "yaxis": "y3"
        },
        {
         "legendgroup": "acc_norm_commonsense_qa",
         "line": {
          "color": "rgba(244, 105, 24, 1)",
          "dash": "dot",
          "width": 1.5
         },
         "mode": "lines",
         "name": "CommonsenseQA",
         "showlegend": false,
         "type": "scatter",
         "x": {
          "bdata": "AAAAQN1K70EAAADwJXj3QQAAAEDdSv9BAAAASMqOA0IAAADwJXgHQgAAAJiBYQtCAAAAQN1KD0IAAAB0HJoRQgAAAEjKjhNCAAAAHHiDFUIAAADwJXgXQgAAAMTTbBlCAAAAmIFhG0IAAABsL1YdQgAAAEDdSh9CAAAAisWfIEIAAAB0HJohQgAAAF5zlCJCAAAASMqOI0IAAAAyIYkkQgAAABx4gyVCAAAABs99JkIAAADwJXgnQgAAANp8cihCAAAAxNNsKUIAAACuKmcqQgAAAJiBYStCAAAAgthbLEIAAABsL1YtQgAAAFaGUC5CAAAAQN1KL0IAAAAVmiIwQgAAAIrFnzBCAAAA//AcMUIAAAB0HJoxQgAAAOlHFzJCAAAAXnOUMkIAAADTnhEzQgAAAEjKjjNCAAAAvfULNEIAAAAyIYk0QgAAAKdMBjVCAAAAHHiDNUIAAACRowA2QgAAAAbPfTZCAAAAe/r6NkIAAADwJXg3QgAAAGVR9TdC",
          "dtype": "f8"
         },
         "xaxis": "x3",
         "y": {
          "bdata": "WMtvurkWq7+AxDVNGUOkv9AzAag2VqC/QPYLbjnAlb+g29yQFLqUv4CpRUfozIu/IKaoEBhjiL9A0S8n8TGAvwD/p+g01Xa/ANQg0lsGf7/AogvaR/mEv4BCJgklHou/gM3mZLsyeL/AYirwJxp0vwC44AUPjWq/gM3mZLsyeL8AyMXp0L5NvwAAKDz94zs/AFbPB53SQr8AACg8/eM7PwCp+yFNW1c/AKn7IU1bVz8ARvRy2plmP8Dp0rxtQYE/QCkIGyiLjT+AIs6th7eGPwD/LJC0UXo/gOJxa+dUaT8AqnZ6zd5jPwDh9hJn0Vw/AJBjl6SZL7/AlOtzobxyv2CfbqN3j4G/gGlkXcjter8AqfshTVtXPwCqdnrN3mM/AJBjl6SZL78Af+UU9RZlvwBWzwed0kK/AHEAMTPlUT8AcAqAMt5IP4BbdSoHw3A/QJRwGyE5dj8AG21cActuPwAN+YHAI2E/AOH2EmfRXD8A+PIiFH5zP4B+72P0D2w/",
          "dtype": "f8"
         },
         "yaxis": "y3"
        },
        {
         "legendgroup": "acc_norm_openbookqa",
         "line": {
          "color": "rgba(199, 42, 4, 1)",
          "dash": "solid",
          "width": 1.5
         },
         "mode": "lines",
         "name": "OpenbookQA",
         "showlegend": false,
         "type": "scatter",
         "x": {
          "bdata": "AAAAQN1K70EAAADwJXj3QQAAAEDdSv9BAAAASMqOA0IAAADwJXgHQgAAAJiBYQtCAAAAQN1KD0IAAAB0HJoRQgAAAEjKjhNCAAAAHHiDFUIAAADwJXgXQgAAAMTTbBlCAAAAmIFhG0IAAABsL1YdQgAAAEDdSh9CAAAAisWfIEIAAAB0HJohQgAAAF5zlCJCAAAASMqOI0IAAAAyIYkkQgAAABx4gyVCAAAABs99JkIAAADwJXgnQgAAANp8cihCAAAAxNNsKUIAAACuKmcqQgAAAJiBYStCAAAAgthbLEIAAABsL1YtQgAAAFaGUC5CAAAAQN1KL0IAAAAVmiIwQgAAAIrFnzBCAAAA//AcMUIAAAB0HJoxQgAAAOlHFzJCAAAAXnOUMkIAAADTnhEzQgAAAEjKjjNCAAAAvfULNEIAAAAyIYk0QgAAAKdMBjVCAAAAHHiDNUIAAACRowA2QgAAAAbPfTZCAAAAe/r6NkIAAADwJXg3QgAAAGVR9TdC",
          "dtype": "f8"
         },
         "xaxis": "x3",
         "y": {
          "bdata": "eNmabgc1qb8gH1FiBQqiv1hUrxxPFqS/sNPlT3f7n7/QoJ997b6jvxgfUWIFCqK/kAWn0/Cdnr8gm+peXYWav0C3agFGd4y/gH5vECwBh78AU+1NCqB9v0C3agFGd4y/MC2Rs/kCk79ghal9zNSNv0Di8RcfRoS/AH50ZONudb8Ai/LmkvFvv8C2b1X95Hq/AIvy5pLxb78AIBneF2EaPwB1zkF5flc/AAiwv4okST/Atm9V/eR6vwAUs5uY6IK/gBryXPApeL9gsDCUpaOFv4B+bxAsAYe/YLAwlKWjhb8AIBneF2EaP8BGanejr4Q/QBzeDBNzfj+ADmoy0stwP4AOajLSy3A/gOPiG/n8eD8ArN2CcKtmP4AZ/ARfBWW/AL4pyESMQr8Aq+cq34ZzPwCAYBQGuHs/AHPikVY1YT8AwgEoih5fvwCL8uaS8W+/AMIBKIoeX78Adc5BeX5XP0BHZSPsQXY/gKrsfpb0gT/AG+NgyuCMP8Ab42DK4Iw/",
          "dtype": "f8"
         },
         "yaxis": "y3"
        },
        {
         "legendgroup": "acc_norm_arc_easy",
         "line": {
          "color": "rgba(48, 18, 59, 1)",
          "dash": "solid",
          "width": 1.5
         },
         "mode": "lines",
         "name": "ARC Easy",
         "showlegend": false,
         "type": "scatter",
         "x": {
          "bdata": "AAAAQN1K70EAAADwJXj3QQAAAEDdSv9BAAAASMqOA0IAAADwJXgHQgAAAJiBYQtCAAAAQN1KD0IAAAB0HJoRQgAAAEjKjhNCAAAAHHiDFUIAAADwJXgXQgAAAMTTbBlCAAAAmIFhG0IAAABsL1YdQgAAAEDdSh9CAAAAisWfIEIAAAB0HJohQgAAAF5zlCJCAAAASMqOI0IAAAAyIYkkQgAAABx4gyVCAAAABs99JkIAAADwJXgnQgAAANp8cihCAAAAxNNsKUIAAACuKmcqQgAAAJiBYStCAAAAgthbLEIAAABsL1YtQgAAAFaGUC5CAAAAQN1KL0IAAAAVmiIwQgAAAIrFnzBCAAAA//AcMUIAAAB0HJoxQgAAAOlHFzJCAAAAXnOUMkIAAADTnhEzQgAAAEjKjjNCAAAAvfULNEIAAAAyIYk0QgAAAKdMBjVCAAAAHHiDNUIAAACRowA2QgAAAAbPfTZCAAAAe/r6NkIAAADwJXg3QgAAAGVR9TdC",
          "dtype": "f8"
         },
         "xaxis": "x4",
         "y": {
          "bdata": "wBtnCaJ0u7+w7rRrssy0v+BZKriiLbO/uIvrOxzQsb+Qvay/lXKwvzAc5l3Cmqu/8OaHo3iOqb9oJJJ6HP+mv7CiQ180SqW/0FK2x8U3or+AxR5Zs7Shv2AGxmYnj6K/qJNd1TkSo78IeS74FAyivyCEA0XGlZy/gAK1Kd7gmr9gm5XrGjKavxD/F/MNd5e/wKvtJM/6kL/At8AawdCLv4AbQyK0FYm/QLgbiPOXeb8AAK3jfGBfv4AcVGpLa2K/QIZaBHr1er8AjrYBSXRUvwA3I4aGPFc/AA2+/9sYcj8Abx53oLJcPwD/J5VsxlE/AI62AUl0VL9AhloEevV6vwCOSkx/V22/gH8gl9khdL8ArHYhXvxNv4AcVGpLa2K/AEBlI+xBFj8AOoA/KhBDvwDxzFNynGq/oK3pdlCTgb+A8BZ5DQ5/vwCNSkx/V22/gOGADp67bj+A21fplD2BP8BCdydY7IE/AD9/g1W7cD8A8cxTcpxqv4DhgA6eu24/",
          "dtype": "f8"
         },
         "yaxis": "y4"
        },
        {
         "legendgroup": "acc_norm_arc_challenge",
         "line": {
          "color": "rgba(68, 96, 208, 1)",
          "dash": "dot",
          "width": 1.5
         },
         "mode": "lines",
         "name": "ARC Challenge",
         "showlegend": false,
         "type": "scatter",
         "x": {
          "bdata": "AAAAQN1K70EAAADwJXj3QQAAAEDdSv9BAAAASMqOA0IAAADwJXgHQgAAAJiBYQtCAAAAQN1KD0IAAAB0HJoRQgAAAEjKjhNCAAAAHHiDFUIAAADwJXgXQgAAAMTTbBlCAAAAmIFhG0IAAABsL1YdQgAAAEDdSh9CAAAAisWfIEIAAAB0HJohQgAAAF5zlCJCAAAASMqOI0IAAAAyIYkkQgAAABx4gyVCAAAABs99JkIAAADwJXgnQgAAANp8cihCAAAAxNNsKUIAAACuKmcqQgAAAJiBYStCAAAAgthbLEIAAABsL1YtQgAAAFaGUC5CAAAAQN1KL0IAAAAVmiIwQgAAAIrFnzBCAAAA//AcMUIAAAB0HJoxQgAAAOlHFzJCAAAAXnOUMkIAAADTnhEzQgAAAEjKjjNCAAAAvfULNEIAAAAyIYk0QgAAAKdMBjVCAAAAHHiDNUIAAACRowA2QgAAAAbPfTZCAAAAe/r6NkIAAADwJXg3QgAAAGVR9TdC",
          "dtype": "f8"
         },
         "xaxis": "x4",
         "y": {
          "bdata": "CImCNSkypb/0IWP3ZYOkv2huU1gELKS/tOwEPRx3or/oUIHxr2Wcv3iWN+WtOpW/eHhr0bjKkL+QtAP5oqqZvwgB9FlBU5m/eE3kut/7mL9IYdkqZC6Tv+h7CAiJNJS/WMj4aCfdk7/44idGTOOUv5Dfig98eZG/IOqcNdHBir9AVc+uLfB8vwC5UbYgNXq/QONiyDDug79gSoIG9JyEvwBH5c8jM4G/AFmTyeNyUb8AyomrF19cvwCHkDKnknu/wOb//gBYh78AR+XPIzOBvwCPtqjZkW6/gIFCzpjqYL+AIw4rtE1+v4AYwYJ6+oW/sLt46CeJj78Ag333DROKv2BKggb0nIS/QIBWxQa/dL8AyomrF19cvwDKiasXX1y/AMqJqxdfXL8AuVG2IDV6vwC5UbYgNXq/wOoSOprXeL/AFZpQc6ZwvwBZk8njclG/AKBznr8aOr/AqAXKuzZ0P0ATwj5PT3g/QBPCPk9PeD8ApUGvBbRfP0A+SVUoHnA/",
          "dtype": "f8"
         },
         "yaxis": "y4"
        },
        {
         "legendgroup": "acc_norm_hellaswag",
         "line": {
          "color": "rgba(54, 167, 248, 1)",
          "dash": "solid",
          "width": 1.5
         },
         "mode": "lines",
         "name": "Hellaswag",
         "showlegend": false,
         "type": "scatter",
         "x": {
          "bdata": "AAAAQN1K70EAAADwJXj3QQAAAEDdSv9BAAAASMqOA0IAAADwJXgHQgAAAJiBYQtCAAAAQN1KD0IAAAB0HJoRQgAAAEjKjhNCAAAAHHiDFUIAAADwJXgXQgAAAMTTbBlCAAAAmIFhG0IAAABsL1YdQgAAAEDdSh9CAAAAisWfIEIAAAB0HJohQgAAAF5zlCJCAAAASMqOI0IAAAAyIYkkQgAAABx4gyVCAAAABs99JkIAAADwJXgnQgAAANp8cihCAAAAxNNsKUIAAACuKmcqQgAAAJiBYStCAAAAgthbLEIAAABsL1YtQgAAAFaGUC5CAAAAQN1KL0IAAAAVmiIwQgAAAIrFnzBCAAAA//AcMUIAAAB0HJoxQgAAAOlHFzJCAAAAXnOUMkIAAADTnhEzQgAAAEjKjjNCAAAAvfULNEIAAAAyIYk0QgAAAKdMBjVCAAAAHHiDNUIAAACRowA2QgAAAAbPfTZCAAAAe/r6NkIAAADwJXg3QgAAAGVR9TdC",
          "dtype": "f8"
         },
         "xaxis": "x4",
         "y": {
          "bdata": "MlXDYd4lxL8m4eggNxjAvzDpAkoaTbq/vCpjL+tvtb/Ec7ZZua6xvxi3Hd+yS6m/6DEyjfospL/ACQDfFQqbvwAhkoVqppi/oGLUfT3ejr9Ao4bZWJp7vwA2MoKshWI/QGGIDDFgfD+gbNytAhCHP5Ai+eZ8VZE/gNmlvK4WlT+gp+Q4NXSWP6BAxfpxxZU/oPdx0KOGmT/gxbBMKuSaP3AlTk9xAaA/oBU+5Jj2nT+Arh6m1UedP2CXjP+Aq58/QA68qBxloj9QhMFw2kulP/Ce8E3/UaY/MNROCEleqD9QO25GDA2pP3AJrcKSaqo/UEpU0AZFqz9QWTpaAX2tP3Cxcw7K86s/UEpU0AZFqz9wCa3CkmqqP5BwzABWGas/cLFzDsrzqz8QJNyft3CrP9D9Y29onKs/4P1jb2icqz/QpSq7nyWtP1BZOloBfa0/sD4Lfdx2rD+g1+s+GcirP9D9Y29onKs/gBiTTI2irD+Qf7KKUFGtP9C0EEWaXa8/",
          "dtype": "f8"
         },
         "yaxis": "y4"
        },
        {
         "legendgroup": "acc_norm_mmlu",
         "line": {
          "color": "rgba(33, 226, 181, 1)",
          "dash": "solid",
          "width": 1.5
         },
         "mode": "lines",
         "name": "MMLU",
         "showlegend": false,
         "type": "scatter",
         "x": {
          "bdata": "AAAAQN1K70EAAADwJXj3QQAAAEDdSv9BAAAASMqOA0IAAADwJXgHQgAAAJiBYQtCAAAAQN1KD0IAAAB0HJoRQgAAAEjKjhNCAAAAHHiDFUIAAADwJXgXQgAAAMTTbBlCAAAAmIFhG0IAAABsL1YdQgAAAEDdSh9CAAAAisWfIEIAAAB0HJohQgAAAF5zlCJCAAAASMqOI0IAAAAyIYkkQgAAABx4gyVCAAAABs99JkIAAADwJXgnQgAAANp8cihCAAAAxNNsKUIAAACuKmcqQgAAAJiBYStCAAAAgthbLEIAAABsL1YtQgAAAFaGUC5CAAAAQN1KL0IAAAAVmiIwQgAAAIrFnzBCAAAA//AcMUIAAAB0HJoxQgAAAOlHFzJCAAAAXnOUMkIAAADTnhEzQgAAAEjKjjNCAAAAvfULNEIAAAAyIYk0QgAAAKdMBjVCAAAAHHiDNUIAAACRowA2QgAAAAbPfTZCAAAAe/r6NkIAAADwJXg3QgAAAGVR9TdC",
          "dtype": "f8"
         },
         "xaxis": "x4",
         "y": {
          "bdata": "sMkCjKGpmb8wD4PtqHWSvyCpdi/Pw46/YBnKGhDzib8goRimYk6Hv+D7f/cJTIK/gPBFTDxid7+AgRi5bgRrvwAkPq+ayzm/AJB/V411Hz8Ajo7AFSZOPwASQt9/Gl0/gPqKqc+UbD+AJaMNX0p0P0Cu6kmJbHM/QMeyb8iZdD/AEyl984xyP0BSwNErCHs/ALrN1reKgj/gVG8+ak2DP2DwJ75cD4I/gPVXcd1Zfj+gnqIwYKqCP+AmVA33O4I/oHNooaX3gj8gmSp4B0iFP8Cw5f/baoQ/oAA9AqCThT/AVuNw/2GDP+DP1rBDY4c/gL1SLbAYhj/AZWY3iM+EP8DHwBWQBoQ/oBaIBLRNhj+gQzGFDnOIPwDiRBG7qok/YKLfZOF3hz8Au//EYmSHP8ADt+So8IU/oJPoiYkzhj9gZk78PE6HP+BilI8NfYg/oKJBUDkKij8g0TJCK0KJPyCSKzm8fIo/oB/RyD1piT9gp733AdyGP2DaT6lUXIg/",
          "dtype": "f8"
         },
         "yaxis": "y4"
        },
        {
         "legendgroup": "acc_norm_siqa",
         "line": {
          "color": "rgba(112, 252, 97, 1)",
          "dash": "dot",
          "width": 1.5
         },
         "mode": "lines",
         "name": "SIQA",
         "showlegend": false,
         "type": "scatter",
         "x": {
          "bdata": "AAAAQN1K70EAAADwJXj3QQAAAEDdSv9BAAAASMqOA0IAAADwJXgHQgAAAJiBYQtCAAAAQN1KD0IAAAB0HJoRQgAAAEjKjhNCAAAAHHiDFUIAAADwJXgXQgAAAMTTbBlCAAAAmIFhG0IAAABsL1YdQgAAAEDdSh9CAAAAisWfIEIAAAB0HJohQgAAAF5zlCJCAAAASMqOI0IAAAAyIYkkQgAAABx4gyVCAAAABs99JkIAAADwJXgnQgAAANp8cihCAAAAxNNsKUIAAACuKmcqQgAAAJiBYStCAAAAgthbLEIAAABsL1YtQgAAAFaGUC5CAAAAQN1KL0IAAAAVmiIwQgAAAIrFnzBCAAAA//AcMUIAAAB0HJoxQgAAAOlHFzJCAAAAXnOUMkIAAADTnhEzQgAAAEjKjjNCAAAAvfULNEIAAAAyIYk0QgAAAKdMBjVCAAAAHHiDNUIAAACRowA2QgAAAAbPfTZCAAAAe/r6NkIAAADwJXg3QgAAAGVR9TdC",
          "dtype": "f8"
         },
         "xaxis": "x4",
         "y": {
          "bdata": "gOd1A8ptdb8AiXw7Ob5nvwCE8/vWKHi/gOz+QiwDZb8AdVg9sGhpPwClaJPrzHA/AAfEtvj4XD8ACMS2+PhcPwAHxLb4+Fw/gEHmi/iHcz8AvKTHVS1JPwB64XwS/ng/AHOnD3Iqcj+AQeaL+IdzP4AR1jW9I2w/AHrhfBL+eD+A5J3xpRZ9PwB64XwS/ng/AHVYPbBoaT8AoN9TiTdhPwDAvh1wpxo/AMC+HXCnGj8A9hDC8C1UvwDAvh1wpxo/wKuiAIygdz/A9WsvI/WBP4COTPFfRoE/wFyLbeajgj8AkuknMLCEP8AxBFcN1Yo/AJLpJzCwhD8AYCiktg2GP2D8pZzDyIg/gMrkGEomij9Ax0fiebyGP8D1ay8j9YE/YPylnMPIiD/gzy6BuCuRP8CG21bq7JQ/IGysecXmkz8gbKx5xeaTP2DqXV7dMZI/gFF9nKDgkj8wbKx5xeaTP2ChCjQP85U/oLic2mOPkz9AnMDLoO2OP2D8pZzDyIg/",
          "dtype": "f8"
         },
         "yaxis": "y4"
        },
        {
         "legendgroup": "acc_norm_piqa",
         "line": {
          "color": "rgba(199, 236, 54, 1)",
          "dash": "solid",
          "width": 1.5
         },
         "mode": "lines",
         "name": "PIQA",
         "showlegend": false,
         "type": "scatter",
         "x": {
          "bdata": "AAAAQN1K70EAAADwJXj3QQAAAEDdSv9BAAAASMqOA0IAAADwJXgHQgAAAJiBYQtCAAAAQN1KD0IAAAB0HJoRQgAAAEjKjhNCAAAAHHiDFUIAAADwJXgXQgAAAMTTbBlCAAAAmIFhG0IAAABsL1YdQgAAAEDdSh9CAAAAisWfIEIAAAB0HJohQgAAAF5zlCJCAAAASMqOI0IAAAAyIYkkQgAAABx4gyVCAAAABs99JkIAAADwJXgnQgAAANp8cihCAAAAxNNsKUIAAACuKmcqQgAAAJiBYStCAAAAgthbLEIAAABsL1YtQgAAAFaGUC5CAAAAQN1KL0IAAAAVmiIwQgAAAIrFnzBCAAAA//AcMUIAAAB0HJoxQgAAAOlHFzJCAAAAXnOUMkIAAADTnhEzQgAAAEjKjjNCAAAAvfULNEIAAAAyIYk0QgAAAKdMBjVCAAAAHHiDNUIAAACRowA2QgAAAAbPfTZCAAAAe/r6NkIAAADwJXg3QgAAAGVR9TdC",
          "dtype": "f8"
         },
         "xaxis": "x4",
         "y": {
          "bdata": "qN/kfQZYur/gk630xPe0v4DoSXK9BLC/cA6eux56rb/AX50CRx2lv8Co8CwVXKG/IJeXTSiNm79gzPUHcpmdvwDJWNGhL5q/IHnLOTMdl7+AQNBIGaeRvyDCHmQBXJO/4ENtf+kQlb8AEqz7b26WvyBb/yU+rZK/AKwnqAsdi7/AD6qv/mGIv8Dd6CuFv4m/AHpmJJJ6jL9APs78p5qDvwD7Y3q2Q22/ADxs70xZaT8AoDdgBrsYPwBd5oGpiGq/gAqmFxxJfL+A2OSToqZ9v8ChUASb34C/AARsqnt1db+Ama816FxxvwCg5E7Rwlm/AJqvNehccb8ANi0u9Rd0vwA2LS71F3S/APtjerZDbb+AZ+6xbrpyvwDBaImczWe/ADYtLvUXdL8AaOldt0xUvwBo8wUmKGE/gFaxaMAicj+AVrFowCJyPwBg3Nk6rU2/AGDc2TqtTb8A0qomAtN2vwAl65CPEmW/ADxs70xZaT/A5/BbSvGBPwBSrdDdCYY/",
          "dtype": "f8"
         },
         "yaxis": "y4"
        },
        {
         "legendgroup": "acc_norm_winogrande",
         "line": {
          "color": "rgba(247, 184, 54, 1)",
          "dash": "solid",
          "width": 1.5
         },
         "mode": "lines",
         "name": "WinoGrande",
         "showlegend": false,
         "type": "scatter",
         "x": {
          "bdata": "AAAAQN1K70EAAADwJXj3QQAAAEDdSv9BAAAASMqOA0IAAADwJXgHQgAAAJiBYQtCAAAAQN1KD0IAAAB0HJoRQgAAAEjKjhNCAAAAHHiDFUIAAADwJXgXQgAAAMTTbBlCAAAAmIFhG0IAAABsL1YdQgAAAEDdSh9CAAAAisWfIEIAAAB0HJohQgAAAF5zlCJCAAAASMqOI0IAAAAyIYkkQgAAABx4gyVCAAAABs99JkIAAADwJXgnQgAAANp8cihCAAAAxNNsKUIAAACuKmcqQgAAAJiBYStCAAAAgthbLEIAAABsL1YtQgAAAFaGUC5CAAAAQN1KL0IAAAAVmiIwQgAAAIrFnzBCAAAA//AcMUIAAAB0HJoxQgAAAOlHFzJCAAAAXnOUMkIAAADTnhEzQgAAAEjKjjNCAAAAvfULNEIAAAAyIYk0QgAAAKdMBjVCAAAAHHiDNUIAAACRowA2QgAAAAbPfTZCAAAAe/r6NkIAAADwJXg3QgAAAGVR9TdC",
          "dtype": "f8"
         },
         "xaxis": "x4",
         "y": {
          "bdata": "gMvfxJK4m79g/aBIDFuav6DEpVfy5JS/YPZm22uHk7+A9mbba4eTv0CtmFgdxYq/QHg6ntO4iL8AnKU0Cp9uv4Bq0BKSCnK/gIzK+LZIeD8AdOzgVS5IvwByceFEjVG/gD8/rblCg7+AnJGWC61wvwAAKDz942u/AKD853CvEr8AK69S1rJjvwCKY5ekmV8/AP6sPOxCZT+AxcXp0L59P4C+i3ww63Y/gPBMAKqNdT+AIg6EIzB0PwCGkIsWdXE/gJMEZlccfz/AUDwgzGGGP0DwVk+phow/wPPzhXnwjz/AHnucUr+HP0Ab3mWCVYQ/ACIOhCMwdD8AKUjxwwN7PwBU2Vacy4k/4LCmmG65kz8gTSSRe3SWP4DL1XWTv5Q/wCW1CfOSjj9AIhjTIimLP0Ab3mWCVYQ/wIWa2hVuiD9AiTcR5teLP2BktjfQEJQ/oAA0MN3Llj/AADQw3cuWPyDmBFO4xZU/IE0kkXt0lj+gADQw3cuWP+AXxtYxaJQ/",
          "dtype": "f8"
         },
         "yaxis": "y4"
        },
        {
         "legendgroup": "acc_norm_commonsense_qa",
         "line": {
          "color": "rgba(244, 105, 24, 1)",
          "dash": "dot",
          "width": 1.5
         },
         "mode": "lines",
         "name": "CommonsenseQA",
         "showlegend": false,
         "type": "scatter",
         "x": {
          "bdata": "AAAAQN1K70EAAADwJXj3QQAAAEDdSv9BAAAASMqOA0IAAADwJXgHQgAAAJiBYQtCAAAAQN1KD0IAAAB0HJoRQgAAAEjKjhNCAAAAHHiDFUIAAADwJXgXQgAAAMTTbBlCAAAAmIFhG0IAAABsL1YdQgAAAEDdSh9CAAAAisWfIEIAAAB0HJohQgAAAF5zlCJCAAAASMqOI0IAAAAyIYkkQgAAABx4gyVCAAAABs99JkIAAADwJXgnQgAAANp8cihCAAAAxNNsKUIAAACuKmcqQgAAAJiBYStCAAAAgthbLEIAAABsL1YtQgAAAFaGUC5CAAAAQN1KL0IAAAAVmiIwQgAAAIrFnzBCAAAA//AcMUIAAAB0HJoxQgAAAOlHFzJCAAAAXnOUMkIAAADTnhEzQgAAAEjKjjNCAAAAvfULNEIAAAAyIYk0QgAAAKdMBjVCAAAAHHiDNUIAAACRowA2QgAAAAbPfTZCAAAAe/r6NkIAAADwJXg3QgAAAGVR9TdC",
          "dtype": "f8"
         },
         "xaxis": "x4",
         "y": {
          "bdata": "oDo7Fdcpp7+w+aikCSqZv8AQZYWre4y/gH/lFPUWZb8A+PIiFH5zPwBR8vow8IE/wOnSvG1BgT+Au65vxAiGP4CQJ1nrOY4/IH9Agifekj9ga0sSo6uYPxDPzRmW8JU/YLSePHHqlD/AmW9fTOSTP5Cgqczst5o/wG7oSHMVnD+QV1aiHnmeP0ByhX9Df58/MCDi/WRuoD+w0/GcxsWgP8g6EduJdKE/YP0GBOYDpD+gI380NdijPyDXjtOWL6Q/cGQmQqmypD9wZCZCqbKkPwhwb5XTgKM/8AhQVxDSoj+IvF/2cSmjPzAvyIdfpqI/4KEwGU0joj/goTAZTSOiP9BJ92SErKM/SJbnxSJVoz+gI380NdijP3BkJkKpsqQ/iMtFgGxhpT/wv/wsQpOmPwAYNuEKCqU/iMtFgGxhpT+gI380NdijP8Di1ybB/aI/qHu46P1Ooj/wCFBXENKiP2AM7Y3gO6Y/yACkOrZtpz8w9Vrni5+oP3BzDMyj6qY/",
          "dtype": "f8"
         },
         "yaxis": "y4"
        },
        {
         "legendgroup": "acc_norm_openbookqa",
         "line": {
          "color": "rgba(199, 42, 4, 1)",
          "dash": "solid",
          "width": 1.5
         },
         "mode": "lines",
         "name": "OpenbookQA",
         "showlegend": false,
         "type": "scatter",
         "x": {
          "bdata": "AAAAQN1K70EAAADwJXj3QQAAAEDdSv9BAAAASMqOA0IAAADwJXgHQgAAAJiBYQtCAAAAQN1KD0IAAAB0HJoRQgAAAEjKjhNCAAAAHHiDFUIAAADwJXgXQgAAAMTTbBlCAAAAmIFhG0IAAABsL1YdQgAAAEDdSh9CAAAAisWfIEIAAAB0HJohQgAAAF5zlCJCAAAASMqOI0IAAAAyIYkkQgAAABx4gyVCAAAABs99JkIAAADwJXgnQgAAANp8cihCAAAAxNNsKUIAAACuKmcqQgAAAJiBYStCAAAAgthbLEIAAABsL1YtQgAAAFaGUC5CAAAAQN1KL0IAAAAVmiIwQgAAAIrFnzBCAAAA//AcMUIAAAB0HJoxQgAAAOlHFzJCAAAAXnOUMkIAAADTnhEzQgAAAEjKjjNCAAAAvfULNEIAAAAyIYk0QgAAAKdMBjVCAAAAHHiDNUIAAACRowA2QgAAAAbPfTZCAAAAe/r6NkIAAADwJXg3QgAAAGVR9TdC",
          "dtype": "f8"
         },
         "xaxis": "x4",
         "y": {
          "bdata": "WFSvHE8WpL9onQJHHVWgv8D+bGZQype/AF9SN3Olkb/gkBO77EeQv0Di8RcfRoS/AFL39Xh7ar8AwgEoih5fvwAIsL+KJEk/AFALRlYyVL+A5NhziiFsP4AZ/ARfBWW/4EV0HxKLgb/gGu0IObyJv8BMroyyXoi/AH50ZONudb+ADmoy0stwP0CxJuw2yIg/AOoh3VA+jj9QkQ5nNdqRP6AtjF9ClZQ/IJhI1NWtmD8AyglYT1CXP0D/ZxKZXJk/EDEplhL/lz+Qxmwhf+aTP+Bi6hmMoZY/UGaHUFwLmj+gHQCdQR6hP+A3YwOz0p4/YDTGzOJomz+AX03juzeTP2D4LaX4iJI/IMPP6q58kD8QMSmWEv+XP2D4LaX4iJI/kMZsIX/mkz8A6iHdUD6OPyDDz+qufJA/YPgtpfiIkj/AlKudBUSVP5Cb5QqmF5w/YM2mjh+6mj/AaSSHLHWdPyCYSNTVrZg/QP9nEplcmT9gkQ5nNdqRP0Aq7yhyK5E/",
          "dtype": "f8"
         },
         "yaxis": "y4"
        },
        {
         "legendgroup": "acc_norm_arc_easy",
         "line": {
          "color": "rgba(48, 18, 59, 1)",
          "dash": "solid",
          "width": 1.5
         },
         "mode": "lines",
         "name": "ARC Easy",
         "showlegend": false,
         "type": "scatter",
         "x": {
          "bdata": "AAAAQN1K70EAAADwJXj3QQAAANBKr/xBAAAA2DfzAEIAAABIyo4DQgAAAPAleAdCAAAAmIFhC0IAAABA3UoPQgAAAHQcmhFCAAAASMqOE0IAAAAceIMVQgAAAPAleBdCAAAAxNNsGUIAAACYgWEbQgAAAGwvVh1CAAAAQN1KH0IAAACKxZ8gQgAAAHQcmiFCAAAAXnOUIkIAAABIyo4jQgAAADIhiSRCAAAAHHiDJUIAAAAGz30mQgAAAPAleCdCAAAA2nxyKEIAAADE02wpQgAAAK4qZypCAAAAmIFhK0IAAACC2FssQgAAAGwvVi1CAAAAVoZQLkIAAABA3UovQgAAABWaIjBCAAAAisWfMEIAAAD/8BwxQgAAAHQcmjFCAAAA6UcXMkIAAABec5QyQgAAANOeETNCAAAASMqOM0IAAAC99Qs0QgAAADIhiTRCAAAAp0wGNUIAAAAceIM1QgAAAJGjADZCAAAABs99NkIAAAB7+vo2QgAAAPAleDdCAAAAZVH1N0I=",
          "dtype": "f8"
         },
         "xaxis": "x5",
         "y": {
          "bdata": "4EX7xOHYrr/QnjIi65udv2DGHAL0AJK/QIZaBHr1er8A/yeVbMZRPxD4ghg73JI/8EcQsKnulT8Q68cVV32fPygQE2jQxKA/qCKWKJtmpj9oGuoLQQKrP0hqd6OvFK4/pLyuFlUmsD/IxU2OSPWvP7heLlCFRq8/3DYK7T+/sD88K8GZFfGxPzwrwZkV8bE/KKsesSPvrj/4hKaA1BqvP/SdKSsDbrE/5PEM0Z4ysj9EOqcjECm0P1xN47s3E7Q/REmNrQphtj8Ed/giV1G3P7Q9RFrgkrc/xEGaaA1FtT9E5sN9dGSzP2QI5p+WhrU/xF9mfAK1uT98NZg9hi68P1wTdhtkDLo/zFCA8gd9tz8kNlEV43a2P6SRJwB8V7g/NFQdKdjmuj9cIlylXkS8P5Sct3tJ3bw/fDWYPYYuvD/82cFS7U26PySZGkV5c7k/7HKiFCqfuT+0+EY+Pwa5PwSG3qxRibk/3LefMMsruD8UzzHXH8i1PwwjFX27jLY/lNYkHB3ktj8=",
          "dtype": "f8"
         },
         "yaxis": "y5"
        },
        {
         "legendgroup": "acc_norm_arc_challenge",
         "line": {
          "color": "rgba(68, 96, 208, 1)",
          "dash": "dot",
          "width": 1.5
         },
         "mode": "lines",
         "name": "ARC Challenge",
         "showlegend": false,
         "type": "scatter",
         "x": {
          "bdata": "AAAAQN1K70EAAADwJXj3QQAAANBKr/xBAAAA2DfzAEIAAABIyo4DQgAAAPAleAdCAAAAmIFhC0IAAABA3UoPQgAAAHQcmhFCAAAASMqOE0IAAAAceIMVQgAAAPAleBdCAAAAxNNsGUIAAACYgWEbQgAAAGwvVh1CAAAAQN1KH0IAAACKxZ8gQgAAAHQcmiFCAAAAXnOUIkIAAABIyo4jQgAAADIhiSRCAAAAHHiDJUIAAAAGz30mQgAAAPAleCdCAAAA2nxyKEIAAADE02wpQgAAAK4qZypCAAAAmIFhK0IAAACC2FssQgAAAGwvVi1CAAAAVoZQLkIAAABA3UovQgAAABWaIjBCAAAAisWfMEIAAAD/8BwxQgAAAHQcmjFCAAAA6UcXMkIAAABec5QyQgAAANOeETNCAAAASMqOM0IAAAC99Qs0QgAAADIhiTRCAAAAp0wGNUIAAAAceIM1QgAAAJGjADZCAAAABs99NkIAAAB7+vo2QgAAAPAleDdCAAAAZVH1N0I=",
          "dtype": "f8"
         },
         "xaxis": "x5",
         "y": {
          "bdata": "+LegL3MUnb9QuNuxVx+MvwCuBA7n4YG/gBjBgnr6hb+AGMGCevqFv0B8Q4ptP4O/AJKOuv3oVr8ApUGvBbRfPwBMvS9pxX0/QBPCPk9PeD9AsLU7JSCJP0DE5S2OXZI/4N4UC7Njkz8AZABda4KYPzAUc8X8b5U/oH4vOpCImT8wMj/Z8d+ZP0BQC+3mT54/gJw8I8lZoD/QajrKC1afPxBQTMIqsaA/EFBMwiqxoD/wn9lZmcOjP5gSQuuGQKM/uIhHs0Qnpj9APFdSpn6mP0BLPdygtqg/8K6/45P7pT9APFdSpn6mP1CjdpBpLac/OPMDKNg/qj+wP/SIduipP5jY1EqzOak/kMnuwLgBpz+Qye7AuAGnP3hiz4L1UqY/oDAO/3uwpz/Q72bxB9amP0BLPdygtqg/wJctPT9fqD9ASz3coLaoP+BWhi/LhKc/0O9m8QfWpj8QXzJMJemiP/joLIRnAqA/APgSDmI6oj8QXzJMJemiP2j7r0QypKU/oCEodYF4pT8=",
          "dtype": "f8"
         },
         "yaxis": "y5"
        },
        {
         "legendgroup": "acc_norm_hellaswag",
         "line": {
          "color": "rgba(54, 167, 248, 1)",
          "dash": "solid",
          "width": 1.5
         },
         "mode": "lines",
         "name": "Hellaswag",
         "showlegend": false,
         "type": "scatter",
         "x": {
          "bdata": "AAAAQN1K70EAAADwJXj3QQAAANBKr/xBAAAA2DfzAEIAAABIyo4DQgAAAPAleAdCAAAAmIFhC0IAAABA3UoPQgAAAHQcmhFCAAAASMqOE0IAAAAceIMVQgAAAPAleBdCAAAAxNNsGUIAAACYgWEbQgAAAGwvVh1CAAAAQN1KH0IAAACKxZ8gQgAAAHQcmiFCAAAAXnOUIkIAAABIyo4jQgAAADIhiSRCAAAAHHiDJUIAAAAGz30mQgAAAPAleCdCAAAA2nxyKEIAAADE02wpQgAAAK4qZypCAAAAmIFhK0IAAACC2FssQgAAAGwvVi1CAAAAVoZQLkIAAABA3UovQgAAABWaIjBCAAAAisWfMEIAAAD/8BwxQgAAAHQcmjFCAAAA6UcXMkIAAABec5QyQgAAANOeETNCAAAASMqOM0IAAAC99Qs0QgAAADIhiTRCAAAAp0wGNUIAAAAceIM1QgAAAJGjADZCAAAABs99NkIAAAB7+vo2QgAAAPAleDdCAAAAZVH1N0I=",
          "dtype": "f8"
         },
         "xaxis": "x5",
         "y": {
          "bdata": "lkl6DrRXxb8QM6E/vAPCvyLh6CA3GMC//NFwo8WwvL8w6QJKGk26vwAM3kOZt7a/dEnoGj0otL/ghvLx4Jixv4DJoJ997a6/gLq6FYO1rL+o0Uy811Gqv8AphnCgyKi/2MoSTzd+o78Qpn3XIsWdvzDv0AHxA5q/gItO+v2+nL+Ai076/b6cv8AJAN8VCpu/cE+20hPfk79Qn0NqgvGWvxCzONoGJJG/8ALGcXU2lL9g+BcJqsWKv4D/KDulzJC/4I1blBathr8ADkNO7LJ/v8CcTGy4xnS/ADnKZMWBd78A7kBlOYiAv8BxxVXf93y/ADnKZMWBd7+Aj6cFIytpvwBgBHr1GjE/gPIpDRZwZr8AyKL2PKFuv0AykPckrnC/ACbh6CA3SL/Azg3wMWlzv8CcTGy4xnS/AAcJ4UvfeL/AaovoPiR2v8CcTGy4xnS/AAcJ4UvfeL/AaovoPiR2v8CcTGy4xnS/AARnVsQHV78AZNUN2pU6v4C6Lhz8+WC/AAcJ4UvfeL8=",
          "dtype": "f8"
         },
         "yaxis": "y5"
        },
        {
         "legendgroup": "acc_norm_mmlu",
         "line": {
          "color": "rgba(33, 226, 181, 1)",
          "dash": "solid",
          "width": 1.5
         },
         "mode": "lines",
         "name": "MMLU",
         "showlegend": false,
         "type": "scatter",
         "x": {
          "bdata": "AAAAQN1K70EAAADwJXj3QQAAANBKr/xBAAAA2DfzAEIAAABIyo4DQgAAAPAleAdCAAAAmIFhC0IAAABA3UoPQgAAAHQcmhFCAAAASMqOE0IAAAAceIMVQgAAAPAleBdCAAAAxNNsGUIAAACYgWEbQgAAAGwvVh1CAAAAQN1KH0IAAACKxZ8gQgAAAHQcmiFCAAAAXnOUIkIAAABIyo4jQgAAADIhiSRCAAAAHHiDJUIAAAAGz30mQgAAAPAleCdCAAAA2nxyKEIAAADE02wpQgAAAK4qZypCAAAAmIFhK0IAAACC2FssQgAAAGwvVi1CAAAAVoZQLkIAAABA3UovQgAAABWaIjBCAAAAisWfMEIAAAD/8BwxQgAAAHQcmjFCAAAA6UcXMkIAAABec5QyQgAAANOeETNCAAAASMqOM0IAAAC99Qs0QgAAADIhiTRCAAAAp0wGNUIAAAAceIM1QgAAAJGjADZCAAAABs99NkIAAAB7+vo2QgAAAPAleDdCAAAAZVH1N0I=",
          "dtype": "f8"
         },
         "xaxis": "x5",
         "y": {
          "bdata": "oOM084mqib9A4Xpyj/5yvwBZo0dweVK/AE970LUEWD/AF0tDwsxyP+DqSQ+nWoE/wABaQCRFiD8gIcTK5mKOP3CXOF3V0JA/APMek5Cxkj+wgZraAPaSPzCtYglgW5Q/cOvkgMP/lD9w8cZ1MIqWP5Bi1kqSQJg/MNRPXRvGmj8Qepqy7qmcP9CqRe0ep58/CB0VCf+hoD9QWrXOuTmhP7ju5wkUyaA/uJ70YRXIoD/Qm1u4bbigPwjy0WwhrqE/MDtgSexvoj+QtE6CusajPxj0b8zovqM/OPZo3iL+oj/4NH8SEteiP7i+ZhLZxqI/+JaV+G2/oz9Yd3C8NEijPxiFO5TDG6M/MM7O3WTVoz9YHlNTTICkP1CzaDy/u6Q/WFlDg+PFpD/Y4ebGfS6lP+hhNnu7PaU/2JUQxo3lpD9YGBV21A2kP4h5LStnHqQ/KIIbOOnqoj94obN4aDqiP+jzcvQ+FqI/YDotI3s2oz/YF5cSOH6jPzDwsCIrSaM/EOlH1RA4oj8=",
          "dtype": "f8"
         },
         "yaxis": "y5"
        },
        {
         "legendgroup": "acc_norm_siqa",
         "line": {
          "color": "rgba(112, 252, 97, 1)",
          "dash": "dot",
          "width": 1.5
         },
         "mode": "lines",
         "name": "SIQA",
         "showlegend": false,
         "type": "scatter",
         "x": {
          "bdata": "AAAAQN1K70EAAADwJXj3QQAAANBKr/xBAAAA2DfzAEIAAABIyo4DQgAAAPAleAdCAAAAmIFhC0IAAABA3UoPQgAAAHQcmhFCAAAASMqOE0IAAAAceIMVQgAAAPAleBdCAAAAxNNsGUIAAACYgWEbQgAAAGwvVh1CAAAAQN1KH0IAAACKxZ8gQgAAAHQcmiFCAAAAXnOUIkIAAABIyo4jQgAAADIhiSRCAAAAHHiDJUIAAAAGz30mQgAAAPAleCdCAAAA2nxyKEIAAADE02wpQgAAAK4qZypCAAAAmIFhK0IAAACC2FssQgAAAGwvVi1CAAAAVoZQLkIAAABA3UovQgAAABWaIjBCAAAAisWfMEIAAAD/8BwxQgAAAHQcmjFCAAAA6UcXMkIAAABec5QyQgAAANOeETNCAAAASMqOM0IAAAC99Qs0QgAAADIhiTRCAAAAp0wGNUIAAAAceIM1QgAAAJGjADZCAAAABs99NkIAAAB7+vo2QgAAAPAleDdCAAAAZVH1N0I=",
          "dtype": "f8"
         },
         "xaxis": "x5",
         "y": {
          "bdata": "QKFJCwODjr+gk9UwwtuAv4AstvL+LIC/AP6RpVX0hL+gk9UwwtuAv4CKLWl3/H6/QH25jjZVcb9AS/gKvbJyv4Ds/kIsA2W/AFCBSh9IYr8Als3UxAxSPwB6K6Ktb02/AJbN1MQMUj8ACjXAeYNCvwBzpw9yKnI/AHrhfBL+eD8ASCD5mFt6P4BB5ov4h3M/gBHWNb0jbD/AgBvqstF/PwBIIPmYW3o/AEgg+Zhbej8AkFzLQ4I8PwDPyMXeglc/AAo1wHmDQr8AvKTHVS1JPwBo+ngXXS6/AHoroq1vTb8AvKTHVS1JPwC8pMdVLUk/AHVYPbBoaT8Al83UxAxSPwAl+jNGeWq/gIh8Ozm+Z78AwncsUzRtvwA9XUyW8mM/ADAMswqkWb8AYPp4F10uvwC8pMdVLUk/gBHWNb0jbD8Als3UxAxSPwAKNcB5g0K/ACX6M0Z5ar8AXvUkYO9vv4Ds/kIsA2W/AHoroq1vTb8AaPp4F10uvwAKNcB5g0K/ACX6M0Z5ar8=",
          "dtype": "f8"
         },
         "yaxis": "y5"
        },
        {
         "legendgroup": "acc_norm_piqa",
         "line": {
          "color": "rgba(199, 236, 54, 1)",
          "dash": "solid",
          "width": 1.5
         },
         "mode": "lines",
         "name": "PIQA",
         "showlegend": false,
         "type": "scatter",
         "x": {
          "bdata": "AAAAQN1K70EAAADwJXj3QQAAANBKr/xBAAAA2DfzAEIAAABIyo4DQgAAAPAleAdCAAAAmIFhC0IAAABA3UoPQgAAAHQcmhFCAAAASMqOE0IAAAAceIMVQgAAAPAleBdCAAAAxNNsGUIAAACYgWEbQgAAAGwvVh1CAAAAQN1KH0IAAACKxZ8gQgAAAHQcmiFCAAAAXnOUIkIAAABIyo4jQgAAADIhiSRCAAAAHHiDJUIAAAAGz30mQgAAAPAleCdCAAAA2nxyKEIAAADE02wpQgAAAK4qZypCAAAAmIFhK0IAAACC2FssQgAAAGwvVi1CAAAAVoZQLkIAAABA3UovQgAAABWaIjBCAAAAisWfMEIAAAD/8BwxQgAAAHQcmjFCAAAA6UcXMkIAAABec5QyQgAAANOeETNCAAAASMqOM0IAAAC99Qs0QgAAADIhiTRCAAAAp0wGNUIAAAAceIM1QgAAAJGjADZCAAAABs99NkIAAAB7+vo2QgAAAPAleDdCAAAAZVH1N0I=",
          "dtype": "f8"
         },
         "xaxis": "x5",
         "y": {
          "bdata": "OLHAMF0fv79A6y3RMCa5v5gV/A+trLa/IGZCf3gHtL/Q2KoQZoSzv3iQEL70jbG/QOgli8+lrb/Q5IhU/zuqv5CvKpq1L6i/gEgLXPKAp78QrI1j5cWkv0Br5lVx66O/EJ2n2eqNor/wzmhdZDChv4ABVMK7pZ+/oLHGKk2TnL+AmjSE+PaevxCOwU/wVaC/gIJ4/MWHob8QNoibJ9+hv4CCePzFh6G/wKjwLBVcob/gGOZoEEKdv6BKp+yJ5Ju/4BjmaBBCnb+wQdHuUa2gvwBORCNaTp+/gHxocAOHmr+Axbua0cWWv2D+tovrO5y/AOck5Zafnr/gscYqTZOcv6AOD8WfBJO/QEFrM3gEh79ASKWgGNiNv+DcTUEmYpS/oEqn7Inkm78g/raL6zucv+AY5mgQQp2/IODqd/bLl78g4Op39suXv+BhOZPegJm/ULQ5gD8qoL9QtDmAPyqgv4DFu5rRxZa/IFv/JT6tkr9gkF3gh7mUv4B8aHADh5q/AOck5Zafnr8=",
          "dtype": "f8"
         },
         "yaxis": "y5"
        },
        {
         "legendgroup": "acc_norm_winogrande",
         "line": {
          "color": "rgba(247, 184, 54, 1)",
          "dash": "solid",
          "width": 1.5
         },
         "mode": "lines",
         "name": "WinoGrande",
         "showlegend": false,
         "type": "scatter",
         "x": {
          "bdata": "AAAAQN1K70EAAADwJXj3QQAAANBKr/xBAAAA2DfzAEIAAABIyo4DQgAAAPAleAdCAAAAmIFhC0IAAABA3UoPQgAAAHQcmhFCAAAASMqOE0IAAAAceIMVQgAAAPAleBdCAAAAxNNsGUIAAACYgWEbQgAAAGwvVh1CAAAAQN1KH0IAAACKxZ8gQgAAAHQcmiFCAAAAXnOUIkIAAABIyo4jQgAAADIhiSRCAAAAHHiDJUIAAAAGz30mQgAAAPAleCdCAAAA2nxyKEIAAADE02wpQgAAAK4qZypCAAAAmIFhK0IAAACC2FssQgAAAGwvVi1CAAAAVoZQLkIAAABA3UovQgAAABWaIjBCAAAAisWfMEIAAAD/8BwxQgAAAHQcmjFCAAAA6UcXMkIAAABec5QyQgAAANOeETNCAAAASMqOM0IAAAC99Qs0QgAAADIhiTRCAAAAp0wGNUIAAAAceIM1QgAAAJGjADZCAAAABs99NkIAAAB7+vo2QgAAAPAleDdCAAAAZVH1N0I=",
          "dtype": "f8"
         },
         "xaxis": "x5",
         "y": {
          "bdata": "oAA+f9zEnb+Ay9/Ekribv6DEpVfy5JS/QN9Z3JZnib9ACuHybzaBv0A/P625QoO/QEZ5GloWir+AFLiW4HOLvwCjwbSsh4C/wKZe63zxg78AqgVxTFR+v4CtmFgdxYq/ANy8pcb9hb8AERtgEAqIv4A4D48YaHO/AJylNAqfbr8AeETt0rF/v4AUuJbgc4u/oKbZQ/10kL/A27ylxv2Fv4A4D48YaHO/AI8xWsn3YL8AK69S1rJjv4A/Sfy4O3q/AAAoPP3ja78AZKpD8ChpvwAOiHg/mXu/wA1+KUCghL/g2zf+RoGSvwARG2AQCoi/gD8/rblCg78AxyxL421mv4BxCoAy3ni/gA2IeD+Ze78AqgVxTFR+vwAAKDz942u/AGSqQ/Aoab8AUO2meYJDPwBhL0Tfh2I/AGIvRN+HYj8ArGzSXgNXvwAAKDz942u/AAAoPP3ja78A3Mb0xfZ8v4BxCoAy3ni/wA1+KUCghL+AP0n8uDt6v4DUjIclI3a/gJyRlgutcL8=",
          "dtype": "f8"
         },
         "yaxis": "y5"
        },
        {
         "legendgroup": "acc_norm_commonsense_qa",
         "line": {
          "color": "rgba(244, 105, 24, 1)",
          "dash": "dot",
          "width": 1.5
         },
         "mode": "lines",
         "name": "CommonsenseQA",
         "showlegend": false,
         "type": "scatter",
         "x": {
          "bdata": "AAAAQN1K70EAAADwJXj3QQAAANBKr/xBAAAA2DfzAEIAAABIyo4DQgAAAPAleAdCAAAAmIFhC0IAAABA3UoPQgAAAHQcmhFCAAAASMqOE0IAAAAceIMVQgAAAPAleBdCAAAAxNNsGUIAAACYgWEbQgAAAGwvVh1CAAAAQN1KH0IAAACKxZ8gQgAAAHQcmiFCAAAAXnOUIkIAAABIyo4jQgAAADIhiSRCAAAAHHiDJUIAAAAGz30mQgAAAPAleCdCAAAA2nxyKEIAAADE02wpQgAAAK4qZypCAAAAmIFhK0IAAACC2FssQgAAAGwvVi1CAAAAVoZQLkIAAABA3UovQgAAABWaIjBCAAAAisWfMEIAAAD/8BwxQgAAAHQcmjFCAAAA6UcXMkIAAABec5QyQgAAANOeETNCAAAASMqOM0IAAAC99Qs0QgAAADIhiTRCAAAAp0wGNUIAAAAceIM1QgAAAJGjADZCAAAABs99NkIAAAB7+vo2QgAAAPAleDdCAAAAZVH1N0I=",
          "dtype": "f8"
         },
         "xaxis": "x5",
         "y": {
          "bdata": "AIK11WlGsL/wx9KD6aynv3BdFg9WlKO/AFp52IUqoL/AYMjizNiZv8CLT/mlp5G/oL0QfR9KkL8AreJ9uDaPvwCt4n24No+/AFRe/htIbb+AVF7+G0htvwC44AUPjWq/QDhPZbTggL+Axqz3Gl9xvwBg7OBVLhg/AOL2EmfRXD9A+PIiFH5zPwD/LJC0UXo/QGnpBEhqfj/A8AwqDhWIP8C+S6aUcok/QMLo3GTcjD/AVyxo0cOIPwAma+RXIYo/QJAnWes5jj8gW8meoS2MP0ApCBsoi40/AFHy+jDwgT8gHzF3t02DPwD48iIUfnM/ACZr5Fchij+A90aXruiOP9CZb19M5JM/QJ0MlhxOlz9gtJ48ceqUPxA27VdZn5Y/YP3xZj8pkT/gAI+dD5OUP8AyUCGJNZM/UE1//q07lD+A90aXruiOPyBbyZ6hLYw/gLuub8QIhj/A6dK8bUGBPwC4ETn0noI/AFHy+jDwgT9AlHAbITl2PwAqtKaNIHI/AGDs4FUuGD8=",
          "dtype": "f8"
         },
         "yaxis": "y5"
        },
        {
         "legendgroup": "acc_norm_openbookqa",
         "line": {
          "color": "rgba(199, 42, 4, 1)",
          "dash": "solid",
          "width": 1.5
         },
         "mode": "lines",
         "name": "OpenbookQA",
         "showlegend": false,
         "type": "scatter",
         "x": {
          "bdata": "AAAAQN1K70EAAADwJXj3QQAAANBKr/xBAAAA2DfzAEIAAABIyo4DQgAAAPAleAdCAAAAmIFhC0IAAABA3UoPQgAAAHQcmhFCAAAASMqOE0IAAAAceIMVQgAAAPAleBdCAAAAxNNsGUIAAACYgWEbQgAAAGwvVh1CAAAAQN1KH0IAAACKxZ8gQgAAAHQcmiFCAAAAXnOUIkIAAABIyo4jQgAAADIhiSRCAAAAHHiDJUIAAAAGz30mQgAAAPAleCdCAAAA2nxyKEIAAADE02wpQgAAAK4qZypCAAAAmIFhK0IAAACC2FssQgAAAGwvVi1CAAAAVoZQLkIAAABA3UovQgAAABWaIjBCAAAAisWfMEIAAAD/8BwxQgAAAHQcmjFCAAAA6UcXMkIAAABec5QyQgAAANOeETNCAAAASMqOM0IAAAC99Qs0QgAAADIhiTRCAAAAp0wGNUIAAAAceIM1QgAAAJGjADZCAAAABs99NkIAAAB7+vo2QgAAAPAleDdCAAAAZVH1N0I=",
          "dtype": "f8"
         },
         "xaxis": "x5",
         "y": {
          "bdata": "ADTLIJrWmb+wl00ojRuXvyDGcXU2VJK/ABSzm5jogr8AfnRk4251vwDCASiKHl+/AFL39Xh7ar8AIBneF2EaP4Dk2HOKIWw/gA5qMtLLcD9AR2Uj7EF2PwAVqfMpDYY/QBzeDBNzfj/ARmp3o6+EP4AOajLSy3A/QLEm7DbIiD8g4+dvsGqHP1CRDmc12pE/IMPP6q58kD9AsSbsNsiIPwCAYBQGuHs/IOPnb7Bqhz8A6iHdUD6OP1CRDmc12pE/IOPnb7Bqhz+Af2VovSWKP6B4K/scUoM/IOPnb7Bqhz+Aqux+lvSBP6B4K/scUoM/oHgr+xxSgz8AFanzKQ2GPwCAYBQGuHs/QCrvKHIrkT9AKu8ociuRP5DGbCF/5pM/IMPP6q58kD9QkQ5nNdqRP1Bmh1BcC5o/EMoJWE9Qlz8AyglYT1CXP+Bi6hmMoZY/4GLqGYyhlj+ANMbM4mibPxAxKZYS/5c/kMZsIX/mkz9QkQ5nNdqRP8Ab42DK4Iw/YPgtpfiIkj8=",
          "dtype": "f8"
         },
         "yaxis": "y5"
        },
        {
         "legendgroup": "acc_norm_arc_easy",
         "line": {
          "color": "rgba(48, 18, 59, 1)",
          "dash": "solid",
          "width": 1.5
         },
         "mode": "lines",
         "name": "ARC Easy",
         "showlegend": false,
         "type": "scatter",
         "x": {
          "bdata": "AAAAQN1K70EAAADwJXj3QQAAAEDdSv9BAAAASMqOA0IAAADwJXgHQgAAAJiBYQtCAAAAQN1KD0IAAAB0HJoRQgAAAEjKjhNCAAAAHHiDFUIAAADwJXgXQgAAAMTTbBlCAAAAmIFhG0IAAABsL1YdQgAAAEDdSh9CAAAAisWfIEIAAAB0HJohQgAAAF5zlCJCAAAASMqOI0IAAAAyIYkkQgAAABx4gyVCAAAABs99JkIAAADwJXgnQgAAANp8cihCAAAAxNNsKUIAAACuKmcqQgAAAJiBYStCAAAAgthbLEIAAABsL1YtQgAAAFaGUC5CAAAAQN1KL0IAAAAVmiIwQgAAAIrFnzBCAAAA//AcMUIAAAB0HJoxQgAAAOlHFzJCAAAAXnOUMkIAAADTnhEzQgAAAEjKjjNCAAAAvfULNEIAAAAyIYk0QgAAAKdMBjVCAAAAHHiDNUIAAACRowA2QgAAAAbPfTZCAAAAe/r6NkIAAADwJXg3QgAAAGVR9TdC",
          "dtype": "f8"
         },
         "xaxis": "x6",
         "y": {
          "bdata": "1ERg2oJ7wb9Adz30OlW9v3SOz5qP8bq/IPJRooI2uL8EfEzaxE+1v6AkzP1YIbG/YPkKZEMwr78QbHP1MK2uvzSE+PYetLC/qNDoV71csL9UlzSPRp6wvxBsc/Uwra6/oBCdCpjMrL8ITqfhOz2qv4jj6myoJKa/6Mi7j4Mepb+wk13VORKjv0iujLJeGKS/CHku+BQMor8wR210m2mjv8DrlokCiaG/qJNd1TkSo7/wEQ+6UV2hvwh5LvgUDKK/kB1YDXwroL+ohHdLP9qgv4DFHlmztKG/qJNd1TkSo7/I+nwT/cCjv+jIu4+DHqW/cHzLLuV1pb+Ai7G4362nv8gYSSfyMKi/EJf6Cwp8pr/gudUFieaiv1BSQsFM852/YLlh/w+inr/wEQ+6UV2hv3Be/xrwBaG/kCw+l3Zjor8QHeQGA+ebv6DQ86VkPpy/QBaqmWITlb+QsieSb86Xv4BLCFSsH5e/QCJ9j1Tpj79QX/3DMFKRv+B5LKFVWJK/",
          "dtype": "f8"
         },
         "yaxis": "y6"
        },
        {
         "legendgroup": "acc_norm_arc_challenge",
         "line": {
          "color": "rgba(68, 96, 208, 1)",
          "dash": "dot",
          "width": 1.5
         },
         "mode": "lines",
         "name": "ARC Challenge",
         "showlegend": false,
         "type": "scatter",
         "x": {
          "bdata": "AAAAQN1K70EAAADwJXj3QQAAAEDdSv9BAAAASMqOA0IAAADwJXgHQgAAAJiBYQtCAAAAQN1KD0IAAAB0HJoRQgAAAEjKjhNCAAAAHHiDFUIAAADwJXgXQgAAAMTTbBlCAAAAmIFhG0IAAABsL1YdQgAAAEDdSh9CAAAAisWfIEIAAAB0HJohQgAAAF5zlCJCAAAASMqOI0IAAAAyIYkkQgAAABx4gyVCAAAABs99JkIAAADwJXgnQgAAANp8cihCAAAAxNNsKUIAAACuKmcqQgAAAJiBYStCAAAAgthbLEIAAABsL1YtQgAAAFaGUC5CAAAAQN1KL0IAAAAVmiIwQgAAAIrFnzBCAAAA//AcMUIAAAB0HJoxQgAAAOlHFzJCAAAAXnOUMkIAAADTnhEzQgAAAEjKjjNCAAAAvfULNEIAAAAyIYk0QgAAAKdMBjVCAAAAHHiDNUIAAACRowA2QgAAAAbPfTZCAAAAe/r6NkIAAADwJXg3QgAAAGVR9TdC",
          "dtype": "f8"
         },
         "xaxis": "x6",
         "y": {
          "bdata": "SL7g73I+p78oOfWduh+iv1idcVJODpy/ODZSFItfm78ozzLWx7Cav+iZ1Bt+pJi/0BTpycWFk79IYdkqZC6Tv0hh2SpkLpO/UH+lPlmel7+oRqpNPyiSv5Dfig98eZG/ULjbsVcfjL9oEUyT9RuQv7C7eOgniY+/4LQ+e4e1iL+AsaFEt0uFv4CxoUS3S4W/IOqcNdHBir/wxFsyV3OQvwgse3AaIpG/qEaqTT8okr+Q34oPfHmRv5DtOWyhK46/4LQ+e4e1iL+wu3joJ4mPv5Dfig98eZG/sLt46CeJj78Ag333DROKv8Dm//4AWIe/aBFMk/UbkL8ILHtwGiKRvxiTmq7d0JG/cIYaLt58jb9oEUyT9RuQvyDqnDXRwYq/ULjbsVcfjL/ATR89xAaIv+C0PnuHtYi/wOb//gBYh79A42LIMO6Dv4CxoUS3S4W/gBjBgnr6hb+gf+DAPamGv2BKggb0nIS/4N/FkWCEgL8AR+XPIzOBvwAcXrlKZIm/",
          "dtype": "f8"
         },
         "yaxis": "y6"
        },
        {
         "legendgroup": "acc_norm_hellaswag",
         "line": {
          "color": "rgba(54, 167, 248, 1)",
          "dash": "solid",
          "width": 1.5
         },
         "mode": "lines",
         "name": "Hellaswag",
         "showlegend": false,
         "type": "scatter",
         "x": {
          "bdata": "AAAAQN1K70EAAADwJXj3QQAAAEDdSv9BAAAASMqOA0IAAADwJXgHQgAAAJiBYQtCAAAAQN1KD0IAAAB0HJoRQgAAAEjKjhNCAAAAHHiDFUIAAADwJXgXQgAAAMTTbBlCAAAAmIFhG0IAAABsL1YdQgAAAEDdSh9CAAAAisWfIEIAAAB0HJohQgAAAF5zlCJCAAAASMqOI0IAAAAyIYkkQgAAABx4gyVCAAAABs99JkIAAADwJXgnQgAAANp8cihCAAAAxNNsKUIAAACuKmcqQgAAAJiBYStCAAAAgthbLEIAAABsL1YtQgAAAFaGUC5CAAAAQN1KL0IAAAAVmiIwQgAAAIrFnzBCAAAA//AcMUIAAAB0HJoxQgAAAOlHFzJCAAAAXnOUMkIAAADTnhEzQgAAAEjKjjNCAAAAvfULNEIAAAAyIYk0QgAAAKdMBjVCAAAAHHiDNUIAAACRowA2QgAAAAbPfTZCAAAAe/r6NkIAAADwJXg3QgAAAGVR9TdC",
          "dtype": "f8"
         },
         "xaxis": "x6",
         "y": {
          "bdata": "yMPV5J7wxb8QM6E/vAPCv8xm+1bVT76/dLuX1M1cub9g8a5mdLG1v1AnxvgaBrK/4K5xwljnrb/o6N5iLO6nvxjipPWLGqG/gItO+v2+nL/QUlMJ5EiXv9CbpjOyh5O/4I1blBathr8AXJoQnQqIvwAOQ07ssn+/wDjKZMWBd78A8JEq/XNxP0CMDyMKL3Q/IHB55NJ5ij+gnp0xfLKFP6DaNVlmko4/YKXXnhyGjD+A2aW8rhaVP6Cn5Dg1dJY/IBKhrciMmj9gecDrizubP4CQUpLg15g/YMITFlp6lz9AecDrizubP1B12+bfE6M/EE9jtpA/oz9AHaIyF52kPyBeSUCLd6U/0NCx0Xj0pD9AHaIyF52kP1CEwXDaS6U/8FWdIzETqj+AGJNMjaKsP9D9Y29onKs/QOM0kkOWqj/Q7n3lbWSpP3AJrcKSaqo/0P1jb2icqz8AzKLr7vmsP/Bkg60rS6w/QPIaHD7OrD9QWTpaAX2tP/gNmMEuBrA/",
          "dtype": "f8"
         },
         "yaxis": "y6"
        },
        {
         "legendgroup": "acc_norm_mmlu",
         "line": {
          "color": "rgba(33, 226, 181, 1)",
          "dash": "solid",
          "width": 1.5
         },
         "mode": "lines",
         "name": "MMLU",
         "showlegend": false,
         "type": "scatter",
         "x": {
          "bdata": "AAAAQN1K70EAAADwJXj3QQAAAEDdSv9BAAAASMqOA0IAAADwJXgHQgAAAJiBYQtCAAAAQN1KD0IAAAB0HJoRQgAAAEjKjhNCAAAAHHiDFUIAAADwJXgXQgAAAMTTbBlCAAAAmIFhG0IAAABsL1YdQgAAAEDdSh9CAAAAisWfIEIAAAB0HJohQgAAAF5zlCJCAAAASMqOI0IAAAAyIYkkQgAAABx4gyVCAAAABs99JkIAAADwJXgnQgAAANp8cihCAAAAxNNsKUIAAACuKmcqQgAAAJiBYStCAAAAgthbLEIAAABsL1YtQgAAAFaGUC5CAAAAQN1KL0IAAAAVmiIwQgAAAIrFnzBCAAAA//AcMUIAAAB0HJoxQgAAAOlHFzJCAAAAXnOUMkIAAADTnhEzQgAAAEjKjjNCAAAAvfULNEIAAAAyIYk0QgAAAKdMBjVCAAAAHHiDNUIAAACRowA2QgAAAAbPfTZCAAAAe/r6NkIAAADwJXg3QgAAAGVR9TdC",
          "dtype": "f8"
         },
         "xaxis": "x6",
         "y": {
          "bdata": "kEvxv673mb8ArLkkNj6Xv3C+gn8KK5a/cEPt+AEZl7/wx4x2qTyYv1DxoR4QP5m/APrlBUkymL/g/zmVfQ+Wv3CmQT7SkJS/gJNCgBHRk79AshOWw9OTv3D46Ds79JO/kHuimlQtk7+gSC/bl0aTv2D5S4JEpZK/EIXeyoUvkr+wQvK5TT6Qv2CeHSNyi46/4M6eFF28i7/AetkavRqLv+CpFNFb94u/wO8YYIyAjr+gfXFrzTSNv8AzNLp0BIu/4HEfP++3h79AkdToF++Iv+B9/uRgqYe/IIqflGHpir/AKMk2WG2Mv+DsZLCltYu/wHSO0g8Kjb+gK8Pt+0CLv8CB+IlNxou/QHaNzdZtib/g6ssnP3GFv+DSfkPCnYK/wFBD6f6Fgb8g72fhKPSCv+DRV/tCY4e/YOGtPEXWh7/gkYSmFdKHv+C+kFOSa4W/oELYgFxMhb9AXuYqoQKIv+CKVG8Lhoi/QOosxnpyhr/gRB61+EODv6BX+wrP6oC/",
          "dtype": "f8"
         },
         "yaxis": "y6"
        },
        {
         "legendgroup": "acc_norm_siqa",
         "line": {
          "color": "rgba(112, 252, 97, 1)",
          "dash": "dot",
          "width": 1.5
         },
         "mode": "lines",
         "name": "SIQA",
         "showlegend": false,
         "type": "scatter",
         "x": {
          "bdata": "AAAAQN1K70EAAADwJXj3QQAAAEDdSv9BAAAASMqOA0IAAADwJXgHQgAAAJiBYQtCAAAAQN1KD0IAAAB0HJoRQgAAAEjKjhNCAAAAHHiDFUIAAADwJXgXQgAAAMTTbBlCAAAAmIFhG0IAAABsL1YdQgAAAEDdSh9CAAAAisWfIEIAAAB0HJohQgAAAF5zlCJCAAAASMqOI0IAAAAyIYkkQgAAABx4gyVCAAAABs99JkIAAADwJXgnQgAAANp8cihCAAAAxNNsKUIAAACuKmcqQgAAAJiBYStCAAAAgthbLEIAAABsL1YtQgAAAFaGUC5CAAAAQN1KL0IAAAAVmiIwQgAAAIrFnzBCAAAA//AcMUIAAAB0HJoxQgAAAOlHFzJCAAAAXnOUMkIAAADTnhEzQgAAAEjKjjNCAAAAvfULNEIAAAAyIYk0QgAAAKdMBjVCAAAAHHiDNUIAAACRowA2QgAAAAbPfTZCAAAAe/r6NkIAAADwJXg3QgAAAGVR9TdC",
          "dtype": "f8"
         },
         "xaxis": "x6",
         "y": {
          "bdata": "QH25jjZVcb8AMAyzCqRZvwC2tH9Qy3a/gOz+QiwDZb9AGTeHQxB0v0BL+Aq9snK/AFIyeF2Geb9AGTeHQxB0vwAl+jNGeWq/QJoPnmKvh78AMFMpz5aDv4CKLWl3/H6/ADxdTJbyYz/Aq6IAjKB3P4AWX3UfuXs/wKuiAIygdz8AYPp4F10uvwBe9SRg72+/gIh8Ozm+Z78AB8S2+PhcP4DknfGlFn0/wMOqq6lSgz8AkuknMLCEP+AqyulsAYQ/4P9C05MyjD9ggz4gGoORP0CcwMug7Y4/gI5M8V9GgT+ADyUIf+V0P2AnLbOcl4A/YJWGXgAaiD/gKsrpbAGEP8DDqqupUoM/AHrhfBL+eD8AYCiktg2GP4BjxdqGd4k/wDEEVw3Vij/gkeknMLCEP8CrogCMoHc/QMdH4nm8hj+waA9D9XyQPzBsrHnF5pM/YJWGXgAaiD/AXItt5qOCP8D1ay8j9YE/gMrkGEomij/g/0LTkzKMP8DPLoG4K5E/",
          "dtype": "f8"
         },
         "yaxis": "y6"
        },
        {
         "legendgroup": "acc_norm_piqa",
         "line": {
          "color": "rgba(199, 236, 54, 1)",
          "dash": "solid",
          "width": 1.5
         },
         "mode": "lines",
         "name": "PIQA",
         "showlegend": false,
         "type": "scatter",
         "x": {
          "bdata": "AAAAQN1K70EAAADwJXj3QQAAAEDdSv9BAAAASMqOA0IAAADwJXgHQgAAAJiBYQtCAAAAQN1KD0IAAAB0HJoRQgAAAEjKjhNCAAAAHHiDFUIAAADwJXgXQgAAAMTTbBlCAAAAmIFhG0IAAABsL1YdQgAAAEDdSh9CAAAAisWfIEIAAAB0HJohQgAAAF5zlCJCAAAASMqOI0IAAAAyIYkkQgAAABx4gyVCAAAABs99JkIAAADwJXgnQgAAANp8cihCAAAAxNNsKUIAAACuKmcqQgAAAJiBYStCAAAAgthbLEIAAABsL1YtQgAAAFaGUC5CAAAAQN1KL0IAAAAVmiIwQgAAAIrFnzBCAAAA//AcMUIAAAB0HJoxQgAAAOlHFzJCAAAAXnOUMkIAAADTnhEzQgAAAEjKjjNCAAAAvfULNEIAAAAyIYk0QgAAAKdMBjVCAAAAHHiDNUIAAACRowA2QgAAAAbPfTZCAAAAe/r6NkIAAADwJXg3QgAAAGVR9TdC",
          "dtype": "f8"
         },
         "xaxis": "x6",
         "y": {
          "bdata": "WIy6r8fbs7/wo+FGi2Gpv3DDHwo6YqK/4H8Fp9Pwnb+gk/oWWCOYv4DFu5rRxZa/YPd8Hktolb/gQ21/6RCVvyDCHmQBXJO/wKiKcTuzh7+AbigfD455vwDc84/I70g/ANnp51kUbD+AV7FowCJyPwAsKlLnU3o/QBmy38OTgD/AtS/Y0E6DP0CORfjH6Y4/AFnnPX7djD8AjkX4x+mOP0Ag7ExkZ4c/QLxpRXEiij8AjkX4x+mOP8Dxx/+6Low/QO4qyerEiD/AiqjB93+LPwB+z9EVNpM/IEwOTpyTlD8Afs/RFTaTPwCORfjH6Y4/ACcmugQ7jj8gTA5OnJOUPyCzLYxfQpU/4OsofXm4mj+A6ItGqU6XPwBTSLs8Z5s/YDgZ3hdhmj8gA7sjzlSYPyBq2mGRA5k/IAO7I85UmD+gbXeYYW2cP2CIpnWGc50/IIimdYZznT8AcRTPMdefP+AJ9ZBuKJ8/8CxBlG4doT9QEhK3SRegP3B5MfUMxqA/",
          "dtype": "f8"
         },
         "yaxis": "y6"
        },
        {
         "legendgroup": "acc_norm_winogrande",
         "line": {
          "color": "rgba(247, 184, 54, 1)",
          "dash": "solid",
          "width": 1.5
         },
         "mode": "lines",
         "name": "WinoGrande",
         "showlegend": false,
         "type": "scatter",
         "x": {
          "bdata": "AAAAQN1K70EAAADwJXj3QQAAAEDdSv9BAAAASMqOA0IAAADwJXgHQgAAAJiBYQtCAAAAQN1KD0IAAAB0HJoRQgAAAEjKjhNCAAAAHHiDFUIAAADwJXgXQgAAAMTTbBlCAAAAmIFhG0IAAABsL1YdQgAAAEDdSh9CAAAAisWfIEIAAAB0HJohQgAAAF5zlCJCAAAASMqOI0IAAAAyIYkkQgAAABx4gyVCAAAABs99JkIAAADwJXgnQgAAANp8cihCAAAAxNNsKUIAAACuKmcqQgAAAJiBYStCAAAAgthbLEIAAABsL1YtQgAAAFaGUC5CAAAAQN1KL0IAAAAVmiIwQgAAAIrFnzBCAAAA//AcMUIAAAB0HJoxQgAAAOlHFzJCAAAAXnOUMkIAAADTnhEzQgAAAEjKjjNCAAAAvfULNEIAAAAyIYk0QgAAAKdMBjVCAAAAHHiDNUIAAACRowA2QgAAAAbPfTZCAAAAe/r6NkIAAADwJXg3QgAAAGVR9TdC",
          "dtype": "f8"
         },
         "xaxis": "x6",
         "y": {
          "bdata": "gM7du/Q/oL+ArROxnUiXv8DbvKXG/YW/IFrp4l7MkL9AcQAxM+WBv8B719SjIoy/gKPLA6yAd78AnKU0Cp9uv0AUuJbgc4u/AHg6ntO4iL9A31nclmeJv8CmXut88YO/wD8/rblCg78AeETt0rF/v4C3UQ+QF3A/gIzK+LZIeD8A5n+rOEmCP4C3UQ+QF3A/QOZ/qzhJgj8A5n+rOEmCPwAYQS+y64A/gMXF6dC+fT9AV3aNbDWNP8C+lcsv5I0/QBveZYJVhD8AxOOIrW5OP0C0vie/poM/gL6Vyy/kjT/AjNRHtkGPP8BQPCDMYYY/ABhBL7LrgD9AiTcR5teLPwDIOD/DVZE/wIzUR7ZBjz+AJbUJ85KOP0AiGNMiKYs/gK0JYp5PkD/gsKaYbrmTP0DSD+Mzk5s/gKBOX7rwnD+A6aGJiC+ZP6DiZxzoW5I/IC9YfYYEkj8Af+UU9RaVP2AbYw0C0pc/4IUfgpXqmz+gADQw3cuWP4DpoYmIL5k/",
          "dtype": "f8"
         },
         "yaxis": "y6"
        },
        {
         "legendgroup": "acc_norm_commonsense_qa",
         "line": {
          "color": "rgba(244, 105, 24, 1)",
          "dash": "dot",
          "width": 1.5
         },
         "mode": "lines",
         "name": "CommonsenseQA",
         "showlegend": false,
         "type": "scatter",
         "x": {
          "bdata": "AAAAQN1K70EAAADwJXj3QQAAAEDdSv9BAAAASMqOA0IAAADwJXgHQgAAAJiBYQtCAAAAQN1KD0IAAAB0HJoRQgAAAEjKjhNCAAAAHHiDFUIAAADwJXgXQgAAAMTTbBlCAAAAmIFhG0IAAABsL1YdQgAAAEDdSh9CAAAAisWfIEIAAAB0HJohQgAAAF5zlCJCAAAASMqOI0IAAAAyIYkkQgAAABx4gyVCAAAABs99JkIAAADwJXgnQgAAANp8cihCAAAAxNNsKUIAAACuKmcqQgAAAJiBYStCAAAAgthbLEIAAABsL1YtQgAAAFaGUC5CAAAAQN1KL0IAAAAVmiIwQgAAAIrFnzBCAAAA//AcMUIAAAB0HJoxQgAAAOlHFzJCAAAAXnOUMkIAAADTnhEzQgAAAEjKjjNCAAAAvfULNEIAAAAyIYk0QgAAAKdMBjVCAAAAHHiDNUIAAACRowA2QgAAAAbPfTZCAAAAe/r6NkIAAADwJXg3QgAAAGVR9TdC",
          "dtype": "f8"
         },
         "xaxis": "x6",
         "y": {
          "bdata": "MCi4VAyIob8w2D9aRFCRv6AkMLvi+JC/4AkrGAuohb9gn26jd4+BvwCO1Ee2QV+/gFt1KgfDcD8gHzF3t02DP0Bp6QRIan4/QGnpBEhqfj8ghlC1evyDP8CZb19M5JM/AGiu29JBlT+QOYqOKQmaP8BQHDV+pZc/0Lc7c0FUmD8QNu1XWZ+WP1AELNTf/Jc/EO2ZLYtgmj/g1QeHNsScP1Ai+OfUbJw/0NUHhzbEnD+A8DZkW8qdP4CteWx38aA/CGGJC9lIoT8gcoV/Q3+fP6AHyQqwZps/AIZ678exmT9ga0sSo6uYP0C72KkRvps/IAtmQYDQnj9oRloutEKgP6C+deDhJ58/gDmKjikJmj/AUBw1fqWXP0CdDJYcTpc/wFAcNX6llz8Ahnrvx7GZPxDtmS2LYJo/YIkXJpgbnT8gcoV/Q3+fP5BXVqIeeZ4/AIZ678exmT/QtztzQVSYP0C72KkRvps/wNPxnMbFoD+obNJeAxegP4CteWx38aA/",
          "dtype": "f8"
         },
         "yaxis": "y6"
        },
        {
         "legendgroup": "acc_norm_openbookqa",
         "line": {
          "color": "rgba(199, 42, 4, 1)",
          "dash": "solid",
          "width": 1.5
         },
         "mode": "lines",
         "name": "OpenbookQA",
         "showlegend": false,
         "type": "scatter",
         "x": {
          "bdata": "AAAAQN1K70EAAADwJXj3QQAAAEDdSv9BAAAASMqOA0IAAADwJXgHQgAAAJiBYQtCAAAAQN1KD0IAAAB0HJoRQgAAAEjKjhNCAAAAHHiDFUIAAADwJXgXQgAAAMTTbBlCAAAAmIFhG0IAAABsL1YdQgAAAEDdSh9CAAAAisWfIEIAAAB0HJohQgAAAF5zlCJCAAAASMqOI0IAAAAyIYkkQgAAABx4gyVCAAAABs99JkIAAADwJXgnQgAAANp8cihCAAAAxNNsKUIAAACuKmcqQgAAAJiBYStCAAAAgthbLEIAAABsL1YtQgAAAFaGUC5CAAAAQN1KL0IAAAAVmiIwQgAAAIrFnzBCAAAA//AcMUIAAAB0HJoxQgAAAOlHFzJCAAAAXnOUMkIAAADTnhEzQgAAAEjKjjNCAAAAvfULNEIAAAAyIYk0QgAAAKdMBjVCAAAAHHiDNUIAAACRowA2QgAAAAbPfTZCAAAAe/r6NkIAAADwJXg3QgAAAGVR9TdC",
          "dtype": "f8"
         },
         "xaxis": "x6",
         "y": {
          "bdata": "kEC6rMrjqb/4bt75cxylv2BUrxxPFqS/CLgxJEJbob8waSnb4+KbvyACCp0gNJu/sJdNKI0bl7+AyQ6sBr6Vv0CUsPG8sZO/AOkrhb8Zi7/ATK6Msl6Iv0Di8RcfRoS/QOLxFx9GhL+AU+j5UjKPvwBT7U0KoH2/AFL39Xh7ar+A4+Ib+fx4PwCAYBQGuHs/IOPnb7Bqhz+Af2VovSWKPyDj52+waoc/gOTYc4ohbD+A5NhziiFsP4Dk2HOKIWw/AKvnKt+Gcz8Ac+KRVjVhPwAgGd4XYRo/AAiwv4okST8AvinIRIxCvwBz4pFWNWE/QNytAhCXgD9A3K0CEJeAPwAVqfMpDYY/QNytAhCXgD8g4+dvsGqHP8BGanejr4Q/ILhgWdebjz/gYuoZjKGWPwDKCVhPUJc/gF9N47s3kz8A6iHdUD6OPwDKCVhPUJc/oAIFSWnGnD8o0Q88o3WhP9DQQ8XvI54/wGkkhyx1nT/Q+8rbyPKVP2DNpo4fupo/",
          "dtype": "f8"
         },
         "yaxis": "y6"
        },
        {
         "legendgroup": "acc_norm_arc_easy",
         "line": {
          "color": "rgba(48, 18, 59, 1)",
          "dash": "solid",
          "width": 1.5
         },
         "mode": "lines",
         "name": "ARC Easy",
         "showlegend": false,
         "type": "scatter",
         "x": {
          "bdata": "AAAAQN1K70EAAADwJXj3QQAAAEDdSv9BAAAASMqOA0IAAADwJXgHQgAAAJiBYQtCAAAAQN1KD0IAAAB0HJoRQgAAAEjKjhNCAAAAHHiDFUIAAADwJXgXQgAAAMTTbBlCAAAAmIFhG0IAAABsL1YdQgAAAEDdSh9CAAAAisWfIEIAAAB0HJohQgAAAF5zlCJCAAAASMqOI0IAAAAyIYkkQgAAABx4gyVCAAAABs99JkIAAADwJXgnQgAAANp8cihCAAAAxNNsKUIAAACuKmcqQgAAAJiBYStCAAAAgthbLEIAAABsL1YtQgAAAFaGUC5CAAAAQN1KL0IAAAAVmiIwQgAAAIrFnzBCAAAA//AcMUIAAAB0HJoxQgAAAOlHFzJCAAAAXnOUMkIAAADTnhEzQgAAAEjKjjNCAAAAvfULNEIAAAAyIYk0QgAAAKdMBjVCAAAAHHiDNUIAAACRowA2QgAAAAbPfTZCAAAAe/r6NkIAAADwJXg3QgAAAGVR9TdC",
          "dtype": "f8"
         },
         "xaxis": "x7",
         "y": {
          "bdata": "6OmlhSjSvL9kcAOHmoG2v8RG7h97Q7O/aPkKZEMwr7+IqX3M1B2sv7CiQ180SqW/ACH1Q0yVo7+Qh6B7lv+fvwBtcZ5x+Z6/wDcT5CftnL8AtsTIPzibv1BSQsFM852/UPff3CxXoL9gBsZmJ4+iv4DFHlmztKG/wOuWiQKJob/ANxPkJ+2cv9CeMiLrm52/4DDZdocZlr9QfcnXJcKVv8BimvoAvJS/QPjdhW2jkL8gf8Upp1qGvwC4G4jzl3m/AOOinsxmcb/AFAm1E0KCvwDq3AttOni/gEbKOI3kgL8A4oAOnrtuP8CpO/jo03Q/AHAed6CyXD9AseEaU8RyvyAYpuvjq4W/gLjRYlgmZb+AHFRqS2tivwCOtgFJdFS/gE1fE2B/db+AHFRqS2tivwDUDDRdFGE/ABT4bHzseD8A4oAOnrtuP8BM812WYn4/ABsy2hzAfz9ArTOc6wSGP4DiNukCSno/ADcjhoY8Vz/Ad3p0bzF2P+B+D09CzIo/",
          "dtype": "f8"
         },
         "yaxis": "y7"
        },
        {
         "legendgroup": "acc_norm_arc_challenge",
         "line": {
          "color": "rgba(68, 96, 208, 1)",
          "dash": "dot",
          "width": 1.5
         },
         "mode": "lines",
         "name": "ARC Challenge",
         "showlegend": false,
         "type": "scatter",
         "x": {
          "bdata": "AAAAQN1K70EAAADwJXj3QQAAAEDdSv9BAAAASMqOA0IAAADwJXgHQgAAAJiBYQtCAAAAQN1KD0IAAAB0HJoRQgAAAEjKjhNCAAAAHHiDFUIAAADwJXgXQgAAAMTTbBlCAAAAmIFhG0IAAABsL1YdQgAAAEDdSh9CAAAAisWfIEIAAAB0HJohQgAAAF5zlCJCAAAASMqOI0IAAAAyIYkkQgAAABx4gyVCAAAABs99JkIAAADwJXgnQgAAANp8cihCAAAAxNNsKUIAAACuKmcqQgAAAJiBYStCAAAAgthbLEIAAABsL1YtQgAAAFaGUC5CAAAAQN1KL0IAAAAVmiIwQgAAAIrFnzBCAAAA//AcMUIAAAB0HJoxQgAAAOlHFzJCAAAAXnOUMkIAAADTnhEzQgAAAEjKjjNCAAAAvfULNEIAAAAyIYk0QgAAAKdMBjVCAAAAHHiDNUIAAACRowA2QgAAAAbPfTZCAAAAe/r6NkIAAADwJXg3QgAAAGVR9TdC",
          "dtype": "f8"
         },
         "xaxis": "x7",
         "y": {
          "bdata": "uPvqxhavpL/sEn1ta0uiv/gA9FlBU5m/+OInRkzjlL/oewgIiTSUv5D9ViNx6ZW/KPq57KB/kr8QSkeED5KVv+h7CAiJNJS/+OInRkzjlL+oZHZhNJiWv/DiJ0ZM45S/YIYaLt58jb9ASoIG9JyEv8BNHz3EBoi/MLjbsVcfjL+A8UynOqt/v8DfxZFghIC/gBjBgnr6hb9YEUyT9RuQv0DjYsgw7oO/QEqCBvSchL/A38WRYISAv5BUWapk2o6/YIYaLt58jb9w7TlsoSuOv4AYwYJ6+oW/QONiyDDug7/AtD57h7WIv8BNHz3EBoi/ABUkTKqQgr/AuFG2IDV6vwDgGmpfCRG/AIap1ju3Qz+AC5zIHFBlPwC6Pb+yYGa/AI+2qNmRbr/A38WRYISAv6Dm//4AWIe/oLt46CeJj78A6pw10cGKvwAVJEyqkIK/gBzUvRN6d7+A6hI6mtd4vwBVz64t8Hy/gPFMpzqrf7/AuFG2IDV6vwCPtqjZkW6/",
          "dtype": "f8"
         },
         "yaxis": "y7"
        },
        {
         "legendgroup": "acc_norm_hellaswag",
         "line": {
          "color": "rgba(54, 167, 248, 1)",
          "dash": "solid",
          "width": 1.5
         },
         "mode": "lines",
         "name": "Hellaswag",
         "showlegend": false,
         "type": "scatter",
         "x": {
          "bdata": "AAAAQN1K70EAAADwJXj3QQAAAEDdSv9BAAAASMqOA0IAAADwJXgHQgAAAJiBYQtCAAAAQN1KD0IAAAB0HJoRQgAAAEjKjhNCAAAAHHiDFUIAAADwJXgXQgAAAMTTbBlCAAAAmIFhG0IAAABsL1YdQgAAAEDdSh9CAAAAisWfIEIAAAB0HJohQgAAAF5zlCJCAAAASMqOI0IAAAAyIYkkQgAAABx4gyVCAAAABs99JkIAAADwJXgnQgAAANp8cihCAAAAxNNsKUIAAACuKmcqQgAAAJiBYStCAAAAgthbLEIAAABsL1YtQgAAAFaGUC5CAAAAQN1KL0IAAAAVmiIwQgAAAIrFnzBCAAAA//AcMUIAAAB0HJoxQgAAAOlHFzJCAAAAXnOUMkIAAADTnhEzQgAAAEjKjjNCAAAAvfULNEIAAAAyIYk0QgAAAKdMBjVCAAAAHHiDNUIAAACRowA2QgAAAAbPfTZCAAAAe/r6NkIAAADwJXg3QgAAAGVR9TdC",
          "dtype": "f8"
         },
         "xaxis": "x7",
         "y": {
          "bdata": "gpsyLTlDx7/+2meL84zDvxbfvZkgP8G/1BIYsTmLvb/0wooZy3i6vzwyVnToi7a/QN5yzkzHtb+sb2BLjPyzv8yCnOOz5rO/nKV33TJRsL9AlELlM+Gsv8AaoOalkKa/eJzuAY5FqL+YW0f0GWunv5hMYWofM6W/0CfM8gp6n7+wouCgUluavzDv0AHxA5q/cCQvvDoQnL9wJC+8OhCcv3BtguYIT5i/MBpYGMrSkb8AXJoQnQqIvwAOQ07ssn+/ADnKZMWBd7+Aj6cFIytpvwAm4eggN0i/AACiJ8n1Er8AAKInyfUSvwC6Lhz8+WC/AMtrZaqRUb8APGJH3n1cv0AAz3OrC3K/wHHFVd/3fL+A8ykNFnBmvwBgBHr1GjE/AMUKFCSleT9Ak0mQqgJ7P6AFvW8/YYY/YD64YFnXiz9gpdeeHIaMP/AHyglYT5A/gDd+87gDhT9gAiA5b/eCPyCbAPurSII/4NP768W+hz8Ab+lHG/6QP5Ai+eZ8VZE/",
          "dtype": "f8"
         },
         "yaxis": "y7"
        },
        {
         "legendgroup": "acc_norm_mmlu",
         "line": {
          "color": "rgba(33, 226, 181, 1)",
          "dash": "solid",
          "width": 1.5
         },
         "mode": "lines",
         "name": "MMLU",
         "showlegend": false,
         "type": "scatter",
         "x": {
          "bdata": "AAAAQN1K70EAAADwJXj3QQAAAEDdSv9BAAAASMqOA0IAAADwJXgHQgAAAJiBYQtCAAAAQN1KD0IAAAB0HJoRQgAAAEjKjhNCAAAAHHiDFUIAAADwJXgXQgAAAMTTbBlCAAAAmIFhG0IAAABsL1YdQgAAAEDdSh9CAAAAisWfIEIAAAB0HJohQgAAAF5zlCJCAAAASMqOI0IAAAAyIYkkQgAAABx4gyVCAAAABs99JkIAAADwJXgnQgAAANp8cihCAAAAxNNsKUIAAACuKmcqQgAAAJiBYStCAAAAgthbLEIAAABsL1YtQgAAAFaGUC5CAAAAQN1KL0IAAAAVmiIwQgAAAIrFnzBCAAAA//AcMUIAAAB0HJoxQgAAAOlHFzJCAAAAXnOUMkIAAADTnhEzQgAAAEjKjjNCAAAAvfULNEIAAAAyIYk0QgAAAKdMBjVCAAAAHHiDNUIAAACRowA2QgAAAAbPfTZCAAAAe/r6NkIAAADwJXg3QgAAAGVR9TdC",
          "dtype": "f8"
         },
         "xaxis": "x7",
         "y": {
          "bdata": "oAFHkfjynL+gS9yP4K+cvyCupwMCvZu/wGQwGg8Vmb9Aj2uX44SXv9BRHFXwkJa/8JTNRuGEmL/QVVo63A2Wv9AZEFCny5W/IHKlpCRikb+wN98hWauTv5Aen5Mk+5K/ECmtTayik7/QuZZPAmmRvzCb1HAlSJG/IKAe7eZukL/Q1IKBujSQvyDMbg3c34+/QLSvDKIokb/gRorGqD+Mv2BvF9GW1Ye/YAp7PJgBgb8AcLEm71eCvyD4o0fzxoK/YH5P0TOnhL8gMQkCl12Bv+CHix7thIC/oOqAdVMOgb+grExmj76Cv4DBCPuPMYS/QLSupFEXgr9godkIP3GCv8D7eBmUnX6/QIHuEKXGe7+Aj6cbJLd2v8DIISfMwnm/gHquCtXVe7+ggkp7wMOFv6CbTUElBoa/YL2/HMKhhb9ASek/b3eAv4BAW3UWH3q/QLeEwstYd7/AVGSStn53v4BjKS49rne/gIJKT3AFfL+ANKgfP+Zuv8A9f6itHHC/",
          "dtype": "f8"
         },
         "yaxis": "y7"
        },
        {
         "legendgroup": "acc_norm_siqa",
         "line": {
          "color": "rgba(112, 252, 97, 1)",
          "dash": "dot",
          "width": 1.5
         },
         "mode": "lines",
         "name": "SIQA",
         "showlegend": false,
         "type": "scatter",
         "x": {
          "bdata": "AAAAQN1K70EAAADwJXj3QQAAAEDdSv9BAAAASMqOA0IAAADwJXgHQgAAAJiBYQtCAAAAQN1KD0IAAAB0HJoRQgAAAEjKjhNCAAAAHHiDFUIAAADwJXgXQgAAAMTTbBlCAAAAmIFhG0IAAABsL1YdQgAAAEDdSh9CAAAAisWfIEIAAAB0HJohQgAAAF5zlCJCAAAASMqOI0IAAAAyIYkkQgAAABx4gyVCAAAABs99JkIAAADwJXgnQgAAANp8cihCAAAAxNNsKUIAAACuKmcqQgAAAJiBYStCAAAAgthbLEIAAABsL1YtQgAAAFaGUC5CAAAAQN1KL0IAAAAVmiIwQgAAAIrFnzBCAAAA//AcMUIAAAB0HJoxQgAAAOlHFzJCAAAAXnOUMkIAAADTnhEzQgAAAEjKjjNCAAAAvfULNEIAAAAyIYk0QgAAAKdMBjVCAAAAHHiDNUIAAACRowA2QgAAAAbPfTZCAAAAe/r6NkIAAADwJXg3QgAAAGVR9TdC",
          "dtype": "f8"
         },
         "xaxis": "x7",
         "y": {
          "bdata": "oPr0boWKgb8AeiuirW9NvwDAvh1wpxo/gBHWNb0jbD/AstxtLHR+P4AWX3UfuXs/gA8lCH/ldD8AmFzLQ4I8PwCQXMtDgjw/AMC+HXCnGj8APF1MlvJjPwCg31OJN2E/AKDfU4k3YT8Az8jF3oJXPwAIxLb4+Fw/AGD6eBddLr8A9hDC8C1Uv0BL+Aq9snK/AMJ3LFM0bb9AIHH04+N6vwC2tH9Qy3a/gLzu7PCefb9AGTeHQxB0v4C87uzwnn2/gOd1A8ptdb9AUjJ4XYZ5v4C1tH9Qy3a/QO6vcGpBfL8AUjJ4XYZ5v0AgcfTj43q/gBk3h0MQdL+AGTeHQxB0vwBoB6QkGl+/AC4MswqkWb+A7P5CLANlv4AZN4dDEHS/gLzu7PCefb8AhPP71ih4vwB9uY42VXG/gFCBSh9IYr8APF1MlvJjPwAHxLb4+Fw/AGj6eBddLr+A7P5CLANlvwAwDLMKpFm/AGj6eBddLr8Als3UxAxSPwB8K6Ktb02/",
          "dtype": "f8"
         },
         "yaxis": "y7"
        },
        {
         "legendgroup": "acc_norm_piqa",
         "line": {
          "color": "rgba(199, 236, 54, 1)",
          "dash": "solid",
          "width": 1.5
         },
         "mode": "lines",
         "name": "PIQA",
         "showlegend": false,
         "type": "scatter",
         "x": {
          "bdata": "AAAAQN1K70EAAADwJXj3QQAAAEDdSv9BAAAASMqOA0IAAADwJXgHQgAAAJiBYQtCAAAAQN1KD0IAAAB0HJoRQgAAAEjKjhNCAAAAHHiDFUIAAADwJXgXQgAAAMTTbBlCAAAAmIFhG0IAAABsL1YdQgAAAEDdSh9CAAAAisWfIEIAAAB0HJohQgAAAF5zlCJCAAAASMqOI0IAAAAyIYkkQgAAABx4gyVCAAAABs99JkIAAADwJXgnQgAAANp8cihCAAAAxNNsKUIAAACuKmcqQgAAAJiBYStCAAAAgthbLEIAAABsL1YtQgAAAFaGUC5CAAAAQN1KL0IAAAAVmiIwQgAAAIrFnzBCAAAA//AcMUIAAAB0HJoxQgAAAOlHFzJCAAAAXnOUMkIAAADTnhEzQgAAAEjKjjNCAAAAvfULNEIAAAAyIYk0QgAAAKdMBjVCAAAAHHiDNUIAAACRowA2QgAAAAbPfTZCAAAAe/r6NkIAAADwJXg3QgAAAGVR9TdC",
          "dtype": "f8"
         },
         "xaxis": "x7",
         "y": {
          "bdata": "QIhkoZoptr94PC0YWcmwv7A0FuxtTq2/EBrnDklIrL/AfWkWPI2pv7Bug4xBVae/wLfWtg+Uo7/QDxBr2Aqiv/DOaF1kMKG/gOOHrsY1m7+AFUkyQNiZvyB5yzkzHZe/ABKs+29ulr/gqoy9rL+Vv2D3fB5LaJW/ABKs+29ulr9g2bAKVviQvwB6ZiSSeoy/wH0DW2Lkj7/gjMCpt0+Rv6B1LgNjs5O/APTf53r+kb/gQ21/6RCVv2BykcySSZC/QHMst/Gmhb9ADA15LviEv8Dd6CuFv4m/IMIeZAFck78AE0fmzsuLv8ChUASb34C/AGjpXbdMVL8AXNzZOq1NvwCY6xoy2lw/AGDc2TqtTb8A3POPyO9IP4A8Z5uV63q/gG4oHw+Oeb8AcI+AIT2CvwBo6V23TFS/AMj6WykHPD+AVrFowCJyP4DzLmHN3XQ/AF7r1WD2eD/Ag25UV6yEP8AjiYM00Yo/wPHH/7oujD9AhwuLJxaIP8CDblRXrIQ/",
          "dtype": "f8"
         },
         "yaxis": "y7"
        },
        {
         "legendgroup": "acc_norm_winogrande",
         "line": {
          "color": "rgba(247, 184, 54, 1)",
          "dash": "solid",
          "width": 1.5
         },
         "mode": "lines",
         "name": "WinoGrande",
         "showlegend": false,
         "type": "scatter",
         "x": {
          "bdata": "AAAAQN1K70EAAADwJXj3QQAAAEDdSv9BAAAASMqOA0IAAADwJXgHQgAAAJiBYQtCAAAAQN1KD0IAAAB0HJoRQgAAAEjKjhNCAAAAHHiDFUIAAADwJXgXQgAAAMTTbBlCAAAAmIFhG0IAAABsL1YdQgAAAEDdSh9CAAAAisWfIEIAAAB0HJohQgAAAF5zlCJCAAAASMqOI0IAAAAyIYkkQgAAABx4gyVCAAAABs99JkIAAADwJXgnQgAAANp8cihCAAAAxNNsKUIAAACuKmcqQgAAAJiBYStCAAAAgthbLEIAAABsL1YtQgAAAFaGUC5CAAAAQN1KL0IAAAAVmiIwQgAAAIrFnzBCAAAA//AcMUIAAAB0HJoxQgAAAOlHFzJCAAAAXnOUMkIAAADTnhEzQgAAAEjKjjNCAAAAvfULNEIAAAAyIYk0QgAAAKdMBjVCAAAAHHiDNUIAAACRowA2QgAAAAbPfTZCAAAAe/r6NkIAAADwJXg3QgAAAGVR9TdC",
          "dtype": "f8"
         },
         "xaxis": "x7",
         "y": {
          "bdata": "wEmRqaoDmr8gWuniXsyQvwB/dAt0jI+/QHg6ntO4iL/ASRZRKoCNv0DBCCEie5G/oCvFlbWTlb9AKChf5SmSv8CmXut88YO/gHEKgDLeeL9A31nclmeJv2AoKF/lKZK/YI9HnajYkr9ARnkaWhaKvwBD3OOJrIa/AKoFcUxUfr9ACuHybzaBv4DVjIclI3a/gKPLA6yAd7+AP0n8uDt6v0A/P625QoO/wA1+KUCghL9Ao8G0rIeAv4CckZYLrXC/AK5s0l4DV78AUmimiiNaPwBiL0Tfh2I/AFDtpnmCQz8AUmimiiNaPwDA7YmLLDE/ALjtiYssMT8AK69S1rJjvwArr1LWsmO/AMcsS+NtZr+ABk4Ln8V0v4ANiHg/mXu/AJylNAqfbr8AjzFayfdgvwDHLEvjbWa/ABEbYBAKiL9APz+tuUKDv4A/P625QoO/gJyRlgutcL8AqgVxTFR+v4ANiHg/mXu/QHEAMTPlgb+ABk4Ln8V0vwAI7P1DhDq/",
          "dtype": "f8"
         },
         "yaxis": "y7"
        },
        {
         "legendgroup": "acc_norm_commonsense_qa",
         "line": {
          "color": "rgba(244, 105, 24, 1)",
          "dash": "dot",
          "width": 1.5
         },
         "mode": "lines",
         "name": "CommonsenseQA",
         "showlegend": false,
         "type": "scatter",
         "x": {
          "bdata": "AAAAQN1K70EAAADwJXj3QQAAAEDdSv9BAAAASMqOA0IAAADwJXgHQgAAAJiBYQtCAAAAQN1KD0IAAAB0HJoRQgAAAEjKjhNCAAAAHHiDFUIAAADwJXgXQgAAAMTTbBlCAAAAmIFhG0IAAABsL1YdQgAAAEDdSh9CAAAAisWfIEIAAAB0HJohQgAAAF5zlCJCAAAASMqOI0IAAAAyIYkkQgAAABx4gyVCAAAABs99JkIAAADwJXgnQgAAANp8cihCAAAAxNNsKUIAAACuKmcqQgAAAJiBYStCAAAAgthbLEIAAABsL1YtQgAAAFaGUC5CAAAAQN1KL0IAAAAVmiIwQgAAAIrFnzBCAAAA//AcMUIAAAB0HJoxQgAAAOlHFzJCAAAAXnOUMkIAAADTnhEzQgAAAEjKjjNCAAAAvfULNEIAAAAyIYk0QgAAAKdMBjVCAAAAHHiDNUIAAACRowA2QgAAAAbPfTZCAAAAe/r6NkIAAADwJXg3QgAAAGVR9TdC",
          "dtype": "f8"
         },
         "xaxis": "x7",
         "y": {
          "bdata": "cDKP+HzFq7+428fzbd+hv6CwVXo765y/kHS9UlELlL/AEGWFq3uMv2AGjuE6PoK/wHeEw24qjb/gRcM/9YeOvwDYaZSRBYe/gG2tH/7sgr/AogvaR/mEv4BtrR/+7IK/gMas9xpfcb8AuOAFD41qv4AbYw0C0me/AFRe/htIbb8AG21cActuPwBG9HLamWY/AKp2es3eYz8AkGOXpJkvv4D+LJC0UXo/AJuqiMEMfT+AW3UqB8NwPwCQY5ekmS+/AOJxa+dUaT8AcAAxM+VRP4B+72P0D2w/AAAoPP3jOz9ANyiBzsd/P4AptKaNIHI/gFt1KgfDcD8ARvRy2plmP4DicWvnVGk/ALgROfSegj8AUfL6MPCBPwBR8vow8IE/APjyIhR+cz8guBE59J6CP4D3Rpeu6I4/4Enix93RkD8AJmvkVyGKP6DwDCoOFYg/0OLCiRojkD+QZBGlAtiRP1BNf/6tO5Q/IH9Agifekj8AsQEGoYCRP9DiwokaI5A/",
          "dtype": "f8"
         },
         "yaxis": "y7"
        },
        {
         "legendgroup": "acc_norm_openbookqa",
         "line": {
          "color": "rgba(199, 42, 4, 1)",
          "dash": "solid",
          "width": 1.5
         },
         "mode": "lines",
         "name": "OpenbookQA",
         "showlegend": false,
         "type": "scatter",
         "x": {
          "bdata": "AAAAQN1K70EAAADwJXj3QQAAAEDdSv9BAAAASMqOA0IAAADwJXgHQgAAAJiBYQtCAAAAQN1KD0IAAAB0HJoRQgAAAEjKjhNCAAAAHHiDFUIAAADwJXgXQgAAAMTTbBlCAAAAmIFhG0IAAABsL1YdQgAAAEDdSh9CAAAAisWfIEIAAAB0HJohQgAAAF5zlCJCAAAASMqOI0IAAAAyIYkkQgAAABx4gyVCAAAABs99JkIAAADwJXgnQgAAANp8cihCAAAAxNNsKUIAAACuKmcqQgAAAJiBYStCAAAAgthbLEIAAABsL1YtQgAAAFaGUC5CAAAAQN1KL0IAAAAVmiIwQgAAAIrFnzBCAAAA//AcMUIAAAB0HJoxQgAAAOlHFzJCAAAAXnOUMkIAAADTnhEzQgAAAEjKjjNCAAAAvfULNEIAAAAyIYk0QgAAAKdMBjVCAAAAHHiDNUIAAACRowA2QgAAAAbPfTZCAAAAe/r6NkIAAADwJXg3QgAAAGVR9TdC",
          "dtype": "f8"
         },
         "xaxis": "x7",
         "y": {
          "bdata": "tjLgFrCTsr9wkEdEOfasv4Ai7pjVc6W/kGtBw6Oyob+g0mABZ2Giv0Dtj96LZ6O/4Ae/u7BtpL+YiQ3XmCKmv5iJDdeYIqa/6Ae/u7BtpL8Q1v03N8ulv+AHv7uwbaS/cLvOWhLFpL+wbMYRtEyfv6AFp9PwnZ6/qNJgAWdhor/wUBLmfqygv5BrQcOjsqG/kDAu6slslr+gl00ojRuXvwBfUjdzpZG/wP5sZlDKl78wAgqdIDSbv7BsxhG0TJ+/MAIKnSA0m7/gZYykE3mYvzACCp0gNJu/aJ0CRx1VoL9A0EgZp5Gcv0CFqX3M1I2/4EV0HxKLgb/ATK6Msl6IvwDpK4W/GYu/4BrtCDm8ib8AFLObmOiCvwAUs5uY6IK/QLdqAUZ3jL9At2oBRneMv/D3Mvmv9pC/wOH2a9azcr9A4vEXH0aEv8BMroyyXoi/AF9SN3Olkb/AdzWjiy2Av4AZ/ARfBWW/ACAZ3hdhGj8AUAtGVjJUvwB1zkF5flc/",
          "dtype": "f8"
         },
         "yaxis": "y7"
        },
        {
         "legendgroup": "acc_norm_arc_easy",
         "line": {
          "color": "rgba(48, 18, 59, 1)",
          "dash": "solid",
          "width": 1.5
         },
         "mode": "lines",
         "name": "ARC Easy",
         "showlegend": false,
         "type": "scatter",
         "x": {
          "bdata": "AAAAQN1K70EAAADwJXj3QQAAAEDdSv9BAAAASMqOA0IAAADwJXgHQgAAAJiBYQtCAAAAQN1KD0IAAAB0HJoRQgAAAEjKjhNCAAAAHHiDFUIAAADwJXgXQgAAAMTTbBlCAAAAmIFhG0IAAABsL1YdQgAAAEDdSh9CAAAAisWfIEIAAAB0HJohQgAAAF5zlCJCAAAASMqOI0IAAAAyIYkkQgAAABx4gyVCAAAABs99JkIAAADwJXgnQgAAANp8cihCAAAAxNNsKUIAAACuKmcqQgAAAJiBYStCAAAAgthbLEIAAABsL1YtQgAAAFaGUC5CAAAAQN1KL0IAAAAVmiIwQgAAAIrFnzBCAAAA//AcMUIAAAB0HJoxQgAAAOlHFzJCAAAAXnOUMkIAAADTnhEzQgAAAEjKjjNCAAAAvfULNEIAAACAk9w0QgAAAEMxrTVCAAAABs99NkIAAAB7+vo2QgAAAPAleDdCAAAAZVH1N0I=",
          "dtype": "f8"
         },
         "xaxis": "x8",
         "y": {
          "bdata": "5Nq/+y2aur+QL1x5Jqe1vwR8TNrET7W/uJrRxRYItL+w387ht5Syv6jQ6Fe9XLC/CF2NazZ1rL/Az/X8I/Krv4ipfczUHay/SIMFnIVJrL9IZTmIkNmnvwh5LvgUDKK/UPff3CxXoL/wEQ+6UV2hv+i51QWJ5qK/ACH1Q0yVo79wbeWk6j2jvzBHbXSbaaO/sKJDXzRKpb9QvXI8WVCmv2gkknoc/6a/EIgUgg9EpL+wk13VORKjv6A7JCFxm6S/oDskIXGbpL9IroyyXhikv6CEd0s/2qC/INFnrN2CoL8g0Wes3YKgv2he/xrwBaG/0FK2x8U3or/wEQ+6UV2hv2he/xrwBaG/4Krve46uoL+AxR5Zs7Shv4jUBOOt7KO/YBWs8CHHpL/QUrbHxTeiv2C5Yf8Pop6/wIBmDvYrmb/gMNl2hxmWv0CvilufZJS/YMYcAvQAkr+ALTxAt6+SvxBIax3ctZO/oPt6vD0NlL8=",
          "dtype": "f8"
         },
         "yaxis": "y8"
        },
        {
         "legendgroup": "acc_norm_arc_challenge",
         "line": {
          "color": "rgba(68, 96, 208, 1)",
          "dash": "dot",
          "width": 1.5
         },
         "mode": "lines",
         "name": "ARC Challenge",
         "showlegend": false,
         "type": "scatter",
         "x": {
          "bdata": "AAAAQN1K70EAAADwJXj3QQAAAEDdSv9BAAAASMqOA0IAAADwJXgHQgAAAJiBYQtCAAAAQN1KD0IAAAB0HJoRQgAAAEjKjhNCAAAAHHiDFUIAAADwJXgXQgAAAMTTbBlCAAAAmIFhG0IAAABsL1YdQgAAAEDdSh9CAAAAisWfIEIAAAB0HJohQgAAAF5zlCJCAAAASMqOI0IAAAAyIYkkQgAAABx4gyVCAAAABs99JkIAAADwJXgnQgAAANp8cihCAAAAxNNsKUIAAACuKmcqQgAAAJiBYStCAAAAgthbLEIAAABsL1YtQgAAAFaGUC5CAAAAQN1KL0IAAAAVmiIwQgAAAIrFnzBCAAAA//AcMUIAAAB0HJoxQgAAAOlHFzJCAAAAXnOUMkIAAADTnhEzQgAAAEjKjjNCAAAAvfULNEIAAACAk9w0QgAAAEMxrTVCAAAABs99NkIAAAB7+vo2QgAAAPAleDdCAAAAZVH1N0I=",
          "dtype": "f8"
         },
         "xaxis": "x8",
         "y": {
          "bdata": "WBYapDu1pb+Q0s8MmBqev1B/pT5Znpe/IFG8c5Rwi7+g5v/+AFiHv0AjDiu0TX6/ALo9v7JgZr8Aj7ao2ZFuvwCGqdY7t0M/AKBznr8aOr+AC5zIHFBlP4A+SVUoHnA/gBPCPk9PeD8Ae1eB2xOHP4DlE/ZuLIs/gBCbDEj7gj/AqAXKuzZ0PwB3REZClHU/QNs8Uv7ugD/A3tmIzliEPwAa/KvvIn8/gBCbDEj7gj/AqAXKuzZ0P4DhALvVrHk/gHe6Sguqgz9gfvS3q32KP+ATOEMYZYY/wK8/N1wKez9ARYPCyPF2P0BFg8LI8XY/gBCbDEj7gj/gEzhDGGWGP4B+9LerfYo/IOJ2v57Chz9AQlyQwZ2BPyB0HRQ7QIA/QD5JVSgecD9AQlyQwZ2BP0BCXJDBnYE/AHtXgdsThz8Ae1eB2xOHP4DlE/ZuLIs/QBfVeejOiT/ARfnGkQeFP0BFg8LI8XY/AEy9L2nFfT8=",
          "dtype": "f8"
         },
         "yaxis": "y8"
        },
        {
         "legendgroup": "acc_norm_hellaswag",
         "line": {
          "color": "rgba(54, 167, 248, 1)",
          "dash": "solid",
          "width": 1.5
         },
         "mode": "lines",
         "name": "Hellaswag",
         "showlegend": false,
         "type": "scatter",
         "x": {
          "bdata": "AAAAQN1K70EAAADwJXj3QQAAAEDdSv9BAAAASMqOA0IAAADwJXgHQgAAAJiBYQtCAAAAQN1KD0IAAAB0HJoRQgAAAEjKjhNCAAAAHHiDFUIAAADwJXgXQgAAAMTTbBlCAAAAmIFhG0IAAABsL1YdQgAAAEDdSh9CAAAAisWfIEIAAAB0HJohQgAAAF5zlCJCAAAASMqOI0IAAAAyIYkkQgAAABx4gyVCAAAABs99JkIAAADwJXgnQgAAANp8cihCAAAAxNNsKUIAAACuKmcqQgAAAJiBYStCAAAAgthbLEIAAABsL1YtQgAAAFaGUC5CAAAAQN1KL0IAAAAVmiIwQgAAAIrFnzBCAAAA//AcMUIAAAB0HJoxQgAAAOlHFzJCAAAAXnOUMkIAAADTnhEzQgAAAEjKjjNCAAAAvfULNEIAAACAk9w0QgAAAEMxrTVCAAAABs99NkIAAAB7+vo2QgAAAPAleDdCAAAAZVH1N0I=",
          "dtype": "f8"
         },
         "xaxis": "x8",
         "y": {
          "bdata": "Ys8eOMm+xL828vkxSCnBvzwHz10Pvb6/oInWUFS6ur8Uc/2BXGa3v2CO5TbetLK/yFY4DpBwr794q9SLiH2qv/hAGBf1ZKa/KFiqvUkBpL8Y8Yp/hlKjv+gxMo36LKS/iD174CT7or8Ae4W3yGugv7BZjXaEHJ6/AD9emV8Wnb/ACQDfFQqbv4DUoSTM/Zi/sM1ntysqkr+glJUBt4CNv4BY/dnMoIS/oI1blBathr/gjVuUFq2Gv6D7tD96L46/oGLUfT3ejr/wm6YzsoeTv7DNZ7crKpK/cE+20hPfk79gXzdHbXSLvyCR+MrmFoq/AFyaEJ0KiL9gLXbD89GMv2BfN0dtdIu/YMZWhTAjjL8AXJoQnQqIvwAOQ07ssn+/wJxMbLjGdL8AyKL2PKFuv4DyKQ0WcGa/QADPc6sLcr9A1Udd0jx6v0AHCeFL33i/gLouHPz5YL+A0q96uUBlP4AKq2vTtmo/wPbLl51HeD8=",
          "dtype": "f8"
         },
         "yaxis": "y8"
        },
        {
         "legendgroup": "acc_norm_mmlu",
         "line": {
          "color": "rgba(33, 226, 181, 1)",
          "dash": "solid",
          "width": 1.5
         },
         "mode": "lines",
         "name": "MMLU",
         "showlegend": false,
         "type": "scatter",
         "x": {
          "bdata": "AAAAQN1K70EAAADwJXj3QQAAAEDdSv9BAAAASMqOA0IAAADwJXgHQgAAAJiBYQtCAAAAQN1KD0IAAAB0HJoRQgAAAEjKjhNCAAAAHHiDFUIAAADwJXgXQgAAAMTTbBlCAAAAmIFhG0IAAABsL1YdQgAAAEDdSh9CAAAAisWfIEIAAAB0HJohQgAAAF5zlCJCAAAASMqOI0IAAAAyIYkkQgAAABx4gyVCAAAABs99JkIAAADwJXgnQgAAANp8cihCAAAAxNNsKUIAAACuKmcqQgAAAJiBYStCAAAAgthbLEIAAABsL1YtQgAAAFaGUC5CAAAAQN1KL0IAAAAVmiIwQgAAAIrFnzBCAAAA//AcMUIAAAB0HJoxQgAAAOlHFzJCAAAAXnOUMkIAAADTnhEzQgAAAEjKjjNCAAAAvfULNEIAAACAk9w0QgAAAEMxrTVCAAAABs99NkIAAAB7+vo2QgAAAPAleDdCAAAAZVH1N0I=",
          "dtype": "f8"
         },
         "xaxis": "x8",
         "y": {
          "bdata": "0PQqm2xOmb8QSnr7pcSWv5CIAhwi8JK/IBcr+3MNj79g57jzmBWIvwDNUA4GoIO/IPEJzrUtgb8gs8TNH+GCvyBac1HxHYC/QHsF68XPf78AkaP8EUR4vwD3kzQZ/3i/QFqarW7pc79A8j7TbOxzv8BaLM8gmHK/gBKNWi2Eb78AfXR49VZfvwBOldfSlWG/AC4Xmex1Tb8A9APg6ztDPwBz9kUn9lU/AMWPTArhYD8Aejlx76NKP4Aa7O/ZNGI/ANnitGdjWD8ASzrJdFZdPwAezAjv4ls/AF2IuEvaVz8AnOCEJzo+PwAqG2P6UEm/AFGsf1MOWL8A1Dn813E1vwAJcTJm11U/APFMw9QyUz8ASd6/GCRQPwA8tsjraTi/AIz4FawqND8AJVTOIXpSPwC6EsSomk4/AA/DwYqkWT8AvguaNjhYP4DoXskUEmE/gCf9FExWYj8Ay9PKAl5dPwDzBLOwtlE/ANFVIbmqVD8=",
          "dtype": "f8"
         },
         "yaxis": "y8"
        },
        {
         "legendgroup": "acc_norm_siqa",
         "line": {
          "color": "rgba(112, 252, 97, 1)",
          "dash": "dot",
          "width": 1.5
         },
         "mode": "lines",
         "name": "SIQA",
         "showlegend": false,
         "type": "scatter",
         "x": {
          "bdata": "AAAAQN1K70EAAADwJXj3QQAAAEDdSv9BAAAASMqOA0IAAADwJXgHQgAAAJiBYQtCAAAAQN1KD0IAAAB0HJoRQgAAAEjKjhNCAAAAHHiDFUIAAADwJXgXQgAAAMTTbBlCAAAAmIFhG0IAAABsL1YdQgAAAEDdSh9CAAAAisWfIEIAAAB0HJohQgAAAF5zlCJCAAAASMqOI0IAAAAyIYkkQgAAABx4gyVCAAAABs99JkIAAADwJXgnQgAAANp8cihCAAAAxNNsKUIAAACuKmcqQgAAAJiBYStCAAAAgthbLEIAAABsL1YtQgAAAFaGUC5CAAAAQN1KL0IAAAAVmiIwQgAAAIrFnzBCAAAA//AcMUIAAAB0HJoxQgAAAOlHFzJCAAAAXnOUMkIAAADTnhEzQgAAAEjKjjNCAAAAvfULNEIAAACAk9w0QgAAAEMxrTVCAAAABs99NkIAAAB7+vo2QgAAAPAleDdCAAAAZVH1N0I=",
          "dtype": "f8"
         },
         "xaxis": "x8",
         "y": {
          "bdata": "AAo1wHmDQr8AUIFKH0hivwAHxLb4+Fw/ADxdTJbyYz8ASCD5mFt6PwAHxLb4+Fw/AHwroq1vTb8AvKTHVS1JPwBQgUofSGK/AAjEtvj4XD8Az8jF3oJXPwDZ2kSjrWY/wN1jhAVDdj8AdVg9sGhpPwB1WD2waGk/AJBcy0OCPD/ApGiT68xwP8D1ay8j9YE/gOSd8aUWfT+ADyUIf+V0PwCYXMtDgjw/ANnaRKOtZj+AEdY1vSNsPwB64XwS/ng/gI5M8V9GgT+AJy2znJeAP8DDqqupUoM/YC5nID1rhz/AMQRXDdWKP4BjxdqGd4k/4CrK6WwBhD8A+Qhm816FPwBgKKS2DYY/4P9C05MyjD/AMQRXDdWKP2CVhl4AGog/wKuiAIygdz8APV1MlvJjPwB64XwS/ng/AHrhfBL+eD8AeuF8Ev54PwA8XUyW8mM/gA8lCH/ldD/AstxtLHR+P8CAG+qy0X8/gEHmi/iHcz8=",
          "dtype": "f8"
         },
         "yaxis": "y8"
        },
        {
         "legendgroup": "acc_norm_piqa",
         "line": {
          "color": "rgba(199, 236, 54, 1)",
          "dash": "solid",
          "width": 1.5
         },
         "mode": "lines",
         "name": "PIQA",
         "showlegend": false,
         "type": "scatter",
         "x": {
          "bdata": "AAAAQN1K70EAAADwJXj3QQAAAEDdSv9BAAAASMqOA0IAAADwJXgHQgAAAJiBYQtCAAAAQN1KD0IAAAB0HJoRQgAAAEjKjhNCAAAAHHiDFUIAAADwJXgXQgAAAMTTbBlCAAAAmIFhG0IAAABsL1YdQgAAAEDdSh9CAAAAisWfIEIAAAB0HJohQgAAAF5zlCJCAAAASMqOI0IAAAAyIYkkQgAAABx4gyVCAAAABs99JkIAAADwJXgnQgAAANp8cihCAAAAxNNsKUIAAACuKmcqQgAAAJiBYStCAAAAgthbLEIAAABsL1YtQgAAAFaGUC5CAAAAQN1KL0IAAAAVmiIwQgAAAIrFnzBCAAAA//AcMUIAAAB0HJoxQgAAAOlHFzJCAAAAXnOUMkIAAADTnhEzQgAAAEjKjjNCAAAAvfULNEIAAACAk9w0QgAAAEMxrTVCAAAABs99NkIAAAB7+vo2QgAAAPAleDdCAAAAZVH1N0I=",
          "dtype": "f8"
         },
         "xaxis": "x8",
         "y": {
          "bdata": "MAWk1vjjv784PxF3zOq5vyiEDpNtd7i/mMEYahHotb9AeX4XoPGzv3g8LRhZybC/QPcLFcrdr78As8fQhZmrv7AlMGJzFqu/0PNu3vlzrL+wQ/x1aIavv6Dc3Del166/UJiY82CTqr+AV/Hl7Lipv7AlMGJzFqu/sCUwYnMWq7+AZtdv5/Crv1CYmPNgk6q/EBrnDklIrL8QYzo5F4eov7Bug4xBVae/kKBEELv3pb+QryqatS+ov9DVosoEBKi/APwa+1PYp79QeszfayOmv/At3H7Neqa/0NWiygQEqL/AfWkWPI2pv5C+ECSwZ6q/MMpZd9o1qb9wSAtc8oCnvzCsjWPlxaS/8HYvqZu5or9w0gWUNJqkvwDtNHFZoKW/EPwa+1PYp79QibJpZluov3Dw0acpCqm/wMa8QArMpb8wrI1j5cWkv8BfnQJHHaW/8JT7vJApp7+AKj9I/RCjvxCOwU/wVaC/AOck5Zafnr8=",
          "dtype": "f8"
         },
         "yaxis": "y8"
        },
        {
         "legendgroup": "acc_norm_winogrande",
         "line": {
          "color": "rgba(247, 184, 54, 1)",
          "dash": "solid",
          "width": 1.5
         },
         "mode": "lines",
         "name": "WinoGrande",
         "showlegend": false,
         "type": "scatter",
         "x": {
          "bdata": "AAAAQN1K70EAAADwJXj3QQAAAEDdSv9BAAAASMqOA0IAAADwJXgHQgAAAJiBYQtCAAAAQN1KD0IAAAB0HJoRQgAAAEjKjhNCAAAAHHiDFUIAAADwJXgXQgAAAMTTbBlCAAAAmIFhG0IAAABsL1YdQgAAAEDdSh9CAAAAisWfIEIAAAB0HJohQgAAAF5zlCJCAAAASMqOI0IAAAAyIYkkQgAAABx4gyVCAAAABs99JkIAAADwJXgnQgAAANp8cihCAAAAxNNsKUIAAACuKmcqQgAAAJiBYStCAAAAgthbLEIAAABsL1YtQgAAAFaGUC5CAAAAQN1KL0IAAAAVmiIwQgAAAIrFnzBCAAAA//AcMUIAAAB0HJoxQgAAAOlHFzJCAAAAXnOUMkIAAADTnhEzQgAAAEjKjjNCAAAAvfULNEIAAACAk9w0QgAAAEMxrTVCAAAABs99NkIAAAB7+vo2QgAAAPAleDdCAAAAZVH1N0I=",
          "dtype": "f8"
         },
         "xaxis": "x8",
         "y": {
          "bdata": "yBIiADmEpL8o+PIiFH6jv4DO3bv0P6C/IOYOore+nL9AtE0ePhyevwB/72P0D5y/oHtSLSSmmL9gRvRy2pmWv+BCVzwKMJO/oKbZQ/10kL/gQlc8CjCTvyBNLuB6bZ2/AH/vY/QPnL8gEZa4kI2Uv4A/P625QoO/wKZe63zxg79ACuHybzaBvwB4RO3SsX+/gDgPjxhoc7+AcQqAMt54v4B4RO3SsX+/wA1+KUCghL/AdJ1nA0+Fv0BxADEz5YG/AGOqQ/Aoab8AxyxL421mv4CckZYLrXC/AHhE7dKxf78A1YyHJSN2v4AGTgufxXS/AA6IeD+Ze7/AdJ1nA0+Fv0BGeRpaFoq/gNvG9MX2fL+ADYh4P5l7vwCckZYLrXC/gHEKgDLeeL+AOA+PGGhzv4CjywOsgHe/ANzG9MX2fL+AeETt0rF/v0AK4fJvNoG/AKPBtKyHgL8AxyxL421mvwA3qC0GuWo/wBdBL7LrgD8=",
          "dtype": "f8"
         },
         "yaxis": "y8"
        },
        {
         "legendgroup": "acc_norm_commonsense_qa",
         "line": {
          "color": "rgba(244, 105, 24, 1)",
          "dash": "dot",
          "width": 1.5
         },
         "mode": "lines",
         "name": "CommonsenseQA",
         "showlegend": false,
         "type": "scatter",
         "x": {
          "bdata": "AAAAQN1K70EAAADwJXj3QQAAAEDdSv9BAAAASMqOA0IAAADwJXgHQgAAAJiBYQtCAAAAQN1KD0IAAAB0HJoRQgAAAEjKjhNCAAAAHHiDFUIAAADwJXgXQgAAAMTTbBlCAAAAmIFhG0IAAABsL1YdQgAAAEDdSh9CAAAAisWfIEIAAAB0HJohQgAAAF5zlCJCAAAASMqOI0IAAAAyIYkkQgAAABx4gyVCAAAABs99JkIAAADwJXgnQgAAANp8cihCAAAAxNNsKUIAAACuKmcqQgAAAJiBYStCAAAAgthbLEIAAABsL1YtQgAAAFaGUC5CAAAAQN1KL0IAAAAVmiIwQgAAAIrFnzBCAAAA//AcMUIAAAB0HJoxQgAAAOlHFzJCAAAAXnOUMkIAAADTnhEzQgAAAEjKjjNCAAAAvfULNEIAAACAk9w0QgAAAEMxrTVCAAAABs99NkIAAAB7+vo2QgAAAPAleDdCAAAAZVH1N0I=",
          "dtype": "f8"
         },
         "xaxis": "x8",
         "y": {
          "bdata": "cDKP+HzFq78QeEXsepqkv4BJNjx4PJy/QPYLbjnAlb/AogvaR/mEv8A3o9lOS3y/gMas9xpfcb+Af+UU9RZlv4B+72P0D2w/QMYxn5rbdD9AlHAbITl2P8CCs36qkoA/AFHy+jDwgT+g8AwqDhWIP4C7rm/ECIY/QFSPMQFahT/AgrN+qpKAP4A3KIHOx38/gCLOrYe3hj8AjYoiG9CKP4CQJ1nrOY4/ALgROfSegj9A7W/zPauEP6BeZtVxl48/UAQs1N/8lz8gNu1XWZ+WPyB/QIIn3pI/EBghRGQvkj/AUBw1fqWXP+AeW7EEA5k/wG7oSHMVnD/AJZUepdafP6Bs0l4DF6A/EKRGA70hnj+QoKnM7LeaP5A5io4pCZo/kDmKjikJmj/QtztzQVSYP0AELNTf/Jc/kDmKjikJmj8QpEYDvSGeP8AllR6l1p8/kKCpzOy3mj8Ahnrvx7GZP8BQHDV+pZc/UCL459RsnD8=",
          "dtype": "f8"
         },
         "yaxis": "y8"
        },
        {
         "legendgroup": "acc_norm_openbookqa",
         "line": {
          "color": "rgba(199, 42, 4, 1)",
          "dash": "solid",
          "width": 1.5
         },
         "mode": "lines",
         "name": "OpenbookQA",
         "showlegend": false,
         "type": "scatter",
         "x": {
          "bdata": "AAAAQN1K70EAAADwJXj3QQAAAEDdSv9BAAAASMqOA0IAAADwJXgHQgAAAJiBYQtCAAAAQN1KD0IAAAB0HJoRQgAAAEjKjhNCAAAAHHiDFUIAAADwJXgXQgAAAMTTbBlCAAAAmIFhG0IAAABsL1YdQgAAAEDdSh9CAAAAisWfIEIAAAB0HJohQgAAAF5zlCJCAAAASMqOI0IAAAAyIYkkQgAAABx4gyVCAAAABs99JkIAAADwJXgnQgAAANp8cihCAAAAxNNsKUIAAACuKmcqQgAAAJiBYStCAAAAgthbLEIAAABsL1YtQgAAAFaGUC5CAAAAQN1KL0IAAAAVmiIwQgAAAIrFnzBCAAAA//AcMUIAAAB0HJoxQgAAAOlHFzJCAAAAXnOUMkIAAADTnhEzQgAAAEjKjjNCAAAAvfULNEIAAACAk9w0QgAAAEMxrTVCAAAABs99NkIAAAB7+vo2QgAAAPAleDdCAAAAZVH1N0I=",
          "dtype": "f8"
         },
         "xaxis": "x8",
         "y": {
          "bdata": "kAWn0/Cdnr9AlLDxvLGTvyDGcXU2VJK/AF9SN3Olkb/gRXQfEouBvwBT7U0KoH2/AAiwv4okST8AU+1NCqB9v8B3NaOLLYC/AFPtTQqgfb8AUAtGVjJUvwAIsL+KJEk/AH50ZONudb8A6SuFvxmLv0Di8RcfRoS/wLZvVf3ker+A5NhziiFsPwC+KchEjEK/AHXOQXl+Vz8AUvf1eHtqvwC+KchEjEK/gBryXPApeL8AUAtGVjJUv+BFdB8Si4G/AH50ZONudb/Atm9V/eR6v4Dk2HOKIWw/gKrsfpb0gT8g4+dvsGqHP0DcrQIQl4A/AKvnKt+Gcz8Adc5BeX5XPwCr5yrfhnM/QEdlI+xBdj+Aqux+lvSBPwCr5yrfhnM/QBzeDBNzfj9AR2Uj7EF2PwCAYBQGuHs/AFALRlYyVL8Adc5BeX5XP8Dh9mvWs3K/ACAZ3hdhGj/Atm9V/eR6vwBS9/V4e2q/AH50ZONudb8=",
          "dtype": "f8"
         },
         "yaxis": "y8"
        },
        {
         "legendgroup": "acc_norm_arc_easy",
         "line": {
          "color": "rgba(48, 18, 59, 1)",
          "dash": "solid",
          "width": 1.5
         },
         "mode": "lines",
         "name": "ARC Easy",
         "showlegend": false,
         "type": "scatter",
         "x": {
          "bdata": "AAAAQN1K70EAAADwJXj3QQAAAEDdSv9BAAAASMqOA0IAAADwJXgHQgAAAJiBYQtCAAAAQN1KD0IAAAB0HJoRQgAAAEjKjhNCAAAAHHiDFUIAAADwJXgXQgAAAMTTbBlCAAAAmIFhG0IAAABsL1YdQgAAAEDdSh9CAAAAisWfIEIAAAB0HJohQgAAAF5zlCJCAAAASMqOI0IAAAAyIYkkQgAAABx4gyVCAAAABs99JkIAAADwJXgnQgAAANp8cihCAAAAxNNsKUIAAACuKmcqQgAAAJiBYStCAAAAgthbLEIAAABsL1YtQgAAAFaGUC5CAAAAQN1KL0IAAAAVmiIwQgAAAIrFnzBCAAAA//AcMUIAAAB0HJoxQgAAAOlHFzJCAAAAXnOUMkIAAADTnhEzQgAAAEjKjjNCAAAAvfULNEIAAAAyIYk0QgAAAKdMBjVCAAAAHHiDNUIAAACRowA2QgAAAAbPfTZCAAAAe/r6NkIAAADwJXg3QgAAAGVR9TdC",
          "dtype": "f8"
         },
         "xaxis": "x9",
         "y": {
          "bdata": "yEI1U2yiwr8SweY3hO3Av9iRbNFfW76/eJ21JIopvb+ASdJ+7mS8vxCp/ne097u/JAE4LH1uur/EuJ3ZC3i4v4iSJam8o7i/oPlE539Sub/whtxVktW5v7RgZCVDAbq/KK1UhuGpub8Qmhjuub+5vxRGNUge+7i/iJIlqbyjuL+IkiWpvKO4v3jXIsVdMLe/EDdPviPDtr8Y42sYiP61vwSLMmS/h7e/AN8VCltMuL+E5ghPWGi5v/gy+a/2ELm/YMTmLDZGt78Y42sYiP61vwR8TNrET7W/8CMTJvzYtr/AqbdPEUC2v7BRfptIybe/0GS6M3Czt78QN0++I8O2v7TutGuyzLS/2K0NXj7ys7/gvPPnOCq2v9BkujNws7e/BIsyZL+Ht79gxOYsNka3v8Cpt08RQLa/wKm3TxFAtr84osQKFCS1v5iHlS3vHbS/qDOyh1NZs79ITuFkeF+0v6hCmBFOkbW/wKm3TxFAtr9AosQKFCS1v3jIPDtj+LS/",
          "dtype": "f8"
         },
         "yaxis": "y9"
        },
        {
         "legendgroup": "acc_norm_arc_challenge",
         "line": {
          "color": "rgba(68, 96, 208, 1)",
          "dash": "dot",
          "width": 1.5
         },
         "mode": "lines",
         "name": "ARC Challenge",
         "showlegend": false,
         "type": "scatter",
         "x": {
          "bdata": "AAAAQN1K70EAAADwJXj3QQAAAEDdSv9BAAAASMqOA0IAAADwJXgHQgAAAJiBYQtCAAAAQN1KD0IAAAB0HJoRQgAAAEjKjhNCAAAAHHiDFUIAAADwJXgXQgAAAMTTbBlCAAAAmIFhG0IAAABsL1YdQgAAAEDdSh9CAAAAisWfIEIAAAB0HJohQgAAAF5zlCJCAAAASMqOI0IAAAAyIYkkQgAAABx4gyVCAAAABs99JkIAAADwJXgnQgAAANp8cihCAAAAxNNsKUIAAACuKmcqQgAAAJiBYStCAAAAgthbLEIAAABsL1YtQgAAAFaGUC5CAAAAQN1KL0IAAAAVmiIwQgAAAIrFnzBCAAAA//AcMUIAAAB0HJoxQgAAAOlHFzJCAAAAXnOUMkIAAADTnhEzQgAAAEjKjjNCAAAAvfULNEIAAAAyIYk0QgAAAKdMBjVCAAAAHHiDNUIAAACRowA2QgAAAAbPfTZCAAAAe/r6NkIAAADwJXg3QgAAAGVR9TdC",
          "dtype": "f8"
         },
         "xaxis": "x9",
         "y": {
          "bdata": "mEt4XoXBp7/kySlDnQymv9y6Q7mi1KO/7BJ9bWtLor+cheX+WMihv6zdHrMhP6C/aASRkBG9nL+Q0s8MmBqev0g2UhSLX5u/KIbfq/lxnr9QVB4ogM+fv3jGjAzNoqK/7BJ9bWtLor/IRD7x5O2gv5yF5f5YyKG/3LpDuaLUo7+klMuIUwCkvxTS1V/3cKG/OO3+6bwgn79oBJGQEb2cvzDt/um8IJ+/UJ1xUk4OnL/oA5fjcBOgvxAfwG02w52/KDn1nbofor9QVB4ogM+fv6zdHrMhP6C/SFQeKIDPn7847f7pvCCfv3hrsM7Ua52/CAH0WUFTmb+wOe9KW8mev1BUHiiAz5+/VPhNkEZFob8Yht+r+XGev3hrsM7Ua52/tN0esyE/oL+oOe9KW8mevzjt/um8IJ+/MM8y1sewmr/Q6WGz7Labv3hrsM7Ua52/MO3+6bwgn78Yht+r+XGev1BUHiiAz5+/SFQeKIDPn790t6aC0mqgv5DSzwyYGp6/",
          "dtype": "f8"
         },
         "yaxis": "y9"
        },
        {
         "legendgroup": "acc_norm_hellaswag",
         "line": {
          "color": "rgba(54, 167, 248, 1)",
          "dash": "solid",
          "width": 1.5
         },
         "mode": "lines",
         "name": "Hellaswag",
         "showlegend": false,
         "type": "scatter",
         "x": {
          "bdata": "AAAAQN1K70EAAADwJXj3QQAAAEDdSv9BAAAASMqOA0IAAADwJXgHQgAAAJiBYQtCAAAAQN1KD0IAAAB0HJoRQgAAAEjKjhNCAAAAHHiDFUIAAADwJXgXQgAAAMTTbBlCAAAAmIFhG0IAAABsL1YdQgAAAEDdSh9CAAAAisWfIEIAAAB0HJohQgAAAF5zlCJCAAAASMqOI0IAAAAyIYkkQgAAABx4gyVCAAAABs99JkIAAADwJXgnQgAAANp8cihCAAAAxNNsKUIAAACuKmcqQgAAAJiBYStCAAAAgthbLEIAAABsL1YtQgAAAFaGUC5CAAAAQN1KL0IAAAAVmiIwQgAAAIrFnzBCAAAA//AcMUIAAAB0HJoxQgAAAOlHFzJCAAAAXnOUMkIAAADTnhEzQgAAAEjKjjNCAAAAvfULNEIAAAAyIYk0QgAAAKdMBjVCAAAAHHiDNUIAAACRowA2QgAAAAbPfTZCAAAAe/r6NkIAAADwJXg3QgAAAGVR9TdC",
          "dtype": "f8"
         },
         "xaxis": "x9",
         "y": {
          "bdata": "xm3Ht+xSxr+6CNMAQH3Evz5X7uj0/sK/gCmDc6gOwr9qwmM15V/Bv44rrvq+58C/QPQkuV4CwL8QOZDhiF+9v8Cr+HJ23Ly/kDGdnItDvL8gkcmVUda7v6CJ1lBUurq/nInWUFS6ur+8nBLpe6S6vxDWxrHyYrq/AG+ncy+0ub9UqFs8pnK5vyzaHMAfFbi/3EyFUQ2St788MlZ06Iu2v7wqYy/rb7W/4Om7IXeVtL8wd1OQiRi1v1RFkgwQdra/oCYNIb69t7/g+KGrcc22v6zSKXsi+ba/tCpjL+tvtb+Uawo9X0q2v8DWf4lPq7S/wNZ/iU+rtL9Az4xEUo+zv/z897mef7S/rG9gS4z8s79QNqyCFT60v5BcJLNkErS/HBA0UsZptL9Mio8osQK1vzQjcOrtU7S/zIKc47Pms7+gtF1nLYmyv0DPjERSj7O/rG9gS4z8s780I3Dq7VO0v0x7qZ62yrK/jE0+KWrasb88wKa6V1exv6xgesGRxLG/",
          "dtype": "f8"
         },
         "yaxis": "y9"
        },
        {
         "legendgroup": "acc_norm_mmlu",
         "line": {
          "color": "rgba(33, 226, 181, 1)",
          "dash": "solid",
          "width": 1.5
         },
         "mode": "lines",
         "name": "MMLU",
         "showlegend": false,
         "type": "scatter",
         "x": {
          "bdata": "AAAAQN1K70EAAADwJXj3QQAAAEDdSv9BAAAASMqOA0IAAADwJXgHQgAAAJiBYQtCAAAAQN1KD0IAAAB0HJoRQgAAAEjKjhNCAAAAHHiDFUIAAADwJXgXQgAAAMTTbBlCAAAAmIFhG0IAAABsL1YdQgAAAEDdSh9CAAAAisWfIEIAAAB0HJohQgAAAF5zlCJCAAAASMqOI0IAAAAyIYkkQgAAABx4gyVCAAAABs99JkIAAADwJXgnQgAAANp8cihCAAAAxNNsKUIAAACuKmcqQgAAAJiBYStCAAAAgthbLEIAAABsL1YtQgAAAFaGUC5CAAAAQN1KL0IAAAAVmiIwQgAAAIrFnzBCAAAA//AcMUIAAAB0HJoxQgAAAOlHFzJCAAAAXnOUMkIAAADTnhEzQgAAAEjKjjNCAAAAvfULNEIAAAAyIYk0QgAAAKdMBjVCAAAAHHiDNUIAAACRowA2QgAAAAbPfTZCAAAAe/r6NkIAAADwJXg3QgAAAGVR9TdC",
          "dtype": "f8"
         },
         "xaxis": "x9",
         "y": {
          "bdata": "MJIPdtUjn7/wA0w4zGCdv1A9yh/XS5u/UI+a8XXImr/QYlQyo62av8DmrtKCz5m/0P/nYnaFmb+gG12a03aYv7Bsk99KJJi/EDaJ+rStl7/gBY+o72OXv7Am1ielXZi/sAgOnJZCmL/AO4Lc//yWv1DnBN3RU5a/4DIXAKJklb/AiGmJ7ZWWvxBnLU6Eypa/MCoa7IdFmL8QmPjI6FuXv5As3FZQgZe/UPNZRP+Ll79w9iz2f+eXv/DAdblZipe/MDCJE+vilr/wgx14SxCYv1CMKSBhXJe/UCc+/sgymL/QvJU3OpaWv/BEIi7hzpW/8ILQ1ZC5lL9wjnegW3+VvzAOUl7ioZa/EJMsrI4Ml7+w8k7uEgmXv6A0Cecj7pa/0MIRK0Qbl79QW2Hnf6WXv4C5wSgTkJi/kDlNwJhLmL+wRSIDriaYvzDiyS6jUZi/cEDVrOP0l78gNp3kEMqWvzDsPkEvEJa/AB3t6qVhl7/gX56W3SmYv7B3z29kkJi/",
          "dtype": "f8"
         },
         "yaxis": "y9"
        },
        {
         "legendgroup": "acc_norm_siqa",
         "line": {
          "color": "rgba(112, 252, 97, 1)",
          "dash": "dot",
          "width": 1.5
         },
         "mode": "lines",
         "name": "SIQA",
         "showlegend": false,
         "type": "scatter",
         "x": {
          "bdata": "AAAAQN1K70EAAADwJXj3QQAAAEDdSv9BAAAASMqOA0IAAADwJXgHQgAAAJiBYQtCAAAAQN1KD0IAAAB0HJoRQgAAAEjKjhNCAAAAHHiDFUIAAADwJXgXQgAAAMTTbBlCAAAAmIFhG0IAAABsL1YdQgAAAEDdSh9CAAAAisWfIEIAAAB0HJohQgAAAF5zlCJCAAAASMqOI0IAAAAyIYkkQgAAABx4gyVCAAAABs99JkIAAADwJXgnQgAAANp8cihCAAAAxNNsKUIAAACuKmcqQgAAAJiBYStCAAAAgthbLEIAAABsL1YtQgAAAFaGUC5CAAAAQN1KL0IAAAAVmiIwQgAAAIrFnzBCAAAA//AcMUIAAAB0HJoxQgAAAOlHFzJCAAAAXnOUMkIAAADTnhEzQgAAAEjKjjNCAAAAvfULNEIAAAAyIYk0QgAAAKdMBjVCAAAAHHiDNUIAAACRowA2QgAAAAbPfTZCAAAAe/r6NkIAAADwJXg3QgAAAGVR9TdC",
          "dtype": "f8"
         },
         "xaxis": "x9",
         "y": {
          "bdata": "gCy28v4sgL8AhPP71ih4v0B9uY42VXG/QH25jjZVcb+g+vRuhYqBvyBlseMYo4W/IKKAONgIlL8A0wqPfCWNvwDTCo98JY2/oJPVMMLbgL+A7q9wakF8vwC2tH9Qy3a/QEv4Cr2ycr8AtrR/UMt2vwCE8/vWKHi/ALa0f1DLdr+g+vRuhYqBvwAl+jNGeWq/AF71JGDvb7+AUIFKH0hiv0Dur3BqQXy/gCy28v4sgL9AS/gKvbJyv4Ds/kIsA2W/AJhcy0OCPD8A9hDC8C1Uv4Ds/kIsA2W/gOz+QiwDZb8AmFzLQ4I8PwBo+ngXXS6/APYQwvAtVL8AXvUkYO9vv4C87uzwnn2/AITz+9YoeL+ALLby/iyAvwBe9SRg72+/AITz+9YoeL+A7P5CLANlvwAIxLb4+Fw/AAfEtvj4XD8AMAyzCqRZv4C87uzwnn2/AFIyeF2Geb9AS/gKvbJyvwCJfDs5vme/ADAMswqkWb8A9hDC8C1UvwAIxLb4+Fw/",
          "dtype": "f8"
         },
         "yaxis": "y9"
        },
        {
         "legendgroup": "acc_norm_piqa",
         "line": {
          "color": "rgba(199, 236, 54, 1)",
          "dash": "solid",
          "width": 1.5
         },
         "mode": "lines",
         "name": "PIQA",
         "showlegend": false,
         "type": "scatter",
         "x": {
          "bdata": "AAAAQN1K70EAAADwJXj3QQAAAEDdSv9BAAAASMqOA0IAAADwJXgHQgAAAJiBYQtCAAAAQN1KD0IAAAB0HJoRQgAAAEjKjhNCAAAAHHiDFUIAAADwJXgXQgAAAMTTbBlCAAAAmIFhG0IAAABsL1YdQgAAAEDdSh9CAAAAisWfIEIAAAB0HJohQgAAAF5zlCJCAAAASMqOI0IAAAAyIYkkQgAAABx4gyVCAAAABs99JkIAAADwJXgnQgAAANp8cihCAAAAxNNsKUIAAACuKmcqQgAAAJiBYStCAAAAgthbLEIAAABsL1YtQgAAAFaGUC5CAAAAQN1KL0IAAAAVmiIwQgAAAIrFnzBCAAAA//AcMUIAAAB0HJoxQgAAAOlHFzJCAAAAXnOUMkIAAADTnhEzQgAAAEjKjjNCAAAAvfULNEIAAAAyIYk0QgAAAKdMBjVCAAAAHHiDNUIAAACRowA2QgAAAAbPfTZCAAAAe/r6NkIAAADwJXg3QgAAAGVR9TdC",
          "dtype": "f8"
         },
         "xaxis": "x9",
         "y": {
          "bdata": "aLlsTbeDur9AiGShmim2v2jk82OQUrK/YCnxfzHfsL+Adb354SiuvwDCrVqA0a2/QNk/AdVtq79QmJjzYJOqv9DVosoEBKi/8JT7vJApp7+AkV6GwL+jv7BQt3hM5aK/kKBEELv3pb8Q/Br7U9inv/BLqJLC6qq/EGM6OReHqL9QibJpZluov3A5JdL3SKW/cMMfCjpior8QNoibJ9+hv5DplzqJNqK/8HYvqZu5or8QNoibJ9+hvxCdp9nqjaK/sFC3eEzlor+Q6Zc6iTaivxCOwU/wVaC/gJo0hPj2nr8AMHgPZd6av2Bl1smu6py/gJo0hPj2nr+Q6Zc6iTaiv4ABVMK7pZ+/YGXWya7qnL+AXpxcDheWv4BenFwOF5a/oHUuA2Ozk79gkF3gh7mUv+CT+hZYI5i/IDB4D2Xemr/gGOZoEEKdvyBHCra5epi/IHnLOTMdl78ARG1/6RCVv+DcTUEmYpS/AKuMvay/lb/gdS4DY7OTv4DFu5rRxZa/",
          "dtype": "f8"
         },
         "yaxis": "y9"
        },
        {
         "legendgroup": "acc_norm_winogrande",
         "line": {
          "color": "rgba(247, 184, 54, 1)",
          "dash": "solid",
          "width": 1.5
         },
         "mode": "lines",
         "name": "WinoGrande",
         "showlegend": false,
         "type": "scatter",
         "x": {
          "bdata": "AAAAQN1K70EAAADwJXj3QQAAAEDdSv9BAAAASMqOA0IAAADwJXgHQgAAAJiBYQtCAAAAQN1KD0IAAAB0HJoRQgAAAEjKjhNCAAAAHHiDFUIAAADwJXgXQgAAAMTTbBlCAAAAmIFhG0IAAABsL1YdQgAAAEDdSh9CAAAAisWfIEIAAAB0HJohQgAAAF5zlCJCAAAASMqOI0IAAAAyIYkkQgAAABx4gyVCAAAABs99JkIAAADwJXgnQgAAANp8cihCAAAAxNNsKUIAAACuKmcqQgAAAJiBYStCAAAAgthbLEIAAABsL1YtQgAAAFaGUC5CAAAAQN1KL0IAAAAVmiIwQgAAAIrFnzBCAAAA//AcMUIAAAB0HJoxQgAAAOlHFzJCAAAAXnOUMkIAAADTnhEzQgAAAEjKjjNCAAAAvfULNEIAAAAyIYk0QgAAAKdMBjVCAAAAHHiDNUIAAACRowA2QgAAAAbPfTZCAAAAe/r6NkIAAADwJXg3QgAAAGVR9TdC",
          "dtype": "f8"
         },
         "xaxis": "x9",
         "y": {
          "bdata": "YK0TsZ1Il7/g2zf+RoGSv+BCVzwKMJO/YEb0ctqZlr/gYCNQ/5+Xv6DEpVfy5JS/wOL2EmfRjL/AsDWP7S6Ov0DfWdyWZ4m/QHg6ntO4iL/A4vYSZ9GMv6AN+YHAI5G/IBGWuJCNlL8A88mkmx2QvyDBCCEie5G/IFrp4l7MkL8gWuniXsyQv8Di9hJn0Yy/AH90C3SMj78gWuniXsyQv+DbN/5GgZK/AH90C3SMj78Af3QLdIyPv6B0GMCD0pG/APPJpJsdkL/AQtzjiayGv4A/Sfy4O3q/gDgPjxhoc78AACg8/eNrvwAI7P1DhDq/ACuvUtayY7+Ao8sDrIB3v4A/Sfy4O3q/gKZe63zxg79ACuHybzaBv8CmXut88YO/ANzG9MX2fL8A3Mb0xfZ8v8B0nWcDT4W/wHSdZwNPhb8AeDqe07iIvwCPMVrJ92C/AKxs0l4DV78AACg8/eNrv8CmXut88YO/wKZe63zxg78AjzFayfdgvwDTJSYTdG0/",
          "dtype": "f8"
         },
         "yaxis": "y9"
        },
        {
         "legendgroup": "acc_norm_commonsense_qa",
         "line": {
          "color": "rgba(244, 105, 24, 1)",
          "dash": "dot",
          "width": 1.5
         },
         "mode": "lines",
         "name": "CommonsenseQA",
         "showlegend": false,
         "type": "scatter",
         "x": {
          "bdata": "AAAAQN1K70EAAADwJXj3QQAAAEDdSv9BAAAASMqOA0IAAADwJXgHQgAAAJiBYQtCAAAAQN1KD0IAAAB0HJoRQgAAAEjKjhNCAAAAHHiDFUIAAADwJXgXQgAAAMTTbBlCAAAAmIFhG0IAAABsL1YdQgAAAEDdSh9CAAAAisWfIEIAAAB0HJohQgAAAF5zlCJCAAAASMqOI0IAAAAyIYkkQgAAABx4gyVCAAAABs99JkIAAADwJXgnQgAAANp8cihCAAAAxNNsKUIAAACuKmcqQgAAAJiBYStCAAAAgthbLEIAAABsL1YtQgAAAFaGUC5CAAAAQN1KL0IAAAAVmiIwQgAAAIrFnzBCAAAA//AcMUIAAAB0HJoxQgAAAOlHFzJCAAAAXnOUMkIAAADTnhEzQgAAAEjKjjNCAAAAvfULNEIAAAAyIYk0QgAAAKdMBjVCAAAAHHiDNUIAAACRowA2QgAAAAbPfTZCAAAAe/r6NkIAAADwJXg3QgAAAGVR9TdC",
          "dtype": "f8"
         },
         "xaxis": "x9",
         "y": {
          "bdata": "ZHZsgj94sb8ITb7Vocusv3Ayj/h8xau/QFVq8vsvqL/A+ZMHY0+mvyDfZCo+SaW/sKFaU5rYp7/wx9KD6aynv8gIepFdh6i/GIcrdnXSpr9QraOmxKamvxB4Rex6mqS/oCtVi9zxpL8AIAw4siOmvwAgDDiyI6a/ACAMOLIjpr+wg44/pWijv5ANiXfngaC/8C4HX1M2m7+wF3W4/pmdv0CP15LPNqK/MCi4VAyIob8wKLhUDIihv/gQJq6366O/wPmTB2NPpr9gFMPkh1Wnv4C1T8MeC6K/IGRlGZ1Cnb9AFNiBLjCav4AA4xGq/Z+/cF0WD1aUo7/oqQZw9Dyjv/gBQCS9s6G/0H6U9sFInr/wTNNySKafv/gBQCS9s6G/QI/Xks82or9Ij9eSzzaivzAouFQMiKG/sIOOP6Voo79wTjCFW1yhv4AA4xGq/Z+/gEk2PHg8nL8wZGUZnUKdv0DLhFdg8Z2/gOIW/rSNm79wmcPT5k6fv2CZw9PmTp+/",
          "dtype": "f8"
         },
         "yaxis": "y9"
        },
        {
         "legendgroup": "acc_norm_openbookqa",
         "line": {
          "color": "rgba(199, 42, 4, 1)",
          "dash": "solid",
          "width": 1.5
         },
         "mode": "lines",
         "name": "OpenbookQA",
         "showlegend": false,
         "type": "scatter",
         "x": {
          "bdata": "AAAAQN1K70EAAADwJXj3QQAAAEDdSv9BAAAASMqOA0IAAADwJXgHQgAAAJiBYQtCAAAAQN1KD0IAAAB0HJoRQgAAAEjKjhNCAAAAHHiDFUIAAADwJXgXQgAAAMTTbBlCAAAAmIFhG0IAAABsL1YdQgAAAEDdSh9CAAAAisWfIEIAAAB0HJohQgAAAF5zlCJCAAAASMqOI0IAAAAyIYkkQgAAABx4gyVCAAAABs99JkIAAADwJXgnQgAAANp8cihCAAAAxNNsKUIAAACuKmcqQgAAAJiBYStCAAAAgthbLEIAAABsL1YtQgAAAFaGUC5CAAAAQN1KL0IAAAAVmiIwQgAAAIrFnzBCAAAA//AcMUIAAAB0HJoxQgAAAOlHFzJCAAAAXnOUMkIAAADTnhEzQgAAAEjKjjNCAAAAvfULNEIAAAAyIYk0QgAAAKdMBjVCAAAAHHiDNUIAAACRowA2QgAAAAbPfTZCAAAAe/r6NkIAAADwJXg3QgAAAGVR9TdC",
          "dtype": "f8"
         },
         "xaxis": "x9",
         "y": {
          "bdata": "7ElyvQQwsL/sSXK9BDCwv9B1GGcU8Ku/2L5rkeIuqL+Qa0HDo7Khv6DSYAFnYaK/uDmAPyoQo7+o0mABZ2Giv3C7zloSxaS/uDmAPyoQo78gPR12+nmmv9Cgn33tvqO/oNJgAWdhor9onQJHHVWgv2DQSBmnkZy/YNBIGaeRnL+AnoeVLe+dv3A3aFdqQJ2/aJ0CRx1VoL9A0EgZp5Gcv8DT5U93+5+/QGkp2+Pim78wAgqdIDSbv7CXTSiNG5e/cGLvbUMPlb9gN2hXakCdv3Ceh5Ut752/YDdoV2pAnb9AlLDxvLGTv+CQE7vsR5C/8Pcy+a/2kL+gMC7qyWyWvwA0yyCa1pm/YNBIGaeRnL9g0EgZp5Gcv4AEIoXgA6G/YDdoV2pAnb8gAgqdIDSbv4DJDqwGvpW/YPvPL4BglL9g+88vgGCUv3Bi721DD5W/gJ6HlS3vnb9AaSnb4+KbvwCb6l5dhZq/QJSw8byxk78wLZGz+QKTv/D3Mvmv9pC/",
          "dtype": "f8"
         },
         "yaxis": "y9"
        },
        {
         "legendgroup": "acc_norm_arc_easy",
         "line": {
          "color": "rgba(48, 18, 59, 1)",
          "dash": "solid",
          "width": 1.5
         },
         "mode": "lines",
         "name": "ARC Easy",
         "showlegend": false,
         "type": "scatter",
         "x": {
          "bdata": "AAAAQN1K70EAAADwJXj3QQAAAEDdSv9BAAAASMqOA0IAAADwJXgHQgAAAJiBYQtCAAAAQN1KD0IAAAB0HJoRQgAAAEjKjhNCAAAAHHiDFUIAAADwJXgXQgAAAMTTbBlCAAAAmIFhG0IAAABsL1YdQgAAAEDdSh9CAAAAisWfIEIAAAB0HJohQgAAAF5zlCJCAAAASMqOI0IAAAAyIYkkQgAAABx4gyVCAAAABs99JkIAAADwJXgnQgAAANp8cihCAAAAxNNsKUIAAACuKmcqQgAAAJiBYStCAAAAgthbLEIAAABsL1YtQgAAAFaGUC5CAAAAQN1KL0IAAAAVmiIwQgAAAIrFnzBCAAAA//AcMUIAAAB0HJoxQgAAAOlHFzJCAAAAXnOUMkIAAADTnhEzQgAAAEjKjjNCAAAAvfULNEIAAAAyIYk0QgAAAKdMBjVCAAAAHHiDNUIAAACRowA2QgAAAAbPfTZCAAAAe/r6NkIAAADwJXg3QgAAAGVR9TdC",
          "dtype": "f8"
         },
         "xaxis": "x10",
         "y": {
          "bdata": "xCpNk5ysvb9UCeRI19K1v+RZKriiLbO/CBmDqi5Tsr8w2Nucunixv2DqJNpI+Ky/IKbglQS0qL+gSgqra9Omv1C9cjxZUKa/ADDbzUbNpb+gLD6XdmOivzA4h+qgMaG/QIQDRcaVnL/gBVJgrkqev+AFUmCuSp6/UFJCwUzznb/AnjIi65udvwBtcZ5x+Z6/kCCBPdNQn78IeS74FAyiv5CHoHuW/5+/MDiH6qAxob+Qh6B7lv+fvyDgTTbYuqK/YFJCwUzznb+ALTxAt6+Sv8BQodz9IYu/IObkZ2oJh79Au11RkTqPv8C3wBrB0Iu/wGKa+gC8lL+ALTxAt6+Sv4AbQyK0FYm/gEbKOI3kgL9AVJmAAFN8vyAYpuvjq4W/wHso89bwgr/gEg1jkqmRv8BimvoAvJS/EP8X8w13l7/AYpr6ALyUvyB/xSmnWoa/gBuej+bcdr9AseEaU8Ryv6AUCbUTQoK/gLQj5PBmiL9A5uRnagmHv4AbQyK0FYm/",
          "dtype": "f8"
         },
         "yaxis": "y10"
        },
        {
         "legendgroup": "acc_norm_arc_challenge",
         "line": {
          "color": "rgba(68, 96, 208, 1)",
          "dash": "dot",
          "width": 1.5
         },
         "mode": "lines",
         "name": "ARC Challenge",
         "showlegend": false,
         "type": "scatter",
         "x": {
          "bdata": "AAAAQN1K70EAAADwJXj3QQAAAEDdSv9BAAAASMqOA0IAAADwJXgHQgAAAJiBYQtCAAAAQN1KD0IAAAB0HJoRQgAAAEjKjhNCAAAAHHiDFUIAAADwJXgXQgAAAMTTbBlCAAAAmIFhG0IAAABsL1YdQgAAAEDdSh9CAAAAisWfIEIAAAB0HJohQgAAAF5zlCJCAAAASMqOI0IAAAAyIYkkQgAAABx4gyVCAAAABs99JkIAAADwJXgnQgAAANp8cihCAAAAxNNsKUIAAACuKmcqQgAAAJiBYStCAAAAgthbLEIAAABsL1YtQgAAAFaGUC5CAAAAQN1KL0IAAAAVmiIwQgAAAIrFnzBCAAAA//AcMUIAAAB0HJoxQgAAAOlHFzJCAAAAXnOUMkIAAADTnhEzQgAAAEjKjjNCAAAAvfULNEIAAAAyIYk0QgAAAKdMBjVCAAAAHHiDNUIAAACRowA2QgAAAAbPfTZCAAAAe/r6NkIAAADwJXg3QgAAAGVR9TdC",
          "dtype": "f8"
         },
         "xaxis": "x10",
         "y": {
          "bdata": "vArRUBHnpr/sEn1ta0uiv6gbIzdmWZq/0BTpycWFk7+gVFmqZNqOvzD6ueygf5K/CAH0WUFTmb8w+rnsoH+SvzBRvHOUcIu/gCMOK7RNfr9QuNuxVx+Mv2Af++8azoy/eHhr0bjKkL8Ag333DROKvxiTmq7d0JG/oFRZqmTajr9gH/vvGs6Mv8Dm//4AWIe/gCMOK7RNfr8Aj7ao2ZFuvwDKiasXX1y/gBzUvRN6d7/wxFsyV3OQvyDqnDXRwYq/wOoSOprXeL8AC5zIHFBlPwClQa8FtF8/AOTYzPkDcr8AuVG2IDV6vwCuBA7n4YG/APM4sMzWa78AHsDGpaVjvwBvHtAPlWI/AMqJqxdfXL8AyomrF19cvwBZk8njclG/AAucyBxQZT8ARJe5NsZqPwAoZukPljE/QIBWxQa/dL8AuVG2IDV6v4Ac1L0Tene/AB7AxqWlY78AoHOevxo6vwBsRr7rPVo/gAyI0a57cT/AqAXKuzZ0P6De2YjOWIQ/",
          "dtype": "f8"
         },
         "yaxis": "y10"
        },
        {
         "legendgroup": "acc_norm_hellaswag",
         "line": {
          "color": "rgba(54, 167, 248, 1)",
          "dash": "solid",
          "width": 1.5
         },
         "mode": "lines",
         "name": "Hellaswag",
         "showlegend": false,
         "type": "scatter",
         "x": {
          "bdata": "AAAAQN1K70EAAADwJXj3QQAAAEDdSv9BAAAASMqOA0IAAADwJXgHQgAAAJiBYQtCAAAAQN1KD0IAAAB0HJoRQgAAAEjKjhNCAAAAHHiDFUIAAADwJXgXQgAAAMTTbBlCAAAAmIFhG0IAAABsL1YdQgAAAEDdSh9CAAAAisWfIEIAAAB0HJohQgAAAF5zlCJCAAAASMqOI0IAAAAyIYkkQgAAABx4gyVCAAAABs99JkIAAADwJXgnQgAAANp8cihCAAAAxNNsKUIAAACuKmcqQgAAAJiBYStCAAAAgthbLEIAAABsL1YtQgAAAFaGUC5CAAAAQN1KL0IAAAAVmiIwQgAAAIrFnzBCAAAA//AcMUIAAAB0HJoxQgAAAOlHFzJCAAAAXnOUMkIAAADTnhEzQgAAAEjKjjNCAAAAvfULNEIAAAAyIYk0QgAAAKdMBjVCAAAAHHiDNUIAAACRowA2QgAAAAbPfTZCAAAAe/r6NkIAAADwJXg3QgAAAGVR9TdC",
          "dtype": "f8"
         },
         "xaxis": "x10",
         "y": {
          "bdata": "6uX3BsESyL8IQFxCoGLFvwIxdrilKsO/3rhFadFqwb9sgSo0+lW/v5zsn4Dqtr2/lN259u9+u7+U3bn27367vzSVH6R+iLm/XFR4lgquuL+0jSxfgWy4v5DO02z1Rrm/wDlJueWnt7/spL4F1gi2v0yKjyixArW/oMND8SfBtL8wd1OQiRi1v6xvYEuM/LO/fPUEdaFjs780FIpg8xuyv9za1Zd8XbK/HK1qIjBtsb/sMg9MRdSwv+CuccJY562/SKMoby4Zr7/A7xjQzMGuvxh9sD7fRK+/wO8Y0MzBrr+geRMID9urv+Cfizher6u/AF/kKurUqr9Y7HuZ/Ferv+j3xOwmJqq/CKg3VbgTp7/Ygb8kaT+nv/hAGBf1ZKa/CKg3VbgTp7/4MTKN+iykv2hvPGSenaG/UNvbkWzRn79QvQ9+d2Gbv0BW8D+0spq/sKLgoFJbmr9AdLxTqSKfv1Db25Fs0Z+/AHuFt8hroL8wDZ0V5nOev5A7wWKPrJm/",
          "dtype": "f8"
         },
         "yaxis": "y10"
        },
        {
         "legendgroup": "acc_norm_mmlu",
         "line": {
          "color": "rgba(33, 226, 181, 1)",
          "dash": "solid",
          "width": 1.5
         },
         "mode": "lines",
         "name": "MMLU",
         "showlegend": false,
         "type": "scatter",
         "x": {
          "bdata": "AAAAQN1K70EAAADwJXj3QQAAAEDdSv9BAAAASMqOA0IAAADwJXgHQgAAAJiBYQtCAAAAQN1KD0IAAAB0HJoRQgAAAEjKjhNCAAAAHHiDFUIAAADwJXgXQgAAAMTTbBlCAAAAmIFhG0IAAABsL1YdQgAAAEDdSh9CAAAAisWfIEIAAAB0HJohQgAAAF5zlCJCAAAASMqOI0IAAAAyIYkkQgAAABx4gyVCAAAABs99JkIAAADwJXgnQgAAANp8cihCAAAAxNNsKUIAAACuKmcqQgAAAJiBYStCAAAAgthbLEIAAABsL1YtQgAAAFaGUC5CAAAAQN1KL0IAAAAVmiIwQgAAAIrFnzBCAAAA//AcMUIAAAB0HJoxQgAAAOlHFzJCAAAAXnOUMkIAAADTnhEzQgAAAEjKjjNCAAAAvfULNEIAAAAyIYk0QgAAAKdMBjVCAAAAHHiDNUIAAACRowA2QgAAAAbPfTZCAAAAe/r6NkIAAADwJXg3QgAAAGVR9TdC",
          "dtype": "f8"
         },
         "xaxis": "x10",
         "y": {
          "bdata": "YLKqS7MGnr/Qc9JyFgyZv6C94avFdJW/YAqiLhkEk79QiZZxVXCQv6BOF2WRBYy/IPPxdtjUiL/AnhA0VHiFv6Aiqv9lOIS/YEUXrvJPhL8g0JZJvJ+Cv4ArJUspiHu/wIrwlMGFdr+A2aSO7NRrv4BnmK4AfnC/ANHuEc5TYb8AzqFyFNtrv4DwHtXOnme/QOnBBdwYcL/A0z+jfU5yvwBAXWp1QnS/wP50NC1Oc78AMSzXABtqvwAaUONfqVy/AKhZIEa3Vr8AFmdGcX5dvwCm8MWLS0u/ANpIj2d2QD8AMPyARuMtPwBWqPul5Uu/AAIYssWHV78ApCJttFU1PwBSYO6iUVM/AAQjqENwOD+AQnBROLZkv4AsG9P3P2a/AMmGA2KYYL8AVNJHlQswPwBEXNa+fD6/AKhanyyKPT8AKC4IeEI7PwBLs6P5rFo/ACRTTa6MMD8A2vgN3ehSPwD6V6gFGF4/gD9BOrjqaj+AEOmim05tP4CmVRQLy24/",
          "dtype": "f8"
         },
         "yaxis": "y10"
        },
        {
         "legendgroup": "acc_norm_siqa",
         "line": {
          "color": "rgba(112, 252, 97, 1)",
          "dash": "dot",
          "width": 1.5
         },
         "mode": "lines",
         "name": "SIQA",
         "showlegend": false,
         "type": "scatter",
         "x": {
          "bdata": "AAAAQN1K70EAAADwJXj3QQAAAEDdSv9BAAAASMqOA0IAAADwJXgHQgAAAJiBYQtCAAAAQN1KD0IAAAB0HJoRQgAAAEjKjhNCAAAAHHiDFUIAAADwJXgXQgAAAMTTbBlCAAAAmIFhG0IAAABsL1YdQgAAAEDdSh9CAAAAisWfIEIAAAB0HJohQgAAAF5zlCJCAAAASMqOI0IAAAAyIYkkQgAAABx4gyVCAAAABs99JkIAAADwJXgnQgAAANp8cihCAAAAxNNsKUIAAACuKmcqQgAAAJiBYStCAAAAgthbLEIAAABsL1YtQgAAAFaGUC5CAAAAQN1KL0IAAAAVmiIwQgAAAIrFnzBCAAAA//AcMUIAAAB0HJoxQgAAAOlHFzJCAAAAXnOUMkIAAADTnhEzQgAAAEjKjjNCAAAAvfULNEIAAAAyIYk0QgAAAKdMBjVCAAAAHHiDNUIAAACRowA2QgAAAAbPfTZCAAAAe/r6NkIAAADwJXg3QgAAAGVR9TdC",
          "dtype": "f8"
         },
         "xaxis": "x10",
         "y": {
          "bdata": "AAo1wHmDQr+AjkzxX0aBPwB64XwS/ng/AHrhfBL+eD8AaPp4F10uvwAuDLMKpFm/AF71JGDvb7+AdVg9sGhpP4APJQh/5XQ/wLLcbSx0fj+AQeaL+IdzPwBIIPmYW3o/gA8lCH/ldD8AkFzLQ4I8PwBoB6QkGl+/AM/Ixd6CVz+Ac6cPcipyP4COTPFfRoE/AHrhfBL+eD+AjkzxX0aBPwCsogCMoHc/AKVok+vMcD+ArVMuyt5uPwCWzdTEDFI/AM/Ixd6CVz8AwL4dcKcaPwDAvh1wpxo/AGgHpCQaX79AGTeHQxB0vwAl+jNGeWq/AGj6eBddLr8A9hDC8C1UvwBoB6QkGl+/AF71JGDvb79AfbmONlVxv4DndQPKbXW/AITz+9YoeL+A53UDym11vwAl+jNGeWq/AAo1wHmDQr8AmFzLQ4I8PwDAvh1wpxo/AJfN1MQMUj8AwL4dcKcaPwDPyMXeglc/ALykx1UtST8AB8S2+PhcPwAKNcB5g0K/",
          "dtype": "f8"
         },
         "yaxis": "y10"
        },
        {
         "legendgroup": "acc_norm_piqa",
         "line": {
          "color": "rgba(199, 236, 54, 1)",
          "dash": "solid",
          "width": 1.5
         },
         "mode": "lines",
         "name": "PIQA",
         "showlegend": false,
         "type": "scatter",
         "x": {
          "bdata": "AAAAQN1K70EAAADwJXj3QQAAAEDdSv9BAAAASMqOA0IAAADwJXgHQgAAAJiBYQtCAAAAQN1KD0IAAAB0HJoRQgAAAEjKjhNCAAAAHHiDFUIAAADwJXgXQgAAAMTTbBlCAAAAmIFhG0IAAABsL1YdQgAAAEDdSh9CAAAAisWfIEIAAAB0HJohQgAAAF5zlCJCAAAASMqOI0IAAAAyIYkkQgAAABx4gyVCAAAABs99JkIAAADwJXgnQgAAANp8cihCAAAAxNNsKUIAAACuKmcqQgAAAJiBYStCAAAAgthbLEIAAABsL1YtQgAAAFaGUC5CAAAAQN1KL0IAAAAVmiIwQgAAAIrFnzBCAAAA//AcMUIAAAB0HJoxQgAAAOlHFzJCAAAAXnOUMkIAAADTnhEzQgAAAEjKjjNCAAAAvfULNEIAAAAyIYk0QgAAAKdMBjVCAAAAHHiDNUIAAACRowA2QgAAAAbPfTZCAAAAe/r6NkIAAADwJXg3QgAAAGVR9TdC",
          "dtype": "f8"
         },
         "xaxis": "x10",
         "y": {
          "bdata": "3I2+Uvibwb+YlpFTOBm+vwjUmyrcibu/iHjFP0Opub/Ij1fml0W3v+Cik36/L7e/4JOt9MT3tL8YuiUlFMy0v+jr5qiNbrO/6OvmqI1us79AJZtxBC2zv9DYqhBmhLO/mLIy4Baws7/ILI62AUm0v5iyMuAWsLO/oF5POnvrsr+ASxOiUwGzv6gKbJTfJrK/2ITHasq/sr/IycSGa0yxv8AdqCwHEbK/IAN5T+IKsb/AHagsBxGyv+jcAB+TNrG/IAN5T+IKsb/QdeHgz4ewv0AWtecJ9bC/2HXh4M+HsL8InFkRH1ywv8CbNSox/a2/cLZkB1YDr7+AZtdv5/Crv0DoJYvPpa2/UE9FyZJUrr+Qdb354Siuv2Cnfn1by6y/MNk/AdVtq78QGucOSUisv0DoJYvPpa2/0AJVaPSrrr+w3Nw3pdeuv5B1vfnhKK6/QOgli8+lrb+AZtdv5/Crv/Cyx9CFmau/UJiY82CTqr9gp359W8usv2Cnfn1by6y/",
          "dtype": "f8"
         },
         "yaxis": "y10"
        },
        {
         "legendgroup": "acc_norm_winogrande",
         "line": {
          "color": "rgba(247, 184, 54, 1)",
          "dash": "solid",
          "width": 1.5
         },
         "mode": "lines",
         "name": "WinoGrande",
         "showlegend": false,
         "type": "scatter",
         "x": {
          "bdata": "AAAAQN1K70EAAADwJXj3QQAAAEDdSv9BAAAASMqOA0IAAADwJXgHQgAAAJiBYQtCAAAAQN1KD0IAAAB0HJoRQgAAAEjKjhNCAAAAHHiDFUIAAADwJXgXQgAAAMTTbBlCAAAAmIFhG0IAAABsL1YdQgAAAEDdSh9CAAAAisWfIEIAAAB0HJohQgAAAF5zlCJCAAAASMqOI0IAAAAyIYkkQgAAABx4gyVCAAAABs99JkIAAADwJXgnQgAAANp8cihCAAAAxNNsKUIAAACuKmcqQgAAAJiBYStCAAAAgthbLEIAAABsL1YtQgAAAFaGUC5CAAAAQN1KL0IAAAAVmiIwQgAAAIrFnzBCAAAA//AcMUIAAAB0HJoxQgAAAOlHFzJCAAAAXnOUMkIAAADTnhEzQgAAAEjKjjNCAAAAvfULNEIAAAAyIYk0QgAAAKdMBjVCAAAAHHiDNUIAAACRowA2QgAAAAbPfTZCAAAAe/r6NkIAAADwJXg3QgAAAGVR9TdC",
          "dtype": "f8"
         },
         "xaxis": "x10",
         "y": {
          "bdata": "gMvfxJK4m7+ArROxnUiXv+BCVzwKMJO/AH90C3SMj79ACuHybzaBv4ANiHg/mXu/QHEAMTPlgb8AeETt0rF/vwDcxvTF9ny/gNSMhyUjdr+Apl7rfPGDvwCq+yFNW4e/QD8/rblCg7+AatASkgpyvwDA44itbk4/AGEvRN+HYj8ACOz9Q4Q6vwBQ7aZ5gkM/AMDtiYssMT8AwOOIrW5OP4BxCoAy3ni/gDgPjxhoc78AnaU0Cp9uv4DwTACqjXU/gPeGbUphfD8AhpCLFnVxPwCsbNJeA1e/ACuvUtayY78AIg6EIzB0P8Aee5xSv4c/wOkc4gizhT+AkwRmVxx/P4CTBGZXHH8/wB57nFK/hz/A7LkY2RyJPwBUzwed0nI/AFDtpnmCQz8AN6gtBrlqP0Ab3mWCVYQ/AH9gbXWagT+A8EwAqo11P4CMyvi2SHg/QIk3EebXiz+AvpXLL+SNP4AUKaBh/pA/gK0JYp5PkD/AZ1NuoHqXP6AANDDdy5Y/",
          "dtype": "f8"
         },
         "yaxis": "y10"
        },
        {
         "legendgroup": "acc_norm_commonsense_qa",
         "line": {
          "color": "rgba(244, 105, 24, 1)",
          "dash": "dot",
          "width": 1.5
         },
         "mode": "lines",
         "name": "CommonsenseQA",
         "showlegend": false,
         "type": "scatter",
         "x": {
          "bdata": "AAAAQN1K70EAAADwJXj3QQAAAEDdSv9BAAAASMqOA0IAAADwJXgHQgAAAJiBYQtCAAAAQN1KD0IAAAB0HJoRQgAAAEjKjhNCAAAAHHiDFUIAAADwJXgXQgAAAMTTbBlCAAAAmIFhG0IAAABsL1YdQgAAAEDdSh9CAAAAisWfIEIAAAB0HJohQgAAAF5zlCJCAAAASMqOI0IAAAAyIYkkQgAAABx4gyVCAAAABs99JkIAAADwJXgnQgAAANp8cihCAAAAxNNsKUIAAACuKmcqQgAAAJiBYStCAAAAgthbLEIAAABsL1YtQgAAAFaGUC5CAAAAQN1KL0IAAAAVmiIwQgAAAIrFnzBCAAAA//AcMUIAAAB0HJoxQgAAAOlHFzJCAAAAXnOUMkIAAADTnhEzQgAAAEjKjjNCAAAAvfULNEIAAAAyIYk0QgAAAKdMBjVCAAAAHHiDNUIAAACRowA2QgAAAAbPfTZCAAAAe/r6NkIAAADwJXg3QgAAAGVR9TdC",
          "dtype": "f8"
         },
         "xaxis": "x10",
         "y": {
          "bdata": "+PSEIdlUrr8YlhEAcAqpv3hs/JhQzKW/cF0WD1aUo7/gmiDm+QShv8AXdbj+mZ2/IEaZBajSmL/QqRsNmxeWv7D5qKQJKpm/8C4HX1M2m79Ay4RXYPGdv/AuB19TNpu/MK24Q2uBmb/wWY51LAWTv4CpRUfozIu/4HBKVs5Whr8AFAK8e+WPvyBxIByBoZC/gKlFR+jMi79An26jd4+Bv+AJKxgLqIW/4EXDP/WHjr/Ad4TDbiqNv8AJKxgLqIW/4HBKVs5Whr+A2wbLYW+Kv8AQZYWre4y/oDvsm4RKhL+AmyXhQZB5vwC44AUPjWq/AAAoPP3jOz+Axqz3Gl9xvwCO1Ee2QV+/AFbPB53SQr+AW3UqB8NwPwByCoAy3kg/ALjgBQ+Nar8A42cc6FtivwBU2Vacy1m/AHAKgDLeSD+AzeZkuzJ4v8A3o9lOS3y/gFRe/htIbb8A42cc6FtivwCO1Ee2QV+/wDej2U5LfL8AHGMNAtJnvwAAKDz94zs/",
          "dtype": "f8"
         },
         "yaxis": "y10"
        },
        {
         "legendgroup": "acc_norm_openbookqa",
         "line": {
          "color": "rgba(199, 42, 4, 1)",
          "dash": "solid",
          "width": 1.5
         },
         "mode": "lines",
         "name": "OpenbookQA",
         "showlegend": false,
         "type": "scatter",
         "x": {
          "bdata": "AAAAQN1K70EAAADwJXj3QQAAAEDdSv9BAAAASMqOA0IAAADwJXgHQgAAAJiBYQtCAAAAQN1KD0IAAAB0HJoRQgAAAEjKjhNCAAAAHHiDFUIAAADwJXgXQgAAAMTTbBlCAAAAmIFhG0IAAABsL1YdQgAAAEDdSh9CAAAAisWfIEIAAAB0HJohQgAAAF5zlCJCAAAASMqOI0IAAAAyIYkkQgAAABx4gyVCAAAABs99JkIAAADwJXgnQgAAANp8cihCAAAAxNNsKUIAAACuKmcqQgAAAJiBYStCAAAAgthbLEIAAABsL1YtQgAAAFaGUC5CAAAAQN1KL0IAAAAVmiIwQgAAAIrFnzBCAAAA//AcMUIAAAB0HJoxQgAAAOlHFzJCAAAAXnOUMkIAAADTnhEzQgAAAEjKjjNCAAAAvfULNEIAAAAyIYk0QgAAAKdMBjVCAAAAHHiDNUIAAACRowA2QgAAAAbPfTZCAAAAe/r6NkIAAADwJXg3QgAAAGVR9TdC",
          "dtype": "f8"
         },
         "xaxis": "x10",
         "y": {
          "bdata": "sCP6jLVbsL9wkEdEOfasvzBb6Ynv6aq/QO2P3otno78whnCgyLiiv7BsxhG0TJ+/gAQiheADob+QBafT8J2ev3Ceh5Ut752/oJdNKI0bl78wLZGz+QKTv2CFqX3M1I2/QOLxFx9GhL9At2oBRneMv+Aa7Qg5vIm/AF9SN3Olkb8A6SuFvxmLv8BMroyyXoi/AFALRlYyVL8AUAtGVjJUvwAgGd4XYRo/4EV0HxKLgb/ATK6Msl6Iv0C3agFGd4y/YIWpfczUjb/gRXQfEouBvwCL8uaS8W+/gBn8BF8FZb8AwgEoih5fvwC+KchEjEK/ACAZ3hdhGj+AGfwEXwVlv4Aa8lzwKXi/ACAZ3hdhGj8Aq+cq34ZzPwCs3YJwq2Y/AL4pyESMQr8AIBneF2EaP4AZ/ARfBWW/AIvy5pLxb78A6SuFvxmLv8BMroyyXoi/ABSzm5jogr8AvinIRIxCv4Dk2HOKIWw/AKzdgnCrZj+A4+Ib+fx4P0Ac3gwTc34/",
          "dtype": "f8"
         },
         "yaxis": "y10"
        },
        {
         "legendgroup": "acc_norm_arc_easy",
         "line": {
          "color": "rgba(48, 18, 59, 1)",
          "dash": "solid",
          "width": 1.5
         },
         "mode": "lines",
         "name": "ARC Easy",
         "showlegend": false,
         "type": "scatter",
         "x": {
          "bdata": "AAAAQN1K70EAAADwJXj3QQAAAEDdSv9BAAAASMqOA0IAAADwJXgHQgAAAJiBYQtCAAAAQN1KD0IAAAB0HJoRQgAAAEjKjhNCAAAAHHiDFUIAAADwJXgXQgAAAMTTbBlCAAAAmIFhG0IAAABsL1YdQgAAAEDdSh9CAAAAisWfIEIAAAB0HJohQgAAAF5zlCJCAAAASMqOI0IAAAAyIYkkQgAAABx4gyVCAAAABs99JkIAAADwJXgnQgAAANp8cihCAAAAxNNsKUIAAACuKmcqQgAAAJiBYStCAAAAgthbLEIAAABsL1YtQgAAAFaGUC5CAAAAQN1KL0IAAAAVmiIwQgAAAIrFnzBCAAAA//AcMUIAAAB0HJoxQgAAAOlHFzJCAAAAXnOUMkIAAADTnhEzQgAAAEjKjjNCAAAAvfULNEIAAAAyIYk0QgAAAKdMBjVCAAAAHHiDNUIAAACRowA2QgAAAAbPfTZCAAAAe/r6NkIAAADwJXg3QgAAAGVR9TdC",
          "dtype": "f8"
         },
         "xaxis": "x11",
         "y": {
          "bdata": "ykI1U2yiwr+Yv9dGrEu/vzC8OhDc4bu/sFF+m0jJt790KwZr+fS3v3B/6RCVubi/2B+9F88mub9gxOYsNka3v/AjEyb82La/NPansK/otb+oQpgRTpG1v6CHlS3vHbS/9MBJ9mXcs7/ERu4fe0OzvzDnwSa1sLO/5FkquKIts79ETuFkeF+0v4ggdu8rb7O/xEbuH3tDs7/oBUcSB2myv3S5VrFowLK/xEbuH3tDs7/YrQ1ePvKzv/jASfZl3LO/oIeVLe8dtL+gh5Ut7x20v5iHlS3vHbS/JCy/QlY9sr+gH4OUkgSvv7B3vEhbe62/8KwaA6WHr7/I4yTw5Eawv2j5CmRDMK+/oBCdCpjMrL9wUUQYDKetvxBsc/Uwra6/EGxz9TCtrr8oxKyp+SOtv6Afg5SSBK+/BAqdIDQbsL9QlzSPRp6wv8A3CJaAC7G/GICi6PEBs7+YeK+j9OWxv6jQ6Fe9XLC/aPkKZEMwr7/k9mCIDDGwv4i4Y1bPVa6/",
          "dtype": "f8"
         },
         "yaxis": "y11"
        },
        {
         "legendgroup": "acc_norm_arc_challenge",
         "line": {
          "color": "rgba(68, 96, 208, 1)",
          "dash": "dot",
          "width": 1.5
         },
         "mode": "lines",
         "name": "ARC Challenge",
         "showlegend": false,
         "type": "scatter",
         "x": {
          "bdata": "AAAAQN1K70EAAADwJXj3QQAAAEDdSv9BAAAASMqOA0IAAADwJXgHQgAAAJiBYQtCAAAAQN1KD0IAAAB0HJoRQgAAAEjKjhNCAAAAHHiDFUIAAADwJXgXQgAAAMTTbBlCAAAAmIFhG0IAAABsL1YdQgAAAEDdSh9CAAAAisWfIEIAAAB0HJohQgAAAF5zlCJCAAAASMqOI0IAAAAyIYkkQgAAABx4gyVCAAAABs99JkIAAADwJXgnQgAAANp8cihCAAAAxNNsKUIAAACuKmcqQgAAAJiBYStCAAAAgthbLEIAAABsL1YtQgAAAFaGUC5CAAAAQN1KL0IAAAAVmiIwQgAAAIrFnzBCAAAA//AcMUIAAAB0HJoxQgAAAOlHFzJCAAAAXnOUMkIAAADTnhEzQgAAAEjKjjNCAAAAvfULNEIAAAAyIYk0QgAAAKdMBjVCAAAAHHiDNUIAAACRowA2QgAAAAbPfTZCAAAAe/r6NkIAAADwJXg3QgAAAGVR9TdC",
          "dtype": "f8"
         },
         "xaxis": "x11",
         "y": {
          "bdata": "LEjbJ7VXpL8IiYI1KTKlv9Rx8I7Ulae/DJhovyNqp79IvuDvcj6nv/gwSYFgu6a/XCUALjbtp7+8CtFQEeemvxzwoXPs4KW/9CFj92WDpL981XKWx9qkvyxI2ye1V6S/aG5TWAQspL/cukO5otSjvyxI2ye1V6S/VAc0GkF9o7/8arYhNMKgv5DSzwyYGp6/eGuwztRrnb9M+E2QRkWhv0z4TZBGRaG/eMaMDM2ior8sSNsntVekv0Sv+mV4BqW/LEjbJ7VXpL/IUyR73yWjv+wSfW1rS6K/ZF9tzgn0ob8oOfWduh+iv/xqtiE0wqC/xEQ+8eTtoL9QVB4ogM+fv2Rfbc4J9KG/jC2sSpBRo79UBzQaQX2jvzygFNx9zqK/BHqcqy76or8c8KFz7OClv/gwSYFgu6a/zGIKBdpdpb88kS5Sg5agv5DSzwyYGp6/qDnvSlvJnr+cheX+WMihv4gexsCVGaG/dLemgtJqoL+Q0s8MmBqev3S3poLSaqC/",
          "dtype": "f8"
         },
         "yaxis": "y11"
        },
        {
         "legendgroup": "acc_norm_hellaswag",
         "line": {
          "color": "rgba(54, 167, 248, 1)",
          "dash": "solid",
          "width": 1.5
         },
         "mode": "lines",
         "name": "Hellaswag",
         "showlegend": false,
         "type": "scatter",
         "x": {
          "bdata": "AAAAQN1K70EAAADwJXj3QQAAAEDdSv9BAAAASMqOA0IAAADwJXgHQgAAAJiBYQtCAAAAQN1KD0IAAAB0HJoRQgAAAEjKjhNCAAAAHHiDFUIAAADwJXgXQgAAAMTTbBlCAAAAmIFhG0IAAABsL1YdQgAAAEDdSh9CAAAAisWfIEIAAAB0HJohQgAAAF5zlCJCAAAASMqOI0IAAAAyIYkkQgAAABx4gyVCAAAABs99JkIAAADwJXgnQgAAANp8cihCAAAAxNNsKUIAAACuKmcqQgAAAJiBYStCAAAAgthbLEIAAABsL1YtQgAAAFaGUC5CAAAAQN1KL0IAAAAVmiIwQgAAAIrFnzBCAAAA//AcMUIAAAB0HJoxQgAAAOlHFzJCAAAAXnOUMkIAAADTnhEzQgAAAEjKjjNCAAAAvfULNEIAAAAyIYk0QgAAAKdMBjVCAAAAHHiDNUIAAACRowA2QgAAAAbPfTZCAAAAe/r6NkIAAADwJXg3QgAAAGVR9TdC",
          "dtype": "f8"
         },
         "xaxis": "x11",
         "y": {
          "bdata": "FrQ2g0dwyb9+RSQAh6XHv0rLyCmcDMe/jp1dtE8cxr8g/YmtFa/Fv5qfiDtm9cS/KKmmB3rqxL+an4g7ZvXEv9Jv8j4DLMW/nvWWaBiTxL9KEvHMU3LEv8Be4S3yGsS/9i5LMY9RxL/AXuEt8hrEv2p7O5It+sO/cNFJv9+Xw7+q98HvLmzDvyBEslDNFMO/Plfu6PT+wr8CMXa4pSrDv+YdOiB+QMO/ymAMtQj0wr9aaiqBHOnCv+YdOiB+QMO/FpiV9mjZw7+mobPCfM7Dv65N0BzhCcO/XsA4rs6Gwr/uyVZ64nvCvyBEslDNFMO/PFfu6PT+wr+uTdAc4QnDv9C2GuK6kcK/mOaw3h1bwr8qRt3X4+3Bv3rTdEb2cMK/YMA4rs6Gwr/oc0hNMN7Cv17AOK7OhsK/tvnsdkVFwr+6T/uj9+LBvypG3dfj7cG/2GI3PB/Nwb/auEVp0WrBv1IFNspvE8G/EomvbG6hwb/YYjc8H83Bv4Z/kaBarMG/",
          "dtype": "f8"
         },
         "yaxis": "y11"
        },
        {
         "legendgroup": "acc_norm_mmlu",
         "line": {
          "color": "rgba(33, 226, 181, 1)",
          "dash": "solid",
          "width": 1.5
         },
         "mode": "lines",
         "name": "MMLU",
         "showlegend": false,
         "type": "scatter",
         "x": {
          "bdata": "AAAAQN1K70EAAADwJXj3QQAAAEDdSv9BAAAASMqOA0IAAADwJXgHQgAAAJiBYQtCAAAAQN1KD0IAAAB0HJoRQgAAAEjKjhNCAAAAHHiDFUIAAADwJXgXQgAAAMTTbBlCAAAAmIFhG0IAAABsL1YdQgAAAEDdSh9CAAAAisWfIEIAAAB0HJohQgAAAF5zlCJCAAAASMqOI0IAAAAyIYkkQgAAABx4gyVCAAAABs99JkIAAADwJXgnQgAAANp8cihCAAAAxNNsKUIAAACuKmcqQgAAAJiBYStCAAAAgthbLEIAAABsL1YtQgAAAFaGUC5CAAAAQN1KL0IAAAAVmiIwQgAAAIrFnzBCAAAA//AcMUIAAAB0HJoxQgAAAOlHFzJCAAAAXnOUMkIAAADTnhEzQgAAAEjKjjNCAAAAvfULNEIAAAAyIYk0QgAAAKdMBjVCAAAAHHiDNUIAAACRowA2QgAAAAbPfTZCAAAAe/r6NkIAAADwJXg3QgAAAGVR9TdC",
          "dtype": "f8"
         },
         "xaxis": "x11",
         "y": {
          "bdata": "sLUsiapVnr9w2QbxdKWdv2CtMmot1Ju/0D8l0ilTmr/gg1n7M2CZv6BtEEcC1pi/EB6a5gsrl79wNNBbNhiWv/A92YuW8ZS/UPRDvT9blb8wWfGHXs2Vv6BN3h4uaJa/EIZCufXTl78Q/P0OAImXv3CT6l1GaJa/sOgko2aolL9wcM/yvUqUv3C6Yzy+2pS/QNm1dF4wlr9w91Dj97uWv/DnY/LjtZe/IH6nTFmPl79Qfx2dSwCXv6CkxM4iw5a/gBGfUES/lr8wFvuhFm6WvxBm4+RCh5a/0NTpn2Edlr9gVNhWH6GVvzDgPKghgJS/UFL0xkhLk7/QQiJyMIOTv4B+642CiZO/cMTC48qXk78grZvEisCSv/CyovCgNZO/UFStPQ9GlL8QlZp1ngyUvxDL/eZ+OJS/MHCK+RDRkr+A+n6kz/KTv6CFeIHZ/ZK/UAA9IJlgk78wnbzKJSSTv9DvmrJmVJO/8MrkaZQNk7+gZO5MdUqSv/DMdQZyX5G/",
          "dtype": "f8"
         },
         "yaxis": "y11"
        },
        {
         "legendgroup": "acc_norm_siqa",
         "line": {
          "color": "rgba(112, 252, 97, 1)",
          "dash": "dot",
          "width": 1.5
         },
         "mode": "lines",
         "name": "SIQA",
         "showlegend": false,
         "type": "scatter",
         "x": {
          "bdata": "AAAAQN1K70EAAADwJXj3QQAAAEDdSv9BAAAASMqOA0IAAADwJXgHQgAAAJiBYQtCAAAAQN1KD0IAAAB0HJoRQgAAAEjKjhNCAAAAHHiDFUIAAADwJXgXQgAAAMTTbBlCAAAAmIFhG0IAAABsL1YdQgAAAEDdSh9CAAAAisWfIEIAAAB0HJohQgAAAF5zlCJCAAAASMqOI0IAAAAyIYkkQgAAABx4gyVCAAAABs99JkIAAADwJXgnQgAAANp8cihCAAAAxNNsKUIAAACuKmcqQgAAAJiBYStCAAAAgthbLEIAAABsL1YtQgAAAFaGUC5CAAAAQN1KL0IAAAAVmiIwQgAAAIrFnzBCAAAA//AcMUIAAAB0HJoxQgAAAOlHFzJCAAAAXnOUMkIAAADTnhEzQgAAAEjKjjNCAAAAvfULNEIAAAAyIYk0QgAAAKdMBjVCAAAAHHiDNUIAAACRowA2QgAAAAbPfTZCAAAAe/r6NkIAAADwJXg3QgAAAGVR9TdC",
          "dtype": "f8"
         },
         "xaxis": "x11",
         "y": {
          "bdata": "gNfe8iEVlr9QcL+0XmaVvyCigDjYCJS/oO5wmXaxk7+A197yIRWWv2COi8hT1pm/QMBMTM14mL+A197yIRWWvyCigDjYCJS/IKKAONgIlL8A1EG8UauSvwBtIn6O/JG/IDoqzT/Ujb8A0wqPfCWNv6A2jZZvaoq/YLkS3yylkb9A69NipkeQv0Dr02KmR5C/AAXMEvbHi79ACGlJxjGPv0BviIeJ4I+/QKFJCwODjr8gOirNP9SNv1BS86Bp9pC/IDoqzT/Ujb8gOirNP9SNv0Az8F+fAIe/ANMKj3wljb8gOirNP9SNv0ChSQsDg46/AAXMEvbHi78ABcwS9seLv0AIaUnGMY+/0J7jAQifkL9guRLfLKWRv9AFA0DLTZG/0LyvFf0Olb+A197yIRWWv6ClHW+ocpe/IDth+hRak79Ab4iHieCPv0ChSQsDg46/0AUDQMtNkb+g7nCZdrGTv1AJoHabt5S/oO5wmXaxk7/AnazUMhmLv6BoThrpDIm/",
          "dtype": "f8"
         },
         "yaxis": "y11"
        },
        {
         "legendgroup": "acc_norm_piqa",
         "line": {
          "color": "rgba(199, 236, 54, 1)",
          "dash": "solid",
          "width": 1.5
         },
         "mode": "lines",
         "name": "PIQA",
         "showlegend": false,
         "type": "scatter",
         "x": {
          "bdata": "AAAAQN1K70EAAADwJXj3QQAAAEDdSv9BAAAASMqOA0IAAADwJXgHQgAAAJiBYQtCAAAAQN1KD0IAAAB0HJoRQgAAAEjKjhNCAAAAHHiDFUIAAADwJXgXQgAAAMTTbBlCAAAAmIFhG0IAAABsL1YdQgAAAEDdSh9CAAAAisWfIEIAAAB0HJohQgAAAF5zlCJCAAAASMqOI0IAAAAyIYkkQgAAABx4gyVCAAAABs99JkIAAADwJXgnQgAAANp8cihCAAAAxNNsKUIAAACuKmcqQgAAAJiBYStCAAAAgthbLEIAAABsL1YtQgAAAFaGUC5CAAAAQN1KL0IAAAAVmiIwQgAAAIrFnzBCAAAA//AcMUIAAAB0HJoxQgAAAOlHFzJCAAAAXnOUMkIAAADTnhEzQgAAAEjKjjNCAAAAvfULNEIAAAAyIYk0QgAAAKdMBjVCAAAAHHiDNUIAAACRowA2QgAAAAbPfTZCAAAAe/r6NkIAAADwJXg3QgAAAGVR9TdC",
          "dtype": "f8"
         },
         "xaxis": "x11",
         "y": {
          "bdata": "yBDtKSOyvr+YeMU/Q6m5v2hWox0hh7e/mBX8D62str/Y55CaYLy1v2CboDnCE7a/SDSB+/5ktb8oIUVj13q1v0g0gfv+ZLW/OM1hvTu2tL9Y4J1VY6C0v7jFbng+mrO/eJ/2R+/Fs7/YhMdqyr+yv7jFbng+mrO/IGZCf3gHtL+ASxOiUwGzv8AdqCwHEbK/OGqYjaW5sb84apiNpbmxv1h91CXNo7G/2HXh4M+HsL9YfdQlzaOxv+jcAB+TNrG/eJAQvvSNsb8QnFkRH1ywv5ijTFYceLG/QBa15wn1sL/o3AAfkzaxv0jC0UFuMLC/iKNMVhx4sb+wtojuQ2Kxv5CjTFYceLG/cJAQvvSNsb94kBC+9I2xv+Aw5MQu+7G/eJAQvvSNsb+oCmyU3yayv8jJxIZrTLG/CPA8t7ogsb9IwtFBbjCwv2Ap8X8x37C/yMnEhmtMsb/IycSGa0yxv5hPabCAs7C/0HXh4M+HsL+otojuQ2Kxv2Ap8X8x37C/",
          "dtype": "f8"
         },
         "yaxis": "y11"
        },
        {
         "legendgroup": "acc_norm_winogrande",
         "line": {
          "color": "rgba(247, 184, 54, 1)",
          "dash": "solid",
          "width": 1.5
         },
         "mode": "lines",
         "name": "WinoGrande",
         "showlegend": false,
         "type": "scatter",
         "x": {
          "bdata": "AAAAQN1K70EAAADwJXj3QQAAAEDdSv9BAAAASMqOA0IAAADwJXgHQgAAAJiBYQtCAAAAQN1KD0IAAAB0HJoRQgAAAEjKjhNCAAAAHHiDFUIAAADwJXgXQgAAAMTTbBlCAAAAmIFhG0IAAABsL1YdQgAAAEDdSh9CAAAAisWfIEIAAAB0HJohQgAAAF5zlCJCAAAASMqOI0IAAAAyIYkkQgAAABx4gyVCAAAABs99JkIAAADwJXgnQgAAANp8cihCAAAAxNNsKUIAAACuKmcqQgAAAJiBYStCAAAAgthbLEIAAABsL1YtQgAAAFaGUC5CAAAAQN1KL0IAAAAVmiIwQgAAAIrFnzBCAAAA//AcMUIAAAB0HJoxQgAAAOlHFzJCAAAAXnOUMkIAAADTnhEzQgAAAEjKjjNCAAAAvfULNEIAAAAyIYk0QgAAAKdMBjVCAAAAHHiDNUIAAACRowA2QgAAAAbPfTZCAAAAe/r6NkIAAADwJXg3QgAAAGVR9TdC",
          "dtype": "f8"
         },
         "xaxis": "x11",
         "y": {
          "bdata": "gDL/AlZnnL/Yalu0AfuivxiC7VpWl6C/4M58+2Iin7+gxKVX8uSUv+DbN/5GgZK/4EJXPAowk7/gQlc8CjCTv4CtE7GdSJe/gBQz72D3l79g/aBIDFuav6B0GMCD0pG/ABhVzbDdjr9ARnkaWhaKvwCxNY/tLo6/QHg6ntO4iL8AERtgEAqIv4B719SjIoy/YCgoX+Upkr+AptlD/XSQvyDBCCEie5G/wEkWUSqAjb/g2zf+RoGSv8AUuJbgc4u/AEPc44mshr9AcQAxM+WBv0BGeRpaFoq/IFrp4l7MkL9AFLiW4HOLv0BGeRpaFoq/QK2YWB3Fir8AsTWP7S6Ov4D2Zttrh5O/gPZm22uHk78geLX2UzyVv6Cm2UP9dJC/QK2YWB3Fir/AF1XNsN2Ov8B719SjIoy/QK2YWB3Fir8AqgVxTFR+v4DbxvTF9ny/gDgPjxhoc79ACuHybzaBv0AK4fJvNoG/QN9Z3JZnib+AcQqAMt54v4A4D48YaHO/",
          "dtype": "f8"
         },
         "yaxis": "y11"
        },
        {
         "legendgroup": "acc_norm_commonsense_qa",
         "line": {
          "color": "rgba(244, 105, 24, 1)",
          "dash": "dot",
          "width": 1.5
         },
         "mode": "lines",
         "name": "CommonsenseQA",
         "showlegend": false,
         "type": "scatter",
         "x": {
          "bdata": "AAAAQN1K70EAAADwJXj3QQAAAEDdSv9BAAAASMqOA0IAAADwJXgHQgAAAJiBYQtCAAAAQN1KD0IAAAB0HJoRQgAAAEjKjhNCAAAAHHiDFUIAAADwJXgXQgAAAMTTbBlCAAAAmIFhG0IAAABsL1YdQgAAAEDdSh9CAAAAisWfIEIAAAB0HJohQgAAAF5zlCJCAAAASMqOI0IAAAAyIYkkQgAAABx4gyVCAAAABs99JkIAAADwJXgnQgAAANp8cihCAAAAxNNsKUIAAACuKmcqQgAAAJiBYStCAAAAgthbLEIAAABsL1YtQgAAAFaGUC5CAAAAQN1KL0IAAAAVmiIwQgAAAIrFnzBCAAAA//AcMUIAAAB0HJoxQgAAAOlHFzJCAAAAXnOUMkIAAADTnhEzQgAAAEjKjjNCAAAAvfULNEIAAAAyIYk0QgAAAKdMBjVCAAAAHHiDNUIAAACRowA2QgAAAAbPfTZCAAAAe/r6NkIAAADwJXg3QgAAAGVR9TdC",
          "dtype": "f8"
         },
         "xaxis": "x11",
         "y": {
          "bdata": "KLO9gYagtL9MchZ0Esazv+DRQm3YWLO/XMpPKNs8sr9QD01EfMmwvxyV8W2RMLC/OKgtBrkasL9Yu2me4ASwvxBcpF+cA6+/AIK11WlGsL/EWz2lGnKwv8RbPaUacrC/WLtpnuAEsL9Yu2me4ASwvzgb/VEoKa6/uL8mZ49IrL9AczYG8Z+svxBcpF+cA6+/IMPDnV+yr7/AzgzxiYCuv7jODPGJgK6/4I1l4xWmrb+gZ+2yxtGtv7Bn7bLG0a2/oGftssbRrb8wDBfILfGrvzD9MD4zuam/MP0wPjO5qb/w1rgN5OSpv/DlnpfeHKy/WNpVRLROrb9AczYG8Z+svwg+2Eunk6q/QGRQfPZnqr+4sEDdlBCqvzD9MD4zuam/AC/ywaxbqL/ICHqRXYeov7iwQN2UEKq/QGRQfPZnqr/gfn9ZG26rv4CKyKxFPKq/oEkhn9Fhqb/gb5nPIDapv2gjqW6Cjam/oFgHKcyZq79Y2lVEtE6tv8DODPGJgK6/",
          "dtype": "f8"
         },
         "yaxis": "y11"
        },
        {
         "legendgroup": "acc_norm_openbookqa",
         "line": {
          "color": "rgba(199, 42, 4, 1)",
          "dash": "solid",
          "width": 1.5
         },
         "mode": "lines",
         "name": "OpenbookQA",
         "showlegend": false,
         "type": "scatter",
         "x": {
          "bdata": "AAAAQN1K70EAAADwJXj3QQAAAEDdSv9BAAAASMqOA0IAAADwJXgHQgAAAJiBYQtCAAAAQN1KD0IAAAB0HJoRQgAAAEjKjhNCAAAAHHiDFUIAAADwJXgXQgAAAMTTbBlCAAAAmIFhG0IAAABsL1YdQgAAAEDdSh9CAAAAisWfIEIAAAB0HJohQgAAAF5zlCJCAAAASMqOI0IAAAAyIYkkQgAAABx4gyVCAAAABs99JkIAAADwJXgnQgAAANp8cihCAAAAxNNsKUIAAACuKmcqQgAAAJiBYStCAAAAgthbLEIAAABsL1YtQgAAAFaGUC5CAAAAQN1KL0IAAAAVmiIwQgAAAIrFnzBCAAAA//AcMUIAAAB0HJoxQgAAAOlHFzJCAAAAXnOUMkIAAADTnhEzQgAAAEjKjjNCAAAAvfULNEIAAAAyIYk0QgAAAKdMBjVCAAAAHHiDNUIAAACRowA2QgAAAAbPfTZCAAAAe/r6NkIAAADwJXg3QgAAAGVR9TdC",
          "dtype": "f8"
         },
         "xaxis": "x11",
         "y": {
          "bdata": "ArGR+8fesL881wksF7Owv5hehsC/U66/8CWLz6XdqL9YVK8cTxakv+AHv7uwbaS/ID0ddvp5pr8Ab975cxylv4Ai7pjVc6W/ENb9NzfLpb8AjaoNaYypv1ALXPKA16e/MFvpie/pqr+gp9nqjZKqv0DCCMiymKu/4Nw3pdeerL+wxaX+ggKvvwKxkfvH3rC/sMWl/oICr7/4Q1fjmk2tv5BAuqzK46m/8CWLz6XdqL8gPR12+nmmv/hu3vlzHKW/wFdMUx+Ap79gcnswRIaovxj0yUssO6q/AI2qDWmMqb/YvmuR4i6ovwCNqg1pjKm/mIkN15gipr84pDy0vSinv8BXTFMfgKe/UAtc8oDXp7/YvmuR4i6ov5iJDdeYIqa/YHJ7MESGqL9QC1zygNenv3jZmm4HNam/eNmabgc1qb9gcnswRIaov5BAuqzK46m/YHJ7MESGqL+4DvkoUUGrvwCNqg1pjKm/uA75KFFBq7+QQLqsyuOpv7gO+ShRQau/",
          "dtype": "f8"
         },
         "yaxis": "y11"
        },
        {
         "legendgroup": "acc_norm_arc_easy",
         "line": {
          "color": "rgba(48, 18, 59, 1)",
          "dash": "solid",
          "width": 1.5
         },
         "mode": "lines",
         "name": "ARC Easy",
         "showlegend": false,
         "type": "scatter",
         "x": {
          "bdata": "AAAAQN1K70EAAADwJXj3QQAAAEDdSv9BAAAASMqOA0IAAADwJXgHQgAAAJiBYQtCAAAAQN1KD0IAAAB0HJoRQgAAAEjKjhNCAAAAHHiDFUIAAADwJXgXQgAAAMTTbBlCAAAAmIFhG0IAAABsL1YdQgAAAEDdSh9CAAAAisWfIEIAAAB0HJohQgAAAF5zlCJCAAAASMqOI0IAAAAyIYkkQgAAABx4gyVCAAAABs99JkIAAADwJXgnQgAAANp8cihCAAAAxNNsKUIAAACuKmcqQgAAAJiBYStCAAAAgthbLEIAAABsL1YtQgAAAFaGUC5CAAAAQN1KL0IAAAAVmiIwQgAAAIrFnzBCAAAA//AcMUIAAAB0HJoxQgAAAOlHFzJCAAAAXnOUMkIAAADTnhEzQgAAAEjKjjNCAAAAvfULNEIAAAAyIYk0QgAAAKdMBjVCAAAAHHiDNUIAAACRowA2QgAAAAbPfTZCAAAAe/r6NkIAAADwJXg3QgAAAGVR9TdC",
          "dtype": "f8"
         },
         "xaxis": "x12",
         "y": {
          "bdata": "KuHd0o82xL8Iv7uwbRTCv/oDucwOocC/YJlfFl13v7/Q1mntAOi8v1R7kwJoB7u/2B+9F88mub/EG2cJonS7v7TDLVXZ/by/FLjkAa8vvr8I/eEdULy8v3DxmMol7r2/4JFs0V9bvr8UuOQBry++v1iKeYxiP72/JBAetnemvL+I9e7YUqC7vwTu+5NVhLq/kKELM7fbur+otEfL3sW6v5RNKI0bF7q/FEY1SB77uL9AFHTEpFi6vxi45AGvL76/1OVPd/sfv7+EWLgI6Zy+v6QIK3F6iru/EJoY7rm/ub/whtxVktW5v0TAkB4JlLm/QBR0xKRYur+kCCtxeoq7v7hvSq89Oby/UM92qAPMu7+4DIF/pzy5v9gfvRfPJrm/8IbcVZLVub+E9e7YUqC7v8jHg2MGsLq/tGBkJUMBur/4Mvmv9hC5v7C0R8vexbq/hPXu2FKgu78E7vuTVYS6v1gnsFzMQrq/pAgrcXqKu7+ASdJ+7mS8v8jHg2MGsLq/",
          "dtype": "f8"
         },
         "yaxis": "y12"
        },
        {
         "legendgroup": "acc_norm_arc_challenge",
         "line": {
          "color": "rgba(68, 96, 208, 1)",
          "dash": "dot",
          "width": 1.5
         },
         "mode": "lines",
         "name": "ARC Challenge",
         "showlegend": false,
         "type": "scatter",
         "x": {
          "bdata": "AAAAQN1K70EAAADwJXj3QQAAAEDdSv9BAAAASMqOA0IAAADwJXgHQgAAAJiBYQtCAAAAQN1KD0IAAAB0HJoRQgAAAEjKjhNCAAAAHHiDFUIAAADwJXgXQgAAAMTTbBlCAAAAmIFhG0IAAABsL1YdQgAAAEDdSh9CAAAAisWfIEIAAAB0HJohQgAAAF5zlCJCAAAASMqOI0IAAAAyIYkkQgAAABx4gyVCAAAABs99JkIAAADwJXgnQgAAANp8cihCAAAAxNNsKUIAAACuKmcqQgAAAJiBYStCAAAAgthbLEIAAABsL1YtQgAAAFaGUC5CAAAAQN1KL0IAAAAVmiIwQgAAAIrFnzBCAAAA//AcMUIAAAB0HJoxQgAAAOlHFzJCAAAAXnOUMkIAAADTnhEzQgAAAEjKjjNCAAAAvfULNEIAAAAyIYk0QgAAAKdMBjVCAAAAHHiDNUIAAACRowA2QgAAAAbPfTZCAAAAe/r6NkIAAADwJXg3QgAAAGVR9TdC",
          "dtype": "f8"
         },
         "xaxis": "x12",
         "y": {
          "bdata": "7BJ9bWtLor8EepyrLvqiv2huU1gELKS/uPvqxhavpL9oX23OCfShv7igDokeeJ+/SDZSFItfm7/oUIHxr2Wcv8hEPvHk7aC/UFQeKIDPn7+4oA6JHnifvzgYhgCW75a/qBsjN2ZZmr+4gkJ1KQibvxiG36v5cZ6/eGuwztRrnb94a7DO1GudvwgfwG02w52/6AOX43AToL847f7pvCCfvzygFNx9zqK/HPChc+zgpb9kNOa3MCWqvwyYaL8jaqe/NFfBsa+Ppr9YFhqkO7Wlv4TkWCDCEqe/NFfBsa+Ppr8c8KFz7OClvxjhu+nxqKO/LEjbJ7VXpL9oblNYBCykv2huU1gELKS/eMaMDM2ior94a7DO1Gudv4gexsCVGaG/iB7GwJUZob981XKWx9qkv6SUy4hTAKS/yFMke98lo78EepyrLvqiv0z4TZBGRaG/rN0esyE/oL94a7DO1Gudv+hQgfGvZZy/qDnvSlvJnr9U+E2QRkWhv2Rfbc4J9KG/",
          "dtype": "f8"
         },
         "yaxis": "y12"
        },
        {
         "legendgroup": "acc_norm_hellaswag",
         "line": {
          "color": "rgba(54, 167, 248, 1)",
          "dash": "solid",
          "width": 1.5
         },
         "mode": "lines",
         "name": "Hellaswag",
         "showlegend": false,
         "type": "scatter",
         "x": {
          "bdata": "AAAAQN1K70EAAADwJXj3QQAAAEDdSv9BAAAASMqOA0IAAADwJXgHQgAAAJiBYQtCAAAAQN1KD0IAAAB0HJoRQgAAAEjKjhNCAAAAHHiDFUIAAADwJXgXQgAAAMTTbBlCAAAAmIFhG0IAAABsL1YdQgAAAEDdSh9CAAAAisWfIEIAAAB0HJohQgAAAF5zlCJCAAAASMqOI0IAAAAyIYkkQgAAABx4gyVCAAAABs99JkIAAADwJXgnQgAAANp8cihCAAAAxNNsKUIAAACuKmcqQgAAAJiBYStCAAAAgthbLEIAAABsL1YtQgAAAFaGUC5CAAAAQN1KL0IAAAAVmiIwQgAAAIrFnzBCAAAA//AcMUIAAAB0HJoxQgAAAOlHFzJCAAAAXnOUMkIAAADTnhEzQgAAAEjKjjNCAAAAvfULNEIAAAAyIYk0QgAAAKdMBjVCAAAAHHiDNUIAAACRowA2QgAAAAbPfTZCAAAAe/r6NkIAAADwJXg3QgAAAGVR9TdC",
          "dtype": "f8"
         },
         "xaxis": "x12",
         "y": {
          "bdata": "0uGh+JNgyr+aETj19inKv2Drv8SnVcq/mhE49fYpyr+CVAqKgd3Jvy5xZO68vMm/or1UT1tlyb9u7epLvi7Jv6gTY3wNA8m/qBNjfA0Dyb8ATRdFhMHIv3JD+XhwzMi/4jnbrFzXyL/89ggY0iPJv3aZB6Yiasi/BqMlcjZfyL967xXT1AfIv+zl9wbBEsi/QMmdooUzyL8EoyVyNl/Iv1YwveBI4si/ckP5eHDMyL+uaXGpv6DIv1iGyw37f8i/6I/p2Q51yL+OVjURmLbIvwajJXI2X8i/sL9/1nE+yL/O0rtumSjIv87Su26ZKMi/thWOAyTcx7+WAlJr/PHHv7YVjgMk3Me/PsmdooUzyL+YAlJr/PHHv0DJnaKFM8i/fkUkAIelx7/uOwY0c7DHvyYMcDcQ58e/IrZhCl5JyL86c49105XIv7C/f9ZxPsi/rmlxqb+gyL+SrEM+SlTIvx5gU92rq8i/kFY1EZi2yL8aCkWw+Q3Jv3JD+XhwzMi/",
          "dtype": "f8"
         },
         "yaxis": "y12"
        },
        {
         "legendgroup": "acc_norm_mmlu",
         "line": {
          "color": "rgba(33, 226, 181, 1)",
          "dash": "solid",
          "width": 1.5
         },
         "mode": "lines",
         "name": "MMLU",
         "showlegend": false,
         "type": "scatter",
         "x": {
          "bdata": "AAAAQN1K70EAAADwJXj3QQAAAEDdSv9BAAAASMqOA0IAAADwJXgHQgAAAJiBYQtCAAAAQN1KD0IAAAB0HJoRQgAAAEjKjhNCAAAAHHiDFUIAAADwJXgXQgAAAMTTbBlCAAAAmIFhG0IAAABsL1YdQgAAAEDdSh9CAAAAisWfIEIAAAB0HJohQgAAAF5zlCJCAAAASMqOI0IAAAAyIYkkQgAAABx4gyVCAAAABs99JkIAAADwJXgnQgAAANp8cihCAAAAxNNsKUIAAACuKmcqQgAAAJiBYStCAAAAgthbLEIAAABsL1YtQgAAAFaGUC5CAAAAQN1KL0IAAAAVmiIwQgAAAIrFnzBCAAAA//AcMUIAAAB0HJoxQgAAAOlHFzJCAAAAXnOUMkIAAADTnhEzQgAAAEjKjjNCAAAAvfULNEIAAAAyIYk0QgAAAKdMBjVCAAAAHHiDNUIAAACRowA2QgAAAAbPfTZCAAAAe/r6NkIAAADwJXg3QgAAAGVR9TdC",
          "dtype": "f8"
         },
         "xaxis": "x12",
         "y": {
          "bdata": "gIZTmQx6n7+Qa0/TgGKfv7BZ7bEB/J2/kBvGSz1Vnr+wfmDwMjCevxBW7A76mJ2/0Jr+JgNJnb+AAhBNOpicv/CRcKiQE52/UAW50lnfm7/QU+MBP4Obv9An/nvzQJq/IFI8fkJsmr9gxZZIZPyZv1C6E/YisZu/UN3+A4Knmr8wVb0une2av5Crbz8VR5q/cGQoa3Lym7+w1wIv/libv3DS3UDRSpu/UAR6I5pomr8QPsyfNzaav3CZDqocY5m/UDDsqCJOmb/QK8DvwlCav/CCq+vE55q/sFfqD80lmr/QLnT4TqqZv3CsfKeHwZm/sAW+TFTLmb/A/ztyIX6Yv+BSpk+47pe/8B3BSI+Mlr/wfmZ3ElaYvyAq0T4sW5q/cGuEvFynm7+wZU3v3faav3CeI/Wki5m/MMO89TsBmr+wha3AzLCav5B4urikLpu/EE9H0SVdnL8gmKkG3uGbv2DhVadPzJu/wFq3+n2xmr+g6zamB0qbv5BvsgdZK5q/",
          "dtype": "f8"
         },
         "yaxis": "y12"
        },
        {
         "legendgroup": "acc_norm_siqa",
         "line": {
          "color": "rgba(112, 252, 97, 1)",
          "dash": "dot",
          "width": 1.5
         },
         "mode": "lines",
         "name": "SIQA",
         "showlegend": false,
         "type": "scatter",
         "x": {
          "bdata": "AAAAQN1K70EAAADwJXj3QQAAAEDdSv9BAAAASMqOA0IAAADwJXgHQgAAAJiBYQtCAAAAQN1KD0IAAAB0HJoRQgAAAEjKjhNCAAAAHHiDFUIAAADwJXgXQgAAAMTTbBlCAAAAmIFhG0IAAABsL1YdQgAAAEDdSh9CAAAAisWfIEIAAAB0HJohQgAAAF5zlCJCAAAASMqOI0IAAAAyIYkkQgAAABx4gyVCAAAABs99JkIAAADwJXgnQgAAANp8cihCAAAAxNNsKUIAAACuKmcqQgAAAJiBYStCAAAAgthbLEIAAABsL1YtQgAAAFaGUC5CAAAAQN1KL0IAAAAVmiIwQgAAAIrFnzBCAAAA//AcMUIAAAB0HJoxQgAAAOlHFzJCAAAAXnOUMkIAAADTnhEzQgAAAEjKjjNCAAAAvfULNEIAAAAyIYk0QgAAAKdMBjVCAAAAHHiDNUIAAACRowA2QgAAAAbPfTZCAAAAe/r6NkIAAADwJXg3QgAAAGVR9TdC",
          "dtype": "f8"
         },
         "xaxis": "x12",
         "y": {
          "bdata": "AGBne6qdnr+gDD2tayGYvyA7YfoUWpO/ANMKj3wljb/AnazUMhmLvyA7YfoUWpO/IDth+hRak7+A197yIRWWvxDyDdBGG5e/IFktDgrKl7+QXMpE2jObv5BcykTaM5u/AEKbZ7Utmr/QvK8V/Q6Vv6DucJl2sZO/IFktDgrKl7+A9aoGF4Wav9Daeynyfpm/IFktDgrKl78Q8g3QRhuXvwCpuqV43Jq/kFzKRNozm7+gw+mCneKbv9C8rxX9DpW/kIdRW7MCk7+g7nCZdrGTvxDyDdBGG5e/AIvukYNslr8gO2H6FFqTv9Ce4wEIn5C/YLkS3yylkb9QUvOgafaQvwBs61C5doy/QMzQIdxRhr8AMFMpz5aDvyA6Ks0/1I2/IKKAONgIlL8Ai+6Rg2yWv1AnbIqQJ5m/0HNc6y7QmL+A9aoGF4Wav8BVkNc5YJS/IDth+hRak79QCaB2m7eUvyBZLQ4Kype/UHC/tF5mlb/gI89TwL2VvwDUQbxRq5K/",
          "dtype": "f8"
         },
         "yaxis": "y12"
        },
        {
         "legendgroup": "acc_norm_piqa",
         "line": {
          "color": "rgba(199, 236, 54, 1)",
          "dash": "solid",
          "width": 1.5
         },
         "mode": "lines",
         "name": "PIQA",
         "showlegend": false,
         "type": "scatter",
         "x": {
          "bdata": "AAAAQN1K70EAAADwJXj3QQAAAEDdSv9BAAAASMqOA0IAAADwJXgHQgAAAJiBYQtCAAAAQN1KD0IAAAB0HJoRQgAAAEjKjhNCAAAAHHiDFUIAAADwJXgXQgAAAMTTbBlCAAAAmIFhG0IAAABsL1YdQgAAAEDdSh9CAAAAisWfIEIAAAB0HJohQgAAAF5zlCJCAAAASMqOI0IAAAAyIYkkQgAAABx4gyVCAAAABs99JkIAAADwJXgnQgAAANp8cihCAAAAxNNsKUIAAACuKmcqQgAAAJiBYStCAAAAgthbLEIAAABsL1YtQgAAAFaGUC5CAAAAQN1KL0IAAAAVmiIwQgAAAIrFnzBCAAAA//AcMUIAAAB0HJoxQgAAAOlHFzJCAAAAXnOUMkIAAADTnhEzQgAAAEjKjjNCAAAAvfULNEIAAAAyIYk0QgAAAKdMBjVCAAAAHHiDNUIAAACRowA2QgAAAAbPfTZCAAAAe/r6NkIAAADwJXg3QgAAAGVR9TdC",
          "dtype": "f8"
         },
         "xaxis": "x12",
         "y": {
          "bdata": "TOdptnqjxL/sSME2Vw/Dv/D03ZC7SsK/rBNjfA0Dwb+MACfk5RjBv3RD+XhwzMC/UISghuSmwb8wcWTuvLzBv5y7KchEjMK/TISghuSmwb+Mqhi3M3vBv4wAJ+TlGMG/sGlxqb+gwL987xXT1AfAv7S/f9ZxPsC/zHytQeeKwL+gZ0YiqcfBvywbVsEKH8K/6EjBNlcPw7/09N2Qu0rCvywbVsEKH8K/UISghuSmwb/cN7AlRv7Bv/RK7L1t6MG/bJfcHgyRwb/sj+nZDnXAvwCLSAAOS7+/sP2wkfvHvr/Q0rtumSjAv5SsQz5KVMC/eJkHpiJqwL+waXGpv6DAv3zvFdPUB8C/6CMpwkqcvr/IAQegKHq8v4CDVbsQL76/4HcMaOZgv78gYFPdq6vAvwSjJXI2X8C/iD5Yn2+iv79YxPzIhAm/vwCLSAAOS7+/dEP5eHDMwL9UML3gSOLAv/z2CBjSI8G/VDC94EjiwL8cCkWw+Q3Bv5BWNRGYtsC/",
          "dtype": "f8"
         },
         "yaxis": "y12"
        },
        {
         "legendgroup": "acc_norm_winogrande",
         "line": {
          "color": "rgba(247, 184, 54, 1)",
          "dash": "solid",
          "width": 1.5
         },
         "mode": "lines",
         "name": "WinoGrande",
         "showlegend": false,
         "type": "scatter",
         "x": {
          "bdata": "AAAAQN1K70EAAADwJXj3QQAAAEDdSv9BAAAASMqOA0IAAADwJXgHQgAAAJiBYQtCAAAAQN1KD0IAAAB0HJoRQgAAAEjKjhNCAAAAHHiDFUIAAADwJXgXQgAAAMTTbBlCAAAAmIFhG0IAAABsL1YdQgAAAEDdSh9CAAAAisWfIEIAAAB0HJohQgAAAF5zlCJCAAAASMqOI0IAAAAyIYkkQgAAABx4gyVCAAAABs99JkIAAADwJXgnQgAAANp8cihCAAAAxNNsKUIAAACuKmcqQgAAAJiBYStCAAAAgthbLEIAAABsL1YtQgAAAFaGUC5CAAAAQN1KL0IAAAAVmiIwQgAAAIrFnzBCAAAA//AcMUIAAAB0HJoxQgAAAOlHFzJCAAAAXnOUMkIAAADTnhEzQgAAAEjKjjNCAAAAvfULNEIAAAAyIYk0QgAAAKdMBjVCAAAAHHiDNUIAAACRowA2QgAAAAbPfTZCAAAAe/r6NkIAAADwJXg3QgAAAGVR9TdC",
          "dtype": "f8"
         },
         "xaxis": "x12",
         "y": {
          "bdata": "gIWKkSYBpL9gG21cAcuev2CPR52o2JK/IFrp4l7MkL/AsDWP7S6Ov8CwNY/tLo6/APPJpJsdkL/Ae9fUoyKMvwBD3OOJrIa/gA2IeD+Ze78AnJGWC61wvwBjqkPwKGm/AAAoPP3ja78AeETt0rF/vwARG2AQCoi/QBS4luBzi79AeDqe07iIv0A/P625QoO/AGOqQ/Aoab8AUO2meYJDPwC47YmLLDE/gGrQEpIKcr8A3Mb0xfZ8vwB4RO3SsX+/QArh8m82gb+AatASkgpyvwB0ceFEjVG/ABpttXCtVD+AatASkgpyv4A4D48YaHO/gDgPjxhoc7+A28b0xfZ8v8B0nWcDT4W/AKr7IU1bh7+AnJGWC61wvwAAKDz942u/gA2IeD+Ze79AeDqe07iIv4DYH2/2k4K/QArh8m82gb+ADYh4P5l7v0CjwbSsh4C/AHhE7dKxf79ACuHybzaBv0CjwbSsh4C/AKr7IU1bh7/APz+tuUKDv4AUuJbgc4u/",
          "dtype": "f8"
         },
         "yaxis": "y12"
        },
        {
         "legendgroup": "acc_norm_commonsense_qa",
         "line": {
          "color": "rgba(244, 105, 24, 1)",
          "dash": "dot",
          "width": 1.5
         },
         "mode": "lines",
         "name": "CommonsenseQA",
         "showlegend": false,
         "type": "scatter",
         "x": {
          "bdata": "AAAAQN1K70EAAADwJXj3QQAAAEDdSv9BAAAASMqOA0IAAADwJXgHQgAAAJiBYQtCAAAAQN1KD0IAAAB0HJoRQgAAAEjKjhNCAAAAHHiDFUIAAADwJXgXQgAAAMTTbBlCAAAAmIFhG0IAAABsL1YdQgAAAEDdSh9CAAAAisWfIEIAAAB0HJohQgAAAF5zlCJCAAAASMqOI0IAAAAyIYkkQgAAABx4gyVCAAAABs99JkIAAADwJXgnQgAAANp8cihCAAAAxNNsKUIAAACuKmcqQgAAAJiBYStCAAAAgthbLEIAAABsL1YtQgAAAFaGUC5CAAAAQN1KL0IAAAAVmiIwQgAAAIrFnzBCAAAA//AcMUIAAAB0HJoxQgAAAOlHFzJCAAAAXnOUMkIAAADTnhEzQgAAAEjKjjNCAAAAvfULNEIAAAAyIYk0QgAAAKdMBjVCAAAAHHiDNUIAAACRowA2QgAAAAbPfTZCAAAAe/r6NkIAAADwJXg3QgAAAGVR9TdC",
          "dtype": "f8"
         },
         "xaxis": "x12",
         "y": {
          "bdata": "KLO9gYagtL8oUPRR8KOxv+icS20Q3q+/0CZGpVL3rL8gtN0TZXqtv6BYBynMmau/GKX3iWpCq7/gb5nPIDapv6BYBynMmau/qFgHKcyZq79AczYG8Z+sv0BkUHz2Z6q/gIrIrEU8qr8YlhEAcAqpv6BJIZ/RYam/AC/ywaxbqL+Ae+IiSwSovzhGhGgB+KW/eGz8mFDMpb8QeEXsepqkv7CSdMmfoKW/gMQ1TRlDpL/A6q19aBekvxBpX2KAYqK/wOqtfWgXpL9Qnr0cym6kv6A6OxXXKae/2GCzRSb+pr9oFMPkh1WnvxiHK3Z10qa/yPmTB2NPpr+Q0xvXE3umv/C47PnudKW/mCtVi9zxpL/QQucxMY6iv3BdFg9WlKO/mBxvAeK5or9Y9vbQkuWiv4AA4xGq/Z+/+AFAJL2zob/gmiDm+QShvzg3nt4GwKO/+BAmrrfro7/A+ZMHY0+mv2AF3VqNHaW/4KkGcPQ8o7/A28fzbd+hv1jnEEeYraC/",
          "dtype": "f8"
         },
         "yaxis": "y12"
        },
        {
         "legendgroup": "acc_norm_openbookqa",
         "line": {
          "color": "rgba(199, 42, 4, 1)",
          "dash": "solid",
          "width": 1.5
         },
         "mode": "lines",
         "name": "OpenbookQA",
         "showlegend": false,
         "type": "scatter",
         "x": {
          "bdata": "AAAAQN1K70EAAADwJXj3QQAAAEDdSv9BAAAASMqOA0IAAADwJXgHQgAAAJiBYQtCAAAAQN1KD0IAAAB0HJoRQgAAAEjKjhNCAAAAHHiDFUIAAADwJXgXQgAAAMTTbBlCAAAAmIFhG0IAAABsL1YdQgAAAEDdSh9CAAAAisWfIEIAAAB0HJohQgAAAF5zlCJCAAAASMqOI0IAAAAyIYkkQgAAABx4gyVCAAAABs99JkIAAADwJXgnQgAAANp8cihCAAAAxNNsKUIAAACuKmcqQgAAAJiBYStCAAAAgthbLEIAAABsL1YtQgAAAFaGUC5CAAAAQN1KL0IAAAAVmiIwQgAAAIrFnzBCAAAA//AcMUIAAAB0HJoxQgAAAOlHFzJCAAAAXnOUMkIAAADTnhEzQgAAAEjKjjNCAAAAvfULNEIAAAAyIYk0QgAAAKdMBjVCAAAAHHiDNUIAAACRowA2QgAAAAbPfTZCAAAAe/r6NkIAAADwJXg3QgAAAGVR9TdC",
          "dtype": "f8"
         },
         "xaxis": "x12",
         "y": {
          "bdata": "8lhYR/9nsr94/YFcZoewv7Aj+oy1W7C/EKt2IV78rb+A92aC/KStv4D3ZoL8pK2/IBKWXyGrrr+A92aC/KStv4D3ZoL8pK2/EKt2IV78rb9AwgjIspirv5BAuqzK46m/2L5rkeIuqL+gp9nqjZKqv8AsxTxGsa+/Uj4patphsb8GwHeFwhazvxYYsTmLjbG/xooZy3gKsb+wxaX+ggKvvyASll8hq66/IBKWXyGrrr/QdRhnFPCrv+DcN6XXnqy/0HUYZxTwq79YKSgGdkesv/hDV+OaTa2/KHDq7VMEsL/GihnLeAqxv5hehsC/U66/YHJ7MESGqL9QC1zygNenv2ByezBEhqi/EKt2IV78rb+wxaX+ggKvv1gpKAZ2R6y/eNmabgc1qb+YiQ3XmCKmvzBb6Ynv6aq/EKt2IV78rb881wksF7Owv7Aj+oy1W7C/IBKWXyGrrr8gEpZfIauuvxCrdiFe/K2/ArGR+8fesL/GihnLeAqxv8aKGct4CrG/",
          "dtype": "f8"
         },
         "yaxis": "y12"
        }
       ],
       "layout": {
        "annotations": [
         {
          "font": {
           "size": 20
          },
          "showarrow": false,
          "text": "Instructive-Informational (HI-IN)",
          "x": 0.14444444444444446,
          "xanchor": "center",
          "xref": "paper",
          "y": 1,
          "yanchor": "bottom",
          "yref": "paper"
         },
         {
          "font": {
           "size": 20
          },
          "showarrow": false,
          "text": "Description (dtp)",
          "x": 0.5,
          "xanchor": "center",
          "xref": "paper",
          "y": 1,
          "yanchor": "bottom",
          "yref": "paper"
         },
         {
          "font": {
           "size": 20
          },
          "showarrow": false,
          "text": "How-to-Instructions (HI)",
          "x": 0.8555555555555556,
          "xanchor": "center",
          "xref": "paper",
          "y": 1,
          "yanchor": "bottom",
          "yref": "paper"
         },
         {
          "font": {
           "size": 20
          },
          "showarrow": false,
          "text": "Opinion (OP)",
          "x": 0.14444444444444446,
          "xanchor": "center",
          "xref": "paper",
          "y": 0.7375,
          "yanchor": "bottom",
          "yref": "paper"
         },
         {
          "font": {
           "size": 20
          },
          "showarrow": false,
          "text": "Informational Description (IN)",
          "x": 0.5,
          "xanchor": "center",
          "xref": "paper",
          "y": 0.7375,
          "yanchor": "bottom",
          "yref": "paper"
         },
         {
          "font": {
           "size": 20
          },
          "showarrow": false,
          "text": "Narrative (NA)",
          "x": 0.8555555555555556,
          "xanchor": "center",
          "xref": "paper",
          "y": 0.7375,
          "yanchor": "bottom",
          "yref": "paper"
         },
         {
          "font": {
           "size": 20
          },
          "showarrow": false,
          "text": "Interactive Discussion (ID)",
          "x": 0.14444444444444446,
          "xanchor": "center",
          "xref": "paper",
          "y": 0.475,
          "yanchor": "bottom",
          "yref": "paper"
         },
         {
          "font": {
           "size": 20
          },
          "showarrow": false,
          "text": "Spoken (SP)",
          "x": 0.5,
          "xanchor": "center",
          "xref": "paper",
          "y": 0.475,
          "yanchor": "bottom",
          "yref": "paper"
         },
         {
          "font": {
           "size": 20
          },
          "showarrow": false,
          "text": "Informational Persuasion (IP)",
          "x": 0.8555555555555556,
          "xanchor": "center",
          "xref": "paper",
          "y": 0.475,
          "yanchor": "bottom",
          "yref": "paper"
         },
         {
          "font": {
           "size": 20
          },
          "showarrow": false,
          "text": "News (ne)",
          "x": 0.14444444444444446,
          "xanchor": "center",
          "xref": "paper",
          "y": 0.2125,
          "yanchor": "bottom",
          "yref": "paper"
         },
         {
          "font": {
           "size": 20
          },
          "showarrow": false,
          "text": "Machine Translation (MT)",
          "x": 0.5,
          "xanchor": "center",
          "xref": "paper",
          "y": 0.2125,
          "yanchor": "bottom",
          "yref": "paper"
         },
         {
          "font": {
           "size": 20
          },
          "showarrow": false,
          "text": "Lyrical (LY)",
          "x": 0.8555555555555556,
          "xanchor": "center",
          "xref": "paper",
          "y": 0.2125,
          "yanchor": "bottom",
          "yref": "paper"
         }
        ],
        "font": {
         "family": "Computer Modern",
         "size": 16
        },
        "height": 1300,
        "legend": {
         "font": {
          "size": 20
         },
         "tracegroupgap": 15
        },
        "margin": {
         "b": 20,
         "l": 50,
         "r": 50,
         "t": 20
        },
        "showlegend": true,
        "template": {
         "data": {
          "scatter": [
           {
            "type": "scatter"
           }
          ]
         }
        },
        "title": {
         "font": {
          "size": 20
         },
         "text": ""
        },
        "width": 1000,
        "xaxis": {
         "anchor": "y",
         "domain": [
          0,
          0.2888888888888889
         ]
        },
        "xaxis10": {
         "anchor": "y10",
         "domain": [
          0,
          0.2888888888888889
         ]
        },
        "xaxis11": {
         "anchor": "y11",
         "domain": [
          0.35555555555555557,
          0.6444444444444445
         ]
        },
        "xaxis12": {
         "anchor": "y12",
         "domain": [
          0.7111111111111111,
          1
         ]
        },
        "xaxis2": {
         "anchor": "y2",
         "domain": [
          0.35555555555555557,
          0.6444444444444445
         ]
        },
        "xaxis3": {
         "anchor": "y3",
         "domain": [
          0.7111111111111111,
          1
         ]
        },
        "xaxis4": {
         "anchor": "y4",
         "domain": [
          0,
          0.2888888888888889
         ]
        },
        "xaxis5": {
         "anchor": "y5",
         "domain": [
          0.35555555555555557,
          0.6444444444444445
         ]
        },
        "xaxis6": {
         "anchor": "y6",
         "domain": [
          0.7111111111111111,
          1
         ]
        },
        "xaxis7": {
         "anchor": "y7",
         "domain": [
          0,
          0.2888888888888889
         ]
        },
        "xaxis8": {
         "anchor": "y8",
         "domain": [
          0.35555555555555557,
          0.6444444444444445
         ]
        },
        "xaxis9": {
         "anchor": "y9",
         "domain": [
          0.7111111111111111,
          1
         ]
        },
        "yaxis": {
         "anchor": "x",
         "domain": [
          0.7875,
          1
         ],
         "range": [
          -0.25,
          0.15
         ]
        },
        "yaxis10": {
         "anchor": "x10",
         "domain": [
          0,
          0.2125
         ],
         "range": [
          -0.25,
          0.15
         ]
        },
        "yaxis11": {
         "anchor": "x11",
         "domain": [
          0,
          0.2125
         ],
         "range": [
          -0.25,
          0.15
         ]
        },
        "yaxis12": {
         "anchor": "x12",
         "domain": [
          0,
          0.2125
         ],
         "range": [
          -0.25,
          0.15
         ]
        },
        "yaxis2": {
         "anchor": "x2",
         "domain": [
          0.7875,
          1
         ],
         "range": [
          -0.25,
          0.15
         ]
        },
        "yaxis3": {
         "anchor": "x3",
         "domain": [
          0.7875,
          1
         ],
         "range": [
          -0.25,
          0.15
         ]
        },
        "yaxis4": {
         "anchor": "x4",
         "domain": [
          0.525,
          0.7375
         ],
         "range": [
          -0.25,
          0.15
         ]
        },
        "yaxis5": {
         "anchor": "x5",
         "domain": [
          0.525,
          0.7375
         ],
         "range": [
          -0.25,
          0.15
         ]
        },
        "yaxis6": {
         "anchor": "x6",
         "domain": [
          0.525,
          0.7375
         ],
         "range": [
          -0.25,
          0.15
         ]
        },
        "yaxis7": {
         "anchor": "x7",
         "domain": [
          0.2625,
          0.475
         ],
         "range": [
          -0.25,
          0.15
         ]
        },
        "yaxis8": {
         "anchor": "x8",
         "domain": [
          0.2625,
          0.475
         ],
         "range": [
          -0.25,
          0.15
         ]
        },
        "yaxis9": {
         "anchor": "x9",
         "domain": [
          0.2625,
          0.475
         ],
         "range": [
          -0.25,
          0.15
         ]
        }
       }
      }
     },
     "metadata": {},
     "output_type": "display_data"
    }
   ],
   "source": [
    "\n",
    "\n",
    "\n",
    "def plot_per_register_difference_to_mean(df, figname=\"plot\"):\n",
    "    global benchmark_name_map\n",
    "    global register_name_map\n",
    "    global vanilla_registers\n",
    "    fig = make_subplots(\n",
    "        rows=4, cols=3, \n",
    "        subplot_titles=[register_name_map[v] for v in vanilla_registers],\n",
    "        vertical_spacing=0.05,  # Adjust space between subplots\n",
    "        #horizontal_spacing=0.08\n",
    "    )\n",
    "    c_map = create_colormap()\n",
    "    benchmarks = benchmark_name_map.keys()\n",
    "    # Loop over each accuracy metric and add traces to the subplots\n",
    "    for i, register in enumerate(vanilla_registers):\n",
    "        # these are for baseline presentations\n",
    "        add_baseline_rectangle=False\n",
    "        x0, y0, x1, y1 = (0,1,0,1)\n",
    "\n",
    "        col = int(i%3)+1\n",
    "        row = int(i/3) + 1   \n",
    "        label_data = df[df.register == register] \n",
    "        #print(f\"{register} on row {row} column {col}\")\n",
    "        for bm in benchmarks:\n",
    "            dash_type = \"solid\" if bm not in [\"acc_norm_arc_challenge\", \"acc_norm_siqa\", \"acc_norm_commonsense_qa\"] else \"dot\" #if register in combinations else \"solid\"\n",
    "            fig.add_trace(\n",
    "                go.Scatter(\n",
    "                    x=label_data['tokens'], \n",
    "                    y=label_data[bm]-means_per_task[bm], \n",
    "                    mode='lines', \n",
    "                    showlegend=True if row==1 and col==1 else False,\n",
    "                    name=f'{benchmark_name_map.get(bm, bm)}', \n",
    "                    legendgroup=f'{bm}',\n",
    "                    line=dict(color=c_map[bm], width=1.5, dash=dash_type)\n",
    "                ),\n",
    "                row=row, col=col\n",
    "            )\n",
    "            \n",
    "            if label_data.min(axis=0)[bm] < random_baselines[bm]: #results are worse than baseline\n",
    "                add_baseline_rectangle = True \n",
    "                x0 = label_data['tokens'].iloc[0] # these are static\n",
    "                x1 = label_data['tokens'].iloc[-1] # does not matter if they are changed multiple times :)\n",
    "                y0 = label_data.min(axis=0)[bm] if label_data.min(axis=0)[bm] < y0 else y0\n",
    "                y1 = random_baselines[bm] # this is also static\n",
    "                #print(f\"Adding baseline thingy on {label} and {accuracy_col}, {label_data.min(axis=0)[accuracy_col]} < {random_baselines[accuracy_col]}\")\n",
    "                \n",
    "\n",
    "                \n",
    "    #print(fig.layout)\n",
    "    for i in range(1, 13):\n",
    "        fig.update_layout({f'yaxis{i}': dict(range=[-0.25, 0.15])})           \n",
    "    #print(fig.layout)\n",
    "    # Update layout for better appearance\n",
    "    fig.update_layout(\n",
    "        title=\"\",#\"Accuracy Metrics by Task and Register\",\n",
    "        height=1300,  # Adjust the height of the plot\n",
    "        width=1000,\n",
    "        font=dict(family=\"Computer Modern\", size=16),\n",
    "        legend_font_size=20,\n",
    "        title_font_size=20,\n",
    "        #title_font_size=40,\n",
    "        showlegend=True,  # Show legend\n",
    "        template=\"none\",\n",
    "        legend_tracegroupgap=15,\n",
    "        margin=dict(l=50, r=50, t=20, b=20)\n",
    "    )\n",
    "    fig.update_annotations(font_size=20) #subplot titles are annotations\n",
    "    fig.write_image(f\"by_register/{figname}.svg\", scale=3)\n",
    "\n",
    "\n",
    "    # Show the plot\n",
    "    fig.show()\n",
    "\n",
    "plot_per_register_difference_to_mean(df_rolled, figname=\"per_register\")"
   ]
  },
  {
   "cell_type": "markdown",
   "metadata": {},
   "source": [
    "## Line plots side by side"
   ]
  },
  {
   "cell_type": "markdown",
   "metadata": {},
   "source": [
    "## Example for a Range plot\n",
    "\n",
    "from https://stackoverflow.com/questions/63213527/is-there-a-way-to-create-range-plot-in-python-using-plotly"
   ]
  },
  {
   "cell_type": "markdown",
   "metadata": {},
   "source": [
    "## Doing it for register data"
   ]
  },
  {
   "cell_type": "markdown",
   "metadata": {},
   "source": [
    "## Latex table:\n",
    "\n"
   ]
  },
  {
   "cell_type": "code",
   "execution_count": 36,
   "metadata": {},
   "outputs": [
    {
     "name": "stdout",
     "output_type": "stream",
     "text": [
      "                         register  step tokens  acc_norm  acc_norm_original  acc_norm_stderr\n",
      "     All Registers (full HPLT v2)  1000    2 B  0.341536           0.265107         0.030274\n",
      "     All Registers (full HPLT v2) 50000  105 B  0.457484           0.328140         0.032064\n",
      "                Description (dtp)  1000    2 B  0.347940           0.268266         0.030463\n",
      "                Description (dtp) 50000  105 B  0.452347           0.329816         0.032027\n",
      "                          FineWeb  1000    2 B  0.348450           0.269707         0.030520\n",
      "                          FineWeb 50000  105 B  0.465567           0.330767         0.031929\n",
      "                     HI-IN-HI-dtp  1000    2 B  0.354339           0.265349         0.030291\n",
      "                     HI-IN-HI-dtp 50000  105 B  0.465616           0.320815         0.031642\n",
      "                  HI-IN-HI-dtp-OP  1000    2 B  0.352104           0.267529         0.030357\n",
      "                  HI-IN-HI-dtp-OP 50000  105 B  0.475093           0.331857         0.032058\n",
      "               HI-IN-HI-dtp-OP-NA  1000    2 B  0.354445           0.264463         0.030214\n",
      "               HI-IN-HI-dtp-OP-NA 50000  105 B  0.472279           0.319987         0.031603\n",
      "            HI-IN-HI-dtp-OP-NA-ID  1000    2 B  0.348062           0.263200         0.030155\n",
      "            HI-IN-HI-dtp-OP-NA-ID 50000  105 B  0.463591           0.324652         0.031859\n",
      "         HI-IN-HI-dtp-OP-NA-ID-SP  1000    2 B  0.353098           0.268480         0.030369\n",
      "         HI-IN-HI-dtp-OP-NA-ID-SP 50000  105 B  0.464738           0.325085         0.031820\n",
      "         How-to-Instructions (HI)  1000    2 B  0.351006           0.264036         0.030214\n",
      "         How-to-Instructions (HI) 50000  105 B  0.446558           0.294467         0.030880\n",
      "   Informational Description (IN)  1000    2 B  0.344821           0.270357         0.030517\n",
      "   Informational Description (IN) 50000  105 B  0.437347           0.333771         0.032217\n",
      "    Informational Persuasion (IP)  1000    2 B  0.336226           0.261104         0.030146\n",
      "    Informational Persuasion (IP) 50000  105 B  0.393026           0.276895         0.030480\n",
      "Instructive-Informational (HI-IN)  1000    2 B  0.352893           0.266001         0.030249\n",
      "Instructive-Informational (HI-IN) 50000  105 B  0.464502           0.314607         0.031506\n",
      "      Interactive Discussion (ID)  1000    2 B  0.336598           0.264045         0.030252\n",
      "      Interactive Discussion (ID) 50000  105 B  0.430686           0.298429         0.031214\n",
      "                     Lyrical (LY)  1000    2 B  0.322654           0.261681         0.030248\n",
      "                     Lyrical (LY) 50000  105 B  0.357626           0.271479         0.030604\n",
      "         Machine Translation (MT)  1000    2 B  0.331829           0.262588         0.030269\n",
      "         Machine Translation (MT) 50000  105 B  0.374349           0.281125         0.030821\n",
      "                   Narrative (NA)  1000    2 B  0.336791           0.263844         0.030236\n",
      "                   Narrative (NA) 50000  105 B  0.441469           0.297377         0.031149\n",
      "                        News (ne)  1000    2 B  0.332720           0.257563         0.029931\n",
      "                        News (ne) 50000  105 B  0.417933           0.304612         0.031457\n",
      "                     Opinion (OP)  1000    2 B  0.343446           0.262086         0.030109\n",
      "                     Opinion (OP) 50000  105 B  0.446629           0.318284         0.031720\n",
      "                      Spoken (SP)  1000    2 B  0.340778           0.266882         0.030336\n",
      "                      Spoken (SP) 50000  105 B  0.422314           0.303859         0.031381\n"
     ]
    },
    {
     "name": "stderr",
     "output_type": "stream",
     "text": [
      "/tmp/ipykernel_193016/3739706883.py:13: SettingWithCopyWarning:\n",
      "\n",
      "\n",
      "A value is trying to be set on a copy of a slice from a DataFrame.\n",
      "Try using .loc[row_indexer,col_indexer] = value instead\n",
      "\n",
      "See the caveats in the documentation: https://pandas.pydata.org/pandas-docs/stable/user_guide/indexing.html#returning-a-view-versus-a-copy\n",
      "\n",
      "/tmp/ipykernel_193016/3739706883.py:14: SettingWithCopyWarning:\n",
      "\n",
      "\n",
      "A value is trying to be set on a copy of a slice from a DataFrame.\n",
      "Try using .loc[row_indexer,col_indexer] = value instead\n",
      "\n",
      "See the caveats in the documentation: https://pandas.pydata.org/pandas-docs/stable/user_guide/indexing.html#returning-a-view-versus-a-copy\n",
      "\n"
     ]
    }
   ],
   "source": [
    "millnames = ['',' k',' M',' B',' T']\n",
    "def millify(n):\n",
    "    n = float(n)\n",
    "    millidx = max(0,min(len(millnames)-1,\n",
    "                        int(math.floor(0 if n == 0 else math.log10(abs(n))/3))))\n",
    "\n",
    "    return '{:.0f}{}'.format(n / 10**(3 * millidx), millnames[millidx])\n",
    "\n",
    "\n",
    "df_min_max = df[(df[\"step\"] == \"1000\") | (df[\"step\"] ==\"50000\")]\n",
    "to_latex= df_min_max[[\"register\",\"step\", \"tokens\", \"acc_norm\", \"acc_norm_original\", \"acc_norm_stderr\"]]\n",
    "\n",
    "to_latex[\"register\"] = to_latex[\"register\"].map(lambda x: register_name_map.get(x,x))\n",
    "to_latex[\"tokens\"] = to_latex[\"tokens\"].map(lambda x: millify(x))\n",
    "to_latex = to_latex.sort_values([\"register\", \"step\"])\n",
    "#display(to_latex)\n",
    "#[\"register\",\"step\", \"tokens\", \"acc_norm_original\", \"stderr_norm\"]\n",
    "print(to_latex.to_string(index=False))"
   ]
  },
  {
   "cell_type": "code",
   "execution_count": null,
   "metadata": {},
   "outputs": [],
   "source": []
  }
 ],
 "metadata": {
  "kernelspec": {
   "display_name": "Python 3",
   "language": "python",
   "name": "python3"
  },
  "language_info": {
   "codemirror_mode": {
    "name": "ipython",
    "version": 3
   },
   "file_extension": ".py",
   "mimetype": "text/x-python",
   "name": "python",
   "nbconvert_exporter": "python",
   "pygments_lexer": "ipython3",
   "version": "3.10.10"
  }
 },
 "nbformat": 4,
 "nbformat_minor": 2
}
