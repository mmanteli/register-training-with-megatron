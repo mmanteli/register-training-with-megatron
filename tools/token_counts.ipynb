{
 "cells": [
  {
   "cell_type": "markdown",
   "metadata": {},
   "source": [
    "# Sampled tokens per register\n",
    "\n",
    "Using 100B token where possible, but for LY and SP this is not possible."
   ]
  },
  {
   "cell_type": "code",
   "execution_count": 1,
   "metadata": {},
   "outputs": [],
   "source": [
    "! pip -q install transformers"
   ]
  },
  {
   "cell_type": "code",
   "execution_count": 2,
   "metadata": {},
   "outputs": [],
   "source": [
    "register=\"NA\"\n",
    "path=f\"/scratch/project_462000353/HPLT-REGISTERS/samples-150B-by-register-xlmrl/tokenized/{register}/eng_Latn_text_document\""
   ]
  },
  {
   "cell_type": "code",
   "execution_count": 3,
   "metadata": {},
   "outputs": [
    {
     "name": "stderr",
     "output_type": "stream",
     "text": [
      "/users/mynttiam/.local/lib/python3.6/site-packages/tqdm/auto.py:22: TqdmWarning: IProgress not found. Please update jupyter and ipywidgets. See https://ipywidgets.readthedocs.io/en/stable/user_install.html\n",
      "  from .autonotebook import tqdm as notebook_tqdm\n",
      "None of PyTorch, TensorFlow >= 2.0, or Flax have been found. Models won't be available and only tokenizers, configuration and file/data utilities can be used.\n",
      "read .idx /scratch/project_462000353/HPLT-REGISTERS/samples-150B-by-register-xlmrl/tokenized/dtp/eng_Latn_text_document.idx:\n",
      "dtype         : uint16\n",
      "sequence_count: 218410262\n",
      "document_count: 218410263\n",
      "sequence_lengths (shape (218410262,)): [ 487 1332  132 ...  288  144 1281]\n",
      "max_sequence_length: 1093727\n",
      "total_tokens: 146 Billion, (146265058506)\n",
      "sequence_pointers (shape (218410262,)): [           0          974         3638 ... 292530113586 292530114162\n",
      " 292530114450]\n",
      "document_indices (shape (218410263,)): [        0         1         2 ... 218410260 218410261 218410262]\n"
     ]
    },
    {
     "name": "stdout",
     "output_type": "stream",
     "text": [
      "-------\n",
      "\n"
     ]
    },
    {
     "name": "stderr",
     "output_type": "stream",
     "text": [
      "read .idx /scratch/project_462000353/HPLT-REGISTERS/samples-150B-by-register-xlmrl/tokenized/HI/eng_Latn_text_document.idx:\n",
      "dtype         : uint16\n",
      "sequence_count: 137944241\n",
      "document_count: 137944242\n",
      "sequence_lengths (shape (137944241,)): [  78  172   68 ...  601  378 2091]\n",
      "max_sequence_length: 878681\n",
      "total_tokens: 94 Billion, (93928232659)\n",
      "sequence_pointers (shape (137944241,)): [           0          156          500 ... 187856459178 187856460380\n",
      " 187856461136]\n",
      "document_indices (shape (137944242,)): [        0         1         2 ... 137944239 137944240 137944241]\n"
     ]
    },
    {
     "name": "stdout",
     "output_type": "stream",
     "text": [
      "-------\n",
      "\n"
     ]
    },
    {
     "name": "stderr",
     "output_type": "stream",
     "text": [
      "read .idx /scratch/project_462000353/HPLT-REGISTERS/samples-150B-by-register-xlmrl/tokenized/HI-IN/eng_Latn_text_document.idx:\n",
      "dtype         : uint16\n",
      "sequence_count: 77487318\n",
      "document_count: 77487319\n",
      "sequence_lengths (shape (77487318,)): [2857  606  617 ...  929   84  206]\n",
      "max_sequence_length: 513164\n",
      "total_tokens: 70 Billion, (70442279339)\n",
      "sequence_pointers (shape (77487318,)): [           0         5714         6926 ... 140884556240 140884558098\n",
      " 140884558266]\n",
      "document_indices (shape (77487319,)): [       0        1        2 ... 77487316 77487317 77487318]\n"
     ]
    },
    {
     "name": "stdout",
     "output_type": "stream",
     "text": [
      "-------\n",
      "\n"
     ]
    },
    {
     "name": "stderr",
     "output_type": "stream",
     "text": [
      "read .idx /scratch/project_462000353/HPLT-REGISTERS/samples-150B-by-register-xlmrl/tokenized/ID/eng_Latn_text_document.idx:\n",
      "dtype         : uint16\n",
      "sequence_count: 204683845\n",
      "document_count: 204683846\n",
      "sequence_lengths (shape (204683845,)): [ 95 304 175 ... 377 113  82]\n",
      "max_sequence_length: 1048517\n",
      "total_tokens: 148 Billion, (147568854564)\n",
      "sequence_pointers (shape (204683845,)): [           0          190          798 ... 295137707984 295137708738\n",
      " 295137708964]\n",
      "document_indices (shape (204683846,)): [        0         1         2 ... 204683843 204683844 204683845]\n"
     ]
    },
    {
     "name": "stdout",
     "output_type": "stream",
     "text": [
      "-------\n",
      "\n"
     ]
    },
    {
     "name": "stderr",
     "output_type": "stream",
     "text": [
      "read .idx /scratch/project_462000353/HPLT-REGISTERS/samples-150B-by-register-xlmrl/tokenized/IN/eng_Latn_text_document.idx:\n",
      "dtype         : uint16\n",
      "sequence_count: 124454889\n",
      "document_count: 1\n",
      "sequence_lengths (shape (124454889,)): [1124  643  318 ...  837  105  723]\n",
      "max_sequence_length: 1485367\n",
      "total_tokens: 173 Billion, (173334106494)\n",
      "sequence_pointers (shape (124454889,)): [           0         2248         3534 ... 346668209658 346668211332\n",
      " 346668211542]\n",
      "document_indices (shape (1,)): [0]\n"
     ]
    },
    {
     "name": "stdout",
     "output_type": "stream",
     "text": [
      "-------\n",
      "\n"
     ]
    },
    {
     "name": "stderr",
     "output_type": "stream",
     "text": [
      "read .idx /scratch/project_462000353/HPLT-REGISTERS/samples-150B-by-register-xlmrl/tokenized/IP/eng_Latn_text_document.idx:\n",
      "dtype         : uint16\n",
      "sequence_count: 192408641\n",
      "document_count: 192408642\n",
      "sequence_lengths (shape (192408641,)): [3836  107   60 ...  491  405 1208]\n",
      "max_sequence_length: 673792\n",
      "total_tokens: 118 Billion, (118431432647)\n",
      "sequence_pointers (shape (192408641,)): [           0         7672         7886 ... 236862861086 236862862068\n",
      " 236862862878]\n",
      "document_indices (shape (192408642,)): [        0         1         2 ... 192408639 192408640 192408641]\n"
     ]
    },
    {
     "name": "stdout",
     "output_type": "stream",
     "text": [
      "-------\n",
      "\n"
     ]
    },
    {
     "name": "stderr",
     "output_type": "stream",
     "text": [
      "read .idx /scratch/project_462000353/HPLT-REGISTERS/samples-150B-by-register-xlmrl/tokenized/LY/eng_Latn_text_document.idx:\n",
      "dtype         : uint16\n",
      "sequence_count: 31562754\n",
      "document_count: 31562755\n",
      "sequence_lengths (shape (31562754,)): [ 423  622 1009 ...  330  462  223]\n",
      "max_sequence_length: 377988\n",
      "total_tokens: 20 Billion, (20391971961)\n",
      "sequence_pointers (shape (31562754,)): [          0         846        2090 ... 40783941892 40783942552\n",
      " 40783943476]\n",
      "document_indices (shape (31562755,)): [       0        1        2 ... 31562752 31562753 31562754]\n"
     ]
    },
    {
     "name": "stdout",
     "output_type": "stream",
     "text": [
      "-------\n",
      "\n"
     ]
    },
    {
     "name": "stderr",
     "output_type": "stream",
     "text": [
      "read .idx /scratch/project_462000353/HPLT-REGISTERS/samples-150B-by-register-xlmrl/tokenized/MT/eng_Latn_text_document.idx:\n",
      "dtype         : uint16\n",
      "sequence_count: 127586474\n",
      "document_count: 127586475\n",
      "sequence_lengths (shape (127586474,)): [ 404 1269 4296 ...  159   76  956]\n",
      "max_sequence_length: 2334793\n",
      "total_tokens: 153 Billion, (153374305682)\n",
      "sequence_pointers (shape (127586474,)): [           0          808         3346 ... 306748608982 306748609300\n",
      " 306748609452]\n",
      "document_indices (shape (127586475,)): [        0         1         2 ... 127586472 127586473 127586474]\n"
     ]
    },
    {
     "name": "stdout",
     "output_type": "stream",
     "text": [
      "-------\n",
      "\n"
     ]
    },
    {
     "name": "stderr",
     "output_type": "stream",
     "text": [
      "read .idx /scratch/project_462000353/HPLT-REGISTERS/samples-150B-by-register-xlmrl/tokenized/NA/eng_Latn_text_document.idx:\n",
      "dtype         : uint16\n",
      "sequence_count: 178211448\n",
      "document_count: 178211449\n",
      "sequence_lengths (shape (178211448,)): [ 110  197  632 ... 2050  232  399]\n",
      "max_sequence_length: 1151683\n",
      "total_tokens: 156 Billion, (156249748056)\n",
      "sequence_pointers (shape (178211448,)): [           0          220          614 ... 312499490750 312499494850\n",
      " 312499495314]\n",
      "document_indices (shape (178211449,)): [        0         1         2 ... 178211446 178211447 178211448]\n"
     ]
    },
    {
     "name": "stdout",
     "output_type": "stream",
     "text": [
      "-------\n",
      "\n"
     ]
    },
    {
     "name": "stderr",
     "output_type": "stream",
     "text": [
      "read .idx /scratch/project_462000353/HPLT-REGISTERS/samples-150B-by-register-xlmrl/tokenized/ne/eng_Latn_text_document.idx:\n",
      "dtype         : uint16\n",
      "sequence_count: 156915368\n",
      "document_count: 156915369\n",
      "sequence_lengths (shape (156915368,)): [308 904 729 ...  62  48 169]\n",
      "max_sequence_length: 944721\n",
      "total_tokens: 101 Billion, (100967208426)\n",
      "sequence_pointers (shape (156915368,)): [           0          616         2424 ... 201934416294 201934416418\n",
      " 201934416514]\n",
      "document_indices (shape (156915369,)): [        0         1         2 ... 156915366 156915367 156915368]\n"
     ]
    },
    {
     "name": "stdout",
     "output_type": "stream",
     "text": [
      "-------\n",
      "\n"
     ]
    },
    {
     "name": "stderr",
     "output_type": "stream",
     "text": [
      "read .idx /scratch/project_462000353/HPLT-REGISTERS/samples-150B-by-register-xlmrl/tokenized/OP/eng_Latn_text_document.idx:\n",
      "dtype         : uint16\n",
      "sequence_count: 123575238\n",
      "document_count: 123575239\n",
      "sequence_lengths (shape (123575238,)): [1513  500  538 ...  346 2094  178]\n",
      "max_sequence_length: 2912954\n",
      "total_tokens: 133 Billion, (133359598659)\n",
      "sequence_pointers (shape (123575238,)): [           0         3026         4026 ... 266719192082 266719192774\n",
      " 266719196962]\n",
      "document_indices (shape (123575239,)): [        0         1         2 ... 123575236 123575237 123575238]\n"
     ]
    },
    {
     "name": "stdout",
     "output_type": "stream",
     "text": [
      "-------\n",
      "\n",
      "-------\n",
      "\n"
     ]
    },
    {
     "name": "stderr",
     "output_type": "stream",
     "text": [
      "read .idx /scratch/project_462000353/HPLT-REGISTERS/samples-150B-by-register-xlmrl/tokenized/SP/eng_Latn_text_document.idx:\n",
      "dtype         : uint16\n",
      "sequence_count: 17571121\n",
      "document_count: 17571122\n",
      "sequence_lengths (shape (17571121,)): [ 832  550  361 ... 1542 1565  519]\n",
      "max_sequence_length: 672191\n",
      "total_tokens: 32 Billion, (32391162239)\n",
      "sequence_pointers (shape (17571121,)): [          0        1664        2764 ... 64782317226 64782320310\n",
      " 64782323440]\n",
      "document_indices (shape (17571122,)): [       0        1        2 ... 17571119 17571120 17571121]\n"
     ]
    }
   ],
   "source": [
    "import decode_bin\n",
    "\n",
    "for register in [\"dtp\", \"HI\", \"HI-IN\",\"ID\", \"IN\", \"IP\", \"LY\",\"MT\", \"NA\", \"ne\", \"OP\", \"SP\"]:\n",
    "    path=f\"/scratch/project_462000353/HPLT-REGISTERS/samples-150B-by-register-xlmrl/tokenized/{register}/eng_Latn_text_document\"\n",
    "    params =[\"decode_bin.py\", path, \"gpt2\", \"--start=0\", \"--stop=0\"]\n",
    "    decode_bin.main(params)\n",
    "    print(\"-------\\n\")"
   ]
  },
  {
   "cell_type": "code",
   "execution_count": null,
   "metadata": {},
   "outputs": [],
   "source": []
  }
 ],
 "metadata": {
  "kernelspec": {
   "display_name": "Python 3",
   "language": "python",
   "name": "python3"
  },
  "language_info": {
   "codemirror_mode": {
    "name": "ipython",
    "version": 3
   },
   "file_extension": ".py",
   "mimetype": "text/x-python",
   "name": "python",
   "nbconvert_exporter": "python",
   "pygments_lexer": "ipython3",
   "version": "3.6.15"
  }
 },
 "nbformat": 4,
 "nbformat_minor": 2
}
