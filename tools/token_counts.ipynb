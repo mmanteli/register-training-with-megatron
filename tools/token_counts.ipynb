{
 "cells": [
  {
   "cell_type": "markdown",
   "metadata": {},
   "source": [
    "# Sampled tokens per register\n",
    "\n",
    "Using 100B token where possible, but for LY and SP this is not possible."
   ]
  },
  {
   "cell_type": "code",
   "execution_count": 5,
   "metadata": {},
   "outputs": [],
   "source": [
    "! pip -q install transformers"
   ]
  },
  {
   "cell_type": "code",
   "execution_count": 6,
   "metadata": {},
   "outputs": [],
   "source": [
    "register=\"IN\"\n",
    "path=f\"/scratch/project_462000353/HPLT-REGISTERS/samples-150B-by-register-xlmrl/tokenized/{register}/eng_Latn_text_document\""
   ]
  },
  {
   "cell_type": "code",
   "execution_count": 7,
   "metadata": {},
   "outputs": [
    {
     "name": "stdout",
     "output_type": "stream",
     "text": [
      "Namespace(path='/scratch/project_462000353/HPLT-REGISTERS/samples-150B-by-register-xlmrl/tokenized/IN/eng_Latn_text_document', start=0, step=1, stop=None, tokenizer='gpt2')\n"
     ]
    },
    {
     "name": "stderr",
     "output_type": "stream",
     "text": [
      "read .idx /scratch/project_462000353/HPLT-REGISTERS/samples-150B-by-register-xlmrl/tokenized/IN/eng_Latn_text_document.idx:\n",
      "dtype         : uint16\n",
      "sequence_count: 124376268\n",
      "document_count: 124376269\n",
      "sequence_lengths (shape (124376268,)): [1124  643  318 ...  837  105  723]\n",
      "total_sequences: 100 Billion\n",
      "sequence_pointers (shape (124376268,)): [           0         2248         3534 ... 200649553548 200649555222\n",
      " 200649555432]\n",
      "document_indices (shape (124376269,)): [        0         1         2 ... 124376266 124376267 124376268]\n"
     ]
    }
   ],
   "source": [
    "import decode_bin\n",
    "\n",
    "params =[\"decode_bin.py\", f\"{path}\", \"gpt2\"]\n",
    "decode_bin.main(params)"
   ]
  },
  {
   "cell_type": "code",
   "execution_count": null,
   "metadata": {},
   "outputs": [],
   "source": []
  }
 ],
 "metadata": {
  "kernelspec": {
   "display_name": "Python 3",
   "language": "python",
   "name": "python3"
  },
  "language_info": {
   "codemirror_mode": {
    "name": "ipython",
    "version": 3
   },
   "file_extension": ".py",
   "mimetype": "text/x-python",
   "name": "python",
   "nbconvert_exporter": "python",
   "pygments_lexer": "ipython3",
   "version": "3.6.15"
  }
 },
 "nbformat": 4,
 "nbformat_minor": 2
}
