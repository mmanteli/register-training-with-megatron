{
 "cells": [
  {
   "cell_type": "code",
   "execution_count": 33,
   "id": "a248eb76",
   "metadata": {},
   "outputs": [],
   "source": [
    "import pandas as pd\n",
    "import numpy as np\n",
    "import os\n",
    "import ast\n",
    "import glob\n",
    "import re"
   ]
  },
  {
   "cell_type": "code",
   "execution_count": 34,
   "id": "064a163b",
   "metadata": {},
   "outputs": [
    {
     "name": "stdout",
     "output_type": "stream",
     "text": [
      "781\n",
      "{'HI': 0.12804097311139565, 'ID': 0.4020486555697823, 'IN': 0.8898847631241997, 'IP': 0.5390524967989757, 'LY': 0.02560819462227913, 'MT': 0.39180537772087065, 'NA': 0.6978233034571063, 'OP': 0.5326504481434059, 'SP': 0.040973111395646605, 'HI-IN': 0.08962868117797695, 'dtp': 1.0, 'ne': 0.5172855313700384}\n"
     ]
    }
   ],
   "source": [
    "classifier = \"dclm\" # \"dclm\" \"nvidia\" \"edu\"\n",
    "\n",
    "register_name_map = {'HI-IN_HI_dtp_OP': \"HI-IN-HI-dtp-OP\",\n",
    "                     'HI-IN_HI_dtp_NA_OP': \"HI-IN-HI-dtp-OP-NA\",\n",
    "                     'HI-IN_HI_dtp': \"HI-IN-HI-dtp\",\n",
    "                     'HI-IN_HI_dtp_NA_OP_ID':\"HI-IN-HI-dtp-OP-NA-ID\",\n",
    "                     'HI-IN_HI_dtp_NA_OP_ID_SP': \"HI-IN-HI-dtp-OP-NA-ID-SP\",\n",
    "                     'hplt-v2-dedup': \"All Registers (full HPLT v2)\",#\"HPLT v2\",\n",
    "                     'fineweb': \"FineWeb\",\n",
    "                     'HI-IN': \"Instructive-Informational (HI-IN)\",\n",
    "                     'HI': \"How-to-Instructions (HI)\",\n",
    "                     'ID': \"Interactive Discussion (ID)\",\n",
    "                     'IN': \"Informational Description (IN)\",\n",
    "                     \"IP\": \"Informational Persuasion (IP)\",\n",
    "                     \"LY\": \"Lyrical (LY)\",\n",
    "                     \"MT\": \"Machine Translation (MT)\",\n",
    "                     \"NA\": \"Narrative (NA)\",\n",
    "                     \"OP\": \"Opinion (OP)\",\n",
    "                     \"SP\": \"Spoken (SP)\",\n",
    "                     \"ne\": \"News (ne)\",\n",
    "                     \"dtp\": \"Description (dtp)\"}\n",
    "\n",
    "# number of billions of tokens available\n",
    "register_frequencies = {\"HI\": 100,\n",
    "                        \"ID\": 314,\n",
    "                        \"IN\": 695,\n",
    "                        \"IP\": 421,\n",
    "                        \"LY\": 20,\n",
    "                        \"MT\": 306,\n",
    "                        \"NA\": 545,\n",
    "                        \"OP\": 416,\n",
    "                        \"SP\": 32,\n",
    "                        \"HI-IN\": 70,\n",
    "                        \"dtp\": 781,\n",
    "                        \"ne\":404}\n",
    "max_value = np.max([i for i in register_frequencies.values()])\n",
    "print(max_value)\n",
    "register_multipliers = {k: float(v)/max_value for k,v in register_frequencies.items()}\n",
    "print(register_multipliers)"
   ]
  },
  {
   "cell_type": "code",
   "execution_count": 35,
   "id": "a6e8f22f",
   "metadata": {},
   "outputs": [
    {
     "name": "stdout",
     "output_type": "stream",
     "text": [
      "reading MT_with_edu_and_dclm.jsonl\n",
      "reading NA_with_edu_and_dclm.jsonl\n",
      "reading OP_with_edu_and_dclm.jsonl\n",
      "reading HI_with_edu_and_dclm.jsonl\n",
      "reading IP_with_edu_and_dclm.jsonl\n",
      "reading LY_with_edu_and_dclm.jsonl\n",
      "reading ID_with_edu_and_dclm.jsonl\n",
      "reading HI-IN_with_edu_and_dclm.jsonl\n",
      "reading dtp_with_edu_and_dclm.jsonl\n",
      "reading ne_with_edu_and_dclm.jsonl\n",
      "reading IN_with_edu_and_dclm.jsonl\n",
      "reading SP_with_edu_and_dclm.jsonl\n"
     ]
    }
   ],
   "source": [
    "datas = []\n",
    "\n",
    "labels_all_hierarchy_with_other = {\n",
    "    \"MT\": [\"MT\"],\n",
    "    \"LY\": [\"LY\"],\n",
    "    \"SP\": [\"SP\", \"it\", \"os\"],\n",
    "    \"ID\": [\"ID\"],\n",
    "    \"NA\": [\"NA\", \"ne\", \"sr\", \"nb\", \"on\"],\n",
    "    \"HI\": [\"HI\", \"re\", \"oh\"],\n",
    "    \"IN\": [\"IN\", \"en\", \"ra\", \"dtp\", \"fi\", \"lt\", \"oi\"],\n",
    "    \"OP\": [\"OP\", \"rv\", \"ob\", \"rs\", \"av\", \"oo\"],\n",
    "    \"IP\": [\"IP\", \"ds\", \"ed\", \"oe\"],\n",
    "}\n",
    "\n",
    "final_scores = {\"MT\": 0.374349,\n",
    "    \"LY\": 0.357626,\n",
    "    \"SP\": 0.422314,\n",
    "    \"ID\": 0.430686,\n",
    "    \"NA\": 0.441469,\n",
    "    \"HI\": 0.446558,\n",
    "    \"IN\": 0.437347,\n",
    "    \"OP\":  0.446629,\n",
    "    \"IP\": 0.393026,\n",
    "    \"HI-IN\":0.464502,\n",
    "    \"ne\": 0.417933,\n",
    "    \"dtp\": 0.452347,\n",
    "    }\n",
    "\n",
    "with os.scandir(f\"comparison-with-{classifier}/result\") as f:\n",
    "    for file in f:\n",
    "        filename = file.name\n",
    "        reg = filename.split(\"_\")[0]\n",
    "        print(f\"reading {filename}\")\n",
    "        with open(f\"comparison-with-{classifier}/result/\"+filename) as f:\n",
    "            try:\n",
    "                data = [ast.literal_eval(line) for line in f]\n",
    "            except:\n",
    "                data = []\n",
    "                for line in f:\n",
    "                    line = re.sub(r\"tensor\\((\\[.*?\\])(?:, device='.*?')?\\)\", r\"\\1\", line)\n",
    "                    try:\n",
    "                        data.append(ast.literal_eval(line))\n",
    "                    except:\n",
    "                        print(\"error:\", line)\n",
    "        df_ = pd.DataFrame(data)\n",
    "        df_ = df_.drop(columns=\"text\")\n",
    "        df_[\"parsed_register\"] = df_[\"register\"].map(lambda reg: [r for r in reg if r in list(labels_all_hierarchy_with_other.keys())+[\"ne\", \"dtp\"]])\n",
    "        df_[\"parsed_register\"] = df_[\"parsed_register\"].map(lambda reg: \"-\".join(reg))\n",
    "        df_[\"parsed_register\"] = df_[\"parsed_register\"].map(lambda reg: {\"NA-ne\":\"ne\", \"ne-NA\": \"ne\", \"IN-dtp\":\"dtp\", \"dtp-IN\":\"dtp\", \"IN-HI\":\"HI-IN\"}.get(reg, reg))\n",
    "        df_[\"final_score\"] = df_[\"parsed_register\"].map(lambda reg: final_scores[reg])\n",
    "        if classifier == \"nvidia\":\n",
    "            pred_name = \"predicted_class\"\n",
    "            df_[\"predicted_class\"] = df_[pred_name].map(lambda x: int(x[0]))\n",
    "        elif classifier == \"edu\":\n",
    "            pred_name = \"int_score\"\n",
    "            df_[\"predicted_class\"] = df_[pred_name].map(lambda x: int(x))\n",
    "        else:\n",
    "            pred_name = \"dclm-label\"\n",
    "            df_[\"predicted_class\"] = df_[pred_name].map(lambda sc: {\"__label__cc\": 0, \"__label__hq\": 1}[sc])\n",
    "\n",
    "        dropIndices = np.random.choice(df_[\"parsed_register\"].index.tolist(), size = int(df_.shape[0]*(1.0-register_multipliers[reg])))\n",
    "        df_.drop(dropIndices, inplace=True)\n",
    "        datas.append(df_)\n",
    "\n",
    "\n",
    "\n",
    "df = pd.concat(datas)\n",
    "df[\"parsed_register\"] = df[\"parsed_register\"].map(lambda x: register_name_map[x])\n",
    "#df.shuffle(inplace=True)\n",
    "#df.to_csv(\"analysed_sample\")"
   ]
  },
  {
   "cell_type": "code",
   "execution_count": 36,
   "id": "8476df4f",
   "metadata": {},
   "outputs": [
    {
     "data": {
      "text/html": [
       "<div>\n",
       "<style scoped>\n",
       "    .dataframe tbody tr th:only-of-type {\n",
       "        vertical-align: middle;\n",
       "    }\n",
       "\n",
       "    .dataframe tbody tr th {\n",
       "        vertical-align: top;\n",
       "    }\n",
       "\n",
       "    .dataframe thead th {\n",
       "        text-align: right;\n",
       "    }\n",
       "</style>\n",
       "<table border=\"1\" class=\"dataframe\">\n",
       "  <thead>\n",
       "    <tr style=\"text-align: right;\">\n",
       "      <th></th>\n",
       "      <th>id</th>\n",
       "      <th>register</th>\n",
       "      <th>score</th>\n",
       "      <th>int_score</th>\n",
       "      <th>dclm-label</th>\n",
       "      <th>dclm-prob</th>\n",
       "      <th>parsed_register</th>\n",
       "      <th>final_score</th>\n",
       "      <th>predicted_class</th>\n",
       "    </tr>\n",
       "  </thead>\n",
       "  <tbody>\n",
       "    <tr>\n",
       "      <th>0</th>\n",
       "      <td>aa6e226e50524b13656a48cca50ef88b</td>\n",
       "      <td>[MT]</td>\n",
       "      <td>0.226472</td>\n",
       "      <td>0</td>\n",
       "      <td>__label__cc</td>\n",
       "      <td>0.999351</td>\n",
       "      <td>Machine Translation (MT)</td>\n",
       "      <td>0.374349</td>\n",
       "      <td>0</td>\n",
       "    </tr>\n",
       "    <tr>\n",
       "      <th>1</th>\n",
       "      <td>48ea34d9aa0ce1a6ac031ee3ee950eda</td>\n",
       "      <td>[MT]</td>\n",
       "      <td>0.365965</td>\n",
       "      <td>0</td>\n",
       "      <td>__label__cc</td>\n",
       "      <td>0.999481</td>\n",
       "      <td>Machine Translation (MT)</td>\n",
       "      <td>0.374349</td>\n",
       "      <td>0</td>\n",
       "    </tr>\n",
       "    <tr>\n",
       "      <th>3</th>\n",
       "      <td>820661e03daf8d1268772cd7a0c84856</td>\n",
       "      <td>[MT]</td>\n",
       "      <td>-0.114357</td>\n",
       "      <td>0</td>\n",
       "      <td>__label__cc</td>\n",
       "      <td>0.997457</td>\n",
       "      <td>Machine Translation (MT)</td>\n",
       "      <td>0.374349</td>\n",
       "      <td>0</td>\n",
       "    </tr>\n",
       "    <tr>\n",
       "      <th>7</th>\n",
       "      <td>eeede6967fa76fe14b7256e356ce9987</td>\n",
       "      <td>[MT]</td>\n",
       "      <td>0.405946</td>\n",
       "      <td>0</td>\n",
       "      <td>__label__cc</td>\n",
       "      <td>0.999985</td>\n",
       "      <td>Machine Translation (MT)</td>\n",
       "      <td>0.374349</td>\n",
       "      <td>0</td>\n",
       "    </tr>\n",
       "    <tr>\n",
       "      <th>10</th>\n",
       "      <td>76c02530f8d8b820c0a78c04d162f543</td>\n",
       "      <td>[MT]</td>\n",
       "      <td>-0.157198</td>\n",
       "      <td>0</td>\n",
       "      <td>__label__cc</td>\n",
       "      <td>0.995654</td>\n",
       "      <td>Machine Translation (MT)</td>\n",
       "      <td>0.374349</td>\n",
       "      <td>0</td>\n",
       "    </tr>\n",
       "    <tr>\n",
       "      <th>...</th>\n",
       "      <td>...</td>\n",
       "      <td>...</td>\n",
       "      <td>...</td>\n",
       "      <td>...</td>\n",
       "      <td>...</td>\n",
       "      <td>...</td>\n",
       "      <td>...</td>\n",
       "      <td>...</td>\n",
       "      <td>...</td>\n",
       "    </tr>\n",
       "    <tr>\n",
       "      <th>9981</th>\n",
       "      <td>1f784ce1adf91ed89a340f8a53465e3b</td>\n",
       "      <td>[SP, it]</td>\n",
       "      <td>0.684884</td>\n",
       "      <td>1</td>\n",
       "      <td>__label__cc</td>\n",
       "      <td>0.994901</td>\n",
       "      <td>Spoken (SP)</td>\n",
       "      <td>0.422314</td>\n",
       "      <td>0</td>\n",
       "    </tr>\n",
       "    <tr>\n",
       "      <th>9982</th>\n",
       "      <td>2255339f8dd8c02a30a5fc76757bbd14</td>\n",
       "      <td>[SP, it]</td>\n",
       "      <td>1.215477</td>\n",
       "      <td>1</td>\n",
       "      <td>__label__cc</td>\n",
       "      <td>0.992300</td>\n",
       "      <td>Spoken (SP)</td>\n",
       "      <td>0.422314</td>\n",
       "      <td>0</td>\n",
       "    </tr>\n",
       "    <tr>\n",
       "      <th>9992</th>\n",
       "      <td>018dfe3ebb37c9ba098fdb4e1ab6cba2</td>\n",
       "      <td>[it, SP]</td>\n",
       "      <td>1.897866</td>\n",
       "      <td>2</td>\n",
       "      <td>__label__cc</td>\n",
       "      <td>0.919173</td>\n",
       "      <td>Spoken (SP)</td>\n",
       "      <td>0.422314</td>\n",
       "      <td>0</td>\n",
       "    </tr>\n",
       "    <tr>\n",
       "      <th>9997</th>\n",
       "      <td>12b07b501cef77656fa8df40c38223eb</td>\n",
       "      <td>[it, SP]</td>\n",
       "      <td>0.671556</td>\n",
       "      <td>1</td>\n",
       "      <td>__label__cc</td>\n",
       "      <td>0.931684</td>\n",
       "      <td>Spoken (SP)</td>\n",
       "      <td>0.422314</td>\n",
       "      <td>0</td>\n",
       "    </tr>\n",
       "    <tr>\n",
       "      <th>9999</th>\n",
       "      <td>af18ad5c7c76683eaabe2cf986627229</td>\n",
       "      <td>[it, SP]</td>\n",
       "      <td>1.301630</td>\n",
       "      <td>1</td>\n",
       "      <td>__label__cc</td>\n",
       "      <td>0.964634</td>\n",
       "      <td>Spoken (SP)</td>\n",
       "      <td>0.422314</td>\n",
       "      <td>0</td>\n",
       "    </tr>\n",
       "  </tbody>\n",
       "</table>\n",
       "<p>71886 rows × 9 columns</p>\n",
       "</div>"
      ],
      "text/plain": [
       "                                    id  register     score  int_score  \\\n",
       "0     aa6e226e50524b13656a48cca50ef88b      [MT]  0.226472          0   \n",
       "1     48ea34d9aa0ce1a6ac031ee3ee950eda      [MT]  0.365965          0   \n",
       "3     820661e03daf8d1268772cd7a0c84856      [MT] -0.114357          0   \n",
       "7     eeede6967fa76fe14b7256e356ce9987      [MT]  0.405946          0   \n",
       "10    76c02530f8d8b820c0a78c04d162f543      [MT] -0.157198          0   \n",
       "...                                ...       ...       ...        ...   \n",
       "9981  1f784ce1adf91ed89a340f8a53465e3b  [SP, it]  0.684884          1   \n",
       "9982  2255339f8dd8c02a30a5fc76757bbd14  [SP, it]  1.215477          1   \n",
       "9992  018dfe3ebb37c9ba098fdb4e1ab6cba2  [it, SP]  1.897866          2   \n",
       "9997  12b07b501cef77656fa8df40c38223eb  [it, SP]  0.671556          1   \n",
       "9999  af18ad5c7c76683eaabe2cf986627229  [it, SP]  1.301630          1   \n",
       "\n",
       "       dclm-label  dclm-prob           parsed_register  final_score  \\\n",
       "0     __label__cc   0.999351  Machine Translation (MT)     0.374349   \n",
       "1     __label__cc   0.999481  Machine Translation (MT)     0.374349   \n",
       "3     __label__cc   0.997457  Machine Translation (MT)     0.374349   \n",
       "7     __label__cc   0.999985  Machine Translation (MT)     0.374349   \n",
       "10    __label__cc   0.995654  Machine Translation (MT)     0.374349   \n",
       "...           ...        ...                       ...          ...   \n",
       "9981  __label__cc   0.994901               Spoken (SP)     0.422314   \n",
       "9982  __label__cc   0.992300               Spoken (SP)     0.422314   \n",
       "9992  __label__cc   0.919173               Spoken (SP)     0.422314   \n",
       "9997  __label__cc   0.931684               Spoken (SP)     0.422314   \n",
       "9999  __label__cc   0.964634               Spoken (SP)     0.422314   \n",
       "\n",
       "      predicted_class  \n",
       "0                   0  \n",
       "1                   0  \n",
       "3                   0  \n",
       "7                   0  \n",
       "10                  0  \n",
       "...               ...  \n",
       "9981                0  \n",
       "9982                0  \n",
       "9992                0  \n",
       "9997                0  \n",
       "9999                0  \n",
       "\n",
       "[71886 rows x 9 columns]"
      ]
     },
     "metadata": {},
     "output_type": "display_data"
    },
    {
     "name": "stdout",
     "output_type": "stream",
     "text": [
      "(array(['Description (dtp)', 'How-to-Instructions (HI)',\n",
      "       'Informational Description (IN)', 'Informational Persuasion (IP)',\n",
      "       'Instructive-Informational (HI-IN)', 'Interactive Discussion (ID)',\n",
      "       'Lyrical (LY)', 'Machine Translation (MT)', 'Narrative (NA)',\n",
      "       'News (ne)', 'Opinion (OP)', 'Spoken (SP)'], dtype='<U33'), array([10000,  4202,  8957,  6353,  4000,  5479,  3775,  5452,  7385,\n",
      "        6173,  6257,  3853]))\n"
     ]
    }
   ],
   "source": [
    "display(df)\n",
    "print(np.unique(df[\"parsed_register\"].tolist(), return_counts=True))"
   ]
  },
  {
   "cell_type": "code",
   "execution_count": 37,
   "id": "e53622c0",
   "metadata": {},
   "outputs": [
    {
     "name": "stdout",
     "output_type": "stream",
     "text": [
      "regs:  ['Description (dtp)', 'How-to-Instructions (HI)', 'Informational Description (IN)', 'Informational Persuasion (IP)', 'Instructive-Informational (HI-IN)', 'Interactive Discussion (ID)', 'Lyrical (LY)', 'Machine Translation (MT)', 'Narrative (NA)', 'News (ne)', 'Opinion (OP)', 'Spoken (SP)']\n",
      "gens:  [0, 1]\n",
      "range(0, 12)\n"
     ]
    }
   ],
   "source": [
    "def cooccurrence_matrix(df):\n",
    "    regs = np.unique(df[\"parsed_register\"]).tolist()\n",
    "    gens = np.unique(df[\"predicted_class\"]).tolist()\n",
    "    print(\"regs: \", regs)\n",
    "    print(\"gens: \", gens)\n",
    "\n",
    "    print(range(len(regs)))\n",
    "    reg2index = {k:v for k,v in zip(regs, range(len(regs)))}\n",
    "    gen2index = {k:v for k,v in zip(gens, range(len(gens)))}\n",
    "\n",
    "    m = np.zeros((len(regs), len(gens)), dtype=np.float32)\n",
    "    summa = 0\n",
    "    for i,d in df.iterrows():\n",
    "        r = d[\"parsed_register\"]\n",
    "        g = d[\"predicted_class\"]\n",
    "\n",
    "        m[reg2index[r],gen2index[g]] += 1\n",
    "        summa+=1\n",
    "\n",
    "    return m/summa\n",
    "\n",
    "\n",
    "m = cooccurrence_matrix(df)\n",
    "\n",
    "assert 0.999 < sum(m.sum(axis=0)) < 1.001 and 0.999 < sum(m.sum(axis=1)) < 1.001"
   ]
  },
  {
   "cell_type": "code",
   "execution_count": 38,
   "id": "4a82626b",
   "metadata": {},
   "outputs": [
    {
     "name": "stdout",
     "output_type": "stream",
     "text": [
      "0.9999999999999999\n",
      "0.9999999999999999\n"
     ]
    }
   ],
   "source": [
    "print(sum(m.sum(axis=0)))\n",
    "print(sum(m.sum(axis=1)))"
   ]
  },
  {
   "cell_type": "code",
   "execution_count": 39,
   "id": "5da9cffc",
   "metadata": {},
   "outputs": [
    {
     "name": "stdout",
     "output_type": "stream",
     "text": [
      "(3.5136822363338065, 0.18562495994670153, 3.686409255301159)\n",
      "0.008940171424864083\n"
     ]
    }
   ],
   "source": [
    "def entropy(m):\n",
    "    p_gen = m.sum(axis=0)\n",
    "    p_reg = m.sum(axis=1)\n",
    "\n",
    "    def _entropy_1d(v):\n",
    "        return -1*sum(v*np.log2(v))\n",
    "\n",
    "    def _entropy_2d(m):\n",
    "        ent = 0\n",
    "        for j in m:\n",
    "            for k in j:\n",
    "                if k != 0:\n",
    "                    ent += k*np.log2(k)\n",
    "        return -1*ent\n",
    "\n",
    "    ent_reg = _entropy_1d(p_reg)\n",
    "    ent_gen = _entropy_1d(p_gen)\n",
    "    ent_reg_gen = _entropy_2d(m)\n",
    "\n",
    "    return ent_reg, ent_gen, ent_reg_gen\n",
    "\n",
    "\n",
    "def mutual_info(m):\n",
    "    reg_pdf = m.sum(axis=1)\n",
    "    gen_pdf = m.sum(axis=0)\n",
    "\n",
    "    info = 0\n",
    "    for i in range(len(reg_pdf)):\n",
    "        for j in range(len(gen_pdf)):\n",
    "            if m[i,j]!= 0:\n",
    "                info += m[i,j]*np.log(m[i,j]/(reg_pdf[i]*gen_pdf[j]))\n",
    "    return info\n",
    "\n",
    "\n",
    "print(entropy(m))\n",
    "print(mutual_info(m))"
   ]
  },
  {
   "cell_type": "code",
   "execution_count": 40,
   "id": "9f620a73",
   "metadata": {},
   "outputs": [
    {
     "name": "stdout",
     "output_type": "stream",
     "text": [
      "predicted_class                       0    1\n",
      "parsed_register                             \n",
      "Description (dtp)                  9810  190\n",
      "How-to-Instructions (HI)           4119   83\n",
      "Informational Description (IN)     8576  381\n",
      "Informational Persuasion (IP)      6311   42\n",
      "Instructive-Informational (HI-IN)  3813  187\n",
      "Interactive Discussion (ID)        5079  400\n",
      "Lyrical (LY)                       3452  323\n",
      "Machine Translation (MT)           5386   66\n",
      "Narrative (NA)                     7334   51\n",
      "News (ne)                          6131   42\n",
      "Opinion (OP)                       6123  134\n",
      "Spoken (SP)                        3720  133\n",
      "chi2 p value 3.7556970004068413e-296\n",
      "0.13958547639233554\n"
     ]
    }
   ],
   "source": [
    "from scipy.stats import chi2_contingency\n",
    "\n",
    "def cramers_v(df):\n",
    "    x = df[\"parsed_register\"]\n",
    "    y = df[\"predicted_class\"]\n",
    "\n",
    "    confusion_matrix = pd.crosstab(x, y)\n",
    "    print(confusion_matrix)\n",
    "    chi2 = chi2_contingency(confusion_matrix)[0]\n",
    "    print(f\"chi2 p value {chi2_contingency(confusion_matrix)[1]}\")\n",
    "    n = confusion_matrix.sum().sum()\n",
    "    phi2 = chi2 / n\n",
    "    r, k = confusion_matrix.shape\n",
    "    phi2corr = max(0, phi2 - ((k-1)*(r-1))/(n-1))\n",
    "    rcorr = r - ((r-1)**2)/(n-1)\n",
    "    kcorr = k - ((k-1)**2)/(n-1)\n",
    "    return np.sqrt(phi2corr / min((kcorr-1), (rcorr-1)))\n",
    "\n",
    "cramers_v = cramers_v(df)\n",
    "print(cramers_v)"
   ]
  },
  {
   "cell_type": "code",
   "execution_count": 41,
   "id": "96cb19b8",
   "metadata": {},
   "outputs": [
    {
     "name": "stdout",
     "output_type": "stream",
     "text": [
      "predicted_class                       0      1\n",
      "parsed_register                               \n",
      "Description (dtp)                  9810  10000\n",
      "How-to-Instructions (HI)           4119   4202\n",
      "Informational Description (IN)     8576   8957\n",
      "Informational Persuasion (IP)      6311   6353\n",
      "Instructive-Informational (HI-IN)  3813   4000\n",
      "Interactive Discussion (ID)        5079   5479\n",
      "Lyrical (LY)                       3452   3775\n",
      "Machine Translation (MT)           5386   5452\n",
      "Narrative (NA)                     7334   7385\n",
      "News (ne)                          6131   6173\n",
      "Opinion (OP)                       6123   6257\n",
      "Spoken (SP)                        3720   3853\n",
      "chi2 p value 0.03874182574932648\n",
      "0.008193881385837275\n"
     ]
    }
   ],
   "source": [
    "def cramers_v_cumulative(df):\n",
    "    x = df[\"parsed_register\"]\n",
    "    y = df[\"predicted_class\"]\n",
    "\n",
    "    confusion_matrix = pd.crosstab(x, y)\n",
    "    confusion_matrix = np.cumsum(confusion_matrix, axis = 1)\n",
    "    print(confusion_matrix)\n",
    "    chi2 = chi2_contingency(confusion_matrix)[0]\n",
    "    print(f\"chi2 p value {chi2_contingency(confusion_matrix)[1]}\")\n",
    "    n = confusion_matrix.sum().sum()\n",
    "    phi2 = chi2 / n\n",
    "    r, k = confusion_matrix.shape\n",
    "    phi2corr = max(0, phi2 - ((k-1)*(r-1))/(n-1))\n",
    "    rcorr = r - ((r-1)**2)/(n-1)\n",
    "    kcorr = k - ((k-1)**2)/(n-1)\n",
    "    return np.sqrt(phi2corr / min((kcorr-1), (rcorr-1)))\n",
    "\n",
    "cramers_v_cum = cramers_v_cumulative(df)\n",
    "print(cramers_v_cum)"
   ]
  },
  {
   "cell_type": "code",
   "execution_count": 42,
   "id": "4144c2e7",
   "metadata": {},
   "outputs": [
    {
     "name": "stdout",
     "output_type": "stream",
     "text": [
      "Defaulting to user installation because normal site-packages is not writeable\n",
      "Requirement already satisfied: statsmodels in /pfs/lustrep4/users/mynttiam/.local/lib/python3.10/site-packages (0.14.4)\n",
      "Requirement already satisfied: patsy>=0.5.6 in /pfs/lustrep4/users/mynttiam/.local/lib/python3.10/site-packages (from statsmodels) (1.0.1)\n",
      "Requirement already satisfied: pandas!=2.1.0,>=1.4 in /opt/cray/pe/python/3.10.10/lib/python3.10/site-packages (from statsmodels) (1.5.3)\n",
      "Requirement already satisfied: packaging>=21.3 in /opt/cray/pe/python/3.10.10/lib/python3.10/site-packages (from statsmodels) (23.1)\n",
      "Requirement already satisfied: scipy!=1.9.2,>=1.8 in /opt/cray/pe/python/3.10.10/lib/python3.10/site-packages (from statsmodels) (1.10.0)\n",
      "Requirement already satisfied: numpy<3,>=1.22.3 in /opt/cray/pe/python/3.10.10/lib/python3.10/site-packages (from statsmodels) (1.23.5)\n",
      "Requirement already satisfied: python-dateutil>=2.8.1 in /opt/cray/pe/python/3.10.10/lib/python3.10/site-packages (from pandas!=2.1.0,>=1.4->statsmodels) (2.8.2)\n",
      "Requirement already satisfied: pytz>=2020.1 in /opt/cray/pe/python/3.10.10/lib/python3.10/site-packages (from pandas!=2.1.0,>=1.4->statsmodels) (2023.3)\n",
      "Requirement already satisfied: six>=1.5 in /opt/cray/pe/python/3.10.10/lib/python3.10/site-packages (from python-dateutil>=2.8.1->pandas!=2.1.0,>=1.4->statsmodels) (1.16.0)\n",
      "\n",
      "\u001b[1m[\u001b[0m\u001b[34;49mnotice\u001b[0m\u001b[1;39;49m]\u001b[0m\u001b[39;49m A new release of pip available: \u001b[0m\u001b[31;49m22.3.1\u001b[0m\u001b[39;49m -> \u001b[0m\u001b[32;49m25.2\u001b[0m\n",
      "\u001b[1m[\u001b[0m\u001b[34;49mnotice\u001b[0m\u001b[1;39;49m]\u001b[0m\u001b[39;49m To update, run: \u001b[0m\u001b[32;49mpip install --upgrade pip\u001b[0m\n"
     ]
    }
   ],
   "source": [
    "! pip install statsmodels"
   ]
  },
  {
   "cell_type": "code",
   "execution_count": 43,
   "id": "66a1abe5",
   "metadata": {},
   "outputs": [
    {
     "name": "stdout",
     "output_type": "stream",
     "text": [
      "0.019636856362400423\n"
     ]
    }
   ],
   "source": [
    "import statsmodels.api as sm\n",
    "from statsmodels.formula.api import ols\n",
    "\n",
    "# Assuming 'nominal_var' is your nominal column and 'ordinal_var' is numeric (1 to 5)\n",
    "model = ols('predicted_class ~ C(parsed_register)', data=df).fit()\n",
    "anova_table = sm.stats.anova_lm(model, typ=2)\n",
    "eta_squared = anova_table['sum_sq']['C(parsed_register)'] / anova_table['sum_sq'].sum()\n",
    "print(eta_squared)"
   ]
  },
  {
   "cell_type": "code",
   "execution_count": 44,
   "id": "d6da9eb7",
   "metadata": {},
   "outputs": [
    {
     "name": "stdout",
     "output_type": "stream",
     "text": [
      "Defaulting to user installation because normal site-packages is not writeable\n",
      "Requirement already satisfied: scikit-learn in /pfs/lustrep4/users/mynttiam/.local/lib/python3.10/site-packages (1.6.1)\n",
      "Requirement already satisfied: numpy>=1.19.5 in /opt/cray/pe/python/3.10.10/lib/python3.10/site-packages (from scikit-learn) (1.23.5)\n",
      "Requirement already satisfied: joblib>=1.2.0 in /pfs/lustrep4/users/mynttiam/.local/lib/python3.10/site-packages (from scikit-learn) (1.5.1)\n",
      "Requirement already satisfied: threadpoolctl>=3.1.0 in /pfs/lustrep4/users/mynttiam/.local/lib/python3.10/site-packages (from scikit-learn) (3.6.0)\n",
      "Requirement already satisfied: scipy>=1.6.0 in /opt/cray/pe/python/3.10.10/lib/python3.10/site-packages (from scikit-learn) (1.10.0)\n",
      "\n",
      "\u001b[1m[\u001b[0m\u001b[34;49mnotice\u001b[0m\u001b[1;39;49m]\u001b[0m\u001b[39;49m A new release of pip available: \u001b[0m\u001b[31;49m22.3.1\u001b[0m\u001b[39;49m -> \u001b[0m\u001b[32;49m25.2\u001b[0m\n",
      "\u001b[1m[\u001b[0m\u001b[34;49mnotice\u001b[0m\u001b[1;39;49m]\u001b[0m\u001b[39;49m To update, run: \u001b[0m\u001b[32;49mpip install --upgrade pip\u001b[0m\n"
     ]
    }
   ],
   "source": [
    "! pip install scikit-learn"
   ]
  },
  {
   "cell_type": "code",
   "execution_count": 45,
   "id": "d47deb98",
   "metadata": {},
   "outputs": [
    {
     "name": "stdout",
     "output_type": "stream",
     "text": [
      "Mutual Information between feature1 and feature2: 0.008940171424864165\n"
     ]
    }
   ],
   "source": [
    "from sklearn.feature_selection import mutual_info_classif\n",
    "from sklearn.preprocessing import LabelEncoder\n",
    "\n",
    "le = LabelEncoder()\n",
    "\n",
    "# Encode feature1\n",
    "df['feature1_encoded'] = le.fit_transform(df['parsed_register'])\n",
    "\n",
    "# Encode feature2\n",
    "df['feature2_encoded'] = le.fit_transform(df['predicted_class'])\n",
    "\n",
    "# Extract the encoded features\n",
    "X = df[['feature1_encoded']]\n",
    "y = df['feature2_encoded']\n",
    "\n",
    "# Calculate mutual information\n",
    "mi = mutual_info_classif(X, y, discrete_features=True)\n",
    "\n",
    "print(f'Mutual Information between feature1 and feature2: {mi[0]}')"
   ]
  },
  {
   "cell_type": "code",
   "execution_count": 46,
   "id": "cba73780",
   "metadata": {},
   "outputs": [
    {
     "name": "stdout",
     "output_type": "stream",
     "text": [
      "Defaulting to user installation because normal site-packages is not writeable\n",
      "Requirement already satisfied: plotly in /pfs/lustrep4/users/mynttiam/.local/lib/python3.10/site-packages (6.1.2)\n",
      "Requirement already satisfied: narwhals>=1.15.1 in /pfs/lustrep4/users/mynttiam/.local/lib/python3.10/site-packages (from plotly) (1.41.0)\n",
      "Requirement already satisfied: packaging in /opt/cray/pe/python/3.10.10/lib/python3.10/site-packages (from plotly) (23.1)\n",
      "\n",
      "\u001b[1m[\u001b[0m\u001b[34;49mnotice\u001b[0m\u001b[1;39;49m]\u001b[0m\u001b[39;49m A new release of pip available: \u001b[0m\u001b[31;49m22.3.1\u001b[0m\u001b[39;49m -> \u001b[0m\u001b[32;49m25.2\u001b[0m\n",
      "\u001b[1m[\u001b[0m\u001b[34;49mnotice\u001b[0m\u001b[1;39;49m]\u001b[0m\u001b[39;49m To update, run: \u001b[0m\u001b[32;49mpip install --upgrade pip\u001b[0m\n",
      "\n",
      "\u001b[1m[\u001b[0m\u001b[34;49mnotice\u001b[0m\u001b[1;39;49m]\u001b[0m\u001b[39;49m A new release of pip available: \u001b[0m\u001b[31;49m22.3.1\u001b[0m\u001b[39;49m -> \u001b[0m\u001b[32;49m25.2\u001b[0m\n",
      "\u001b[1m[\u001b[0m\u001b[34;49mnotice\u001b[0m\u001b[1;39;49m]\u001b[0m\u001b[39;49m To update, run: \u001b[0m\u001b[32;49mpip install --upgrade pip\u001b[0m\n"
     ]
    }
   ],
   "source": [
    "! pip install plotly\n",
    "! pip install nbformat>=4.2.0"
   ]
  },
  {
   "cell_type": "code",
   "execution_count": 47,
   "id": "b6d40875",
   "metadata": {},
   "outputs": [
    {
     "data": {
      "application/vnd.plotly.v1+json": {
       "config": {
        "plotlyServerURL": "https://plot.ly"
       },
       "data": [
        {
         "link": {
          "source": {
           "bdata": "AAABAQICAwMEBAUFBgYHBwgICQkKCgsL",
           "dtype": "i1"
          },
          "target": {
           "bdata": "DA0MDQwNDA0MDQwNDA0MDQwNDA0MDQwN",
           "dtype": "i1"
          },
          "value": {
           "bdata": "Uia+ABcQUwCAIX0BpxgqAOUOuwDXE5ABfA1DAQoVQgCmHDMA8xcqAOsXhgCIDoUA",
           "dtype": "i2"
          }
         },
         "node": {
          "label": [
           "Description (dtp)",
           "How-to-Instructions (HI)",
           "Informational Description (IN)",
           "Informational Persuasion (IP)",
           "Instructive-Informational (HI-IN)",
           "Interactive Discussion (ID)",
           "Lyrical (LY)",
           "Machine Translation (MT)",
           "Narrative (NA)",
           "News (ne)",
           "Opinion (OP)",
           "Spoken (SP)",
           "0",
           "1"
          ],
          "line": {
           "color": "black",
           "width": 0.5
          },
          "pad": 10,
          "thickness": 20
         },
         "type": "sankey"
        }
       ],
       "layout": {
        "font": {
         "size": 16
        },
        "margin": {
         "b": 20,
         "l": 20,
         "r": 20,
         "t": 20
        },
        "template": {
         "data": {
          "bar": [
           {
            "error_x": {
             "color": "#2a3f5f"
            },
            "error_y": {
             "color": "#2a3f5f"
            },
            "marker": {
             "line": {
              "color": "#E5ECF6",
              "width": 0.5
             },
             "pattern": {
              "fillmode": "overlay",
              "size": 10,
              "solidity": 0.2
             }
            },
            "type": "bar"
           }
          ],
          "barpolar": [
           {
            "marker": {
             "line": {
              "color": "#E5ECF6",
              "width": 0.5
             },
             "pattern": {
              "fillmode": "overlay",
              "size": 10,
              "solidity": 0.2
             }
            },
            "type": "barpolar"
           }
          ],
          "carpet": [
           {
            "aaxis": {
             "endlinecolor": "#2a3f5f",
             "gridcolor": "white",
             "linecolor": "white",
             "minorgridcolor": "white",
             "startlinecolor": "#2a3f5f"
            },
            "baxis": {
             "endlinecolor": "#2a3f5f",
             "gridcolor": "white",
             "linecolor": "white",
             "minorgridcolor": "white",
             "startlinecolor": "#2a3f5f"
            },
            "type": "carpet"
           }
          ],
          "choropleth": [
           {
            "colorbar": {
             "outlinewidth": 0,
             "ticks": ""
            },
            "type": "choropleth"
           }
          ],
          "contour": [
           {
            "colorbar": {
             "outlinewidth": 0,
             "ticks": ""
            },
            "colorscale": [
             [
              0,
              "#0d0887"
             ],
             [
              0.1111111111111111,
              "#46039f"
             ],
             [
              0.2222222222222222,
              "#7201a8"
             ],
             [
              0.3333333333333333,
              "#9c179e"
             ],
             [
              0.4444444444444444,
              "#bd3786"
             ],
             [
              0.5555555555555556,
              "#d8576b"
             ],
             [
              0.6666666666666666,
              "#ed7953"
             ],
             [
              0.7777777777777778,
              "#fb9f3a"
             ],
             [
              0.8888888888888888,
              "#fdca26"
             ],
             [
              1,
              "#f0f921"
             ]
            ],
            "type": "contour"
           }
          ],
          "contourcarpet": [
           {
            "colorbar": {
             "outlinewidth": 0,
             "ticks": ""
            },
            "type": "contourcarpet"
           }
          ],
          "heatmap": [
           {
            "colorbar": {
             "outlinewidth": 0,
             "ticks": ""
            },
            "colorscale": [
             [
              0,
              "#0d0887"
             ],
             [
              0.1111111111111111,
              "#46039f"
             ],
             [
              0.2222222222222222,
              "#7201a8"
             ],
             [
              0.3333333333333333,
              "#9c179e"
             ],
             [
              0.4444444444444444,
              "#bd3786"
             ],
             [
              0.5555555555555556,
              "#d8576b"
             ],
             [
              0.6666666666666666,
              "#ed7953"
             ],
             [
              0.7777777777777778,
              "#fb9f3a"
             ],
             [
              0.8888888888888888,
              "#fdca26"
             ],
             [
              1,
              "#f0f921"
             ]
            ],
            "type": "heatmap"
           }
          ],
          "histogram": [
           {
            "marker": {
             "pattern": {
              "fillmode": "overlay",
              "size": 10,
              "solidity": 0.2
             }
            },
            "type": "histogram"
           }
          ],
          "histogram2d": [
           {
            "colorbar": {
             "outlinewidth": 0,
             "ticks": ""
            },
            "colorscale": [
             [
              0,
              "#0d0887"
             ],
             [
              0.1111111111111111,
              "#46039f"
             ],
             [
              0.2222222222222222,
              "#7201a8"
             ],
             [
              0.3333333333333333,
              "#9c179e"
             ],
             [
              0.4444444444444444,
              "#bd3786"
             ],
             [
              0.5555555555555556,
              "#d8576b"
             ],
             [
              0.6666666666666666,
              "#ed7953"
             ],
             [
              0.7777777777777778,
              "#fb9f3a"
             ],
             [
              0.8888888888888888,
              "#fdca26"
             ],
             [
              1,
              "#f0f921"
             ]
            ],
            "type": "histogram2d"
           }
          ],
          "histogram2dcontour": [
           {
            "colorbar": {
             "outlinewidth": 0,
             "ticks": ""
            },
            "colorscale": [
             [
              0,
              "#0d0887"
             ],
             [
              0.1111111111111111,
              "#46039f"
             ],
             [
              0.2222222222222222,
              "#7201a8"
             ],
             [
              0.3333333333333333,
              "#9c179e"
             ],
             [
              0.4444444444444444,
              "#bd3786"
             ],
             [
              0.5555555555555556,
              "#d8576b"
             ],
             [
              0.6666666666666666,
              "#ed7953"
             ],
             [
              0.7777777777777778,
              "#fb9f3a"
             ],
             [
              0.8888888888888888,
              "#fdca26"
             ],
             [
              1,
              "#f0f921"
             ]
            ],
            "type": "histogram2dcontour"
           }
          ],
          "mesh3d": [
           {
            "colorbar": {
             "outlinewidth": 0,
             "ticks": ""
            },
            "type": "mesh3d"
           }
          ],
          "parcoords": [
           {
            "line": {
             "colorbar": {
              "outlinewidth": 0,
              "ticks": ""
             }
            },
            "type": "parcoords"
           }
          ],
          "pie": [
           {
            "automargin": true,
            "type": "pie"
           }
          ],
          "scatter": [
           {
            "fillpattern": {
             "fillmode": "overlay",
             "size": 10,
             "solidity": 0.2
            },
            "type": "scatter"
           }
          ],
          "scatter3d": [
           {
            "line": {
             "colorbar": {
              "outlinewidth": 0,
              "ticks": ""
             }
            },
            "marker": {
             "colorbar": {
              "outlinewidth": 0,
              "ticks": ""
             }
            },
            "type": "scatter3d"
           }
          ],
          "scattercarpet": [
           {
            "marker": {
             "colorbar": {
              "outlinewidth": 0,
              "ticks": ""
             }
            },
            "type": "scattercarpet"
           }
          ],
          "scattergeo": [
           {
            "marker": {
             "colorbar": {
              "outlinewidth": 0,
              "ticks": ""
             }
            },
            "type": "scattergeo"
           }
          ],
          "scattergl": [
           {
            "marker": {
             "colorbar": {
              "outlinewidth": 0,
              "ticks": ""
             }
            },
            "type": "scattergl"
           }
          ],
          "scattermap": [
           {
            "marker": {
             "colorbar": {
              "outlinewidth": 0,
              "ticks": ""
             }
            },
            "type": "scattermap"
           }
          ],
          "scattermapbox": [
           {
            "marker": {
             "colorbar": {
              "outlinewidth": 0,
              "ticks": ""
             }
            },
            "type": "scattermapbox"
           }
          ],
          "scatterpolar": [
           {
            "marker": {
             "colorbar": {
              "outlinewidth": 0,
              "ticks": ""
             }
            },
            "type": "scatterpolar"
           }
          ],
          "scatterpolargl": [
           {
            "marker": {
             "colorbar": {
              "outlinewidth": 0,
              "ticks": ""
             }
            },
            "type": "scatterpolargl"
           }
          ],
          "scatterternary": [
           {
            "marker": {
             "colorbar": {
              "outlinewidth": 0,
              "ticks": ""
             }
            },
            "type": "scatterternary"
           }
          ],
          "surface": [
           {
            "colorbar": {
             "outlinewidth": 0,
             "ticks": ""
            },
            "colorscale": [
             [
              0,
              "#0d0887"
             ],
             [
              0.1111111111111111,
              "#46039f"
             ],
             [
              0.2222222222222222,
              "#7201a8"
             ],
             [
              0.3333333333333333,
              "#9c179e"
             ],
             [
              0.4444444444444444,
              "#bd3786"
             ],
             [
              0.5555555555555556,
              "#d8576b"
             ],
             [
              0.6666666666666666,
              "#ed7953"
             ],
             [
              0.7777777777777778,
              "#fb9f3a"
             ],
             [
              0.8888888888888888,
              "#fdca26"
             ],
             [
              1,
              "#f0f921"
             ]
            ],
            "type": "surface"
           }
          ],
          "table": [
           {
            "cells": {
             "fill": {
              "color": "#EBF0F8"
             },
             "line": {
              "color": "white"
             }
            },
            "header": {
             "fill": {
              "color": "#C8D4E3"
             },
             "line": {
              "color": "white"
             }
            },
            "type": "table"
           }
          ]
         },
         "layout": {
          "annotationdefaults": {
           "arrowcolor": "#2a3f5f",
           "arrowhead": 0,
           "arrowwidth": 1
          },
          "autotypenumbers": "strict",
          "coloraxis": {
           "colorbar": {
            "outlinewidth": 0,
            "ticks": ""
           }
          },
          "colorscale": {
           "diverging": [
            [
             0,
             "#8e0152"
            ],
            [
             0.1,
             "#c51b7d"
            ],
            [
             0.2,
             "#de77ae"
            ],
            [
             0.3,
             "#f1b6da"
            ],
            [
             0.4,
             "#fde0ef"
            ],
            [
             0.5,
             "#f7f7f7"
            ],
            [
             0.6,
             "#e6f5d0"
            ],
            [
             0.7,
             "#b8e186"
            ],
            [
             0.8,
             "#7fbc41"
            ],
            [
             0.9,
             "#4d9221"
            ],
            [
             1,
             "#276419"
            ]
           ],
           "sequential": [
            [
             0,
             "#0d0887"
            ],
            [
             0.1111111111111111,
             "#46039f"
            ],
            [
             0.2222222222222222,
             "#7201a8"
            ],
            [
             0.3333333333333333,
             "#9c179e"
            ],
            [
             0.4444444444444444,
             "#bd3786"
            ],
            [
             0.5555555555555556,
             "#d8576b"
            ],
            [
             0.6666666666666666,
             "#ed7953"
            ],
            [
             0.7777777777777778,
             "#fb9f3a"
            ],
            [
             0.8888888888888888,
             "#fdca26"
            ],
            [
             1,
             "#f0f921"
            ]
           ],
           "sequentialminus": [
            [
             0,
             "#0d0887"
            ],
            [
             0.1111111111111111,
             "#46039f"
            ],
            [
             0.2222222222222222,
             "#7201a8"
            ],
            [
             0.3333333333333333,
             "#9c179e"
            ],
            [
             0.4444444444444444,
             "#bd3786"
            ],
            [
             0.5555555555555556,
             "#d8576b"
            ],
            [
             0.6666666666666666,
             "#ed7953"
            ],
            [
             0.7777777777777778,
             "#fb9f3a"
            ],
            [
             0.8888888888888888,
             "#fdca26"
            ],
            [
             1,
             "#f0f921"
            ]
           ]
          },
          "colorway": [
           "#636efa",
           "#EF553B",
           "#00cc96",
           "#ab63fa",
           "#FFA15A",
           "#19d3f3",
           "#FF6692",
           "#B6E880",
           "#FF97FF",
           "#FECB52"
          ],
          "font": {
           "color": "#2a3f5f"
          },
          "geo": {
           "bgcolor": "white",
           "lakecolor": "white",
           "landcolor": "#E5ECF6",
           "showlakes": true,
           "showland": true,
           "subunitcolor": "white"
          },
          "hoverlabel": {
           "align": "left"
          },
          "hovermode": "closest",
          "mapbox": {
           "style": "light"
          },
          "paper_bgcolor": "white",
          "plot_bgcolor": "#E5ECF6",
          "polar": {
           "angularaxis": {
            "gridcolor": "white",
            "linecolor": "white",
            "ticks": ""
           },
           "bgcolor": "#E5ECF6",
           "radialaxis": {
            "gridcolor": "white",
            "linecolor": "white",
            "ticks": ""
           }
          },
          "scene": {
           "xaxis": {
            "backgroundcolor": "#E5ECF6",
            "gridcolor": "white",
            "gridwidth": 2,
            "linecolor": "white",
            "showbackground": true,
            "ticks": "",
            "zerolinecolor": "white"
           },
           "yaxis": {
            "backgroundcolor": "#E5ECF6",
            "gridcolor": "white",
            "gridwidth": 2,
            "linecolor": "white",
            "showbackground": true,
            "ticks": "",
            "zerolinecolor": "white"
           },
           "zaxis": {
            "backgroundcolor": "#E5ECF6",
            "gridcolor": "white",
            "gridwidth": 2,
            "linecolor": "white",
            "showbackground": true,
            "ticks": "",
            "zerolinecolor": "white"
           }
          },
          "shapedefaults": {
           "line": {
            "color": "#2a3f5f"
           }
          },
          "ternary": {
           "aaxis": {
            "gridcolor": "white",
            "linecolor": "white",
            "ticks": ""
           },
           "baxis": {
            "gridcolor": "white",
            "linecolor": "white",
            "ticks": ""
           },
           "bgcolor": "#E5ECF6",
           "caxis": {
            "gridcolor": "white",
            "linecolor": "white",
            "ticks": ""
           }
          },
          "title": {
           "x": 0.05
          },
          "xaxis": {
           "automargin": true,
           "gridcolor": "white",
           "linecolor": "white",
           "ticks": "",
           "title": {
            "standoff": 15
           },
           "zerolinecolor": "white",
           "zerolinewidth": 2
          },
          "yaxis": {
           "automargin": true,
           "gridcolor": "white",
           "linecolor": "white",
           "ticks": "",
           "title": {
            "standoff": 15
           },
           "zerolinecolor": "white",
           "zerolinewidth": 2
          }
         }
        },
        "title": {
         "text": ""
        },
        "width": 900
       }
      }
     },
     "metadata": {},
     "output_type": "display_data"
    }
   ],
   "source": [
    "import pandas as pd\n",
    "import plotly.graph_objects as go\n",
    "\n",
    "# Example: sample data\n",
    "# df = pd.DataFrame({\n",
    "#     'parsed_register': ['A', 'B', 'A', 'C', 'B', 'C', 'A', 'B', 'C', 'A'],\n",
    "#     'int_score': [1, 2, 2, 3, 3, 4, 1, 5, 4, 2]\n",
    "# })\n",
    "\n",
    "# Count pairs (grouped by nominal and ordinal labels)\n",
    "df['predicted_class'] = df['predicted_class'].astype(str)  # make sure it's a string for plotting\n",
    "counts = df.groupby(['parsed_register', 'predicted_class']).size().reset_index(name='count')\n",
    "\n",
    "# Get all unique labels\n",
    "all_labels = list(pd.unique(counts['parsed_register'].tolist() + counts['predicted_class'].tolist()))\n",
    "label_to_index = {label: i for i, label in enumerate(all_labels)}\n",
    "\n",
    "# Build Sankey inputs\n",
    "source_indices = counts['parsed_register'].map(label_to_index)\n",
    "target_indices = counts['predicted_class'].map(label_to_index)\n",
    "values = counts['count']\n",
    "\n",
    "# Create Sankey diagram\n",
    "fig = go.Figure(data=[go.Sankey(\n",
    "    node=dict(\n",
    "        pad=10,\n",
    "        thickness=20,\n",
    "        line=dict(color=\"black\", width=0.5),\n",
    "        label=all_labels,\n",
    "    ),\n",
    "    link=dict(\n",
    "        source=source_indices,\n",
    "        target=target_indices,\n",
    "        value=values\n",
    "    )\n",
    ")])\n",
    "\n",
    "#model_name_map = dict(edu=\"FineWeb-edu classifier\", nvidia=\"NVIDIA NemoCurator\", dclm =\"DCLM classifier\")\n",
    "fig.update_layout(title_text=\"\",font_size=16, width=900, margin=dict(l=20, r=20, t=20, b=20))#f\"Registers against {model_name_map[classifier]} score\", )\n",
    "fig.write_image(f\"sankey_{classifier}.svg\", scale=3)\n",
    "fig.show()\n"
   ]
  },
  {
   "cell_type": "code",
   "execution_count": 48,
   "id": "a107287e",
   "metadata": {},
   "outputs": [
    {
     "name": "stdout",
     "output_type": "stream",
     "text": [
      "Classifier: dclm\n",
      "Cramer's v: 0.13958547639233554\n",
      "Eta2: 0.019636856362400423\n",
      "Mutual information: 0.008940171424864165\n",
      "Cumulative Cramer's v: 0.008193881385837275\n"
     ]
    }
   ],
   "source": [
    "# final printing\n",
    "\n",
    "print(f\"Classifier: {classifier}\")\n",
    "print(f\"Cramer's v: {cramers_v}\")\n",
    "print(f\"Eta2: {eta_squared}\")\n",
    "print(f\"Mutual information: {mi[0]}\")\n",
    "print(f\"Cumulative Cramer's v: {cramers_v_cum}\")\n",
    "\n"
   ]
  },
  {
   "cell_type": "code",
   "execution_count": null,
   "id": "be0f0e1b",
   "metadata": {},
   "outputs": [],
   "source": []
  }
 ],
 "metadata": {
  "kernelspec": {
   "display_name": "Python 3",
   "language": "python",
   "name": "python3"
  },
  "language_info": {
   "codemirror_mode": {
    "name": "ipython",
    "version": 3
   },
   "file_extension": ".py",
   "mimetype": "text/x-python",
   "name": "python",
   "nbconvert_exporter": "python",
   "pygments_lexer": "ipython3",
   "version": "3.10.10"
  }
 },
 "nbformat": 4,
 "nbformat_minor": 5
}
