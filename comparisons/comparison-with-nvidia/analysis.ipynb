{
 "cells": [
  {
   "cell_type": "code",
   "execution_count": 50,
   "id": "a248eb76",
   "metadata": {},
   "outputs": [],
   "source": [
    "import pandas as pd\n",
    "import numpy as np\n",
    "import os\n",
    "import ast\n",
    "import glob\n",
    "import re\n",
    "\n",
    "#explode=False\n",
    "#all_registers=False\n"
   ]
  },
  {
   "cell_type": "code",
   "execution_count": 51,
   "id": "ba16a2e5",
   "metadata": {},
   "outputs": [],
   "source": [
    "#! cat HI_with_nvidia.jsonl | head -n 10 > test_HI_with_nvidia.jsonl"
   ]
  },
  {
   "cell_type": "code",
   "execution_count": 52,
   "id": "a6e8f22f",
   "metadata": {},
   "outputs": [
    {
     "name": "stdout",
     "output_type": "stream",
     "text": [
      "reading MT_with_nvidia.jsonl\n",
      "reading OP_with_nvidia.jsonl\n",
      "reading HI-IN_with_nvidia.jsonl\n",
      "reading dtp_with_nvidia.jsonl\n",
      "reading IN_with_nvidia.jsonl\n",
      "reading LY_with_nvidia.jsonl\n",
      "reading ID_with_nvidia.jsonl\n",
      "reading HI_with_nvidia.jsonl\n",
      "reading ne_with_nvidia.jsonl\n",
      "reading NA_with_nvidia.jsonl\n",
      "reading SP_with_nvidia.jsonl\n",
      "reading IP_with_nvidia.jsonl\n"
     ]
    }
   ],
   "source": [
    "datas = []\n",
    "\n",
    "labels_all_hierarchy_with_other = {\n",
    "    \"MT\": [\"MT\"],\n",
    "    \"LY\": [\"LY\"],\n",
    "    \"SP\": [\"SP\", \"it\", \"os\"],\n",
    "    \"ID\": [\"ID\"],\n",
    "    \"NA\": [\"NA\", \"ne\", \"sr\", \"nb\", \"on\"],\n",
    "    \"HI\": [\"HI\", \"re\", \"oh\"],\n",
    "    \"IN\": [\"IN\", \"en\", \"ra\", \"dtp\", \"fi\", \"lt\", \"oi\"],\n",
    "    \"OP\": [\"OP\", \"rv\", \"ob\", \"rs\", \"av\", \"oo\"],\n",
    "    \"IP\": [\"IP\", \"ds\", \"ed\", \"oe\"],\n",
    "}\n",
    "\n",
    "final_scores = {\"MT\": 0.374349,\n",
    "    \"LY\": 0.357626,\n",
    "    \"SP\": 0.422314,\n",
    "    \"ID\": 0.430686,\n",
    "    \"NA\": 0.441469,\n",
    "    \"HI\": 0.446558,\n",
    "    \"IN\": 0.437347,\n",
    "    \"OP\":  0.446629,\n",
    "    \"IP\": 0.393026,\n",
    "    \"HI-IN\":0.464502,\n",
    "    \"ne\": 0.417933,\n",
    "    \"dtp\": 0.452347,\n",
    "    }\n",
    "\n",
    "with os.scandir(\"result\") as f:\n",
    "    for file in f:\n",
    "        filename = file.name\n",
    "        print(f\"reading {filename}\")\n",
    "        with open(\"result/\"+filename) as f:\n",
    "            data = []\n",
    "            for line in f:\n",
    "                line = re.sub(r\"tensor\\((\\[.*?\\])(?:, device='.*?')?\\)\", r\"\\1\", line)\n",
    "                try:\n",
    "                    data.append(ast.literal_eval(line))\n",
    "                except:\n",
    "                    print(\"error:\", line)\n",
    "        df_ = pd.DataFrame(data)\n",
    "        df_ = df_.drop(columns=\"text\")\n",
    "        df_[\"parsed_register\"] = df_[\"register\"].map(lambda reg: [r for r in reg if r in list(labels_all_hierarchy_with_other.keys())+[\"ne\", \"dtp\"]])\n",
    "        df_[\"parsed_register\"] = df_[\"parsed_register\"].map(lambda reg: \"-\".join(reg))\n",
    "        df_[\"parsed_register\"] = df_[\"parsed_register\"].map(lambda reg: {\"NA-ne\":\"ne\", \"ne-NA\": \"ne\", \"IN-dtp\":\"dtp\", \"dtp-IN\":\"dtp\", \"IN-HI\":\"HI-IN\"}.get(reg, reg))\n",
    "        df_[\"final_score\"] = df_[\"parsed_register\"].map(lambda reg: final_scores[reg])\n",
    "        df_[\"predicted_class\"] = df_[\"predicted_class\"].map(lambda x: int(x[0]))\n",
    "        datas.append(df_)\n",
    "\n",
    "\n",
    "\n",
    "df = pd.concat(datas)"
   ]
  },
  {
   "cell_type": "code",
   "execution_count": 53,
   "id": "8476df4f",
   "metadata": {},
   "outputs": [
    {
     "data": {
      "text/html": [
       "<div>\n",
       "<style scoped>\n",
       "    .dataframe tbody tr th:only-of-type {\n",
       "        vertical-align: middle;\n",
       "    }\n",
       "\n",
       "    .dataframe tbody tr th {\n",
       "        vertical-align: top;\n",
       "    }\n",
       "\n",
       "    .dataframe thead th {\n",
       "        text-align: right;\n",
       "    }\n",
       "</style>\n",
       "<table border=\"1\" class=\"dataframe\">\n",
       "  <thead>\n",
       "    <tr style=\"text-align: right;\">\n",
       "      <th></th>\n",
       "      <th>id</th>\n",
       "      <th>register</th>\n",
       "      <th>predicted_class</th>\n",
       "      <th>predicted_domain</th>\n",
       "      <th>parsed_register</th>\n",
       "      <th>final_score</th>\n",
       "    </tr>\n",
       "  </thead>\n",
       "  <tbody>\n",
       "    <tr>\n",
       "      <th>0</th>\n",
       "      <td>aa6e226e50524b13656a48cca50ef88b</td>\n",
       "      <td>[MT]</td>\n",
       "      <td>2</td>\n",
       "      <td>[Low]</td>\n",
       "      <td>MT</td>\n",
       "      <td>0.374349</td>\n",
       "    </tr>\n",
       "    <tr>\n",
       "      <th>1</th>\n",
       "      <td>48ea34d9aa0ce1a6ac031ee3ee950eda</td>\n",
       "      <td>[MT]</td>\n",
       "      <td>2</td>\n",
       "      <td>[Low]</td>\n",
       "      <td>MT</td>\n",
       "      <td>0.374349</td>\n",
       "    </tr>\n",
       "    <tr>\n",
       "      <th>2</th>\n",
       "      <td>7d8fda8eca0b17ff6faab5f5837356dd</td>\n",
       "      <td>[MT]</td>\n",
       "      <td>2</td>\n",
       "      <td>[Low]</td>\n",
       "      <td>MT</td>\n",
       "      <td>0.374349</td>\n",
       "    </tr>\n",
       "    <tr>\n",
       "      <th>3</th>\n",
       "      <td>820661e03daf8d1268772cd7a0c84856</td>\n",
       "      <td>[MT]</td>\n",
       "      <td>2</td>\n",
       "      <td>[Low]</td>\n",
       "      <td>MT</td>\n",
       "      <td>0.374349</td>\n",
       "    </tr>\n",
       "    <tr>\n",
       "      <th>4</th>\n",
       "      <td>56831efa9c0dbe62578889db0c02cd2d</td>\n",
       "      <td>[MT]</td>\n",
       "      <td>2</td>\n",
       "      <td>[Low]</td>\n",
       "      <td>MT</td>\n",
       "      <td>0.374349</td>\n",
       "    </tr>\n",
       "    <tr>\n",
       "      <th>...</th>\n",
       "      <td>...</td>\n",
       "      <td>...</td>\n",
       "      <td>...</td>\n",
       "      <td>...</td>\n",
       "      <td>...</td>\n",
       "      <td>...</td>\n",
       "    </tr>\n",
       "    <tr>\n",
       "      <th>9995</th>\n",
       "      <td>67a9f23998d99875ee1f81a65a2d2310</td>\n",
       "      <td>[ds, IP]</td>\n",
       "      <td>2</td>\n",
       "      <td>[Low]</td>\n",
       "      <td>IP</td>\n",
       "      <td>0.393026</td>\n",
       "    </tr>\n",
       "    <tr>\n",
       "      <th>9996</th>\n",
       "      <td>e15363603d2ad016a5073e0cd89417a6</td>\n",
       "      <td>[IP, ds]</td>\n",
       "      <td>1</td>\n",
       "      <td>[Medium]</td>\n",
       "      <td>IP</td>\n",
       "      <td>0.393026</td>\n",
       "    </tr>\n",
       "    <tr>\n",
       "      <th>9997</th>\n",
       "      <td>587640cea60f50a8c220c04dc2ff5dca</td>\n",
       "      <td>[IP]</td>\n",
       "      <td>1</td>\n",
       "      <td>[Medium]</td>\n",
       "      <td>IP</td>\n",
       "      <td>0.393026</td>\n",
       "    </tr>\n",
       "    <tr>\n",
       "      <th>9998</th>\n",
       "      <td>3ea3bcc66d48f1cf2814bae9be0222f0</td>\n",
       "      <td>[ds, IP]</td>\n",
       "      <td>0</td>\n",
       "      <td>[High]</td>\n",
       "      <td>IP</td>\n",
       "      <td>0.393026</td>\n",
       "    </tr>\n",
       "    <tr>\n",
       "      <th>9999</th>\n",
       "      <td>486f74e6fe18f593ee02d248293e55bc</td>\n",
       "      <td>[IP, ds]</td>\n",
       "      <td>2</td>\n",
       "      <td>[Low]</td>\n",
       "      <td>IP</td>\n",
       "      <td>0.393026</td>\n",
       "    </tr>\n",
       "  </tbody>\n",
       "</table>\n",
       "<p>120000 rows × 6 columns</p>\n",
       "</div>"
      ],
      "text/plain": [
       "                                    id  register  predicted_class  \\\n",
       "0     aa6e226e50524b13656a48cca50ef88b      [MT]                2   \n",
       "1     48ea34d9aa0ce1a6ac031ee3ee950eda      [MT]                2   \n",
       "2     7d8fda8eca0b17ff6faab5f5837356dd      [MT]                2   \n",
       "3     820661e03daf8d1268772cd7a0c84856      [MT]                2   \n",
       "4     56831efa9c0dbe62578889db0c02cd2d      [MT]                2   \n",
       "...                                ...       ...              ...   \n",
       "9995  67a9f23998d99875ee1f81a65a2d2310  [ds, IP]                2   \n",
       "9996  e15363603d2ad016a5073e0cd89417a6  [IP, ds]                1   \n",
       "9997  587640cea60f50a8c220c04dc2ff5dca      [IP]                1   \n",
       "9998  3ea3bcc66d48f1cf2814bae9be0222f0  [ds, IP]                0   \n",
       "9999  486f74e6fe18f593ee02d248293e55bc  [IP, ds]                2   \n",
       "\n",
       "     predicted_domain parsed_register  final_score  \n",
       "0               [Low]              MT     0.374349  \n",
       "1               [Low]              MT     0.374349  \n",
       "2               [Low]              MT     0.374349  \n",
       "3               [Low]              MT     0.374349  \n",
       "4               [Low]              MT     0.374349  \n",
       "...               ...             ...          ...  \n",
       "9995            [Low]              IP     0.393026  \n",
       "9996         [Medium]              IP     0.393026  \n",
       "9997         [Medium]              IP     0.393026  \n",
       "9998           [High]              IP     0.393026  \n",
       "9999            [Low]              IP     0.393026  \n",
       "\n",
       "[120000 rows x 6 columns]"
      ]
     },
     "metadata": {},
     "output_type": "display_data"
    },
    {
     "name": "stdout",
     "output_type": "stream",
     "text": [
      "(array(['HI', 'HI-IN', 'ID', 'IN', 'IP', 'LY', 'MT', 'NA', 'OP', 'SP',\n",
      "       'dtp', 'ne'], dtype='<U5'), array([10000, 10000, 10000, 10000, 10000, 10000, 10000, 10000, 10000,\n",
      "       10000, 10000, 10000]))\n"
     ]
    }
   ],
   "source": [
    "display(df)\n",
    "print(np.unique(df[\"parsed_register\"].tolist(), return_counts=True))"
   ]
  },
  {
   "cell_type": "code",
   "execution_count": 54,
   "id": "e53622c0",
   "metadata": {},
   "outputs": [
    {
     "name": "stdout",
     "output_type": "stream",
     "text": [
      "regs:  ['HI', 'HI-IN', 'ID', 'IN', 'IP', 'LY', 'MT', 'NA', 'OP', 'SP', 'dtp', 'ne']\n",
      "gens:  [0, 1, 2]\n",
      "range(0, 12)\n"
     ]
    }
   ],
   "source": [
    "def cooccurrence_matrix(df):\n",
    "    regs = np.unique(df[\"parsed_register\"]).tolist()\n",
    "    gens = np.unique(df[\"predicted_class\"]).tolist()\n",
    "    print(\"regs: \", regs)\n",
    "    print(\"gens: \", gens)\n",
    "\n",
    "    print(range(len(regs)))\n",
    "    reg2index = {k:v for k,v in zip(regs, range(len(regs)))}\n",
    "    gen2index = {k:v for k,v in zip(gens, range(len(gens)))}\n",
    "\n",
    "    m = np.zeros((len(regs), len(gens)), dtype=np.float32)\n",
    "    summa = 0\n",
    "    for i,d in df.iterrows():\n",
    "        r = d[\"parsed_register\"]\n",
    "        g = d[\"predicted_class\"]\n",
    "\n",
    "        m[reg2index[r],gen2index[g]] += 1\n",
    "        summa+=1\n",
    "\n",
    "    return m/summa\n",
    "\n",
    "\n",
    "m = cooccurrence_matrix(df)\n",
    "\n",
    "assert 0.999 < sum(m.sum(axis=0)) < 1.001 and 0.999 < sum(m.sum(axis=1)) < 1.001"
   ]
  },
  {
   "cell_type": "code",
   "execution_count": 55,
   "id": "4a82626b",
   "metadata": {},
   "outputs": [
    {
     "name": "stdout",
     "output_type": "stream",
     "text": [
      "1.0\n",
      "1.0000000000000002\n"
     ]
    }
   ],
   "source": [
    "print(sum(m.sum(axis=0)))\n",
    "print(sum(m.sum(axis=1)))"
   ]
  },
  {
   "cell_type": "code",
   "execution_count": 56,
   "id": "5da9cffc",
   "metadata": {},
   "outputs": [
    {
     "name": "stdout",
     "output_type": "stream",
     "text": [
      "(3.5849625007211565, 1.3793877445248428, 4.676861404436686)\n",
      "0.19927207944942177\n"
     ]
    }
   ],
   "source": [
    "def entropy(m):\n",
    "    p_gen = m.sum(axis=0)\n",
    "    p_reg = m.sum(axis=1)\n",
    "\n",
    "    def _entropy_1d(v):\n",
    "        return -1*sum(v*np.log2(v))\n",
    "\n",
    "    def _entropy_2d(m):\n",
    "        ent = 0\n",
    "        for j in m:\n",
    "            for k in j:\n",
    "                if k != 0:\n",
    "                    ent += k*np.log2(k)\n",
    "        return -1*ent\n",
    "\n",
    "    ent_reg = _entropy_1d(p_reg)\n",
    "    ent_gen = _entropy_1d(p_gen)\n",
    "    ent_reg_gen = _entropy_2d(m)\n",
    "\n",
    "    return ent_reg, ent_gen, ent_reg_gen\n",
    "\n",
    "\n",
    "def mutual_info(m):\n",
    "    reg_pdf = m.sum(axis=1)\n",
    "    gen_pdf = m.sum(axis=0)\n",
    "\n",
    "    info = 0\n",
    "    for i in range(len(reg_pdf)):\n",
    "        for j in range(len(gen_pdf)):\n",
    "            if m[i,j]!= 0:\n",
    "                info += m[i,j]*np.log(m[i,j]/(reg_pdf[i]*gen_pdf[j]))\n",
    "    return info\n",
    "\n",
    "\n",
    "print(entropy(m))\n",
    "print(mutual_info(m))"
   ]
  },
  {
   "cell_type": "code",
   "execution_count": 57,
   "id": "9f620a73",
   "metadata": {},
   "outputs": [
    {
     "name": "stdout",
     "output_type": "stream",
     "text": [
      "predicted_class     0     1     2\n",
      "parsed_register                  \n",
      "HI               1856  7107  1037\n",
      "HI-IN            1881  6637  1482\n",
      "ID                 16  4087  5897\n",
      "IN               1337  5612  3051\n",
      "IP                559  4775  4666\n",
      "LY                120  5033  4847\n",
      "MT                  0   589  9411\n",
      "NA               1174  7231  1595\n",
      "OP               1243  7813   944\n",
      "SP               2198  7447   355\n",
      "dtp              1830  6138  2032\n",
      "ne               4183  5195   622\n",
      "0.43817847177510694\n"
     ]
    }
   ],
   "source": [
    "from scipy.stats import chi2_contingency\n",
    "\n",
    "def cramers_v(df):\n",
    "    x = df[\"parsed_register\"]\n",
    "    y = df[\"predicted_class\"]\n",
    "\n",
    "    confusion_matrix = pd.crosstab(x, y)\n",
    "    print(confusion_matrix)\n",
    "    chi2 = chi2_contingency(confusion_matrix)[0]\n",
    "    n = confusion_matrix.sum().sum()\n",
    "    phi2 = chi2 / n\n",
    "    r, k = confusion_matrix.shape\n",
    "    phi2corr = max(0, phi2 - ((k-1)*(r-1))/(n-1))\n",
    "    rcorr = r - ((r-1)**2)/(n-1)\n",
    "    kcorr = k - ((k-1)**2)/(n-1)\n",
    "    return np.sqrt(phi2corr / min((kcorr-1), (rcorr-1)))\n",
    "print(cramers_v(df))"
   ]
  },
  {
   "cell_type": "code",
   "execution_count": 58,
   "id": "4144c2e7",
   "metadata": {},
   "outputs": [
    {
     "name": "stdout",
     "output_type": "stream",
     "text": [
      "Defaulting to user installation because normal site-packages is not writeable\n",
      "Requirement already satisfied: statsmodels in /pfs/lustrep4/users/mynttiam/.local/lib/python3.10/site-packages (0.14.4)\n",
      "Requirement already satisfied: scipy!=1.9.2,>=1.8 in /opt/cray/pe/python/3.10.10/lib/python3.10/site-packages (from statsmodels) (1.10.0)\n",
      "Requirement already satisfied: packaging>=21.3 in /opt/cray/pe/python/3.10.10/lib/python3.10/site-packages (from statsmodels) (23.1)\n",
      "Requirement already satisfied: patsy>=0.5.6 in /pfs/lustrep4/users/mynttiam/.local/lib/python3.10/site-packages (from statsmodels) (1.0.1)\n",
      "Requirement already satisfied: numpy<3,>=1.22.3 in /opt/cray/pe/python/3.10.10/lib/python3.10/site-packages (from statsmodels) (1.23.5)\n",
      "Requirement already satisfied: pandas!=2.1.0,>=1.4 in /opt/cray/pe/python/3.10.10/lib/python3.10/site-packages (from statsmodels) (1.5.3)\n",
      "Requirement already satisfied: python-dateutil>=2.8.1 in /opt/cray/pe/python/3.10.10/lib/python3.10/site-packages (from pandas!=2.1.0,>=1.4->statsmodels) (2.8.2)\n",
      "Requirement already satisfied: pytz>=2020.1 in /opt/cray/pe/python/3.10.10/lib/python3.10/site-packages (from pandas!=2.1.0,>=1.4->statsmodels) (2023.3)\n",
      "Requirement already satisfied: six>=1.5 in /opt/cray/pe/python/3.10.10/lib/python3.10/site-packages (from python-dateutil>=2.8.1->pandas!=2.1.0,>=1.4->statsmodels) (1.16.0)\n",
      "\n",
      "\u001b[1m[\u001b[0m\u001b[34;49mnotice\u001b[0m\u001b[1;39;49m]\u001b[0m\u001b[39;49m A new release of pip available: \u001b[0m\u001b[31;49m22.3.1\u001b[0m\u001b[39;49m -> \u001b[0m\u001b[32;49m25.1.1\u001b[0m\n",
      "\u001b[1m[\u001b[0m\u001b[34;49mnotice\u001b[0m\u001b[1;39;49m]\u001b[0m\u001b[39;49m To update, run: \u001b[0m\u001b[32;49mpip install --upgrade pip\u001b[0m\n"
     ]
    }
   ],
   "source": [
    "! pip install statsmodels"
   ]
  },
  {
   "cell_type": "code",
   "execution_count": 59,
   "id": "66a1abe5",
   "metadata": {},
   "outputs": [
    {
     "name": "stdout",
     "output_type": "stream",
     "text": [
      "0.30657679613860916\n"
     ]
    }
   ],
   "source": [
    "import statsmodels.api as sm\n",
    "from statsmodels.formula.api import ols\n",
    "\n",
    "# Assuming 'nominal_var' is your nominal column and 'ordinal_var' is numeric (1 to 5)\n",
    "model = ols('predicted_class ~ C(parsed_register)', data=df).fit()\n",
    "anova_table = sm.stats.anova_lm(model, typ=2)\n",
    "eta_squared = anova_table['sum_sq']['C(parsed_register)'] / anova_table['sum_sq'].sum()\n",
    "print(eta_squared)"
   ]
  },
  {
   "cell_type": "code",
   "execution_count": 60,
   "id": "d6da9eb7",
   "metadata": {},
   "outputs": [
    {
     "name": "stdout",
     "output_type": "stream",
     "text": [
      "Defaulting to user installation because normal site-packages is not writeable\n",
      "Requirement already satisfied: scikit-learn in /pfs/lustrep4/users/mynttiam/.local/lib/python3.10/site-packages (1.6.1)\n",
      "Requirement already satisfied: joblib>=1.2.0 in /pfs/lustrep4/users/mynttiam/.local/lib/python3.10/site-packages (from scikit-learn) (1.5.1)\n",
      "Requirement already satisfied: numpy>=1.19.5 in /opt/cray/pe/python/3.10.10/lib/python3.10/site-packages (from scikit-learn) (1.23.5)\n",
      "Requirement already satisfied: scipy>=1.6.0 in /opt/cray/pe/python/3.10.10/lib/python3.10/site-packages (from scikit-learn) (1.10.0)\n",
      "Requirement already satisfied: threadpoolctl>=3.1.0 in /pfs/lustrep4/users/mynttiam/.local/lib/python3.10/site-packages (from scikit-learn) (3.6.0)\n",
      "\n",
      "\u001b[1m[\u001b[0m\u001b[34;49mnotice\u001b[0m\u001b[1;39;49m]\u001b[0m\u001b[39;49m A new release of pip available: \u001b[0m\u001b[31;49m22.3.1\u001b[0m\u001b[39;49m -> \u001b[0m\u001b[32;49m25.1.1\u001b[0m\n",
      "\u001b[1m[\u001b[0m\u001b[34;49mnotice\u001b[0m\u001b[1;39;49m]\u001b[0m\u001b[39;49m To update, run: \u001b[0m\u001b[32;49mpip install --upgrade pip\u001b[0m\n"
     ]
    }
   ],
   "source": [
    "! pip install scikit-learn"
   ]
  },
  {
   "cell_type": "code",
   "execution_count": 61,
   "id": "d47deb98",
   "metadata": {},
   "outputs": [
    {
     "name": "stdout",
     "output_type": "stream",
     "text": [
      "Mutual Information between feature1 and feature2: 0.19927207944942277\n"
     ]
    }
   ],
   "source": [
    "from sklearn.feature_selection import mutual_info_classif\n",
    "from sklearn.preprocessing import LabelEncoder\n",
    "\n",
    "le = LabelEncoder()\n",
    "\n",
    "# Encode feature1\n",
    "df['feature1_encoded'] = le.fit_transform(df['parsed_register'])\n",
    "\n",
    "# Encode feature2\n",
    "df['feature2_encoded'] = le.fit_transform(df['predicted_class'])\n",
    "\n",
    "# Extract the encoded features\n",
    "X = df[['feature1_encoded']]\n",
    "y = df['feature2_encoded']\n",
    "\n",
    "# Calculate mutual information\n",
    "mi = mutual_info_classif(X, y, discrete_features=True)\n",
    "\n",
    "print(f'Mutual Information between feature1 and feature2: {mi[0]}')"
   ]
  },
  {
   "cell_type": "code",
   "execution_count": 62,
   "id": "cba73780",
   "metadata": {},
   "outputs": [
    {
     "name": "stdout",
     "output_type": "stream",
     "text": [
      "Defaulting to user installation because normal site-packages is not writeable\n",
      "Requirement already satisfied: plotly in /pfs/lustrep4/users/mynttiam/.local/lib/python3.10/site-packages (6.1.2)\n",
      "Requirement already satisfied: packaging in /opt/cray/pe/python/3.10.10/lib/python3.10/site-packages (from plotly) (23.1)\n",
      "Requirement already satisfied: narwhals>=1.15.1 in /pfs/lustrep4/users/mynttiam/.local/lib/python3.10/site-packages (from plotly) (1.41.0)\n",
      "\n",
      "\u001b[1m[\u001b[0m\u001b[34;49mnotice\u001b[0m\u001b[1;39;49m]\u001b[0m\u001b[39;49m A new release of pip available: \u001b[0m\u001b[31;49m22.3.1\u001b[0m\u001b[39;49m -> \u001b[0m\u001b[32;49m25.1.1\u001b[0m\n",
      "\u001b[1m[\u001b[0m\u001b[34;49mnotice\u001b[0m\u001b[1;39;49m]\u001b[0m\u001b[39;49m To update, run: \u001b[0m\u001b[32;49mpip install --upgrade pip\u001b[0m\n",
      "\n",
      "\u001b[1m[\u001b[0m\u001b[34;49mnotice\u001b[0m\u001b[1;39;49m]\u001b[0m\u001b[39;49m A new release of pip available: \u001b[0m\u001b[31;49m22.3.1\u001b[0m\u001b[39;49m -> \u001b[0m\u001b[32;49m25.1.1\u001b[0m\n",
      "\u001b[1m[\u001b[0m\u001b[34;49mnotice\u001b[0m\u001b[1;39;49m]\u001b[0m\u001b[39;49m To update, run: \u001b[0m\u001b[32;49mpip install --upgrade pip\u001b[0m\n"
     ]
    }
   ],
   "source": [
    "! pip install plotly\n",
    "! pip install nbformat>=4.2.0"
   ]
  },
  {
   "cell_type": "code",
   "execution_count": 63,
   "id": "b6d40875",
   "metadata": {},
   "outputs": [
    {
     "data": {
      "application/vnd.plotly.v1+json": {
       "config": {
        "plotlyServerURL": "https://plot.ly"
       },
       "data": [
        {
         "link": {
          "source": {
           "bdata": "AAAAAQEBAgICAwMDBAQEBQUFBgYHBwcICAgJCQkKCgoLCws=",
           "dtype": "i1"
          },
          "target": {
           "bdata": "DA0ODA0ODA0ODA0ODA0ODA0ODQ4MDQ4MDQ4MDQ4MDQ4MDQ4=",
           "dtype": "i1"
          },
          "value": {
           "bdata": "QAfDGw0EWQftGcoFEAD3DwkXOQXsFesLLwKnEjoSeACpE+8STQLDJJYEPxw7BtsEhR6wA5YIFx1jASYH+hfwB1cQSxRuAg==",
           "dtype": "i2"
          }
         },
         "node": {
          "label": [
           "HI",
           "HI-IN",
           "ID",
           "IN",
           "IP",
           "LY",
           "MT",
           "NA",
           "OP",
           "SP",
           "dtp",
           "ne",
           "0",
           "1",
           "2"
          ],
          "line": {
           "color": "black",
           "width": 0.5
          },
          "pad": 15,
          "thickness": 20
         },
         "type": "sankey"
        }
       ],
       "layout": {
        "font": {
         "size": 12
        },
        "template": {
         "data": {
          "bar": [
           {
            "error_x": {
             "color": "#2a3f5f"
            },
            "error_y": {
             "color": "#2a3f5f"
            },
            "marker": {
             "line": {
              "color": "#E5ECF6",
              "width": 0.5
             },
             "pattern": {
              "fillmode": "overlay",
              "size": 10,
              "solidity": 0.2
             }
            },
            "type": "bar"
           }
          ],
          "barpolar": [
           {
            "marker": {
             "line": {
              "color": "#E5ECF6",
              "width": 0.5
             },
             "pattern": {
              "fillmode": "overlay",
              "size": 10,
              "solidity": 0.2
             }
            },
            "type": "barpolar"
           }
          ],
          "carpet": [
           {
            "aaxis": {
             "endlinecolor": "#2a3f5f",
             "gridcolor": "white",
             "linecolor": "white",
             "minorgridcolor": "white",
             "startlinecolor": "#2a3f5f"
            },
            "baxis": {
             "endlinecolor": "#2a3f5f",
             "gridcolor": "white",
             "linecolor": "white",
             "minorgridcolor": "white",
             "startlinecolor": "#2a3f5f"
            },
            "type": "carpet"
           }
          ],
          "choropleth": [
           {
            "colorbar": {
             "outlinewidth": 0,
             "ticks": ""
            },
            "type": "choropleth"
           }
          ],
          "contour": [
           {
            "colorbar": {
             "outlinewidth": 0,
             "ticks": ""
            },
            "colorscale": [
             [
              0,
              "#0d0887"
             ],
             [
              0.1111111111111111,
              "#46039f"
             ],
             [
              0.2222222222222222,
              "#7201a8"
             ],
             [
              0.3333333333333333,
              "#9c179e"
             ],
             [
              0.4444444444444444,
              "#bd3786"
             ],
             [
              0.5555555555555556,
              "#d8576b"
             ],
             [
              0.6666666666666666,
              "#ed7953"
             ],
             [
              0.7777777777777778,
              "#fb9f3a"
             ],
             [
              0.8888888888888888,
              "#fdca26"
             ],
             [
              1,
              "#f0f921"
             ]
            ],
            "type": "contour"
           }
          ],
          "contourcarpet": [
           {
            "colorbar": {
             "outlinewidth": 0,
             "ticks": ""
            },
            "type": "contourcarpet"
           }
          ],
          "heatmap": [
           {
            "colorbar": {
             "outlinewidth": 0,
             "ticks": ""
            },
            "colorscale": [
             [
              0,
              "#0d0887"
             ],
             [
              0.1111111111111111,
              "#46039f"
             ],
             [
              0.2222222222222222,
              "#7201a8"
             ],
             [
              0.3333333333333333,
              "#9c179e"
             ],
             [
              0.4444444444444444,
              "#bd3786"
             ],
             [
              0.5555555555555556,
              "#d8576b"
             ],
             [
              0.6666666666666666,
              "#ed7953"
             ],
             [
              0.7777777777777778,
              "#fb9f3a"
             ],
             [
              0.8888888888888888,
              "#fdca26"
             ],
             [
              1,
              "#f0f921"
             ]
            ],
            "type": "heatmap"
           }
          ],
          "histogram": [
           {
            "marker": {
             "pattern": {
              "fillmode": "overlay",
              "size": 10,
              "solidity": 0.2
             }
            },
            "type": "histogram"
           }
          ],
          "histogram2d": [
           {
            "colorbar": {
             "outlinewidth": 0,
             "ticks": ""
            },
            "colorscale": [
             [
              0,
              "#0d0887"
             ],
             [
              0.1111111111111111,
              "#46039f"
             ],
             [
              0.2222222222222222,
              "#7201a8"
             ],
             [
              0.3333333333333333,
              "#9c179e"
             ],
             [
              0.4444444444444444,
              "#bd3786"
             ],
             [
              0.5555555555555556,
              "#d8576b"
             ],
             [
              0.6666666666666666,
              "#ed7953"
             ],
             [
              0.7777777777777778,
              "#fb9f3a"
             ],
             [
              0.8888888888888888,
              "#fdca26"
             ],
             [
              1,
              "#f0f921"
             ]
            ],
            "type": "histogram2d"
           }
          ],
          "histogram2dcontour": [
           {
            "colorbar": {
             "outlinewidth": 0,
             "ticks": ""
            },
            "colorscale": [
             [
              0,
              "#0d0887"
             ],
             [
              0.1111111111111111,
              "#46039f"
             ],
             [
              0.2222222222222222,
              "#7201a8"
             ],
             [
              0.3333333333333333,
              "#9c179e"
             ],
             [
              0.4444444444444444,
              "#bd3786"
             ],
             [
              0.5555555555555556,
              "#d8576b"
             ],
             [
              0.6666666666666666,
              "#ed7953"
             ],
             [
              0.7777777777777778,
              "#fb9f3a"
             ],
             [
              0.8888888888888888,
              "#fdca26"
             ],
             [
              1,
              "#f0f921"
             ]
            ],
            "type": "histogram2dcontour"
           }
          ],
          "mesh3d": [
           {
            "colorbar": {
             "outlinewidth": 0,
             "ticks": ""
            },
            "type": "mesh3d"
           }
          ],
          "parcoords": [
           {
            "line": {
             "colorbar": {
              "outlinewidth": 0,
              "ticks": ""
             }
            },
            "type": "parcoords"
           }
          ],
          "pie": [
           {
            "automargin": true,
            "type": "pie"
           }
          ],
          "scatter": [
           {
            "fillpattern": {
             "fillmode": "overlay",
             "size": 10,
             "solidity": 0.2
            },
            "type": "scatter"
           }
          ],
          "scatter3d": [
           {
            "line": {
             "colorbar": {
              "outlinewidth": 0,
              "ticks": ""
             }
            },
            "marker": {
             "colorbar": {
              "outlinewidth": 0,
              "ticks": ""
             }
            },
            "type": "scatter3d"
           }
          ],
          "scattercarpet": [
           {
            "marker": {
             "colorbar": {
              "outlinewidth": 0,
              "ticks": ""
             }
            },
            "type": "scattercarpet"
           }
          ],
          "scattergeo": [
           {
            "marker": {
             "colorbar": {
              "outlinewidth": 0,
              "ticks": ""
             }
            },
            "type": "scattergeo"
           }
          ],
          "scattergl": [
           {
            "marker": {
             "colorbar": {
              "outlinewidth": 0,
              "ticks": ""
             }
            },
            "type": "scattergl"
           }
          ],
          "scattermap": [
           {
            "marker": {
             "colorbar": {
              "outlinewidth": 0,
              "ticks": ""
             }
            },
            "type": "scattermap"
           }
          ],
          "scattermapbox": [
           {
            "marker": {
             "colorbar": {
              "outlinewidth": 0,
              "ticks": ""
             }
            },
            "type": "scattermapbox"
           }
          ],
          "scatterpolar": [
           {
            "marker": {
             "colorbar": {
              "outlinewidth": 0,
              "ticks": ""
             }
            },
            "type": "scatterpolar"
           }
          ],
          "scatterpolargl": [
           {
            "marker": {
             "colorbar": {
              "outlinewidth": 0,
              "ticks": ""
             }
            },
            "type": "scatterpolargl"
           }
          ],
          "scatterternary": [
           {
            "marker": {
             "colorbar": {
              "outlinewidth": 0,
              "ticks": ""
             }
            },
            "type": "scatterternary"
           }
          ],
          "surface": [
           {
            "colorbar": {
             "outlinewidth": 0,
             "ticks": ""
            },
            "colorscale": [
             [
              0,
              "#0d0887"
             ],
             [
              0.1111111111111111,
              "#46039f"
             ],
             [
              0.2222222222222222,
              "#7201a8"
             ],
             [
              0.3333333333333333,
              "#9c179e"
             ],
             [
              0.4444444444444444,
              "#bd3786"
             ],
             [
              0.5555555555555556,
              "#d8576b"
             ],
             [
              0.6666666666666666,
              "#ed7953"
             ],
             [
              0.7777777777777778,
              "#fb9f3a"
             ],
             [
              0.8888888888888888,
              "#fdca26"
             ],
             [
              1,
              "#f0f921"
             ]
            ],
            "type": "surface"
           }
          ],
          "table": [
           {
            "cells": {
             "fill": {
              "color": "#EBF0F8"
             },
             "line": {
              "color": "white"
             }
            },
            "header": {
             "fill": {
              "color": "#C8D4E3"
             },
             "line": {
              "color": "white"
             }
            },
            "type": "table"
           }
          ]
         },
         "layout": {
          "annotationdefaults": {
           "arrowcolor": "#2a3f5f",
           "arrowhead": 0,
           "arrowwidth": 1
          },
          "autotypenumbers": "strict",
          "coloraxis": {
           "colorbar": {
            "outlinewidth": 0,
            "ticks": ""
           }
          },
          "colorscale": {
           "diverging": [
            [
             0,
             "#8e0152"
            ],
            [
             0.1,
             "#c51b7d"
            ],
            [
             0.2,
             "#de77ae"
            ],
            [
             0.3,
             "#f1b6da"
            ],
            [
             0.4,
             "#fde0ef"
            ],
            [
             0.5,
             "#f7f7f7"
            ],
            [
             0.6,
             "#e6f5d0"
            ],
            [
             0.7,
             "#b8e186"
            ],
            [
             0.8,
             "#7fbc41"
            ],
            [
             0.9,
             "#4d9221"
            ],
            [
             1,
             "#276419"
            ]
           ],
           "sequential": [
            [
             0,
             "#0d0887"
            ],
            [
             0.1111111111111111,
             "#46039f"
            ],
            [
             0.2222222222222222,
             "#7201a8"
            ],
            [
             0.3333333333333333,
             "#9c179e"
            ],
            [
             0.4444444444444444,
             "#bd3786"
            ],
            [
             0.5555555555555556,
             "#d8576b"
            ],
            [
             0.6666666666666666,
             "#ed7953"
            ],
            [
             0.7777777777777778,
             "#fb9f3a"
            ],
            [
             0.8888888888888888,
             "#fdca26"
            ],
            [
             1,
             "#f0f921"
            ]
           ],
           "sequentialminus": [
            [
             0,
             "#0d0887"
            ],
            [
             0.1111111111111111,
             "#46039f"
            ],
            [
             0.2222222222222222,
             "#7201a8"
            ],
            [
             0.3333333333333333,
             "#9c179e"
            ],
            [
             0.4444444444444444,
             "#bd3786"
            ],
            [
             0.5555555555555556,
             "#d8576b"
            ],
            [
             0.6666666666666666,
             "#ed7953"
            ],
            [
             0.7777777777777778,
             "#fb9f3a"
            ],
            [
             0.8888888888888888,
             "#fdca26"
            ],
            [
             1,
             "#f0f921"
            ]
           ]
          },
          "colorway": [
           "#636efa",
           "#EF553B",
           "#00cc96",
           "#ab63fa",
           "#FFA15A",
           "#19d3f3",
           "#FF6692",
           "#B6E880",
           "#FF97FF",
           "#FECB52"
          ],
          "font": {
           "color": "#2a3f5f"
          },
          "geo": {
           "bgcolor": "white",
           "lakecolor": "white",
           "landcolor": "#E5ECF6",
           "showlakes": true,
           "showland": true,
           "subunitcolor": "white"
          },
          "hoverlabel": {
           "align": "left"
          },
          "hovermode": "closest",
          "mapbox": {
           "style": "light"
          },
          "paper_bgcolor": "white",
          "plot_bgcolor": "#E5ECF6",
          "polar": {
           "angularaxis": {
            "gridcolor": "white",
            "linecolor": "white",
            "ticks": ""
           },
           "bgcolor": "#E5ECF6",
           "radialaxis": {
            "gridcolor": "white",
            "linecolor": "white",
            "ticks": ""
           }
          },
          "scene": {
           "xaxis": {
            "backgroundcolor": "#E5ECF6",
            "gridcolor": "white",
            "gridwidth": 2,
            "linecolor": "white",
            "showbackground": true,
            "ticks": "",
            "zerolinecolor": "white"
           },
           "yaxis": {
            "backgroundcolor": "#E5ECF6",
            "gridcolor": "white",
            "gridwidth": 2,
            "linecolor": "white",
            "showbackground": true,
            "ticks": "",
            "zerolinecolor": "white"
           },
           "zaxis": {
            "backgroundcolor": "#E5ECF6",
            "gridcolor": "white",
            "gridwidth": 2,
            "linecolor": "white",
            "showbackground": true,
            "ticks": "",
            "zerolinecolor": "white"
           }
          },
          "shapedefaults": {
           "line": {
            "color": "#2a3f5f"
           }
          },
          "ternary": {
           "aaxis": {
            "gridcolor": "white",
            "linecolor": "white",
            "ticks": ""
           },
           "baxis": {
            "gridcolor": "white",
            "linecolor": "white",
            "ticks": ""
           },
           "bgcolor": "#E5ECF6",
           "caxis": {
            "gridcolor": "white",
            "linecolor": "white",
            "ticks": ""
           }
          },
          "title": {
           "x": 0.05
          },
          "xaxis": {
           "automargin": true,
           "gridcolor": "white",
           "linecolor": "white",
           "ticks": "",
           "title": {
            "standoff": 15
           },
           "zerolinecolor": "white",
           "zerolinewidth": 2
          },
          "yaxis": {
           "automargin": true,
           "gridcolor": "white",
           "linecolor": "white",
           "ticks": "",
           "title": {
            "standoff": 15
           },
           "zerolinecolor": "white",
           "zerolinewidth": 2
          }
         }
        },
        "title": {
         "text": "Sankey Diagram: Register vs NVIDIA score"
        },
        "width": 600
       }
      }
     },
     "metadata": {},
     "output_type": "display_data"
    }
   ],
   "source": [
    "import pandas as pd\n",
    "import plotly.graph_objects as go\n",
    "\n",
    "# Example: sample data\n",
    "# df = pd.DataFrame({\n",
    "#     'parsed_register': ['A', 'B', 'A', 'C', 'B', 'C', 'A', 'B', 'C', 'A'],\n",
    "#     'int_score': [1, 2, 2, 3, 3, 4, 1, 5, 4, 2]\n",
    "# })\n",
    "\n",
    "# Count pairs (grouped by nominal and ordinal labels)\n",
    "df['predicted_class'] = df['predicted_class'].astype(str)  # make sure it's a string for plotting\n",
    "counts = df.groupby(['parsed_register', 'predicted_class']).size().reset_index(name='count')\n",
    "\n",
    "# Get all unique labels\n",
    "all_labels = list(pd.unique(counts['parsed_register'].tolist() + counts['predicted_class'].tolist()))\n",
    "label_to_index = {label: i for i, label in enumerate(all_labels)}\n",
    "\n",
    "# Build Sankey inputs\n",
    "source_indices = counts['parsed_register'].map(label_to_index)\n",
    "target_indices = counts['predicted_class'].map(label_to_index)\n",
    "values = counts['count']\n",
    "\n",
    "# Create Sankey diagram\n",
    "fig = go.Figure(data=[go.Sankey(\n",
    "    node=dict(\n",
    "        pad=15,\n",
    "        thickness=20,\n",
    "        line=dict(color=\"black\", width=0.5),\n",
    "        label=all_labels,\n",
    "    ),\n",
    "    link=dict(\n",
    "        source=source_indices,\n",
    "        target=target_indices,\n",
    "        value=values\n",
    "    )\n",
    ")])\n",
    "\n",
    "fig.update_layout(title_text=\"Sankey Diagram: Register vs NVIDIA score\", font_size=12, width=600)\n",
    "fig.show()\n"
   ]
  },
  {
   "cell_type": "code",
   "execution_count": null,
   "id": "a107287e",
   "metadata": {},
   "outputs": [],
   "source": []
  }
 ],
 "metadata": {
  "kernelspec": {
   "display_name": "Python 3",
   "language": "python",
   "name": "python3"
  },
  "language_info": {
   "codemirror_mode": {
    "name": "ipython",
    "version": 3
   },
   "file_extension": ".py",
   "mimetype": "text/x-python",
   "name": "python",
   "nbconvert_exporter": "python",
   "pygments_lexer": "ipython3",
   "version": "3.10.10"
  }
 },
 "nbformat": 4,
 "nbformat_minor": 5
}
