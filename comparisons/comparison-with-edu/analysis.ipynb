{
 "cells": [
  {
   "cell_type": "code",
   "execution_count": 17,
   "id": "a248eb76",
   "metadata": {},
   "outputs": [],
   "source": [
    "import pandas as pd\n",
    "import numpy as np\n",
    "import os\n",
    "import ast\n",
    "import glob\n",
    "\n",
    "#explode=False\n",
    "#all_registers=False\n"
   ]
  },
  {
   "cell_type": "code",
   "execution_count": 18,
   "id": "ba16a2e5",
   "metadata": {},
   "outputs": [],
   "source": [
    "#! cat HI_with_edu.jsonl | head -n 10 > test_HI_with_edu.jsonl"
   ]
  },
  {
   "cell_type": "code",
   "execution_count": 19,
   "id": "a6e8f22f",
   "metadata": {},
   "outputs": [
    {
     "name": "stdout",
     "output_type": "stream",
     "text": [
      "reading SP_with_edu.jsonl\n",
      "reading MT_with_edu.jsonl\n",
      "reading NA_with_edu.jsonl\n",
      "reading dtp_with_edu.jsonl\n",
      "reading LY_with_edu.jsonl\n",
      "reading ID_with_edu.jsonl\n",
      "reading ne_with_edu.jsonl\n",
      "reading HI-IN_with_edu.jsonl\n",
      "reading OP_with_edu.jsonl\n",
      "reading IN_with_edu.jsonl\n",
      "reading IP_with_edu.jsonl\n",
      "reading HI_with_edu.jsonl\n"
     ]
    }
   ],
   "source": [
    "datas = []\n",
    "\n",
    "labels_all_hierarchy_with_other = {\n",
    "    \"MT\": [\"MT\"],\n",
    "    \"LY\": [\"LY\"],\n",
    "    \"SP\": [\"SP\", \"it\", \"os\"],\n",
    "    \"ID\": [\"ID\"],\n",
    "    \"NA\": [\"NA\", \"ne\", \"sr\", \"nb\", \"on\"],\n",
    "    \"HI\": [\"HI\", \"re\", \"oh\"],\n",
    "    \"IN\": [\"IN\", \"en\", \"ra\", \"dtp\", \"fi\", \"lt\", \"oi\"],\n",
    "    \"OP\": [\"OP\", \"rv\", \"ob\", \"rs\", \"av\", \"oo\"],\n",
    "    \"IP\": [\"IP\", \"ds\", \"ed\", \"oe\"],\n",
    "}\n",
    "\n",
    "final_scores = {\"MT\": 0.374349,\n",
    "    \"LY\": 0.357626,\n",
    "    \"SP\": 0.422314,\n",
    "    \"ID\": 0.430686,\n",
    "    \"NA\": 0.441469,\n",
    "    \"HI\": 0.446558,\n",
    "    \"IN\": 0.437347,\n",
    "    \"OP\":  0.446629,\n",
    "    \"IP\": 0.393026,\n",
    "    \"HI-IN\":0.464502,\n",
    "    \"ne\": 0.417933,\n",
    "    \"dtp\": 0.452347,\n",
    "    }\n",
    "\n",
    "with os.scandir(\"result\") as f:\n",
    "    for file in f:\n",
    "        filename = file.name\n",
    "        print(f\"reading {filename}\")\n",
    "        with open(\"result/\"+filename) as f:\n",
    "            data = [ast.literal_eval(line) for line in f]\n",
    "        df_ = pd.DataFrame(data)\n",
    "        df_ = df_.drop(columns=\"text\")\n",
    "        df_[\"parsed_register\"] = df_[\"register\"].map(lambda reg: [r for r in reg if r in list(labels_all_hierarchy_with_other.keys())+[\"ne\", \"dtp\"]])\n",
    "        df_[\"parsed_register\"] = df_[\"parsed_register\"].map(lambda reg: \"-\".join(reg))\n",
    "        df_[\"parsed_register\"] = df_[\"parsed_register\"].map(lambda reg: {\"NA-ne\":\"ne\", \"ne-NA\": \"ne\", \"IN-dtp\":\"dtp\", \"dtp-IN\":\"dtp\", \"IN-HI\":\"HI-IN\"}.get(reg, reg))\n",
    "        df_[\"final_score\"] = df_[\"parsed_register\"].map(lambda reg: final_scores[reg])\n",
    "        datas.append(df_)\n",
    "\n",
    "\n",
    "\n",
    "df = pd.concat(datas)"
   ]
  },
  {
   "cell_type": "code",
   "execution_count": 20,
   "id": "8476df4f",
   "metadata": {},
   "outputs": [
    {
     "data": {
      "text/html": [
       "<div>\n",
       "<style scoped>\n",
       "    .dataframe tbody tr th:only-of-type {\n",
       "        vertical-align: middle;\n",
       "    }\n",
       "\n",
       "    .dataframe tbody tr th {\n",
       "        vertical-align: top;\n",
       "    }\n",
       "\n",
       "    .dataframe thead th {\n",
       "        text-align: right;\n",
       "    }\n",
       "</style>\n",
       "<table border=\"1\" class=\"dataframe\">\n",
       "  <thead>\n",
       "    <tr style=\"text-align: right;\">\n",
       "      <th></th>\n",
       "      <th>id</th>\n",
       "      <th>register</th>\n",
       "      <th>score</th>\n",
       "      <th>int_score</th>\n",
       "      <th>parsed_register</th>\n",
       "      <th>final_score</th>\n",
       "    </tr>\n",
       "  </thead>\n",
       "  <tbody>\n",
       "    <tr>\n",
       "      <th>0</th>\n",
       "      <td>fda1d9e32ccddfeccce6736a3262335f</td>\n",
       "      <td>[SP]</td>\n",
       "      <td>1.273595</td>\n",
       "      <td>1</td>\n",
       "      <td>SP</td>\n",
       "      <td>0.422314</td>\n",
       "    </tr>\n",
       "    <tr>\n",
       "      <th>1</th>\n",
       "      <td>9048cdc5930abbbb6ed34cda3b0c0826</td>\n",
       "      <td>[SP, it]</td>\n",
       "      <td>0.589984</td>\n",
       "      <td>1</td>\n",
       "      <td>SP</td>\n",
       "      <td>0.422314</td>\n",
       "    </tr>\n",
       "    <tr>\n",
       "      <th>2</th>\n",
       "      <td>674f705c1d1298b4b0ab40e549ba8004</td>\n",
       "      <td>[SP]</td>\n",
       "      <td>0.896947</td>\n",
       "      <td>1</td>\n",
       "      <td>SP</td>\n",
       "      <td>0.422314</td>\n",
       "    </tr>\n",
       "    <tr>\n",
       "      <th>3</th>\n",
       "      <td>1c005ac1dad76eb176e683249b3b8608</td>\n",
       "      <td>[it, SP]</td>\n",
       "      <td>0.850261</td>\n",
       "      <td>1</td>\n",
       "      <td>SP</td>\n",
       "      <td>0.422314</td>\n",
       "    </tr>\n",
       "    <tr>\n",
       "      <th>4</th>\n",
       "      <td>a415a49cd41df6f395075fdfebedd023</td>\n",
       "      <td>[it, SP]</td>\n",
       "      <td>0.872051</td>\n",
       "      <td>1</td>\n",
       "      <td>SP</td>\n",
       "      <td>0.422314</td>\n",
       "    </tr>\n",
       "    <tr>\n",
       "      <th>...</th>\n",
       "      <td>...</td>\n",
       "      <td>...</td>\n",
       "      <td>...</td>\n",
       "      <td>...</td>\n",
       "      <td>...</td>\n",
       "      <td>...</td>\n",
       "    </tr>\n",
       "    <tr>\n",
       "      <th>9995</th>\n",
       "      <td>066478d3d7a4eac6801e54c75d295554</td>\n",
       "      <td>[HI]</td>\n",
       "      <td>1.878192</td>\n",
       "      <td>2</td>\n",
       "      <td>HI</td>\n",
       "      <td>0.446558</td>\n",
       "    </tr>\n",
       "    <tr>\n",
       "      <th>9996</th>\n",
       "      <td>5d3f5e0859e4e2c05f6516ea3ebcb3fa</td>\n",
       "      <td>[HI]</td>\n",
       "      <td>2.124670</td>\n",
       "      <td>2</td>\n",
       "      <td>HI</td>\n",
       "      <td>0.446558</td>\n",
       "    </tr>\n",
       "    <tr>\n",
       "      <th>9997</th>\n",
       "      <td>fc25e0a8e7ac20d2e7859e4af4292da5</td>\n",
       "      <td>[HI]</td>\n",
       "      <td>0.587276</td>\n",
       "      <td>1</td>\n",
       "      <td>HI</td>\n",
       "      <td>0.446558</td>\n",
       "    </tr>\n",
       "    <tr>\n",
       "      <th>9998</th>\n",
       "      <td>e8aca2dc1c11b193607e143a09ad81cf</td>\n",
       "      <td>[re, HI]</td>\n",
       "      <td>1.096759</td>\n",
       "      <td>1</td>\n",
       "      <td>HI</td>\n",
       "      <td>0.446558</td>\n",
       "    </tr>\n",
       "    <tr>\n",
       "      <th>9999</th>\n",
       "      <td>f31ee98a71dbc3b685bd4bbbd004bb3d</td>\n",
       "      <td>[HI]</td>\n",
       "      <td>1.777386</td>\n",
       "      <td>2</td>\n",
       "      <td>HI</td>\n",
       "      <td>0.446558</td>\n",
       "    </tr>\n",
       "  </tbody>\n",
       "</table>\n",
       "<p>120000 rows × 6 columns</p>\n",
       "</div>"
      ],
      "text/plain": [
       "                                    id  register     score  int_score  \\\n",
       "0     fda1d9e32ccddfeccce6736a3262335f      [SP]  1.273595          1   \n",
       "1     9048cdc5930abbbb6ed34cda3b0c0826  [SP, it]  0.589984          1   \n",
       "2     674f705c1d1298b4b0ab40e549ba8004      [SP]  0.896947          1   \n",
       "3     1c005ac1dad76eb176e683249b3b8608  [it, SP]  0.850261          1   \n",
       "4     a415a49cd41df6f395075fdfebedd023  [it, SP]  0.872051          1   \n",
       "...                                ...       ...       ...        ...   \n",
       "9995  066478d3d7a4eac6801e54c75d295554      [HI]  1.878192          2   \n",
       "9996  5d3f5e0859e4e2c05f6516ea3ebcb3fa      [HI]  2.124670          2   \n",
       "9997  fc25e0a8e7ac20d2e7859e4af4292da5      [HI]  0.587276          1   \n",
       "9998  e8aca2dc1c11b193607e143a09ad81cf  [re, HI]  1.096759          1   \n",
       "9999  f31ee98a71dbc3b685bd4bbbd004bb3d      [HI]  1.777386          2   \n",
       "\n",
       "     parsed_register  final_score  \n",
       "0                 SP     0.422314  \n",
       "1                 SP     0.422314  \n",
       "2                 SP     0.422314  \n",
       "3                 SP     0.422314  \n",
       "4                 SP     0.422314  \n",
       "...              ...          ...  \n",
       "9995              HI     0.446558  \n",
       "9996              HI     0.446558  \n",
       "9997              HI     0.446558  \n",
       "9998              HI     0.446558  \n",
       "9999              HI     0.446558  \n",
       "\n",
       "[120000 rows x 6 columns]"
      ]
     },
     "metadata": {},
     "output_type": "display_data"
    },
    {
     "name": "stdout",
     "output_type": "stream",
     "text": [
      "(array(['HI', 'HI-IN', 'ID', 'IN', 'IP', 'LY', 'MT', 'NA', 'OP', 'SP',\n",
      "       'dtp', 'ne'], dtype='<U5'), array([10000, 10000, 10000, 10000, 10000, 10000, 10000, 10000, 10000,\n",
      "       10000, 10000, 10000]))\n"
     ]
    }
   ],
   "source": [
    "display(df)\n",
    "print(np.unique(df[\"parsed_register\"].tolist(), return_counts=True))"
   ]
  },
  {
   "cell_type": "code",
   "execution_count": 21,
   "id": "e53622c0",
   "metadata": {},
   "outputs": [
    {
     "name": "stdout",
     "output_type": "stream",
     "text": [
      "regs:  ['HI', 'HI-IN', 'ID', 'IN', 'IP', 'LY', 'MT', 'NA', 'OP', 'SP', 'dtp', 'ne']\n",
      "gens:  [0, 1, 2, 3, 4, 5]\n",
      "range(0, 12)\n"
     ]
    }
   ],
   "source": [
    "def cooccurrence_matrix(df):\n",
    "    regs = np.unique(df[\"parsed_register\"]).tolist()\n",
    "    gens = np.unique(df[\"int_score\"]).tolist()\n",
    "    print(\"regs: \", regs)\n",
    "    print(\"gens: \", gens)\n",
    "\n",
    "    print(range(len(regs)))\n",
    "    reg2index = {k:v for k,v in zip(regs, range(len(regs)))}\n",
    "    gen2index = {k:v for k,v in zip(gens, range(len(gens)))}\n",
    "\n",
    "    m = np.zeros((len(regs), len(gens)), dtype=np.float32)\n",
    "    summa = 0\n",
    "    for i,d in df.iterrows():\n",
    "        r = d[\"parsed_register\"]\n",
    "        g = d[\"int_score\"]\n",
    "\n",
    "        m[reg2index[r],gen2index[g]] += 1\n",
    "        summa+=1\n",
    "\n",
    "    return m/summa\n",
    "\n",
    "\n",
    "m = cooccurrence_matrix(df)\n",
    "\n",
    "assert 0.999 < sum(m.sum(axis=0)) < 1.001 and 0.999 < sum(m.sum(axis=1)) < 1.001"
   ]
  },
  {
   "cell_type": "code",
   "execution_count": 22,
   "id": "4a82626b",
   "metadata": {},
   "outputs": [
    {
     "name": "stdout",
     "output_type": "stream",
     "text": [
      "0.9999999999999998\n",
      "1.0\n"
     ]
    }
   ],
   "source": [
    "print(sum(m.sum(axis=0)))\n",
    "print(sum(m.sum(axis=1)))"
   ]
  },
  {
   "cell_type": "code",
   "execution_count": 23,
   "id": "5da9cffc",
   "metadata": {},
   "outputs": [
    {
     "name": "stdout",
     "output_type": "stream",
     "text": [
      "(3.584962500721156, 1.5292790225304054, 4.920277822321098)\n",
      "0.13444539243092357\n"
     ]
    }
   ],
   "source": [
    "def entropy(m):\n",
    "    p_gen = m.sum(axis=0)\n",
    "    p_reg = m.sum(axis=1)\n",
    "\n",
    "    def _entropy_1d(v):\n",
    "        return -1*sum(v*np.log2(v))\n",
    "\n",
    "    def _entropy_2d(m):\n",
    "        ent = 0\n",
    "        for j in m:\n",
    "            for k in j:\n",
    "                if k != 0:\n",
    "                    ent += k*np.log2(k)\n",
    "        return -1*ent\n",
    "\n",
    "    ent_reg = _entropy_1d(p_reg)\n",
    "    ent_gen = _entropy_1d(p_gen)\n",
    "    ent_reg_gen = _entropy_2d(m)\n",
    "\n",
    "    return ent_reg, ent_gen, ent_reg_gen\n",
    "\n",
    "\n",
    "def mutual_info(m):\n",
    "    reg_pdf = m.sum(axis=1)\n",
    "    gen_pdf = m.sum(axis=0)\n",
    "\n",
    "    info = 0\n",
    "    for i in range(len(reg_pdf)):\n",
    "        for j in range(len(gen_pdf)):\n",
    "            if m[i,j]!= 0:\n",
    "                info += m[i,j]*np.log(m[i,j]/(reg_pdf[i]*gen_pdf[j]))\n",
    "    return info\n",
    "\n",
    "\n",
    "print(entropy(m))\n",
    "print(mutual_info(m))"
   ]
  },
  {
   "cell_type": "code",
   "execution_count": 24,
   "id": "9f620a73",
   "metadata": {},
   "outputs": [
    {
     "name": "stdout",
     "output_type": "stream",
     "text": [
      "int_score           0     1     2     3    4  5\n",
      "parsed_register                                \n",
      "HI                580  6996  2079   318   27  0\n",
      "HI-IN             942  4324  3469  1057  205  3\n",
      "ID               3537  5583   776   100    4  0\n",
      "IN               1619  4829  2479   933  137  3\n",
      "IP               5314  4499   168    17    2  0\n",
      "LY               1351  7902   731    16    0  0\n",
      "MT               5653  3962   367    17    1  0\n",
      "NA               2563  6928   465    39    5  0\n",
      "OP               1464  6241  2072   220    3  0\n",
      "SP                287  7813  1746   145    9  0\n",
      "dtp              1544  5742  1981   637   96  0\n",
      "ne                791  6639  2281   261   28  0\n",
      "0.23524780852696212\n"
     ]
    }
   ],
   "source": [
    "from scipy.stats import chi2_contingency\n",
    "\n",
    "def cramers_v(df):\n",
    "    x = df[\"parsed_register\"]\n",
    "    y = df[\"int_score\"]\n",
    "\n",
    "    confusion_matrix = pd.crosstab(x, y)\n",
    "    print(confusion_matrix)\n",
    "    chi2 = chi2_contingency(confusion_matrix)[0]\n",
    "    n = confusion_matrix.sum().sum()\n",
    "    phi2 = chi2 / n\n",
    "    r, k = confusion_matrix.shape\n",
    "    phi2corr = max(0, phi2 - ((k-1)*(r-1))/(n-1))\n",
    "    rcorr = r - ((r-1)**2)/(n-1)\n",
    "    kcorr = k - ((k-1)**2)/(n-1)\n",
    "    return np.sqrt(phi2corr / min((kcorr-1), (rcorr-1)))\n",
    "print(cramers_v(df))"
   ]
  },
  {
   "cell_type": "code",
   "execution_count": 25,
   "id": "4144c2e7",
   "metadata": {},
   "outputs": [
    {
     "name": "stdout",
     "output_type": "stream",
     "text": [
      "Defaulting to user installation because normal site-packages is not writeable\n",
      "Requirement already satisfied: statsmodels in /pfs/lustrep4/users/mynttiam/.local/lib/python3.10/site-packages (0.14.4)\n",
      "Requirement already satisfied: scipy!=1.9.2,>=1.8 in /opt/cray/pe/python/3.10.10/lib/python3.10/site-packages (from statsmodels) (1.10.0)\n",
      "Requirement already satisfied: packaging>=21.3 in /opt/cray/pe/python/3.10.10/lib/python3.10/site-packages (from statsmodels) (23.1)\n",
      "Requirement already satisfied: pandas!=2.1.0,>=1.4 in /opt/cray/pe/python/3.10.10/lib/python3.10/site-packages (from statsmodels) (1.5.3)\n",
      "Requirement already satisfied: patsy>=0.5.6 in /pfs/lustrep4/users/mynttiam/.local/lib/python3.10/site-packages (from statsmodels) (1.0.1)\n",
      "Requirement already satisfied: numpy<3,>=1.22.3 in /opt/cray/pe/python/3.10.10/lib/python3.10/site-packages (from statsmodels) (1.23.5)\n",
      "Requirement already satisfied: python-dateutil>=2.8.1 in /opt/cray/pe/python/3.10.10/lib/python3.10/site-packages (from pandas!=2.1.0,>=1.4->statsmodels) (2.8.2)\n",
      "Requirement already satisfied: pytz>=2020.1 in /opt/cray/pe/python/3.10.10/lib/python3.10/site-packages (from pandas!=2.1.0,>=1.4->statsmodels) (2023.3)\n",
      "Requirement already satisfied: six>=1.5 in /opt/cray/pe/python/3.10.10/lib/python3.10/site-packages (from python-dateutil>=2.8.1->pandas!=2.1.0,>=1.4->statsmodels) (1.16.0)\n",
      "\n",
      "\u001b[1m[\u001b[0m\u001b[34;49mnotice\u001b[0m\u001b[1;39;49m]\u001b[0m\u001b[39;49m A new release of pip available: \u001b[0m\u001b[31;49m22.3.1\u001b[0m\u001b[39;49m -> \u001b[0m\u001b[32;49m25.1.1\u001b[0m\n",
      "\u001b[1m[\u001b[0m\u001b[34;49mnotice\u001b[0m\u001b[1;39;49m]\u001b[0m\u001b[39;49m To update, run: \u001b[0m\u001b[32;49mpip install --upgrade pip\u001b[0m\n"
     ]
    }
   ],
   "source": [
    "! pip install statsmodels"
   ]
  },
  {
   "cell_type": "code",
   "execution_count": null,
   "id": "66a1abe5",
   "metadata": {},
   "outputs": [
    {
     "name": "stdout",
     "output_type": "stream",
     "text": [
      "0.18648033351588342\n"
     ]
    }
   ],
   "source": [
    "import statsmodels.api as sm\n",
    "from statsmodels.formula.api import ols\n",
    "\n",
    "# Assuming 'nominal_var' is your nominal column and 'ordinal_var' is numeric (1 to 5)\n",
    "model = ols('int_score ~ C(parsed_register)', data=df).fit()\n",
    "anova_table = sm.stats.anova_lm(model, typ=2)\n",
    "eta_squared = anova_table['sum_sq']['C(parsed_register)'] / anova_table['sum_sq'].sum()\n",
    "print(eta_squared)"
   ]
  },
  {
   "cell_type": "code",
   "execution_count": null,
   "id": "d6da9eb7",
   "metadata": {},
   "outputs": [
    {
     "name": "stdout",
     "output_type": "stream",
     "text": [
      "Defaulting to user installation because normal site-packages is not writeable\n",
      "Requirement already satisfied: scikit-learn in /pfs/lustrep4/users/mynttiam/.local/lib/python3.10/site-packages (1.6.1)\n",
      "Requirement already satisfied: numpy>=1.19.5 in /opt/cray/pe/python/3.10.10/lib/python3.10/site-packages (from scikit-learn) (1.23.5)\n",
      "Requirement already satisfied: joblib>=1.2.0 in /pfs/lustrep4/users/mynttiam/.local/lib/python3.10/site-packages (from scikit-learn) (1.5.1)\n",
      "Requirement already satisfied: scipy>=1.6.0 in /opt/cray/pe/python/3.10.10/lib/python3.10/site-packages (from scikit-learn) (1.10.0)\n",
      "Requirement already satisfied: threadpoolctl>=3.1.0 in /pfs/lustrep4/users/mynttiam/.local/lib/python3.10/site-packages (from scikit-learn) (3.6.0)\n",
      "\n",
      "\u001b[1m[\u001b[0m\u001b[34;49mnotice\u001b[0m\u001b[1;39;49m]\u001b[0m\u001b[39;49m A new release of pip available: \u001b[0m\u001b[31;49m22.3.1\u001b[0m\u001b[39;49m -> \u001b[0m\u001b[32;49m25.1.1\u001b[0m\n",
      "\u001b[1m[\u001b[0m\u001b[34;49mnotice\u001b[0m\u001b[1;39;49m]\u001b[0m\u001b[39;49m To update, run: \u001b[0m\u001b[32;49mpip install --upgrade pip\u001b[0m\n"
     ]
    }
   ],
   "source": [
    "! pip install scikit-learn"
   ]
  },
  {
   "cell_type": "code",
   "execution_count": null,
   "id": "d47deb98",
   "metadata": {},
   "outputs": [
    {
     "name": "stdout",
     "output_type": "stream",
     "text": [
      "Mutual Information between feature1 and feature2: 0.1344453924309241\n"
     ]
    }
   ],
   "source": [
    "from sklearn.feature_selection import mutual_info_classif\n",
    "from sklearn.preprocessing import LabelEncoder\n",
    "\n",
    "le = LabelEncoder()\n",
    "\n",
    "# Encode feature1\n",
    "df['feature1_encoded'] = le.fit_transform(df['parsed_register'])\n",
    "\n",
    "# Encode feature2\n",
    "df['feature2_encoded'] = le.fit_transform(df['int_score'])\n",
    "\n",
    "# Extract the encoded features\n",
    "X = df[['feature1_encoded']]\n",
    "y = df['feature2_encoded']\n",
    "\n",
    "# Calculate mutual information\n",
    "mi = mutual_info_classif(X, y, discrete_features=True)\n",
    "\n",
    "print(f'Mutual Information between feature1 and feature2: {mi[0]}')"
   ]
  },
  {
   "cell_type": "code",
   "execution_count": null,
   "id": "cba73780",
   "metadata": {},
   "outputs": [
    {
     "name": "stdout",
     "output_type": "stream",
     "text": [
      "Defaulting to user installation because normal site-packages is not writeable\n",
      "Requirement already satisfied: plotly in /pfs/lustrep4/users/mynttiam/.local/lib/python3.10/site-packages (6.1.2)\n",
      "Requirement already satisfied: packaging in /opt/cray/pe/python/3.10.10/lib/python3.10/site-packages (from plotly) (23.1)\n",
      "Requirement already satisfied: narwhals>=1.15.1 in /pfs/lustrep4/users/mynttiam/.local/lib/python3.10/site-packages (from plotly) (1.41.0)\n",
      "\n",
      "\u001b[1m[\u001b[0m\u001b[34;49mnotice\u001b[0m\u001b[1;39;49m]\u001b[0m\u001b[39;49m A new release of pip available: \u001b[0m\u001b[31;49m22.3.1\u001b[0m\u001b[39;49m -> \u001b[0m\u001b[32;49m25.1.1\u001b[0m\n",
      "\u001b[1m[\u001b[0m\u001b[34;49mnotice\u001b[0m\u001b[1;39;49m]\u001b[0m\u001b[39;49m To update, run: \u001b[0m\u001b[32;49mpip install --upgrade pip\u001b[0m\n",
      "\n",
      "\u001b[1m[\u001b[0m\u001b[34;49mnotice\u001b[0m\u001b[1;39;49m]\u001b[0m\u001b[39;49m A new release of pip available: \u001b[0m\u001b[31;49m22.3.1\u001b[0m\u001b[39;49m -> \u001b[0m\u001b[32;49m25.1.1\u001b[0m\n",
      "\u001b[1m[\u001b[0m\u001b[34;49mnotice\u001b[0m\u001b[1;39;49m]\u001b[0m\u001b[39;49m To update, run: \u001b[0m\u001b[32;49mpip install --upgrade pip\u001b[0m\n"
     ]
    }
   ],
   "source": [
    "! pip install plotly\n",
    "! pip install nbformat>=4.2.0"
   ]
  },
  {
   "cell_type": "code",
   "execution_count": null,
   "id": "b6d40875",
   "metadata": {},
   "outputs": [
    {
     "data": {
      "application/vnd.plotly.v1+json": {
       "config": {
        "plotlyServerURL": "https://plot.ly"
       },
       "data": [
        {
         "link": {
          "source": {
           "bdata": "AAAAAAABAQEBAQECAgICAgMDAwMDAwQEBAQEBQUFBQYGBgYGBwcHBwcICAgICAkJCQkJCgoKCgoLCwsLCw==",
           "dtype": "i1"
          },
          "target": {
           "bdata": "DA0ODxAMDQ4PEBEMDQ4PEAwNDg8QEQwNDg8QDA0ODwwNDg8QDA0ODxAMDQ4PEAwNDg8QDA0ODxAMDQ4PEA==",
           "dtype": "i1"
          },
          "value": {
           "bdata": "RAJUGx8IPgEbAK4D5BCNDSEEzQADANENzxUIA2QABABTBt0SrwmlA4kAAwDCFJMRqAARAAIARwXeHtsCEAAVFnoPbwERAAEAAwoQG9EBJwAFALgFYRgYCNwAAwAfAYUe0gaRAAkACAZuFr0HfQJgABcD7xnpCAUBHAA=",
           "dtype": "i2"
          }
         },
         "node": {
          "label": [
           "HI",
           "HI-IN",
           "ID",
           "IN",
           "IP",
           "LY",
           "MT",
           "NA",
           "OP",
           "SP",
           "dtp",
           "ne",
           "0",
           "1",
           "2",
           "3",
           "4",
           "5"
          ],
          "line": {
           "color": "black",
           "width": 0.5
          },
          "pad": 15,
          "thickness": 20
         },
         "type": "sankey"
        }
       ],
       "layout": {
        "font": {
         "size": 12
        },
        "template": {
         "data": {
          "bar": [
           {
            "error_x": {
             "color": "#2a3f5f"
            },
            "error_y": {
             "color": "#2a3f5f"
            },
            "marker": {
             "line": {
              "color": "#E5ECF6",
              "width": 0.5
             },
             "pattern": {
              "fillmode": "overlay",
              "size": 10,
              "solidity": 0.2
             }
            },
            "type": "bar"
           }
          ],
          "barpolar": [
           {
            "marker": {
             "line": {
              "color": "#E5ECF6",
              "width": 0.5
             },
             "pattern": {
              "fillmode": "overlay",
              "size": 10,
              "solidity": 0.2
             }
            },
            "type": "barpolar"
           }
          ],
          "carpet": [
           {
            "aaxis": {
             "endlinecolor": "#2a3f5f",
             "gridcolor": "white",
             "linecolor": "white",
             "minorgridcolor": "white",
             "startlinecolor": "#2a3f5f"
            },
            "baxis": {
             "endlinecolor": "#2a3f5f",
             "gridcolor": "white",
             "linecolor": "white",
             "minorgridcolor": "white",
             "startlinecolor": "#2a3f5f"
            },
            "type": "carpet"
           }
          ],
          "choropleth": [
           {
            "colorbar": {
             "outlinewidth": 0,
             "ticks": ""
            },
            "type": "choropleth"
           }
          ],
          "contour": [
           {
            "colorbar": {
             "outlinewidth": 0,
             "ticks": ""
            },
            "colorscale": [
             [
              0,
              "#0d0887"
             ],
             [
              0.1111111111111111,
              "#46039f"
             ],
             [
              0.2222222222222222,
              "#7201a8"
             ],
             [
              0.3333333333333333,
              "#9c179e"
             ],
             [
              0.4444444444444444,
              "#bd3786"
             ],
             [
              0.5555555555555556,
              "#d8576b"
             ],
             [
              0.6666666666666666,
              "#ed7953"
             ],
             [
              0.7777777777777778,
              "#fb9f3a"
             ],
             [
              0.8888888888888888,
              "#fdca26"
             ],
             [
              1,
              "#f0f921"
             ]
            ],
            "type": "contour"
           }
          ],
          "contourcarpet": [
           {
            "colorbar": {
             "outlinewidth": 0,
             "ticks": ""
            },
            "type": "contourcarpet"
           }
          ],
          "heatmap": [
           {
            "colorbar": {
             "outlinewidth": 0,
             "ticks": ""
            },
            "colorscale": [
             [
              0,
              "#0d0887"
             ],
             [
              0.1111111111111111,
              "#46039f"
             ],
             [
              0.2222222222222222,
              "#7201a8"
             ],
             [
              0.3333333333333333,
              "#9c179e"
             ],
             [
              0.4444444444444444,
              "#bd3786"
             ],
             [
              0.5555555555555556,
              "#d8576b"
             ],
             [
              0.6666666666666666,
              "#ed7953"
             ],
             [
              0.7777777777777778,
              "#fb9f3a"
             ],
             [
              0.8888888888888888,
              "#fdca26"
             ],
             [
              1,
              "#f0f921"
             ]
            ],
            "type": "heatmap"
           }
          ],
          "histogram": [
           {
            "marker": {
             "pattern": {
              "fillmode": "overlay",
              "size": 10,
              "solidity": 0.2
             }
            },
            "type": "histogram"
           }
          ],
          "histogram2d": [
           {
            "colorbar": {
             "outlinewidth": 0,
             "ticks": ""
            },
            "colorscale": [
             [
              0,
              "#0d0887"
             ],
             [
              0.1111111111111111,
              "#46039f"
             ],
             [
              0.2222222222222222,
              "#7201a8"
             ],
             [
              0.3333333333333333,
              "#9c179e"
             ],
             [
              0.4444444444444444,
              "#bd3786"
             ],
             [
              0.5555555555555556,
              "#d8576b"
             ],
             [
              0.6666666666666666,
              "#ed7953"
             ],
             [
              0.7777777777777778,
              "#fb9f3a"
             ],
             [
              0.8888888888888888,
              "#fdca26"
             ],
             [
              1,
              "#f0f921"
             ]
            ],
            "type": "histogram2d"
           }
          ],
          "histogram2dcontour": [
           {
            "colorbar": {
             "outlinewidth": 0,
             "ticks": ""
            },
            "colorscale": [
             [
              0,
              "#0d0887"
             ],
             [
              0.1111111111111111,
              "#46039f"
             ],
             [
              0.2222222222222222,
              "#7201a8"
             ],
             [
              0.3333333333333333,
              "#9c179e"
             ],
             [
              0.4444444444444444,
              "#bd3786"
             ],
             [
              0.5555555555555556,
              "#d8576b"
             ],
             [
              0.6666666666666666,
              "#ed7953"
             ],
             [
              0.7777777777777778,
              "#fb9f3a"
             ],
             [
              0.8888888888888888,
              "#fdca26"
             ],
             [
              1,
              "#f0f921"
             ]
            ],
            "type": "histogram2dcontour"
           }
          ],
          "mesh3d": [
           {
            "colorbar": {
             "outlinewidth": 0,
             "ticks": ""
            },
            "type": "mesh3d"
           }
          ],
          "parcoords": [
           {
            "line": {
             "colorbar": {
              "outlinewidth": 0,
              "ticks": ""
             }
            },
            "type": "parcoords"
           }
          ],
          "pie": [
           {
            "automargin": true,
            "type": "pie"
           }
          ],
          "scatter": [
           {
            "fillpattern": {
             "fillmode": "overlay",
             "size": 10,
             "solidity": 0.2
            },
            "type": "scatter"
           }
          ],
          "scatter3d": [
           {
            "line": {
             "colorbar": {
              "outlinewidth": 0,
              "ticks": ""
             }
            },
            "marker": {
             "colorbar": {
              "outlinewidth": 0,
              "ticks": ""
             }
            },
            "type": "scatter3d"
           }
          ],
          "scattercarpet": [
           {
            "marker": {
             "colorbar": {
              "outlinewidth": 0,
              "ticks": ""
             }
            },
            "type": "scattercarpet"
           }
          ],
          "scattergeo": [
           {
            "marker": {
             "colorbar": {
              "outlinewidth": 0,
              "ticks": ""
             }
            },
            "type": "scattergeo"
           }
          ],
          "scattergl": [
           {
            "marker": {
             "colorbar": {
              "outlinewidth": 0,
              "ticks": ""
             }
            },
            "type": "scattergl"
           }
          ],
          "scattermap": [
           {
            "marker": {
             "colorbar": {
              "outlinewidth": 0,
              "ticks": ""
             }
            },
            "type": "scattermap"
           }
          ],
          "scattermapbox": [
           {
            "marker": {
             "colorbar": {
              "outlinewidth": 0,
              "ticks": ""
             }
            },
            "type": "scattermapbox"
           }
          ],
          "scatterpolar": [
           {
            "marker": {
             "colorbar": {
              "outlinewidth": 0,
              "ticks": ""
             }
            },
            "type": "scatterpolar"
           }
          ],
          "scatterpolargl": [
           {
            "marker": {
             "colorbar": {
              "outlinewidth": 0,
              "ticks": ""
             }
            },
            "type": "scatterpolargl"
           }
          ],
          "scatterternary": [
           {
            "marker": {
             "colorbar": {
              "outlinewidth": 0,
              "ticks": ""
             }
            },
            "type": "scatterternary"
           }
          ],
          "surface": [
           {
            "colorbar": {
             "outlinewidth": 0,
             "ticks": ""
            },
            "colorscale": [
             [
              0,
              "#0d0887"
             ],
             [
              0.1111111111111111,
              "#46039f"
             ],
             [
              0.2222222222222222,
              "#7201a8"
             ],
             [
              0.3333333333333333,
              "#9c179e"
             ],
             [
              0.4444444444444444,
              "#bd3786"
             ],
             [
              0.5555555555555556,
              "#d8576b"
             ],
             [
              0.6666666666666666,
              "#ed7953"
             ],
             [
              0.7777777777777778,
              "#fb9f3a"
             ],
             [
              0.8888888888888888,
              "#fdca26"
             ],
             [
              1,
              "#f0f921"
             ]
            ],
            "type": "surface"
           }
          ],
          "table": [
           {
            "cells": {
             "fill": {
              "color": "#EBF0F8"
             },
             "line": {
              "color": "white"
             }
            },
            "header": {
             "fill": {
              "color": "#C8D4E3"
             },
             "line": {
              "color": "white"
             }
            },
            "type": "table"
           }
          ]
         },
         "layout": {
          "annotationdefaults": {
           "arrowcolor": "#2a3f5f",
           "arrowhead": 0,
           "arrowwidth": 1
          },
          "autotypenumbers": "strict",
          "coloraxis": {
           "colorbar": {
            "outlinewidth": 0,
            "ticks": ""
           }
          },
          "colorscale": {
           "diverging": [
            [
             0,
             "#8e0152"
            ],
            [
             0.1,
             "#c51b7d"
            ],
            [
             0.2,
             "#de77ae"
            ],
            [
             0.3,
             "#f1b6da"
            ],
            [
             0.4,
             "#fde0ef"
            ],
            [
             0.5,
             "#f7f7f7"
            ],
            [
             0.6,
             "#e6f5d0"
            ],
            [
             0.7,
             "#b8e186"
            ],
            [
             0.8,
             "#7fbc41"
            ],
            [
             0.9,
             "#4d9221"
            ],
            [
             1,
             "#276419"
            ]
           ],
           "sequential": [
            [
             0,
             "#0d0887"
            ],
            [
             0.1111111111111111,
             "#46039f"
            ],
            [
             0.2222222222222222,
             "#7201a8"
            ],
            [
             0.3333333333333333,
             "#9c179e"
            ],
            [
             0.4444444444444444,
             "#bd3786"
            ],
            [
             0.5555555555555556,
             "#d8576b"
            ],
            [
             0.6666666666666666,
             "#ed7953"
            ],
            [
             0.7777777777777778,
             "#fb9f3a"
            ],
            [
             0.8888888888888888,
             "#fdca26"
            ],
            [
             1,
             "#f0f921"
            ]
           ],
           "sequentialminus": [
            [
             0,
             "#0d0887"
            ],
            [
             0.1111111111111111,
             "#46039f"
            ],
            [
             0.2222222222222222,
             "#7201a8"
            ],
            [
             0.3333333333333333,
             "#9c179e"
            ],
            [
             0.4444444444444444,
             "#bd3786"
            ],
            [
             0.5555555555555556,
             "#d8576b"
            ],
            [
             0.6666666666666666,
             "#ed7953"
            ],
            [
             0.7777777777777778,
             "#fb9f3a"
            ],
            [
             0.8888888888888888,
             "#fdca26"
            ],
            [
             1,
             "#f0f921"
            ]
           ]
          },
          "colorway": [
           "#636efa",
           "#EF553B",
           "#00cc96",
           "#ab63fa",
           "#FFA15A",
           "#19d3f3",
           "#FF6692",
           "#B6E880",
           "#FF97FF",
           "#FECB52"
          ],
          "font": {
           "color": "#2a3f5f"
          },
          "geo": {
           "bgcolor": "white",
           "lakecolor": "white",
           "landcolor": "#E5ECF6",
           "showlakes": true,
           "showland": true,
           "subunitcolor": "white"
          },
          "hoverlabel": {
           "align": "left"
          },
          "hovermode": "closest",
          "mapbox": {
           "style": "light"
          },
          "paper_bgcolor": "white",
          "plot_bgcolor": "#E5ECF6",
          "polar": {
           "angularaxis": {
            "gridcolor": "white",
            "linecolor": "white",
            "ticks": ""
           },
           "bgcolor": "#E5ECF6",
           "radialaxis": {
            "gridcolor": "white",
            "linecolor": "white",
            "ticks": ""
           }
          },
          "scene": {
           "xaxis": {
            "backgroundcolor": "#E5ECF6",
            "gridcolor": "white",
            "gridwidth": 2,
            "linecolor": "white",
            "showbackground": true,
            "ticks": "",
            "zerolinecolor": "white"
           },
           "yaxis": {
            "backgroundcolor": "#E5ECF6",
            "gridcolor": "white",
            "gridwidth": 2,
            "linecolor": "white",
            "showbackground": true,
            "ticks": "",
            "zerolinecolor": "white"
           },
           "zaxis": {
            "backgroundcolor": "#E5ECF6",
            "gridcolor": "white",
            "gridwidth": 2,
            "linecolor": "white",
            "showbackground": true,
            "ticks": "",
            "zerolinecolor": "white"
           }
          },
          "shapedefaults": {
           "line": {
            "color": "#2a3f5f"
           }
          },
          "ternary": {
           "aaxis": {
            "gridcolor": "white",
            "linecolor": "white",
            "ticks": ""
           },
           "baxis": {
            "gridcolor": "white",
            "linecolor": "white",
            "ticks": ""
           },
           "bgcolor": "#E5ECF6",
           "caxis": {
            "gridcolor": "white",
            "linecolor": "white",
            "ticks": ""
           }
          },
          "title": {
           "x": 0.05
          },
          "xaxis": {
           "automargin": true,
           "gridcolor": "white",
           "linecolor": "white",
           "ticks": "",
           "title": {
            "standoff": 15
           },
           "zerolinecolor": "white",
           "zerolinewidth": 2
          },
          "yaxis": {
           "automargin": true,
           "gridcolor": "white",
           "linecolor": "white",
           "ticks": "",
           "title": {
            "standoff": 15
           },
           "zerolinecolor": "white",
           "zerolinewidth": 2
          }
         }
        },
        "title": {
         "text": "Sankey Diagram: Register vs EDU score"
        },
        "width": 600
       }
      }
     },
     "metadata": {},
     "output_type": "display_data"
    }
   ],
   "source": [
    "import pandas as pd\n",
    "import plotly.graph_objects as go\n",
    "\n",
    "# Example: sample data\n",
    "# df = pd.DataFrame({\n",
    "#     'parsed_register': ['A', 'B', 'A', 'C', 'B', 'C', 'A', 'B', 'C', 'A'],\n",
    "#     'int_score': [1, 2, 2, 3, 3, 4, 1, 5, 4, 2]\n",
    "# })\n",
    "\n",
    "# Count pairs (grouped by nominal and ordinal labels)\n",
    "df['int_score'] = df['int_score'].astype(str)  # make sure it's a string for plotting\n",
    "counts = df.groupby(['parsed_register', 'int_score']).size().reset_index(name='count')\n",
    "\n",
    "# Get all unique labels\n",
    "all_labels = list(pd.unique(counts['parsed_register'].tolist() + counts['int_score'].tolist()))\n",
    "label_to_index = {label: i for i, label in enumerate(all_labels)}\n",
    "\n",
    "# Build Sankey inputs\n",
    "source_indices = counts['parsed_register'].map(label_to_index)\n",
    "target_indices = counts['int_score'].map(label_to_index)\n",
    "values = counts['count']\n",
    "\n",
    "# Create Sankey diagram\n",
    "fig = go.Figure(data=[go.Sankey(\n",
    "    node=dict(\n",
    "        pad=15,\n",
    "        thickness=20,\n",
    "        line=dict(color=\"black\", width=0.5),\n",
    "        label=all_labels,\n",
    "    ),\n",
    "    link=dict(\n",
    "        source=source_indices,\n",
    "        target=target_indices,\n",
    "        value=values\n",
    "    )\n",
    ")])\n",
    "\n",
    "fig.update_layout(title_text=\"Sankey Diagram: Register vs EDU score\", font_size=12, width=600)\n",
    "fig.show()\n"
   ]
  },
  {
   "cell_type": "code",
   "execution_count": null,
   "id": "a107287e",
   "metadata": {},
   "outputs": [],
   "source": []
  }
 ],
 "metadata": {
  "kernelspec": {
   "display_name": "Python 3",
   "language": "python",
   "name": "python3"
  },
  "language_info": {
   "codemirror_mode": {
    "name": "ipython",
    "version": 3
   },
   "file_extension": ".py",
   "mimetype": "text/x-python",
   "name": "python",
   "nbconvert_exporter": "python",
   "pygments_lexer": "ipython3",
   "version": "3.10.10"
  }
 },
 "nbformat": 4,
 "nbformat_minor": 5
}
